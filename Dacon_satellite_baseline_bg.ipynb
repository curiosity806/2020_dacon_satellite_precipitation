{
  "nbformat": 4,
  "nbformat_minor": 0,
  "metadata": {
    "colab": {
      "name": "Dacon_satellite_baseline",
      "provenance": [],
      "machine_shape": "hm",
      "include_colab_link": true
    },
    "kernelspec": {
      "name": "python3",
      "display_name": "Python 3"
    },
    "accelerator": "GPU"
  },
  "cells": [
    {
      "cell_type": "markdown",
      "metadata": {
        "id": "view-in-github",
        "colab_type": "text"
      },
      "source": [
        "<a href=\"https://colab.research.google.com/github/curiosity806/2020_dacon_satellite_precipitation/blob/bogyung/Dacon_satellite_baseline_bg.ipynb\" target=\"_parent\"><img src=\"https://colab.research.google.com/assets/colab-badge.svg\" alt=\"Open In Colab\"/></a>"
      ]
    },
    {
      "cell_type": "code",
      "metadata": {
        "id": "oi-MWY4HOblX",
        "colab_type": "code",
        "outputId": "25edc3e3-be94-434e-c09a-2c8902bb6fab",
        "colab": {
          "base_uri": "https://localhost:8080/",
          "height": 125
        }
      },
      "source": [
        "from google.colab import drive\n",
        "drive.mount('/content/drive')"
      ],
      "execution_count": 1,
      "outputs": [
        {
          "output_type": "stream",
          "text": [
            "Go to this URL in a browser: https://accounts.google.com/o/oauth2/auth?client_id=947318989803-6bn6qk8qdgf4n4g3pfee6491hc0brc4i.apps.googleusercontent.com&redirect_uri=urn%3aietf%3awg%3aoauth%3a2.0%3aoob&response_type=code&scope=email%20https%3a%2f%2fwww.googleapis.com%2fauth%2fdocs.test%20https%3a%2f%2fwww.googleapis.com%2fauth%2fdrive%20https%3a%2f%2fwww.googleapis.com%2fauth%2fdrive.photos.readonly%20https%3a%2f%2fwww.googleapis.com%2fauth%2fpeopleapi.readonly\n",
            "\n",
            "Enter your authorization code:\n",
            "··········\n",
            "Mounted at /content/drive\n"
          ],
          "name": "stdout"
        }
      ]
    },
    {
      "cell_type": "code",
      "metadata": {
        "id": "h6La-zpczGzY",
        "colab_type": "code",
        "colab": {
          "base_uri": "https://localhost:8080/",
          "height": 72
        },
        "outputId": "5bd518a1-26af-4db3-d4de-cc1efd4db36f"
      },
      "source": [
        "import glob\n",
        "import pandas as pd\n",
        "import numpy as np\n",
        "import matplotlib.pylab as plt\n",
        "import seaborn as sns\n",
        "from tqdm import tqdm\n",
        "import matplotlib.pyplot as plt\n",
        "import tensorflow as tf\n",
        "import os\n",
        "import random\n",
        "from tensorflow.keras.layers import Dense, Conv2D, Dropout, Conv2DTranspose, MaxPooling2D, BatchNormalization, Activation, concatenate, Input, GlobalAveragePooling2D\n",
        "from tensorflow.keras import Model\n",
        "import warnings\n",
        "import gc\n",
        " \n",
        "warnings.filterwarnings(\"ignore\")"
      ],
      "execution_count": 2,
      "outputs": [
        {
          "output_type": "stream",
          "text": [
            "/usr/local/lib/python3.6/dist-packages/statsmodels/tools/_testing.py:19: FutureWarning: pandas.util.testing is deprecated. Use the functions in the public API at pandas.testing instead.\n",
            "  import pandas.util.testing as tm\n"
          ],
          "name": "stderr"
        }
      ]
    },
    {
      "cell_type": "code",
      "metadata": {
        "id": "ihaRksAgzLvo",
        "colab_type": "code",
        "outputId": "c62763ac-5b15-4cf0-bd62-d1318fca822e",
        "colab": {
          "base_uri": "https://localhost:8080/",
          "height": 34
        }
      },
      "source": [
        "tf.__version__"
      ],
      "execution_count": 3,
      "outputs": [
        {
          "output_type": "execute_result",
          "data": {
            "text/plain": [
              "'2.2.0-rc3'"
            ]
          },
          "metadata": {
            "tags": []
          },
          "execution_count": 3
        }
      ]
    },
    {
      "cell_type": "markdown",
      "metadata": {
        "id": "zcptj7rUpick",
        "colab_type": "text"
      },
      "source": [
        "## 데이터 불러오기"
      ]
    },
    {
      "cell_type": "code",
      "metadata": {
        "id": "uJ9oJs3QykgG",
        "colab_type": "code",
        "colab": {}
      },
      "source": [
        "# 구글 드라이브에서 데이터 파일 받아오기\n",
        "# 시각화를 위한 것이므로 우선 1개의 파트만 받아오기\n",
        "train_p0 = np.load('/content/drive/My Drive/2020 Kaggle Study/data/train/train_p0.npy')"
      ],
      "execution_count": 0,
      "outputs": []
    },
    {
      "cell_type": "code",
      "metadata": {
        "id": "IdpINZG7kfgr",
        "colab_type": "code",
        "colab": {}
      },
      "source": [
        "test = np.load('/content/drive/My Drive/2020 Kaggle Study/data/32bits_data/test_32bits.npy')"
      ],
      "execution_count": 0,
      "outputs": []
    },
    {
      "cell_type": "code",
      "metadata": {
        "id": "lWiLAoayjsim",
        "colab_type": "code",
        "colab": {}
      },
      "source": [
        "# 훈련 데이터 및 자가 test데이터 불러오기\n",
        "train = np.load('/content/drive/My Drive/2020 Kaggle Study/data/yeonung/train.npy')\n",
        "test = np.load('/content/drive/My Drive/2020 Kaggle Study/data/32bits_data/test_32bits.npy')\n",
        "# 테스트 데이터 받아오기\n",
        "test_submit = np.load('/content/drive/My Drive/2020 Kaggle Study/data/test.npy')"
      ],
      "execution_count": 0,
      "outputs": []
    },
    {
      "cell_type": "code",
      "metadata": {
        "id": "IZLyDvMkpG9J",
        "colab_type": "code",
        "outputId": "fb7ee03b-af8f-43dc-a6e2-a6dd4497ad32",
        "colab": {
          "base_uri": "https://localhost:8080/",
          "height": 34
        }
      },
      "source": [
        "train.shape"
      ],
      "execution_count": 9,
      "outputs": [
        {
          "output_type": "execute_result",
          "data": {
            "text/plain": [
              "(76345, 40, 40, 15)"
            ]
          },
          "metadata": {
            "tags": []
          },
          "execution_count": 9
        }
      ]
    },
    {
      "cell_type": "code",
      "metadata": {
        "id": "v_m8KJLfmkyk",
        "colab_type": "code",
        "outputId": "53aa1506-ea6e-4edd-d187-d773bbd0f11b",
        "colab": {
          "base_uri": "https://localhost:8080/",
          "height": 34
        }
      },
      "source": [
        "test.shape # test: 2416개, 40*40(각 픽셀에 해당하는 연속값), 14개 컬럼"
      ],
      "execution_count": 10,
      "outputs": [
        {
          "output_type": "execute_result",
          "data": {
            "text/plain": [
              "(7639, 40, 40, 15)"
            ]
          },
          "metadata": {
            "tags": []
          },
          "execution_count": 10
        }
      ]
    },
    {
      "cell_type": "code",
      "metadata": {
        "id": "47ETU2Fnpr56",
        "colab_type": "code",
        "outputId": "da31c455-495a-49e3-a6dd-a3018843d7a9",
        "colab": {
          "base_uri": "https://localhost:8080/",
          "height": 294
        }
      },
      "source": [
        "sns.countplot(test[:,:,:,9].flatten()) # 앞자리 0: Ocean, 앞자리 1: Land, 앞자리 2: Coastal, 앞자리 3: Inland Water"
      ],
      "execution_count": 12,
      "outputs": [
        {
          "output_type": "execute_result",
          "data": {
            "text/plain": [
              "<matplotlib.axes._subplots.AxesSubplot at 0x7fb37fa06cc0>"
            ]
          },
          "metadata": {
            "tags": []
          },
          "execution_count": 12
        },
        {
          "output_type": "display_data",
          "data": {
            "image/png": "[encoded data removed]",
            "text/plain": [
              "<Figure size 432x288 with 1 Axes>"
            ]
          },
          "metadata": {
            "tags": [],
            "needs_background": "light"
          }
        }
      ]
    },
    {
      "cell_type": "code",
      "metadata": {
        "id": "iUTbU6YlqSoF",
        "colab_type": "code",
        "outputId": "8bbbbcd5-4ae2-4dee-bac2-d8080399d1c6",
        "colab": {
          "base_uri": "https://localhost:8080/",
          "height": 285
        }
      },
      "source": [
        "plt.imshow(test[-7,:,:,9]) # 각 픽셀별로 육지 바다 구분"
      ],
      "execution_count": 13,
      "outputs": [
        {
          "output_type": "execute_result",
          "data": {
            "text/plain": [
              "<matplotlib.image.AxesImage at 0x7fb333b9f3c8>"
            ]
          },
          "metadata": {
            "tags": []
          },
          "execution_count": 13
        },
        {
          "output_type": "display_data",
          "data": {
            "image/png": "[encoded data removed]",
            "text/plain": [
              "<Figure size 432x288 with 1 Axes>"
            ]
          },
          "metadata": {
            "tags": [],
            "needs_background": "light"
          }
        }
      ]
    },
    {
      "cell_type": "code",
      "metadata": {
        "id": "ul0-5ebAzPiQ",
        "colab_type": "code",
        "outputId": "d9660c89-13b5-48d9-a3fd-6770f908f757",
        "colab": {
          "base_uri": "https://localhost:8080/",
          "height": 285
        }
      },
      "source": [
        "plt.imshow(train[-7,:,:,14]) # target(강수량)"
      ],
      "execution_count": 15,
      "outputs": [
        {
          "output_type": "execute_result",
          "data": {
            "text/plain": [
              "<matplotlib.image.AxesImage at 0x7fb333acba20>"
            ]
          },
          "metadata": {
            "tags": []
          },
          "execution_count": 15
        },
        {
          "output_type": "display_data",
          "data": {
            "image/png": "[encoded data removed]",
            "text/plain": [
              "<Figure size 432x288 with 1 Axes>"
            ]
          },
          "metadata": {
            "tags": [],
            "needs_background": "light"
          }
        }
      ]
    },
    {
      "cell_type": "code",
      "metadata": {
        "id": "bKjP-Uobze5P",
        "colab_type": "code",
        "colab": {}
      },
      "source": [
        "# 재생산성을 위해 시드 고정\n",
        "np.random.seed(7)\n",
        "random.seed(7)\n",
        "tf.random.set_seed(7)"
      ],
      "execution_count": 0,
      "outputs": []
    },
    {
      "cell_type": "markdown",
      "metadata": {
        "id": "xWs8jzfm8tKq",
        "colab_type": "text"
      },
      "source": [
        "# 정리 스타뜨~"
      ]
    },
    {
      "cell_type": "code",
      "metadata": {
        "id": "0cJDh4qgMLiR",
        "colab_type": "code",
        "outputId": "18360569-8123-4365-f295-b34118775ad1",
        "colab": {
          "base_uri": "https://localhost:8080/",
          "height": 282
        }
      },
      "source": [
        "sns.distplot(train[:,:,:,-1].flatten())"
      ],
      "execution_count": 17,
      "outputs": [
        {
          "output_type": "execute_result",
          "data": {
            "text/plain": [
              "<matplotlib.axes._subplots.AxesSubplot at 0x7fb333a87198>"
            ]
          },
          "metadata": {
            "tags": []
          },
          "execution_count": 17
        },
        {
          "output_type": "display_data",
          "data": {
            "image/png": "[encoded data removed]",
            "text/plain": [
              "<Figure size 432x288 with 1 Axes>"
            ]
          },
          "metadata": {
            "tags": [],
            "needs_background": "light"
          }
        }
      ]
    },
    {
      "cell_type": "code",
      "metadata": {
        "id": "wpXiGVYhPCcz",
        "colab_type": "code",
        "outputId": "f3f517a2-e5a1-471e-804e-eea8329a898e",
        "colab": {
          "base_uri": "https://localhost:8080/",
          "height": 34
        }
      },
      "source": [
        "train[:,:,:,-1].flatten().max()"
      ],
      "execution_count": 18,
      "outputs": [
        {
          "output_type": "execute_result",
          "data": {
            "text/plain": [
              "299.9978"
            ]
          },
          "metadata": {
            "tags": []
          },
          "execution_count": 18
        }
      ]
    },
    {
      "cell_type": "code",
      "metadata": {
        "id": "3Ff_vgDrPKfO",
        "colab_type": "code",
        "outputId": "f12e6289-487b-4678-96ec-fe7a686c848e",
        "colab": {
          "base_uri": "https://localhost:8080/",
          "height": 34
        }
      },
      "source": [
        "train[:,:,:,-1].flatten().min()"
      ],
      "execution_count": 19,
      "outputs": [
        {
          "output_type": "execute_result",
          "data": {
            "text/plain": [
              "-9999.9"
            ]
          },
          "metadata": {
            "tags": []
          },
          "execution_count": 19
        }
      ]
    },
    {
      "cell_type": "code",
      "metadata": {
        "id": "hVq71OJXPMpH",
        "colab_type": "code",
        "outputId": "cfd5c645-edad-4f9f-f82c-df8d2dee4e6f",
        "colab": {
          "base_uri": "https://localhost:8080/",
          "height": 34
        }
      },
      "source": [
        "# 타겟 결측치(-9999.xx) 픽셀 갯수\n",
        "sum(train[:,:,:,-1].flatten() < 0)"
      ],
      "execution_count": 20,
      "outputs": [
        {
          "output_type": "execute_result",
          "data": {
            "text/plain": [
              "543756"
            ]
          },
          "metadata": {
            "tags": []
          },
          "execution_count": 20
        }
      ]
    },
    {
      "cell_type": "code",
      "metadata": {
        "id": "pkUbGJI7QLJs",
        "colab_type": "code",
        "outputId": "ed7a02fc-868e-4ea2-bcff-024326515b27",
        "colab": {
          "base_uri": "https://localhost:8080/",
          "height": 34
        }
      },
      "source": [
        "# train 결측 비율\n",
        "543756 / train[:,:,:,-1].flatten().shape[0] * 100"
      ],
      "execution_count": 21,
      "outputs": [
        {
          "output_type": "execute_result",
          "data": {
            "text/plain": [
              "0.4451470299299234"
            ]
          },
          "metadata": {
            "tags": []
          },
          "execution_count": 21
        }
      ]
    },
    {
      "cell_type": "markdown",
      "metadata": {
        "id": "RU6Hkdzj8mZb",
        "colab_type": "text"
      },
      "source": [
        "## Missing Value 처리"
      ]
    },
    {
      "cell_type": "code",
      "metadata": {
        "id": "lPuhSLzdUje0",
        "colab_type": "code",
        "colab": {}
      },
      "source": [
        "target0 = train_p0[:,:,:,-1]\n",
        "df = pd.DataFrame(target0.reshape(15269,1600)) # train0의 target 데이터프레임"
      ],
      "execution_count": 0,
      "outputs": []
    },
    {
      "cell_type": "code",
      "metadata": {
        "id": "8LDfgGDlXN5X",
        "colab_type": "code",
        "outputId": "75e7b0d1-a155-47e1-ef61-720c5c0cdda3",
        "colab": {
          "base_uri": "https://localhost:8080/",
          "height": 932
        }
      },
      "source": [
        "null_index = []\n",
        "for i in range(len(df)):\n",
        "  if sum(df.loc[i,:] < 0) > 0:\n",
        "    null_index.append(i)\n",
        "  else:\n",
        "    pass\n",
        "null_index"
      ],
      "execution_count": 19,
      "outputs": [
        {
          "output_type": "execute_result",
          "data": {
            "text/plain": [
              "[901,\n",
              " 902,\n",
              " 903,\n",
              " 3129,\n",
              " 3130,\n",
              " 3131,\n",
              " 3132,\n",
              " 3133,\n",
              " 5944,\n",
              " 5945,\n",
              " 5946,\n",
              " 5947,\n",
              " 5948,\n",
              " 5949,\n",
              " 8101,\n",
              " 8102,\n",
              " 8103,\n",
              " 8104,\n",
              " 8105,\n",
              " 8106,\n",
              " 8177,\n",
              " 8178,\n",
              " 8179,\n",
              " 8180,\n",
              " 8181,\n",
              " 8182,\n",
              " 8183,\n",
              " 9286,\n",
              " 9287,\n",
              " 9288,\n",
              " 9289,\n",
              " 9290,\n",
              " 9291,\n",
              " 9292,\n",
              " 9787,\n",
              " 9788,\n",
              " 9789,\n",
              " 9790,\n",
              " 9791,\n",
              " 9792,\n",
              " 10442,\n",
              " 10443,\n",
              " 10444,\n",
              " 10445,\n",
              " 10446,\n",
              " 10447,\n",
              " 11102,\n",
              " 11103,\n",
              " 11104,\n",
              " 11105,\n",
              " 11106,\n",
              " 11107]"
            ]
          },
          "metadata": {
            "tags": []
          },
          "execution_count": 19
        }
      ]
    },
    {
      "cell_type": "code",
      "metadata": {
        "id": "NvSAw2XkYcz2",
        "colab_type": "code",
        "outputId": "611f5824-0b37-4977-a175-12b61429c8ca",
        "colab": {
          "base_uri": "https://localhost:8080/",
          "height": 34
        }
      },
      "source": [
        "len(null_index)"
      ],
      "execution_count": 20,
      "outputs": [
        {
          "output_type": "execute_result",
          "data": {
            "text/plain": [
              "52"
            ]
          },
          "metadata": {
            "tags": []
          },
          "execution_count": 20
        }
      ]
    },
    {
      "cell_type": "code",
      "metadata": {
        "id": "ZJCBnfRravxl",
        "colab_type": "code",
        "outputId": "cf380168-6832-4df0-a5d9-eb983bc2b748",
        "colab": {
          "base_uri": "https://localhost:8080/",
          "height": 244
        }
      },
      "source": [
        "df_null = df.loc[null_index,:]\n",
        "df_null = df_null.reset_index()\n",
        "df_null.head()"
      ],
      "execution_count": 21,
      "outputs": [
        {
          "output_type": "execute_result",
          "data": {
            "text/html": [
              "<div>\n",
              "<style scoped>\n",
              "    .dataframe tbody tr th:only-of-type {\n",
              "        vertical-align: middle;\n",
              "    }\n",
              "\n",
              "    .dataframe tbody tr th {\n",
              "        vertical-align: top;\n",
              "    }\n",
              "\n",
              "    .dataframe thead th {\n",
              "        text-align: right;\n",
              "    }\n",
              "</style>\n",
              "<table border=\"1\" class=\"dataframe\">\n",
              "  <thead>\n",
              "    <tr style=\"text-align: right;\">\n",
              "      <th></th>\n",
              "      <th>index</th>\n",
              "      <th>0</th>\n",
              "      <th>1</th>\n",
              "      <th>2</th>\n",
              "      <th>3</th>\n",
              "      <th>4</th>\n",
              "      <th>5</th>\n",
              "      <th>6</th>\n",
              "      <th>7</th>\n",
              "      <th>8</th>\n",
              "      <th>9</th>\n",
              "      <th>10</th>\n",
              "      <th>11</th>\n",
              "      <th>12</th>\n",
              "      <th>13</th>\n",
              "      <th>14</th>\n",
              "      <th>15</th>\n",
              "      <th>16</th>\n",
              "      <th>17</th>\n",
              "      <th>18</th>\n",
              "      <th>19</th>\n",
              "      <th>20</th>\n",
              "      <th>21</th>\n",
              "      <th>22</th>\n",
              "      <th>23</th>\n",
              "      <th>24</th>\n",
              "      <th>25</th>\n",
              "      <th>26</th>\n",
              "      <th>27</th>\n",
              "      <th>28</th>\n",
              "      <th>29</th>\n",
              "      <th>30</th>\n",
              "      <th>31</th>\n",
              "      <th>32</th>\n",
              "      <th>33</th>\n",
              "      <th>34</th>\n",
              "      <th>35</th>\n",
              "      <th>36</th>\n",
              "      <th>37</th>\n",
              "      <th>38</th>\n",
              "      <th>...</th>\n",
              "      <th>1560</th>\n",
              "      <th>1561</th>\n",
              "      <th>1562</th>\n",
              "      <th>1563</th>\n",
              "      <th>1564</th>\n",
              "      <th>1565</th>\n",
              "      <th>1566</th>\n",
              "      <th>1567</th>\n",
              "      <th>1568</th>\n",
              "      <th>1569</th>\n",
              "      <th>1570</th>\n",
              "      <th>1571</th>\n",
              "      <th>1572</th>\n",
              "      <th>1573</th>\n",
              "      <th>1574</th>\n",
              "      <th>1575</th>\n",
              "      <th>1576</th>\n",
              "      <th>1577</th>\n",
              "      <th>1578</th>\n",
              "      <th>1579</th>\n",
              "      <th>1580</th>\n",
              "      <th>1581</th>\n",
              "      <th>1582</th>\n",
              "      <th>1583</th>\n",
              "      <th>1584</th>\n",
              "      <th>1585</th>\n",
              "      <th>1586</th>\n",
              "      <th>1587</th>\n",
              "      <th>1588</th>\n",
              "      <th>1589</th>\n",
              "      <th>1590</th>\n",
              "      <th>1591</th>\n",
              "      <th>1592</th>\n",
              "      <th>1593</th>\n",
              "      <th>1594</th>\n",
              "      <th>1595</th>\n",
              "      <th>1596</th>\n",
              "      <th>1597</th>\n",
              "      <th>1598</th>\n",
              "      <th>1599</th>\n",
              "    </tr>\n",
              "  </thead>\n",
              "  <tbody>\n",
              "    <tr>\n",
              "      <th>0</th>\n",
              "      <td>901</td>\n",
              "      <td>0.000000</td>\n",
              "      <td>0.000000</td>\n",
              "      <td>0.000000</td>\n",
              "      <td>0.000000</td>\n",
              "      <td>0.000000</td>\n",
              "      <td>0.000000</td>\n",
              "      <td>0.000000</td>\n",
              "      <td>0.000000</td>\n",
              "      <td>0.000000</td>\n",
              "      <td>0.000000</td>\n",
              "      <td>0.000000</td>\n",
              "      <td>0.000000</td>\n",
              "      <td>0.000000</td>\n",
              "      <td>0.000000</td>\n",
              "      <td>0.000000</td>\n",
              "      <td>0.000000</td>\n",
              "      <td>0.000000</td>\n",
              "      <td>0.000000</td>\n",
              "      <td>0.000000</td>\n",
              "      <td>0.000000</td>\n",
              "      <td>0.000000</td>\n",
              "      <td>0.000000</td>\n",
              "      <td>0.000000</td>\n",
              "      <td>0.000000</td>\n",
              "      <td>0.000000</td>\n",
              "      <td>0.000000</td>\n",
              "      <td>0.000000</td>\n",
              "      <td>0.000000</td>\n",
              "      <td>0.000000</td>\n",
              "      <td>0.000000</td>\n",
              "      <td>0.000000</td>\n",
              "      <td>0.000000</td>\n",
              "      <td>0.000000</td>\n",
              "      <td>0.000000</td>\n",
              "      <td>0.000000</td>\n",
              "      <td>0.000000</td>\n",
              "      <td>0.000000</td>\n",
              "      <td>0.000000</td>\n",
              "      <td>0.000000</td>\n",
              "      <td>...</td>\n",
              "      <td>-9999.900391</td>\n",
              "      <td>-9999.900391</td>\n",
              "      <td>-9999.900391</td>\n",
              "      <td>-9999.900391</td>\n",
              "      <td>-9999.900391</td>\n",
              "      <td>-9999.900391</td>\n",
              "      <td>-9999.900391</td>\n",
              "      <td>-9999.900391</td>\n",
              "      <td>-9999.900391</td>\n",
              "      <td>-9999.900391</td>\n",
              "      <td>-9999.900391</td>\n",
              "      <td>-9999.900391</td>\n",
              "      <td>-9999.900391</td>\n",
              "      <td>-9999.900391</td>\n",
              "      <td>-9999.900391</td>\n",
              "      <td>-9999.900391</td>\n",
              "      <td>-9999.900391</td>\n",
              "      <td>-9999.900391</td>\n",
              "      <td>-9999.900391</td>\n",
              "      <td>-9999.900391</td>\n",
              "      <td>-9999.900391</td>\n",
              "      <td>-9999.900391</td>\n",
              "      <td>-9999.900391</td>\n",
              "      <td>-9999.900391</td>\n",
              "      <td>-9999.900391</td>\n",
              "      <td>-9999.900391</td>\n",
              "      <td>-9999.900391</td>\n",
              "      <td>-9999.900391</td>\n",
              "      <td>-9999.900391</td>\n",
              "      <td>-9999.900391</td>\n",
              "      <td>-9999.900391</td>\n",
              "      <td>-9999.900391</td>\n",
              "      <td>-9999.900391</td>\n",
              "      <td>-9999.900391</td>\n",
              "      <td>-9999.900391</td>\n",
              "      <td>-9999.900391</td>\n",
              "      <td>-9999.900391</td>\n",
              "      <td>-9999.900391</td>\n",
              "      <td>-9999.900391</td>\n",
              "      <td>-9999.900391</td>\n",
              "    </tr>\n",
              "    <tr>\n",
              "      <th>1</th>\n",
              "      <td>902</td>\n",
              "      <td>-9999.900391</td>\n",
              "      <td>-9999.900391</td>\n",
              "      <td>-9999.900391</td>\n",
              "      <td>-9999.900391</td>\n",
              "      <td>-9999.900391</td>\n",
              "      <td>-9999.900391</td>\n",
              "      <td>-9999.900391</td>\n",
              "      <td>-9999.900391</td>\n",
              "      <td>-9999.900391</td>\n",
              "      <td>-9999.900391</td>\n",
              "      <td>-9999.900391</td>\n",
              "      <td>-9999.900391</td>\n",
              "      <td>-9999.900391</td>\n",
              "      <td>-9999.900391</td>\n",
              "      <td>-9999.900391</td>\n",
              "      <td>-9999.900391</td>\n",
              "      <td>-9999.900391</td>\n",
              "      <td>-9999.900391</td>\n",
              "      <td>-9999.900391</td>\n",
              "      <td>-9999.900391</td>\n",
              "      <td>-9999.900391</td>\n",
              "      <td>-9999.900391</td>\n",
              "      <td>-9999.900391</td>\n",
              "      <td>-9999.900391</td>\n",
              "      <td>-9999.900391</td>\n",
              "      <td>-9999.900391</td>\n",
              "      <td>-9999.900391</td>\n",
              "      <td>-9999.900391</td>\n",
              "      <td>-9999.900391</td>\n",
              "      <td>-9999.900391</td>\n",
              "      <td>-9999.900391</td>\n",
              "      <td>-9999.900391</td>\n",
              "      <td>-9999.900391</td>\n",
              "      <td>-9999.900391</td>\n",
              "      <td>-9999.900391</td>\n",
              "      <td>-9999.900391</td>\n",
              "      <td>-9999.900391</td>\n",
              "      <td>-9999.900391</td>\n",
              "      <td>-9999.900391</td>\n",
              "      <td>...</td>\n",
              "      <td>-9999.900391</td>\n",
              "      <td>-9999.900391</td>\n",
              "      <td>-9999.900391</td>\n",
              "      <td>-9999.900391</td>\n",
              "      <td>-9999.900391</td>\n",
              "      <td>-9999.900391</td>\n",
              "      <td>-9999.900391</td>\n",
              "      <td>-9999.900391</td>\n",
              "      <td>-9999.900391</td>\n",
              "      <td>-9999.900391</td>\n",
              "      <td>-9999.900391</td>\n",
              "      <td>-9999.900391</td>\n",
              "      <td>-9999.900391</td>\n",
              "      <td>-9999.900391</td>\n",
              "      <td>-9999.900391</td>\n",
              "      <td>-9999.900391</td>\n",
              "      <td>-9999.900391</td>\n",
              "      <td>-9999.900391</td>\n",
              "      <td>-9999.900391</td>\n",
              "      <td>-9999.900391</td>\n",
              "      <td>-9999.900391</td>\n",
              "      <td>-9999.900391</td>\n",
              "      <td>-9999.900391</td>\n",
              "      <td>-9999.900391</td>\n",
              "      <td>-9999.900391</td>\n",
              "      <td>-9999.900391</td>\n",
              "      <td>-9999.900391</td>\n",
              "      <td>-9999.900391</td>\n",
              "      <td>-9999.900391</td>\n",
              "      <td>-9999.900391</td>\n",
              "      <td>-9999.900391</td>\n",
              "      <td>-9999.900391</td>\n",
              "      <td>-9999.900391</td>\n",
              "      <td>-9999.900391</td>\n",
              "      <td>-9999.900391</td>\n",
              "      <td>-9999.900391</td>\n",
              "      <td>-9999.900391</td>\n",
              "      <td>-9999.900391</td>\n",
              "      <td>-9999.900391</td>\n",
              "      <td>-9999.900391</td>\n",
              "    </tr>\n",
              "    <tr>\n",
              "      <th>2</th>\n",
              "      <td>903</td>\n",
              "      <td>-9999.900391</td>\n",
              "      <td>-9999.900391</td>\n",
              "      <td>-9999.900391</td>\n",
              "      <td>-9999.900391</td>\n",
              "      <td>-9999.900391</td>\n",
              "      <td>-9999.900391</td>\n",
              "      <td>-9999.900391</td>\n",
              "      <td>-9999.900391</td>\n",
              "      <td>-9999.900391</td>\n",
              "      <td>-9999.900391</td>\n",
              "      <td>-9999.900391</td>\n",
              "      <td>-9999.900391</td>\n",
              "      <td>-9999.900391</td>\n",
              "      <td>-9999.900391</td>\n",
              "      <td>-9999.900391</td>\n",
              "      <td>-9999.900391</td>\n",
              "      <td>-9999.900391</td>\n",
              "      <td>-9999.900391</td>\n",
              "      <td>-9999.900391</td>\n",
              "      <td>-9999.900391</td>\n",
              "      <td>-9999.900391</td>\n",
              "      <td>-9999.900391</td>\n",
              "      <td>-9999.900391</td>\n",
              "      <td>-9999.900391</td>\n",
              "      <td>-9999.900391</td>\n",
              "      <td>-9999.900391</td>\n",
              "      <td>-9999.900391</td>\n",
              "      <td>-9999.900391</td>\n",
              "      <td>-9999.900391</td>\n",
              "      <td>-9999.900391</td>\n",
              "      <td>-9999.900391</td>\n",
              "      <td>-9999.900391</td>\n",
              "      <td>-9999.900391</td>\n",
              "      <td>-9999.900391</td>\n",
              "      <td>-9999.900391</td>\n",
              "      <td>-9999.900391</td>\n",
              "      <td>-9999.900391</td>\n",
              "      <td>-9999.900391</td>\n",
              "      <td>-9999.900391</td>\n",
              "      <td>...</td>\n",
              "      <td>0.000000</td>\n",
              "      <td>0.000000</td>\n",
              "      <td>0.000000</td>\n",
              "      <td>0.000000</td>\n",
              "      <td>0.000000</td>\n",
              "      <td>0.000000</td>\n",
              "      <td>0.000000</td>\n",
              "      <td>0.000000</td>\n",
              "      <td>0.000000</td>\n",
              "      <td>0.000000</td>\n",
              "      <td>0.000000</td>\n",
              "      <td>0.000000</td>\n",
              "      <td>0.000000</td>\n",
              "      <td>0.000000</td>\n",
              "      <td>0.000000</td>\n",
              "      <td>0.000000</td>\n",
              "      <td>0.000000</td>\n",
              "      <td>0.000000</td>\n",
              "      <td>0.000000</td>\n",
              "      <td>0.000000</td>\n",
              "      <td>0.000000</td>\n",
              "      <td>0.000000</td>\n",
              "      <td>0.000000</td>\n",
              "      <td>0.000000</td>\n",
              "      <td>0.000000</td>\n",
              "      <td>0.000000</td>\n",
              "      <td>0.000000</td>\n",
              "      <td>0.000000</td>\n",
              "      <td>0.000000</td>\n",
              "      <td>0.000000</td>\n",
              "      <td>0.000000</td>\n",
              "      <td>0.000000</td>\n",
              "      <td>0.000000</td>\n",
              "      <td>0.000000</td>\n",
              "      <td>0.000000</td>\n",
              "      <td>0.000000</td>\n",
              "      <td>0.000000</td>\n",
              "      <td>0.000000</td>\n",
              "      <td>0.000000</td>\n",
              "      <td>0.000000</td>\n",
              "    </tr>\n",
              "    <tr>\n",
              "      <th>3</th>\n",
              "      <td>3129</td>\n",
              "      <td>-9999.900391</td>\n",
              "      <td>-9999.900391</td>\n",
              "      <td>-9999.900391</td>\n",
              "      <td>-9999.900391</td>\n",
              "      <td>-9999.900391</td>\n",
              "      <td>-9999.900391</td>\n",
              "      <td>-9999.900391</td>\n",
              "      <td>-9999.900391</td>\n",
              "      <td>-9999.900391</td>\n",
              "      <td>-9999.900391</td>\n",
              "      <td>-9999.900391</td>\n",
              "      <td>-9999.900391</td>\n",
              "      <td>-9999.900391</td>\n",
              "      <td>-9999.900391</td>\n",
              "      <td>-9999.900391</td>\n",
              "      <td>-9999.900391</td>\n",
              "      <td>-9999.900391</td>\n",
              "      <td>-9999.900391</td>\n",
              "      <td>-9999.900391</td>\n",
              "      <td>-9999.900391</td>\n",
              "      <td>-9999.900391</td>\n",
              "      <td>-9999.900391</td>\n",
              "      <td>-9999.900391</td>\n",
              "      <td>-9999.900391</td>\n",
              "      <td>-9999.900391</td>\n",
              "      <td>-9999.900391</td>\n",
              "      <td>-9999.900391</td>\n",
              "      <td>-9999.900391</td>\n",
              "      <td>-9999.900391</td>\n",
              "      <td>-9999.900391</td>\n",
              "      <td>-9999.900391</td>\n",
              "      <td>-9999.900391</td>\n",
              "      <td>-9999.900391</td>\n",
              "      <td>-9999.900391</td>\n",
              "      <td>-9999.900391</td>\n",
              "      <td>-9999.900391</td>\n",
              "      <td>-9999.900391</td>\n",
              "      <td>-9999.900391</td>\n",
              "      <td>-9999.900391</td>\n",
              "      <td>...</td>\n",
              "      <td>-9999.900391</td>\n",
              "      <td>-9999.900391</td>\n",
              "      <td>-9999.900391</td>\n",
              "      <td>-9999.900391</td>\n",
              "      <td>-9999.900391</td>\n",
              "      <td>-9999.900391</td>\n",
              "      <td>-9999.900391</td>\n",
              "      <td>-9999.900391</td>\n",
              "      <td>-9999.900391</td>\n",
              "      <td>-9999.900391</td>\n",
              "      <td>-9999.900391</td>\n",
              "      <td>-9999.900391</td>\n",
              "      <td>-9999.900391</td>\n",
              "      <td>-9999.900391</td>\n",
              "      <td>-9999.900391</td>\n",
              "      <td>-9999.900391</td>\n",
              "      <td>-9999.900391</td>\n",
              "      <td>-9999.900391</td>\n",
              "      <td>-9999.900391</td>\n",
              "      <td>-9999.900391</td>\n",
              "      <td>-9999.900391</td>\n",
              "      <td>-9999.900391</td>\n",
              "      <td>-9999.900391</td>\n",
              "      <td>-9999.900391</td>\n",
              "      <td>-9999.900391</td>\n",
              "      <td>-9999.900391</td>\n",
              "      <td>-9999.900391</td>\n",
              "      <td>-9999.900391</td>\n",
              "      <td>-9999.900391</td>\n",
              "      <td>-9999.900391</td>\n",
              "      <td>-9999.900391</td>\n",
              "      <td>-9999.900391</td>\n",
              "      <td>-9999.900391</td>\n",
              "      <td>-9999.900391</td>\n",
              "      <td>-9999.900391</td>\n",
              "      <td>-9999.900391</td>\n",
              "      <td>-9999.900391</td>\n",
              "      <td>-9999.900391</td>\n",
              "      <td>-9999.900391</td>\n",
              "      <td>-9999.900391</td>\n",
              "    </tr>\n",
              "    <tr>\n",
              "      <th>4</th>\n",
              "      <td>3130</td>\n",
              "      <td>-9999.900391</td>\n",
              "      <td>-9999.900391</td>\n",
              "      <td>-9999.900391</td>\n",
              "      <td>-9999.900391</td>\n",
              "      <td>-9999.900391</td>\n",
              "      <td>-9999.900391</td>\n",
              "      <td>-9999.900391</td>\n",
              "      <td>-9999.900391</td>\n",
              "      <td>-9999.900391</td>\n",
              "      <td>-9999.900391</td>\n",
              "      <td>-9999.900391</td>\n",
              "      <td>-9999.900391</td>\n",
              "      <td>-9999.900391</td>\n",
              "      <td>-9999.900391</td>\n",
              "      <td>-9999.900391</td>\n",
              "      <td>-9999.900391</td>\n",
              "      <td>-9999.900391</td>\n",
              "      <td>-9999.900391</td>\n",
              "      <td>-9999.900391</td>\n",
              "      <td>-9999.900391</td>\n",
              "      <td>-9999.900391</td>\n",
              "      <td>-9999.900391</td>\n",
              "      <td>-9999.900391</td>\n",
              "      <td>-9999.900391</td>\n",
              "      <td>-9999.900391</td>\n",
              "      <td>-9999.900391</td>\n",
              "      <td>-9999.900391</td>\n",
              "      <td>-9999.900391</td>\n",
              "      <td>-9999.900391</td>\n",
              "      <td>-9999.900391</td>\n",
              "      <td>-9999.900391</td>\n",
              "      <td>-9999.900391</td>\n",
              "      <td>-9999.900391</td>\n",
              "      <td>-9999.900391</td>\n",
              "      <td>-9999.900391</td>\n",
              "      <td>-9999.900391</td>\n",
              "      <td>-9999.900391</td>\n",
              "      <td>-9999.900391</td>\n",
              "      <td>-9999.900391</td>\n",
              "      <td>...</td>\n",
              "      <td>-9999.900391</td>\n",
              "      <td>-9999.900391</td>\n",
              "      <td>-9999.900391</td>\n",
              "      <td>-9999.900391</td>\n",
              "      <td>-9999.900391</td>\n",
              "      <td>-9999.900391</td>\n",
              "      <td>-9999.900391</td>\n",
              "      <td>-9999.900391</td>\n",
              "      <td>-9999.900391</td>\n",
              "      <td>-9999.900391</td>\n",
              "      <td>-9999.900391</td>\n",
              "      <td>-9999.900391</td>\n",
              "      <td>-9999.900391</td>\n",
              "      <td>-9999.900391</td>\n",
              "      <td>-9999.900391</td>\n",
              "      <td>-9999.900391</td>\n",
              "      <td>-9999.900391</td>\n",
              "      <td>-9999.900391</td>\n",
              "      <td>-9999.900391</td>\n",
              "      <td>-9999.900391</td>\n",
              "      <td>-9999.900391</td>\n",
              "      <td>-9999.900391</td>\n",
              "      <td>-9999.900391</td>\n",
              "      <td>-9999.900391</td>\n",
              "      <td>-9999.900391</td>\n",
              "      <td>-9999.900391</td>\n",
              "      <td>-9999.900391</td>\n",
              "      <td>-9999.900391</td>\n",
              "      <td>-9999.900391</td>\n",
              "      <td>-9999.900391</td>\n",
              "      <td>-9999.900391</td>\n",
              "      <td>-9999.900391</td>\n",
              "      <td>-9999.900391</td>\n",
              "      <td>-9999.900391</td>\n",
              "      <td>-9999.900391</td>\n",
              "      <td>-9999.900391</td>\n",
              "      <td>-9999.900391</td>\n",
              "      <td>-9999.900391</td>\n",
              "      <td>-9999.900391</td>\n",
              "      <td>-9999.900391</td>\n",
              "    </tr>\n",
              "  </tbody>\n",
              "</table>\n",
              "<p>5 rows × 1601 columns</p>\n",
              "</div>"
            ],
            "text/plain": [
              "   index            0            1  ...         1597         1598         1599\n",
              "0    901     0.000000     0.000000  ... -9999.900391 -9999.900391 -9999.900391\n",
              "1    902 -9999.900391 -9999.900391  ... -9999.900391 -9999.900391 -9999.900391\n",
              "2    903 -9999.900391 -9999.900391  ...     0.000000     0.000000     0.000000\n",
              "3   3129 -9999.900391 -9999.900391  ... -9999.900391 -9999.900391 -9999.900391\n",
              "4   3130 -9999.900391 -9999.900391  ... -9999.900391 -9999.900391 -9999.900391\n",
              "\n",
              "[5 rows x 1601 columns]"
            ]
          },
          "metadata": {
            "tags": []
          },
          "execution_count": 21
        }
      ]
    },
    {
      "cell_type": "code",
      "metadata": {
        "id": "MhiWKtjlWoa7",
        "colab_type": "code",
        "outputId": "cdb08a2a-406c-446e-8896-03f586b24476",
        "colab": {
          "base_uri": "https://localhost:8080/",
          "height": 244
        }
      },
      "source": [
        "df[df.sum(axis=1) < 0].head() # 행 단위로 sum이 음수면 결측값이 포함된 것과 같다 (위의 null_index랑 동일함)"
      ],
      "execution_count": 22,
      "outputs": [
        {
          "output_type": "execute_result",
          "data": {
            "text/html": [
              "<div>\n",
              "<style scoped>\n",
              "    .dataframe tbody tr th:only-of-type {\n",
              "        vertical-align: middle;\n",
              "    }\n",
              "\n",
              "    .dataframe tbody tr th {\n",
              "        vertical-align: top;\n",
              "    }\n",
              "\n",
              "    .dataframe thead th {\n",
              "        text-align: right;\n",
              "    }\n",
              "</style>\n",
              "<table border=\"1\" class=\"dataframe\">\n",
              "  <thead>\n",
              "    <tr style=\"text-align: right;\">\n",
              "      <th></th>\n",
              "      <th>0</th>\n",
              "      <th>1</th>\n",
              "      <th>2</th>\n",
              "      <th>3</th>\n",
              "      <th>4</th>\n",
              "      <th>5</th>\n",
              "      <th>6</th>\n",
              "      <th>7</th>\n",
              "      <th>8</th>\n",
              "      <th>9</th>\n",
              "      <th>10</th>\n",
              "      <th>11</th>\n",
              "      <th>12</th>\n",
              "      <th>13</th>\n",
              "      <th>14</th>\n",
              "      <th>15</th>\n",
              "      <th>16</th>\n",
              "      <th>17</th>\n",
              "      <th>18</th>\n",
              "      <th>19</th>\n",
              "      <th>20</th>\n",
              "      <th>21</th>\n",
              "      <th>22</th>\n",
              "      <th>23</th>\n",
              "      <th>24</th>\n",
              "      <th>25</th>\n",
              "      <th>26</th>\n",
              "      <th>27</th>\n",
              "      <th>28</th>\n",
              "      <th>29</th>\n",
              "      <th>30</th>\n",
              "      <th>31</th>\n",
              "      <th>32</th>\n",
              "      <th>33</th>\n",
              "      <th>34</th>\n",
              "      <th>35</th>\n",
              "      <th>36</th>\n",
              "      <th>37</th>\n",
              "      <th>38</th>\n",
              "      <th>39</th>\n",
              "      <th>...</th>\n",
              "      <th>1560</th>\n",
              "      <th>1561</th>\n",
              "      <th>1562</th>\n",
              "      <th>1563</th>\n",
              "      <th>1564</th>\n",
              "      <th>1565</th>\n",
              "      <th>1566</th>\n",
              "      <th>1567</th>\n",
              "      <th>1568</th>\n",
              "      <th>1569</th>\n",
              "      <th>1570</th>\n",
              "      <th>1571</th>\n",
              "      <th>1572</th>\n",
              "      <th>1573</th>\n",
              "      <th>1574</th>\n",
              "      <th>1575</th>\n",
              "      <th>1576</th>\n",
              "      <th>1577</th>\n",
              "      <th>1578</th>\n",
              "      <th>1579</th>\n",
              "      <th>1580</th>\n",
              "      <th>1581</th>\n",
              "      <th>1582</th>\n",
              "      <th>1583</th>\n",
              "      <th>1584</th>\n",
              "      <th>1585</th>\n",
              "      <th>1586</th>\n",
              "      <th>1587</th>\n",
              "      <th>1588</th>\n",
              "      <th>1589</th>\n",
              "      <th>1590</th>\n",
              "      <th>1591</th>\n",
              "      <th>1592</th>\n",
              "      <th>1593</th>\n",
              "      <th>1594</th>\n",
              "      <th>1595</th>\n",
              "      <th>1596</th>\n",
              "      <th>1597</th>\n",
              "      <th>1598</th>\n",
              "      <th>1599</th>\n",
              "    </tr>\n",
              "  </thead>\n",
              "  <tbody>\n",
              "    <tr>\n",
              "      <th>901</th>\n",
              "      <td>0.000000</td>\n",
              "      <td>0.000000</td>\n",
              "      <td>0.000000</td>\n",
              "      <td>0.000000</td>\n",
              "      <td>0.000000</td>\n",
              "      <td>0.000000</td>\n",
              "      <td>0.000000</td>\n",
              "      <td>0.000000</td>\n",
              "      <td>0.000000</td>\n",
              "      <td>0.000000</td>\n",
              "      <td>0.000000</td>\n",
              "      <td>0.000000</td>\n",
              "      <td>0.000000</td>\n",
              "      <td>0.000000</td>\n",
              "      <td>0.000000</td>\n",
              "      <td>0.000000</td>\n",
              "      <td>0.000000</td>\n",
              "      <td>0.000000</td>\n",
              "      <td>0.000000</td>\n",
              "      <td>0.000000</td>\n",
              "      <td>0.000000</td>\n",
              "      <td>0.000000</td>\n",
              "      <td>0.000000</td>\n",
              "      <td>0.000000</td>\n",
              "      <td>0.000000</td>\n",
              "      <td>0.000000</td>\n",
              "      <td>0.000000</td>\n",
              "      <td>0.000000</td>\n",
              "      <td>0.000000</td>\n",
              "      <td>0.000000</td>\n",
              "      <td>0.000000</td>\n",
              "      <td>0.000000</td>\n",
              "      <td>0.000000</td>\n",
              "      <td>0.000000</td>\n",
              "      <td>0.000000</td>\n",
              "      <td>0.000000</td>\n",
              "      <td>0.000000</td>\n",
              "      <td>0.000000</td>\n",
              "      <td>0.000000</td>\n",
              "      <td>0.000000</td>\n",
              "      <td>...</td>\n",
              "      <td>-9999.900391</td>\n",
              "      <td>-9999.900391</td>\n",
              "      <td>-9999.900391</td>\n",
              "      <td>-9999.900391</td>\n",
              "      <td>-9999.900391</td>\n",
              "      <td>-9999.900391</td>\n",
              "      <td>-9999.900391</td>\n",
              "      <td>-9999.900391</td>\n",
              "      <td>-9999.900391</td>\n",
              "      <td>-9999.900391</td>\n",
              "      <td>-9999.900391</td>\n",
              "      <td>-9999.900391</td>\n",
              "      <td>-9999.900391</td>\n",
              "      <td>-9999.900391</td>\n",
              "      <td>-9999.900391</td>\n",
              "      <td>-9999.900391</td>\n",
              "      <td>-9999.900391</td>\n",
              "      <td>-9999.900391</td>\n",
              "      <td>-9999.900391</td>\n",
              "      <td>-9999.900391</td>\n",
              "      <td>-9999.900391</td>\n",
              "      <td>-9999.900391</td>\n",
              "      <td>-9999.900391</td>\n",
              "      <td>-9999.900391</td>\n",
              "      <td>-9999.900391</td>\n",
              "      <td>-9999.900391</td>\n",
              "      <td>-9999.900391</td>\n",
              "      <td>-9999.900391</td>\n",
              "      <td>-9999.900391</td>\n",
              "      <td>-9999.900391</td>\n",
              "      <td>-9999.900391</td>\n",
              "      <td>-9999.900391</td>\n",
              "      <td>-9999.900391</td>\n",
              "      <td>-9999.900391</td>\n",
              "      <td>-9999.900391</td>\n",
              "      <td>-9999.900391</td>\n",
              "      <td>-9999.900391</td>\n",
              "      <td>-9999.900391</td>\n",
              "      <td>-9999.900391</td>\n",
              "      <td>-9999.900391</td>\n",
              "    </tr>\n",
              "    <tr>\n",
              "      <th>902</th>\n",
              "      <td>-9999.900391</td>\n",
              "      <td>-9999.900391</td>\n",
              "      <td>-9999.900391</td>\n",
              "      <td>-9999.900391</td>\n",
              "      <td>-9999.900391</td>\n",
              "      <td>-9999.900391</td>\n",
              "      <td>-9999.900391</td>\n",
              "      <td>-9999.900391</td>\n",
              "      <td>-9999.900391</td>\n",
              "      <td>-9999.900391</td>\n",
              "      <td>-9999.900391</td>\n",
              "      <td>-9999.900391</td>\n",
              "      <td>-9999.900391</td>\n",
              "      <td>-9999.900391</td>\n",
              "      <td>-9999.900391</td>\n",
              "      <td>-9999.900391</td>\n",
              "      <td>-9999.900391</td>\n",
              "      <td>-9999.900391</td>\n",
              "      <td>-9999.900391</td>\n",
              "      <td>-9999.900391</td>\n",
              "      <td>-9999.900391</td>\n",
              "      <td>-9999.900391</td>\n",
              "      <td>-9999.900391</td>\n",
              "      <td>-9999.900391</td>\n",
              "      <td>-9999.900391</td>\n",
              "      <td>-9999.900391</td>\n",
              "      <td>-9999.900391</td>\n",
              "      <td>-9999.900391</td>\n",
              "      <td>-9999.900391</td>\n",
              "      <td>-9999.900391</td>\n",
              "      <td>-9999.900391</td>\n",
              "      <td>-9999.900391</td>\n",
              "      <td>-9999.900391</td>\n",
              "      <td>-9999.900391</td>\n",
              "      <td>-9999.900391</td>\n",
              "      <td>-9999.900391</td>\n",
              "      <td>-9999.900391</td>\n",
              "      <td>-9999.900391</td>\n",
              "      <td>-9999.900391</td>\n",
              "      <td>-9999.900391</td>\n",
              "      <td>...</td>\n",
              "      <td>-9999.900391</td>\n",
              "      <td>-9999.900391</td>\n",
              "      <td>-9999.900391</td>\n",
              "      <td>-9999.900391</td>\n",
              "      <td>-9999.900391</td>\n",
              "      <td>-9999.900391</td>\n",
              "      <td>-9999.900391</td>\n",
              "      <td>-9999.900391</td>\n",
              "      <td>-9999.900391</td>\n",
              "      <td>-9999.900391</td>\n",
              "      <td>-9999.900391</td>\n",
              "      <td>-9999.900391</td>\n",
              "      <td>-9999.900391</td>\n",
              "      <td>-9999.900391</td>\n",
              "      <td>-9999.900391</td>\n",
              "      <td>-9999.900391</td>\n",
              "      <td>-9999.900391</td>\n",
              "      <td>-9999.900391</td>\n",
              "      <td>-9999.900391</td>\n",
              "      <td>-9999.900391</td>\n",
              "      <td>-9999.900391</td>\n",
              "      <td>-9999.900391</td>\n",
              "      <td>-9999.900391</td>\n",
              "      <td>-9999.900391</td>\n",
              "      <td>-9999.900391</td>\n",
              "      <td>-9999.900391</td>\n",
              "      <td>-9999.900391</td>\n",
              "      <td>-9999.900391</td>\n",
              "      <td>-9999.900391</td>\n",
              "      <td>-9999.900391</td>\n",
              "      <td>-9999.900391</td>\n",
              "      <td>-9999.900391</td>\n",
              "      <td>-9999.900391</td>\n",
              "      <td>-9999.900391</td>\n",
              "      <td>-9999.900391</td>\n",
              "      <td>-9999.900391</td>\n",
              "      <td>-9999.900391</td>\n",
              "      <td>-9999.900391</td>\n",
              "      <td>-9999.900391</td>\n",
              "      <td>-9999.900391</td>\n",
              "    </tr>\n",
              "    <tr>\n",
              "      <th>903</th>\n",
              "      <td>-9999.900391</td>\n",
              "      <td>-9999.900391</td>\n",
              "      <td>-9999.900391</td>\n",
              "      <td>-9999.900391</td>\n",
              "      <td>-9999.900391</td>\n",
              "      <td>-9999.900391</td>\n",
              "      <td>-9999.900391</td>\n",
              "      <td>-9999.900391</td>\n",
              "      <td>-9999.900391</td>\n",
              "      <td>-9999.900391</td>\n",
              "      <td>-9999.900391</td>\n",
              "      <td>-9999.900391</td>\n",
              "      <td>-9999.900391</td>\n",
              "      <td>-9999.900391</td>\n",
              "      <td>-9999.900391</td>\n",
              "      <td>-9999.900391</td>\n",
              "      <td>-9999.900391</td>\n",
              "      <td>-9999.900391</td>\n",
              "      <td>-9999.900391</td>\n",
              "      <td>-9999.900391</td>\n",
              "      <td>-9999.900391</td>\n",
              "      <td>-9999.900391</td>\n",
              "      <td>-9999.900391</td>\n",
              "      <td>-9999.900391</td>\n",
              "      <td>-9999.900391</td>\n",
              "      <td>-9999.900391</td>\n",
              "      <td>-9999.900391</td>\n",
              "      <td>-9999.900391</td>\n",
              "      <td>-9999.900391</td>\n",
              "      <td>-9999.900391</td>\n",
              "      <td>-9999.900391</td>\n",
              "      <td>-9999.900391</td>\n",
              "      <td>-9999.900391</td>\n",
              "      <td>-9999.900391</td>\n",
              "      <td>-9999.900391</td>\n",
              "      <td>-9999.900391</td>\n",
              "      <td>-9999.900391</td>\n",
              "      <td>-9999.900391</td>\n",
              "      <td>-9999.900391</td>\n",
              "      <td>-9999.900391</td>\n",
              "      <td>...</td>\n",
              "      <td>0.000000</td>\n",
              "      <td>0.000000</td>\n",
              "      <td>0.000000</td>\n",
              "      <td>0.000000</td>\n",
              "      <td>0.000000</td>\n",
              "      <td>0.000000</td>\n",
              "      <td>0.000000</td>\n",
              "      <td>0.000000</td>\n",
              "      <td>0.000000</td>\n",
              "      <td>0.000000</td>\n",
              "      <td>0.000000</td>\n",
              "      <td>0.000000</td>\n",
              "      <td>0.000000</td>\n",
              "      <td>0.000000</td>\n",
              "      <td>0.000000</td>\n",
              "      <td>0.000000</td>\n",
              "      <td>0.000000</td>\n",
              "      <td>0.000000</td>\n",
              "      <td>0.000000</td>\n",
              "      <td>0.000000</td>\n",
              "      <td>0.000000</td>\n",
              "      <td>0.000000</td>\n",
              "      <td>0.000000</td>\n",
              "      <td>0.000000</td>\n",
              "      <td>0.000000</td>\n",
              "      <td>0.000000</td>\n",
              "      <td>0.000000</td>\n",
              "      <td>0.000000</td>\n",
              "      <td>0.000000</td>\n",
              "      <td>0.000000</td>\n",
              "      <td>0.000000</td>\n",
              "      <td>0.000000</td>\n",
              "      <td>0.000000</td>\n",
              "      <td>0.000000</td>\n",
              "      <td>0.000000</td>\n",
              "      <td>0.000000</td>\n",
              "      <td>0.000000</td>\n",
              "      <td>0.000000</td>\n",
              "      <td>0.000000</td>\n",
              "      <td>0.000000</td>\n",
              "    </tr>\n",
              "    <tr>\n",
              "      <th>3129</th>\n",
              "      <td>-9999.900391</td>\n",
              "      <td>-9999.900391</td>\n",
              "      <td>-9999.900391</td>\n",
              "      <td>-9999.900391</td>\n",
              "      <td>-9999.900391</td>\n",
              "      <td>-9999.900391</td>\n",
              "      <td>-9999.900391</td>\n",
              "      <td>-9999.900391</td>\n",
              "      <td>-9999.900391</td>\n",
              "      <td>-9999.900391</td>\n",
              "      <td>-9999.900391</td>\n",
              "      <td>-9999.900391</td>\n",
              "      <td>-9999.900391</td>\n",
              "      <td>-9999.900391</td>\n",
              "      <td>-9999.900391</td>\n",
              "      <td>-9999.900391</td>\n",
              "      <td>-9999.900391</td>\n",
              "      <td>-9999.900391</td>\n",
              "      <td>-9999.900391</td>\n",
              "      <td>-9999.900391</td>\n",
              "      <td>-9999.900391</td>\n",
              "      <td>-9999.900391</td>\n",
              "      <td>-9999.900391</td>\n",
              "      <td>-9999.900391</td>\n",
              "      <td>-9999.900391</td>\n",
              "      <td>-9999.900391</td>\n",
              "      <td>-9999.900391</td>\n",
              "      <td>-9999.900391</td>\n",
              "      <td>-9999.900391</td>\n",
              "      <td>-9999.900391</td>\n",
              "      <td>-9999.900391</td>\n",
              "      <td>-9999.900391</td>\n",
              "      <td>-9999.900391</td>\n",
              "      <td>-9999.900391</td>\n",
              "      <td>-9999.900391</td>\n",
              "      <td>-9999.900391</td>\n",
              "      <td>-9999.900391</td>\n",
              "      <td>-9999.900391</td>\n",
              "      <td>-9999.900391</td>\n",
              "      <td>-9999.900391</td>\n",
              "      <td>...</td>\n",
              "      <td>-9999.900391</td>\n",
              "      <td>-9999.900391</td>\n",
              "      <td>-9999.900391</td>\n",
              "      <td>-9999.900391</td>\n",
              "      <td>-9999.900391</td>\n",
              "      <td>-9999.900391</td>\n",
              "      <td>-9999.900391</td>\n",
              "      <td>-9999.900391</td>\n",
              "      <td>-9999.900391</td>\n",
              "      <td>-9999.900391</td>\n",
              "      <td>-9999.900391</td>\n",
              "      <td>-9999.900391</td>\n",
              "      <td>-9999.900391</td>\n",
              "      <td>-9999.900391</td>\n",
              "      <td>-9999.900391</td>\n",
              "      <td>-9999.900391</td>\n",
              "      <td>-9999.900391</td>\n",
              "      <td>-9999.900391</td>\n",
              "      <td>-9999.900391</td>\n",
              "      <td>-9999.900391</td>\n",
              "      <td>-9999.900391</td>\n",
              "      <td>-9999.900391</td>\n",
              "      <td>-9999.900391</td>\n",
              "      <td>-9999.900391</td>\n",
              "      <td>-9999.900391</td>\n",
              "      <td>-9999.900391</td>\n",
              "      <td>-9999.900391</td>\n",
              "      <td>-9999.900391</td>\n",
              "      <td>-9999.900391</td>\n",
              "      <td>-9999.900391</td>\n",
              "      <td>-9999.900391</td>\n",
              "      <td>-9999.900391</td>\n",
              "      <td>-9999.900391</td>\n",
              "      <td>-9999.900391</td>\n",
              "      <td>-9999.900391</td>\n",
              "      <td>-9999.900391</td>\n",
              "      <td>-9999.900391</td>\n",
              "      <td>-9999.900391</td>\n",
              "      <td>-9999.900391</td>\n",
              "      <td>-9999.900391</td>\n",
              "    </tr>\n",
              "    <tr>\n",
              "      <th>3130</th>\n",
              "      <td>-9999.900391</td>\n",
              "      <td>-9999.900391</td>\n",
              "      <td>-9999.900391</td>\n",
              "      <td>-9999.900391</td>\n",
              "      <td>-9999.900391</td>\n",
              "      <td>-9999.900391</td>\n",
              "      <td>-9999.900391</td>\n",
              "      <td>-9999.900391</td>\n",
              "      <td>-9999.900391</td>\n",
              "      <td>-9999.900391</td>\n",
              "      <td>-9999.900391</td>\n",
              "      <td>-9999.900391</td>\n",
              "      <td>-9999.900391</td>\n",
              "      <td>-9999.900391</td>\n",
              "      <td>-9999.900391</td>\n",
              "      <td>-9999.900391</td>\n",
              "      <td>-9999.900391</td>\n",
              "      <td>-9999.900391</td>\n",
              "      <td>-9999.900391</td>\n",
              "      <td>-9999.900391</td>\n",
              "      <td>-9999.900391</td>\n",
              "      <td>-9999.900391</td>\n",
              "      <td>-9999.900391</td>\n",
              "      <td>-9999.900391</td>\n",
              "      <td>-9999.900391</td>\n",
              "      <td>-9999.900391</td>\n",
              "      <td>-9999.900391</td>\n",
              "      <td>-9999.900391</td>\n",
              "      <td>-9999.900391</td>\n",
              "      <td>-9999.900391</td>\n",
              "      <td>-9999.900391</td>\n",
              "      <td>-9999.900391</td>\n",
              "      <td>-9999.900391</td>\n",
              "      <td>-9999.900391</td>\n",
              "      <td>-9999.900391</td>\n",
              "      <td>-9999.900391</td>\n",
              "      <td>-9999.900391</td>\n",
              "      <td>-9999.900391</td>\n",
              "      <td>-9999.900391</td>\n",
              "      <td>-9999.900391</td>\n",
              "      <td>...</td>\n",
              "      <td>-9999.900391</td>\n",
              "      <td>-9999.900391</td>\n",
              "      <td>-9999.900391</td>\n",
              "      <td>-9999.900391</td>\n",
              "      <td>-9999.900391</td>\n",
              "      <td>-9999.900391</td>\n",
              "      <td>-9999.900391</td>\n",
              "      <td>-9999.900391</td>\n",
              "      <td>-9999.900391</td>\n",
              "      <td>-9999.900391</td>\n",
              "      <td>-9999.900391</td>\n",
              "      <td>-9999.900391</td>\n",
              "      <td>-9999.900391</td>\n",
              "      <td>-9999.900391</td>\n",
              "      <td>-9999.900391</td>\n",
              "      <td>-9999.900391</td>\n",
              "      <td>-9999.900391</td>\n",
              "      <td>-9999.900391</td>\n",
              "      <td>-9999.900391</td>\n",
              "      <td>-9999.900391</td>\n",
              "      <td>-9999.900391</td>\n",
              "      <td>-9999.900391</td>\n",
              "      <td>-9999.900391</td>\n",
              "      <td>-9999.900391</td>\n",
              "      <td>-9999.900391</td>\n",
              "      <td>-9999.900391</td>\n",
              "      <td>-9999.900391</td>\n",
              "      <td>-9999.900391</td>\n",
              "      <td>-9999.900391</td>\n",
              "      <td>-9999.900391</td>\n",
              "      <td>-9999.900391</td>\n",
              "      <td>-9999.900391</td>\n",
              "      <td>-9999.900391</td>\n",
              "      <td>-9999.900391</td>\n",
              "      <td>-9999.900391</td>\n",
              "      <td>-9999.900391</td>\n",
              "      <td>-9999.900391</td>\n",
              "      <td>-9999.900391</td>\n",
              "      <td>-9999.900391</td>\n",
              "      <td>-9999.900391</td>\n",
              "    </tr>\n",
              "  </tbody>\n",
              "</table>\n",
              "<p>5 rows × 1600 columns</p>\n",
              "</div>"
            ],
            "text/plain": [
              "             0            1     ...         1598         1599\n",
              "901      0.000000     0.000000  ... -9999.900391 -9999.900391\n",
              "902  -9999.900391 -9999.900391  ... -9999.900391 -9999.900391\n",
              "903  -9999.900391 -9999.900391  ...     0.000000     0.000000\n",
              "3129 -9999.900391 -9999.900391  ... -9999.900391 -9999.900391\n",
              "3130 -9999.900391 -9999.900391  ... -9999.900391 -9999.900391\n",
              "\n",
              "[5 rows x 1600 columns]"
            ]
          },
          "metadata": {
            "tags": []
          },
          "execution_count": 22
        }
      ]
    },
    {
      "cell_type": "code",
      "metadata": {
        "id": "a_Ut6OVZZDeL",
        "colab_type": "code",
        "outputId": "745b2719-cebe-412c-b361-86c7f4f05679",
        "colab": {
          "base_uri": "https://localhost:8080/",
          "height": 545
        }
      },
      "source": [
        "# 결측값 포함 target의 시각화\n",
        "# 파란색: 결측값, 빨간색: 0 이상의 값\n",
        "color_map = plt.cm.get_cmap('RdBu')\n",
        "color_map = color_map.reversed()\n",
        "\n",
        "plt.style.use('fivethirtyeight')\n",
        "plt.figure(figsize=(20, 10))\n",
        "\n",
        "for i in range(50):\n",
        "    plt.subplot(5,10,i+1)\n",
        "    plt.imshow(np.array(df_null.iloc[i, :], )[1:].reshape(40,40), cmap=color_map)\n",
        "    plt.title(null_index[i])\n",
        "\n",
        "plt.show()"
      ],
      "execution_count": 24,
      "outputs": [
        {
          "output_type": "display_data",
          "data": {
            "image/png": "[encoded data removed]",
            "text/plain": [
              "<Figure size 1440x720 with 50 Axes>"
            ]
          },
          "metadata": {
            "tags": []
          }
        }
      ]
    },
    {
      "cell_type": "markdown",
      "metadata": {
        "id": "P5uHKxaZmbK6",
        "colab_type": "text"
      },
      "source": [
        "결측치를 어떻게 채울것인가?\\\n",
        "1) 원본 train data 순서에 따라(위도, 경도, 시간 비슷)\\\n",
        "2) 그냥 0으로 처리(baseline)"
      ]
    },
    {
      "cell_type": "code",
      "metadata": {
        "id": "XYT5UG95mZAk",
        "colab_type": "code",
        "colab": {}
      },
      "source": [
        ""
      ],
      "execution_count": 0,
      "outputs": []
    },
    {
      "cell_type": "code",
      "metadata": {
        "id": "wsObIxlWmZLz",
        "colab_type": "code",
        "colab": {}
      },
      "source": [
        ""
      ],
      "execution_count": 0,
      "outputs": []
    },
    {
      "cell_type": "code",
      "metadata": {
        "id": "LPRk-7eMmZHn",
        "colab_type": "code",
        "colab": {}
      },
      "source": [
        ""
      ],
      "execution_count": 0,
      "outputs": []
    },
    {
      "cell_type": "code",
      "metadata": {
        "id": "EeEMz8sF885e",
        "colab_type": "code",
        "colab": {}
      },
      "source": [
        ""
      ],
      "execution_count": 0,
      "outputs": []
    },
    {
      "cell_type": "code",
      "metadata": {
        "id": "0d3w2VqlBa-y",
        "colab_type": "code",
        "colab": {}
      },
      "source": [
        ""
      ],
      "execution_count": 0,
      "outputs": []
    },
    {
      "cell_type": "code",
      "metadata": {
        "id": "kxnvJdwSBbmE",
        "colab_type": "code",
        "colab": {}
      },
      "source": [
        ""
      ],
      "execution_count": 0,
      "outputs": []
    },
    {
      "cell_type": "code",
      "metadata": {
        "id": "ZVJbHYapBbiF",
        "colab_type": "code",
        "colab": {}
      },
      "source": [
        ""
      ],
      "execution_count": 0,
      "outputs": []
    },
    {
      "cell_type": "markdown",
      "metadata": {
        "id": "uMpTBwjJpgZY",
        "colab_type": "text"
      },
      "source": [
        "## 시각화 하기"
      ]
    },
    {
      "cell_type": "code",
      "metadata": {
        "id": "mAJ8hTQP0fcn",
        "colab_type": "code",
        "colab": {}
      },
      "source": [
        "import seaborn as sns"
      ],
      "execution_count": 0,
      "outputs": []
    },
    {
      "cell_type": "code",
      "metadata": {
        "id": "8rGYq0da0qzD",
        "colab_type": "code",
        "colab": {}
      },
      "source": [
        "color_map = plt.cm.get_cmap('RdBu')\n",
        "color_map = color_map.reversed()"
      ],
      "execution_count": 0,
      "outputs": []
    },
    {
      "cell_type": "code",
      "metadata": {
        "id": "rbwztmtr0rC_",
        "colab_type": "code",
        "colab": {}
      },
      "source": [
        "image_sample = train_p0[8]"
      ],
      "execution_count": 0,
      "outputs": []
    },
    {
      "cell_type": "code",
      "metadata": {
        "id": "DD_KYjp80vC4",
        "colab_type": "code",
        "outputId": "3259c0cc-b27a-4694-ce0a-f4b1ff83f81b",
        "colab": {
          "base_uri": "https://localhost:8080/",
          "height": 320
        }
      },
      "source": [
        "plt.style.use('fivethirtyeight')\n",
        "plt.figure(figsize=(10, 5))\n",
        "\n",
        "for i in range(9):\n",
        "    plt.subplot(2,5,i+1)\n",
        "    plt.imshow(image_sample[:, :, i], cmap=color_map)\n",
        "\n",
        "plt.subplot(2,5,10)\n",
        "plt.imshow(image_sample[:,:,-1], cmap = color_map)\n",
        "plt.show()"
      ],
      "execution_count": 0,
      "outputs": [
        {
          "output_type": "display_data",
          "data": {
            "image/png": "[encoded data removed]",
            "text/plain": [
              "<Figure size 720x360 with 10 Axes>"
            ]
          },
          "metadata": {
            "tags": []
          }
        }
      ]
    },
    {
      "cell_type": "markdown",
      "metadata": {
        "id": "cLnC_WkipE8_",
        "colab_type": "text"
      },
      "source": [
        "## 모델만들기"
      ]
    },
    {
      "cell_type": "code",
      "metadata": {
        "id": "C0wWXJKu09ld",
        "colab_type": "code",
        "colab": {}
      },
      "source": [
        "def build_model(input_layer, start_neurons):\n",
        "    \n",
        "    # 40 x 40 -> 20 x 20\n",
        "    conv1 = Conv2D(start_neurons * 1, (3, 3), activation=\"relu\", padding=\"same\")(input_layer) # filters, kernel_size\n",
        "    conv1 = Conv2D(start_neurons * 1, (3, 3), activation=\"relu\", padding=\"same\")(conv1)\n",
        "    pool1 = BatchNormalization()(conv1)\n",
        "    pool1 = MaxPooling2D((2, 2))(pool1)\n",
        "    pool1 = Dropout(0.25)(pool1)\n",
        "\n",
        "    # 20 x 20 -> 10 x 10\n",
        "    conv2 = Conv2D(start_neurons * 2, (3, 3), activation=\"relu\", padding=\"same\")(pool1)\n",
        "    conv2 = Conv2D(start_neurons * 2, (3, 3), activation=\"relu\", padding=\"same\")(conv2)\n",
        "    pool2 = BatchNormalization()(conv2)\n",
        "    pool2 = MaxPooling2D((2, 2))(pool2)\n",
        "    pool2 = Dropout(0.25)(pool2)\n",
        "\n",
        "    # 10 x 10 \n",
        "    convm = Conv2D(start_neurons * 4, (3, 3), activation=\"relu\", padding=\"same\")(pool2)\n",
        "\n",
        "    # 10 x 10 -> 20 x 20\n",
        "    deconv2 = Conv2DTranspose(start_neurons * 2, (3, 3), strides=(2, 2), padding=\"same\")(convm)\n",
        "    uconv2 = concatenate([deconv2, conv2])\n",
        "    uconv2 = Dropout(0.25)(uconv2)\n",
        "    uconv2 = Conv2D(start_neurons * 2, (3, 3), activation=\"relu\", padding=\"same\")(uconv2)\n",
        "    uconv2 = Conv2D(start_neurons * 2, (3, 3), activation=\"relu\", padding=\"same\")(uconv2)\n",
        "    uconv2 = BatchNormalization()(uconv2)\n",
        "\n",
        "    # 20 x 20 -> 40 x 40\n",
        "    deconv1 = Conv2DTranspose(start_neurons * 1, (3, 3), strides=(2, 2), padding=\"same\")(uconv2)\n",
        "    uconv1 = concatenate([deconv1, conv1])\n",
        "    uconv1 = Dropout(0.25)(uconv1)\n",
        "    uconv1 = Conv2D(start_neurons * 1, (3, 3), activation=\"relu\", padding=\"same\")(uconv1)\n",
        "    uconv1 = Conv2D(start_neurons * 1, (3, 3), activation=\"relu\", padding=\"same\")(uconv1)\n",
        "    uconv1 = BatchNormalization()(uconv1)\n",
        "    uconv1 = Dropout(0.25)(uconv1)\n",
        "    output_layer = Conv2D(1, (1,1), padding=\"same\", activation='relu')(uconv1)\n",
        "    \n",
        "    return output_layer\n",
        "\n",
        "input_layer = Input((40, 40, 9))\n",
        "output_layer = build_model(input_layer, 32)"
      ],
      "execution_count": 0,
      "outputs": []
    },
    {
      "cell_type": "code",
      "metadata": {
        "id": "OqMt4p1N09nx",
        "colab_type": "code",
        "colab": {}
      },
      "source": [
        "model = Model(input_layer, output_layer)"
      ],
      "execution_count": 0,
      "outputs": []
    },
    {
      "cell_type": "code",
      "metadata": {
        "id": "i_NhbS4s09p_",
        "colab_type": "code",
        "colab": {}
      },
      "source": [
        "from sklearn.metrics import f1_score\n",
        "\n",
        "def mae(y_true, y_pred) :\n",
        "    \n",
        "    y_true, y_pred = np.array(y_true), np.array(y_pred)\n",
        "    \n",
        "    y_true = y_true.reshape(1, -1)[0]\n",
        "    \n",
        "    y_pred = y_pred.reshape(1, -1)[0]\n",
        "    \n",
        "    over_threshold = y_true >= 0.1\n",
        "    \n",
        "    return np.mean(np.abs(y_true[over_threshold] - y_pred[over_threshold]))\n",
        "\n",
        "def fscore(y_true, y_pred):\n",
        "    \n",
        "    y_true, y_pred = np.array(y_true), np.array(y_pred)\n",
        "    \n",
        "    y_true = y_true.reshape(1, -1)[0]\n",
        "    \n",
        "    y_pred = y_pred.reshape(1, -1)[0]\n",
        "    \n",
        "    remove_NAs = y_true >= 0\n",
        "    \n",
        "    y_true = np.where(y_true[remove_NAs] >= 0.1, 1, 0)\n",
        "    \n",
        "    y_pred = np.where(y_pred[remove_NAs] >= 0.1, 1, 0)\n",
        "    \n",
        "    return(f1_score(y_true, y_pred))\n",
        "\n",
        "def maeOverFscore(y_true, y_pred):\n",
        "    \n",
        "    return mae(y_true, y_pred) / (fscore(y_true, y_pred) + 1e-07)\n",
        "\n",
        "def fscore_keras(y_true, y_pred):\n",
        "    score = tf.py_function(func=fscore, inp=[y_true, y_pred], Tout=tf.float32, name='fscore_keras')\n",
        "    return score\n",
        "\n",
        "def maeOverFscore_keras(y_true, y_pred):\n",
        "    score = tf.py_function(func=maeOverFscore, inp=[y_true, y_pred], Tout=tf.float32,  name='custom_mse')\n",
        "    return score"
      ],
      "execution_count": 0,
      "outputs": []
    },
    {
      "cell_type": "code",
      "metadata": {
        "id": "Sv7Hk_LM1DNf",
        "colab_type": "code",
        "colab": {}
      },
      "source": [
        "model.compile(loss=\"mae\", optimizer=\"adam\", metrics=[maeOverFscore_keras, fscore_keras])"
      ],
      "execution_count": 0,
      "outputs": []
    },
    {
      "cell_type": "markdown",
      "metadata": {
        "id": "xlkCVaXIpMOy",
        "colab_type": "text"
      },
      "source": [
        "## 데이터 제네레이터 만들기"
      ]
    },
    {
      "cell_type": "code",
      "metadata": {
        "id": "eanJjoGPoQTD",
        "colab_type": "code",
        "colab": {}
      },
      "source": [
        "data = train_p0\n",
        "def trainGenerator():\n",
        "    for file in data:\n",
        "        target= file[:,:,-1].reshape(40,40,1)\n",
        "        cutoff_labels = np.where(target < 0, 0, target) # 0보다 작으면(-9999.xx) 0으로 채우기\n",
        "        feature = file[:,:,:9]\n",
        "        \n",
        "        if (cutoff_labels > 0).sum() < 50:\n",
        "            continue\n",
        "        yield (feature, cutoff_labels)\n",
        "        \n",
        "train_dataset = tf.data.Dataset.from_generator(trainGenerator,\n",
        "                                               (tf.float32, tf.float32),\n",
        "                                               (tf.TensorShape([40,40,9]),\n",
        "                                                tf.TensorShape([40,40,1])))\n",
        "train_dataset = train_dataset.batch(512).prefetch(1)"
      ],
      "execution_count": 0,
      "outputs": []
    },
    {
      "cell_type": "code",
      "metadata": {
        "id": "lPEt9MBYhuwq",
        "colab_type": "code",
        "colab": {}
      },
      "source": [
        "from sklearn.model_selection import KFold\n",
        "kf = KFold(n_splits=5)\n",
        "model_history = []\n",
        "fold_number = 0\n",
        "\n",
        "for train_index, test_index in kf.split(train):\n",
        "    print(f'\\nFold {fold_number}')\n",
        "    fold_number = fold_number + 1\n",
        "#-----------------------------------------------------------------------------\n",
        "    def trainGenerator():\n",
        "        for file in train[train_index]:\n",
        "            target= file[:,:,-1].reshape(40,40,1)\n",
        "            cutoff_labels = np.where(target < 0, 0, target)\n",
        "            feature = file[:,:,:10]#########################land type 추가\n",
        "            if (cutoff_labels > 0).sum() < 50:\n",
        "                continue\n",
        "            yield (feature, cutoff_labels)\n",
        "    train_dataset = tf.data.Dataset.from_generator(trainGenerator,\n",
        "                                                (tf.float32, tf.float32),\n",
        "                                                (tf.TensorShape([40,40,10]),########################land type 추가\n",
        "                                                    tf.TensorShape([40,40,1])))\n",
        "    train_dataset = train_dataset.batch(512).prefetch(1)\n",
        "#-----------------------------------------------------------------------------\n",
        "    def testGenerator():\n",
        "        for file in train[test_index]:\n",
        "            target= file[:,:,-1].reshape(40,40,1)\n",
        "            cutoff_labels = np.where(target < 0, 0, target)\n",
        "            feature = file[:,:,:10]#########################land type 추가\n",
        "            if (cutoff_labels > 0).sum() < 50:\n",
        "                continue\n",
        "            yield (feature, cutoff_labels)\n",
        "    test_dataset = tf.data.Dataset.from_generator(testGenerator,\n",
        "                                                (tf.float32, tf.float32),\n",
        "                                                (tf.TensorShape([40,40,10]),########################land type 추가\n",
        "                                                    tf.TensorShape([40,40,1])))\n",
        "    test_size = len(test_index)\n",
        "    test_dataset = test_dataset.batch(test_size).prefetch(1)\n",
        "#-----------------------------------------------------------------------------\n",
        "\n",
        "    history = model.fit(train_dataset, epochs = 10, verbose=1, validation_data = test_dataset)\n",
        "\n",
        "    #history = model.fit(train_dataset, epochs = 5, ,batch_size = 11, verbose=1)\n",
        "    model_history.append(history)\n",
        "    #del data\n",
        "    del train_dataset\n",
        "    del test_dataset\n",
        "    gc.collect()"
      ],
      "execution_count": 0,
      "outputs": []
    },
    {
      "cell_type": "markdown",
      "metadata": {
        "id": "dlm5rZ5TpRih",
        "colab_type": "text"
      },
      "source": [
        "## 모델 훈련하기\n",
        "모델 훈련전에 GPU가 켜져있는지 확인!  \n",
        "(런타임 -> 런타임 유형 변경-> 하드웨어 가속기-> GPU)"
      ]
    },
    {
      "cell_type": "code",
      "metadata": {
        "id": "MuJqqeNuh0gm",
        "colab_type": "code",
        "outputId": "5bcecb7c-cc59-43d2-80fb-db2a42c00e4b",
        "colab": {
          "base_uri": "https://localhost:8080/",
          "height": 897
        }
      },
      "source": [
        "model_history = []\n",
        "\n",
        "# 모든 데이터에 대해서 훈련할 것.\n",
        "# 이미 메모리에 올라와 있는 train_p0를 메모리에서 제거\n",
        "del train_p0\n",
        "gc.collect()\n",
        "\n",
        "# 5개로 분할된 데이터마다 각각 훈련을 진행\n",
        "for i in range(5):\n",
        "    data = np.load(f'/content/drive/My Drive/2020 Kaggle Study/data/train/train_p{i}.npy')\n",
        "    train_dataset = tf.data.Dataset.from_generator(trainGenerator,\n",
        "                                               (tf.float32, tf.float32),\n",
        "                                               (tf.TensorShape([40,40,9]),\n",
        "                                                tf.TensorShape([40,40,1])))\n",
        "    train_dataset = train_dataset.batch(512).prefetch(1)\n",
        "    history = model.fit(train_dataset, epochs = 5, verbose=1)\n",
        "    #history = model.fit(train_dataset, epochs = 5, ,batch_size = 11, verbose=1)\n",
        "    model_history.append(history)\n",
        "    del data\n",
        "    gc.collect()"
      ],
      "execution_count": 0,
      "outputs": [
        {
          "output_type": "stream",
          "text": [
            "Epoch 1/5\n",
            "11/11 [==============================] - 7s 641ms/step - loss: 0.6314 - maeOverFscore_keras: 8.1239 - fscore_keras: 0.2425\n",
            "Epoch 2/5\n",
            "11/11 [==============================] - 7s 610ms/step - loss: 0.4331 - maeOverFscore_keras: 8.4301 - fscore_keras: 0.2358\n",
            "Epoch 3/5\n",
            "11/11 [==============================] - 6s 584ms/step - loss: 0.3706 - maeOverFscore_keras: 5.3010 - fscore_keras: 0.3574\n",
            "Epoch 4/5\n",
            "11/11 [==============================] - 6s 581ms/step - loss: 0.3172 - maeOverFscore_keras: 3.9976 - fscore_keras: 0.4366\n",
            "Epoch 5/5\n",
            "11/11 [==============================] - 6s 550ms/step - loss: 0.2935 - maeOverFscore_keras: 3.5580 - fscore_keras: 0.4802\n",
            "Epoch 1/5\n",
            "13/13 [==============================] - 8s 600ms/step - loss: 0.3238 - maeOverFscore_keras: 3.6504 - fscore_keras: 0.5285\n",
            "Epoch 2/5\n",
            "13/13 [==============================] - 7s 574ms/step - loss: 0.3178 - maeOverFscore_keras: 3.3952 - fscore_keras: 0.5620\n",
            "Epoch 3/5\n",
            "13/13 [==============================] - 7s 571ms/step - loss: 0.3161 - maeOverFscore_keras: 3.3186 - fscore_keras: 0.5675\n",
            "Epoch 4/5\n",
            "13/13 [==============================] - 7s 560ms/step - loss: 0.3110 - maeOverFscore_keras: 3.1281 - fscore_keras: 0.5921\n",
            "Epoch 5/5\n",
            "13/13 [==============================] - 7s 574ms/step - loss: 0.3063 - maeOverFscore_keras: 3.0695 - fscore_keras: 0.5965\n",
            "Epoch 1/5\n",
            "14/14 [==============================] - 8s 574ms/step - loss: 0.2847 - maeOverFscore_keras: 3.1914 - fscore_keras: 0.5638\n",
            "Epoch 2/5\n",
            "14/14 [==============================] - 8s 567ms/step - loss: 0.2828 - maeOverFscore_keras: 3.1542 - fscore_keras: 0.5694\n",
            "Epoch 3/5\n",
            "14/14 [==============================] - 8s 565ms/step - loss: 0.2833 - maeOverFscore_keras: 3.1260 - fscore_keras: 0.5728\n",
            "Epoch 4/5\n",
            "14/14 [==============================] - 8s 556ms/step - loss: 0.2801 - maeOverFscore_keras: 3.0679 - fscore_keras: 0.5792\n",
            "Epoch 5/5\n",
            "14/14 [==============================] - 8s 551ms/step - loss: 0.2815 - maeOverFscore_keras: 3.1557 - fscore_keras: 0.5684\n",
            "Epoch 1/5\n",
            "11/11 [==============================] - 6s 572ms/step - loss: 0.2651 - maeOverFscore_keras: 2.7639 - fscore_keras: 0.5821\n",
            "Epoch 2/5\n",
            "11/11 [==============================] - 6s 564ms/step - loss: 0.2645 - maeOverFscore_keras: 2.7108 - fscore_keras: 0.5907\n",
            "Epoch 3/5\n",
            "11/11 [==============================] - 6s 562ms/step - loss: 0.2635 - maeOverFscore_keras: 2.7369 - fscore_keras: 0.5867\n",
            "Epoch 4/5\n",
            "11/11 [==============================] - 6s 564ms/step - loss: 0.2616 - maeOverFscore_keras: 2.6433 - fscore_keras: 0.6001\n",
            "Epoch 5/5\n",
            "11/11 [==============================] - 6s 564ms/step - loss: 0.2650 - maeOverFscore_keras: 2.7313 - fscore_keras: 0.5871\n",
            "Epoch 1/5\n",
            "14/14 [==============================] - 8s 604ms/step - loss: 0.2954 - maeOverFscore_keras: 2.9896 - fscore_keras: 0.6086\n",
            "Epoch 2/5\n",
            "14/14 [==============================] - 8s 581ms/step - loss: 0.2935 - maeOverFscore_keras: 2.9317 - fscore_keras: 0.6161\n",
            "Epoch 3/5\n",
            "14/14 [==============================] - 8s 576ms/step - loss: 0.2940 - maeOverFscore_keras: 2.9328 - fscore_keras: 0.6161\n",
            "Epoch 4/5\n",
            "14/14 [==============================] - 8s 574ms/step - loss: 0.2921 - maeOverFscore_keras: 2.8424 - fscore_keras: 0.6277\n",
            "Epoch 5/5\n",
            "14/14 [==============================] - 8s 586ms/step - loss: 0.2909 - maeOverFscore_keras: 2.8237 - fscore_keras: 0.6323\n"
          ],
          "name": "stdout"
        }
      ]
    },
    {
      "cell_type": "markdown",
      "metadata": {
        "id": "_qg-RmDqpVq3",
        "colab_type": "text"
      },
      "source": [
        "## submission 만들기"
      ]
    },
    {
      "cell_type": "code",
      "metadata": {
        "colab_type": "code",
        "id": "XsjsawsGh_zs",
        "colab": {}
      },
      "source": [
        "pred = model.predict(X_test)"
      ],
      "execution_count": 0,
      "outputs": []
    },
    {
      "cell_type": "code",
      "metadata": {
        "colab_type": "code",
        "id": "BaAuaIqhh_z3",
        "colab": {}
      },
      "source": [
        "submission = pd.read_csv('/content/drive/My Drive/2020 Kaggle Study/data/sample_submission.csv')"
      ],
      "execution_count": 0,
      "outputs": []
    },
    {
      "cell_type": "code",
      "metadata": {
        "colab_type": "code",
        "id": "r3sFI91Gh_z8",
        "colab": {}
      },
      "source": [
        "submission.iloc[:,1:] = pred.reshape(-1, 1600)"
      ],
      "execution_count": 0,
      "outputs": []
    },
    {
      "cell_type": "code",
      "metadata": {
        "colab_type": "code",
        "id": "bPPRCvO_h_z_",
        "colab": {}
      },
      "source": [
        "submission.to_csv('Dacon_baseline_bg.csv', index = False)"
      ],
      "execution_count": 0,
      "outputs": []
    },
    {
      "cell_type": "code",
      "metadata": {
        "colab_type": "code",
        "id": "9fBTzEKnh_0B",
        "colab": {}
      },
      "source": [
        "# 제출파일 구글 드라이브에 올리기\n",
        "!cp Dacon_baseline_bg.csv '/content/drive/My Drive/2020 Kaggle Study/submission'"
      ],
      "execution_count": 0,
      "outputs": []
    },
    {
      "cell_type": "code",
      "metadata": {
        "id": "yAx1bwrjNiNT",
        "colab_type": "code",
        "outputId": "518bc447-781a-4df6-fc14-53b5203259eb",
        "colab": {
          "base_uri": "https://localhost:8080/",
          "height": 302
        }
      },
      "source": [
        "plt.imshow(submission.iloc[400,:][1:].astype('float64').values.reshape(40,40)) # 강수량~~!!"
      ],
      "execution_count": 0,
      "outputs": [
        {
          "output_type": "execute_result",
          "data": {
            "text/plain": [
              "<matplotlib.image.AxesImage at 0x7f49bbf03940>"
            ]
          },
          "metadata": {
            "tags": []
          },
          "execution_count": 118
        },
        {
          "output_type": "display_data",
          "data": {
            "image/png": "[encoded data removed]",
            "text/plain": [
              "<Figure size 432x288 with 1 Axes>"
            ]
          },
          "metadata": {
            "tags": []
          }
        }
      ]
    },
    {
      "cell_type": "code",
      "metadata": {
        "id": "kINAXvFQM38o",
        "colab_type": "code",
        "outputId": "f77c539e-8722-4e33-a34d-5fdc870b002c",
        "colab": {
          "base_uri": "https://localhost:8080/",
          "height": 140
        }
      },
      "source": [
        "submission.astype('float64').values"
      ],
      "execution_count": 0,
      "outputs": [
        {
          "output_type": "execute_result",
          "data": {
            "text/plain": [
              "array([[2985801.,       0.,       0., ...,       0.,       0.,       0.],\n",
              "       [2985802.,       0.,       0., ...,       0.,       0.,       0.],\n",
              "       [2985803.,       0.,       0., ...,       0.,       0.,       0.],\n",
              "       ...,\n",
              "       [3128802.,       0.,       0., ...,       0.,       0.,       0.],\n",
              "       [3128808.,       0.,       0., ...,       0.,       0.,       0.],\n",
              "       [3128811.,       0.,       0., ...,       0.,       0.,       0.]])"
            ]
          },
          "metadata": {
            "tags": []
          },
          "execution_count": 129
        }
      ]
    },
    {
      "cell_type": "code",
      "metadata": {
        "id": "i65a6JHFOPk6",
        "colab_type": "code",
        "outputId": "cc9cd611-08c3-47d8-b2a2-6a22e698b81d",
        "colab": {
          "base_uri": "https://localhost:8080/",
          "height": 175
        }
      },
      "source": [
        "submission.iloc[:,1:].max().describe()"
      ],
      "execution_count": 0,
      "outputs": [
        {
          "output_type": "execute_result",
          "data": {
            "text/plain": [
              "count    1600.000000\n",
              "mean        5.817770\n",
              "std         1.487400\n",
              "min         0.834990\n",
              "25%         4.821857\n",
              "50%         5.791486\n",
              "75%         6.827300\n",
              "max        10.469974\n",
              "dtype: float64"
            ]
          },
          "metadata": {
            "tags": []
          },
          "execution_count": 136
        }
      ]
    }
  ]
}