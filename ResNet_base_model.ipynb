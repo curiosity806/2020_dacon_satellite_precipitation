{
  "nbformat": 4,
  "nbformat_minor": 0,
  "metadata": {
    "colab": {
      "name": "ResNet_base_model",
      "provenance": [],
      "collapsed_sections": [],
      "toc_visible": true,
      "machine_shape": "hm",
      "include_colab_link": true
    },
    "kernelspec": {
      "name": "python3",
      "display_name": "Python 3"
    },
    "accelerator": "GPU"
  },
  "cells": [
    {
      "cell_type": "markdown",
      "metadata": {
        "id": "view-in-github",
        "colab_type": "text"
      },
      "source": [
        "<a href=\"https://colab.research.google.com/github/curiosity806/2020_dacon_satellite_precipitation/blob/master/ResNet_base_model.ipynb\" target=\"_parent\"><img src=\"https://colab.research.google.com/assets/colab-badge.svg\" alt=\"Open In Colab\"/></a>"
      ]
    },
    {
      "cell_type": "code",
      "metadata": {
        "id": "oi-MWY4HOblX",
        "colab_type": "code",
        "outputId": "1e7e86d0-9422-47fc-f629-1a38de2324a3",
        "colab": {
          "base_uri": "https://localhost:8080/",
          "height": 125
        }
      },
      "source": [
        "from google.colab import drive\n",
        "drive.mount('/content/drive')"
      ],
      "execution_count": 1,
      "outputs": [
        {
          "output_type": "stream",
          "text": [
            "Go to this URL in a browser: https://accounts.google.com/o/oauth2/auth?client_id=947318989803-6bn6qk8qdgf4n4g3pfee6491hc0brc4i.apps.googleusercontent.com&redirect_uri=urn%3aietf%3awg%3aoauth%3a2.0%3aoob&response_type=code&scope=email%20https%3a%2f%2fwww.googleapis.com%2fauth%2fdocs.test%20https%3a%2f%2fwww.googleapis.com%2fauth%2fdrive%20https%3a%2f%2fwww.googleapis.com%2fauth%2fdrive.photos.readonly%20https%3a%2f%2fwww.googleapis.com%2fauth%2fpeopleapi.readonly\n",
            "\n",
            "Enter your authorization code:\n",
            "··········\n",
            "Mounted at /content/drive\n"
          ],
          "name": "stdout"
        }
      ]
    },
    {
      "cell_type": "code",
      "metadata": {
        "id": "_pj84NcY6oGu",
        "colab_type": "code",
        "colab": {}
      },
      "source": [
        "!cp '/content/drive/My Drive/2020 Kaggle Study/data/train.npy' train.npy"
      ],
      "execution_count": 0,
      "outputs": []
    },
    {
      "cell_type": "code",
      "metadata": {
        "id": "h6La-zpczGzY",
        "colab_type": "code",
        "outputId": "ce3d70c2-5a5a-450e-cda8-df4e41235dae",
        "colab": {
          "base_uri": "https://localhost:8080/",
          "height": 72
        }
      },
      "source": [
        "import glob\n",
        "import pandas as pd\n",
        "import numpy as np\n",
        "import matplotlib.pylab as plt\n",
        "import seaborn as sns\n",
        "from tqdm import tqdm\n",
        "import matplotlib.pyplot as plt\n",
        "import tensorflow as tf\n",
        "import os\n",
        "import random\n",
        "from tensorflow.keras.layers import Dense, Conv2D, Dropout, Conv2DTranspose, MaxPooling2D, BatchNormalization, Activation, concatenate, Input, GlobalAveragePooling2D\n",
        "from tensorflow.keras import Model\n",
        "import warnings\n",
        "import gc\n",
        "import matplotlib.pyplot as plt\n",
        "import matplotlib.animation as animation\n",
        "from scipy import stats\n",
        "warnings.filterwarnings(\"ignore\")\n",
        "# style 설정\n",
        "plt.style.use('dark_background')\n",
        "plt.style.use('seaborn-colorblind')\n",
        "\n",
        "# 재생산성을 위해 시드 고정\n",
        "np.random.seed(7)\n",
        "random.seed(7)\n",
        "tf.random.set_seed(7)"
      ],
      "execution_count": 1,
      "outputs": [
        {
          "output_type": "stream",
          "text": [
            "/usr/local/lib/python3.6/dist-packages/statsmodels/tools/_testing.py:19: FutureWarning: pandas.util.testing is deprecated. Use the functions in the public API at pandas.testing instead.\n",
            "  import pandas.util.testing as tm\n"
          ],
          "name": "stderr"
        }
      ]
    },
    {
      "cell_type": "markdown",
      "metadata": {
        "id": "0pUOc4bq-IrZ",
        "colab_type": "text"
      },
      "source": [
        "## 데이터 받아오기"
      ]
    },
    {
      "cell_type": "code",
      "metadata": {
        "id": "36olRM2r6rBE",
        "colab_type": "code",
        "colab": {}
      },
      "source": [
        "#train = np.load('train.npy')\n",
        "train = np.load('train_add.npy')"
      ],
      "execution_count": 0,
      "outputs": []
    },
    {
      "cell_type": "markdown",
      "metadata": {
        "colab_type": "text",
        "id": "pYZYG3G-Itsk"
      },
      "source": [
        "# 데이터 만들기"
      ]
    },
    {
      "cell_type": "code",
      "metadata": {
        "id": "QaRH52X7i4jR",
        "colab_type": "code",
        "colab": {
          "base_uri": "https://localhost:8080/",
          "height": 34
        },
        "outputId": "0d982b30-0640-4612-acb6-e93669938e67"
      },
      "source": [
        "train.shape"
      ],
      "execution_count": 3,
      "outputs": [
        {
          "output_type": "execute_result",
          "data": {
            "text/plain": [
              "(76345, 40, 40, 15)"
            ]
          },
          "metadata": {
            "tags": []
          },
          "execution_count": 3
        }
      ]
    },
    {
      "cell_type": "code",
      "metadata": {
        "id": "XqQKaS6o537l",
        "colab_type": "code",
        "colab": {}
      },
      "source": [
        "def cutoff(data):\n",
        "    index = 0\n",
        "    rain_index = []\n",
        "    for file in data:\n",
        "        target= file[:,:,-1].reshape(40,40,1)\n",
        "        cutoff_labels = np.where(target < 0, 0, target)\n",
        "        if (cutoff_labels > 0).sum() < 50:\n",
        "            index = index + 1\n",
        "            continue\n",
        "        rain_index.append(index)\n",
        "        index = index + 1\n",
        "    return data[rain_index], rain_index\n",
        "\n",
        "def re_landtype(data):\n",
        "    rain = data[:,:,:,9].reshape(-1)\n",
        "    rain = rain//100\n",
        "    #data[data[:,:,:,9] == 0] = 0 #Ocean\n",
        "    rain[rain == 1] = 1 #land\n",
        "    rain[rain == 2] = 0.5 #costal\n",
        "    rain[rain == 3] = 0.2 #in land water\n",
        "    data[:,:,:,9] = rain.reshape(-1,40,40)\n",
        "    return data\n",
        "    \n",
        "def augment_data(data):# 원래, 90회전.T(2배)\n",
        "    rotate = np.zeros([data.shape[0]*2,data.shape[1],data.shape[2],data.shape[3]])\n",
        "    ch_num = data.shape[3]\n",
        "    data_len = data.shape[0]\n",
        "    rotate[:data_len,:,:,:] = data\n",
        "    #rotate[data_len : data_len * 2,:,:,:] = np.rot90(rotate[:data_len,:,:,:], axes = (1,2))\n",
        "    rotate[data_len:,:,:,:] = np.transpose(rotate[: data_len,:,:,:], axes = (0,1,2,3))\n",
        "    return rotate\n",
        "\n",
        "def select_ch(data,ch_list = [0,1,2,3,4,5,6,7,8,9,14]):#9: land_type, 14: precipitation\n",
        "    return(data[:,:,:,ch_list])"
      ],
      "execution_count": 0,
      "outputs": []
    },
    {
      "cell_type": "code",
      "metadata": {
        "id": "wzjyEoEa7pMQ",
        "colab_type": "code",
        "colab": {}
      },
      "source": [
        "train = select_ch(train)\n",
        "train, rain_index = cutoff(train)\n",
        "train = re_landtype(train)\n",
        "train = augment_data(train)"
      ],
      "execution_count": 0,
      "outputs": []
    },
    {
      "cell_type": "code",
      "metadata": {
        "id": "ARb1yQLemH8a",
        "colab_type": "code",
        "colab": {
          "base_uri": "https://localhost:8080/",
          "height": 285
        },
        "outputId": "c37f7da8-df17-4b0e-d4ad-99f2430cc462"
      },
      "source": [
        "plt.imshow(train[22,:,:,9])"
      ],
      "execution_count": 65,
      "outputs": [
        {
          "output_type": "execute_result",
          "data": {
            "text/plain": [
              "<matplotlib.image.AxesImage at 0x7ff036f59f60>"
            ]
          },
          "metadata": {
            "tags": []
          },
          "execution_count": 65
        },
        {
          "output_type": "display_data",
          "data": {
            "image/png": "[encoded data removed]",
            "text/plain": [
              "<Figure size 432x288 with 1 Axes>"
            ]
          },
          "metadata": {
            "tags": [],
            "needs_background": "dark"
          }
        }
      ]
    },
    {
      "cell_type": "markdown",
      "metadata": {
        "id": "ARExxyqONfIK",
        "colab_type": "text"
      },
      "source": [
        "#모델 만들기"
      ]
    },
    {
      "cell_type": "code",
      "metadata": {
        "id": "dz008iV85Oi3",
        "colab_type": "code",
        "colab": {}
      },
      "source": [
        "def create_model():\n",
        "    inputs=Input((40,40,10))\n",
        "    ###cnn\n",
        "    bn=BatchNormalization()(inputs)\n",
        "    conv0=Conv2D(256, kernel_size=1, strides=1, padding='same', activation='relu')(bn)\n",
        "    \n",
        "    bn=BatchNormalization()(conv0)\n",
        "    conv=Conv2D(128, kernel_size=2, strides=1, padding='same', activation='relu')(bn)\n",
        "    concat=concatenate([conv0, conv], axis=3)\n",
        "    \n",
        "    bn=BatchNormalization()(concat)\n",
        "    conv=Conv2D(64, kernel_size=3, strides=1, padding='same', activation='relu')(bn)\n",
        "    concat=concatenate([concat, conv], axis=3)\n",
        "        \n",
        "    for i in range(5):\n",
        "        bn=BatchNormalization()(concat)\n",
        "        conv=Conv2D(32, kernel_size=3, strides=1, padding='same', activation='relu')(bn)\n",
        "        concat=concatenate([concat, conv], axis=3)\n",
        "    \n",
        "    bn=BatchNormalization()(concat)\n",
        "    outputs=Conv2D(1, kernel_size=1, strides=1, padding='same', activation='relu')(bn)\n",
        "    \n",
        "    model=Model(inputs=inputs, outputs=outputs)\n",
        "    \n",
        "    return model"
      ],
      "execution_count": 0,
      "outputs": []
    },
    {
      "cell_type": "code",
      "metadata": {
        "id": "OqMt4p1N09nx",
        "colab_type": "code",
        "colab": {}
      },
      "source": [
        "model = create_model()"
      ],
      "execution_count": 0,
      "outputs": []
    },
    {
      "cell_type": "code",
      "metadata": {
        "id": "i_NhbS4s09p_",
        "colab_type": "code",
        "colab": {}
      },
      "source": [
        "from sklearn.metrics import f1_score\n",
        "\n",
        "def mae(y_true, y_pred) :\n",
        "    y_true, y_pred = np.array(y_true), np.array(y_pred)\n",
        "    y_true = y_true.reshape(1, -1)[0]\n",
        "    y_pred = y_pred.reshape(1, -1)[0]\n",
        "    over_threshold = y_true >= 0.1\n",
        "    return np.mean(np.abs(y_true[over_threshold] - y_pred[over_threshold]))\n",
        "\n",
        "def fscore(y_true, y_pred):\n",
        "    y_true, y_pred = np.array(y_true), np.array(y_pred)\n",
        "    y_true = y_true.reshape(1, -1)[0]\n",
        "    y_pred = y_pred.reshape(1, -1)[0]\n",
        "    remove_NAs = y_true >= 0\n",
        "    y_true = np.where(y_true[remove_NAs] >= 0.1, 1, 0)\n",
        "    y_pred = np.where(y_pred[remove_NAs] >= 0.1, 1, 0)\n",
        "    return(f1_score(y_true, y_pred))\n",
        "\n",
        "def maeOverFscore(y_true, y_pred):\n",
        "    return mae(y_true, y_pred) / (fscore(y_true, y_pred) + 1e-07)\n",
        "\n",
        "def fscore_keras(y_true, y_pred):\n",
        "    score = tf.py_function(func=fscore, inp=[y_true, y_pred], Tout=tf.float32, name='fscore_keras')\n",
        "    return score\n",
        "\n",
        "def maeOverFscore_keras(y_true, y_pred):\n",
        "    score = tf.py_function(func=maeOverFscore, inp=[y_true, y_pred], Tout=tf.float32,  name='custom_mse') \n",
        "    return score"
      ],
      "execution_count": 0,
      "outputs": []
    },
    {
      "cell_type": "markdown",
      "metadata": {
        "colab_type": "text",
        "id": "nWrybUnXIts7"
      },
      "source": [
        "## 데이터 제네레이터 만들기"
      ]
    },
    {
      "cell_type": "code",
      "metadata": {
        "id": "V95R8tSScXsi",
        "colab_type": "code",
        "colab": {
          "base_uri": "https://localhost:8080/",
          "height": 34
        },
        "outputId": "a48abdf9-5f54-4c6c-b914-75dd36de60c1"
      },
      "source": [
        "gc.collect()"
      ],
      "execution_count": 8,
      "outputs": [
        {
          "output_type": "execute_result",
          "data": {
            "text/plain": [
              "29"
            ]
          },
          "metadata": {
            "tags": []
          },
          "execution_count": 8
        }
      ]
    },
    {
      "cell_type": "code",
      "metadata": {
        "id": "X-rAnAGAXEk-",
        "colab_type": "code",
        "colab": {}
      },
      "source": [
        "def augment_generator(train):\n",
        "    rotate = np.zeros([train.shape[0]*4,40,40,train.shape[3]])\n",
        "    ch_num = train.shape[3]\n",
        "    train_len = train.shape[0]\n",
        "    rotate[:train_len,:,:,:] = train\n",
        "    rotate[train_len : train_len * 2,:,:,:] = np.rot90(rotate[:train_len,:,:,:], axes = (1,2))\n",
        "    rotate[train_len * 2 : train_len * 3,:,:,:] = np.rot90(rotate[train_len : train_len * 2,:,:,:], axes = (1,2))\n",
        "    rotate[train_len * 3 : train_len * 4,:,:,:] = np.rot90(rotate[train_len * 2 : train_len * 3,:,:,:], axes = (1,2))\n",
        "    return rotate\n",
        "\n",
        "class MultiOutputDataGenerator(tf.keras.preprocessing.image.ImageDataGenerator):\n",
        "    def flow(self,\n",
        "             x,\n",
        "             y,\n",
        "             batch_size=None,\n",
        "             shuffle=True,\n",
        "             sample_weight=None,\n",
        "             seed=None,\n",
        "             save_to_dir=None,\n",
        "             save_prefix='',\n",
        "             save_format='png',\n",
        "             subset=None):\n",
        "\n",
        "        for flowx, flowy in super().flow(x,y, batch_size= batch_size, shuffle = shuffle):\n",
        "            flowx = augment_generator(flowx)\n",
        "            flowy = augment_generator(flowy)\n",
        "            yield (flowx, flowy)"
      ],
      "execution_count": 0,
      "outputs": []
    },
    {
      "cell_type": "code",
      "metadata": {
        "id": "wEDseZZIzg66",
        "colab_type": "code",
        "outputId": "f8fc8e79-3cea-44df-c73a-cba07a33d208",
        "colab": {
          "base_uri": "https://localhost:8080/",
          "height": 34
        }
      },
      "source": [
        "gc.collect()"
      ],
      "execution_count": 10,
      "outputs": [
        {
          "output_type": "execute_result",
          "data": {
            "text/plain": [
              "569"
            ]
          },
          "metadata": {
            "tags": []
          },
          "execution_count": 10
        }
      ]
    },
    {
      "cell_type": "code",
      "metadata": {
        "id": "xSK1Hk1Z16ZS",
        "colab_type": "code",
        "colab": {}
      },
      "source": [
        "from sklearn.model_selection import KFold\n",
        "def train_model(x_data, y_data, k, s):\n",
        "    k_fold = KFold(n_splits=k, shuffle=True, random_state=7777)\n",
        "    model_number = 0\n",
        "    for train_idx, val_idx in k_fold.split(x_data):\n",
        "        if model_number == s:\n",
        "            x_train, y_train = x_data[train_idx], y_data[train_idx]\n",
        "            x_val, y_val = x_data[val_idx], y_data[val_idx]\n",
        "            model = create_model()\n",
        "            model.compile(loss=\"mae\", optimizer=\"adam\", metrics=[maeOverFscore_keras, fscore_keras])\n",
        "            callbacks_list = [\n",
        "                tf.keras.callbacks.ReduceLROnPlateau(\n",
        "                    monitor='val_loss',\n",
        "                    patience=3,\n",
        "                    factor=0.8\n",
        "                ),\n",
        "                tf.keras.callbacks.ModelCheckpoint(\n",
        "                    filepath = '/content/drive/My Drive/2020 Kaggle Study/deagwon/best_model'+str(model_number)+'.h5',\n",
        "                    monitor='val_score',\n",
        "                    save_best_only=True\n",
        "                )\n",
        "            ]\n",
        "\n",
        "            datagen = MultiOutputDataGenerator()\n",
        "            datagen.fit(x_train)\n",
        "            batch_size = 32\n",
        "            model.fit(datagen.flow(x_train, y_train, batch_size=batch_size), epochs=50,\n",
        "                      steps_per_epoch = len(x_train) // batch_size,\n",
        "                      validation_data=(x_val, y_val), callbacks=callbacks_list)\n",
        "            model.save(f'/content/drive/My Drive/2020 Kaggle Study/deagwon/model_trainonly_{model_number}.h5')\n",
        "            break##### 일단은 한 폴드만 학습\n",
        "        model_number+=1"
      ],
      "execution_count": 0,
      "outputs": []
    },
    {
      "cell_type": "code",
      "metadata": {
        "id": "Qv54pJWa_1I9",
        "colab_type": "code",
        "outputId": "9a3cd6f9-de41-4135-c755-27932af71611",
        "colab": {
          "base_uri": "https://localhost:8080/",
          "height": 52
        }
      },
      "source": [
        "from tensorflow.keras.models import load_model, Model\n",
        "k = 10\n",
        "models = []\n",
        "train_model(train[:,:,:,:-1], train[:,:,:,-1].reshape(-1,40,40,1), k=k, s=4)"
      ],
      "execution_count": 0,
      "outputs": [
        {
          "output_type": "stream",
          "text": [
            "Epoch 1/50\n",
            "1668/1730 [===========================>..] - ETA: 21s - loss: 5.1740 - maeOverFscore_keras: 2.1715 - fscore_keras: 0.6999"
          ],
          "name": "stdout"
        }
      ]
    },
    {
      "cell_type": "code",
      "metadata": {
        "id": "-xlp_OyegxRx",
        "colab_type": "code",
        "colab": {
          "base_uri": "https://localhost:8080/",
          "height": 285
        },
        "outputId": "66ab00a7-b59d-43bb-d1f4-2dd46d2f4f42"
      },
      "source": [
        "plt.imshow(model.predict(train[8,:,:,:10].reshape(1,40,40,10)).reshape(40,40))"
      ],
      "execution_count": 37,
      "outputs": [
        {
          "output_type": "execute_result",
          "data": {
            "text/plain": [
              "<matplotlib.image.AxesImage at 0x7f62f5696c18>"
            ]
          },
          "metadata": {
            "tags": []
          },
          "execution_count": 37
        },
        {
          "output_type": "display_data",
          "data": {
            "image/png": "[encoded data removed]",
            "text/plain": [
              "<Figure size 432x288 with 1 Axes>"
            ]
          },
          "metadata": {
            "tags": [],
            "needs_background": "dark"
          }
        }
      ]
    },
    {
      "cell_type": "code",
      "metadata": {
        "id": "jIk5xRAXgjOj",
        "colab_type": "code",
        "colab": {
          "base_uri": "https://localhost:8080/",
          "height": 285
        },
        "outputId": "3c60dd37-1103-4790-c299-738e08540a72"
      },
      "source": [
        "plt.imshow(train[8,:,:,10].reshape(40,40))"
      ],
      "execution_count": 40,
      "outputs": [
        {
          "output_type": "execute_result",
          "data": {
            "text/plain": [
              "<matplotlib.image.AxesImage at 0x7f62f55cddd8>"
            ]
          },
          "metadata": {
            "tags": []
          },
          "execution_count": 40
        },
        {
          "output_type": "display_data",
          "data": {
            "image/png": "[encoded data removed]",
            "text/plain": [
              "<Figure size 432x288 with 1 Axes>"
            ]
          },
          "metadata": {
            "tags": [],
            "needs_background": "dark"
          }
        }
      ]
    },
    {
      "cell_type": "code",
      "metadata": {
        "id": "aSNAiNaT8iYS",
        "colab_type": "code",
        "colab": {}
      },
      "source": [
        "model.save('model.h5')"
      ],
      "execution_count": 0,
      "outputs": []
    },
    {
      "cell_type": "code",
      "metadata": {
        "colab_type": "code",
        "id": "XsjsawsGh_zs",
        "colab": {}
      },
      "source": [
        "# 훈련에서 사용하는 0~8번 채널, ladtype 만을 뽑아서 X_test에 저장하기\n",
        "test_submit = np.load('/content/drive/My Drive/2020 Kaggle Study/data/test.npy')\n",
        "test_submit = test_submit[:,:,:,:10]\n",
        "del test_submit\n",
        "gc.collect()\n",
        "pred = model.predict(test_submit)"
      ],
      "execution_count": 0,
      "outputs": []
    },
    {
      "cell_type": "markdown",
      "metadata": {
        "colab_type": "text",
        "id": "2xM7q7FpIttP"
      },
      "source": [
        "## submission 만들기"
      ]
    },
    {
      "cell_type": "code",
      "metadata": {
        "colab_type": "code",
        "id": "BaAuaIqhh_z3",
        "colab": {}
      },
      "source": [
        "submission = pd.read_csv('/content/drive/My Drive/2020 Kaggle Study/data/sample_submission.csv')"
      ],
      "execution_count": 0,
      "outputs": []
    },
    {
      "cell_type": "code",
      "metadata": {
        "colab_type": "code",
        "id": "r3sFI91Gh_z8",
        "colab": {}
      },
      "source": [
        "submission.iloc[:,1:] = pred.reshape(-1, 1600)"
      ],
      "execution_count": 0,
      "outputs": []
    },
    {
      "cell_type": "code",
      "metadata": {
        "colab_type": "code",
        "id": "bPPRCvO_h_z_",
        "colab": {}
      },
      "source": [
        "submission.to_csv('Dacon_landtype.csv', index = False)"
      ],
      "execution_count": 0,
      "outputs": []
    },
    {
      "cell_type": "code",
      "metadata": {
        "colab_type": "code",
        "id": "9fBTzEKnh_0B",
        "colab": {}
      },
      "source": [
        "# 제출파일 구글 드라이브에 올리기\n",
        "!cp Dacon_landtype.csv '/content/drive/My Drive/2020 Kaggle Study/submission'"
      ],
      "execution_count": 0,
      "outputs": []
    }
  ]
}