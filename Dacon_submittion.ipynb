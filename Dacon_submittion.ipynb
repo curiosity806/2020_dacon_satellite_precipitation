{
  "nbformat": 4,
  "nbformat_minor": 0,
  "metadata": {
    "colab": {
      "name": "Dacon_submittion",
      "provenance": [],
      "collapsed_sections": [],
      "toc_visible": true,
      "machine_shape": "hm",
      "include_colab_link": true
    },
    "kernelspec": {
      "name": "python3",
      "display_name": "Python 3"
    },
    "accelerator": "GPU"
  },
  "cells": [
    {
      "cell_type": "markdown",
      "metadata": {
        "id": "view-in-github",
        "colab_type": "text"
      },
      "source": [
        "<a href=\"https://colab.research.google.com/github/curiosity806/2020_dacon_satellite_precipitation/blob/deagwon/Dacon_submittion.ipynb\" target=\"_parent\"><img src=\"https://colab.research.google.com/assets/colab-badge.svg\" alt=\"Open In Colab\"/></a>"
      ]
    },
    {
      "cell_type": "code",
      "metadata": {
        "id": "oi-MWY4HOblX",
        "colab_type": "code",
        "outputId": "add3cbe5-bc08-448a-f1ee-a89d47daf21d",
        "colab": {
          "base_uri": "https://localhost:8080/",
          "height": 125
        }
      },
      "source": [
        "from google.colab import drive\n",
        "drive.mount('/content/drive')"
      ],
      "execution_count": 1,
      "outputs": [
        {
          "output_type": "stream",
          "text": [
            "Go to this URL in a browser: https://accounts.google.com/o/oauth2/auth?client_id=947318989803-6bn6qk8qdgf4n4g3pfee6491hc0brc4i.apps.googleusercontent.com&redirect_uri=urn%3aietf%3awg%3aoauth%3a2.0%3aoob&response_type=code&scope=email%20https%3a%2f%2fwww.googleapis.com%2fauth%2fdocs.test%20https%3a%2f%2fwww.googleapis.com%2fauth%2fdrive%20https%3a%2f%2fwww.googleapis.com%2fauth%2fdrive.photos.readonly%20https%3a%2f%2fwww.googleapis.com%2fauth%2fpeopleapi.readonly\n",
            "\n",
            "Enter your authorization code:\n",
            "··········\n",
            "Mounted at /content/drive\n"
          ],
          "name": "stdout"
        }
      ]
    },
    {
      "cell_type": "code",
      "metadata": {
        "id": "h6La-zpczGzY",
        "colab_type": "code",
        "outputId": "33f44b35-f75c-4f06-cb54-c91c2a51b2a7",
        "colab": {
          "base_uri": "https://localhost:8080/",
          "height": 72
        }
      },
      "source": [
        "import glob\n",
        "import pandas as pd\n",
        "import numpy as np\n",
        "import matplotlib.pylab as plt\n",
        "import seaborn as sns\n",
        "from tqdm import tqdm\n",
        "import matplotlib.pyplot as plt\n",
        "import tensorflow as tf\n",
        "import os\n",
        "import random\n",
        "from tensorflow.keras.layers import Dense, Conv2D, Dropout, Conv2DTranspose, MaxPooling2D, BatchNormalization, Activation, concatenate, Input, GlobalAveragePooling2D\n",
        "from tensorflow.keras import Model\n",
        "import warnings\n",
        "import gc\n",
        "import matplotlib.pyplot as plt\n",
        "import matplotlib.animation as animation\n",
        "from scipy import stats\n",
        "warnings.filterwarnings(\"ignore\")\n",
        "# style 설정\n",
        "plt.style.use('dark_background')\n",
        "plt.style.use('seaborn-colorblind')\n",
        "\n",
        "# 재생산성을 위해 시드 고정\n",
        "np.random.seed(7)\n",
        "random.seed(7)\n",
        "tf.random.set_seed(7)"
      ],
      "execution_count": 2,
      "outputs": [
        {
          "output_type": "stream",
          "text": [
            "/usr/local/lib/python3.6/dist-packages/statsmodels/tools/_testing.py:19: FutureWarning: pandas.util.testing is deprecated. Use the functions in the public API at pandas.testing instead.\n",
            "  import pandas.util.testing as tm\n"
          ],
          "name": "stderr"
        }
      ]
    },
    {
      "cell_type": "markdown",
      "metadata": {
        "colab_type": "text",
        "id": "pYZYG3G-Itsk"
      },
      "source": [
        "# 모델만들기"
      ]
    },
    {
      "cell_type": "code",
      "metadata": {
        "id": "i_NhbS4s09p_",
        "colab_type": "code",
        "colab": {}
      },
      "source": [
        "from sklearn.metrics import f1_score\n",
        "\n",
        "def mae(y_true, y_pred) :\n",
        "    y_true, y_pred = np.array(y_true), np.array(y_pred)\n",
        "    y_true = y_true.reshape(1, -1)[0]\n",
        "    y_pred = y_pred.reshape(1, -1)[0]\n",
        "    over_threshold = y_true >= 0.1\n",
        "    return np.mean(np.abs(y_true[over_threshold] - y_pred[over_threshold]))\n",
        "\n",
        "def fscore(y_true, y_pred):\n",
        "    y_true, y_pred = np.array(y_true), np.array(y_pred)\n",
        "    y_true = y_true.reshape(1, -1)[0]\n",
        "    y_pred = y_pred.reshape(1, -1)[0]\n",
        "    remove_NAs = y_true >= 0\n",
        "    y_true = np.where(y_true[remove_NAs] >= 0.1, 1, 0)\n",
        "    y_pred = np.where(y_pred[remove_NAs] >= 0.1, 1, 0)\n",
        "    return(f1_score(y_true, y_pred))\n",
        "\n",
        "def maeOverFscore(y_true, y_pred):\n",
        "    return mae(y_true, y_pred) / (fscore(y_true, y_pred) + 1e-07)\n",
        "\n",
        "def fscore_keras(y_true, y_pred):\n",
        "    score = tf.py_function(func=fscore, inp=[y_true, y_pred], Tout=tf.float32, name='fscore_keras')\n",
        "    return score\n",
        "\n",
        "def maeOverFscore_keras(y_true, y_pred):\n",
        "    score = tf.py_function(func=maeOverFscore, inp=[y_true, y_pred], Tout=tf.float32,  name='custom_mse') \n",
        "    return score"
      ],
      "execution_count": 0,
      "outputs": []
    },
    {
      "cell_type": "markdown",
      "metadata": {
        "colab_type": "text",
        "id": "nWrybUnXIts7"
      },
      "source": [
        "## 데이터 제네레이터 만들기"
      ]
    },
    {
      "cell_type": "code",
      "metadata": {
        "id": "LSQ-XoTIMsD8",
        "colab_type": "code",
        "colab": {}
      },
      "source": [
        "# GMI좌표로 보정된 데이터\n",
        "gmi_pre = np.load('/content/drive/My Drive/2020 Kaggle Study/data/gmi_preci_32bits.npy')"
      ],
      "execution_count": 0,
      "outputs": []
    },
    {
      "cell_type": "code",
      "metadata": {
        "id": "aSNAiNaT8iYS",
        "colab_type": "code",
        "colab": {}
      },
      "source": [
        "model.save('model.h5')"
      ],
      "execution_count": 0,
      "outputs": []
    },
    {
      "cell_type": "markdown",
      "metadata": {
        "id": "_qg-RmDqpVq3",
        "colab_type": "text"
      },
      "source": [
        "## submission 만들기"
      ]
    },
    {
      "cell_type": "code",
      "metadata": {
        "id": "OKLdZ3l6Q6HK",
        "colab_type": "code",
        "colab": {}
      },
      "source": [
        "#test data도 시간 데이터 추가하기\n",
        "test = np.load('/content/drive/My Drive/2020 Kaggle Study/data/test.npy')\n",
        "test_orbit = np.load('/content/drive/My Drive/2020 Kaggle Study/data/orbit_no_shuffle/test_orbit.npy')\n",
        "test_orbit = pd.DataFrame(test_orbit)\n",
        "test_orbit.columns = ['orbit_number', 'order']\n",
        "test_orbit['year'] = 2019\n",
        "test_orbit['month'] = (test_orbit['orbit_number'] - 27510) / 5682 * 12\n",
        "test_orbit['day'] = (test_orbit['orbit_number'] - 27510)/5682 * 365\n",
        "test_orbit['time'] = (test_orbit['orbit_number'] - 27510)/(5682)*(365 * 24) % 24\n",
        "\n",
        "\n",
        "test_orbit.month = test_orbit.month.apply(np.ceil)# 올림\n",
        "test_orbit.month[test_orbit.month == 0] = 1 # 가장 처음 나오는 orbit은 1월로\n",
        "test_orbit.day = test_orbit.day.apply(np.ceil)# 올림\n",
        "test_orbit.day[test_orbit.day == 0] = 1 # 가장 처음 나오는 orbit은 1일로\n",
        "test_orbit.time = test_orbit.time.apply(np.floor)# 내림\n",
        "\n",
        "#1. month_sin, month_cos만들기\n",
        "test_orbit['month_sin'] = np.sin(2 * np.pi * (test_orbit['month']-1)/11)\n",
        "test_orbit['month_cos'] = np.cos(2 * np.pi * (test_orbit['month']-1)/11)\n",
        "\n",
        "# 2. day\n",
        "test_orbit['day_sin'] = np.sin(2 * np.pi * (test_orbit['day']-1)/365)\n",
        "test_orbit['day_cos'] = np.cos(2 * np.pi * (test_orbit['day']-1)/365)\n",
        "\n",
        "# 3. time\n",
        "test_orbit['time_sin'] = np.sin(2 * np.pi * (test_orbit['time'])/23)\n",
        "test_orbit['time_cos'] = np.cos(2 * np.pi * (test_orbit['time'])/23)"
      ],
      "execution_count": 0,
      "outputs": []
    },
    {
      "cell_type": "code",
      "metadata": {
        "id": "XOHVqCNqQ6Ds",
        "colab_type": "code",
        "outputId": "bf4a1970-66d1-4e52-a893-2d911b9fba6e",
        "colab": {
          "base_uri": "https://localhost:8080/",
          "height": 34
        }
      },
      "source": [
        "#스케일러 학습\n",
        "from sklearn.preprocessing import RobustScaler\n",
        "path = '/content/drive/My Drive/2020 Kaggle Study/deagwon/ch_part_eda/'\n",
        "robust_sc = {}\n",
        "for ch in tqdm(range(9)):\n",
        "    for sw in range(2):\n",
        "        for dn in range(2):\n",
        "            for ls in range(2):\n",
        "                for la in range(4): \n",
        "                    data = np.load(f'{path}ch{ch}_{sw}{dn}{ls}{la}.npy')\n",
        "                    robust_scaler = RobustScaler()\n",
        "                    robust_scaler.fit(data.reshape(-1,1))\n",
        "                    robust_sc[ch, sw, dn, ls, la] = robust_scaler\n",
        "                    #pickle.dump(ch, model, open(f'{path}scaler_{ch}{sw}{dn}{ls}{la}.sav', 'wb'))"
      ],
      "execution_count": 5,
      "outputs": [
        {
          "output_type": "stream",
          "text": [
            "100%|██████████| 9/9 [04:43<00:00, 31.51s/it]\n"
          ],
          "name": "stderr"
        }
      ]
    },
    {
      "cell_type": "code",
      "metadata": {
        "id": "8J6WU3wARgky",
        "colab_type": "code",
        "outputId": "085ecf5d-69ed-405a-c4cf-fbf3af61b74a",
        "colab": {
          "base_uri": "https://localhost:8080/",
          "height": 175
        }
      },
      "source": [
        "# land type 보정\n",
        "def re_landtype(data):\n",
        "    rain = data[:,:,:,9].reshape(-1)\n",
        "    rain = rain//100\n",
        "    #data[data[:,:,:,9] == 0] = 0 #Ocean\n",
        "    rain[rain == 1] = 1 #land\n",
        "    rain[rain == 2] = 0.5 #costal\n",
        "    rain[rain == 3] = 0.2 #in land water\n",
        "    data[:,:,:,9] = rain.reshape(-1,40,40)\n",
        "    return data\n",
        "test = re_landtype(test)\n",
        "\n",
        "test_day_time = test_orbit[['day', 'time']].values\n",
        "test_normalization = np.zeros_like(test[:,:,:,:10], np.float32)# target 제거 총 10개의 feature\n",
        "\n",
        "#위도의 최대 최소\n",
        "lat_max = 55.846363#np.max(test[:,:,:,11].reshape(-1))\n",
        "lat_min = 4.0785685#np.min(test[:,:,:,11].reshape(-1))\n",
        "day_start = int(7/2)\n",
        "day_end = int((23+7)/2)\n",
        "summer_start = int((201 + 50) / 2)\n",
        "summer_end = int((50 + (365 - 201))/2 + 201)\n",
        "\n",
        "\n",
        "land_type = test[:,:,:,9].reshape(-1)\n",
        "land_type = land_type>0.1\n",
        "\n",
        "length = len(test[:,:,:,0].reshape(-1))\n",
        "for ch in range(9):\n",
        "    for sample_index in tqdm(range(len(test))):\n",
        "        normalization_sample = np.zeros((1600,1))\n",
        "        summer_winter = ((test_day_time[sample_index,0] < summer_end) & (test_day_time[sample_index,0] > summer_start)) * 1\n",
        "        day_night = ((test_day_time[sample_index,1] < day_end) & (test_day_time[sample_index,1] > day_start)) * 1\n",
        "        lat = int((test[sample_index,20,20,11]-lat_min)*4/(lat_max-lat_min))\n",
        "        land_type_index = land_type[sample_index * 1600 : (sample_index+1) * 1600]\n",
        "\n",
        "        if land_type_index.sum() != 0:\n",
        "            normalization_sample[land_type_index] = robust_sc[ch,summer_winter,\n",
        "                                                              day_night,1,lat].transform(test[sample_index,:,:,ch].reshape(-1,1)[land_type_index])\n",
        "        if sum(land_type_index != True) != 0:\n",
        "            normalization_sample[land_type_index != True] = robust_sc[ch,summer_winter,\n",
        "                                                                      day_night,0,lat].transform(test[sample_index,:,:,ch].reshape(-1,1)[land_type_index != True])\n",
        "        \n",
        "        test_normalization[sample_index,:,:,ch] = normalization_sample.reshape(40,40)\n",
        "        \n",
        "test_normalization[:,:,:,9] = test[:,:,:,9]\n",
        "#test_normalization[:,:,:,10] = test[:,:,:,-1]"
      ],
      "execution_count": 6,
      "outputs": [
        {
          "output_type": "stream",
          "text": [
            "100%|██████████| 2416/2416 [00:07<00:00, 322.37it/s]\n",
            "100%|██████████| 2416/2416 [00:07<00:00, 317.33it/s]\n",
            "100%|██████████| 2416/2416 [00:07<00:00, 321.21it/s]\n",
            "100%|██████████| 2416/2416 [00:07<00:00, 317.44it/s]\n",
            "100%|██████████| 2416/2416 [00:07<00:00, 319.86it/s]\n",
            "100%|██████████| 2416/2416 [00:07<00:00, 318.28it/s]\n",
            "100%|██████████| 2416/2416 [00:07<00:00, 325.21it/s]\n",
            "100%|██████████| 2416/2416 [00:07<00:00, 318.97it/s]\n",
            "100%|██████████| 2416/2416 [00:07<00:00, 320.23it/s]\n"
          ],
          "name": "stderr"
        }
      ]
    },
    {
      "cell_type": "code",
      "metadata": {
        "id": "F8p-yY3fYiX3",
        "colab_type": "code",
        "outputId": "10c8a81d-dc10-4c7a-8595-111163298346",
        "colab": {
          "base_uri": "https://localhost:8080/",
          "height": 34
        }
      },
      "source": [
        "test_normalization.shape"
      ],
      "execution_count": 7,
      "outputs": [
        {
          "output_type": "execute_result",
          "data": {
            "text/plain": [
              "(2416, 40, 40, 10)"
            ]
          },
          "metadata": {
            "tags": []
          },
          "execution_count": 7
        }
      ]
    },
    {
      "cell_type": "code",
      "metadata": {
        "id": "QqCAPco0OEFS",
        "colab_type": "code",
        "colab": {}
      },
      "source": [
        ""
      ],
      "execution_count": 0,
      "outputs": []
    },
    {
      "cell_type": "code",
      "metadata": {
        "id": "U3t2gXonOECV",
        "colab_type": "code",
        "colab": {}
      },
      "source": [
        ""
      ],
      "execution_count": 0,
      "outputs": []
    },
    {
      "cell_type": "code",
      "metadata": {
        "colab_type": "code",
        "id": "BaAuaIqhh_z3",
        "colab": {}
      },
      "source": [
        "model = tf.keras.models.load_model('model_4.h5', compile = False)\n",
        "model.compile(loss=\"mae\", optimizer=\"adam\", metrics=[maeOverFscore_keras, fscore_keras])\n",
        "pred = model.predict(test_normalization)\n",
        "submission = pd.read_csv('/content/drive/My Drive/2020 Kaggle Study/data/sample_submission.csv')"
      ],
      "execution_count": 0,
      "outputs": []
    },
    {
      "cell_type": "code",
      "metadata": {
        "colab_type": "code",
        "id": "r3sFI91Gh_z8",
        "colab": {}
      },
      "source": [
        "submission.iloc[:,1:] = pred.reshape(-1, 1600)"
      ],
      "execution_count": 0,
      "outputs": []
    },
    {
      "cell_type": "code",
      "metadata": {
        "colab_type": "code",
        "id": "bPPRCvO_h_z_",
        "colab": {}
      },
      "source": [
        "submission.to_csv('Dacon_normalization.csv', index = False)"
      ],
      "execution_count": 0,
      "outputs": []
    },
    {
      "cell_type": "code",
      "metadata": {
        "colab_type": "code",
        "id": "9fBTzEKnh_0B",
        "colab": {}
      },
      "source": [
        "# 제출파일 구글 드라이브에 올리기\n",
        "!cp Dacon_landtype.csv '/content/drive/My Drive/2020 Kaggle Study/submission'"
      ],
      "execution_count": 0,
      "outputs": []
    }
  ]
}