{
  "nbformat": 4,
  "nbformat_minor": 0,
  "metadata": {
    "colab": {
      "name": "Dacon_satellite_baseline",
      "provenance": [],
      "machine_shape": "hm",
      "include_colab_link": true
    },
    "kernelspec": {
      "name": "python3",
      "display_name": "Python 3"
    },
    "accelerator": "GPU"
  },
  "cells": [
    {
      "cell_type": "markdown",
      "metadata": {
        "id": "view-in-github",
        "colab_type": "text"
      },
      "source": [
        "<a href=\"https://colab.research.google.com/github/curiosity806/2020_dacon_satellite_precipitation/blob/bogyung/Dacon_satellite_new_model.ipynb\" target=\"_parent\"><img src=\"https://colab.research.google.com/assets/colab-badge.svg\" alt=\"Open In Colab\"/></a>"
      ]
    },
    {
      "cell_type": "code",
      "metadata": {
        "id": "oi-MWY4HOblX",
        "colab_type": "code",
        "outputId": "2ca8c26b-535e-4220-a16f-9354233812d0",
        "colab": {
          "base_uri": "https://localhost:8080/",
          "height": 125
        }
      },
      "source": [
        "from google.colab import drive\n",
        "drive.mount('/content/drive')"
      ],
      "execution_count": 1,
      "outputs": [
        {
          "output_type": "stream",
          "text": [
            "Go to this URL in a browser: https://accounts.google.com/o/oauth2/auth?client_id=947318989803-6bn6qk8qdgf4n4g3pfee6491hc0brc4i.apps.googleusercontent.com&redirect_uri=urn%3aietf%3awg%3aoauth%3a2.0%3aoob&response_type=code&scope=email%20https%3a%2f%2fwww.googleapis.com%2fauth%2fdocs.test%20https%3a%2f%2fwww.googleapis.com%2fauth%2fdrive%20https%3a%2f%2fwww.googleapis.com%2fauth%2fdrive.photos.readonly%20https%3a%2f%2fwww.googleapis.com%2fauth%2fpeopleapi.readonly\n",
            "\n",
            "Enter your authorization code:\n",
            "··········\n",
            "Mounted at /content/drive\n"
          ],
          "name": "stdout"
        }
      ]
    },
    {
      "cell_type": "code",
      "metadata": {
        "id": "h6La-zpczGzY",
        "colab_type": "code",
        "outputId": "04313b88-4437-43ca-c237-283bdf817d59",
        "colab": {
          "base_uri": "https://localhost:8080/",
          "height": 72
        }
      },
      "source": [
        "import glob\n",
        "import pandas as pd\n",
        "import numpy as np\n",
        "import matplotlib.pylab as plt\n",
        "import seaborn as sns\n",
        "from tqdm import tqdm\n",
        "import matplotlib.pyplot as plt\n",
        "import tensorflow as tf\n",
        "import os\n",
        "import random\n",
        "from tensorflow.keras.layers import Dense, Conv2D, Dropout, Conv2DTranspose, MaxPooling2D, BatchNormalization, Activation, concatenate, Input, GlobalAveragePooling2D\n",
        "from tensorflow.keras import Model\n",
        "import warnings\n",
        "import gc\n",
        "from sklearn.model_selection import train_test_split, KFold\n",
        "from sklearn.metrics import f1_score\n",
        "\n",
        "warnings.filterwarnings(\"ignore\")"
      ],
      "execution_count": 2,
      "outputs": [
        {
          "output_type": "stream",
          "text": [
            "/usr/local/lib/python3.6/dist-packages/statsmodels/tools/_testing.py:19: FutureWarning: pandas.util.testing is deprecated. Use the functions in the public API at pandas.testing instead.\n",
            "  import pandas.util.testing as tm\n"
          ],
          "name": "stderr"
        }
      ]
    },
    {
      "cell_type": "markdown",
      "metadata": {
        "id": "0pUOc4bq-IrZ",
        "colab_type": "text"
      },
      "source": [
        "## 데이터 받아오기"
      ]
    },
    {
      "cell_type": "code",
      "metadata": {
        "id": "q1iW93kj0O2u",
        "colab_type": "code",
        "colab": {}
      },
      "source": [
        "submission = pd.read_csv('/content/drive/My Drive/2020 Kaggle Study/data/sample_submission.csv')\n",
        "train = np.load('/content/drive/My Drive/2020 Kaggle Study/data/train_total_32bits.npy')\n",
        "test = np.load('/content/drive/My Drive/2020 Kaggle Study/data/test.npy').astype('float32')\n",
        "gmi_preci = np.load('/content/drive/My Drive/2020 Kaggle Study/data/gmi_preci_32bits.npy')"
      ],
      "execution_count": 0,
      "outputs": []
    },
    {
      "cell_type": "code",
      "metadata": {
        "id": "5Bwy5ExhNpF0",
        "colab_type": "code",
        "colab": {}
      },
      "source": [
        "land_type_data = train[:,:,:,9]\n",
        "land_type_data = np.where(land_type_data//100 == 2, 0.8,\n",
        "                          np.where(land_type_data//100 == 3, 0.1,\n",
        "                                   land_type_data//100))\n",
        "\n",
        "from sklearn.preprocessing import StandardScaler\n",
        "scaler = StandardScaler()\n",
        "train_scaled = scaler.fit_transform(train.reshape(-1, 15))\n",
        "train_scaled = train_scaled.reshape(train.shape)\n",
        "train_scaled[:,:,:,9] = land_type_data\n",
        "train_scaled[:,:,:,-1] = gmi_preci.reshape(-1, 40, 40)  # GMI precipatation\n",
        "\n",
        "train = train_scaled.copy()\n",
        "del train_scaled"
      ],
      "execution_count": 0,
      "outputs": []
    },
    {
      "cell_type": "code",
      "metadata": {
        "id": "bKjP-Uobze5P",
        "colab_type": "code",
        "colab": {}
      },
      "source": [
        "# 재생산성을 위해 시드 고정\n",
        "np.random.seed(7)\n",
        "random.seed(7)\n",
        "tf.random.set_seed(7)"
      ],
      "execution_count": 0,
      "outputs": []
    },
    {
      "cell_type": "markdown",
      "metadata": {
        "colab_type": "text",
        "id": "pYZYG3G-Itsk"
      },
      "source": [
        "## 모델만들기"
      ]
    },
    {
      "cell_type": "code",
      "metadata": {
        "id": "abieP-t1NwjK",
        "colab_type": "code",
        "colab": {}
      },
      "source": [
        "def create_model():\n",
        "    inputs=Input((40, 40, 10))\n",
        "    \n",
        "    bn=BatchNormalization()(inputs)\n",
        "    conv0=Conv2D(256, kernel_size=1, strides=1, padding='same', activation='relu')(bn)\n",
        "    \n",
        "    bn=BatchNormalization()(conv0)\n",
        "    conv=Conv2D(128, kernel_size=2, strides=1, padding='same', activation='relu')(bn)\n",
        "    concat=concatenate([conv0, conv], axis=3)\n",
        "    \n",
        "    bn=BatchNormalization()(concat)\n",
        "    conv=Conv2D(64, kernel_size=3, strides=1, padding='same', activation='relu')(bn)\n",
        "    concat=concatenate([concat, conv], axis=3)\n",
        "        \n",
        "    for i in range(5):\n",
        "        bn=BatchNormalization()(concat)\n",
        "        conv=Conv2D(32, kernel_size=3, strides=1, padding='same', activation='relu')(bn)\n",
        "        concat=concatenate([concat, conv], axis=3)\n",
        "    \n",
        "    bn=BatchNormalization()(concat)\n",
        "    outputs=Conv2D(1, kernel_size=1, strides=1, padding='same', activation='relu')(bn)\n",
        "    \n",
        "    model=Model(inputs=inputs, outputs=outputs)\n",
        "    \n",
        "    return model"
      ],
      "execution_count": 0,
      "outputs": []
    },
    {
      "cell_type": "code",
      "metadata": {
        "id": "zI3reSR2OSUJ",
        "colab_type": "code",
        "colab": {}
      },
      "source": [
        "model = create_model()"
      ],
      "execution_count": 0,
      "outputs": []
    },
    {
      "cell_type": "code",
      "metadata": {
        "id": "i_NhbS4s09p_",
        "colab_type": "code",
        "colab": {}
      },
      "source": [
        "from sklearn.metrics import f1_score\n",
        "\n",
        "def mae(y_true, y_pred) :\n",
        "    y_true, y_pred = np.array(y_true), np.array(y_pred)\n",
        "    y_true = y_true.reshape(1, -1)[0]\n",
        "    y_pred = y_pred.reshape(1, -1)[0]\n",
        "    over_threshold = y_true >= 0.1\n",
        "    return np.mean(np.abs(y_true[over_threshold] - y_pred[over_threshold]))\n",
        "\n",
        "def fscore(y_true, y_pred):\n",
        "    y_true, y_pred = np.array(y_true), np.array(y_pred)\n",
        "    y_true = y_true.reshape(1, -1)[0]\n",
        "    y_pred = y_pred.reshape(1, -1)[0]\n",
        "    remove_NAs = y_true >= 0\n",
        "    y_true = np.where(y_true[remove_NAs] >= 0.1, 1, 0)\n",
        "    y_pred = np.where(y_pred[remove_NAs] >= 0.1, 1, 0)\n",
        "    return(f1_score(y_true, y_pred))\n",
        "\n",
        "def maeOverFscore(y_true, y_pred):\n",
        "    return mae(y_true, y_pred) / (fscore(y_true, y_pred) + 1e-07)\n",
        "\n",
        "def fscore_keras(y_true, y_pred):\n",
        "    score = tf.py_function(func=fscore, inp=[y_true, y_pred], Tout=tf.float32, name='fscore_keras')\n",
        "    return score\n",
        "\n",
        "def maeOverFscore_keras(y_true, y_pred):\n",
        "    score = tf.py_function(func=maeOverFscore, inp=[y_true, y_pred], Tout=tf.float32,  name='custom_mse') \n",
        "    return score"
      ],
      "execution_count": 0,
      "outputs": []
    },
    {
      "cell_type": "code",
      "metadata": {
        "id": "Sv7Hk_LM1DNf",
        "colab_type": "code",
        "colab": {}
      },
      "source": [
        "model.compile(loss=\"mae\", optimizer=\"adam\", metrics=[maeOverFscore_keras, fscore_keras])"
      ],
      "execution_count": 0,
      "outputs": []
    },
    {
      "cell_type": "markdown",
      "metadata": {
        "colab_type": "text",
        "id": "nWrybUnXIts7"
      },
      "source": [
        "## 훈련"
      ]
    },
    {
      "cell_type": "code",
      "metadata": {
        "id": "xH5HvK3FcutT",
        "colab_type": "code",
        "outputId": "17fcd5f3-02f1-40d6-df58-b5631b803d9b",
        "colab": {
          "base_uri": "https://localhost:8080/",
          "height": 1000
        }
      },
      "source": [
        "from sklearn.model_selection import KFold\n",
        "kf = KFold(n_splits=5, shuffle = True)\n",
        "model_history = []\n",
        "fold_number = 0\n",
        "\n",
        "for train_index, test_index in kf.split(train):\n",
        "    print(f'\\nFold {fold_number}')\n",
        "    fold_number = fold_number + 1\n",
        "    \n",
        "    def trainGenerator():\n",
        "        for file in train[train_index]:\n",
        "            target= file[:,:,-1].reshape(40,40,1)\n",
        "            cutoff_labels = np.where(target < 0, 0, target)\n",
        "            feature = file[:,:,:10]\n",
        "            if (cutoff_labels > 0).sum() < 50:\n",
        "                continue\n",
        "            yield (feature, cutoff_labels)\n",
        "    train_dataset = tf.data.Dataset.from_generator(trainGenerator,\n",
        "                                                (tf.float32, tf.float32),\n",
        "                                                (tf.TensorShape([40,40,10]),\n",
        "                                                    tf.TensorShape([40,40,1])))\n",
        "    train_dataset = train_dataset.batch(32).prefetch(1) # batch size: 512 -> 32\n",
        "\n",
        "    def testGenerator():\n",
        "        for file in train[test_index]:\n",
        "            target= file[:,:,-1].reshape(40,40,1)\n",
        "            cutoff_labels = np.where(target < 0, 0, target)\n",
        "            feature = file[:,:,:10]\n",
        "            if (cutoff_labels > 0).sum() < 50:\n",
        "                continue\n",
        "            yield (feature, cutoff_labels)\n",
        "    test_dataset = tf.data.Dataset.from_generator(testGenerator,\n",
        "                                                (tf.float32, tf.float32),\n",
        "                                                (tf.TensorShape([40,40,10]),\n",
        "                                                    tf.TensorShape([40,40,1])))\n",
        "    test_size = len(test_index)\n",
        "    test_dataset = test_dataset.batch(32).prefetch(1) # batch size: test_size -> 32\n",
        "\n",
        "    history = model.fit(train_dataset, epochs = 10, verbose=1, validation_data = test_dataset)\n",
        "\n",
        "    model_history.append(history)\n",
        "    #del data\n",
        "    del train_dataset\n",
        "    del test_dataset\n",
        "    gc.collect()"
      ],
      "execution_count": 10,
      "outputs": [
        {
          "output_type": "stream",
          "text": [
            "\n",
            "Fold 0\n",
            "Epoch 1/10\n",
            "1228/1228 [==============================] - 369s 300ms/step - loss: 0.1587 - maeOverFscore_keras: 1.7972 - fscore_keras: 0.6553 - val_loss: 0.1418 - val_maeOverFscore_keras: 1.6606 - val_fscore_keras: 0.6542\n",
            "Epoch 2/10\n",
            "1228/1228 [==============================] - 365s 298ms/step - loss: 0.1451 - maeOverFscore_keras: 1.5932 - fscore_keras: 0.6815 - val_loss: 0.1366 - val_maeOverFscore_keras: 1.5030 - val_fscore_keras: 0.6914\n",
            "Epoch 3/10\n",
            "1228/1228 [==============================] - 365s 297ms/step - loss: 0.1413 - maeOverFscore_keras: 1.5220 - fscore_keras: 0.6943 - val_loss: 0.1382 - val_maeOverFscore_keras: 1.4111 - val_fscore_keras: 0.7209\n",
            "Epoch 4/10\n",
            "1228/1228 [==============================] - 364s 297ms/step - loss: 0.1391 - maeOverFscore_keras: 1.4748 - fscore_keras: 0.7041 - val_loss: 0.1407 - val_maeOverFscore_keras: 1.4031 - val_fscore_keras: 0.7266\n",
            "Epoch 5/10\n",
            "1228/1228 [==============================] - 365s 297ms/step - loss: 0.1372 - maeOverFscore_keras: 1.4389 - fscore_keras: 0.7122 - val_loss: 0.1382 - val_maeOverFscore_keras: 1.3981 - val_fscore_keras: 0.7281\n",
            "Epoch 6/10\n",
            "1228/1228 [==============================] - 365s 297ms/step - loss: 0.1351 - maeOverFscore_keras: 1.3956 - fscore_keras: 0.7221 - val_loss: 0.1350 - val_maeOverFscore_keras: 1.3776 - val_fscore_keras: 0.7322\n",
            "Epoch 7/10\n",
            "1228/1228 [==============================] - 364s 297ms/step - loss: 0.1332 - maeOverFscore_keras: 1.3595 - fscore_keras: 0.7304 - val_loss: 0.1325 - val_maeOverFscore_keras: 1.4011 - val_fscore_keras: 0.7188\n",
            "Epoch 8/10\n",
            "1228/1228 [==============================] - 364s 296ms/step - loss: 0.1317 - maeOverFscore_keras: 1.3306 - fscore_keras: 0.7375 - val_loss: 0.1280 - val_maeOverFscore_keras: 1.2928 - val_fscore_keras: 0.7456\n",
            "Epoch 9/10\n",
            "1228/1228 [==============================] - 365s 297ms/step - loss: 0.1306 - maeOverFscore_keras: 1.3071 - fscore_keras: 0.7434 - val_loss: 0.1266 - val_maeOverFscore_keras: 1.3161 - val_fscore_keras: 0.7330\n",
            "Epoch 10/10\n",
            "1228/1228 [==============================] - 369s 301ms/step - loss: 0.1293 - maeOverFscore_keras: 1.2834 - fscore_keras: 0.7492 - val_loss: 0.1264 - val_maeOverFscore_keras: 1.2770 - val_fscore_keras: 0.7466\n",
            "\n",
            "Fold 1\n",
            "Epoch 1/10\n",
            "1224/1224 [==============================] - 374s 305ms/step - loss: 0.1283 - maeOverFscore_keras: 1.2730 - fscore_keras: 0.7508 - val_loss: 0.1347 - val_maeOverFscore_keras: 1.2645 - val_fscore_keras: 0.7732\n",
            "Epoch 2/10\n",
            "1224/1224 [==============================] - 372s 304ms/step - loss: 0.1269 - maeOverFscore_keras: 1.2493 - fscore_keras: 0.7564 - val_loss: 0.1349 - val_maeOverFscore_keras: 1.2945 - val_fscore_keras: 0.7716\n",
            "Epoch 3/10\n",
            "1224/1224 [==============================] - 373s 305ms/step - loss: 0.1261 - maeOverFscore_keras: 1.2346 - fscore_keras: 0.7602 - val_loss: 0.1324 - val_maeOverFscore_keras: 1.2532 - val_fscore_keras: 0.7759\n",
            "Epoch 4/10\n",
            "1224/1224 [==============================] - 375s 306ms/step - loss: 0.1253 - maeOverFscore_keras: 1.2217 - fscore_keras: 0.7630 - val_loss: 0.1350 - val_maeOverFscore_keras: 1.2612 - val_fscore_keras: 0.7816\n",
            "Epoch 5/10\n",
            "1224/1224 [==============================] - 372s 304ms/step - loss: 0.1245 - maeOverFscore_keras: 1.2074 - fscore_keras: 0.7668 - val_loss: 0.1295 - val_maeOverFscore_keras: 1.2140 - val_fscore_keras: 0.7865\n",
            "Epoch 6/10\n",
            "1224/1224 [==============================] - 373s 304ms/step - loss: 0.1238 - maeOverFscore_keras: 1.1962 - fscore_keras: 0.7695 - val_loss: 0.1294 - val_maeOverFscore_keras: 1.2128 - val_fscore_keras: 0.7851\n",
            "Epoch 7/10\n",
            "1224/1224 [==============================] - 373s 305ms/step - loss: 0.1231 - maeOverFscore_keras: 1.1864 - fscore_keras: 0.7711 - val_loss: 0.1315 - val_maeOverFscore_keras: 1.2171 - val_fscore_keras: 0.7900\n",
            "Epoch 8/10\n",
            "1224/1224 [==============================] - 374s 306ms/step - loss: 0.1225 - maeOverFscore_keras: 1.1759 - fscore_keras: 0.7736 - val_loss: 0.1289 - val_maeOverFscore_keras: 1.2008 - val_fscore_keras: 0.7896\n",
            "Epoch 9/10\n",
            "1224/1224 [==============================] - 373s 305ms/step - loss: 0.1221 - maeOverFscore_keras: 1.1709 - fscore_keras: 0.7744 - val_loss: 0.1269 - val_maeOverFscore_keras: 1.1791 - val_fscore_keras: 0.7907\n",
            "Epoch 10/10\n",
            "1224/1224 [==============================] - 375s 306ms/step - loss: 0.1215 - maeOverFscore_keras: 1.1619 - fscore_keras: 0.7764 - val_loss: 0.1264 - val_maeOverFscore_keras: 1.1658 - val_fscore_keras: 0.7942\n",
            "\n",
            "Fold 2\n",
            "Epoch 1/10\n",
            "1221/1221 [==============================] - 374s 306ms/step - loss: 0.1233 - maeOverFscore_keras: 1.1779 - fscore_keras: 0.7760 - val_loss: 0.1269 - val_maeOverFscore_keras: 1.1914 - val_fscore_keras: 0.7853\n",
            "Epoch 2/10\n",
            "1221/1221 [==============================] - 374s 306ms/step - loss: 0.1223 - maeOverFscore_keras: 1.1650 - fscore_keras: 0.7782 - val_loss: 0.1276 - val_maeOverFscore_keras: 1.1931 - val_fscore_keras: 0.7873\n",
            "Epoch 3/10\n",
            "1221/1221 [==============================] - 373s 306ms/step - loss: 0.1214 - maeOverFscore_keras: 1.1537 - fscore_keras: 0.7804 - val_loss: 0.1281 - val_maeOverFscore_keras: 1.1941 - val_fscore_keras: 0.7840\n",
            "Epoch 4/10\n",
            "1221/1221 [==============================] - 373s 305ms/step - loss: 0.1209 - maeOverFscore_keras: 1.1477 - fscore_keras: 0.7811 - val_loss: 0.1261 - val_maeOverFscore_keras: 1.1792 - val_fscore_keras: 0.7881\n",
            "Epoch 5/10\n",
            "1221/1221 [==============================] - 375s 307ms/step - loss: 0.1204 - maeOverFscore_keras: 1.1408 - fscore_keras: 0.7821 - val_loss: 0.1291 - val_maeOverFscore_keras: 1.2186 - val_fscore_keras: 0.7868\n",
            "Epoch 6/10\n",
            "1221/1221 [==============================] - 374s 306ms/step - loss: 0.1197 - maeOverFscore_keras: 1.1332 - fscore_keras: 0.7834 - val_loss: 0.1271 - val_maeOverFscore_keras: 1.1863 - val_fscore_keras: 0.7834\n",
            "Epoch 7/10\n",
            "1221/1221 [==============================] - 373s 305ms/step - loss: 0.1195 - maeOverFscore_keras: 1.1310 - fscore_keras: 0.7834 - val_loss: 0.1273 - val_maeOverFscore_keras: 1.1879 - val_fscore_keras: 0.7873\n",
            "Epoch 8/10\n",
            "1221/1221 [==============================] - 374s 306ms/step - loss: 0.1191 - maeOverFscore_keras: 1.1248 - fscore_keras: 0.7846 - val_loss: 0.1284 - val_maeOverFscore_keras: 1.2010 - val_fscore_keras: 0.7835\n",
            "Epoch 9/10\n",
            "1221/1221 [==============================] - 375s 307ms/step - loss: 0.1188 - maeOverFscore_keras: 1.1221 - fscore_keras: 0.7845 - val_loss: 0.1287 - val_maeOverFscore_keras: 1.2012 - val_fscore_keras: 0.7835\n",
            "Epoch 10/10\n",
            "1221/1221 [==============================] - 375s 307ms/step - loss: 0.1182 - maeOverFscore_keras: 1.1149 - fscore_keras: 0.7855 - val_loss: 0.1271 - val_maeOverFscore_keras: 1.1831 - val_fscore_keras: 0.7855\n",
            "\n",
            "Fold 3\n",
            "Epoch 1/10\n",
            "1224/1224 [==============================] - 377s 308ms/step - loss: 0.1206 - maeOverFscore_keras: 1.1364 - fscore_keras: 0.7840 - val_loss: 0.1215 - val_maeOverFscore_keras: 1.1425 - val_fscore_keras: 0.7833\n",
            "Epoch 2/10\n",
            "1224/1224 [==============================] - 375s 307ms/step - loss: 0.1196 - maeOverFscore_keras: 1.1246 - fscore_keras: 0.7858 - val_loss: 0.1229 - val_maeOverFscore_keras: 1.1520 - val_fscore_keras: 0.7855\n",
            "Epoch 3/10\n",
            "1224/1224 [==============================] - 374s 306ms/step - loss: 0.1190 - maeOverFscore_keras: 1.1193 - fscore_keras: 0.7859 - val_loss: 0.1244 - val_maeOverFscore_keras: 1.1445 - val_fscore_keras: 0.7940\n",
            "Epoch 4/10\n",
            "1224/1224 [==============================] - 373s 305ms/step - loss: 0.1184 - maeOverFscore_keras: 1.1126 - fscore_keras: 0.7867 - val_loss: 0.1241 - val_maeOverFscore_keras: 1.1517 - val_fscore_keras: 0.7846\n",
            "Epoch 5/10\n",
            "1224/1224 [==============================] - 374s 306ms/step - loss: 0.1181 - maeOverFscore_keras: 1.1092 - fscore_keras: 0.7872 - val_loss: 0.1218 - val_maeOverFscore_keras: 1.1326 - val_fscore_keras: 0.7927\n",
            "Epoch 6/10\n",
            "1224/1224 [==============================] - 373s 305ms/step - loss: 0.1175 - maeOverFscore_keras: 1.1017 - fscore_keras: 0.7881 - val_loss: 0.1227 - val_maeOverFscore_keras: 1.1400 - val_fscore_keras: 0.7882\n",
            "Epoch 7/10\n",
            "1224/1224 [==============================] - 374s 305ms/step - loss: 0.1170 - maeOverFscore_keras: 1.0968 - fscore_keras: 0.7884 - val_loss: 0.1229 - val_maeOverFscore_keras: 1.1445 - val_fscore_keras: 0.7930\n",
            "Epoch 8/10\n",
            "1224/1224 [==============================] - 372s 304ms/step - loss: 0.1165 - maeOverFscore_keras: 1.0925 - fscore_keras: 0.7886 - val_loss: 0.1239 - val_maeOverFscore_keras: 1.1385 - val_fscore_keras: 0.7957\n",
            "Epoch 9/10\n",
            "1224/1224 [==============================] - 372s 304ms/step - loss: 0.1161 - maeOverFscore_keras: 1.0872 - fscore_keras: 0.7891 - val_loss: 0.1236 - val_maeOverFscore_keras: 1.1437 - val_fscore_keras: 0.7944\n",
            "Epoch 10/10\n",
            "1224/1224 [==============================] - 373s 305ms/step - loss: 0.1157 - maeOverFscore_keras: 1.0837 - fscore_keras: 0.7894 - val_loss: 0.1247 - val_maeOverFscore_keras: 1.1621 - val_fscore_keras: 0.7931\n",
            "\n",
            "Fold 4\n",
            "Epoch 1/10\n",
            "1223/1223 [==============================] - 375s 307ms/step - loss: 0.1195 - maeOverFscore_keras: 1.1260 - fscore_keras: 0.7871 - val_loss: 0.1208 - val_maeOverFscore_keras: 1.1136 - val_fscore_keras: 0.7911\n",
            "Epoch 2/10\n",
            "1223/1223 [==============================] - 372s 305ms/step - loss: 0.1184 - maeOverFscore_keras: 1.1126 - fscore_keras: 0.7887 - val_loss: 0.1217 - val_maeOverFscore_keras: 1.1211 - val_fscore_keras: 0.7908\n",
            "Epoch 3/10\n",
            " 776/1223 [==================>...........] - ETA: 2:03 - loss: 0.1182 - maeOverFscore_keras: 1.1155 - fscore_keras: 0.7887Buffered data was truncated after reaching the output size limit."
          ],
          "name": "stdout"
        }
      ]
    },
    {
      "cell_type": "code",
      "metadata": {
        "id": "ewOTgYdxa09p",
        "colab_type": "code",
        "colab": {}
      },
      "source": [
        "## 모델 저장하기\n",
        "model.save('model_new.h5')\n",
        "!cp model_new.h5 '/content/drive/My Drive/2020 Kaggle Study/model/model_new.h5'"
      ],
      "execution_count": 0,
      "outputs": []
    },
    {
      "cell_type": "code",
      "metadata": {
        "id": "X1jHvjQsbKXr",
        "colab_type": "code",
        "colab": {}
      },
      "source": [
        "def plot_acc(his, epoch, title):\n",
        "    plt.style.use('ggplot')\n",
        "    plt.figure()\n",
        "    plt.plot(np.arange(0, epoch), his.history['maeOverFscore_keras'], label='maeOverFscore_keras')\n",
        "    plt.plot(np.arange(0, epoch), his.history['val_maeOverFscore_keras'], label='val_maeOverFscore_keras')\n",
        "    plt.title(title)\n",
        "    plt.xlabel(f'Epoch {epoch}')\n",
        "    plt.ylabel('Accuracy')\n",
        "    plt.legend(loc='upper right')\n",
        "    plt.show()"
      ],
      "execution_count": 0,
      "outputs": []
    },
    {
      "cell_type": "code",
      "metadata": {
        "id": "esGmqT-JbPGS",
        "colab_type": "code",
        "colab": {
          "base_uri": "https://localhost:8080/",
          "height": 1000
        },
        "outputId": "ffcd8ffe-be9b-40a8-ee78-bb1492688cad"
      },
      "source": [
        "for dataset in range(4):\n",
        "    #plot_loss(model_history[dataset], 10 , f'Training Dataset: {dataset}')\n",
        "    plot_acc(model_history[dataset], 10 , f'Training Dataset: {dataset}')"
      ],
      "execution_count": 13,
      "outputs": [
        {
          "output_type": "display_data",
          "data": {
            "image/png": "[encoded data removed]",
            "text/plain": [
              "<Figure size 432x288 with 1 Axes>"
            ]
          },
          "metadata": {
            "tags": []
          }
        },
        {
          "output_type": "display_data",
          "data": {
            "image/png": "[encoded data removed]",
            "text/plain": [
              "<Figure size 432x288 with 1 Axes>"
            ]
          },
          "metadata": {
            "tags": []
          }
        },
        {
          "output_type": "display_data",
          "data": {
            "image/png": "[encoded data removed]",
            "text/plain": [
              "<Figure size 432x288 with 1 Axes>"
            ]
          },
          "metadata": {
            "tags": []
          }
        },
        {
          "output_type": "display_data",
          "data": {
            "image/png": "[encoded data removed]",
            "text/plain": [
              "<Figure size 432x288 with 1 Axes>"
            ]
          },
          "metadata": {
            "tags": []
          }
        }
      ]
    },
    {
      "cell_type": "markdown",
      "metadata": {
        "id": "DCGSPyIEyz8E",
        "colab_type": "text"
      },
      "source": [
        "## 콜백 추가"
      ]
    },
    {
      "cell_type": "code",
      "metadata": {
        "id": "Qux-SdcCyxwt",
        "colab_type": "code",
        "colab": {
          "base_uri": "https://localhost:8080/",
          "height": 1000
        },
        "outputId": "0b6bba55-b3fe-4d3b-c45a-9783ca027ee7"
      },
      "source": [
        "from sklearn.model_selection import KFold\n",
        "kf = KFold(n_splits=5, shuffle = True)\n",
        "model_history = []\n",
        "fold_number = 0\n",
        "\n",
        "for train_index, test_index in kf.split(train):\n",
        "    print(f'\\nFold {fold_number}')\n",
        "    fold_number = fold_number + 1\n",
        "    \n",
        "    def trainGenerator():\n",
        "        for file in train[train_index]:\n",
        "            target= file[:,:,-1].reshape(40,40,1)\n",
        "            cutoff_labels = np.where(target < 0, 0, target)\n",
        "            feature = file[:,:,:10]\n",
        "            if (cutoff_labels > 0).sum() < 50:\n",
        "                continue\n",
        "            yield (feature, cutoff_labels)\n",
        "    train_dataset = tf.data.Dataset.from_generator(trainGenerator,\n",
        "                                                (tf.float32, tf.float32),\n",
        "                                                (tf.TensorShape([40,40,10]),\n",
        "                                                    tf.TensorShape([40,40,1])))\n",
        "    train_dataset = train_dataset.batch(32).prefetch(1) # batch size: 512 -> 32\n",
        "\n",
        "    def testGenerator():\n",
        "        for file in train[test_index]:\n",
        "            target= file[:,:,-1].reshape(40,40,1)\n",
        "            cutoff_labels = np.where(target < 0, 0, target)\n",
        "            feature = file[:,:,:10]\n",
        "            if (cutoff_labels > 0).sum() < 50:\n",
        "                continue\n",
        "            yield (feature, cutoff_labels)\n",
        "    test_dataset = tf.data.Dataset.from_generator(testGenerator,\n",
        "                                                (tf.float32, tf.float32),\n",
        "                                                (tf.TensorShape([40,40,10]),\n",
        "                                                    tf.TensorShape([40,40,1])))\n",
        "    test_size = len(test_index)\n",
        "    test_dataset = test_dataset.batch(32).prefetch(1) # batch size: test_size -> 32\n",
        "\n",
        "    callbacks_list = [\n",
        "                tf.keras.callbacks.ReduceLROnPlateau(\n",
        "                    monitor='val_loss',\n",
        "                    patience=3,\n",
        "                    factor=0.8\n",
        "                ),\n",
        "\n",
        "                tf.keras.callbacks.ModelCheckpoint(\n",
        "                    filepath = '/content/drive/My Drive/2020 Kaggle Study/model/model_new_'+str(fold_number)+'.h5',\n",
        "                    monitor='val_score',\n",
        "                    save_best_only=True\n",
        "                )\n",
        "            ]\n",
        "\n",
        "    history = model.fit(train_dataset, epochs = 10, verbose=1, validation_data = test_dataset, callbacks=callbacks_list)\n",
        "\n",
        "    model_history.append(history)\n",
        "    #del data\n",
        "    del train_dataset\n",
        "    del test_dataset\n",
        "    gc.collect()"
      ],
      "execution_count": 0,
      "outputs": [
        {
          "output_type": "stream",
          "text": [
            "\n",
            "Fold 0\n",
            "Epoch 1/10\n",
            "   1228/Unknown - 356s 290ms/step - loss: 0.1590 - maeOverFscore_keras: 1.8063 - fscore_keras: 0.6529WARNING:tensorflow:Can save best model only with val_score available, skipping.\n",
            "1228/1228 [==============================] - 392s 319ms/step - loss: 0.1590 - maeOverFscore_keras: 1.8063 - fscore_keras: 0.6529 - val_loss: 0.1429 - val_maeOverFscore_keras: 1.5081 - val_fscore_keras: 0.7068 - lr: 0.0010\n",
            "Epoch 2/10\n",
            "1227/1228 [============================>.] - ETA: 0s - loss: 0.1450 - maeOverFscore_keras: 1.5948 - fscore_keras: 0.6808WARNING:tensorflow:Can save best model only with val_score available, skipping.\n",
            "1228/1228 [==============================] - 368s 300ms/step - loss: 0.1450 - maeOverFscore_keras: 1.5945 - fscore_keras: 0.6807 - val_loss: 0.1380 - val_maeOverFscore_keras: 1.4610 - val_fscore_keras: 0.7092 - lr: 0.0010\n",
            "Epoch 3/10\n",
            "1227/1228 [============================>.] - ETA: 0s - loss: 0.1417 - maeOverFscore_keras: 1.5246 - fscore_keras: 0.6949WARNING:tensorflow:Can save best model only with val_score available, skipping.\n",
            "1228/1228 [==============================] - 367s 299ms/step - loss: 0.1417 - maeOverFscore_keras: 1.5241 - fscore_keras: 0.6949 - val_loss: 0.1458 - val_maeOverFscore_keras: 1.4576 - val_fscore_keras: 0.7136 - lr: 0.0010\n",
            "Epoch 4/10\n",
            "1227/1228 [============================>.] - ETA: 0s - loss: 0.1394 - maeOverFscore_keras: 1.4778 - fscore_keras: 0.7041WARNING:tensorflow:Can save best model only with val_score available, skipping.\n",
            "1228/1228 [==============================] - 367s 299ms/step - loss: 0.1394 - maeOverFscore_keras: 1.4777 - fscore_keras: 0.7040 - val_loss: 0.1683 - val_maeOverFscore_keras: 1.6081 - val_fscore_keras: 0.6554 - lr: 0.0010\n",
            "Epoch 5/10\n",
            "1227/1228 [============================>.] - ETA: 0s - loss: 0.1369 - maeOverFscore_keras: 1.4275 - fscore_keras: 0.7154WARNING:tensorflow:Can save best model only with val_score available, skipping.\n",
            "1228/1228 [==============================] - 367s 299ms/step - loss: 0.1369 - maeOverFscore_keras: 1.4272 - fscore_keras: 0.7153 - val_loss: 0.1540 - val_maeOverFscore_keras: 1.4670 - val_fscore_keras: 0.7056 - lr: 0.0010\n",
            "Epoch 6/10\n",
            "1227/1228 [============================>.] - ETA: 0s - loss: 0.1336 - maeOverFscore_keras: 1.3605 - fscore_keras: 0.7311WARNING:tensorflow:Can save best model only with val_score available, skipping.\n",
            "1228/1228 [==============================] - 367s 299ms/step - loss: 0.1336 - maeOverFscore_keras: 1.3602 - fscore_keras: 0.7309 - val_loss: 0.1326 - val_maeOverFscore_keras: 1.3366 - val_fscore_keras: 0.7415 - lr: 8.0000e-04\n",
            "Epoch 7/10\n",
            "1227/1228 [============================>.] - ETA: 0s - loss: 0.1321 - maeOverFscore_keras: 1.3343 - fscore_keras: 0.7372WARNING:tensorflow:Can save best model only with val_score available, skipping.\n",
            "1228/1228 [==============================] - 367s 299ms/step - loss: 0.1321 - maeOverFscore_keras: 1.3342 - fscore_keras: 0.7370 - val_loss: 0.1297 - val_maeOverFscore_keras: 1.2694 - val_fscore_keras: 0.7556 - lr: 8.0000e-04\n",
            "Epoch 8/10\n",
            "1227/1228 [============================>.] - ETA: 0s - loss: 0.1308 - maeOverFscore_keras: 1.3107 - fscore_keras: 0.7429WARNING:tensorflow:Can save best model only with val_score available, skipping.\n",
            "1228/1228 [==============================] - 366s 298ms/step - loss: 0.1308 - maeOverFscore_keras: 1.3104 - fscore_keras: 0.7427 - val_loss: 0.1289 - val_maeOverFscore_keras: 1.2820 - val_fscore_keras: 0.7491 - lr: 8.0000e-04\n",
            "Epoch 9/10\n",
            "1227/1228 [============================>.] - ETA: 0s - loss: 0.1296 - maeOverFscore_keras: 1.2885 - fscore_keras: 0.7484WARNING:tensorflow:Can save best model only with val_score available, skipping.\n",
            "1228/1228 [==============================] - 366s 298ms/step - loss: 0.1296 - maeOverFscore_keras: 1.2882 - fscore_keras: 0.7482 - val_loss: 0.1311 - val_maeOverFscore_keras: 1.2777 - val_fscore_keras: 0.7473 - lr: 8.0000e-04\n",
            "Epoch 10/10\n",
            "1227/1228 [============================>.] - ETA: 0s - loss: 0.1287 - maeOverFscore_keras: 1.2715 - fscore_keras: 0.7526WARNING:tensorflow:Can save best model only with val_score available, skipping.\n",
            "1228/1228 [==============================] - 366s 298ms/step - loss: 0.1287 - maeOverFscore_keras: 1.2713 - fscore_keras: 0.7524 - val_loss: 0.1241 - val_maeOverFscore_keras: 1.2492 - val_fscore_keras: 0.7518 - lr: 8.0000e-04\n",
            "\n",
            "Fold 1\n",
            "Epoch 1/10\n",
            "   1224/Unknown - 332s 271ms/step - loss: 0.1278 - maeOverFscore_keras: 1.2643 - fscore_keras: 0.7530WARNING:tensorflow:Can save best model only with val_score available, skipping.\n",
            "1224/1224 [==============================] - 366s 299ms/step - loss: 0.1278 - maeOverFscore_keras: 1.2643 - fscore_keras: 0.7530 - val_loss: 0.1312 - val_maeOverFscore_keras: 1.2440 - val_fscore_keras: 0.7722 - lr: 8.0000e-04\n",
            "Epoch 2/10\n",
            "1224/1224 [==============================] - ETA: 0s - loss: 0.1265 - maeOverFscore_keras: 1.2416 - fscore_keras: 0.7587WARNING:tensorflow:Can save best model only with val_score available, skipping.\n",
            "1224/1224 [==============================] - 365s 298ms/step - loss: 0.1265 - maeOverFscore_keras: 1.2416 - fscore_keras: 0.7587 - val_loss: 0.1263 - val_maeOverFscore_keras: 1.1944 - val_fscore_keras: 0.7800 - lr: 8.0000e-04\n",
            "Epoch 3/10\n",
            "1224/1224 [==============================] - ETA: 0s - loss: 0.1255 - maeOverFscore_keras: 1.2247 - fscore_keras: 0.7626WARNING:tensorflow:Can save best model only with val_score available, skipping.\n",
            "1224/1224 [==============================] - 365s 298ms/step - loss: 0.1255 - maeOverFscore_keras: 1.2247 - fscore_keras: 0.7626 - val_loss: 0.1276 - val_maeOverFscore_keras: 1.2061 - val_fscore_keras: 0.7812 - lr: 8.0000e-04\n",
            "Epoch 4/10\n",
            "1224/1224 [==============================] - ETA: 0s - loss: 0.1248 - maeOverFscore_keras: 1.2147 - fscore_keras: 0.7646WARNING:tensorflow:Can save best model only with val_score available, skipping.\n",
            "1224/1224 [==============================] - 366s 299ms/step - loss: 0.1248 - maeOverFscore_keras: 1.2147 - fscore_keras: 0.7646 - val_loss: 0.1268 - val_maeOverFscore_keras: 1.1911 - val_fscore_keras: 0.7842 - lr: 8.0000e-04\n",
            "Epoch 5/10\n",
            "1224/1224 [==============================] - ETA: 0s - loss: 0.1241 - maeOverFscore_keras: 1.2019 - fscore_keras: 0.7677WARNING:tensorflow:Can save best model only with val_score available, skipping.\n",
            "1224/1224 [==============================] - 365s 299ms/step - loss: 0.1241 - maeOverFscore_keras: 1.2019 - fscore_keras: 0.7677 - val_loss: 0.1282 - val_maeOverFscore_keras: 1.2118 - val_fscore_keras: 0.7819 - lr: 8.0000e-04\n",
            "Epoch 6/10\n",
            "1224/1224 [==============================] - ETA: 0s - loss: 0.1228 - maeOverFscore_keras: 1.1814 - fscore_keras: 0.7724WARNING:tensorflow:Can save best model only with val_score available, skipping.\n",
            "1224/1224 [==============================] - 365s 298ms/step - loss: 0.1228 - maeOverFscore_keras: 1.1814 - fscore_keras: 0.7724 - val_loss: 0.1255 - val_maeOverFscore_keras: 1.1908 - val_fscore_keras: 0.7822 - lr: 6.4000e-04\n",
            "Epoch 7/10\n",
            "1224/1224 [==============================] - ETA: 0s - loss: 0.1221 - maeOverFscore_keras: 1.1722 - fscore_keras: 0.7742WARNING:tensorflow:Can save best model only with val_score available, skipping.\n",
            "1224/1224 [==============================] - 364s 298ms/step - loss: 0.1221 - maeOverFscore_keras: 1.1722 - fscore_keras: 0.7742 - val_loss: 0.1277 - val_maeOverFscore_keras: 1.1806 - val_fscore_keras: 0.7858 - lr: 6.4000e-04\n",
            "Epoch 8/10\n",
            "1224/1224 [==============================] - ETA: 0s - loss: 0.1215 - maeOverFscore_keras: 1.1636 - fscore_keras: 0.7758WARNING:tensorflow:Can save best model only with val_score available, skipping.\n",
            "1224/1224 [==============================] - 365s 298ms/step - loss: 0.1215 - maeOverFscore_keras: 1.1636 - fscore_keras: 0.7758 - val_loss: 0.1298 - val_maeOverFscore_keras: 1.1961 - val_fscore_keras: 0.7796 - lr: 6.4000e-04\n",
            "Epoch 9/10\n",
            "1224/1224 [==============================] - ETA: 0s - loss: 0.1210 - maeOverFscore_keras: 1.1572 - fscore_keras: 0.7769WARNING:tensorflow:Can save best model only with val_score available, skipping.\n",
            "1224/1224 [==============================] - 366s 299ms/step - loss: 0.1210 - maeOverFscore_keras: 1.1572 - fscore_keras: 0.7769 - val_loss: 0.1272 - val_maeOverFscore_keras: 1.1823 - val_fscore_keras: 0.7846 - lr: 6.4000e-04\n",
            "Epoch 10/10\n",
            "1224/1224 [==============================] - ETA: 0s - loss: 0.1201 - maeOverFscore_keras: 1.1439 - fscore_keras: 0.7797WARNING:tensorflow:Can save best model only with val_score available, skipping.\n",
            "1224/1224 [==============================] - 364s 298ms/step - loss: 0.1201 - maeOverFscore_keras: 1.1439 - fscore_keras: 0.7797 - val_loss: 0.1277 - val_maeOverFscore_keras: 1.1877 - val_fscore_keras: 0.7834 - lr: 5.1200e-04\n",
            "\n",
            "Fold 2\n",
            "Epoch 1/10\n",
            "   1221/Unknown - 332s 272ms/step - loss: 0.1218 - maeOverFscore_keras: 1.1580 - fscore_keras: 0.7799WARNING:tensorflow:Can save best model only with val_score available, skipping.\n",
            "1221/1221 [==============================] - 367s 301ms/step - loss: 0.1218 - maeOverFscore_keras: 1.1580 - fscore_keras: 0.7799 - val_loss: 0.1277 - val_maeOverFscore_keras: 1.1843 - val_fscore_keras: 0.7865 - lr: 5.1200e-04\n",
            "Epoch 2/10\n",
            "1221/1221 [==============================] - ETA: 0s - loss: 0.1208 - maeOverFscore_keras: 1.1450 - fscore_keras: 0.7821WARNING:tensorflow:Can save best model only with val_score available, skipping.\n",
            "1221/1221 [==============================] - 365s 299ms/step - loss: 0.1208 - maeOverFscore_keras: 1.1450 - fscore_keras: 0.7821 - val_loss: 0.1265 - val_maeOverFscore_keras: 1.1899 - val_fscore_keras: 0.7887 - lr: 5.1200e-04\n",
            "Epoch 3/10\n",
            "1221/1221 [==============================] - ETA: 0s - loss: 0.1202 - maeOverFscore_keras: 1.1379 - fscore_keras: 0.7831WARNING:tensorflow:Can save best model only with val_score available, skipping.\n",
            "1221/1221 [==============================] - 365s 299ms/step - loss: 0.1202 - maeOverFscore_keras: 1.1379 - fscore_keras: 0.7831 - val_loss: 0.1267 - val_maeOverFscore_keras: 1.1850 - val_fscore_keras: 0.7903 - lr: 5.1200e-04\n",
            "Epoch 4/10\n",
            "1221/1221 [==============================] - ETA: 0s - loss: 0.1196 - maeOverFscore_keras: 1.1314 - fscore_keras: 0.7838WARNING:tensorflow:Can save best model only with val_score available, skipping.\n",
            "1221/1221 [==============================] - 364s 298ms/step - loss: 0.1196 - maeOverFscore_keras: 1.1314 - fscore_keras: 0.7838 - val_loss: 0.1269 - val_maeOverFscore_keras: 1.1920 - val_fscore_keras: 0.7907 - lr: 5.1200e-04\n",
            "Epoch 5/10\n",
            "1221/1221 [==============================] - ETA: 0s - loss: 0.1191 - maeOverFscore_keras: 1.1255 - fscore_keras: 0.7846WARNING:tensorflow:Can save best model only with val_score available, skipping.\n",
            "1221/1221 [==============================] - 365s 299ms/step - loss: 0.1191 - maeOverFscore_keras: 1.1255 - fscore_keras: 0.7846 - val_loss: 0.1264 - val_maeOverFscore_keras: 1.1827 - val_fscore_keras: 0.7915 - lr: 5.1200e-04\n",
            "Epoch 6/10\n",
            "1221/1221 [==============================] - ETA: 0s - loss: 0.1183 - maeOverFscore_keras: 1.1144 - fscore_keras: 0.7865WARNING:tensorflow:Can save best model only with val_score available, skipping.\n",
            "1221/1221 [==============================] - 365s 299ms/step - loss: 0.1183 - maeOverFscore_keras: 1.1144 - fscore_keras: 0.7865 - val_loss: 0.1266 - val_maeOverFscore_keras: 1.1821 - val_fscore_keras: 0.7916 - lr: 4.0960e-04\n",
            "Epoch 7/10\n",
            "1149/1221 [===========================>..] - ETA: 19s - loss: 0.1176 - maeOverFscore_keras: 1.1069 - fscore_keras: 0.7871"
          ],
          "name": "stdout"
        }
      ]
    },
    {
      "cell_type": "markdown",
      "metadata": {
        "id": "_qg-RmDqpVq3",
        "colab_type": "text"
      },
      "source": [
        "## submission 만들기"
      ]
    },
    {
      "cell_type": "code",
      "metadata": {
        "id": "g-UtpSQHOZiv",
        "colab_type": "code",
        "colab": {}
      },
      "source": [
        "del train"
      ],
      "execution_count": 0,
      "outputs": []
    },
    {
      "cell_type": "code",
      "metadata": {
        "id": "IgEv1T5u2v9B",
        "colab_type": "code",
        "colab": {}
      },
      "source": [
        "test_submit = np.load('/content/drive/My Drive/2020 Kaggle Study/data/test.npy')\n",
        "\n",
        "# land_type, latitude, longitude copy\n",
        "land_type_data = test_submit[:,:,:,9].copy()\n",
        "gmi_lat_lon = test_submit[:,:,:,10:12].copy()\n",
        "dpr_lat_lon = test_submit[:,:,:,12:14].copy()\n",
        "\n",
        "dummy = np.random.rand(test_submit.shape[0], 40, 40, 1)\n",
        "test_submit = np.concatenate((test_submit, dummy), axis=3)\n",
        "test_shape = test_submit.shape\n",
        "test_submit = scaler.transform(test_submit.reshape(-1, 15))\n",
        "test_submit = test_submit.reshape(test_shape)\n",
        "\n",
        "land_type_data = np.where(land_type_data//100 == 2, 0.8,\n",
        "                          np.where(land_type_data//100 == 3, 0.1,\n",
        "                                   land_type_data//100))\n",
        "test_submit[:,:,:,9] = land_type_data\n",
        "test_submit[:,:,:,10:12] = gmi_lat_lon\n",
        "test_submit[:,:,:,12:14] = dpr_lat_lon"
      ],
      "execution_count": 0,
      "outputs": []
    },
    {
      "cell_type": "code",
      "metadata": {
        "id": "zQxbiiLkcJyO",
        "colab_type": "code",
        "colab": {}
      },
      "source": [
        "# 0~8번 채널, landtype 이용해서 타겟 예측\n",
        "# 위도, 경도 남겨 놓음\n",
        "pred = model.predict(test_submit[:,:,:,:10])\n",
        "test_submit[:,:,:,-1] = pred.reshape(-1, 40, 40)"
      ],
      "execution_count": 0,
      "outputs": []
    },
    {
      "cell_type": "code",
      "metadata": {
        "id": "zCRZSxLid-p0",
        "colab_type": "code",
        "colab": {
          "base_uri": "https://localhost:8080/",
          "height": 34
        },
        "outputId": "a9efe77e-a03b-4947-f24c-4e46419c7951"
      },
      "source": [
        "test_submit.shape"
      ],
      "execution_count": 26,
      "outputs": [
        {
          "output_type": "execute_result",
          "data": {
            "text/plain": [
              "(2416, 40, 40, 15)"
            ]
          },
          "metadata": {
            "tags": []
          },
          "execution_count": 26
        }
      ]
    },
    {
      "cell_type": "markdown",
      "metadata": {
        "id": "NNdF9D20fTCJ",
        "colab_type": "text"
      },
      "source": [
        "## GMI precipatation -> DPR precipatation"
      ]
    },
    {
      "cell_type": "code",
      "metadata": {
        "id": "EYAoolYMfSX8",
        "colab_type": "code",
        "colab": {}
      },
      "source": [
        "dr = [(-1, -1), (-1, 0), (-1, 1),\n",
        "      (0, -1), (0, 0), (0, 1),\n",
        "      (1, -1), (1, 0), (1, 1)]\n",
        "\n",
        "# p1, p2: shape=(-1, 2).\n",
        "def get_dist(p1, p2):\n",
        "    x1 = np.deg2rad(p1[:,0])\n",
        "    y1 = np.deg2rad(p1[:,1])\n",
        "    x2 = np.deg2rad(p2[:,0])\n",
        "    y2 = np.deg2rad(p2[:,1])\n",
        "    dlon = x2 - x1\n",
        "    dlat = y2 - y1\n",
        "    a = np.sin(dlat/2)**2 + np.cos(y1) * np.cos(y2) * np.sin(dlon/2)**2 \n",
        "    c = 2 * np.arctan2(np.sqrt(a), np.sqrt(1-a))    \n",
        "    return 6373.0 * c  # km, shape=(-1).\n",
        "\n",
        "# ori_ll에서의 value 값을 tgt_ll에 대한 값으로 바꾼다.\n",
        "# value: (40, 40, -1)\n",
        "# ori_ll, tgt_ll: (40, 40, 2)\n",
        "# ori_ll: value에 대응되는 원래 latitude, longitude.\n",
        "# tgt_ll: 변환되는 값에 대응되는 latitude, longitude.\n",
        "def compen_ll(value, ori_ll, tgt_ll):\n",
        "    ret = np.empty_like(value)\n",
        "\n",
        "    n = value.shape[0]\n",
        "    m = value.shape[1]\n",
        "\n",
        "    for i in range(n):\n",
        "        for j in range(m):\n",
        "            nears = []  # (row, col, value)\n",
        "            for k in range(9):\n",
        "                ii = i + dr[k][0]\n",
        "                jj = j + dr[k][1]\n",
        "                if ii >= 0 and ii < n and jj >= 0 and jj < m:\n",
        "                    nears.append((ori_ll[ii, jj][0], ori_ll[ii, jj][1],\n",
        "                                  tgt_ll[i, j][0], tgt_ll[i, j][1],\n",
        "                                  value[ii, jj]))\n",
        "\n",
        "            nears = np.array(nears)  # shape=(-1, 5)\n",
        "            dists = get_dist(nears[:, 0:2], nears[:, 2:4]).reshape(-1, 1)\n",
        "            values = nears[:, 4].reshape(-1, 1)\n",
        "            nears = np.concatenate((dists, values), 1)\n",
        "            nears = nears[np.argsort(nears[:, 0])]  # sort by dist\n",
        "\n",
        "            weights = 1 / (nears[:, 0] ** 2 + sys.float_info.epsilon)\n",
        "            weighted_sum = (weights * nears[:, 1]).sum()\n",
        "            ret[i, j] = weighted_sum / weights.sum()\n",
        "    return ret"
      ],
      "execution_count": 0,
      "outputs": []
    },
    {
      "cell_type": "code",
      "metadata": {
        "id": "ELAnhxXrfSg9",
        "colab_type": "code",
        "colab": {
          "base_uri": "https://localhost:8080/",
          "height": 228
        },
        "outputId": "40c85011-994b-41be-948a-537c9423a5d8"
      },
      "source": [
        "import sys\n",
        "from multiprocessing import Process, Manager\n",
        "\n",
        "n_procs = 4\n",
        "procs = []\n",
        "manager = Manager()\n",
        "dpr_preci = manager.list([None] * n_procs)\n",
        "\n",
        "# split train into n_procs arrays\n",
        "n_imgs = test_submit.shape[0]\n",
        "splitted = np.split(test_submit, np.arange((n_imgs + n_procs - 1) // n_procs,\n",
        "                                     n_imgs, n_imgs // n_procs))\n",
        "\n",
        "def proc_func(proc_id):\n",
        "    part = splitted[proc_id]\n",
        "    arr = np.empty_like(part[:, :, :, 14])  # shape=(-1, 40, 40)\n",
        "    for i in range(part.shape[0]):\n",
        "        arr[i, :, :] = compen_ll(part[i, :, :, 14],\n",
        "                                 part[i, :, :, 10:12],\n",
        "                                 part[i, :, :, 12:14])\n",
        "        if (i + 1) % 200 == 0:\n",
        "            print(proc_id, i + 1)\n",
        "    dpr_preci[proc_id] = arr\n",
        "\n",
        "for proc_id in range(n_procs):\n",
        "    proc = Process(target=proc_func, args=(proc_id, ))\n",
        "    proc.start()\n",
        "    procs.append(proc)\n",
        "\n",
        "for proc in procs:\n",
        "    proc.join()\n",
        "\n",
        "dpr_preci = np.concatenate(dpr_preci)\n",
        "dpr_preci = dpr_preci.reshape(-1, 40, 40, 1)\n",
        "# dpr_preci = dpr_preci.astype(np.float32)"
      ],
      "execution_count": 28,
      "outputs": [
        {
          "output_type": "stream",
          "text": [
            "3 200\n",
            "0 200\n",
            "2 200\n",
            "1 200\n",
            "3 400\n",
            "2 400\n",
            "1 400\n",
            "0 400\n",
            "3 600\n",
            "1 600\n",
            "2 600\n",
            "0 600\n"
          ],
          "name": "stdout"
        }
      ]
    },
    {
      "cell_type": "markdown",
      "metadata": {
        "colab_type": "text",
        "id": "2xM7q7FpIttP"
      },
      "source": [
        "## submission 만들기"
      ]
    },
    {
      "cell_type": "code",
      "metadata": {
        "colab_type": "code",
        "id": "r3sFI91Gh_z8",
        "colab": {}
      },
      "source": [
        "submission.iloc[:,1:] = dpr_preci.reshape(-1, 1600)"
      ],
      "execution_count": 0,
      "outputs": []
    },
    {
      "cell_type": "code",
      "metadata": {
        "colab_type": "code",
        "id": "bPPRCvO_h_z_",
        "colab": {}
      },
      "source": [
        "submission.to_csv('Dacon_new_model.csv', index = False)"
      ],
      "execution_count": 0,
      "outputs": []
    },
    {
      "cell_type": "code",
      "metadata": {
        "colab_type": "code",
        "id": "9fBTzEKnh_0B",
        "colab": {}
      },
      "source": [
        "# 제출파일 구글 드라이브에 올리기\n",
        "!cp Dacon_new_model.csv '/content/drive/My Drive/2020 Kaggle Study/submission'"
      ],
      "execution_count": 0,
      "outputs": []
    }
  ]
}