{
  "nbformat": 4,
  "nbformat_minor": 0,
  "metadata": {
    "colab": {
      "name": "Dacon_satellite_연웅데이터 압축하기",
      "provenance": [],
      "toc_visible": true,
      "machine_shape": "hm",
      "mount_file_id": "https://github.com/curiosity806/2020_dacon_satellite_precipitation/blob/master/Dacon_satellite_baseline.ipynb",
      "authorship_tag": "ABX9TyNq+JNX4cD+V4nL9GSaySbF",
      "include_colab_link": true
    },
    "kernelspec": {
      "name": "python3",
      "display_name": "Python 3"
    },
    "accelerator": "GPU"
  },
  "cells": [
    {
      "cell_type": "markdown",
      "metadata": {
        "id": "view-in-github",
        "colab_type": "text"
      },
      "source": [
        "<a href=\"https://colab.research.google.com/github/curiosity806/2020_dacon_satellite_precipitation/blob/deagwon/Dacon_satellite_%EC%97%B0%EC%9B%85%EB%8D%B0%EC%9D%B4%ED%84%B0_%EC%95%95%EC%B6%95%ED%95%98%EA%B8%B0.ipynb\" target=\"_parent\"><img src=\"https://colab.research.google.com/assets/colab-badge.svg\" alt=\"Open In Colab\"/></a>"
      ]
    },
    {
      "cell_type": "code",
      "metadata": {
        "id": "oi-MWY4HOblX",
        "colab_type": "code",
        "outputId": "3f7a1ee9-bce6-4022-b7a6-bdb7dc9f39cd",
        "colab": {
          "base_uri": "https://localhost:8080/",
          "height": 54
        }
      },
      "source": [
        "from google.colab import drive\n",
        "drive.mount('/content/drive')"
      ],
      "execution_count": 0,
      "outputs": [
        {
          "output_type": "stream",
          "text": [
            "Drive already mounted at /content/drive; to attempt to forcibly remount, call drive.mount(\"/content/drive\", force_remount=True).\n"
          ],
          "name": "stdout"
        }
      ]
    },
    {
      "cell_type": "code",
      "metadata": {
        "id": "h6La-zpczGzY",
        "colab_type": "code",
        "outputId": "5ce0d849-8e8d-412b-a794-b5a052b70f39",
        "colab": {
          "base_uri": "https://localhost:8080/",
          "height": 72
        }
      },
      "source": [
        "import glob\n",
        "import pandas as pd\n",
        "import numpy as np\n",
        "import matplotlib.pylab as plt\n",
        "import seaborn as sns\n",
        "from tqdm import tqdm\n",
        "import matplotlib.pyplot as plt\n",
        "import tensorflow as tf\n",
        "import os\n",
        "import random\n",
        "from tensorflow.keras.layers import Dense, Conv2D, Dropout, Conv2DTranspose, MaxPooling2D, BatchNormalization, Activation, concatenate, Input, GlobalAveragePooling2D\n",
        "from tensorflow.keras import Model\n",
        "import warnings\n",
        "import gc\n",
        " \n",
        "warnings.filterwarnings(\"ignore\")"
      ],
      "execution_count": 0,
      "outputs": [
        {
          "output_type": "stream",
          "text": [
            "/usr/local/lib/python3.6/dist-packages/statsmodels/tools/_testing.py:19: FutureWarning: pandas.util.testing is deprecated. Use the functions in the public API at pandas.testing instead.\n",
            "  import pandas.util.testing as tm\n"
          ],
          "name": "stderr"
        }
      ]
    },
    {
      "cell_type": "code",
      "metadata": {
        "id": "ihaRksAgzLvo",
        "colab_type": "code",
        "outputId": "1bb3b0d5-67f1-48f5-cc9a-ca8fd3127486",
        "colab": {
          "base_uri": "https://localhost:8080/",
          "height": 34
        }
      },
      "source": [
        "tf.__version__"
      ],
      "execution_count": 0,
      "outputs": [
        {
          "output_type": "execute_result",
          "data": {
            "text/plain": [
              "'2.2.0-rc3'"
            ]
          },
          "metadata": {
            "tags": []
          },
          "execution_count": 3
        }
      ]
    },
    {
      "cell_type": "markdown",
      "metadata": {
        "id": "zcptj7rUpick",
        "colab_type": "text"
      },
      "source": [
        "## 데이터 압축해서 합치기"
      ]
    },
    {
      "cell_type": "code",
      "metadata": {
        "id": "LKTY3JV2wNlB",
        "colab_type": "code",
        "outputId": "73ccb904-336f-4b76-beb1-d95ae9d5a870",
        "colab": {
          "base_uri": "https://localhost:8080/",
          "height": 69
        }
      },
      "source": [
        "train = np.zeros([68706, 40, 40, 15], np.float32) # 전체 train_data shape, 자가 test용 데이터 제외\n",
        "now_index = 0\n",
        "\n",
        "for i in tqdm(range(9)):\n",
        "    data = np.load(f'/content/drive/My Drive/2020 Kaggle Study/data/train/train{i}.npy')\n",
        "    \n",
        "    before_index = now_index\n",
        "    now_index = data.shape[0] + now_index\n",
        "\n",
        "    train[before_index:now_index,:,:,:] = data.astype(np.float32)\n",
        "    del data\n",
        "    gc.collect\n",
        "\n",
        "test = np.load('/content/drive/My Drive/2020 Kaggle Study/data/train/test.npy').astype(np.float32)\n",
        "\n",
        "print(train.shape, train.dtype)\n",
        "print(test.shape, test.dtype)"
      ],
      "execution_count": 0,
      "outputs": [
        {
          "output_type": "stream",
          "text": [
            "100%|██████████| 9/9 [03:16<00:00, 21.83s/it]\n"
          ],
          "name": "stderr"
        },
        {
          "output_type": "stream",
          "text": [
            "(68706, 40, 40, 15) float32\n",
            "(7639, 40, 40, 15) float32\n"
          ],
          "name": "stdout"
        }
      ]
    },
    {
      "cell_type": "code",
      "metadata": {
        "id": "PZ9yz3YT0tC9",
        "colab_type": "code",
        "colab": {}
      },
      "source": [
        "np.save('/content/drive/My Drive/2020 Kaggle Study/data/32bits_data/train_32bits.npy', train)\n",
        "np.save('/content/drive/My Drive/2020 Kaggle Study/data/32bits_data/test_32bits.npy', test)"
      ],
      "execution_count": 0,
      "outputs": []
    }
  ]
}