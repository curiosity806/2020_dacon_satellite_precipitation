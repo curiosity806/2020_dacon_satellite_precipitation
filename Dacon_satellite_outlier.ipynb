{
  "nbformat": 4,
  "nbformat_minor": 0,
  "metadata": {
    "colab": {
      "name": "Dacon_satellite_baseline",
      "provenance": [],
      "machine_shape": "hm",
      "include_colab_link": true
    },
    "kernelspec": {
      "name": "python3",
      "display_name": "Python 3"
    }
  },
  "cells": [
    {
      "cell_type": "markdown",
      "metadata": {
        "id": "view-in-github",
        "colab_type": "text"
      },
      "source": [
        "<a href=\"https://colab.research.google.com/github/curiosity806/2020_dacon_satellite_precipitation/blob/bogyung/Dacon_satellite_outlier.ipynb\" target=\"_parent\"><img src=\"https://colab.research.google.com/assets/colab-badge.svg\" alt=\"Open In Colab\"/></a>"
      ]
    },
    {
      "cell_type": "code",
      "metadata": {
        "id": "oi-MWY4HOblX",
        "colab_type": "code",
        "outputId": "ab9f577d-4073-40af-b244-54e9d8585680",
        "colab": {
          "base_uri": "https://localhost:8080/",
          "height": 125
        }
      },
      "source": [
        "from google.colab import drive\n",
        "drive.mount('/content/drive')"
      ],
      "execution_count": 1,
      "outputs": [
        {
          "output_type": "stream",
          "text": [
            "Go to this URL in a browser: https://accounts.google.com/o/oauth2/auth?client_id=947318989803-6bn6qk8qdgf4n4g3pfee6491hc0brc4i.apps.googleusercontent.com&redirect_uri=urn%3aietf%3awg%3aoauth%3a2.0%3aoob&response_type=code&scope=email%20https%3a%2f%2fwww.googleapis.com%2fauth%2fdocs.test%20https%3a%2f%2fwww.googleapis.com%2fauth%2fdrive%20https%3a%2f%2fwww.googleapis.com%2fauth%2fdrive.photos.readonly%20https%3a%2f%2fwww.googleapis.com%2fauth%2fpeopleapi.readonly\n",
            "\n",
            "Enter your authorization code:\n",
            "··········\n",
            "Mounted at /content/drive\n"
          ],
          "name": "stdout"
        }
      ]
    },
    {
      "cell_type": "code",
      "metadata": {
        "id": "h6La-zpczGzY",
        "colab_type": "code",
        "outputId": "52b8cc0c-7139-4e39-9b4e-fd1fea5ffa49",
        "colab": {
          "base_uri": "https://localhost:8080/",
          "height": 72
        }
      },
      "source": [
        "import glob\n",
        "import pandas as pd\n",
        "import numpy as np\n",
        "import matplotlib.pylab as plt\n",
        "import seaborn as sns\n",
        "from tqdm import tqdm\n",
        "import matplotlib.pyplot as plt\n",
        "import tensorflow as tf\n",
        "import os\n",
        "import random\n",
        "from tensorflow.keras.layers import Dense, Conv2D, Dropout, Conv2DTranspose, MaxPooling2D, BatchNormalization, Activation, concatenate, Input, GlobalAveragePooling2D\n",
        "from tensorflow.keras import Model\n",
        "import warnings\n",
        "import gc\n",
        " \n",
        "warnings.filterwarnings(\"ignore\")"
      ],
      "execution_count": 2,
      "outputs": [
        {
          "output_type": "stream",
          "text": [
            "/usr/local/lib/python3.6/dist-packages/statsmodels/tools/_testing.py:19: FutureWarning: pandas.util.testing is deprecated. Use the functions in the public API at pandas.testing instead.\n",
            "  import pandas.util.testing as tm\n"
          ],
          "name": "stderr"
        }
      ]
    },
    {
      "cell_type": "code",
      "metadata": {
        "id": "ihaRksAgzLvo",
        "colab_type": "code",
        "outputId": "333b7d85-88af-45fc-ce18-fdf2fddc599a",
        "colab": {
          "base_uri": "https://localhost:8080/",
          "height": 34
        }
      },
      "source": [
        "tf.__version__"
      ],
      "execution_count": 0,
      "outputs": [
        {
          "output_type": "execute_result",
          "data": {
            "text/plain": [
              "'2.2.0-rc4'"
            ]
          },
          "metadata": {
            "tags": []
          },
          "execution_count": 4
        }
      ]
    },
    {
      "cell_type": "markdown",
      "metadata": {
        "id": "0pUOc4bq-IrZ",
        "colab_type": "text"
      },
      "source": [
        "## 데이터 받아오기"
      ]
    },
    {
      "cell_type": "code",
      "metadata": {
        "id": "q1iW93kj0O2u",
        "colab_type": "code",
        "colab": {}
      },
      "source": [
        "# 훈련 데이터 및 자가 test데이터 불러오기\n",
        "train = np.load('/content/drive/My Drive/2020 Kaggle Study/data/yeonung/train_real.npy')\n",
        "test = np.load('/content/drive/My Drive/2020 Kaggle Study/data/yeonung/test.npy')"
      ],
      "execution_count": 0,
      "outputs": []
    },
    {
      "cell_type": "code",
      "metadata": {
        "id": "qRouFVSSCR_l",
        "colab_type": "code",
        "colab": {
          "base_uri": "https://localhost:8080/",
          "height": 52
        },
        "outputId": "a39c08f8-e8f6-4615-9752-719e7869dfbf"
      },
      "source": [
        "#train = np.load('/content/drive/My Drive/2020 Kaggle Study/data/train_total_32bits.npy')\n",
        "#print(train.shape)\n",
        "#print(train.dtype)\n",
        "gmi_preci = np.load('/content/drive/My Drive/2020 Kaggle Study/data/gmi_preci_32bits.npy')\n",
        "print(gmi_preci.shape)\n",
        "print(gmi_preci.dtype)"
      ],
      "execution_count": 4,
      "outputs": [
        {
          "output_type": "stream",
          "text": [
            "(76345, 40, 40, 1)\n",
            "float32\n"
          ],
          "name": "stdout"
        }
      ]
    },
    {
      "cell_type": "code",
      "metadata": {
        "id": "wUc5re1cnXBg",
        "colab_type": "code",
        "colab": {
          "base_uri": "https://localhost:8080/",
          "height": 34
        },
        "outputId": "a4f79631-0580-4be8-8666-82fc5623fb2e"
      },
      "source": [
        "train.shape"
      ],
      "execution_count": 4,
      "outputs": [
        {
          "output_type": "execute_result",
          "data": {
            "text/plain": [
              "(76345, 40, 40, 15)"
            ]
          },
          "metadata": {
            "tags": []
          },
          "execution_count": 4
        }
      ]
    },
    {
      "cell_type": "code",
      "metadata": {
        "id": "bKjP-Uobze5P",
        "colab_type": "code",
        "colab": {}
      },
      "source": [
        "# 재생산성을 위해 시드 고정\n",
        "np.random.seed(7)\n",
        "random.seed(7)\n",
        "tf.random.set_seed(7)"
      ],
      "execution_count": 0,
      "outputs": []
    },
    {
      "cell_type": "markdown",
      "metadata": {
        "id": "LrKr7knrEXu1",
        "colab_type": "text"
      },
      "source": [
        "## 이상치 처리"
      ]
    },
    {
      "cell_type": "code",
      "metadata": {
        "id": "9uUEeGm4C6TR",
        "colab_type": "code",
        "colab": {}
      },
      "source": [
        "land_type_data = train[:,:,:,9]\n",
        "land_type_data = np.where(land_type_data//100 == 2, 0.8,\n",
        "                          np.where(land_type_data//100 == 3, 0.1,\n",
        "                                   land_type_data//100))"
      ],
      "execution_count": 0,
      "outputs": []
    },
    {
      "cell_type": "code",
      "metadata": {
        "id": "NLKZ_plZBAlM",
        "colab_type": "code",
        "colab": {}
      },
      "source": [
        "# 1) Standard Scaler\n",
        "\n",
        "from sklearn.preprocessing import StandardScaler\n",
        "scaler = StandardScaler()\n",
        "train_scaled = scaler.fit_transform(train.reshape(-1, 15))\n",
        "train_scaled = train_scaled.reshape(train.shape)\n",
        "train_scaled[:,:,:,9] = land_type_data\n",
        "train_scaled[:,:,:,-1] = gmi_preci.reshape(-1, 40, 40)  # GMI precipatation"
      ],
      "execution_count": 0,
      "outputs": []
    },
    {
      "cell_type": "code",
      "metadata": {
        "id": "JcUliG1SH8Da",
        "colab_type": "code",
        "colab": {}
      },
      "source": [
        "# 2) Robust Scaler\n",
        "\n",
        "from sklearn.preprocessing import RobustScaler\n",
        "scaler2 = RobustScaler()\n",
        "train_scaled2 = scaler2.fit_transform(train.reshape(-1, 15))\n",
        "train_scaled2 = train_scaled2.reshape(train.shape)\n",
        "train_scaled2[:,:,:,9] = land_type_data\n",
        "train_scaled2[:,:,:,-1] = gmi_preci.reshape(-1, 40, 40)  # GMI precipatation"
      ],
      "execution_count": 0,
      "outputs": []
    },
    {
      "cell_type": "code",
      "metadata": {
        "id": "I19t76o7Ejc-",
        "colab_type": "code",
        "colab": {}
      },
      "source": [
        "# 3) outlier del + Standard Scaler\n",
        "\n",
        "train[:,:,:,2].reshape(-1)[train[:,:,:,2].reshape(-1)>500] = 500\n",
        "train[:,:,:,3].reshape(-1)[train[:,:,:,3].reshape(-1)>500] = 500\n",
        "train[:,:,:,5].reshape(-1)[train[:,:,:,5].reshape(-1)>350] = 350\n",
        "train[:,:,:,6].reshape(-1)[train[:,:,:,6].reshape(-1)>350] = 350\n",
        "\n",
        "train_scaled3 = scaler.fit_transform(train.reshape(-1,15))\n",
        "train_scaled3 = train_scaled3.reshape(train.shape)\n",
        "train_scaled3[:,:,:,9] = land_type_data\n",
        "train_scaled3[:,:,:,-1] = gmi_preci.reshape(-1,40,40) # GMI precipatation"
      ],
      "execution_count": 0,
      "outputs": []
    },
    {
      "cell_type": "code",
      "metadata": {
        "id": "60EiNEz1ti4i",
        "colab_type": "code",
        "colab": {
          "base_uri": "https://localhost:8080/",
          "height": 175
        },
        "outputId": "9492a5f7-21aa-47b4-dca5-fead6811a00e"
      },
      "source": [
        "# 5, 6은 이상치 제거 효과 있음 (모든 값이 0으로 변하지는 않음)\n",
        "# 0,1,2,3은 normalize하면 무조건 모든 값 0\n",
        "\n",
        "for i in range(9):\n",
        "  print(train_scaled[:,:,:,i].flatten().min(),\n",
        "        train_scaled[:,:,:,i].flatten().max())\n",
        "  #print(train_scaled2[:,:,:,i].flatten().min(),\n",
        "  #      train_scaled2[:,:,:,i].flatten().max())\n",
        "  #print(train_scaled3[:,:,:,i].flatten().min(),\n",
        "  #      train_scaled3[:,:,:,i].flatten().max())"
      ],
      "execution_count": 8,
      "outputs": [
        {
          "output_type": "stream",
          "text": [
            "-2.203107 31.778425\n",
            "-1.3007406 19.233448\n",
            "-1.4864577 28.186459\n",
            "-1.3494102 16.442406\n",
            "-2.6388412 3.8202584\n",
            "-4.3324666 20.915424\n",
            "-1.5548849 5.583133\n",
            "-10.524637 2.3198385\n",
            "-6.16922 4.1775393\n"
          ],
          "name": "stdout"
        }
      ]
    },
    {
      "cell_type": "code",
      "metadata": {
        "id": "VLLzaIrkGEG_",
        "colab_type": "code",
        "colab": {
          "base_uri": "https://localhost:8080/",
          "height": 492
        },
        "outputId": "c3f329b9-c212-444b-f83b-85b0da846c4d"
      },
      "source": [
        "# 5, 6은 이상치 제거 효과 있음 (모든 값이 0으로 변하지는 않음)\n",
        "# 0,1,2,3은 normalize하면 무조건 모든 값 0\n",
        "\n",
        "for i in range(9):\n",
        "  print(train_scaled[:,:,:,i].flatten().min(),\n",
        "        train_scaled[:,:,:,i].flatten().max())\n",
        "  print(train_scaled2[:,:,:,i].flatten().min(),\n",
        "        train_scaled2[:,:,:,i].flatten().max())\n",
        "  print(train_scaled3[:,:,:,i].flatten().min(),\n",
        "        train_scaled3[:,:,:,i].flatten().max())"
      ],
      "execution_count": 50,
      "outputs": [
        {
          "output_type": "stream",
          "text": [
            "-0.0 -0.0\n",
            "-0.9375 18.19\n",
            "-0.0 -0.0\n",
            "-0.0 -0.0\n",
            "-0.383 10.7\n",
            "-0.0 -0.0\n",
            "-0.0 -0.0\n",
            "-0.7188 17.72\n",
            "-0.0 -0.0\n",
            "-0.0 -0.0\n",
            "-0.5303 9.35\n",
            "-0.0 -0.0\n",
            "-2.64 3.822\n",
            "-2.188 2.9\n",
            "-2.64 3.822\n",
            "-0.0 -0.0\n",
            "-2.953 15.445\n",
            "-4.332 4.797\n",
            "-0.0 -0.0\n",
            "-0.7256 3.645\n",
            "-1.555 3.385\n",
            "-10.53 2.326\n",
            "-8.28 1.518\n",
            "-10.53 2.326\n",
            "-6.168 4.17\n",
            "-4.844 2.865\n",
            "-6.168 4.17\n"
          ],
          "name": "stdout"
        }
      ]
    },
    {
      "cell_type": "markdown",
      "metadata": {
        "colab_type": "text",
        "id": "pYZYG3G-Itsk"
      },
      "source": [
        "## 모델만들기"
      ]
    },
    {
      "cell_type": "code",
      "metadata": {
        "id": "C0wWXJKu09ld",
        "colab_type": "code",
        "colab": {}
      },
      "source": [
        "def build_model(input_layer, start_neurons):\n",
        "    \n",
        "    # 40 x 40 -> 20 x 20\n",
        "    conv1 = Conv2D(start_neurons * 1, (3, 3), activation=\"relu\", padding=\"same\")(input_layer) # 32\n",
        "    conv1 = Conv2D(start_neurons * 1, (3, 3), activation=\"relu\", padding=\"same\")(conv1)\n",
        "    pool1 = BatchNormalization()(conv1)\n",
        "    pool1 = MaxPooling2D((2, 2))(pool1)\n",
        "    pool1 = Dropout(0.25)(pool1)\n",
        "\n",
        "    # 20 x 20 -> 10 x 10\n",
        "    conv2 = Conv2D(start_neurons * 2, (3, 3), activation=\"relu\", padding=\"same\")(pool1) # 64\n",
        "    conv2 = Conv2D(start_neurons * 2, (3, 3), activation=\"relu\", padding=\"same\")(conv2)\n",
        "    pool2 = BatchNormalization()(conv2)\n",
        "    pool2 = MaxPooling2D((2, 2))(pool2)\n",
        "    pool2 = Dropout(0.25)(pool2)\n",
        "\n",
        "    # 10 x 10 \n",
        "    convm = Conv2D(start_neurons * 4, (3, 3), activation=\"relu\", padding=\"same\")(pool2) # 128\n",
        "\n",
        "    # 10 x 10 -> 20 x 20\n",
        "    deconv2 = Conv2DTranspose(start_neurons * 2, (3, 3), strides=(2, 2), padding=\"same\")(convm)\n",
        "    uconv2 = concatenate([deconv2, conv2])\n",
        "    uconv2 = Dropout(0.25)(uconv2)\n",
        "    uconv2 = Conv2D(start_neurons * 2, (3, 3), activation=\"relu\", padding=\"same\")(uconv2) # 64\n",
        "    uconv2 = Conv2D(start_neurons * 2, (3, 3), activation=\"relu\", padding=\"same\")(uconv2)\n",
        "    uconv2 = BatchNormalization()(uconv2)\n",
        "\n",
        "    # 20 x 20 -> 40 x 40\n",
        "    deconv1 = Conv2DTranspose(start_neurons * 1, (3, 3), strides=(2, 2), padding=\"same\")(uconv2)\n",
        "    uconv1 = concatenate([deconv1, conv1])\n",
        "    uconv1 = Dropout(0.25)(uconv1)\n",
        "    uconv1 = Conv2D(start_neurons * 1, (3, 3), activation=\"relu\", padding=\"same\")(uconv1) # 32\n",
        "    uconv1 = Conv2D(start_neurons * 1, (3, 3), activation=\"relu\", padding=\"same\")(uconv1)\n",
        "    uconv1 = BatchNormalization()(uconv1)\n",
        "    uconv1 = Dropout(0.25)(uconv1)\n",
        "    output_layer = Conv2D(1, (1,1), padding=\"same\", activation='relu')(uconv1)\n",
        "    \n",
        "    return output_layer\n",
        "\n",
        "input_layer = Input((40, 40, 10))\n",
        "output_layer = build_model(input_layer, 32)"
      ],
      "execution_count": 0,
      "outputs": []
    },
    {
      "cell_type": "code",
      "metadata": {
        "id": "Z_PTmMCpIUhg",
        "colab_type": "code",
        "colab": {}
      },
      "source": [
        "def create_model():\n",
        "    inputs=Input((40, 40, 10))\n",
        "    \n",
        "    bn=BatchNormalization()(inputs)\n",
        "    conv0=Conv2D(256, kernel_size=1, strides=1, padding='same', activation='relu')(bn)\n",
        "    \n",
        "    bn=BatchNormalization()(conv0)\n",
        "    conv=Conv2D(128, kernel_size=2, strides=1, padding='same', activation='relu')(bn)\n",
        "    concat=concatenate([conv0, conv], axis=3)\n",
        "    \n",
        "    bn=BatchNormalization()(concat)\n",
        "    conv=Conv2D(64, kernel_size=3, strides=1, padding='same', activation='relu')(bn)\n",
        "    concat=concatenate([concat, conv], axis=3)\n",
        "        \n",
        "    for i in range(5):\n",
        "        bn=BatchNormalization()(concat)\n",
        "        conv=Conv2D(32, kernel_size=3, strides=1, padding='same', activation='relu')(bn)\n",
        "        concat=concatenate([concat, conv], axis=3)\n",
        "    \n",
        "    bn=BatchNormalization()(concat)\n",
        "    outputs=Conv2D(1, kernel_size=1, strides=1, padding='same', activation='relu')(bn)\n",
        "    \n",
        "    model=Model(inputs=inputs, outputs=outputs)\n",
        "    \n",
        "    return model"
      ],
      "execution_count": 0,
      "outputs": []
    },
    {
      "cell_type": "code",
      "metadata": {
        "id": "OqMt4p1N09nx",
        "colab_type": "code",
        "colab": {}
      },
      "source": [
        "model = Model(input_layer, output_layer)\n",
        "#model = create_model()"
      ],
      "execution_count": 0,
      "outputs": []
    },
    {
      "cell_type": "code",
      "metadata": {
        "id": "i_NhbS4s09p_",
        "colab_type": "code",
        "colab": {}
      },
      "source": [
        "from sklearn.metrics import f1_score\n",
        "\n",
        "def mae(y_true, y_pred) :\n",
        "    y_true, y_pred = np.array(y_true), np.array(y_pred)\n",
        "    y_true = y_true.reshape(1, -1)[0]\n",
        "    y_pred = y_pred.reshape(1, -1)[0]\n",
        "    over_threshold = y_true >= 0.1\n",
        "    return np.mean(np.abs(y_true[over_threshold] - y_pred[over_threshold]))\n",
        "\n",
        "def fscore(y_true, y_pred):\n",
        "    y_true, y_pred = np.array(y_true), np.array(y_pred)\n",
        "    y_true = y_true.reshape(1, -1)[0]\n",
        "    y_pred = y_pred.reshape(1, -1)[0]\n",
        "    remove_NAs = y_true >= 0\n",
        "    y_true = np.where(y_true[remove_NAs] >= 0.1, 1, 0)\n",
        "    y_pred = np.where(y_pred[remove_NAs] >= 0.1, 1, 0)\n",
        "    return(f1_score(y_true, y_pred))\n",
        "\n",
        "def maeOverFscore(y_true, y_pred):\n",
        "    return mae(y_true, y_pred) / (fscore(y_true, y_pred) + 1e-07)\n",
        "\n",
        "def fscore_keras(y_true, y_pred):\n",
        "    score = tf.py_function(func=fscore, inp=[y_true, y_pred], Tout=tf.float32, name='fscore_keras')\n",
        "    return score\n",
        "\n",
        "def maeOverFscore_keras(y_true, y_pred):\n",
        "    score = tf.py_function(func=maeOverFscore, inp=[y_true, y_pred], Tout=tf.float32,  name='custom_mse') \n",
        "    return score"
      ],
      "execution_count": 0,
      "outputs": []
    },
    {
      "cell_type": "code",
      "metadata": {
        "id": "Sv7Hk_LM1DNf",
        "colab_type": "code",
        "colab": {}
      },
      "source": [
        "model.compile(loss=\"mae\", optimizer=\"adam\", metrics=[maeOverFscore_keras, fscore_keras])"
      ],
      "execution_count": 0,
      "outputs": []
    },
    {
      "cell_type": "markdown",
      "metadata": {
        "colab_type": "text",
        "id": "nWrybUnXIts7"
      },
      "source": [
        "## 데이터 제네레이터 만들기"
      ]
    },
    {
      "cell_type": "markdown",
      "metadata": {
        "id": "r6SDQoNdMzlG",
        "colab_type": "text"
      },
      "source": [
        "### 1) train_scaled: RobustScaler 적용한 데이터"
      ]
    },
    {
      "cell_type": "code",
      "metadata": {
        "id": "xH5HvK3FcutT",
        "colab_type": "code",
        "outputId": "3b180831-d76d-45ff-e605-9b034ea1cf29",
        "colab": {
          "base_uri": "https://localhost:8080/",
          "height": 547
        }
      },
      "source": [
        "from sklearn.model_selection import KFold\n",
        "kf = KFold(n_splits=5, shuffle = True)\n",
        "model_history = []\n",
        "fold_number = 0\n",
        "\n",
        "for train_index, test_index in kf.split(train_scaled):\n",
        "    print(f'\\nFold {fold_number}')\n",
        "    fold_number = fold_number + 1\n",
        "    \n",
        "#-----------------------------------------------------------------------------\n",
        "    def trainGenerator():\n",
        "        for file in train_scaled[train_index]:\n",
        "            target= file[:,:,-1].reshape(40,40,1)\n",
        "            cutoff_labels = np.where(target < 0, 0, target)\n",
        "            feature = file[:,:,:10]#########################land type 추가\n",
        "            if (cutoff_labels > 0).sum() < 50:\n",
        "                continue\n",
        "            yield (feature, cutoff_labels)\n",
        "    train_dataset = tf.data.Dataset.from_generator(trainGenerator,\n",
        "                                                (tf.float32, tf.float32),\n",
        "                                                (tf.TensorShape([40,40,10]),########################land type 추가\n",
        "                                                    tf.TensorShape([40,40,1])))\n",
        "    train_dataset = train_dataset.batch(32).prefetch(1) ############################# error나서 배치사이즈 조절: 512 -> 32\n",
        "#-----------------------------------------------------------------------------\n",
        "    def testGenerator():\n",
        "        for file in train_scaled[test_index]:\n",
        "            target= file[:,:,-1].reshape(40,40,1)\n",
        "            cutoff_labels = np.where(target < 0, 0, target)\n",
        "            feature = file[:,:,:10]#########################land type 추가\n",
        "            if (cutoff_labels > 0).sum() < 50:\n",
        "                continue\n",
        "            yield (feature, cutoff_labels)\n",
        "    test_dataset = tf.data.Dataset.from_generator(testGenerator,\n",
        "                                                (tf.float32, tf.float32),\n",
        "                                                (tf.TensorShape([40,40,10]),########################land type 추가\n",
        "                                                    tf.TensorShape([40,40,1])))\n",
        "    test_size = len(test_index)\n",
        "    test_dataset = test_dataset.batch(32).prefetch(1) ################################ error나서 배치사이즈 조절: test_size -> 32\n",
        "#-----------------------------------------------------------------------------\n",
        "\n",
        "    \n",
        "\n",
        "    history = model.fit(train_dataset, epochs = 10, verbose=1, validation_data = test_dataset)\n",
        "\n",
        "    #history = model.fit(train_dataset, epochs = 5, ,batch_size = 11, verbose=1)\n",
        "    model_history.append(history)\n",
        "    #del data\n",
        "    del train_dataset\n",
        "    del test_dataset\n",
        "    gc.collect()"
      ],
      "execution_count": 0,
      "outputs": [
        {
          "output_type": "stream",
          "text": [
            "\n",
            "Fold 0\n",
            "Epoch 1/10\n",
            "1228/1228 [==============================] - 68s 55ms/step - loss: 0.2309 - maeOverFscore_keras: 13823585.0000 - fscore_keras: 0.0034 - val_loss: 0.2227 - val_maeOverFscore_keras: 17307562.0000 - val_fscore_keras: 0.0000e+00\n",
            "Epoch 2/10\n",
            "1228/1228 [==============================] - 65s 53ms/step - loss: 0.2278 - maeOverFscore_keras: 17217972.0000 - fscore_keras: 8.7879e-06 - val_loss: 0.2227 - val_maeOverFscore_keras: 17307562.0000 - val_fscore_keras: 0.0000e+00\n",
            "Epoch 3/10\n",
            "1228/1228 [==============================] - ETA: 0s - loss: 0.2278 - maeOverFscore_keras: 17582666.0000 - fscore_keras: 9.1678e-07"
          ],
          "name": "stdout"
        },
        {
          "output_type": "error",
          "ename": "KeyboardInterrupt",
          "evalue": "ignored",
          "traceback": [
            "\u001b[0;31m---------------------------------------------------------------------------\u001b[0m",
            "\u001b[0;31mKeyboardInterrupt\u001b[0m                         Traceback (most recent call last)",
            "\u001b[0;32m<ipython-input-15-64d78e2151e9>\u001b[0m in \u001b[0;36m<module>\u001b[0;34m()\u001b[0m\n\u001b[1;32m     41\u001b[0m \u001b[0;34m\u001b[0m\u001b[0m\n\u001b[1;32m     42\u001b[0m \u001b[0;34m\u001b[0m\u001b[0m\n\u001b[0;32m---> 43\u001b[0;31m     \u001b[0mhistory\u001b[0m \u001b[0;34m=\u001b[0m \u001b[0mmodel\u001b[0m\u001b[0;34m.\u001b[0m\u001b[0mfit\u001b[0m\u001b[0;34m(\u001b[0m\u001b[0mtrain_dataset\u001b[0m\u001b[0;34m,\u001b[0m \u001b[0mepochs\u001b[0m \u001b[0;34m=\u001b[0m \u001b[0;36m10\u001b[0m\u001b[0;34m,\u001b[0m \u001b[0mverbose\u001b[0m\u001b[0;34m=\u001b[0m\u001b[0;36m1\u001b[0m\u001b[0;34m,\u001b[0m \u001b[0mvalidation_data\u001b[0m \u001b[0;34m=\u001b[0m \u001b[0mtest_dataset\u001b[0m\u001b[0;34m)\u001b[0m\u001b[0;34m\u001b[0m\u001b[0;34m\u001b[0m\u001b[0m\n\u001b[0m\u001b[1;32m     44\u001b[0m \u001b[0;34m\u001b[0m\u001b[0m\n\u001b[1;32m     45\u001b[0m     \u001b[0;31m#history = model.fit(train_dataset, epochs = 5, ,batch_size = 11, verbose=1)\u001b[0m\u001b[0;34m\u001b[0m\u001b[0;34m\u001b[0m\u001b[0;34m\u001b[0m\u001b[0m\n",
            "\u001b[0;32m/usr/local/lib/python3.6/dist-packages/tensorflow/python/keras/engine/training.py\u001b[0m in \u001b[0;36m_method_wrapper\u001b[0;34m(self, *args, **kwargs)\u001b[0m\n\u001b[1;32m     64\u001b[0m   \u001b[0;32mdef\u001b[0m \u001b[0m_method_wrapper\u001b[0m\u001b[0;34m(\u001b[0m\u001b[0mself\u001b[0m\u001b[0;34m,\u001b[0m \u001b[0;34m*\u001b[0m\u001b[0margs\u001b[0m\u001b[0;34m,\u001b[0m \u001b[0;34m**\u001b[0m\u001b[0mkwargs\u001b[0m\u001b[0;34m)\u001b[0m\u001b[0;34m:\u001b[0m\u001b[0;34m\u001b[0m\u001b[0;34m\u001b[0m\u001b[0m\n\u001b[1;32m     65\u001b[0m     \u001b[0;32mif\u001b[0m \u001b[0;32mnot\u001b[0m \u001b[0mself\u001b[0m\u001b[0;34m.\u001b[0m\u001b[0m_in_multi_worker_mode\u001b[0m\u001b[0;34m(\u001b[0m\u001b[0;34m)\u001b[0m\u001b[0;34m:\u001b[0m  \u001b[0;31m# pylint: disable=protected-access\u001b[0m\u001b[0;34m\u001b[0m\u001b[0;34m\u001b[0m\u001b[0m\n\u001b[0;32m---> 66\u001b[0;31m       \u001b[0;32mreturn\u001b[0m \u001b[0mmethod\u001b[0m\u001b[0;34m(\u001b[0m\u001b[0mself\u001b[0m\u001b[0;34m,\u001b[0m \u001b[0;34m*\u001b[0m\u001b[0margs\u001b[0m\u001b[0;34m,\u001b[0m \u001b[0;34m**\u001b[0m\u001b[0mkwargs\u001b[0m\u001b[0;34m)\u001b[0m\u001b[0;34m\u001b[0m\u001b[0;34m\u001b[0m\u001b[0m\n\u001b[0m\u001b[1;32m     67\u001b[0m \u001b[0;34m\u001b[0m\u001b[0m\n\u001b[1;32m     68\u001b[0m     \u001b[0;31m# Running inside `run_distribute_coordinator` already.\u001b[0m\u001b[0;34m\u001b[0m\u001b[0;34m\u001b[0m\u001b[0;34m\u001b[0m\u001b[0m\n",
            "\u001b[0;32m/usr/local/lib/python3.6/dist-packages/tensorflow/python/keras/engine/training.py\u001b[0m in \u001b[0;36mfit\u001b[0;34m(self, x, y, batch_size, epochs, verbose, callbacks, validation_split, validation_data, shuffle, class_weight, sample_weight, initial_epoch, steps_per_epoch, validation_steps, validation_batch_size, validation_freq, max_queue_size, workers, use_multiprocessing)\u001b[0m\n\u001b[1;32m    870\u001b[0m               \u001b[0mworkers\u001b[0m\u001b[0;34m=\u001b[0m\u001b[0mworkers\u001b[0m\u001b[0;34m,\u001b[0m\u001b[0;34m\u001b[0m\u001b[0;34m\u001b[0m\u001b[0m\n\u001b[1;32m    871\u001b[0m               \u001b[0muse_multiprocessing\u001b[0m\u001b[0;34m=\u001b[0m\u001b[0muse_multiprocessing\u001b[0m\u001b[0;34m,\u001b[0m\u001b[0;34m\u001b[0m\u001b[0;34m\u001b[0m\u001b[0m\n\u001b[0;32m--> 872\u001b[0;31m               return_dict=True)\n\u001b[0m\u001b[1;32m    873\u001b[0m           \u001b[0mval_logs\u001b[0m \u001b[0;34m=\u001b[0m \u001b[0;34m{\u001b[0m\u001b[0;34m'val_'\u001b[0m \u001b[0;34m+\u001b[0m \u001b[0mname\u001b[0m\u001b[0;34m:\u001b[0m \u001b[0mval\u001b[0m \u001b[0;32mfor\u001b[0m \u001b[0mname\u001b[0m\u001b[0;34m,\u001b[0m \u001b[0mval\u001b[0m \u001b[0;32min\u001b[0m \u001b[0mval_logs\u001b[0m\u001b[0;34m.\u001b[0m\u001b[0mitems\u001b[0m\u001b[0;34m(\u001b[0m\u001b[0;34m)\u001b[0m\u001b[0;34m}\u001b[0m\u001b[0;34m\u001b[0m\u001b[0;34m\u001b[0m\u001b[0m\n\u001b[1;32m    874\u001b[0m           \u001b[0mepoch_logs\u001b[0m\u001b[0;34m.\u001b[0m\u001b[0mupdate\u001b[0m\u001b[0;34m(\u001b[0m\u001b[0mval_logs\u001b[0m\u001b[0;34m)\u001b[0m\u001b[0;34m\u001b[0m\u001b[0;34m\u001b[0m\u001b[0m\n",
            "\u001b[0;32m/usr/local/lib/python3.6/dist-packages/tensorflow/python/keras/engine/training.py\u001b[0m in \u001b[0;36m_method_wrapper\u001b[0;34m(self, *args, **kwargs)\u001b[0m\n\u001b[1;32m     64\u001b[0m   \u001b[0;32mdef\u001b[0m \u001b[0m_method_wrapper\u001b[0m\u001b[0;34m(\u001b[0m\u001b[0mself\u001b[0m\u001b[0;34m,\u001b[0m \u001b[0;34m*\u001b[0m\u001b[0margs\u001b[0m\u001b[0;34m,\u001b[0m \u001b[0;34m**\u001b[0m\u001b[0mkwargs\u001b[0m\u001b[0;34m)\u001b[0m\u001b[0;34m:\u001b[0m\u001b[0;34m\u001b[0m\u001b[0;34m\u001b[0m\u001b[0m\n\u001b[1;32m     65\u001b[0m     \u001b[0;32mif\u001b[0m \u001b[0;32mnot\u001b[0m \u001b[0mself\u001b[0m\u001b[0;34m.\u001b[0m\u001b[0m_in_multi_worker_mode\u001b[0m\u001b[0;34m(\u001b[0m\u001b[0;34m)\u001b[0m\u001b[0;34m:\u001b[0m  \u001b[0;31m# pylint: disable=protected-access\u001b[0m\u001b[0;34m\u001b[0m\u001b[0;34m\u001b[0m\u001b[0m\n\u001b[0;32m---> 66\u001b[0;31m       \u001b[0;32mreturn\u001b[0m \u001b[0mmethod\u001b[0m\u001b[0;34m(\u001b[0m\u001b[0mself\u001b[0m\u001b[0;34m,\u001b[0m \u001b[0;34m*\u001b[0m\u001b[0margs\u001b[0m\u001b[0;34m,\u001b[0m \u001b[0;34m**\u001b[0m\u001b[0mkwargs\u001b[0m\u001b[0;34m)\u001b[0m\u001b[0;34m\u001b[0m\u001b[0;34m\u001b[0m\u001b[0m\n\u001b[0m\u001b[1;32m     67\u001b[0m \u001b[0;34m\u001b[0m\u001b[0m\n\u001b[1;32m     68\u001b[0m     \u001b[0;31m# Running inside `run_distribute_coordinator` already.\u001b[0m\u001b[0;34m\u001b[0m\u001b[0;34m\u001b[0m\u001b[0;34m\u001b[0m\u001b[0m\n",
            "\u001b[0;32m/usr/local/lib/python3.6/dist-packages/tensorflow/python/keras/engine/training.py\u001b[0m in \u001b[0;36mevaluate\u001b[0;34m(self, x, y, batch_size, verbose, sample_weight, steps, callbacks, max_queue_size, workers, use_multiprocessing, return_dict)\u001b[0m\n\u001b[1;32m   1079\u001b[0m                 step_num=step):\n\u001b[1;32m   1080\u001b[0m               \u001b[0mcallbacks\u001b[0m\u001b[0;34m.\u001b[0m\u001b[0mon_test_batch_begin\u001b[0m\u001b[0;34m(\u001b[0m\u001b[0mstep\u001b[0m\u001b[0;34m)\u001b[0m\u001b[0;34m\u001b[0m\u001b[0;34m\u001b[0m\u001b[0m\n\u001b[0;32m-> 1081\u001b[0;31m               \u001b[0mtmp_logs\u001b[0m \u001b[0;34m=\u001b[0m \u001b[0mtest_function\u001b[0m\u001b[0;34m(\u001b[0m\u001b[0miterator\u001b[0m\u001b[0;34m)\u001b[0m\u001b[0;34m\u001b[0m\u001b[0;34m\u001b[0m\u001b[0m\n\u001b[0m\u001b[1;32m   1082\u001b[0m               \u001b[0;31m# Catch OutOfRangeError for Datasets of unknown size.\u001b[0m\u001b[0;34m\u001b[0m\u001b[0;34m\u001b[0m\u001b[0;34m\u001b[0m\u001b[0m\n\u001b[1;32m   1083\u001b[0m               \u001b[0;31m# This blocks until the batch has finished executing.\u001b[0m\u001b[0;34m\u001b[0m\u001b[0;34m\u001b[0m\u001b[0;34m\u001b[0m\u001b[0m\n",
            "\u001b[0;32m/usr/local/lib/python3.6/dist-packages/tensorflow/python/eager/def_function.py\u001b[0m in \u001b[0;36m__call__\u001b[0;34m(self, *args, **kwds)\u001b[0m\n\u001b[1;32m    578\u001b[0m         \u001b[0mxla_context\u001b[0m\u001b[0;34m.\u001b[0m\u001b[0mExit\u001b[0m\u001b[0;34m(\u001b[0m\u001b[0;34m)\u001b[0m\u001b[0;34m\u001b[0m\u001b[0;34m\u001b[0m\u001b[0m\n\u001b[1;32m    579\u001b[0m     \u001b[0;32melse\u001b[0m\u001b[0;34m:\u001b[0m\u001b[0;34m\u001b[0m\u001b[0;34m\u001b[0m\u001b[0m\n\u001b[0;32m--> 580\u001b[0;31m       \u001b[0mresult\u001b[0m \u001b[0;34m=\u001b[0m \u001b[0mself\u001b[0m\u001b[0;34m.\u001b[0m\u001b[0m_call\u001b[0m\u001b[0;34m(\u001b[0m\u001b[0;34m*\u001b[0m\u001b[0margs\u001b[0m\u001b[0;34m,\u001b[0m \u001b[0;34m**\u001b[0m\u001b[0mkwds\u001b[0m\u001b[0;34m)\u001b[0m\u001b[0;34m\u001b[0m\u001b[0;34m\u001b[0m\u001b[0m\n\u001b[0m\u001b[1;32m    581\u001b[0m \u001b[0;34m\u001b[0m\u001b[0m\n\u001b[1;32m    582\u001b[0m     \u001b[0;32mif\u001b[0m \u001b[0mtracing_count\u001b[0m \u001b[0;34m==\u001b[0m \u001b[0mself\u001b[0m\u001b[0;34m.\u001b[0m\u001b[0m_get_tracing_count\u001b[0m\u001b[0;34m(\u001b[0m\u001b[0;34m)\u001b[0m\u001b[0;34m:\u001b[0m\u001b[0;34m\u001b[0m\u001b[0;34m\u001b[0m\u001b[0m\n",
            "\u001b[0;32m/usr/local/lib/python3.6/dist-packages/tensorflow/python/eager/def_function.py\u001b[0m in \u001b[0;36m_call\u001b[0;34m(self, *args, **kwds)\u001b[0m\n\u001b[1;32m    616\u001b[0m       \u001b[0;31m# In this case we have not created variables on the first call. So we can\u001b[0m\u001b[0;34m\u001b[0m\u001b[0;34m\u001b[0m\u001b[0;34m\u001b[0m\u001b[0m\n\u001b[1;32m    617\u001b[0m       \u001b[0;31m# run the first trace but we should fail if variables are created.\u001b[0m\u001b[0;34m\u001b[0m\u001b[0;34m\u001b[0m\u001b[0;34m\u001b[0m\u001b[0m\n\u001b[0;32m--> 618\u001b[0;31m       \u001b[0mresults\u001b[0m \u001b[0;34m=\u001b[0m \u001b[0mself\u001b[0m\u001b[0;34m.\u001b[0m\u001b[0m_stateful_fn\u001b[0m\u001b[0;34m(\u001b[0m\u001b[0;34m*\u001b[0m\u001b[0margs\u001b[0m\u001b[0;34m,\u001b[0m \u001b[0;34m**\u001b[0m\u001b[0mkwds\u001b[0m\u001b[0;34m)\u001b[0m\u001b[0;34m\u001b[0m\u001b[0;34m\u001b[0m\u001b[0m\n\u001b[0m\u001b[1;32m    619\u001b[0m       \u001b[0;32mif\u001b[0m \u001b[0mself\u001b[0m\u001b[0;34m.\u001b[0m\u001b[0m_created_variables\u001b[0m\u001b[0;34m:\u001b[0m\u001b[0;34m\u001b[0m\u001b[0;34m\u001b[0m\u001b[0m\n\u001b[1;32m    620\u001b[0m         raise ValueError(\"Creating variables on a non-first call to a function\"\n",
            "\u001b[0;32m/usr/local/lib/python3.6/dist-packages/tensorflow/python/eager/function.py\u001b[0m in \u001b[0;36m__call__\u001b[0;34m(self, *args, **kwargs)\u001b[0m\n\u001b[1;32m   2418\u001b[0m     \u001b[0;32mwith\u001b[0m \u001b[0mself\u001b[0m\u001b[0;34m.\u001b[0m\u001b[0m_lock\u001b[0m\u001b[0;34m:\u001b[0m\u001b[0;34m\u001b[0m\u001b[0;34m\u001b[0m\u001b[0m\n\u001b[1;32m   2419\u001b[0m       \u001b[0mgraph_function\u001b[0m\u001b[0;34m,\u001b[0m \u001b[0margs\u001b[0m\u001b[0;34m,\u001b[0m \u001b[0mkwargs\u001b[0m \u001b[0;34m=\u001b[0m \u001b[0mself\u001b[0m\u001b[0;34m.\u001b[0m\u001b[0m_maybe_define_function\u001b[0m\u001b[0;34m(\u001b[0m\u001b[0margs\u001b[0m\u001b[0;34m,\u001b[0m \u001b[0mkwargs\u001b[0m\u001b[0;34m)\u001b[0m\u001b[0;34m\u001b[0m\u001b[0;34m\u001b[0m\u001b[0m\n\u001b[0;32m-> 2420\u001b[0;31m     \u001b[0;32mreturn\u001b[0m \u001b[0mgraph_function\u001b[0m\u001b[0;34m.\u001b[0m\u001b[0m_filtered_call\u001b[0m\u001b[0;34m(\u001b[0m\u001b[0margs\u001b[0m\u001b[0;34m,\u001b[0m \u001b[0mkwargs\u001b[0m\u001b[0;34m)\u001b[0m  \u001b[0;31m# pylint: disable=protected-access\u001b[0m\u001b[0;34m\u001b[0m\u001b[0;34m\u001b[0m\u001b[0m\n\u001b[0m\u001b[1;32m   2421\u001b[0m \u001b[0;34m\u001b[0m\u001b[0m\n\u001b[1;32m   2422\u001b[0m   \u001b[0;34m@\u001b[0m\u001b[0mproperty\u001b[0m\u001b[0;34m\u001b[0m\u001b[0;34m\u001b[0m\u001b[0m\n",
            "\u001b[0;32m/usr/local/lib/python3.6/dist-packages/tensorflow/python/eager/function.py\u001b[0m in \u001b[0;36m_filtered_call\u001b[0;34m(self, args, kwargs)\u001b[0m\n\u001b[1;32m   1663\u001b[0m          if isinstance(t, (ops.Tensor,\n\u001b[1;32m   1664\u001b[0m                            resource_variable_ops.BaseResourceVariable))),\n\u001b[0;32m-> 1665\u001b[0;31m         self.captured_inputs)\n\u001b[0m\u001b[1;32m   1666\u001b[0m \u001b[0;34m\u001b[0m\u001b[0m\n\u001b[1;32m   1667\u001b[0m   \u001b[0;32mdef\u001b[0m \u001b[0m_call_flat\u001b[0m\u001b[0;34m(\u001b[0m\u001b[0mself\u001b[0m\u001b[0;34m,\u001b[0m \u001b[0margs\u001b[0m\u001b[0;34m,\u001b[0m \u001b[0mcaptured_inputs\u001b[0m\u001b[0;34m,\u001b[0m \u001b[0mcancellation_manager\u001b[0m\u001b[0;34m=\u001b[0m\u001b[0;32mNone\u001b[0m\u001b[0;34m)\u001b[0m\u001b[0;34m:\u001b[0m\u001b[0;34m\u001b[0m\u001b[0;34m\u001b[0m\u001b[0m\n",
            "\u001b[0;32m/usr/local/lib/python3.6/dist-packages/tensorflow/python/eager/function.py\u001b[0m in \u001b[0;36m_call_flat\u001b[0;34m(self, args, captured_inputs, cancellation_manager)\u001b[0m\n\u001b[1;32m   1744\u001b[0m       \u001b[0;31m# No tape is watching; skip to running the function.\u001b[0m\u001b[0;34m\u001b[0m\u001b[0;34m\u001b[0m\u001b[0;34m\u001b[0m\u001b[0m\n\u001b[1;32m   1745\u001b[0m       return self._build_call_outputs(self._inference_function.call(\n\u001b[0;32m-> 1746\u001b[0;31m           ctx, args, cancellation_manager=cancellation_manager))\n\u001b[0m\u001b[1;32m   1747\u001b[0m     forward_backward = self._select_forward_and_backward_functions(\n\u001b[1;32m   1748\u001b[0m         \u001b[0margs\u001b[0m\u001b[0;34m,\u001b[0m\u001b[0;34m\u001b[0m\u001b[0;34m\u001b[0m\u001b[0m\n",
            "\u001b[0;32m/usr/local/lib/python3.6/dist-packages/tensorflow/python/eager/function.py\u001b[0m in \u001b[0;36mcall\u001b[0;34m(self, ctx, args, cancellation_manager)\u001b[0m\n\u001b[1;32m    596\u001b[0m               \u001b[0minputs\u001b[0m\u001b[0;34m=\u001b[0m\u001b[0margs\u001b[0m\u001b[0;34m,\u001b[0m\u001b[0;34m\u001b[0m\u001b[0;34m\u001b[0m\u001b[0m\n\u001b[1;32m    597\u001b[0m               \u001b[0mattrs\u001b[0m\u001b[0;34m=\u001b[0m\u001b[0mattrs\u001b[0m\u001b[0;34m,\u001b[0m\u001b[0;34m\u001b[0m\u001b[0;34m\u001b[0m\u001b[0m\n\u001b[0;32m--> 598\u001b[0;31m               ctx=ctx)\n\u001b[0m\u001b[1;32m    599\u001b[0m         \u001b[0;32melse\u001b[0m\u001b[0;34m:\u001b[0m\u001b[0;34m\u001b[0m\u001b[0;34m\u001b[0m\u001b[0m\n\u001b[1;32m    600\u001b[0m           outputs = execute.execute_with_cancellation(\n",
            "\u001b[0;32m/usr/local/lib/python3.6/dist-packages/tensorflow/python/eager/execute.py\u001b[0m in \u001b[0;36mquick_execute\u001b[0;34m(op_name, num_outputs, inputs, attrs, ctx, name)\u001b[0m\n\u001b[1;32m     58\u001b[0m     \u001b[0mctx\u001b[0m\u001b[0;34m.\u001b[0m\u001b[0mensure_initialized\u001b[0m\u001b[0;34m(\u001b[0m\u001b[0;34m)\u001b[0m\u001b[0;34m\u001b[0m\u001b[0;34m\u001b[0m\u001b[0m\n\u001b[1;32m     59\u001b[0m     tensors = pywrap_tfe.TFE_Py_Execute(ctx._handle, device_name, op_name,\n\u001b[0;32m---> 60\u001b[0;31m                                         inputs, attrs, num_outputs)\n\u001b[0m\u001b[1;32m     61\u001b[0m   \u001b[0;32mexcept\u001b[0m \u001b[0mcore\u001b[0m\u001b[0;34m.\u001b[0m\u001b[0m_NotOkStatusException\u001b[0m \u001b[0;32mas\u001b[0m \u001b[0me\u001b[0m\u001b[0;34m:\u001b[0m\u001b[0;34m\u001b[0m\u001b[0;34m\u001b[0m\u001b[0m\n\u001b[1;32m     62\u001b[0m     \u001b[0;32mif\u001b[0m \u001b[0mname\u001b[0m \u001b[0;32mis\u001b[0m \u001b[0;32mnot\u001b[0m \u001b[0;32mNone\u001b[0m\u001b[0;34m:\u001b[0m\u001b[0;34m\u001b[0m\u001b[0;34m\u001b[0m\u001b[0m\n",
            "\u001b[0;31mKeyboardInterrupt\u001b[0m: "
          ]
        }
      ]
    },
    {
      "cell_type": "markdown",
      "metadata": {
        "id": "UP_qwrfIM-Vk",
        "colab_type": "text"
      },
      "source": [
        "### 2) train: 스케일링 안한 데이터(이상치만 제거)"
      ]
    },
    {
      "cell_type": "code",
      "metadata": {
        "id": "fWuIRIoN7LwN",
        "colab_type": "code",
        "outputId": "d6532914-905f-4cf0-fc0f-416610c56d1b",
        "colab": {
          "base_uri": "https://localhost:8080/",
          "height": 1000
        }
      },
      "source": [
        "from sklearn.model_selection import KFold\n",
        "kf = KFold(n_splits=5, shuffle = True)\n",
        "model_history = []\n",
        "fold_number = 0\n",
        "\n",
        "for train_index, test_index in kf.split(train):\n",
        "    print(f'\\nFold {fold_number}')\n",
        "    fold_number = fold_number + 1\n",
        "    \n",
        "#-----------------------------------------------------------------------------\n",
        "    def trainGenerator():\n",
        "        for file in train[train_index]:\n",
        "            target= file[:,:,-1].reshape(40,40,1)\n",
        "            cutoff_labels = np.where(target < 0, 0, target)\n",
        "            feature = file[:,:,:10]#########################land type 추가\n",
        "            if (cutoff_labels > 0).sum() < 50:\n",
        "                continue\n",
        "            yield (feature, cutoff_labels)\n",
        "    train_dataset = tf.data.Dataset.from_generator(trainGenerator,\n",
        "                                                (tf.float32, tf.float32),\n",
        "                                                (tf.TensorShape([40,40,10]),########################land type 추가\n",
        "                                                    tf.TensorShape([40,40,1])))\n",
        "    train_dataset = train_dataset.batch(512).prefetch(1) ############################# error나서 배치사이즈 조절: 512 -> 32\n",
        "#-----------------------------------------------------------------------------\n",
        "    def testGenerator():\n",
        "        for file in train[test_index]:\n",
        "            target= file[:,:,-1].reshape(40,40,1)\n",
        "            cutoff_labels = np.where(target < 0, 0, target)\n",
        "            feature = file[:,:,:10]#########################land type 추가\n",
        "            if (cutoff_labels > 0).sum() < 50:\n",
        "                continue\n",
        "            yield (feature, cutoff_labels)\n",
        "    test_dataset = tf.data.Dataset.from_generator(testGenerator,\n",
        "                                                (tf.float32, tf.float32),\n",
        "                                                (tf.TensorShape([40,40,10]),########################land type 추가\n",
        "                                                    tf.TensorShape([40,40,1])))\n",
        "    test_size = len(test_index)\n",
        "    test_dataset = test_dataset.batch(test_size).prefetch(1) ################################ error나서 배치사이즈 조절: test_size -> 32\n",
        "#-----------------------------------------------------------------------------\n",
        "\n",
        "    \n",
        "    \n",
        "    history = model.fit(train_dataset, epochs = 10, verbose=1, validation_data = test_dataset)\n",
        "\n",
        "    #history = model.fit(train_dataset, epochs = 5, ,batch_size = 11, verbose=1)\n",
        "    model_history.append(history)\n",
        "    #del data\n",
        "    del train_dataset\n",
        "    del test_dataset\n",
        "    gc.collect()"
      ],
      "execution_count": 0,
      "outputs": [
        {
          "output_type": "stream",
          "text": [
            "\n",
            "Fold 0\n",
            "Epoch 1/10\n",
            "794/794 [==============================] - 60s 76ms/step - loss: 0.3017 - maeOverFscore_keras: 3.4118 - fscore_keras: 0.5431 - val_loss: 0.2762 - val_maeOverFscore_keras: 5.0360 - val_fscore_keras: 0.3767\n",
            "Epoch 2/10\n",
            "794/794 [==============================] - 56s 70ms/step - loss: 0.2731 - maeOverFscore_keras: 2.7386 - fscore_keras: 0.6074 - val_loss: 0.2735 - val_maeOverFscore_keras: 4.7108 - val_fscore_keras: 0.3888\n",
            "Epoch 3/10\n",
            "794/794 [==============================] - 59s 74ms/step - loss: 0.2656 - maeOverFscore_keras: 2.5290 - fscore_keras: 0.6369 - val_loss: 0.2466 - val_maeOverFscore_keras: 2.9543 - val_fscore_keras: 0.5404\n",
            "Epoch 4/10\n",
            "794/794 [==============================] - 58s 73ms/step - loss: 0.2608 - maeOverFscore_keras: 2.4134 - fscore_keras: 0.6541 - val_loss: 0.2268 - val_maeOverFscore_keras: 2.2449 - val_fscore_keras: 0.6395\n",
            "Epoch 5/10\n",
            "794/794 [==============================] - 57s 72ms/step - loss: 0.2567 - maeOverFscore_keras: 2.3098 - fscore_keras: 0.6715 - val_loss: 0.2379 - val_maeOverFscore_keras: 1.9961 - val_fscore_keras: 0.6940\n",
            "Epoch 6/10\n",
            "794/794 [==============================] - 58s 73ms/step - loss: 0.2541 - maeOverFscore_keras: 2.2629 - fscore_keras: 0.6788 - val_loss: 0.2404 - val_maeOverFscore_keras: 2.1915 - val_fscore_keras: 0.6725\n",
            "Epoch 7/10\n",
            "794/794 [==============================] - 59s 74ms/step - loss: 0.2520 - maeOverFscore_keras: 2.2214 - fscore_keras: 0.6857 - val_loss: 0.3007 - val_maeOverFscore_keras: 2.7951 - val_fscore_keras: 0.5634\n",
            "Epoch 8/10\n",
            "794/794 [==============================] - 59s 74ms/step - loss: 0.2510 - maeOverFscore_keras: 2.2122 - fscore_keras: 0.6864 - val_loss: 0.2732 - val_maeOverFscore_keras: 2.3875 - val_fscore_keras: 0.6298\n",
            "Epoch 9/10\n",
            "794/794 [==============================] - 59s 74ms/step - loss: 0.2490 - maeOverFscore_keras: 2.1726 - fscore_keras: 0.6931 - val_loss: 0.2611 - val_maeOverFscore_keras: 2.4227 - val_fscore_keras: 0.6309\n",
            "Epoch 10/10\n",
            "794/794 [==============================] - 58s 73ms/step - loss: 0.2478 - maeOverFscore_keras: 2.1485 - fscore_keras: 0.6970 - val_loss: 0.2601 - val_maeOverFscore_keras: 2.4673 - val_fscore_keras: 0.6260\n",
            "\n",
            "Fold 1\n",
            "Epoch 1/10\n",
            "763/763 [==============================] - 58s 76ms/step - loss: 0.2400 - maeOverFscore_keras: 2.1278 - fscore_keras: 0.6898 - val_loss: 0.3623 - val_maeOverFscore_keras: 3.4290 - val_fscore_keras: 0.4722\n",
            "Epoch 2/10\n",
            "763/763 [==============================] - 56s 74ms/step - loss: 0.2388 - maeOverFscore_keras: 2.0979 - fscore_keras: 0.6949 - val_loss: 0.3618 - val_maeOverFscore_keras: 3.4206 - val_fscore_keras: 0.4853\n",
            "Epoch 3/10\n",
            "763/763 [==============================] - 57s 75ms/step - loss: 0.2384 - maeOverFscore_keras: 2.0915 - fscore_keras: 0.6962 - val_loss: 0.2992 - val_maeOverFscore_keras: 2.3022 - val_fscore_keras: 0.6286\n",
            "Epoch 4/10\n",
            "763/763 [==============================] - 57s 75ms/step - loss: 0.2371 - maeOverFscore_keras: 2.0696 - fscore_keras: 0.7000 - val_loss: 0.2582 - val_maeOverFscore_keras: 2.1868 - val_fscore_keras: 0.7038\n",
            "Epoch 5/10\n",
            "763/763 [==============================] - 58s 76ms/step - loss: 0.2362 - maeOverFscore_keras: 2.0554 - fscore_keras: 0.7020 - val_loss: 0.5002 - val_maeOverFscore_keras: 4.7041 - val_fscore_keras: 0.4228\n",
            "Epoch 6/10\n",
            "763/763 [==============================] - 56s 74ms/step - loss: 0.2356 - maeOverFscore_keras: 2.0401 - fscore_keras: 0.7047 - val_loss: 0.3312 - val_maeOverFscore_keras: 2.6042 - val_fscore_keras: 0.6741\n",
            "Epoch 7/10\n",
            "763/763 [==============================] - 56s 74ms/step - loss: 0.2355 - maeOverFscore_keras: 2.0466 - fscore_keras: 0.7028 - val_loss: 0.2993 - val_maeOverFscore_keras: 2.4274 - val_fscore_keras: 0.6472\n",
            "Epoch 8/10\n",
            "763/763 [==============================] - 57s 74ms/step - loss: 0.2368 - maeOverFscore_keras: 2.0785 - fscore_keras: 0.6974 - val_loss: 0.2827 - val_maeOverFscore_keras: 2.2015 - val_fscore_keras: 0.6891\n",
            "Epoch 9/10\n",
            "763/763 [==============================] - 57s 75ms/step - loss: 0.2339 - maeOverFscore_keras: 2.0142 - fscore_keras: 0.7089 - val_loss: 0.3558 - val_maeOverFscore_keras: 2.6582 - val_fscore_keras: 0.6207\n",
            "Epoch 10/10\n",
            "763/763 [==============================] - 58s 76ms/step - loss: 0.2334 - maeOverFscore_keras: 2.0081 - fscore_keras: 0.7099 - val_loss: 0.2590 - val_maeOverFscore_keras: 2.0113 - val_fscore_keras: 0.7196\n",
            "\n",
            "Fold 2\n",
            "Epoch 1/10\n",
            "750/750 [==============================] - 58s 78ms/step - loss: 0.2394 - maeOverFscore_keras: 2.0426 - fscore_keras: 0.7043 - val_loss: 0.2737 - val_maeOverFscore_keras: 2.4506 - val_fscore_keras: 0.6622\n",
            "Epoch 2/10\n",
            "750/750 [==============================] - 58s 77ms/step - loss: 0.2379 - maeOverFscore_keras: 2.0103 - fscore_keras: 0.7103 - val_loss: 0.2535 - val_maeOverFscore_keras: 2.1579 - val_fscore_keras: 0.6830\n",
            "Epoch 3/10\n",
            "750/750 [==============================] - 57s 77ms/step - loss: 0.2374 - maeOverFscore_keras: 2.0079 - fscore_keras: 0.7097 - val_loss: 0.2559 - val_maeOverFscore_keras: 2.0035 - val_fscore_keras: 0.7153\n",
            "Epoch 4/10\n",
            "750/750 [==============================] - 59s 78ms/step - loss: 0.2379 - maeOverFscore_keras: 2.0173 - fscore_keras: 0.7082 - val_loss: 0.2965 - val_maeOverFscore_keras: 2.4242 - val_fscore_keras: 0.6603\n",
            "Epoch 5/10\n",
            "750/750 [==============================] - 58s 78ms/step - loss: 0.2365 - maeOverFscore_keras: 1.9977 - fscore_keras: 0.7111 - val_loss: 0.2461 - val_maeOverFscore_keras: 2.3547 - val_fscore_keras: 0.6495\n",
            "Epoch 6/10\n",
            "750/750 [==============================] - 58s 78ms/step - loss: 0.2362 - maeOverFscore_keras: 1.9921 - fscore_keras: 0.7121 - val_loss: 0.2446 - val_maeOverFscore_keras: 2.0108 - val_fscore_keras: 0.7089\n",
            "Epoch 7/10\n",
            "750/750 [==============================] - 58s 77ms/step - loss: 0.2354 - maeOverFscore_keras: 1.9832 - fscore_keras: 0.7134 - val_loss: 0.2462 - val_maeOverFscore_keras: 2.2941 - val_fscore_keras: 0.6571\n",
            "Epoch 8/10\n",
            "750/750 [==============================] - 57s 76ms/step - loss: 0.2367 - maeOverFscore_keras: 2.0027 - fscore_keras: 0.7101 - val_loss: 0.2327 - val_maeOverFscore_keras: 2.0104 - val_fscore_keras: 0.7155\n",
            "Epoch 9/10\n",
            "750/750 [==============================] - 58s 77ms/step - loss: 0.2347 - maeOverFscore_keras: 1.9718 - fscore_keras: 0.7153 - val_loss: 0.2484 - val_maeOverFscore_keras: 2.1882 - val_fscore_keras: 0.6760\n",
            "Epoch 10/10\n",
            "750/750 [==============================] - 58s 77ms/step - loss: 0.2342 - maeOverFscore_keras: 1.9638 - fscore_keras: 0.7166 - val_loss: 0.2318 - val_maeOverFscore_keras: 1.9195 - val_fscore_keras: 0.7401\n",
            "\n",
            "Fold 3\n",
            "Epoch 1/10\n",
            "794/794 [==============================] - 57s 72ms/step - loss: 0.2361 - maeOverFscore_keras: 1.9825 - fscore_keras: 0.7238 - val_loss: 0.2280 - val_maeOverFscore_keras: 1.8548 - val_fscore_keras: 0.7076\n",
            "Epoch 2/10\n",
            "794/794 [==============================] - 57s 72ms/step - loss: 0.2361 - maeOverFscore_keras: 1.9869 - fscore_keras: 0.7224 - val_loss: 0.2247 - val_maeOverFscore_keras: 1.8509 - val_fscore_keras: 0.6885\n",
            "Epoch 3/10\n",
            "794/794 [==============================] - 57s 72ms/step - loss: 0.2357 - maeOverFscore_keras: 1.9798 - fscore_keras: 0.7235 - val_loss: 0.2149 - val_maeOverFscore_keras: 1.8213 - val_fscore_keras: 0.7010\n",
            "Epoch 4/10\n",
            "794/794 [==============================] - 57s 72ms/step - loss: 0.2347 - maeOverFscore_keras: 1.9676 - fscore_keras: 0.7253 - val_loss: 0.2147 - val_maeOverFscore_keras: 1.8148 - val_fscore_keras: 0.7050\n",
            "Epoch 5/10\n",
            "794/794 [==============================] - 58s 74ms/step - loss: 0.2348 - maeOverFscore_keras: 1.9651 - fscore_keras: 0.7263 - val_loss: 0.2161 - val_maeOverFscore_keras: 1.9703 - val_fscore_keras: 0.6733\n",
            "Epoch 6/10\n",
            "794/794 [==============================] - 58s 73ms/step - loss: 0.2338 - maeOverFscore_keras: 1.9543 - fscore_keras: 0.7274 - val_loss: 0.2728 - val_maeOverFscore_keras: 2.0269 - val_fscore_keras: 0.6011\n",
            "Epoch 7/10\n",
            "794/794 [==============================] - 59s 74ms/step - loss: 0.2337 - maeOverFscore_keras: 1.9562 - fscore_keras: 0.7265 - val_loss: 0.2429 - val_maeOverFscore_keras: 1.8550 - val_fscore_keras: 0.6641\n",
            "Epoch 8/10\n",
            "794/794 [==============================] - 59s 74ms/step - loss: 0.2332 - maeOverFscore_keras: 1.9432 - fscore_keras: 0.7295 - val_loss: 0.2181 - val_maeOverFscore_keras: 1.7758 - val_fscore_keras: 0.7007\n",
            "Epoch 9/10\n",
            "794/794 [==============================] - 57s 72ms/step - loss: 0.2331 - maeOverFscore_keras: 1.9450 - fscore_keras: 0.7287 - val_loss: 0.2162 - val_maeOverFscore_keras: 1.6618 - val_fscore_keras: 0.7256\n",
            "Epoch 10/10\n",
            "794/794 [==============================] - 57s 72ms/step - loss: 0.2328 - maeOverFscore_keras: 1.9406 - fscore_keras: 0.7293 - val_loss: 0.2156 - val_maeOverFscore_keras: 1.8311 - val_fscore_keras: 0.7068\n",
            "\n",
            "Fold 4\n",
            "Epoch 1/10\n",
            "746/746 [==============================] - 58s 78ms/step - loss: 0.2246 - maeOverFscore_keras: 1.8905 - fscore_keras: 0.7223 - val_loss: 0.2597 - val_maeOverFscore_keras: 2.2992 - val_fscore_keras: 0.6853\n",
            "Epoch 2/10\n",
            "746/746 [==============================] - 58s 77ms/step - loss: 0.2244 - maeOverFscore_keras: 1.8862 - fscore_keras: 0.7234 - val_loss: 0.2437 - val_maeOverFscore_keras: 2.0307 - val_fscore_keras: 0.7268\n",
            "Epoch 3/10\n",
            "746/746 [==============================] - 57s 76ms/step - loss: 0.2242 - maeOverFscore_keras: 1.8854 - fscore_keras: 0.7233 - val_loss: 0.2547 - val_maeOverFscore_keras: 2.1739 - val_fscore_keras: 0.6988\n",
            "Epoch 4/10\n",
            "746/746 [==============================] - 57s 77ms/step - loss: 0.2235 - maeOverFscore_keras: 1.8762 - fscore_keras: 0.7246 - val_loss: 0.2511 - val_maeOverFscore_keras: 2.3080 - val_fscore_keras: 0.6730\n",
            "Epoch 5/10\n",
            "746/746 [==============================] - 58s 77ms/step - loss: 0.2239 - maeOverFscore_keras: 1.8812 - fscore_keras: 0.7238 - val_loss: 0.2535 - val_maeOverFscore_keras: 2.1298 - val_fscore_keras: 0.7100\n",
            "Epoch 6/10\n",
            "746/746 [==============================] - 57s 77ms/step - loss: 0.2225 - maeOverFscore_keras: 1.8615 - fscore_keras: 0.7268 - val_loss: 0.2476 - val_maeOverFscore_keras: 1.9994 - val_fscore_keras: 0.7325\n",
            "Epoch 7/10\n",
            "746/746 [==============================] - 58s 77ms/step - loss: 0.2225 - maeOverFscore_keras: 1.8607 - fscore_keras: 0.7270 - val_loss: 0.2464 - val_maeOverFscore_keras: 1.9827 - val_fscore_keras: 0.7391\n",
            "Epoch 8/10\n",
            "746/746 [==============================] - 57s 77ms/step - loss: 0.2220 - maeOverFscore_keras: 1.8564 - fscore_keras: 0.7277 - val_loss: 0.2457 - val_maeOverFscore_keras: 2.0023 - val_fscore_keras: 0.7341\n",
            "Epoch 9/10\n",
            "746/746 [==============================] - 58s 78ms/step - loss: 0.2220 - maeOverFscore_keras: 1.8562 - fscore_keras: 0.7278 - val_loss: 0.2449 - val_maeOverFscore_keras: 2.0800 - val_fscore_keras: 0.7173\n",
            "Epoch 10/10\n",
            "746/746 [==============================] - 57s 77ms/step - loss: 0.2218 - maeOverFscore_keras: 1.8538 - fscore_keras: 0.7280 - val_loss: 0.2404 - val_maeOverFscore_keras: 1.9910 - val_fscore_keras: 0.7304\n"
          ],
          "name": "stdout"
        }
      ]
    },
    {
      "cell_type": "code",
      "metadata": {
        "id": "HoowuSxyZgLH",
        "colab_type": "code",
        "colab": {}
      },
      "source": [
        "## 모델 저장하기\n",
        "model.save('model_scaled.h5')\n",
        "!cp model_scaled.h5 '/content/drive/My Drive/2020 Kaggle Study/model/model_scaled.h5'"
      ],
      "execution_count": 0,
      "outputs": []
    },
    {
      "cell_type": "code",
      "metadata": {
        "id": "lH0-FmTrsiYl",
        "colab_type": "code",
        "outputId": "323206f5-0b4a-44f3-ae78-661da108a08d",
        "colab": {
          "base_uri": "https://localhost:8080/",
          "height": 334
        }
      },
      "source": [
        "model = tf.keras.models.load_model('/content/drive/My Drive/2020 Kaggle Study/model')"
      ],
      "execution_count": 0,
      "outputs": [
        {
          "output_type": "error",
          "ename": "OSError",
          "evalue": "ignored",
          "traceback": [
            "\u001b[0;31m---------------------------------------------------------------------------\u001b[0m",
            "\u001b[0;31mOSError\u001b[0m                                   Traceback (most recent call last)",
            "\u001b[0;32m<ipython-input-20-91a2e8e0fbbc>\u001b[0m in \u001b[0;36m<module>\u001b[0;34m()\u001b[0m\n\u001b[0;32m----> 1\u001b[0;31m model = tf.keras.models.load_model('/content/drive/My Drive/2020 Kaggle Study/model'\n\u001b[0m\u001b[1;32m      2\u001b[0m )\n",
            "\u001b[0;32m/usr/local/lib/python3.6/dist-packages/tensorflow/python/keras/saving/save.py\u001b[0m in \u001b[0;36mload_model\u001b[0;34m(filepath, custom_objects, compile)\u001b[0m\n\u001b[1;32m    187\u001b[0m       \u001b[0mfilepath\u001b[0m \u001b[0;34m=\u001b[0m \u001b[0mstr\u001b[0m\u001b[0;34m(\u001b[0m\u001b[0mfilepath\u001b[0m\u001b[0;34m)\u001b[0m\u001b[0;34m\u001b[0m\u001b[0;34m\u001b[0m\u001b[0m\n\u001b[1;32m    188\u001b[0m     \u001b[0;32mif\u001b[0m \u001b[0misinstance\u001b[0m\u001b[0;34m(\u001b[0m\u001b[0mfilepath\u001b[0m\u001b[0;34m,\u001b[0m \u001b[0msix\u001b[0m\u001b[0;34m.\u001b[0m\u001b[0mstring_types\u001b[0m\u001b[0;34m)\u001b[0m\u001b[0;34m:\u001b[0m\u001b[0;34m\u001b[0m\u001b[0;34m\u001b[0m\u001b[0m\n\u001b[0;32m--> 189\u001b[0;31m       \u001b[0mloader_impl\u001b[0m\u001b[0;34m.\u001b[0m\u001b[0mparse_saved_model\u001b[0m\u001b[0;34m(\u001b[0m\u001b[0mfilepath\u001b[0m\u001b[0;34m)\u001b[0m\u001b[0;34m\u001b[0m\u001b[0;34m\u001b[0m\u001b[0m\n\u001b[0m\u001b[1;32m    190\u001b[0m       \u001b[0;32mreturn\u001b[0m \u001b[0msaved_model_load\u001b[0m\u001b[0;34m.\u001b[0m\u001b[0mload\u001b[0m\u001b[0;34m(\u001b[0m\u001b[0mfilepath\u001b[0m\u001b[0;34m,\u001b[0m \u001b[0mcompile\u001b[0m\u001b[0;34m)\u001b[0m\u001b[0;34m\u001b[0m\u001b[0;34m\u001b[0m\u001b[0m\n\u001b[1;32m    191\u001b[0m \u001b[0;34m\u001b[0m\u001b[0m\n",
            "\u001b[0;32m/usr/local/lib/python3.6/dist-packages/tensorflow/python/saved_model/loader_impl.py\u001b[0m in \u001b[0;36mparse_saved_model\u001b[0;34m(export_dir)\u001b[0m\n\u001b[1;32m    111\u001b[0m                   (export_dir,\n\u001b[1;32m    112\u001b[0m                    \u001b[0mconstants\u001b[0m\u001b[0;34m.\u001b[0m\u001b[0mSAVED_MODEL_FILENAME_PBTXT\u001b[0m\u001b[0;34m,\u001b[0m\u001b[0;34m\u001b[0m\u001b[0;34m\u001b[0m\u001b[0m\n\u001b[0;32m--> 113\u001b[0;31m                    constants.SAVED_MODEL_FILENAME_PB))\n\u001b[0m\u001b[1;32m    114\u001b[0m \u001b[0;34m\u001b[0m\u001b[0m\n\u001b[1;32m    115\u001b[0m \u001b[0;34m\u001b[0m\u001b[0m\n",
            "\u001b[0;31mOSError\u001b[0m: SavedModel file does not exist at: /content/drive/My Drive/2020 Kaggle Study/model/{saved_model.pbtxt|saved_model.pb}"
          ]
        }
      ]
    },
    {
      "cell_type": "code",
      "metadata": {
        "id": "9IY1OM8SZqMA",
        "colab_type": "code",
        "colab": {}
      },
      "source": [
        "def plot_acc(his, epoch, title):\n",
        "    plt.style.use('ggplot')\n",
        "    plt.figure()\n",
        "    plt.plot(np.arange(0, epoch), his.history['maeOverFscore_keras'], label='maeOverFscore_keras')\n",
        "    plt.plot(np.arange(0, epoch), his.history['val_maeOverFscore_keras'], label='val_maeOverFscore_keras')\n",
        "    plt.title(title)\n",
        "    plt.xlabel(f'Epoch {epoch}')\n",
        "    plt.ylabel('Accuracy')\n",
        "    plt.legend(loc='upper right')\n",
        "    plt.show()"
      ],
      "execution_count": 0,
      "outputs": []
    },
    {
      "cell_type": "code",
      "metadata": {
        "id": "BjBdsh1IZqJI",
        "colab_type": "code",
        "outputId": "53d50c99-9f9e-4510-90a5-1dd6768514e8",
        "colab": {
          "base_uri": "https://localhost:8080/",
          "height": 1000
        }
      },
      "source": [
        "for dataset in range(4):\n",
        "    #plot_loss(model_history[dataset], 10 , f'Training Dataset: {dataset}')\n",
        "    plot_acc(model_history[dataset], 10 , f'Training Dataset: {dataset}')\n"
      ],
      "execution_count": 0,
      "outputs": [
        {
          "output_type": "display_data",
          "data": {
            "image/png": "[encoded data removed]",
            "text/plain": [
              "<Figure size 432x288 with 1 Axes>"
            ]
          },
          "metadata": {
            "tags": []
          }
        },
        {
          "output_type": "display_data",
          "data": {
            "image/png": "[encoded data removed]",
            "text/plain": [
              "<Figure size 432x288 with 1 Axes>"
            ]
          },
          "metadata": {
            "tags": []
          }
        },
        {
          "output_type": "display_data",
          "data": {
            "image/png": "[encoded data removed]",
            "text/plain": [
              "<Figure size 432x288 with 1 Axes>"
            ]
          },
          "metadata": {
            "tags": []
          }
        },
        {
          "output_type": "display_data",
          "data": {
            "image/png": "[encoded data removed]",
            "text/plain": [
              "<Figure size 432x288 with 1 Axes>"
            ]
          },
          "metadata": {
            "tags": []
          }
        }
      ]
    },
    {
      "cell_type": "markdown",
      "metadata": {
        "id": "_qg-RmDqpVq3",
        "colab_type": "text"
      },
      "source": [
        "## submission 만들기"
      ]
    },
    {
      "cell_type": "code",
      "metadata": {
        "id": "g-UtpSQHOZiv",
        "colab_type": "code",
        "colab": {}
      },
      "source": [
        "del train\n",
        "del train_scaled"
      ],
      "execution_count": 0,
      "outputs": []
    },
    {
      "cell_type": "code",
      "metadata": {
        "colab_type": "code",
        "id": "XsjsawsGh_zs",
        "colab": {}
      },
      "source": [
        "test_submit = np.load('/content/drive/My Drive/2020 Kaggle Study/data/test.npy')\n",
        "test_shape = test_submit.shape\n",
        "\n",
        "# test_submit에 대해서도 똑같이 전처리\n",
        "test_submit[:,:,:,2].reshape(-1)[test_submit[:,:,:,2].reshape(-1)>500] = 500\n",
        "test_submit[:,:,:,3].reshape(-1)[test_submit[:,:,:,3].reshape(-1)>500] = 500\n",
        "test_submit[:,:,:,5].reshape(-1)[test_submit[:,:,:,5].reshape(-1)>350] = 350\n",
        "test_submit[:,:,:,6].reshape(-1)[test_submit[:,:,:,6].reshape(-1)>350] = 350\n",
        "test_submit[:,:,:,9] = test_submit[:,:,:,9]//100\n",
        "test_submit = scaler.transform(test_submit.reshape(-1, 1))\n",
        "test_submit = test_submit.reshape(test_shape)"
      ],
      "execution_count": 0,
      "outputs": []
    },
    {
      "cell_type": "code",
      "metadata": {
        "id": "zQxbiiLkcJyO",
        "colab_type": "code",
        "outputId": "1227803e-50ce-4ae9-d364-d4d123ffd9c1",
        "colab": {
          "base_uri": "https://localhost:8080/",
          "height": 34
        }
      },
      "source": [
        "test_submit.shape"
      ],
      "execution_count": 0,
      "outputs": [
        {
          "output_type": "execute_result",
          "data": {
            "text/plain": [
              "(2416, 40, 40, 14)"
            ]
          },
          "metadata": {
            "tags": []
          },
          "execution_count": 36
        }
      ]
    },
    {
      "cell_type": "code",
      "metadata": {
        "id": "yPp_anjhb8Xs",
        "colab_type": "code",
        "colab": {}
      },
      "source": [
        "# 훈련에서 사용하는 0~8번 채널, ladtype 만을 뽑아내기\n",
        "test_submit = test_submit[:,:,:,:10]\n",
        "pred = model.predict(test_submit)\n",
        "del test_submit"
      ],
      "execution_count": 0,
      "outputs": []
    },
    {
      "cell_type": "markdown",
      "metadata": {
        "colab_type": "text",
        "id": "2xM7q7FpIttP"
      },
      "source": [
        "## submission 만들기"
      ]
    },
    {
      "cell_type": "code",
      "metadata": {
        "colab_type": "code",
        "id": "BaAuaIqhh_z3",
        "colab": {}
      },
      "source": [
        "submission = pd.read_csv('/content/drive/My Drive/2020 Kaggle Study/data/sample_submission.csv')"
      ],
      "execution_count": 0,
      "outputs": []
    },
    {
      "cell_type": "code",
      "metadata": {
        "colab_type": "code",
        "id": "r3sFI91Gh_z8",
        "colab": {}
      },
      "source": [
        "submission.iloc[:,1:] = pred.reshape(-1, 1600)"
      ],
      "execution_count": 0,
      "outputs": []
    },
    {
      "cell_type": "code",
      "metadata": {
        "colab_type": "code",
        "id": "bPPRCvO_h_z_",
        "colab": {}
      },
      "source": [
        "submission.to_csv('Dacon_scaled2.csv', index = False)"
      ],
      "execution_count": 0,
      "outputs": []
    },
    {
      "cell_type": "code",
      "metadata": {
        "colab_type": "code",
        "id": "9fBTzEKnh_0B",
        "colab": {}
      },
      "source": [
        "# 제출파일 구글 드라이브에 올리기\n",
        "!cp Dacon_scaled2.csv '/content/drive/My Drive/2020 Kaggle Study/submission'"
      ],
      "execution_count": 0,
      "outputs": []
    },
    {
      "cell_type": "code",
      "metadata": {
        "id": "Q4HyWmHP5JaQ",
        "colab_type": "code",
        "colab": {}
      },
      "source": [
        ""
      ],
      "execution_count": 0,
      "outputs": []
    }
  ]
}