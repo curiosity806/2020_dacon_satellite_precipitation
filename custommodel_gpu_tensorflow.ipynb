{
  "nbformat": 4,
  "nbformat_minor": 0,
  "metadata": {
    "colab": {
      "name": "Dacon_satellite_baseline",
      "provenance": [],
      "toc_visible": true,
      "machine_shape": "hm",
      "include_colab_link": true
    },
    "kernelspec": {
      "name": "python3",
      "display_name": "Python 3"
    },
    "accelerator": "TPU"
  },
  "cells": [
    {
      "cell_type": "markdown",
      "metadata": {
        "id": "view-in-github",
        "colab_type": "text"
      },
      "source": [
        "<a href=\"https://colab.research.google.com/github/curiosity806/2020_dacon_satellite_precipitation/blob/Theo/Theo_Dacon_satellite_baseline_final.ipynb\" target=\"_parent\"><img src=\"https://colab.research.google.com/assets/colab-badge.svg\" alt=\"Open In Colab\"/></a>"
      ]
    },
    {
      "cell_type": "code",
      "metadata": {
        "id": "oi-MWY4HOblX",
        "colab_type": "code",
        "outputId": "41ddb3a8-fb59-4e93-94db-e6ab18bca3ab",
        "colab": {
          "base_uri": "https://localhost:8080/",
          "height": 34
        }
      },
      "source": [
        "from google.colab import drive\n",
        "drive.mount('/content/drive')"
      ],
      "execution_count": 1,
      "outputs": [
        {
          "output_type": "stream",
          "text": [
            "Drive already mounted at /content/drive; to attempt to forcibly remount, call drive.mount(\"/content/drive\", force_remount=True).\n"
          ],
          "name": "stdout"
        }
      ]
    },
    {
      "cell_type": "code",
      "metadata": {
        "id": "jQojJT2-WSIk",
        "colab_type": "code",
        "colab": {}
      },
      "source": [
        "import os.path\n",
        "\n",
        "#if not os.path.isfile('train.npy'):\n",
        "#    !cp '/content/drive/My Drive/2020 Kaggle Study/data/train.npy' train.npy\n",
        "if not os.path.isfile('test.npy'): \n",
        "    !cp '/content/drive/My Drive/2020 Kaggle Study/data/test.npy' test.npy\n",
        "if not os.path.isfile('gmi_preci.npy'):\n",
        "    !cp '/content/drive/My Drive/2020 Kaggle Study/data/gmi_preci.npy' gmi_preci.npy"
      ],
      "execution_count": 0,
      "outputs": []
    },
    {
      "cell_type": "code",
      "metadata": {
        "id": "h6La-zpczGzY",
        "colab_type": "code",
        "outputId": "afed4411-2953-4c96-bfd7-c79b1f04abf7",
        "colab": {
          "base_uri": "https://localhost:8080/",
          "height": 90
        }
      },
      "source": [
        "import glob\n",
        "import pandas as pd\n",
        "import numpy as np\n",
        "import matplotlib.pylab as plt\n",
        "from keras.layers import LeakyReLU\n",
        "import seaborn as sns\n",
        "from tqdm import tqdm\n",
        "import matplotlib.pyplot as plt\n",
        "import tensorflow as tf\n",
        "import os\n",
        "import random\n",
        "from tensorflow.keras.layers import Dense, Conv2D, Dropout, Conv2DTranspose, MaxPooling2D, BatchNormalization, Activation, concatenate, Input, GlobalAveragePooling2D\n",
        "from tensorflow.keras import Model\n",
        "import warnings\n",
        "import gc\n",
        " \n",
        "warnings.filterwarnings(\"ignore\")"
      ],
      "execution_count": 3,
      "outputs": [
        {
          "output_type": "stream",
          "text": [
            "Using TensorFlow backend.\n",
            "/usr/local/lib/python3.6/dist-packages/statsmodels/tools/_testing.py:19: FutureWarning: pandas.util.testing is deprecated. Use the functions in the public API at pandas.testing instead.\n",
            "  import pandas.util.testing as tm\n"
          ],
          "name": "stderr"
        }
      ]
    },
    {
      "cell_type": "code",
      "metadata": {
        "id": "BFdh9O8GX0oj",
        "colab_type": "code",
        "colab": {}
      },
      "source": [
        "#train = np.load('/content/train.npy')  # float32\n",
        "test = np.load('/content/test.npy')  # float64\n",
        "gmi_preci = np.load('/content/gmi_preci.npy')  # float32"
      ],
      "execution_count": 0,
      "outputs": []
    },
    {
      "cell_type": "markdown",
      "metadata": {
        "id": "1YFPNtasGtc-",
        "colab_type": "text"
      },
      "source": [
        "## 1. Data collection and preprocessing"
      ]
    },
    {
      "cell_type": "code",
      "metadata": {
        "id": "kF13mZkiW3ti",
        "colab_type": "code",
        "colab": {}
      },
      "source": [
        "def preprocess(data):\n",
        "    land_type_data = data[:,:,:,9]\n",
        "    data[:,:,:,9] = np.where(land_type_data//100 == 2, 0.7,\n",
        "                             np.where(land_type_data//100 == 3, 0.3,\n",
        "                                      land_type_data//100))\n",
        "    return data[:,:,:,9]"
      ],
      "execution_count": 0,
      "outputs": []
    },
    {
      "cell_type": "code",
      "metadata": {
        "id": "uJ9oJs3QykgG",
        "colab_type": "code",
        "colab": {}
      },
      "source": [
        "# 1.1 Data Collection\n",
        "# train\n",
        "train = np.load('/content/drive/My Drive/2020 Kaggle Study/data/train.npy')[:,:,:,:12]\n",
        "\n",
        "# feature\n",
        "train_temp = train[:,:,:,:9]\n",
        "\n",
        "train_landtype = preprocess(train)\n",
        "train_lon_GMI = train[:,:,:,10]\n",
        "train_lat_GMI = train[:,:,:,11]\n",
        "train_DEM = np.load(\"/content/drive/My Drive/2020 Kaggle Study/data/DEM_DPR/dem_train_DPR.npy\")\n",
        "\n",
        "# target\n",
        "train_rain = np.load(\"/content/drive/My Drive/2020 Kaggle Study/data/gmi_preci.npy\")\n",
        "\n",
        "# feature\n",
        "test_temp = test[:,:,:,:9]\n",
        "\n",
        "test_landtype = preprocess(test)\n",
        "test_lon_GMI = test[:,:,:,10]\n",
        "test_lat_GMI = test[:,:,:,11]\n",
        "test_DEM = np.load(\"/content/drive/My Drive/2020 Kaggle Study/data/DEM_DPR/dem_test_DPR.npy\")\n",
        "\n",
        "all_temp = np.concatenate((train_temp, test_temp), axis = 0)\n",
        "del train_temp, test_temp\n",
        "all_landtype = np.concatenate((train_landtype, test_landtype), axis = 0)\n",
        "del train_landtype, test_landtype\n",
        "all_lon_GMI = np.concatenate((train_lon_GMI, test_lon_GMI), axis = 0)\n",
        "del train_lon_GMI, test_lon_GMI\n",
        "all_lat_GMI = np.concatenate((train_lat_GMI, test_lat_GMI), axis = 0)\n",
        "del train_lat_GMI, test_lat_GMI\n",
        "all_DEM = np.concatenate((train_DEM, test_DEM), axis = 0)\n",
        "del train_DEM, test_DEM"
      ],
      "execution_count": 0,
      "outputs": []
    },
    {
      "cell_type": "code",
      "metadata": {
        "id": "zB4-ji5bKFdd",
        "colab_type": "code",
        "colab": {}
      },
      "source": [
        "all_temp.shape"
      ],
      "execution_count": 0,
      "outputs": []
    },
    {
      "cell_type": "code",
      "metadata": {
        "id": "gjwXLazCEid1",
        "colab_type": "code",
        "colab": {}
      },
      "source": [
        "# 1.2 Data preprocessing\n",
        "def minmaxscaler(data_info, n):\n",
        "  from sklearn.preprocessing import MinMaxScaler\n",
        "  scaler = MinMaxScaler()\n",
        "  data_in = data_info.reshape(-1, 1)\n",
        "  scaler.fit(data_in)\n",
        "  data_in = scaler.transform(data_in)\n",
        "  data_in = data_in.reshape(-1)\n",
        "  data_info = data_in.reshape(n, 40, 40, 1)\n",
        "  return data_info\n",
        "\n",
        "def standardscaler(data_info):\n",
        "  from sklearn.preprocessing import StandardScaler\n",
        "  scaler = StandardScaler()\n",
        "  data_in = data_info.reshape(-1, 1)\n",
        "  scaler.fit(data_in)\n",
        "  data_in = scaler.transform(data_in)\n",
        "  data_in = data_in.reshape(-1)\n",
        "  data_info = data_in.reshape(78761, 40, 40, 1)\n",
        "  return data_info"
      ],
      "execution_count": 0,
      "outputs": []
    },
    {
      "cell_type": "code",
      "metadata": {
        "id": "olbssEV6_AhM",
        "colab_type": "code",
        "colab": {}
      },
      "source": [
        "# temp - standard , land - categorization, dem - minmax, rain - original\n",
        "print(\"temp\")\n",
        "for i in range(0,9):\n",
        "  t_temp = standardscaler(all_temp[:,:,:,i])\n",
        "  print(\"cat : %d\" %i)\n",
        "  all_temp[:,:,:,i:i+1] = t_temp\n",
        "\n",
        "#print(\"land\")\n",
        "#t_land = all_landtype.reshape(-1)\n",
        "#for i in range(len(t_land)):\n",
        "#  t_land[i] = int(str(t_land[i])[0])\n",
        "#all_landtype = t_land.reshape(78761,40, 40, 1)\n",
        "\n",
        "print(\"DEM\")\n",
        "all_DEM = minmaxscaler(all_DEM, 78761)\n",
        "\n",
        "print(\"GMI lon, lat\")\n",
        "all_lon_GMI = standardscaler(all_lon_GMI)\n",
        "all_lat_GMI = standardscaler(all_lat_GMI)\n",
        "\n",
        "#print(\"train rain\")\n",
        "#train_rain = np.where(train_rain>0, train_rain, 0)\n",
        "#train_rain = minmaxscaler(train_rain, 76345)"
      ],
      "execution_count": 0,
      "outputs": []
    },
    {
      "cell_type": "code",
      "metadata": {
        "id": "5eM3UzCO37YV",
        "colab_type": "code",
        "colab": {}
      },
      "source": [
        "all_landtype = all_landtype.reshape(78761, 40, 40, 1)"
      ],
      "execution_count": 0,
      "outputs": []
    },
    {
      "cell_type": "code",
      "metadata": {
        "id": "o8Nm2VFrl5pu",
        "colab_type": "code",
        "colab": {}
      },
      "source": [
        "train = np.concatenate((all_temp[:76345,:,:,:], all_landtype[:76345,:,:,:], all_DEM[:76345,:,:,:], train_rain), axis = 3)\n",
        "test = np.concatenate((all_temp[76345:,:,:,:], all_landtype[76345:,:,:,:], all_DEM[76345:,:,:,:]), axis = 3)"
      ],
      "execution_count": 0,
      "outputs": []
    },
    {
      "cell_type": "code",
      "metadata": {
        "id": "tcXAzdyTNRZl",
        "colab_type": "code",
        "colab": {}
      },
      "source": [
        "del all_temp, all_landtype, all_DEM, all_lon_GMI, all_lat_GMI, train_rain"
      ],
      "execution_count": 0,
      "outputs": []
    },
    {
      "cell_type": "code",
      "metadata": {
        "id": "H7aExf3pXlbK",
        "colab_type": "code",
        "colab": {}
      },
      "source": [
        "# -9999를 포함한 이미지, 강수인 지역이 50픽셀 미만인 이미지 제거\n",
        "is_valid = (train[:,:,:,-1].reshape(-1, 1600) < 0).sum(axis=1) == 0\n",
        "is_valid = is_valid & ((train[:,:,:,-1].reshape(-1, 1600) >= 0.1).sum(axis=1) >= 50)\n",
        "train = train[is_valid]  # (-1, 40, 40, 15)"
      ],
      "execution_count": 0,
      "outputs": []
    },
    {
      "cell_type": "markdown",
      "metadata": {
        "id": "3npPgf7DrVdD",
        "colab_type": "text"
      },
      "source": [
        "## Augmentation"
      ]
    },
    {
      "cell_type": "code",
      "metadata": {
        "id": "cGHHIFs7rSTc",
        "colab_type": "code",
        "colab": {}
      },
      "source": [
        "def r(a, n=1):\n",
        "    return np.rot90(a, n, (1, 2))\n",
        "\n",
        "def f_ud(a):\n",
        "    return np.flip(a, 1)\n",
        "\n",
        "def f_lr(a):\n",
        "    return np.flip(a, 2)\n",
        "\n",
        "def t(a):\n",
        "    return np.transpose(a, (0, 2, 1, 3))"
      ],
      "execution_count": 0,
      "outputs": []
    },
    {
      "cell_type": "code",
      "metadata": {
        "id": "9gyA6aDy6aeD",
        "colab_type": "code",
        "colab": {}
      },
      "source": [
        "train = tf.convert_to_tensor(train, dtype=np.float32)\n",
        "train = train.numpy()\n",
        "test = tf.convert_to_tensor(test, dtype=np.float32)\n",
        "test = test.numpy()"
      ],
      "execution_count": 0,
      "outputs": []
    },
    {
      "cell_type": "code",
      "metadata": {
        "id": "GCZ1_n11rbhg",
        "colab_type": "code",
        "colab": {}
      },
      "source": [
        "train = np.concatenate((train, r(f_lr(train)), f_lr(train)))"
      ],
      "execution_count": 0,
      "outputs": []
    },
    {
      "cell_type": "code",
      "metadata": {
        "id": "2ADYQTh56cwe",
        "colab_type": "code",
        "colab": {}
      },
      "source": [
        "train = tf.convert_to_tensor(train, dtype=np.float32)\n",
        "train = train.numpy()"
      ],
      "execution_count": 0,
      "outputs": []
    },
    {
      "cell_type": "code",
      "metadata": {
        "id": "vnOFP8UOQ9Ip",
        "colab_type": "code",
        "outputId": "5143cb97-955a-49dc-e72e-0f5085dbaeeb",
        "colab": {
          "base_uri": "https://localhost:8080/",
          "height": 52
        }
      },
      "source": [
        "print(train.shape)\n",
        "print(test.shape)"
      ],
      "execution_count": 19,
      "outputs": [
        {
          "output_type": "stream",
          "text": [
            "(103113, 40, 40, 12)\n",
            "(2416, 40, 40, 11)\n"
          ],
          "name": "stdout"
        }
      ]
    },
    {
      "cell_type": "markdown",
      "metadata": {
        "id": "rjkU3PtCNYy8",
        "colab_type": "text"
      },
      "source": [
        "## 2. 모델 생성"
      ]
    },
    {
      "cell_type": "code",
      "metadata": {
        "id": "bKjP-Uobze5P",
        "colab_type": "code",
        "colab": {}
      },
      "source": [
        "# 재생산성을 위해 시드 고정\n",
        "np.random.seed(7)\n",
        "random.seed(7)\n",
        "tf.random.set_seed(7)"
      ],
      "execution_count": 0,
      "outputs": []
    },
    {
      "cell_type": "code",
      "metadata": {
        "id": "C0wWXJKu09ld",
        "colab_type": "code",
        "colab": {}
      },
      "source": [
        "def build_model(input_layer_c, input_layer_d, start_neurons):\n",
        "\n",
        "    # 40 x 40 -> 20 x 20\n",
        "    convc1 = Conv2D(start_neurons * 1, (3, 3), activation='relu', padding=\"same\")(input_layer_c)\n",
        "    convc1 = Conv2D(start_neurons * 1, (3, 3), activation='relu', padding=\"same\")(convc1)\n",
        "    poolc1 = BatchNormalization()(convc1)\n",
        "    poolc1 = MaxPooling2D((2, 2))(poolc1)\n",
        "    poolc1 = Dropout(0.25)(poolc1)\n",
        "    # 20 x 20 -> 10 x 10\n",
        "    convc2 = Conv2D(start_neurons * 2, (3, 3), activation='relu', padding=\"same\")(poolc1)\n",
        "    convc2 = Conv2D(start_neurons * 2, (3, 3), activation='relu', padding=\"same\")(convc2)\n",
        "    poolc2 = BatchNormalization()(convc2)\n",
        "    poolc2 = MaxPooling2D((2, 2))(poolc2)\n",
        "    poolc2 = Dropout(0.25)(poolc2)\n",
        "    convmc = Conv2D(start_neurons * 2, (3, 3), activation='relu', padding=\"same\")(poolc2)\n",
        "\n",
        "    # 40 x 40 -> 20 x 20\n",
        "    convd1 = Conv2D(start_neurons * 1, (3, 3), activation='relu', padding=\"same\")(input_layer_d)\n",
        "    convd1 = Conv2D(start_neurons * 1, (3, 3), activation='relu', padding=\"same\")(convd1)\n",
        "    poold1 = BatchNormalization()(convd1)\n",
        "    poold1 = MaxPooling2D((2, 2))(poold1)\n",
        "    poold1 = Dropout(0.25)(poold1)\n",
        "    # 20 x 20 -> 10 x 10\n",
        "    convd2 = Conv2D(start_neurons * 2, (3, 3), activation='relu', padding=\"same\")(poold1)\n",
        "    convd2 = Conv2D(start_neurons * 2, (3, 3), activation='relu', padding=\"same\")(convd2)\n",
        "    poold2 = BatchNormalization()(convd2)\n",
        "    poold2 = MaxPooling2D((2, 2))(poold2)\n",
        "    poold2 = Dropout(0.25)(poold2)\n",
        "    convmd = Conv2D(start_neurons * 2, (3, 3), activation='relu', padding=\"same\")(poold2)\n",
        "\n",
        "    convm = concatenate([convmc, convmd], axis = 3) \n",
        "    \n",
        "    # 5 x 5 -> 10 x 10\n",
        "#    deconv3 = Conv2DTranspose(start_neurons * 4, (3, 3), strides=(2, 2), activation='relu', padding=\"same\")(convm)\n",
        "#    uconv3 = concatenate([deconv3, convc3, convd3], axis = 3)\n",
        "#    uconv3 = Dropout(0.25)(uconv3)\n",
        "#    bn = BatchNormalization()(uconv3)\n",
        "#    uconv3 = Conv2D(start_neurons * 1, (3, 3), activation='relu', padding=\"same\")(bn)\n",
        "#    uconv3 = Conv2D(start_neurons * 1, (3, 3), activation='relu', padding=\"same\")(uconv3)\n",
        "#    uconv3 = BatchNormalization()(uconv3)\n",
        "\n",
        "    # 5 x 5 -> 10 x 10\n",
        "    deconv2 = Conv2DTranspose(start_neurons * 2, (3, 3), strides=(2, 2), activation='relu', padding=\"same\")(convm)\n",
        "    uconv2 = concatenate([deconv2, convc2], axis = 3)\n",
        "    uconv2 = Dropout(0.25)(uconv2)\n",
        "    uconv2 = Conv2D(start_neurons * 1, (3, 3), activation='relu', padding=\"same\")(uconv2)\n",
        "    uconv2 = Conv2D(start_neurons * 1, (3, 3), activation='relu', padding=\"same\")(uconv2)\n",
        "    uconv2 = BatchNormalization()(uconv2)\n",
        "\n",
        "    # 20 x 20 -> 40 x 40\n",
        "    deconv1 = Conv2DTranspose(start_neurons * 1, (3, 3), strides=(2, 2), padding=\"same\", activation = 'relu')(uconv2)\n",
        "    uconv1 = concatenate([deconv1, convc1], axis = 3)\n",
        "    uconv1 = Dropout(0.25)(uconv1)\n",
        "    uconv1 = Conv2D(start_neurons * 1, (3, 3), activation='relu', padding=\"same\")(uconv1)\n",
        "    uconv1 = Conv2D(start_neurons * 1, (3, 3), activation='relu', padding=\"same\")(uconv1)\n",
        "    uconv1 = BatchNormalization()(uconv1)\n",
        "    uconv1 = Dropout(0.25)(uconv1)\n",
        "    output_layer = Conv2D(1, (1,1),activation='relu', padding=\"same\")(uconv1)\n",
        "    \n",
        "    return output_layer"
      ],
      "execution_count": 0,
      "outputs": []
    },
    {
      "cell_type": "code",
      "metadata": {
        "id": "hXRyvpMVr21K",
        "colab_type": "code",
        "colab": {}
      },
      "source": [
        "input_layer_c = Input((40, 40, 9))\n",
        "input_layer_d = Input((40, 40, 2))\n",
        "output_layer = build_model(input_layer_c, input_layer_d,  32)"
      ],
      "execution_count": 0,
      "outputs": []
    },
    {
      "cell_type": "code",
      "metadata": {
        "id": "OqMt4p1N09nx",
        "colab_type": "code",
        "colab": {}
      },
      "source": [
        "model = Model(inputs = [input_layer_c, input_layer_d], outputs = [output_layer])"
      ],
      "execution_count": 0,
      "outputs": []
    },
    {
      "cell_type": "code",
      "metadata": {
        "id": "i_NhbS4s09p_",
        "colab_type": "code",
        "colab": {}
      },
      "source": [
        "from sklearn.metrics import f1_score\n",
        "def mae(y_true, y_pred) :\n",
        "    y_true, y_pred = np.array(y_true), np.array(y_pred)\n",
        "    y_true = y_true.reshape(1, -1)[0]\n",
        "    y_pred = y_pred.reshape(1, -1)[0]\n",
        "    over_threshold = y_true >= 0.1\n",
        "    return np.mean(np.abs(y_true[over_threshold] - y_pred[over_threshold]))\n",
        "def fscore(y_true, y_pred):\n",
        "    y_true, y_pred = np.array(y_true), np.array(y_pred)\n",
        "    y_true = y_true.reshape(1, -1)[0]\n",
        "    y_pred = y_pred.reshape(1, -1)[0]\n",
        "    remove_NAs = y_true >= 0\n",
        "    y_true = np.where(y_true[remove_NAs] >= 0.1, 1, 0)\n",
        "    y_pred = np.where(y_pred[remove_NAs] >= 0.1, 1, 0)\n",
        "    return(f1_score(y_true, y_pred))\n",
        "def maeOverFscore(y_true, y_pred):\n",
        "    return mae(y_true, y_pred) / (fscore(y_true, y_pred) + 1e-07)\n",
        "def fscore_keras(y_true, y_pred):\n",
        "    score = tf.py_function(func=fscore, inp=[y_true, y_pred], Tout=tf.float32, name='fscore_keras')\n",
        "    return score\n",
        "def maeOverFscore_keras(y_true, y_pred):\n",
        "    score = tf.py_function(func=maeOverFscore, inp=[y_true, y_pred], Tout=tf.float32,  name='custom_mse') \n",
        "    return score"
      ],
      "execution_count": 0,
      "outputs": []
    },
    {
      "cell_type": "code",
      "metadata": {
        "id": "Sv7Hk_LM1DNf",
        "colab_type": "code",
        "colab": {}
      },
      "source": [
        "opt = tf.keras.optimizers.Adam(learning_rate=0.001)\n",
        "model.compile(loss=\"mae\", optimizer=opt, metrics=[maeOverFscore_keras, fscore_keras])"
      ],
      "execution_count": 0,
      "outputs": []
    },
    {
      "cell_type": "code",
      "metadata": {
        "id": "Zxke2xER1EHj",
        "colab_type": "code",
        "outputId": "03317a17-81d1-4b55-a64a-e2b0275caa67",
        "colab": {
          "base_uri": "https://localhost:8080/",
          "height": 1000
        }
      },
      "source": [
        "from sklearn.model_selection import KFold\n",
        "kf = KFold(n_splits=5)\n",
        "model_history = []\n",
        "fold_number = 0\n",
        "\n",
        "for train_index, test_index in kf.split(train):\n",
        "    print(f'\\nFold {fold_number}')\n",
        "    fold_number = fold_number + 1\n",
        "    \n",
        "#-----------------------------------------------------------------------------\n",
        "    def trainGenerator():\n",
        "        print(1)\n",
        "        for file in train[train_index]:\n",
        "            target= file[:,:,-1:].reshape(40,40,1)\n",
        "            cutoff_labels = np.where(target < 0, 0, target)\n",
        "            feature_c = file[:,:,:9]\n",
        "            feature_d = file[:,:,9:11]\n",
        "            if (cutoff_labels > 0).sum() < 50:\n",
        "                continue\n",
        "            yield (feature_c, feature_d), cutoff_labels\n",
        "\n",
        "    train_dataset = tf.data.Dataset.from_generator(trainGenerator,\n",
        "                                                ((tf.float32, tf.float32), tf.float32),\n",
        "                                                ((tf.TensorShape([40,40,9]), tf.TensorShape([40, 40, 2])), tf.TensorShape([40,40,1])))\n",
        "    \n",
        "    train_dataset = train_dataset.batch(128).prefetch(1)\n",
        "#-----------------------------------------------------------------------------\n",
        "    def testGenerator():\n",
        "        print(2)\n",
        "        for file in train[test_index]:\n",
        "            target= file[:,:,-1:].reshape(40,40,1)\n",
        "            cutoff_labels = np.where(target < 0, 0, target)\n",
        "            feature_c = file[:,:,:9]\n",
        "            feature_d = file[:,:,9:11]\n",
        "            if (cutoff_labels > 0).sum() < 50:\n",
        "                continue\n",
        "            yield (feature_c, feature_d), cutoff_labels\n",
        "    test_dataset = tf.data.Dataset.from_generator(testGenerator,\n",
        "                                                ((tf.float32, tf.float32), tf.float32),\n",
        "                                                ((tf.TensorShape([40,40,9]), tf.TensorShape([40, 40, 2])),tf.TensorShape([40,40,1])))\n",
        "    test_size = len(test_index)\n",
        "    test_dataset = test_dataset.batch(test_size).prefetch(1)\n",
        "#-----------------------------------------------------------------------------\n",
        "    history = model.fit(train_dataset, epochs = 5, verbose=1, validation_data = test_dataset)\n",
        "    model.save(\"/content/drive/My Drive/2020 Kaggle Study/Theos/Model/three_leg_CNN_5.h5\")\n",
        "    #history = model.fit(train_dataset, epochs = 5, ,batch_size = 11, verbose=1)\n",
        "    model_history.append(history)\n",
        "    #del data\n",
        "    del train_dataset\n",
        "    del test_dataset\n",
        "    gc.collect()"
      ],
      "execution_count": 28,
      "outputs": [
        {
          "output_type": "stream",
          "text": [
            "\n",
            "Fold 0\n",
            "Epoch 1/5\n",
            "1\n",
            "    645/Unknown - 320s 496ms/step - loss: 0.2294 - maeOverFscore_keras: 2.0508 - fscore_keras: 0.66512\n",
            "645/645 [==============================] - 379s 588ms/step - loss: 0.2294 - maeOverFscore_keras: 2.0508 - fscore_keras: 0.6651 - val_loss: 0.2125 - val_maeOverFscore_keras: 1.9361 - val_fscore_keras: 0.6676\n",
            "Epoch 2/5\n",
            "1\n",
            "645/645 [==============================] - ETA: 0s - loss: 0.2162 - maeOverFscore_keras: 1.8415 - fscore_keras: 0.69172\n",
            "645/645 [==============================] - 388s 602ms/step - loss: 0.2162 - maeOverFscore_keras: 1.8415 - fscore_keras: 0.6917 - val_loss: 0.2118 - val_maeOverFscore_keras: 1.8621 - val_fscore_keras: 0.6884\n",
            "Epoch 3/5\n",
            "1\n",
            "645/645 [==============================] - ETA: 0s - loss: 0.2082 - maeOverFscore_keras: 1.6932 - fscore_keras: 0.72002\n",
            "645/645 [==============================] - 392s 607ms/step - loss: 0.2082 - maeOverFscore_keras: 1.6932 - fscore_keras: 0.7200 - val_loss: 0.2053 - val_maeOverFscore_keras: 1.7767 - val_fscore_keras: 0.6996\n",
            "Epoch 4/5\n",
            "1\n",
            "645/645 [==============================] - ETA: 0s - loss: 0.2033 - maeOverFscore_keras: 1.6154 - fscore_keras: 0.73482\n",
            "645/645 [==============================] - 398s 617ms/step - loss: 0.2033 - maeOverFscore_keras: 1.6154 - fscore_keras: 0.7348 - val_loss: 0.1960 - val_maeOverFscore_keras: 1.6018 - val_fscore_keras: 0.7374\n",
            "Epoch 5/5\n",
            "1\n",
            "645/645 [==============================] - ETA: 0s - loss: 0.2005 - maeOverFscore_keras: 1.5724 - fscore_keras: 0.74352\n",
            "645/645 [==============================] - 393s 610ms/step - loss: 0.2005 - maeOverFscore_keras: 1.5724 - fscore_keras: 0.7435 - val_loss: 0.1919 - val_maeOverFscore_keras: 1.5158 - val_fscore_keras: 0.7566\n",
            "\n",
            "Fold 1\n",
            "Epoch 1/5\n",
            "1\n",
            "    645/Unknown - 339s 525ms/step - loss: 0.1976 - maeOverFscore_keras: 1.5378 - fscore_keras: 0.75182\n",
            "645/645 [==============================] - 398s 617ms/step - loss: 0.1976 - maeOverFscore_keras: 1.5378 - fscore_keras: 0.7518 - val_loss: 0.2145 - val_maeOverFscore_keras: 1.8157 - val_fscore_keras: 0.6813\n",
            "Epoch 2/5\n",
            "1\n",
            "645/645 [==============================] - ETA: 0s - loss: 0.2172 - maeOverFscore_keras: 1.9121 - fscore_keras: 0.67552\n",
            "645/645 [==============================] - 409s 635ms/step - loss: 0.2172 - maeOverFscore_keras: 1.9121 - fscore_keras: 0.6755 - val_loss: 0.2060 - val_maeOverFscore_keras: 1.8204 - val_fscore_keras: 0.6823\n",
            "Epoch 3/5\n",
            "1\n",
            "645/645 [==============================] - ETA: 0s - loss: 0.2038 - maeOverFscore_keras: 1.6437 - fscore_keras: 0.72632\n",
            "645/645 [==============================] - 403s 626ms/step - loss: 0.2038 - maeOverFscore_keras: 1.6437 - fscore_keras: 0.7263 - val_loss: 0.2006 - val_maeOverFscore_keras: 1.7017 - val_fscore_keras: 0.7098\n",
            "Epoch 4/5\n",
            "1\n",
            "645/645 [==============================] - ETA: 0s - loss: 0.2000 - maeOverFscore_keras: 1.5863 - fscore_keras: 0.73762\n",
            "645/645 [==============================] - 406s 629ms/step - loss: 0.2000 - maeOverFscore_keras: 1.5863 - fscore_keras: 0.7376 - val_loss: 0.1995 - val_maeOverFscore_keras: 1.6110 - val_fscore_keras: 0.7406\n",
            "Epoch 5/5\n",
            "1\n",
            "645/645 [==============================] - ETA: 0s - loss: 0.1975 - maeOverFscore_keras: 1.5491 - fscore_keras: 0.74512\n",
            "645/645 [==============================] - 405s 629ms/step - loss: 0.1975 - maeOverFscore_keras: 1.5491 - fscore_keras: 0.7451 - val_loss: 0.1971 - val_maeOverFscore_keras: 1.6203 - val_fscore_keras: 0.7307\n",
            "\n",
            "Fold 2\n",
            "Epoch 1/5\n",
            "1\n",
            "    645/Unknown - 349s 540ms/step - loss: 0.1954 - maeOverFscore_keras: 1.5205 - fscore_keras: 0.75082\n",
            "645/645 [==============================] - 410s 636ms/step - loss: 0.1954 - maeOverFscore_keras: 1.5205 - fscore_keras: 0.7508 - val_loss: 0.1984 - val_maeOverFscore_keras: 1.5586 - val_fscore_keras: 0.7481\n",
            "Epoch 2/5\n",
            "1\n",
            "645/645 [==============================] - ETA: 0s - loss: 0.1935 - maeOverFscore_keras: 1.4930 - fscore_keras: 0.75642\n",
            "645/645 [==============================] - 429s 666ms/step - loss: 0.1935 - maeOverFscore_keras: 1.4930 - fscore_keras: 0.7564 - val_loss: 0.1951 - val_maeOverFscore_keras: 1.5226 - val_fscore_keras: 0.7467\n",
            "Epoch 3/5\n",
            "1\n",
            "645/645 [==============================] - ETA: 0s - loss: 0.1924 - maeOverFscore_keras: 1.4804 - fscore_keras: 0.75872\n",
            "645/645 [==============================] - 426s 661ms/step - loss: 0.1924 - maeOverFscore_keras: 1.4804 - fscore_keras: 0.7587 - val_loss: 0.1968 - val_maeOverFscore_keras: 1.5262 - val_fscore_keras: 0.7522\n",
            "Epoch 4/5\n",
            "1\n",
            "645/645 [==============================] - ETA: 0s - loss: 0.1912 - maeOverFscore_keras: 1.4659 - fscore_keras: 0.76142\n",
            "645/645 [==============================] - 438s 678ms/step - loss: 0.1912 - maeOverFscore_keras: 1.4659 - fscore_keras: 0.7614 - val_loss: 0.1959 - val_maeOverFscore_keras: 1.5148 - val_fscore_keras: 0.7565\n",
            "Epoch 5/5\n",
            "1\n",
            "645/645 [==============================] - ETA: 0s - loss: 0.1904 - maeOverFscore_keras: 1.4561 - fscore_keras: 0.76352\n",
            "645/645 [==============================] - 449s 697ms/step - loss: 0.1904 - maeOverFscore_keras: 1.4561 - fscore_keras: 0.7635 - val_loss: 0.1961 - val_maeOverFscore_keras: 1.5082 - val_fscore_keras: 0.7587\n",
            "\n",
            "Fold 3\n",
            "Epoch 1/5\n",
            "1\n",
            "    645/Unknown - 391s 607ms/step - loss: 0.1900 - maeOverFscore_keras: 1.4571 - fscore_keras: 0.76112\n",
            "645/645 [==============================] - 453s 703ms/step - loss: 0.1900 - maeOverFscore_keras: 1.4571 - fscore_keras: 0.7611 - val_loss: 0.1892 - val_maeOverFscore_keras: 1.4768 - val_fscore_keras: 0.7646\n",
            "Epoch 2/5\n",
            "1\n",
            "645/645 [==============================] - ETA: 0s - loss: 0.1889 - maeOverFscore_keras: 1.4402 - fscore_keras: 0.76502\n",
            "645/645 [==============================] - 461s 714ms/step - loss: 0.1889 - maeOverFscore_keras: 1.4402 - fscore_keras: 0.7650 - val_loss: 0.1891 - val_maeOverFscore_keras: 1.4561 - val_fscore_keras: 0.7745\n",
            "Epoch 3/5\n",
            "1\n",
            "645/645 [==============================] - ETA: 0s - loss: 0.1883 - maeOverFscore_keras: 1.4350 - fscore_keras: 0.76562\n",
            "645/645 [==============================] - 480s 744ms/step - loss: 0.1883 - maeOverFscore_keras: 1.4350 - fscore_keras: 0.7656 - val_loss: 0.1886 - val_maeOverFscore_keras: 1.4422 - val_fscore_keras: 0.7723\n",
            "Epoch 4/5\n",
            "1\n",
            "645/645 [==============================] - ETA: 0s - loss: 0.1877 - maeOverFscore_keras: 1.4256 - fscore_keras: 0.76802\n",
            "645/645 [==============================] - 466s 723ms/step - loss: 0.1877 - maeOverFscore_keras: 1.4256 - fscore_keras: 0.7680 - val_loss: 0.1877 - val_maeOverFscore_keras: 1.4432 - val_fscore_keras: 0.7752\n",
            "Epoch 5/5\n",
            "1\n",
            "645/645 [==============================] - ETA: 0s - loss: 0.1873 - maeOverFscore_keras: 1.4227 - fscore_keras: 0.76812\n",
            "645/645 [==============================] - 481s 745ms/step - loss: 0.1873 - maeOverFscore_keras: 1.4227 - fscore_keras: 0.7681 - val_loss: 0.1878 - val_maeOverFscore_keras: 1.4421 - val_fscore_keras: 0.7732\n",
            "\n",
            "Fold 4\n",
            "Epoch 1/5\n",
            "1\n",
            "    645/Unknown - 402s 623ms/step - loss: 0.1867 - maeOverFscore_keras: 1.4153 - fscore_keras: 0.76952\n",
            "645/645 [==============================] - 462s 716ms/step - loss: 0.1867 - maeOverFscore_keras: 1.4153 - fscore_keras: 0.7695 - val_loss: 0.1815 - val_maeOverFscore_keras: 1.4066 - val_fscore_keras: 0.7737\n",
            "Epoch 2/5\n",
            "1\n",
            "645/645 [==============================] - ETA: 0s - loss: 0.1862 - maeOverFscore_keras: 1.4116 - fscore_keras: 0.76952\n",
            "645/645 [==============================] - 474s 735ms/step - loss: 0.1862 - maeOverFscore_keras: 1.4116 - fscore_keras: 0.7695 - val_loss: 0.1819 - val_maeOverFscore_keras: 1.4140 - val_fscore_keras: 0.7725\n",
            "Epoch 3/5\n",
            "1\n",
            "645/645 [==============================] - ETA: 0s - loss: 0.1859 - maeOverFscore_keras: 1.4085 - fscore_keras: 0.76982\n",
            "645/645 [==============================] - 471s 729ms/step - loss: 0.1859 - maeOverFscore_keras: 1.4085 - fscore_keras: 0.7698 - val_loss: 0.1814 - val_maeOverFscore_keras: 1.4161 - val_fscore_keras: 0.7701\n",
            "Epoch 4/5\n",
            "1\n",
            "645/645 [==============================] - ETA: 0s - loss: 0.1854 - maeOverFscore_keras: 1.4025 - fscore_keras: 0.77112\n",
            "645/645 [==============================] - 490s 759ms/step - loss: 0.1854 - maeOverFscore_keras: 1.4025 - fscore_keras: 0.7711 - val_loss: 0.1810 - val_maeOverFscore_keras: 1.3965 - val_fscore_keras: 0.7765\n",
            "Epoch 5/5\n",
            "1\n",
            "645/645 [==============================] - ETA: 0s - loss: 0.1849 - maeOverFscore_keras: 1.3973 - fscore_keras: 0.77182\n",
            "645/645 [==============================] - 469s 727ms/step - loss: 0.1849 - maeOverFscore_keras: 1.3973 - fscore_keras: 0.7718 - val_loss: 0.1805 - val_maeOverFscore_keras: 1.3968 - val_fscore_keras: 0.7754\n"
          ],
          "name": "stdout"
        }
      ]
    },
    {
      "cell_type": "code",
      "metadata": {
        "id": "IJPmUeFQkbq9",
        "colab_type": "code",
        "colab": {}
      },
      "source": [
        "model = tf.keras.models.load_model('/content/drive/My Drive/2020 Kaggle Study/Theos/Model/three_leg_CNN_5.h5', custom_objects={\"maeOverFscore_keras\": maeOverFscore_keras,\"fscore\":fscore, \"fscore_keras\":fscore_keras })"
      ],
      "execution_count": 0,
      "outputs": []
    },
    {
      "cell_type": "code",
      "metadata": {
        "id": "aWh3uu0Poqo8",
        "colab_type": "code",
        "colab": {}
      },
      "source": [
        "opt = tf.keras.optimizers.Adam(learning_rate=0.0005)\n",
        "model.compile(loss=\"mae\", optimizer=opt, metrics=[maeOverFscore_keras, fscore_keras])"
      ],
      "execution_count": 0,
      "outputs": []
    },
    {
      "cell_type": "code",
      "metadata": {
        "id": "2X4-DmMY9gBu",
        "colab_type": "code",
        "colab": {}
      },
      "source": [
        "train_2 = np.concatenate((r(train), r(train, 3), f_ud(train)))"
      ],
      "execution_count": 0,
      "outputs": []
    },
    {
      "cell_type": "code",
      "metadata": {
        "id": "b5_9Hh-dorV8",
        "colab_type": "code",
        "colab": {}
      },
      "source": [
        "train_2 = tf.convert_to_tensor(train_2, dtype=np.float32)\n",
        "train_2 = train_2.numpy()"
      ],
      "execution_count": 0,
      "outputs": []
    },
    {
      "cell_type": "code",
      "metadata": {
        "id": "kpH-Bt_9paGk",
        "colab_type": "code",
        "colab": {
          "base_uri": "https://localhost:8080/",
          "height": 34
        },
        "outputId": "bf014440-50ac-4c6b-9dad-4d9da371a348"
      },
      "source": [
        "train_2.shape"
      ],
      "execution_count": 28,
      "outputs": [
        {
          "output_type": "execute_result",
          "data": {
            "text/plain": [
              "(103113, 40, 40, 12)"
            ]
          },
          "metadata": {
            "tags": []
          },
          "execution_count": 28
        }
      ]
    },
    {
      "cell_type": "markdown",
      "metadata": {
        "id": "9BCPKijaR3Q-",
        "colab_type": "text"
      },
      "source": [
        ""
      ]
    },
    {
      "cell_type": "code",
      "metadata": {
        "id": "0UQVEPsT9hJL",
        "colab_type": "code",
        "colab": {
          "base_uri": "https://localhost:8080/",
          "height": 1000
        },
        "outputId": "d52166d4-2702-4e78-de6f-9fc4131005f0"
      },
      "source": [
        "from sklearn.model_selection import KFold\n",
        "kf = KFold(n_splits=5)\n",
        "model_history = []\n",
        "fold_number = 0\n",
        "\n",
        "for train_index, test_index in kf.split(train_2):\n",
        "    print(f'\\nFold {fold_number}')\n",
        "    fold_number = fold_number + 1\n",
        "    \n",
        "#-----------------------------------------------------------------------------\n",
        "    def trainGenerator():\n",
        "        print(1)\n",
        "        for file in train_2[train_index]:\n",
        "            target= file[:,:,-1:].reshape(40,40,1)\n",
        "            cutoff_labels = np.where(target < 0, 0, target)\n",
        "            feature_c = file[:,:,:9]\n",
        "            feature_d = file[:,:,9:11]\n",
        "            if (cutoff_labels > 0).sum() < 50:\n",
        "                continue\n",
        "            yield (feature_c, feature_d), cutoff_labels\n",
        "\n",
        "    train_dataset = tf.data.Dataset.from_generator(trainGenerator,\n",
        "                                                ((tf.float32, tf.float32), tf.float32),\n",
        "                                                ((tf.TensorShape([40,40,9]), tf.TensorShape([40, 40, 2])), tf.TensorShape([40,40,1])))\n",
        "    \n",
        "    train_dataset = train_dataset.batch(128).prefetch(1)\n",
        "#-----------------------------------------------------------------------------\n",
        "    def testGenerator():\n",
        "        print(2)\n",
        "        for file in train_2[test_index]:\n",
        "            target= file[:,:,-1:].reshape(40,40,1)\n",
        "            cutoff_labels = np.where(target < 0, 0, target)\n",
        "            feature_c = file[:,:,:9]\n",
        "            feature_d = file[:,:,9:11]\n",
        "            if (cutoff_labels > 0).sum() < 50:\n",
        "                continue\n",
        "            yield (feature_c, feature_d), cutoff_labels\n",
        "    test_dataset = tf.data.Dataset.from_generator(testGenerator,\n",
        "                                                ((tf.float32, tf.float32), tf.float32),\n",
        "                                                ((tf.TensorShape([40,40,9]), tf.TensorShape([40, 40, 2])),tf.TensorShape([40,40,1])))\n",
        "    test_size = len(test_index)\n",
        "    test_dataset = test_dataset.batch(test_size).prefetch(1)\n",
        "#-----------------------------------------------------------------------------\n",
        "    history = model.fit(train_dataset, epochs = 5, verbose=1, validation_data = test_dataset)\n",
        "    model.save(\"/content/drive/My Drive/2020 Kaggle Study/Theos/Model/three_leg_CNN_5.h5\")\n",
        "    #history = model.fit(train_dataset, epochs = 5, ,batch_size = 11, verbose=1)\n",
        "    model_history.append(history)\n",
        "    #del data\n",
        "    del train_dataset\n",
        "    del test_dataset\n",
        "    gc.collect()"
      ],
      "execution_count": 29,
      "outputs": [
        {
          "output_type": "stream",
          "text": [
            "\n",
            "Fold 0\n",
            "Epoch 1/5\n",
            "1\n",
            "    645/Unknown - 311s 482ms/step - loss: 0.1850 - maeOverFscore_keras: 1.3892 - fscore_keras: 0.77552\n",
            "645/645 [==============================] - 365s 566ms/step - loss: 0.1850 - maeOverFscore_keras: 1.3892 - fscore_keras: 0.7755 - val_loss: 0.1884 - val_maeOverFscore_keras: 1.4411 - val_fscore_keras: 0.7735\n",
            "Epoch 2/5\n",
            "1\n",
            "645/645 [==============================] - ETA: 0s - loss: 0.1842 - maeOverFscore_keras: 1.3810 - fscore_keras: 0.77662\n",
            "645/645 [==============================] - 388s 602ms/step - loss: 0.1842 - maeOverFscore_keras: 1.3810 - fscore_keras: 0.7766 - val_loss: 0.1876 - val_maeOverFscore_keras: 1.4306 - val_fscore_keras: 0.7754\n",
            "Epoch 3/5\n",
            "1\n",
            "645/645 [==============================] - ETA: 0s - loss: 0.1838 - maeOverFscore_keras: 1.3784 - fscore_keras: 0.77672\n",
            "645/645 [==============================] - 393s 610ms/step - loss: 0.1838 - maeOverFscore_keras: 1.3784 - fscore_keras: 0.7767 - val_loss: 0.1877 - val_maeOverFscore_keras: 1.4353 - val_fscore_keras: 0.7739\n",
            "Epoch 4/5\n",
            "1\n",
            "645/645 [==============================] - ETA: 0s - loss: 0.1832 - maeOverFscore_keras: 1.3721 - fscore_keras: 0.77762\n",
            "645/645 [==============================] - 423s 657ms/step - loss: 0.1832 - maeOverFscore_keras: 1.3721 - fscore_keras: 0.7776 - val_loss: 0.1865 - val_maeOverFscore_keras: 1.4130 - val_fscore_keras: 0.7773\n",
            "Epoch 5/5\n",
            "1\n",
            "645/645 [==============================] - ETA: 0s - loss: 0.1828 - maeOverFscore_keras: 1.3680 - fscore_keras: 0.77822\n",
            "645/645 [==============================] - 397s 616ms/step - loss: 0.1828 - maeOverFscore_keras: 1.3680 - fscore_keras: 0.7782 - val_loss: 0.1871 - val_maeOverFscore_keras: 1.4192 - val_fscore_keras: 0.7769\n",
            "\n",
            "Fold 1\n",
            "Epoch 1/5\n",
            "1\n",
            "    645/Unknown - 422s 654ms/step - loss: 0.1827 - maeOverFscore_keras: 1.3693 - fscore_keras: 0.77872\n",
            "645/645 [==============================] - 478s 741ms/step - loss: 0.1827 - maeOverFscore_keras: 1.3693 - fscore_keras: 0.7787 - val_loss: 0.1872 - val_maeOverFscore_keras: 1.4279 - val_fscore_keras: 0.7752\n",
            "Epoch 2/5\n",
            "1\n",
            "645/645 [==============================] - ETA: 0s - loss: 0.1824 - maeOverFscore_keras: 1.3660 - fscore_keras: 0.77932\n",
            "645/645 [==============================] - 412s 638ms/step - loss: 0.1824 - maeOverFscore_keras: 1.3660 - fscore_keras: 0.7793 - val_loss: 0.1861 - val_maeOverFscore_keras: 1.4112 - val_fscore_keras: 0.7769\n",
            "Epoch 3/5\n",
            "1\n",
            "645/645 [==============================] - ETA: 0s - loss: 0.1822 - maeOverFscore_keras: 1.3645 - fscore_keras: 0.77952\n",
            "645/645 [==============================] - 494s 767ms/step - loss: 0.1822 - maeOverFscore_keras: 1.3645 - fscore_keras: 0.7795 - val_loss: 0.1872 - val_maeOverFscore_keras: 1.4254 - val_fscore_keras: 0.7755\n",
            "Epoch 4/5\n",
            "1\n",
            "645/645 [==============================] - ETA: 0s - loss: 0.1819 - maeOverFscore_keras: 1.3615 - fscore_keras: 0.77952\n",
            "645/645 [==============================] - 431s 668ms/step - loss: 0.1819 - maeOverFscore_keras: 1.3615 - fscore_keras: 0.7795 - val_loss: 0.1867 - val_maeOverFscore_keras: 1.4138 - val_fscore_keras: 0.7774\n",
            "Epoch 5/5\n",
            "1\n",
            "645/645 [==============================] - ETA: 0s - loss: 0.1816 - maeOverFscore_keras: 1.3582 - fscore_keras: 0.78052\n",
            "645/645 [==============================] - 489s 758ms/step - loss: 0.1816 - maeOverFscore_keras: 1.3582 - fscore_keras: 0.7805 - val_loss: 0.1862 - val_maeOverFscore_keras: 1.4109 - val_fscore_keras: 0.7768\n",
            "\n",
            "Fold 2\n",
            "Epoch 1/5\n",
            "1\n",
            "    645/Unknown - 371s 575ms/step - loss: 0.1817 - maeOverFscore_keras: 1.3587 - fscore_keras: 0.78022\n",
            "645/645 [==============================] - 429s 666ms/step - loss: 0.1817 - maeOverFscore_keras: 1.3587 - fscore_keras: 0.7802 - val_loss: 0.1873 - val_maeOverFscore_keras: 1.4116 - val_fscore_keras: 0.7751\n",
            "Epoch 2/5\n",
            "1\n",
            "645/645 [==============================] - ETA: 0s - loss: 0.1814 - maeOverFscore_keras: 1.3565 - fscore_keras: 0.78052\n",
            "645/645 [==============================] - 466s 723ms/step - loss: 0.1814 - maeOverFscore_keras: 1.3565 - fscore_keras: 0.7805 - val_loss: 0.1867 - val_maeOverFscore_keras: 1.4065 - val_fscore_keras: 0.7758\n",
            "Epoch 3/5\n",
            "1\n",
            "645/645 [==============================] - ETA: 0s - loss: 0.1813 - maeOverFscore_keras: 1.3554 - fscore_keras: 0.78062\n",
            "645/645 [==============================] - 441s 684ms/step - loss: 0.1813 - maeOverFscore_keras: 1.3554 - fscore_keras: 0.7806 - val_loss: 0.1868 - val_maeOverFscore_keras: 1.4085 - val_fscore_keras: 0.7749\n",
            "Epoch 4/5\n",
            "1\n",
            "645/645 [==============================] - ETA: 0s - loss: 0.1810 - maeOverFscore_keras: 1.3522 - fscore_keras: 0.78112\n",
            "645/645 [==============================] - 591s 916ms/step - loss: 0.1810 - maeOverFscore_keras: 1.3522 - fscore_keras: 0.7811 - val_loss: 0.1862 - val_maeOverFscore_keras: 1.4031 - val_fscore_keras: 0.7757\n",
            "Epoch 5/5\n",
            "1\n",
            "645/645 [==============================] - ETA: 0s - loss: 0.1808 - maeOverFscore_keras: 1.3499 - fscore_keras: 0.78142\n",
            "645/645 [==============================] - 454s 704ms/step - loss: 0.1808 - maeOverFscore_keras: 1.3499 - fscore_keras: 0.7814 - val_loss: 0.1875 - val_maeOverFscore_keras: 1.4241 - val_fscore_keras: 0.7732\n",
            "\n",
            "Fold 3\n",
            "Epoch 1/5\n",
            "1\n",
            "    645/Unknown - 536s 832ms/step - loss: 0.1800 - maeOverFscore_keras: 1.3425 - fscore_keras: 0.78202\n",
            "645/645 [==============================] - 594s 921ms/step - loss: 0.1800 - maeOverFscore_keras: 1.3425 - fscore_keras: 0.7820 - val_loss: 0.1816 - val_maeOverFscore_keras: 1.3842 - val_fscore_keras: 0.7836\n",
            "Epoch 2/5\n",
            "1\n",
            "645/645 [==============================] - ETA: 0s - loss: 0.1797 - maeOverFscore_keras: 1.3402 - fscore_keras: 0.78242\n",
            "645/645 [==============================] - 453s 702ms/step - loss: 0.1797 - maeOverFscore_keras: 1.3402 - fscore_keras: 0.7824 - val_loss: 0.1803 - val_maeOverFscore_keras: 1.3588 - val_fscore_keras: 0.7884\n",
            "Epoch 3/5\n",
            "1\n",
            "645/645 [==============================] - ETA: 0s - loss: 0.1795 - maeOverFscore_keras: 1.3379 - fscore_keras: 0.78272\n",
            "645/645 [==============================] - 600s 931ms/step - loss: 0.1795 - maeOverFscore_keras: 1.3379 - fscore_keras: 0.7827 - val_loss: 0.1817 - val_maeOverFscore_keras: 1.3799 - val_fscore_keras: 0.7850\n",
            "Epoch 4/5\n",
            "1\n",
            "645/645 [==============================] - ETA: 0s - loss: 0.1794 - maeOverFscore_keras: 1.3365 - fscore_keras: 0.78292\n",
            "645/645 [==============================] - 474s 734ms/step - loss: 0.1794 - maeOverFscore_keras: 1.3365 - fscore_keras: 0.7829 - val_loss: 0.1817 - val_maeOverFscore_keras: 1.3848 - val_fscore_keras: 0.7834\n",
            "Epoch 5/5\n",
            "1\n",
            "645/645 [==============================] - ETA: 0s - loss: 0.1792 - maeOverFscore_keras: 1.3354 - fscore_keras: 0.78292\n",
            "645/645 [==============================] - 611s 947ms/step - loss: 0.1792 - maeOverFscore_keras: 1.3354 - fscore_keras: 0.7829 - val_loss: 0.1815 - val_maeOverFscore_keras: 1.3862 - val_fscore_keras: 0.7826\n",
            "\n",
            "Fold 4\n",
            "Epoch 1/5\n",
            "1\n",
            "    645/Unknown - 401s 622ms/step - loss: 0.1791 - maeOverFscore_keras: 1.3355 - fscore_keras: 0.78232\n",
            "645/645 [==============================] - 464s 719ms/step - loss: 0.1791 - maeOverFscore_keras: 1.3355 - fscore_keras: 0.7823 - val_loss: 0.1765 - val_maeOverFscore_keras: 1.3398 - val_fscore_keras: 0.7875\n",
            "Epoch 2/5\n",
            "1\n",
            "645/645 [==============================] - ETA: 0s - loss: 0.1789 - maeOverFscore_keras: 1.3340 - fscore_keras: 0.78232\n",
            "645/645 [==============================] - 590s 915ms/step - loss: 0.1789 - maeOverFscore_keras: 1.3340 - fscore_keras: 0.7823 - val_loss: 0.1771 - val_maeOverFscore_keras: 1.3389 - val_fscore_keras: 0.7874\n",
            "Epoch 3/5\n",
            "1\n",
            "645/645 [==============================] - ETA: 0s - loss: 0.1787 - maeOverFscore_keras: 1.3310 - fscore_keras: 0.78302\n",
            "645/645 [==============================] - 455s 705ms/step - loss: 0.1787 - maeOverFscore_keras: 1.3310 - fscore_keras: 0.7830 - val_loss: 0.1766 - val_maeOverFscore_keras: 1.3417 - val_fscore_keras: 0.7867\n",
            "Epoch 4/5\n",
            "1\n",
            "645/645 [==============================] - ETA: 0s - loss: 0.1785 - maeOverFscore_keras: 1.3295 - fscore_keras: 0.78302\n",
            "645/645 [==============================] - 593s 920ms/step - loss: 0.1785 - maeOverFscore_keras: 1.3295 - fscore_keras: 0.7830 - val_loss: 0.1770 - val_maeOverFscore_keras: 1.3435 - val_fscore_keras: 0.7871\n",
            "Epoch 5/5\n",
            "1\n",
            "645/645 [==============================] - ETA: 0s - loss: 0.1783 - maeOverFscore_keras: 1.3275 - fscore_keras: 0.78332\n",
            "645/645 [==============================] - 457s 709ms/step - loss: 0.1783 - maeOverFscore_keras: 1.3275 - fscore_keras: 0.7833 - val_loss: 0.1762 - val_maeOverFscore_keras: 1.3273 - val_fscore_keras: 0.7910\n"
          ],
          "name": "stdout"
        }
      ]
    },
    {
      "cell_type": "code",
      "metadata": {
        "id": "UzWQiG7z7QtU",
        "colab_type": "code",
        "colab": {}
      },
      "source": [
        "model = tf.keras.models.load_model('/content/drive/My Drive/2020 Kaggle Study/Theos/Model/three_leg_CNN_5.h5', custom_objects={\"maeOverFscore_keras\": maeOverFscore_keras,\"fscore\":fscore, \"fscore_keras\":fscore_keras })"
      ],
      "execution_count": 0,
      "outputs": []
    },
    {
      "cell_type": "code",
      "metadata": {
        "id": "D8Fq1VpQkfZn",
        "colab_type": "code",
        "colab": {}
      },
      "source": [
        "opt = tf.keras.optimizers.Adam(learning_rate=0.0001)\n",
        "model.compile(loss=\"mae\", optimizer=opt, metrics=[maeOverFscore_keras, fscore_keras])"
      ],
      "execution_count": 0,
      "outputs": []
    },
    {
      "cell_type": "code",
      "metadata": {
        "id": "14qfN2W29l0X",
        "colab_type": "code",
        "colab": {}
      },
      "source": [
        "train_3 = np.concatenate((t(r(train, 2)), r(train, 2), train))"
      ],
      "execution_count": 0,
      "outputs": []
    },
    {
      "cell_type": "code",
      "metadata": {
        "id": "yc6fFfBvuS6C",
        "colab_type": "code",
        "colab": {}
      },
      "source": [
        "train_3 = tf.convert_to_tensor(train_3, dtype=np.float32)\n",
        "train_3 = train_3.numpy()"
      ],
      "execution_count": 0,
      "outputs": []
    },
    {
      "cell_type": "code",
      "metadata": {
        "id": "3JcOI4zv9nxE",
        "colab_type": "code",
        "colab": {
          "base_uri": "https://localhost:8080/",
          "height": 1000
        },
        "outputId": "102c78cf-3a71-4f01-c78e-b8bfe4913346"
      },
      "source": [
        "from sklearn.model_selection import KFold\n",
        "kf = KFold(n_splits=5)\n",
        "model_history = []\n",
        "fold_number = 0\n",
        "\n",
        "for train_index, test_index in kf.split(train_3):\n",
        "    print(f'\\nFold {fold_number}')\n",
        "    fold_number = fold_number + 1\n",
        "    \n",
        "#-----------------------------------------------------------------------------\n",
        "    def trainGenerator():\n",
        "        print(1)\n",
        "        for file in train_3[train_index]:\n",
        "            target= file[:,:,-1:].reshape(40,40,1)\n",
        "            cutoff_labels = np.where(target < 0, 0, target)\n",
        "            feature_c = file[:,:,:9]\n",
        "            feature_d = file[:,:,9:11]\n",
        "            if (cutoff_labels > 0).sum() < 50:\n",
        "                continue\n",
        "            yield (feature_c, feature_d), cutoff_labels\n",
        "\n",
        "    train_dataset = tf.data.Dataset.from_generator(trainGenerator,\n",
        "                                                ((tf.float32, tf.float32), tf.float32),\n",
        "                                                ((tf.TensorShape([40,40,9]), tf.TensorShape([40, 40, 2])), tf.TensorShape([40,40,1])))\n",
        "    \n",
        "    train_dataset = train_dataset.batch(128).prefetch(1)\n",
        "#-----------------------------------------------------------------------------\n",
        "    def testGenerator():\n",
        "        print(2)\n",
        "        for file in train_3[test_index]:\n",
        "            target= file[:,:,-1:].reshape(40,40,1)\n",
        "            cutoff_labels = np.where(target < 0, 0, target)\n",
        "            feature_c = file[:,:,:9]\n",
        "            feature_d = file[:,:,9:11]\n",
        "            if (cutoff_labels > 0).sum() < 50:\n",
        "                continue\n",
        "            yield (feature_c, feature_d), cutoff_labels\n",
        "    test_dataset = tf.data.Dataset.from_generator(testGenerator,\n",
        "                                                ((tf.float32, tf.float32), tf.float32),\n",
        "                                                ((tf.TensorShape([40,40,9]), tf.TensorShape([40, 40, 2])),tf.TensorShape([40,40,1])))\n",
        "    test_size = len(test_index)\n",
        "    test_dataset = test_dataset.batch(test_size).prefetch(1)\n",
        "#-----------------------------------------------------------------------------\n",
        "    history = model.fit(train_dataset, epochs = 5, verbose=1, validation_data = test_dataset)\n",
        "    model.save(\"/content/drive/My Drive/2020 Kaggle Study/Theos/Model/three_leg_CNN_5.h5\")\n",
        "    #history = model.fit(train_dataset, epochs = 5, ,batch_size = 11, verbose=1)\n",
        "    model_history.append(history)\n",
        "    #del data\n",
        "    del train_dataset\n",
        "    del test_dataset\n",
        "    gc.collect()"
      ],
      "execution_count": 0,
      "outputs": [
        {
          "output_type": "stream",
          "text": [
            "\n",
            "Fold 0\n",
            "Epoch 1/5\n",
            "1\n",
            "    645/Unknown - 342s 531ms/step - loss: 0.1809 - maeOverFscore_keras: 1.3472 - fscore_keras: 0.78172\n",
            "645/645 [==============================] - 405s 628ms/step - loss: 0.1809 - maeOverFscore_keras: 1.3472 - fscore_keras: 0.7817 - val_loss: 0.1823 - val_maeOverFscore_keras: 1.3712 - val_fscore_keras: 0.7848\n",
            "Epoch 2/5\n",
            "1\n",
            "645/645 [==============================] - ETA: 0s - loss: 0.1803 - maeOverFscore_keras: 1.3410 - fscore_keras: 0.78282\n",
            "645/645 [==============================] - 380s 589ms/step - loss: 0.1803 - maeOverFscore_keras: 1.3410 - fscore_keras: 0.7828 - val_loss: 0.1825 - val_maeOverFscore_keras: 1.3627 - val_fscore_keras: 0.7858\n",
            "Epoch 3/5\n",
            "1\n",
            "645/645 [==============================] - ETA: 0s - loss: 0.1799 - maeOverFscore_keras: 1.3370 - fscore_keras: 0.78352\n",
            "645/645 [==============================] - 387s 599ms/step - loss: 0.1799 - maeOverFscore_keras: 1.3370 - fscore_keras: 0.7835 - val_loss: 0.1823 - val_maeOverFscore_keras: 1.3653 - val_fscore_keras: 0.7850\n",
            "Epoch 4/5\n",
            "1\n",
            "645/645 [==============================] - ETA: 0s - loss: 0.1796 - maeOverFscore_keras: 1.3340 - fscore_keras: 0.78412\n",
            "645/645 [==============================] - 394s 610ms/step - loss: 0.1796 - maeOverFscore_keras: 1.3340 - fscore_keras: 0.7841 - val_loss: 0.1820 - val_maeOverFscore_keras: 1.3598 - val_fscore_keras: 0.7864\n",
            "Epoch 5/5\n",
            "1\n",
            "645/645 [==============================] - ETA: 0s - loss: 0.1794 - maeOverFscore_keras: 1.3320 - fscore_keras: 0.78432\n",
            "645/645 [==============================] - 396s 613ms/step - loss: 0.1794 - maeOverFscore_keras: 1.3320 - fscore_keras: 0.7843 - val_loss: 0.1818 - val_maeOverFscore_keras: 1.3582 - val_fscore_keras: 0.7868\n",
            "\n",
            "Fold 1\n",
            "Epoch 1/5\n",
            "1\n",
            "    645/Unknown - 337s 523ms/step - loss: 0.1794 - maeOverFscore_keras: 1.3333 - fscore_keras: 0.78482\n",
            "645/645 [==============================] - 397s 616ms/step - loss: 0.1794 - maeOverFscore_keras: 1.3333 - fscore_keras: 0.7848 - val_loss: 0.1797 - val_maeOverFscore_keras: 1.3358 - val_fscore_keras: 0.7905\n",
            "Epoch 2/5\n",
            "1\n",
            "645/645 [==============================] - ETA: 0s - loss: 0.1792 - maeOverFscore_keras: 1.3322 - fscore_keras: 0.78492\n",
            "645/645 [==============================] - 408s 632ms/step - loss: 0.1792 - maeOverFscore_keras: 1.3322 - fscore_keras: 0.7849 - val_loss: 0.1794 - val_maeOverFscore_keras: 1.3332 - val_fscore_keras: 0.7910\n",
            "Epoch 3/5\n",
            "1\n",
            "645/645 [==============================] - ETA: 0s - loss: 0.1791 - maeOverFscore_keras: 1.3309 - fscore_keras: 0.78512\n",
            "645/645 [==============================] - 400s 620ms/step - loss: 0.1791 - maeOverFscore_keras: 1.3309 - fscore_keras: 0.7851 - val_loss: 0.1797 - val_maeOverFscore_keras: 1.3377 - val_fscore_keras: 0.7905\n",
            "Epoch 4/5\n",
            "1\n",
            "645/645 [==============================] - ETA: 0s - loss: 0.1790 - maeOverFscore_keras: 1.3293 - fscore_keras: 0.78542\n",
            "645/645 [==============================] - 411s 638ms/step - loss: 0.1790 - maeOverFscore_keras: 1.3293 - fscore_keras: 0.7854 - val_loss: 0.1796 - val_maeOverFscore_keras: 1.3357 - val_fscore_keras: 0.7910\n",
            "Epoch 5/5\n",
            "1\n",
            "645/645 [==============================] - ETA: 0s - loss: 0.1789 - maeOverFscore_keras: 1.3286 - fscore_keras: 0.78552\n",
            "645/645 [==============================] - 401s 621ms/step - loss: 0.1789 - maeOverFscore_keras: 1.3286 - fscore_keras: 0.7855 - val_loss: 0.1795 - val_maeOverFscore_keras: 1.3366 - val_fscore_keras: 0.7906\n",
            "\n",
            "Fold 2\n",
            "Epoch 1/5\n",
            "1\n",
            "    645/Unknown - 359s 557ms/step - loss: 0.1787 - maeOverFscore_keras: 1.3279 - fscore_keras: 0.78552\n",
            "645/645 [==============================] - 417s 646ms/step - loss: 0.1787 - maeOverFscore_keras: 1.3279 - fscore_keras: 0.7855 - val_loss: 0.1751 - val_maeOverFscore_keras: 1.2880 - val_fscore_keras: 0.7953\n",
            "Epoch 2/5\n",
            "1\n",
            "645/645 [==============================] - ETA: 0s - loss: 0.1787 - maeOverFscore_keras: 1.3269 - fscore_keras: 0.78562\n",
            "645/645 [==============================] - 408s 632ms/step - loss: 0.1787 - maeOverFscore_keras: 1.3269 - fscore_keras: 0.7856 - val_loss: 0.1752 - val_maeOverFscore_keras: 1.2907 - val_fscore_keras: 0.7955\n",
            "Epoch 3/5\n",
            "1\n",
            "645/645 [==============================] - ETA: 0s - loss: 0.1786 - maeOverFscore_keras: 1.3258 - fscore_keras: 0.78582\n",
            "645/645 [==============================] - 401s 621ms/step - loss: 0.1786 - maeOverFscore_keras: 1.3258 - fscore_keras: 0.7858 - val_loss: 0.1752 - val_maeOverFscore_keras: 1.2900 - val_fscore_keras: 0.7953\n",
            "Epoch 4/5\n",
            "1\n",
            "645/645 [==============================] - ETA: 0s - loss: 0.1785 - maeOverFscore_keras: 1.3251 - fscore_keras: 0.78592\n",
            "645/645 [==============================] - 415s 644ms/step - loss: 0.1785 - maeOverFscore_keras: 1.3251 - fscore_keras: 0.7859 - val_loss: 0.1754 - val_maeOverFscore_keras: 1.2944 - val_fscore_keras: 0.7945\n",
            "Epoch 5/5\n",
            "1\n",
            "645/645 [==============================] - ETA: 0s - loss: 0.1784 - maeOverFscore_keras: 1.3239 - fscore_keras: 0.78602\n",
            "645/645 [==============================] - 423s 656ms/step - loss: 0.1784 - maeOverFscore_keras: 1.3239 - fscore_keras: 0.7860 - val_loss: 0.1756 - val_maeOverFscore_keras: 1.2945 - val_fscore_keras: 0.7952\n",
            "\n",
            "Fold 3\n",
            "Epoch 1/5\n",
            "1\n",
            "    645/Unknown - 366s 567ms/step - loss: 0.1778 - maeOverFscore_keras: 1.3191 - fscore_keras: 0.78612\n",
            "645/645 [==============================] - 424s 657ms/step - loss: 0.1778 - maeOverFscore_keras: 1.3191 - fscore_keras: 0.7861 - val_loss: 0.1761 - val_maeOverFscore_keras: 1.3097 - val_fscore_keras: 0.7982\n",
            "Epoch 2/5\n",
            "1\n",
            "645/645 [==============================] - ETA: 0s - loss: 0.1777 - maeOverFscore_keras: 1.3184 - fscore_keras: 0.78632\n",
            "645/645 [==============================] - 439s 681ms/step - loss: 0.1777 - maeOverFscore_keras: 1.3184 - fscore_keras: 0.7863 - val_loss: 0.1761 - val_maeOverFscore_keras: 1.3094 - val_fscore_keras: 0.7984\n",
            "Epoch 3/5\n",
            "1\n",
            "645/645 [==============================] - ETA: 0s - loss: 0.1776 - maeOverFscore_keras: 1.3170 - fscore_keras: 0.78652\n",
            "645/645 [==============================] - 435s 674ms/step - loss: 0.1776 - maeOverFscore_keras: 1.3170 - fscore_keras: 0.7865 - val_loss: 0.1764 - val_maeOverFscore_keras: 1.3101 - val_fscore_keras: 0.7987\n",
            "Epoch 4/5\n",
            "1\n",
            "645/645 [==============================] - ETA: 0s - loss: 0.1775 - maeOverFscore_keras: 1.3166 - fscore_keras: 0.78652\n",
            "645/645 [==============================] - 439s 681ms/step - loss: 0.1775 - maeOverFscore_keras: 1.3166 - fscore_keras: 0.7865 - val_loss: 0.1763 - val_maeOverFscore_keras: 1.3123 - val_fscore_keras: 0.7983\n",
            "Epoch 5/5\n",
            "1\n",
            "645/645 [==============================] - ETA: 0s - loss: 0.1775 - maeOverFscore_keras: 1.3161 - fscore_keras: 0.78642\n",
            "645/645 [==============================] - 446s 691ms/step - loss: 0.1775 - maeOverFscore_keras: 1.3161 - fscore_keras: 0.7864 - val_loss: 0.1766 - val_maeOverFscore_keras: 1.3176 - val_fscore_keras: 0.7974\n",
            "\n",
            "Fold 4\n",
            "Epoch 1/5\n",
            "1\n",
            "    645/Unknown - 391s 606ms/step - loss: 0.1775 - maeOverFscore_keras: 1.3168 - fscore_keras: 0.78582\n",
            "645/645 [==============================] - 448s 694ms/step - loss: 0.1775 - maeOverFscore_keras: 1.3168 - fscore_keras: 0.7858 - val_loss: 0.1756 - val_maeOverFscore_keras: 1.3092 - val_fscore_keras: 0.7981\n",
            "Epoch 2/5\n",
            "1\n",
            "645/645 [==============================] - ETA: 0s - loss: 0.1774 - maeOverFscore_keras: 1.3162 - fscore_keras: 0.78582\n",
            "645/645 [==============================] - 458s 710ms/step - loss: 0.1774 - maeOverFscore_keras: 1.3162 - fscore_keras: 0.7858 - val_loss: 0.1755 - val_maeOverFscore_keras: 1.3053 - val_fscore_keras: 0.7992\n",
            "Epoch 3/5\n",
            "1\n",
            "  3/645 [..............................] - ETA: 4:16 - loss: 0.1059 - maeOverFscore_keras: 1.1153 - fscore_keras: 0.7079"
          ],
          "name": "stdout"
        }
      ]
    },
    {
      "cell_type": "code",
      "metadata": {
        "id": "2TJF69qGBfmh",
        "colab_type": "code",
        "colab": {}
      },
      "source": [
        "test_o = np.load('/content/drive/My Drive/2020 Kaggle Study/data/test.npy') "
      ],
      "execution_count": 0,
      "outputs": []
    },
    {
      "cell_type": "code",
      "metadata": {
        "id": "hLIlqZR0nTHr",
        "colab_type": "code",
        "colab": {
          "base_uri": "https://localhost:8080/",
          "height": 34
        },
        "outputId": "c2f527cf-f570-4df5-8c86-3012294babef"
      },
      "source": [
        "test_o.shape"
      ],
      "execution_count": 20,
      "outputs": [
        {
          "output_type": "execute_result",
          "data": {
            "text/plain": [
              "(2416, 40, 40, 14)"
            ]
          },
          "metadata": {
            "tags": []
          },
          "execution_count": 20
        }
      ]
    },
    {
      "cell_type": "code",
      "metadata": {
        "id": "SjitHoZdoNtX",
        "colab_type": "code",
        "colab": {}
      },
      "source": [
        "dem_test = test[:,:,:,10:11]"
      ],
      "execution_count": 0,
      "outputs": []
    },
    {
      "cell_type": "code",
      "metadata": {
        "id": "TfiYALkT6hQB",
        "colab_type": "code",
        "colab": {}
      },
      "source": [
        "test_ = np.concatenate((test[:,:,:,:9], test[:,:,:,9:10], test_o[:,:,:,10:]), axis = 3)"
      ],
      "execution_count": 0,
      "outputs": []
    },
    {
      "cell_type": "code",
      "metadata": {
        "id": "MmyTquWbmSQc",
        "colab_type": "code",
        "colab": {
          "base_uri": "https://localhost:8080/",
          "height": 34
        },
        "outputId": "1d9a6e8d-c98d-4e89-eb20-3074dce2326f"
      },
      "source": [
        "test_.shape"
      ],
      "execution_count": 23,
      "outputs": [
        {
          "output_type": "execute_result",
          "data": {
            "text/plain": [
              "(2416, 40, 40, 14)"
            ]
          },
          "metadata": {
            "tags": []
          },
          "execution_count": 23
        }
      ]
    },
    {
      "cell_type": "code",
      "metadata": {
        "id": "-JoFNRG-A5q2",
        "colab_type": "code",
        "colab": {}
      },
      "source": [
        "dr = [(-1, -1), (-1, 0), (-1, 1),\n",
        "      (0, -1), (0, 0), (0, 1),\n",
        "      (1, -1), (1, 0), (1, 1)]\n",
        "\n",
        "def get_dist(p1, p2):  # p1, p2: shape=(-1, 2).\n",
        "    x1, y1 = np.deg2rad(p1[:,0]), np.deg2rad(p1[:,1])\n",
        "    x2, y2 = np.deg2rad(p2[:,0]), np.deg2rad(p2[:,1])\n",
        "    dlon = x2 - x1\n",
        "    dlat = y2 - y1\n",
        "    a = np.sin(dlat/2)**2 + np.cos(y1) * np.cos(y2) * np.sin(dlon/2)**2 \n",
        "    c = 2 * np.arctan2(np.sqrt(a), np.sqrt(1-a))    \n",
        "    return 6373.0 * c  # km, shape=(-1).\n",
        "\n",
        "# value: (40, 40, -1)\n",
        "# ori_ll, tgt_ll: (40, 40, 2)\n",
        "def compen_ll(value, ori_ll, tgt_ll):  # ori_ll에서의 value를 tgt_ll에 대한 값으로 바꿈\n",
        "    ret = np.empty_like(value)\n",
        "    n, m = value.shape[0], value.shape[1]\n",
        "    for i in range(n):\n",
        "        for j in range(m):\n",
        "            nears = []  # (row, col, value)\n",
        "            for k in range(9):\n",
        "                ii = i + dr[k][0]\n",
        "                jj = j + dr[k][1]\n",
        "                if ii >= 0 and ii < n and jj >= 0 and jj < m:\n",
        "                    nears.append((ori_ll[ii, jj][0], ori_ll[ii, jj][1],\n",
        "                                  tgt_ll[i, j][0], tgt_ll[i, j][1],\n",
        "                                  value[ii, jj]))\n",
        "            nears = np.array(nears)  # shape=(-1, 5)\n",
        "            dists = get_dist(nears[:, 0:2], nears[:, 2:4]).reshape(-1, 1)\n",
        "            values = nears[:, 4].reshape(-1, 1)\n",
        "            nears = np.concatenate((dists, values), 1)\n",
        "            nears = nears[np.argsort(nears[:, 0])]  # sort by dist\n",
        "            nears = nears[:2, :]  # 가까운 점 2개만 고려\n",
        "            \n",
        "            weights = 1 / (nears[:, 0] ** 2 + sys.float_info.epsilon)\n",
        "            weighted_sum = (weights * nears[:, 1]).sum()\n",
        "            ret[i, j] = weighted_sum / weights.sum()\n",
        "    return ret"
      ],
      "execution_count": 0,
      "outputs": []
    },
    {
      "cell_type": "code",
      "metadata": {
        "id": "mHxIw7T4BKeL",
        "colab_type": "code",
        "colab": {}
      },
      "source": [
        "from multiprocessing import Process, Manager\n",
        "\n",
        "def proc_func(splitted, dpr_preci, proc_id):\n",
        "    part = splitted[proc_id]\n",
        "    arr = np.empty_like(part[:, :, :, 14])  # shape=(-1, 40, 40)\n",
        "    for i in range(part.shape[0]):\n",
        "        arr[i, :, :] = compen_ll(part[i, :, :, 14], part[i, :, :, 10:12], part[i, :, :, 12:14])\n",
        "    dpr_preci[proc_id] = arr\n",
        "\n",
        "def gmi2dpr(test, gmi_preci):\n",
        "    n_procs = 4\n",
        "    procs = []\n",
        "    manager = Manager()\n",
        "    dpr_preci = manager.list([None] * n_procs)\n",
        "\n",
        "    data = np.concatenate((test, gmi_preci), axis=3)\n",
        "    n_imgs = data.shape[0]  # split data into n_procs arrays\n",
        "    splitted = np.split(data, np.arange(n_imgs // n_procs + n_imgs % n_procs, n_imgs, n_imgs // n_procs))\n",
        "\n",
        "    for proc_id in range(n_procs):\n",
        "        proc = Process(target=proc_func, args=(splitted, dpr_preci, proc_id))\n",
        "        proc.start()\n",
        "        procs.append(proc)\n",
        "\n",
        "    for proc in procs:\n",
        "        proc.join()\n",
        "\n",
        "    dpr_preci = np.concatenate(dpr_preci)\n",
        "    return dpr_preci"
      ],
      "execution_count": 0,
      "outputs": []
    },
    {
      "cell_type": "code",
      "metadata": {
        "id": "AYDUKfde0T2y",
        "colab_type": "code",
        "colab": {}
      },
      "source": [
        "x_test = test[:, :, :, :10]\n",
        "test_ = np.concatenate((test[:,:,:,:10], test_o[:,:,:,10:]), axis = 3)"
      ],
      "execution_count": 0,
      "outputs": []
    },
    {
      "cell_type": "code",
      "metadata": {
        "id": "sfPcqcrU1BsO",
        "colab_type": "code",
        "colab": {}
      },
      "source": [
        "import pandas as pd\n",
        "import numpy as np\n",
        "import random\n",
        "import sys\n",
        "import gc\n",
        "from sklearn.model_selection import train_test_split\n",
        "from sklearn.preprocessing import StandardScaler\n",
        "import tensorflow as tf\n",
        "from tensorflow.keras.layers import Conv2D, Conv2DTranspose, Dropout, MaxPooling2D, BatchNormalization, concatenate, Input\n",
        "from tensorflow.keras import Model"
      ],
      "execution_count": 0,
      "outputs": []
    },
    {
      "cell_type": "code",
      "metadata": {
        "id": "28KnXHYW1nSi",
        "colab_type": "code",
        "colab": {}
      },
      "source": [
        "pred=model.predict([test[:,:,:,:9],test[:,:,:,9:11]])"
      ],
      "execution_count": 0,
      "outputs": []
    },
    {
      "cell_type": "code",
      "metadata": {
        "id": "5n97HKw01e6U",
        "colab_type": "code",
        "colab": {
          "base_uri": "https://localhost:8080/",
          "height": 34
        },
        "outputId": "e4b89276-eb52-49fc-85a9-d12975f0ed30"
      },
      "source": [
        "pred.shape"
      ],
      "execution_count": 91,
      "outputs": [
        {
          "output_type": "execute_result",
          "data": {
            "text/plain": [
              "(2416, 40, 40, 1)"
            ]
          },
          "metadata": {
            "tags": []
          },
          "execution_count": 91
        }
      ]
    },
    {
      "cell_type": "code",
      "metadata": {
        "id": "yI9b1mCn0vSJ",
        "colab_type": "code",
        "colab": {}
      },
      "source": [
        "pred = gmi2dpr(test_, pred)"
      ],
      "execution_count": 0,
      "outputs": []
    },
    {
      "cell_type": "code",
      "metadata": {
        "id": "Kucgrytn8-yj",
        "colab_type": "code",
        "colab": {}
      },
      "source": [
        "model = tf.keras.models.load_model('/content/drive/My Drive/2020 Kaggle Study/Theos/Model/three_leg_CNN_5.h5', custom_objects={\"fscore_keras\": fscore_keras,\"maeOverFscore_keras\": maeOverFscore_keras,\"fscore\":fscore })"
      ],
      "execution_count": 0,
      "outputs": []
    },
    {
      "cell_type": "code",
      "metadata": {
        "id": "mZ1bQvRSVNLl",
        "colab_type": "code",
        "colab": {}
      },
      "source": [
        ""
      ],
      "execution_count": 0,
      "outputs": []
    },
    {
      "cell_type": "code",
      "metadata": {
        "id": "5vo6hXSOVQkj",
        "colab_type": "code",
        "colab": {}
      },
      "source": [
        "submission = pd.read_csv('/content/drive/My Drive/2020 Kaggle Study/data/sample_submission.csv')"
      ],
      "execution_count": 0,
      "outputs": []
    },
    {
      "cell_type": "code",
      "metadata": {
        "id": "kTraA4pLw6qc",
        "colab_type": "code",
        "colab": {}
      },
      "source": [
        "pred = np.where(pred==0, 0.099, pred)"
      ],
      "execution_count": 0,
      "outputs": []
    },
    {
      "cell_type": "code",
      "metadata": {
        "id": "KUTWSL8LVn79",
        "colab_type": "code",
        "colab": {}
      },
      "source": [
        "submission.iloc[:,1:] = pred.reshape(-1, 1600)"
      ],
      "execution_count": 0,
      "outputs": []
    },
    {
      "cell_type": "code",
      "metadata": {
        "id": "nvlSMMFXVp38",
        "colab_type": "code",
        "colab": {}
      },
      "source": [
        "submission.to_csv('/content/drive/My Drive/2020 Kaggle Study/Theos/Submission/three_leg_CNN_final2.csv', index = False)"
      ],
      "execution_count": 0,
      "outputs": []
    },
    {
      "cell_type": "code",
      "metadata": {
        "id": "VpYoqRdOwr2G",
        "colab_type": "code",
        "colab": {}
      },
      "source": [
        ""
      ],
      "execution_count": 0,
      "outputs": []
    }
  ]
}
