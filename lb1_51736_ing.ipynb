{
  "nbformat": 4,
  "nbformat_minor": 0,
  "metadata": {
    "colab": {
      "name": "lb1.51736.ipynb",
      "provenance": [],
      "collapsed_sections": [],
      "machine_shape": "hm",
      "include_colab_link": true
    },
    "kernelspec": {
      "name": "python3",
      "display_name": "Python 3"
    },
    "accelerator": "GPU"
  },
  "cells": [
    {
      "cell_type": "markdown",
      "metadata": {
        "id": "view-in-github",
        "colab_type": "text"
      },
      "source": [
        "<a href=\"https://colab.research.google.com/github/curiosity806/2020_dacon_satellite_precipitation/blob/bogyung/lb1_51736_ing.ipynb\" target=\"_parent\"><img src=\"https://colab.research.google.com/assets/colab-badge.svg\" alt=\"Open In Colab\"/></a>"
      ]
    },
    {
      "cell_type": "code",
      "metadata": {
        "id": "NjHIq5_bAaZ4",
        "colab_type": "code",
        "outputId": "54d6b949-df8b-4beb-ad3a-bdec1f43c033",
        "colab": {
          "base_uri": "https://localhost:8080/",
          "height": 54
        }
      },
      "source": [
        "from google.colab import drive\n",
        "drive.mount('/content/drive')"
      ],
      "execution_count": 1,
      "outputs": [
        {
          "output_type": "stream",
          "text": [
            "Drive already mounted at /content/drive; to attempt to forcibly remount, call drive.mount(\"/content/drive\", force_remount=True).\n"
          ],
          "name": "stdout"
        }
      ]
    },
    {
      "cell_type": "code",
      "metadata": {
        "id": "KiOyVVgB_HAO",
        "colab_type": "code",
        "colab": {}
      },
      "source": [
        "import numpy as np\n",
        "import pandas as pd\n",
        "import os\n",
        "from sklearn.metrics import f1_score\n",
        "import tensorflow as tf\n",
        "from tensorflow.keras.datasets.mnist import load_data\n",
        "from tensorflow.keras.models import load_model, Model\n",
        "from tensorflow.keras.layers import Input, Conv2D, Add, BatchNormalization, concatenate\n",
        "from sklearn.model_selection import train_test_split, KFold\n",
        "import matplotlib.pyplot as plt"
      ],
      "execution_count": 0,
      "outputs": []
    },
    {
      "cell_type": "markdown",
      "metadata": {
        "id": "yR07fuH1ARWj",
        "colab_type": "text"
      },
      "source": [
        "## 데이터 로드"
      ]
    },
    {
      "cell_type": "code",
      "metadata": {
        "id": "OA7vSUllAUR2",
        "colab_type": "code",
        "colab": {}
      },
      "source": [
        "#submission = pd.read_csv('/content/drive/My Drive/2020 Kaggle Study/data/sample_submission.csv')\n",
        "train = np.load('/content/drive/My Drive/2020 Kaggle Study/data/train.npy')\n",
        "test = np.load('/content/drive/My Drive/2020 Kaggle Study/data/yeonung/test.npy').astype('float32')\n",
        "#gmi_preci = np.load('/content/drive/My Drive/2020 Kaggle Study/data/gmi_preci_32bits.npy')"
      ],
      "execution_count": 0,
      "outputs": []
    },
    {
      "cell_type": "markdown",
      "metadata": {
        "id": "oXmU2JhiCWHB",
        "colab_type": "text"
      },
      "source": [
        "## 학습 데이터 선택\n",
        "센서 데이터 + land type"
      ]
    },
    {
      "cell_type": "code",
      "metadata": {
        "id": "cYUCbt28CNDo",
        "colab_type": "code",
        "colab": {}
      },
      "source": [
        "x_train = train[:,:,:,:10]\n",
        "y_train = train[:,:,:,14]\n",
        "test = test[:,:,:,:10]\n",
        "del train"
      ],
      "execution_count": 0,
      "outputs": []
    },
    {
      "cell_type": "markdown",
      "metadata": {
        "id": "pPta-IqPC6XX",
        "colab_type": "text"
      },
      "source": [
        "## 가채점용 테스트 데이터 분리"
      ]
    },
    {
      "cell_type": "code",
      "metadata": {
        "id": "pyai1bcaCR2r",
        "colab_type": "code",
        "outputId": "402ac34f-fc9e-445d-ca33-25d3b45f3844",
        "colab": {
          "base_uri": "https://localhost:8080/",
          "height": 34
        }
      },
      "source": [
        "x_train, x_test, y_train, y_test = train_test_split(x_train, y_train, test_size=0.025, random_state=7777)\n",
        "x_train.shape, y_train.shape, x_test.shape, y_test.shape"
      ],
      "execution_count": 5,
      "outputs": [
        {
          "output_type": "execute_result",
          "data": {
            "text/plain": [
              "((74436, 40, 40, 10), (74436, 40, 40), (1909, 40, 40, 10), (1909, 40, 40))"
            ]
          },
          "metadata": {
            "tags": []
          },
          "execution_count": 5
        }
      ]
    },
    {
      "cell_type": "markdown",
      "metadata": {
        "id": "lpZ0_YPYDvH4",
        "colab_type": "text"
      },
      "source": [
        "## 결측치(0보다 작은 값)가 포함된 데이터 삭제"
      ]
    },
    {
      "cell_type": "code",
      "metadata": {
        "id": "Ir7dsYbSD0f7",
        "colab_type": "code",
        "outputId": "05fc5e63-f162-492f-d464-e497ef5c48b8",
        "colab": {
          "base_uri": "https://localhost:8080/",
          "height": 34
        }
      },
      "source": [
        "y_train_ = y_train.reshape(-1,y_train.shape[1]*y_train.shape[2])\n",
        "x_train = np.delete(x_train, np.where(y_train_<0)[0], axis=0)\n",
        "y_train = np.delete(y_train, np.where(y_train_<0)[0], axis=0)\n",
        "y_train = y_train.reshape(-1, x_train.shape[1], x_train.shape[2],1)\n",
        "y_test = y_test.reshape(-1, y_test.shape[1], y_test.shape[2],1)\n",
        "y_train_ = np.delete(y_train_, np.where(y_train_<0)[0], axis=0)\n",
        "x_train.shape, y_train.shape"
      ],
      "execution_count": 6,
      "outputs": [
        {
          "output_type": "execute_result",
          "data": {
            "text/plain": [
              "((74061, 40, 40, 10), (74061, 40, 40, 1))"
            ]
          },
          "metadata": {
            "tags": []
          },
          "execution_count": 6
        }
      ]
    },
    {
      "cell_type": "markdown",
      "metadata": {
        "id": "Ejxx-7eCEBVq",
        "colab_type": "text"
      },
      "source": [
        "## 강수량 합이 50개 이상인 데이터만 선택"
      ]
    },
    {
      "cell_type": "code",
      "metadata": {
        "id": "HgWh0mWzD_yV",
        "colab_type": "code",
        "outputId": "fb3f60da-eb77-4f0e-b70b-89c203e37949",
        "colab": {
          "base_uri": "https://localhost:8080/",
          "height": 34
        }
      },
      "source": [
        "x_train = x_train[np.sum(y_train_, axis=1) >= 50]\n",
        "y_train = y_train[np.sum(y_train_, axis=1) >= 50]\n",
        "x_train.shape, y_train.shape"
      ],
      "execution_count": 7,
      "outputs": [
        {
          "output_type": "execute_result",
          "data": {
            "text/plain": [
              "((30594, 40, 40, 10), (30594, 40, 40, 1))"
            ]
          },
          "metadata": {
            "tags": []
          },
          "execution_count": 7
        }
      ]
    },
    {
      "cell_type": "code",
      "metadata": {
        "id": "co7VrE2xWqCw",
        "colab_type": "code",
        "colab": {
          "base_uri": "https://localhost:8080/",
          "height": 34
        },
        "outputId": "a270dce5-74a9-428f-d1b3-faf59cd2889f"
      },
      "source": [
        "# Scaling\n",
        "\n",
        "land_type_data = x_train[:,:,:,9]\n",
        "land_type_data = np.where(land_type_data//100 == 2, 0.8,\n",
        "                          np.where(land_type_data//100 == 3, 0.1,\n",
        "                                   land_type_data//100))\n",
        "\n",
        "from sklearn.preprocessing import StandardScaler\n",
        "scaler = StandardScaler()\n",
        "train_scaled = scaler.fit_transform(x_train.reshape(-1, 10))\n",
        "train_scaled = train_scaled.reshape(x_train.shape)\n",
        "train_scaled[:,:,:,9] = land_type_data\n",
        "#train_scaled[:,:,:,-1] = gmi_preci.reshape(-1, 40, 40)  # GMI precipatation\n",
        "\n",
        "x_train = train_scaled.astype('float16')\n",
        "del train_scaled\n",
        "\n",
        "x_train.shape"
      ],
      "execution_count": 8,
      "outputs": [
        {
          "output_type": "execute_result",
          "data": {
            "text/plain": [
              "(30594, 40, 40, 10)"
            ]
          },
          "metadata": {
            "tags": []
          },
          "execution_count": 8
        }
      ]
    },
    {
      "cell_type": "markdown",
      "metadata": {
        "id": "RjuaAqMCKgC1",
        "colab_type": "text"
      },
      "source": [
        "## 데이터 부풀리기\n",
        "이미지를 회전, 반전시켜 학습 데이터 양을 8배로 부풀림"
      ]
    },
    {
      "cell_type": "code",
      "metadata": {
        "id": "7w5B7xfIaB2g",
        "colab_type": "code",
        "colab": {}
      },
      "source": [
        "sample = x_train[1204,:,:,0]"
      ],
      "execution_count": 0,
      "outputs": []
    },
    {
      "cell_type": "code",
      "metadata": {
        "id": "_04bRjz3akzY",
        "colab_type": "code",
        "colab": {}
      },
      "source": [
        "x_train = x_train.astype('float32')"
      ],
      "execution_count": 0,
      "outputs": []
    },
    {
      "cell_type": "code",
      "metadata": {
        "id": "DwdOnij3KUAB",
        "colab_type": "code",
        "outputId": "6ce97739-012d-43c3-af44-fbe5e2df6cc5",
        "colab": {
          "base_uri": "https://localhost:8080/",
          "height": 165
        }
      },
      "source": [
        "plt.figure(figsize=(10,20))\n",
        "plt.subplot(1,5,1)\n",
        "plt.imshow(sample) # 원본\n",
        "plt.subplot(1,5,2)\n",
        "plt.imshow(np.rot90(sample)) # 90도 \n",
        "plt.subplot(1,5,3)\n",
        "plt.imshow(np.rot90(np.rot90(sample))) # 180도\n",
        "plt.subplot(1,5,4)\n",
        "plt.imshow(np.rot90(np.rot90(np.rot90(sample)))) # 270도\n",
        "plt.subplot(1,5,5)\n",
        "plt.imshow(sample.T) # Transpose (이걸로 90, 180, 270도 회전 한 번 더 시행)"
      ],
      "execution_count": 36,
      "outputs": [
        {
          "output_type": "execute_result",
          "data": {
            "text/plain": [
              "<matplotlib.image.AxesImage at 0x7f2a41a8d208>"
            ]
          },
          "metadata": {
            "tags": []
          },
          "execution_count": 36
        },
        {
          "output_type": "display_data",
          "data": {
            "image/png": "[encoded data removed]",
            "text/plain": [
              "<Figure size 720x1440 with 5 Axes>"
            ]
          },
          "metadata": {
            "tags": [],
            "needs_background": "light"
          }
        }
      ]
    },
    {
      "cell_type": "code",
      "metadata": {
        "id": "JO22Ex3ibMfR",
        "colab_type": "code",
        "colab": {}
      },
      "source": [
        "x_train = x_train.astype('float16')"
      ],
      "execution_count": 0,
      "outputs": []
    },
    {
      "cell_type": "code",
      "metadata": {
        "id": "vKCjyWj6SC4X",
        "colab_type": "code",
        "colab": {}
      },
      "source": [
        "def data_generator_half(x_train, y_train):\n",
        "    rotate_X_90 = np.zeros_like(x_train)\n",
        "    rotate_Y_90 = np.zeros_like(y_train)\n",
        "\n",
        "    for j in range(rotate_X_90.shape[0]):\n",
        "        rotate_x=np.zeros([x_train.shape[1],x_train.shape[2],10])\n",
        "        rotate_y=np.zeros([x_train.shape[1],x_train.shape[2],1])\n",
        "        for i in range(10):\n",
        "            rotate_x[:,:,i]=np.rot90(x_train[j,:,:,i])\n",
        "        rotate_y[:,:,0]=np.rot90(y_train[j,:,:,0])\n",
        "\n",
        "        rotate_X_90[j,:,:,:] = rotate_x\n",
        "        rotate_Y_90[j,:,:,:] = rotate_y\n",
        "\n",
        "    rotate_X_180 = np.zeros_like(x_train)\n",
        "    rotate_Y_180 = np.zeros_like(y_train)\n",
        "\n",
        "    for j in range(rotate_X_180.shape[0]):\n",
        "        rotate_x=np.zeros([x_train.shape[1],x_train.shape[2],10])\n",
        "        rotate_y=np.zeros([x_train.shape[1],x_train.shape[2],1])\n",
        "        for i in range(10):\n",
        "            rotate_x[:,:,i]=np.rot90(x_train[j,:,:,i])\n",
        "            rotate_x[:,:,i]=np.rot90(rotate_x[:,:,i])\n",
        "        rotate_y[:,:,0]=np.rot90(y_train[j,:,:,0])\n",
        "        rotate_y[:,:,0]=np.rot90(rotate_y[:,:,0])\n",
        "\n",
        "        rotate_X_180[j,:,:,:] = rotate_x\n",
        "        rotate_Y_180[j,:,:,:] = rotate_y\n",
        "\n",
        "    rotate_X_270 = np.zeros_like(x_train)\n",
        "    rotate_Y_270 = np.zeros_like(y_train)\n",
        "\n",
        "    #for j in range(rotate_X_270.shape[0]):\n",
        "    #    rotate_x=np.zeros([x_train.shape[1],x_train.shape[2],10])\n",
        "    #    rotate_y=np.zeros([x_train.shape[1],x_train.shape[2],1])\n",
        "    #    for i in range(10):\n",
        "    #        rotate_x[:,:,i]=np.rot90(x_train[j,:,:,i])\n",
        "    #        rotate_x[:,:,i]=np.rot90(rotate_x[:,:,i])\n",
        "    #        rotate_x[:,:,i]=np.rot90(rotate_x[:,:,i])\n",
        "    #    rotate_y[:,:,0]=np.rot90(y_train[j,:,:,0])\n",
        "    #    rotate_y[:,:,0]=np.rot90(rotate_y[:,:,0])\n",
        "    #    rotate_y[:,:,0]=np.rot90(rotate_y[:,:,0])\n",
        "\n",
        "    #    rotate_X_270[j,:,:,:] = rotate_x\n",
        "    #    rotate_Y_270[j,:,:,:] = rotate_y\n",
        "\n",
        "    x_train = np.concatenate((x_train, rotate_X_90, rotate_X_180), axis = 0)\n",
        "    y_train = np.concatenate((y_train, rotate_Y_90, rotate_Y_180), axis = 0)\n",
        "    del rotate_X_90, rotate_X_180\n",
        "\n",
        "    return x_train, y_train"
      ],
      "execution_count": 0,
      "outputs": []
    },
    {
      "cell_type": "code",
      "metadata": {
        "id": "4oTZYT3qD6YF",
        "colab_type": "code",
        "colab": {}
      },
      "source": [
        "def data_generator(x_train, y_train):\n",
        "    rotate_X_90 = np.zeros_like(x_train)\n",
        "    rotate_Y_90 = np.zeros_like(y_train)\n",
        "\n",
        "    for j in range(rotate_X_90.shape[0]):\n",
        "        rotate_x=np.zeros([x_train.shape[1],x_train.shape[2],10])\n",
        "        rotate_y=np.zeros([x_train.shape[1],x_train.shape[2],1])\n",
        "        for i in range(10):\n",
        "            rotate_x[:,:,i]=np.rot90(x_train[j,:,:,i])\n",
        "        rotate_y[:,:,0]=np.rot90(y_train[j,:,:,0])\n",
        "\n",
        "        rotate_X_90[j,:,:,:] = rotate_x\n",
        "        rotate_Y_90[j,:,:,:] = rotate_y\n",
        "\n",
        "    rotate_X_180 = np.zeros_like(x_train)\n",
        "    rotate_Y_180 = np.zeros_like(y_train)\n",
        "\n",
        "    for j in range(rotate_X_180.shape[0]):\n",
        "        rotate_x=np.zeros([x_train.shape[1],x_train.shape[2],10])\n",
        "        rotate_y=np.zeros([x_train.shape[1],x_train.shape[2],1])\n",
        "        for i in range(10):\n",
        "            rotate_x[:,:,i]=np.rot90(x_train[j,:,:,i])\n",
        "            rotate_x[:,:,i]=np.rot90(rotate_x[:,:,i])\n",
        "        rotate_y[:,:,0]=np.rot90(y_train[j,:,:,0])\n",
        "        rotate_y[:,:,0]=np.rot90(rotate_y[:,:,0])\n",
        "\n",
        "        rotate_X_180[j,:,:,:] = rotate_x\n",
        "        rotate_Y_180[j,:,:,:] = rotate_y\n",
        "\n",
        "    rotate_X_270 = np.zeros_like(x_train)\n",
        "    rotate_Y_270 = np.zeros_like(y_train)\n",
        "\n",
        "    for j in range(rotate_X_270.shape[0]):\n",
        "        rotate_x=np.zeros([x_train.shape[1],x_train.shape[2],10])\n",
        "        rotate_y=np.zeros([x_train.shape[1],x_train.shape[2],1])\n",
        "        for i in range(10):\n",
        "            rotate_x[:,:,i]=np.rot90(x_train[j,:,:,i])\n",
        "            rotate_x[:,:,i]=np.rot90(rotate_x[:,:,i])\n",
        "            rotate_x[:,:,i]=np.rot90(rotate_x[:,:,i])\n",
        "        rotate_y[:,:,0]=np.rot90(y_train[j,:,:,0])\n",
        "        rotate_y[:,:,0]=np.rot90(rotate_y[:,:,0])\n",
        "        rotate_y[:,:,0]=np.rot90(rotate_y[:,:,0])\n",
        "\n",
        "        rotate_X_270[j,:,:,:] = rotate_x\n",
        "        rotate_Y_270[j,:,:,:] = rotate_y\n",
        "\n",
        "    x_train = np.concatenate((x_train, rotate_X_90, rotate_X_180, rotate_X_270), axis = 0)\n",
        "    y_train = np.concatenate((y_train, rotate_Y_90, rotate_Y_180, rotate_Y_270), axis = 0)\n",
        "    del rotate_X_90, rotate_X_180, rotate_X_270\n",
        "\n",
        "    x_T = np.zeros_like(x_train)\n",
        "    y_T = np.zeros_like(y_train)\n",
        "\n",
        "    for i in range(x_train.shape[0]):\n",
        "        for j in range(x_train.shape[3]):\n",
        "            x_T[i,:,:,j] = x_train[i,:,:,j].T\n",
        "        y_T[i,:,:,0] = y_train[i,:,:,0].T\n",
        "\n",
        "    x_train = np.concatenate((x_train, x_T), axis = 0)\n",
        "    y_train = np.concatenate((y_train, y_T), axis = 0)\n",
        "\n",
        "    del x_T,y_T\n",
        "    \n",
        "    return x_train, y_train"
      ],
      "execution_count": 0,
      "outputs": []
    },
    {
      "cell_type": "code",
      "metadata": {
        "id": "ZeuCookfY1Mq",
        "colab_type": "code",
        "outputId": "fb203ba8-f715-4700-8b24-d696c086e70f",
        "colab": {
          "base_uri": "https://localhost:8080/",
          "height": 34
        }
      },
      "source": [
        "x_tmp = np.random.randn(100, 40, 40, 10)\n",
        "y_tmp = np.random.randn(100, 40, 40, 1)\n",
        "x_tmp, y_tmp = data_generator_half(x_tmp, y_tmp)\n",
        "x_tmp.shape, y_tmp.shape"
      ],
      "execution_count": 70,
      "outputs": [
        {
          "output_type": "execute_result",
          "data": {
            "text/plain": [
              "((300, 40, 40, 10), (300, 40, 40, 1))"
            ]
          },
          "metadata": {
            "tags": []
          },
          "execution_count": 70
        }
      ]
    },
    {
      "cell_type": "markdown",
      "metadata": {
        "id": "uhKngq6uKwy4",
        "colab_type": "text"
      },
      "source": [
        "## 평가 함수 정의"
      ]
    },
    {
      "cell_type": "code",
      "metadata": {
        "id": "OIN2b5xxKzYs",
        "colab_type": "code",
        "colab": {}
      },
      "source": [
        "def mae_over_fscore(y_true, y_pred):\n",
        "    '''\n",
        "    y_true: sample_submission.csv 형태의 실제 값\n",
        "    y_pred: sample_submission.csv 형태의 예측 값\n",
        "    '''\n",
        "    y_true = np.array(y_true)\n",
        "    y_true = y_true.reshape(1, -1)[0]  \n",
        "    \n",
        "    y_pred = np.array(y_pred)\n",
        "    y_pred = y_pred.reshape(1, -1)[0]\n",
        "\n",
        "    # 실제값이 0.1 이상인 픽셀의 위치 확인\n",
        "    IsGreaterThanEqualTo_PointOne = y_true >= 0.1\n",
        "    \n",
        "    # 실제 값에 결측값이 없는 픽셀의 위치 확인 \n",
        "    IsNotMissing = y_true >= 0\n",
        "    \n",
        "    # mae 계산\n",
        "    mae = np.mean(np.abs(y_true[IsGreaterThanEqualTo_PointOne] - y_pred[IsGreaterThanEqualTo_PointOne]))\n",
        "    \n",
        "    # f1_score 계산 위해, 실제값에 결측값이 없는 픽셀에 대해 1과 0으로 값 변환\n",
        "    y_true = np.where(y_true[IsNotMissing] >= 0.1, 1, 0)\n",
        "    y_pred = np.where(y_pred[IsNotMissing] >= 0.1, 1, 0)\n",
        "    \n",
        "    # f1_score 계산    \n",
        "    f_score = f1_score(y_true, y_pred)\n",
        "\n",
        "    # f1_score가 0일 나올 경우를 대비하여 소량의 값 (1e-07) 추가 \n",
        "    return mae / (f_score + 1e-07)"
      ],
      "execution_count": 0,
      "outputs": []
    },
    {
      "cell_type": "markdown",
      "metadata": {
        "id": "Qvc0F_fHLFIu",
        "colab_type": "text"
      },
      "source": [
        "## 손실 함수 정의"
      ]
    },
    {
      "cell_type": "code",
      "metadata": {
        "id": "I0KZN5_ILHKA",
        "colab_type": "code",
        "colab": {}
      },
      "source": [
        "def mae(y_true, y_pred):    \n",
        "    y_true, y_pred = np.array(y_true), np.array(y_pred)\n",
        "    y_true = y_true.reshape(1, -1)[0]\n",
        "    y_pred = y_pred.reshape(1, -1)[0]\n",
        "    over_threshold = y_true >= 0.1\n",
        "    return np.mean(np.abs(y_true[over_threshold] - y_pred[over_threshold]))\n",
        "\n",
        "def fscore(y_true, y_pred):\n",
        "    y_true, y_pred = np.array(y_true), np.array(y_pred)\n",
        "    y_true = y_true.reshape(1, -1)[0]\n",
        "    y_pred = y_pred.reshape(1, -1)[0]\n",
        "    remove_NAs = y_true >= 0\n",
        "    y_true = np.where(y_true[remove_NAs] >= 0.1, 1, 0)\n",
        "    y_pred = np.where(y_pred[remove_NAs] >= 0.1, 1, 0)\n",
        "    return(f1_score(y_true, y_pred))\n",
        "\n",
        "def maeOverFscore(y_true, y_pred):\n",
        "    return mae(y_true, y_pred) / (fscore(y_true, y_pred) + 1e-07)\n",
        "\n",
        "def fscore_keras(y_true, y_pred):\n",
        "    score = tf.py_function(func=fscore, inp=[y_true, y_pred], Tout=tf.float32, name='fscore_keras')\n",
        "    return score\n",
        "\n",
        "def maeOverFscore_keras(y_true, y_pred):\n",
        "    score = tf.py_function(func=maeOverFscore, inp=[y_true, y_pred], Tout=tf.float32,  name='custom_mse') \n",
        "    return score"
      ],
      "execution_count": 0,
      "outputs": []
    },
    {
      "cell_type": "markdown",
      "metadata": {
        "id": "bTyHRnYoLQFX",
        "colab_type": "text"
      },
      "source": [
        "## 모델 설계 및 학습\n",
        "강수량을 예측할 지점에서 멀리 있는 데이터일수록 영향이 적어져 풀링 레이어가 결과 예측에 방해가 될 것으로 판단.  \n",
        "Convolution과 residual block만으로 모델 설계."
      ]
    },
    {
      "cell_type": "code",
      "metadata": {
        "id": "jVIzvsu3Lbv3",
        "colab_type": "code",
        "colab": {}
      },
      "source": [
        "def create_model():\n",
        "    inputs=Input((40, 40, 10))\n",
        "    \n",
        "    bn=BatchNormalization()(inputs)\n",
        "    conv0=Conv2D(256, kernel_size=1, strides=1, padding='same', activation='relu')(bn)\n",
        "    \n",
        "    bn=BatchNormalization()(conv0)\n",
        "    conv=Conv2D(128, kernel_size=2, strides=1, padding='same', activation='relu')(bn)\n",
        "    concat=concatenate([conv0, conv], axis=3)\n",
        "    \n",
        "    bn=BatchNormalization()(concat)\n",
        "    conv=Conv2D(64, kernel_size=3, strides=1, padding='same', activation='relu')(bn)\n",
        "    concat=concatenate([concat, conv], axis=3)\n",
        "        \n",
        "    for i in range(5):\n",
        "        bn=BatchNormalization()(concat)\n",
        "        conv=Conv2D(32, kernel_size=3, strides=1, padding='same', activation='relu')(bn)\n",
        "        concat=concatenate([concat, conv], axis=3)\n",
        "    \n",
        "    bn=BatchNormalization()(concat)\n",
        "    outputs=Conv2D(1, kernel_size=1, strides=1, padding='same', activation='relu')(bn)\n",
        "    \n",
        "    model=Model(inputs=inputs, outputs=outputs)\n",
        "    \n",
        "    return model"
      ],
      "execution_count": 0,
      "outputs": []
    },
    {
      "cell_type": "code",
      "metadata": {
        "id": "0SHf1voMcDrW",
        "colab_type": "code",
        "colab": {}
      },
      "source": [
        "model = create_model()"
      ],
      "execution_count": 0,
      "outputs": []
    },
    {
      "cell_type": "code",
      "metadata": {
        "id": "BMpQUnepcNAm",
        "colab_type": "code",
        "colab": {}
      },
      "source": [
        "model.compile(loss=\"mae\", optimizer=\"adam\", metrics=[maeOverFscore_keras, fscore_keras])"
      ],
      "execution_count": 0,
      "outputs": []
    },
    {
      "cell_type": "markdown",
      "metadata": {
        "id": "ah90Jv3Vcpnt",
        "colab_type": "text"
      },
      "source": [
        "## 훈련"
      ]
    },
    {
      "cell_type": "code",
      "metadata": {
        "id": "7zcfPmCcdHI9",
        "colab_type": "code",
        "colab": {
          "base_uri": "https://localhost:8080/",
          "height": 34
        },
        "outputId": "977fb7b4-0afa-4f9c-b245-c80130b04ce3"
      },
      "source": [
        "train = np.concatenate([x_train, y_train], axis=3)\n",
        "train.shape # 0~9채널, target"
      ],
      "execution_count": 53,
      "outputs": [
        {
          "output_type": "execute_result",
          "data": {
            "text/plain": [
              "(30594, 40, 40, 11)"
            ]
          },
          "metadata": {
            "tags": []
          },
          "execution_count": 53
        }
      ]
    },
    {
      "cell_type": "code",
      "metadata": {
        "id": "WeNH2obQYvq2",
        "colab_type": "code",
        "colab": {}
      },
      "source": [
        "from sklearn.model_selection import KFold\n",
        "kf = KFold(n_splits=5, shuffle = True)\n",
        "model_history = []\n",
        "fold_number = 0\n",
        "\n",
        "for train_index, test_index in kf.split(train):\n",
        "    print(f'\\nFold {fold_number}')\n",
        "    fold_number = fold_number + 1\n",
        "    \n",
        "    def trainGenerator():\n",
        "        for file in train[train_index]:\n",
        "            target= file[:,:,-1].reshape(40,40,1)\n",
        "            cutoff_labels = np.where(target < 0, 0, target)\n",
        "            feature = file[:,:,:10]\n",
        "            if (cutoff_labels > 0).sum() < 50:\n",
        "                continue\n",
        "            yield (feature, cutoff_labels)\n",
        "    train_dataset = tf.data.Dataset.from_generator(trainGenerator,\n",
        "                                                (tf.float32, tf.float32),\n",
        "                                                (tf.TensorShape([40,40,10]),\n",
        "                                                    tf.TensorShape([40,40,1])))\n",
        "    \n",
        "    train_dataset = train_dataset.batch(32).prefetch(1) # batch size: 512 -> 32\n",
        "\n",
        "    def testGenerator():\n",
        "        for file in train[test_index]:\n",
        "            target= file[:,:,-1].reshape(40,40,1)\n",
        "            cutoff_labels = np.where(target < 0, 0, target)\n",
        "            feature = file[:,:,:10]\n",
        "            if (cutoff_labels > 0).sum() < 50:\n",
        "                continue\n",
        "            yield (feature, cutoff_labels)\n",
        "    test_dataset = tf.data.Dataset.from_generator(testGenerator,\n",
        "                                                (tf.float32, tf.float32),\n",
        "                                                (tf.TensorShape([40,40,10]),\n",
        "                                                    tf.TensorShape([40,40,1])))\n",
        "    test_size = len(test_index)\n",
        "    test_dataset = test_dataset.batch(32).prefetch(1) # batch size: test_size -> 32\n",
        "\n",
        "    callbacks_list = [\n",
        "                tf.keras.callbacks.ReduceLROnPlateau(\n",
        "                    monitor='val_loss',\n",
        "                    patience=3,\n",
        "                    factor=0.8\n",
        "                ),\n",
        "\n",
        "                tf.keras.callbacks.ModelCheckpoint(\n",
        "                    filepath = '/content/drive/My Drive/2020 Kaggle Study/model/model_new_'+str(fold_number)+'.h5',\n",
        "                    monitor='val_maeOverFscore_keras',\n",
        "                    save_best_only=True\n",
        "                )\n",
        "            ]\n",
        "\n",
        "    history = model.fit(train_dataset, epochs = 10, verbose=1, validation_data = test_dataset, callbacks=callbacks_list)\n",
        "\n",
        "    model_history.append(history)\n",
        "    #del data\n",
        "    del train_dataset\n",
        "    del test_dataset\n",
        "    gc.collect()"
      ],
      "execution_count": 0,
      "outputs": []
    },
    {
      "cell_type": "code",
      "metadata": {
        "id": "YYveeVo9c5Wq",
        "colab_type": "code",
        "colab": {}
      },
      "source": [
        ""
      ],
      "execution_count": 0,
      "outputs": []
    },
    {
      "cell_type": "code",
      "metadata": {
        "id": "aFepOWe2c5ZX",
        "colab_type": "code",
        "colab": {}
      },
      "source": [
        ""
      ],
      "execution_count": 0,
      "outputs": []
    },
    {
      "cell_type": "code",
      "metadata": {
        "id": "ARn_oiXyc5bh",
        "colab_type": "code",
        "colab": {}
      },
      "source": [
        ""
      ],
      "execution_count": 0,
      "outputs": []
    },
    {
      "cell_type": "code",
      "metadata": {
        "id": "MECZhZJ-c5d8",
        "colab_type": "code",
        "colab": {}
      },
      "source": [
        ""
      ],
      "execution_count": 0,
      "outputs": []
    },
    {
      "cell_type": "markdown",
      "metadata": {
        "id": "DfgArnefVK7A",
        "colab_type": "text"
      },
      "source": [
        "## 가채점"
      ]
    },
    {
      "cell_type": "code",
      "metadata": {
        "id": "Ia9oTAf0Pf3M",
        "colab_type": "code",
        "colab": {}
      },
      "source": [
        "preds = []\n",
        "for model in models:\n",
        "    preds.append(model.predict(x_test))\n",
        "    print(mae_over_fscore(y_test, preds[-1]))\n",
        "\n",
        "pred = sum(preds)/len(preds)\n",
        "print('합산 예측 점수:', mae_over_fscore(y_test, pred))"
      ],
      "execution_count": 0,
      "outputs": []
    },
    {
      "cell_type": "markdown",
      "metadata": {
        "id": "WKOCUIpwVf57",
        "colab_type": "text"
      },
      "source": [
        "## Submission"
      ]
    },
    {
      "cell_type": "code",
      "metadata": {
        "id": "el3xGTbmVhyz",
        "colab_type": "code",
        "colab": {}
      },
      "source": [
        "submission.iloc[:,1:] = pred.reshape(-1,1600)\n",
        "submission"
      ],
      "execution_count": 0,
      "outputs": []
    },
    {
      "cell_type": "code",
      "metadata": {
        "id": "pknLD0XlVvDN",
        "colab_type": "code",
        "colab": {}
      },
      "source": [
        "submission.to_csv('/content/drive/My Drive/2020 Kaggle Study/submission/submission.csv', index=False)"
      ],
      "execution_count": 0,
      "outputs": []
    }
  ]
}