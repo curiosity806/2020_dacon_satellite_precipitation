{
  "nbformat": 4,
  "nbformat_minor": 0,
  "metadata": {
    "colab": {
      "name": "Dacon_satellite_baseline",
      "provenance": [],
      "machine_shape": "hm",
      "include_colab_link": true
    },
    "kernelspec": {
      "name": "python3",
      "display_name": "Python 3"
    },
    "accelerator": "GPU"
  },
  "cells": [
    {
      "cell_type": "markdown",
      "metadata": {
        "id": "view-in-github",
        "colab_type": "text"
      },
      "source": [
        "<a href=\"https://colab.research.google.com/github/curiosity806/2020_dacon_satellite_precipitation/blob/long-epochs/Dacon_satellite_baseline.ipynb\" target=\"_parent\"><img src=\"https://colab.research.google.com/assets/colab-badge.svg\" alt=\"Open In Colab\"/></a>"
      ]
    },
    {
      "cell_type": "markdown",
      "metadata": {
        "id": "XsaIvLKHsjva",
        "colab_type": "text"
      },
      "source": [
        "## Import"
      ]
    },
    {
      "cell_type": "code",
      "metadata": {
        "id": "oi-MWY4HOblX",
        "colab_type": "code",
        "outputId": "d962befe-15c2-46af-8d6d-ddbf3c480677",
        "colab": {
          "base_uri": "https://localhost:8080/",
          "height": 121
        }
      },
      "source": [
        "from google.colab import drive\n",
        "drive.mount('/content/drive')"
      ],
      "execution_count": 1,
      "outputs": [
        {
          "output_type": "stream",
          "text": [
            "Go to this URL in a browser: https://accounts.google.com/o/oauth2/auth?client_id=947318989803-6bn6qk8qdgf4n4g3pfee6491hc0brc4i.apps.googleusercontent.com&redirect_uri=urn%3aietf%3awg%3aoauth%3a2.0%3aoob&response_type=code&scope=email%20https%3a%2f%2fwww.googleapis.com%2fauth%2fdocs.test%20https%3a%2f%2fwww.googleapis.com%2fauth%2fdrive%20https%3a%2f%2fwww.googleapis.com%2fauth%2fdrive.photos.readonly%20https%3a%2f%2fwww.googleapis.com%2fauth%2fpeopleapi.readonly\n",
            "\n",
            "Enter your authorization code:\n",
            "··········\n",
            "Mounted at /content/drive\n"
          ],
          "name": "stdout"
        }
      ]
    },
    {
      "cell_type": "code",
      "metadata": {
        "id": "h6La-zpczGzY",
        "colab_type": "code",
        "colab": {}
      },
      "source": [
        "import pandas as pd\n",
        "import numpy as np\n",
        "import random\n",
        "import sys\n",
        "import tensorflow as tf\n",
        "from tensorflow.keras.layers import Conv2D, Conv2DTranspose, Dropout, MaxPooling2D, BatchNormalization, concatenate, Input\n",
        "from tensorflow.keras import Model"
      ],
      "execution_count": 0,
      "outputs": []
    },
    {
      "cell_type": "code",
      "metadata": {
        "id": "bKjP-Uobze5P",
        "colab_type": "code",
        "colab": {}
      },
      "source": [
        "# 재생산성을 위해 시드 고정\n",
        "np.random.seed(7)\n",
        "random.seed(7)\n",
        "tf.random.set_seed(7)"
      ],
      "execution_count": 0,
      "outputs": []
    },
    {
      "cell_type": "markdown",
      "metadata": {
        "id": "0pUOc4bq-IrZ",
        "colab_type": "text"
      },
      "source": [
        "## 데이터 받아오기"
      ]
    },
    {
      "cell_type": "code",
      "metadata": {
        "id": "q1iW93kj0O2u",
        "colab_type": "code",
        "colab": {}
      },
      "source": [
        "import os.path\n",
        "\n",
        "if not os.path.isfile('train.npy'):\n",
        "    !cp '/content/drive/My Drive/2020 Kaggle Study/data/train.npy' train.npy\n",
        "if not os.path.isfile('test.npy'): \n",
        "    !cp '/content/drive/My Drive/2020 Kaggle Study/data/test.npy' test.npy\n",
        "if not os.path.isfile('gmi_preci.npy'):\n",
        "    !cp '/content/drive/My Drive/2020 Kaggle Study/data/gmi_preci.npy' gmi_preci.npy\n",
        "\n",
        "train = np.load('train.npy')  # float32\n",
        "test = np.load('test.npy')  # float64\n",
        "gmi_preci = np.load('gmi_preci.npy')  # float32"
      ],
      "execution_count": 0,
      "outputs": []
    },
    {
      "cell_type": "code",
      "metadata": {
        "id": "Zdf3I-l9fJny",
        "colab_type": "code",
        "colab": {}
      },
      "source": [
        "gmi_preci = np.load('/content/drive/My Drive/2020 Kaggle Study/data/gmi_preci.npy')  # float32"
      ],
      "execution_count": 0,
      "outputs": []
    },
    {
      "cell_type": "markdown",
      "metadata": {
        "id": "MbBPp8ebseqp",
        "colab_type": "text"
      },
      "source": [
        "## Data preprocess"
      ]
    },
    {
      "cell_type": "code",
      "metadata": {
        "id": "UCpO8Eenso9k",
        "colab_type": "code",
        "colab": {}
      },
      "source": [
        "# -9999를 포함한 이미지 제거\n",
        "is_valid = (train[:,:,:,-1].reshape(-1, 1600) < 0).sum(axis=1) == 0\n",
        "train = train[is_valid]  # (75957, 40, 40, 15)\n",
        "gmi_preci = gmi_preci[is_valid]  # (75957, 40, 40, 1)"
      ],
      "execution_count": 0,
      "outputs": []
    },
    {
      "cell_type": "code",
      "metadata": {
        "id": "U3Gcx_uZv8xW",
        "colab_type": "code",
        "colab": {}
      },
      "source": [
        "from sklearn.preprocessing import StandardScaler\n",
        "scaler = StandardScaler()\n",
        "scaler.fit(train[:,:,:,:9].reshape(-1, 9))\n",
        "\n",
        "def preprocess(data):\n",
        "    # Normalize sensor data\n",
        "    data[:,:,:,:9] = scaler.transform(data[:,:,:,:9].reshape(-1, 9)).reshape(-1, 40, 40, 9)\n",
        "\n",
        "    # Land type\n",
        "    land_type_data = data[:,:,:,9]\n",
        "    data[:,:,:,9] = np.where(land_type_data//100 == 2, 0.8,\n",
        "                              np.where(land_type_data//100 == 3, 0.1,\n",
        "                                       land_type_data//100))\n",
        "\n",
        "    return data"
      ],
      "execution_count": 0,
      "outputs": []
    },
    {
      "cell_type": "code",
      "metadata": {
        "id": "jGj-ULPdRw4f",
        "colab_type": "code",
        "colab": {}
      },
      "source": [
        "x_train = preprocess(train)[:,:,:,:10]\n",
        "y_train = gmi_preci.reshape(-1, 40, 40)\n",
        "del train"
      ],
      "execution_count": 0,
      "outputs": []
    },
    {
      "cell_type": "markdown",
      "metadata": {
        "id": "P-S9OXyd9K-a",
        "colab_type": "text"
      },
      "source": [
        "## Train test split"
      ]
    },
    {
      "cell_type": "code",
      "metadata": {
        "id": "zsowKWD39Qsi",
        "colab_type": "code",
        "colab": {}
      },
      "source": [
        "from sklearn.model_selection import train_test_split\n",
        "x_train, x_val, y_train, y_val = train_test_split(x_train, y_train, test_size=0.025, random_state=7777)"
      ],
      "execution_count": 0,
      "outputs": []
    },
    {
      "cell_type": "markdown",
      "metadata": {
        "colab_type": "text",
        "id": "pYZYG3G-Itsk"
      },
      "source": [
        "## 모델만들기"
      ]
    },
    {
      "cell_type": "code",
      "metadata": {
        "id": "i_NhbS4s09p_",
        "colab_type": "code",
        "colab": {}
      },
      "source": [
        "from sklearn.metrics import f1_score\n",
        "\n",
        "def mae(y_true, y_pred) :\n",
        "    y_true, y_pred = np.array(y_true), np.array(y_pred)\n",
        "    y_true = y_true.reshape(1, -1)[0]\n",
        "    y_pred = y_pred.reshape(1, -1)[0]\n",
        "    over_threshold = y_true >= 0.1\n",
        "    return np.mean(np.abs(y_true[over_threshold] - y_pred[over_threshold]))\n",
        "\n",
        "def fscore(y_true, y_pred):\n",
        "    y_true, y_pred = np.array(y_true), np.array(y_pred)\n",
        "    y_true = y_true.reshape(1, -1)[0]\n",
        "    y_pred = y_pred.reshape(1, -1)[0]\n",
        "    remove_NAs = y_true >= 0\n",
        "    y_true = np.where(y_true[remove_NAs] >= 0.1, 1, 0)\n",
        "    y_pred = np.where(y_pred[remove_NAs] >= 0.1, 1, 0)\n",
        "    return(f1_score(y_true, y_pred))\n",
        "\n",
        "def maeOverFscore(y_true, y_pred):\n",
        "    return mae(y_true, y_pred) / (fscore(y_true, y_pred) + 1e-07)\n",
        "\n",
        "def fscore_keras(y_true, y_pred):\n",
        "    score = tf.py_function(func=fscore, inp=[y_true, y_pred], Tout=tf.float32, name='fscore_keras')\n",
        "    return score\n",
        "\n",
        "def maeOverFscore_keras(y_true, y_pred):\n",
        "    score = tf.py_function(func=maeOverFscore, inp=[y_true, y_pred], Tout=tf.float32,  name='custom_mse') \n",
        "    return score"
      ],
      "execution_count": 0,
      "outputs": []
    },
    {
      "cell_type": "code",
      "metadata": {
        "id": "3vBZ09E8JZpC",
        "colab_type": "code",
        "colab": {}
      },
      "source": [
        "def build_model(input_layer, start_neurons):\n",
        "    # 40 x 40 -> 20 x 20\n",
        "    conv1 = Conv2D(start_neurons * 1, (3, 3), activation=\"relu\", padding=\"same\")(input_layer)\n",
        "    conv1 = Conv2D(start_neurons * 1, (3, 3), activation=\"relu\", padding=\"same\")(conv1)\n",
        "    pool1 = BatchNormalization()(conv1)\n",
        "    pool1 = MaxPooling2D((2, 2))(pool1)\n",
        "    pool1 = Dropout(0.25)(pool1)\n",
        "\n",
        "    # 20 x 20 -> 10 x 10\n",
        "    conv2 = Conv2D(start_neurons * 2, (3, 3), activation=\"relu\", padding=\"same\")(pool1)\n",
        "    conv2 = Conv2D(start_neurons * 2, (3, 3), activation=\"relu\", padding=\"same\")(conv2)\n",
        "    pool2 = BatchNormalization()(conv2)\n",
        "    pool2 = MaxPooling2D((2, 2))(pool2)\n",
        "    pool2 = Dropout(0.25)(pool2)\n",
        "\n",
        "    # 10 x 10 \n",
        "    convm = Conv2D(start_neurons * 4, (3, 3), activation=\"relu\", padding=\"same\")(pool2)\n",
        "\n",
        "    # 10 x 10 -> 20 x 20\n",
        "    deconv2 = Conv2DTranspose(start_neurons * 2, (3, 3), strides=(2, 2), padding=\"same\")(convm)\n",
        "    uconv2 = concatenate([deconv2, conv2])\n",
        "    uconv2 = Dropout(0.25)(uconv2)\n",
        "    uconv2 = Conv2D(start_neurons * 2, (3, 3), activation=\"relu\", padding=\"same\")(uconv2)\n",
        "    uconv2 = Conv2D(start_neurons * 2, (3, 3), activation=\"relu\", padding=\"same\")(uconv2)\n",
        "    uconv2 = BatchNormalization()(uconv2)\n",
        "\n",
        "    # 20 x 20 -> 40 x 40\n",
        "    deconv1 = Conv2DTranspose(start_neurons * 1, (3, 3), strides=(2, 2), padding=\"same\")(uconv2)\n",
        "    uconv1 = concatenate([deconv1, conv1])\n",
        "    uconv1 = Dropout(0.25)(uconv1)\n",
        "    uconv1 = Conv2D(start_neurons * 1, (3, 3), activation=\"relu\", padding=\"same\")(uconv1)\n",
        "    uconv1 = Conv2D(start_neurons * 1, (3, 3), activation=\"relu\", padding=\"same\")(uconv1)\n",
        "    uconv1 = BatchNormalization()(uconv1)\n",
        "    uconv1 = Dropout(0.25)(uconv1)\n",
        "    output_layer = Conv2D(1, (1, 1), padding=\"same\", activation='relu')(uconv1)\n",
        "\n",
        "    return output_layer\n",
        "\n",
        "input_layer = Input((40, 40, 10))\n",
        "output_layer = build_model(input_layer, 32)"
      ],
      "execution_count": 0,
      "outputs": []
    },
    {
      "cell_type": "code",
      "metadata": {
        "id": "Sv7Hk_LM1DNf",
        "colab_type": "code",
        "colab": {}
      },
      "source": [
        "model = Model(input_layer, output_layer)\n",
        "model.compile(loss=\"mae\", optimizer=\"adam\", metrics=[maeOverFscore_keras, fscore_keras])"
      ],
      "execution_count": 0,
      "outputs": []
    },
    {
      "cell_type": "markdown",
      "metadata": {
        "colab_type": "text",
        "id": "nWrybUnXIts7"
      },
      "source": [
        "## 모델 학습"
      ]
    },
    {
      "cell_type": "code",
      "metadata": {
        "id": "jLaFxud8iNXy",
        "colab_type": "code",
        "outputId": "48443b43-f55f-48f4-de2e-ad0af36a2389",
        "colab": {
          "base_uri": "https://localhost:8080/",
          "height": 1000
        }
      },
      "source": [
        "model.fit(x_train, y_train, epochs=50, batch_size=256, validation_data=(x_val, y_val))"
      ],
      "execution_count": 0,
      "outputs": [
        {
          "output_type": "stream",
          "text": [
            "Epoch 1/50\n",
            "290/290 [==============================] - 83s 285ms/step - loss: 0.1242 - maeOverFscore_keras: 2.9955 - fscore_keras: 0.5581 - val_loss: 0.1174 - val_maeOverFscore_keras: 2.5568 - val_fscore_keras: 0.5912\n",
            "Epoch 2/50\n",
            "290/290 [==============================] - 82s 281ms/step - loss: 0.1016 - maeOverFscore_keras: 1.8959 - fscore_keras: 0.6728 - val_loss: 0.1044 - val_maeOverFscore_keras: 1.9462 - val_fscore_keras: 0.6796\n",
            "Epoch 3/50\n",
            "290/290 [==============================] - 83s 285ms/step - loss: 0.0975 - maeOverFscore_keras: 1.7347 - fscore_keras: 0.7017 - val_loss: 0.1000 - val_maeOverFscore_keras: 1.7553 - val_fscore_keras: 0.7163\n",
            "Epoch 4/50\n",
            "290/290 [==============================] - 83s 285ms/step - loss: 0.0953 - maeOverFscore_keras: 1.6732 - fscore_keras: 0.7132 - val_loss: 0.0970 - val_maeOverFscore_keras: 1.6135 - val_fscore_keras: 0.7399\n",
            "Epoch 5/50\n",
            "290/290 [==============================] - 81s 279ms/step - loss: 0.0936 - maeOverFscore_keras: 1.6130 - fscore_keras: 0.7221 - val_loss: 0.0955 - val_maeOverFscore_keras: 1.6769 - val_fscore_keras: 0.7197\n",
            "Epoch 6/50\n",
            "290/290 [==============================] - 83s 287ms/step - loss: 0.0921 - maeOverFscore_keras: 1.5684 - fscore_keras: 0.7315 - val_loss: 0.0936 - val_maeOverFscore_keras: 1.5698 - val_fscore_keras: 0.7455\n",
            "Epoch 7/50\n",
            "290/290 [==============================] - 83s 287ms/step - loss: 0.0927 - maeOverFscore_keras: 1.5921 - fscore_keras: 0.7262 - val_loss: 0.0942 - val_maeOverFscore_keras: 1.5891 - val_fscore_keras: 0.7433\n",
            "Epoch 8/50\n",
            "290/290 [==============================] - 84s 290ms/step - loss: 0.0906 - maeOverFscore_keras: 1.5299 - fscore_keras: 0.7382 - val_loss: 0.0927 - val_maeOverFscore_keras: 1.5556 - val_fscore_keras: 0.7452\n",
            "Epoch 9/50\n",
            "290/290 [==============================] - 84s 289ms/step - loss: 0.0899 - maeOverFscore_keras: 1.5088 - fscore_keras: 0.7419 - val_loss: 0.0934 - val_maeOverFscore_keras: 1.6256 - val_fscore_keras: 0.7256\n",
            "Epoch 10/50\n",
            "290/290 [==============================] - 84s 290ms/step - loss: 0.0921 - maeOverFscore_keras: 1.6080 - fscore_keras: 0.7201 - val_loss: 0.0974 - val_maeOverFscore_keras: 1.7630 - val_fscore_keras: 0.6985\n",
            "Epoch 11/50\n",
            "290/290 [==============================] - 84s 290ms/step - loss: 0.0910 - maeOverFscore_keras: 1.5484 - fscore_keras: 0.7330 - val_loss: 0.0926 - val_maeOverFscore_keras: 1.5516 - val_fscore_keras: 0.7502\n",
            "Epoch 12/50\n",
            "290/290 [==============================] - 84s 291ms/step - loss: 0.0893 - maeOverFscore_keras: 1.4892 - fscore_keras: 0.7453 - val_loss: 0.0927 - val_maeOverFscore_keras: 1.6002 - val_fscore_keras: 0.7325\n",
            "Epoch 13/50\n",
            "290/290 [==============================] - 83s 288ms/step - loss: 0.0887 - maeOverFscore_keras: 1.4728 - fscore_keras: 0.7483 - val_loss: 0.0907 - val_maeOverFscore_keras: 1.5155 - val_fscore_keras: 0.7520\n",
            "Epoch 14/50\n",
            "290/290 [==============================] - 85s 292ms/step - loss: 0.0879 - maeOverFscore_keras: 1.4521 - fscore_keras: 0.7526 - val_loss: 0.0927 - val_maeOverFscore_keras: 1.5478 - val_fscore_keras: 0.7522\n",
            "Epoch 15/50\n",
            "290/290 [==============================] - 85s 292ms/step - loss: 0.0881 - maeOverFscore_keras: 1.4575 - fscore_keras: 0.7522 - val_loss: 0.0912 - val_maeOverFscore_keras: 1.5092 - val_fscore_keras: 0.7577\n",
            "Epoch 16/50\n",
            "290/290 [==============================] - 84s 289ms/step - loss: 0.0885 - maeOverFscore_keras: 1.4810 - fscore_keras: 0.7453 - val_loss: 0.0950 - val_maeOverFscore_keras: 1.6274 - val_fscore_keras: 0.7289\n",
            "Epoch 17/50\n",
            "290/290 [==============================] - 84s 290ms/step - loss: 0.0885 - maeOverFscore_keras: 1.4786 - fscore_keras: 0.7461 - val_loss: 0.0924 - val_maeOverFscore_keras: 1.5230 - val_fscore_keras: 0.7600\n",
            "Epoch 18/50\n",
            "290/290 [==============================] - 84s 289ms/step - loss: 0.0870 - maeOverFscore_keras: 1.4305 - fscore_keras: 0.7561 - val_loss: 0.0899 - val_maeOverFscore_keras: 1.4796 - val_fscore_keras: 0.7603\n",
            "Epoch 19/50\n",
            "290/290 [==============================] - 83s 288ms/step - loss: 0.0867 - maeOverFscore_keras: 1.4225 - fscore_keras: 0.7586 - val_loss: 0.0913 - val_maeOverFscore_keras: 1.5236 - val_fscore_keras: 0.7521\n",
            "Epoch 20/50\n",
            "290/290 [==============================] - 84s 290ms/step - loss: 0.0867 - maeOverFscore_keras: 1.4220 - fscore_keras: 0.7576 - val_loss: 0.0900 - val_maeOverFscore_keras: 1.4883 - val_fscore_keras: 0.7582\n",
            "Epoch 21/50\n",
            "290/290 [==============================] - 85s 291ms/step - loss: 0.0863 - maeOverFscore_keras: 1.4112 - fscore_keras: 0.7590 - val_loss: 0.0938 - val_maeOverFscore_keras: 1.5691 - val_fscore_keras: 0.7513\n",
            "Epoch 22/50\n",
            "290/290 [==============================] - 84s 290ms/step - loss: 0.0863 - maeOverFscore_keras: 1.4083 - fscore_keras: 0.7612 - val_loss: 0.0915 - val_maeOverFscore_keras: 1.5305 - val_fscore_keras: 0.7516\n",
            "Epoch 23/50\n",
            "290/290 [==============================] - 82s 282ms/step - loss: 0.0857 - maeOverFscore_keras: 1.3995 - fscore_keras: 0.7622 - val_loss: 0.0889 - val_maeOverFscore_keras: 1.4379 - val_fscore_keras: 0.7691\n",
            "Epoch 24/50\n",
            "290/290 [==============================] - 84s 290ms/step - loss: 0.0856 - maeOverFscore_keras: 1.3971 - fscore_keras: 0.7621 - val_loss: 0.0890 - val_maeOverFscore_keras: 1.4653 - val_fscore_keras: 0.7607\n",
            "Epoch 25/50\n",
            "290/290 [==============================] - 84s 290ms/step - loss: 0.0858 - maeOverFscore_keras: 1.4004 - fscore_keras: 0.7631 - val_loss: 0.0890 - val_maeOverFscore_keras: 1.4633 - val_fscore_keras: 0.7614\n",
            "Epoch 26/50\n",
            "290/290 [==============================] - 84s 288ms/step - loss: 0.0854 - maeOverFscore_keras: 1.3883 - fscore_keras: 0.7636 - val_loss: 0.0913 - val_maeOverFscore_keras: 1.5071 - val_fscore_keras: 0.7623\n",
            "Epoch 27/50\n",
            "290/290 [==============================] - 83s 288ms/step - loss: 0.0853 - maeOverFscore_keras: 1.3865 - fscore_keras: 0.7646 - val_loss: 0.0885 - val_maeOverFscore_keras: 1.4428 - val_fscore_keras: 0.7652\n",
            "Epoch 28/50\n",
            "290/290 [==============================] - 84s 289ms/step - loss: 0.0848 - maeOverFscore_keras: 1.3741 - fscore_keras: 0.7661 - val_loss: 0.0901 - val_maeOverFscore_keras: 1.4688 - val_fscore_keras: 0.7655\n",
            "Epoch 29/50\n",
            "290/290 [==============================] - 84s 290ms/step - loss: 0.0847 - maeOverFscore_keras: 1.3749 - fscore_keras: 0.7666 - val_loss: 0.0882 - val_maeOverFscore_keras: 1.4260 - val_fscore_keras: 0.7672\n",
            "Epoch 30/50\n",
            "222/290 [=====================>........] - ETA: 19s - loss: 0.0853 - maeOverFscore_keras: 1.3812 - fscore_keras: 0.7644"
          ],
          "name": "stdout"
        }
      ]
    },
    {
      "cell_type": "code",
      "metadata": {
        "id": "HoowuSxyZgLH",
        "colab_type": "code",
        "colab": {}
      },
      "source": [
        "## 모델 저장하기\n",
        "model.save('model1901.h5')\n",
        "!cp model1901.h5 '/content/drive/My Drive/2020 Kaggle Study/model'"
      ],
      "execution_count": 0,
      "outputs": []
    },
    {
      "cell_type": "markdown",
      "metadata": {
        "id": "LjmLe8t7j8cN",
        "colab_type": "text"
      },
      "source": [
        "## Precipatation GMI -> DPR"
      ]
    },
    {
      "cell_type": "code",
      "metadata": {
        "id": "zyTSFuEGkEd4",
        "colab_type": "code",
        "colab": {}
      },
      "source": [
        "dr = [(-1, -1), (-1, 0), (-1, 1),\n",
        "      (0, -1), (0, 0), (0, 1),\n",
        "      (1, -1), (1, 0), (1, 1)]\n",
        "\n",
        "# p1, p2: shape=(-1, 2).\n",
        "def get_dist(p1, p2):\n",
        "    x1 = np.deg2rad(p1[:,0])\n",
        "    y1 = np.deg2rad(p1[:,1])\n",
        "    x2 = np.deg2rad(p2[:,0])\n",
        "    y2 = np.deg2rad(p2[:,1])\n",
        "    dlon = x2 - x1\n",
        "    dlat = y2 - y1\n",
        "    a = np.sin(dlat/2)**2 + np.cos(y1) * np.cos(y2) * np.sin(dlon/2)**2 \n",
        "    c = 2 * np.arctan2(np.sqrt(a), np.sqrt(1-a))    \n",
        "    return 6373.0 * c  # km, shape=(-1).\n",
        "\n",
        "# ori_ll에서의 value 값을 tgt_ll에 대한 값으로 바꾼다.\n",
        "# value: (40, 40, -1)\n",
        "# ori_ll, tgt_ll: (40, 40, 2)\n",
        "# ori_ll: value에 대응되는 원래 latitude, longitude.\n",
        "# tgt_ll: 변환되는 값에 대응되는 latitude, longitude.\n",
        "def compen_ll(value, ori_ll, tgt_ll):\n",
        "    ret = np.empty_like(value)\n",
        "\n",
        "    n = value.shape[0]\n",
        "    m = value.shape[1]\n",
        "\n",
        "    for i in range(n):\n",
        "        for j in range(m):\n",
        "            nears = []  # (row, col, value)\n",
        "            for k in range(9):\n",
        "                ii = i + dr[k][0]\n",
        "                jj = j + dr[k][1]\n",
        "                if ii >= 0 and ii < n and jj >= 0 and jj < m:\n",
        "                    nears.append((ori_ll[ii, jj][0], ori_ll[ii, jj][1],\n",
        "                                  tgt_ll[i, j][0], tgt_ll[i, j][1],\n",
        "                                  value[ii, jj]))\n",
        "\n",
        "            nears = np.array(nears)  # shape=(-1, 5)\n",
        "            dists = get_dist(nears[:, 0:2], nears[:, 2:4]).reshape(-1, 1)\n",
        "            values = nears[:, 4].reshape(-1, 1)\n",
        "            nears = np.concatenate((dists, values), 1)\n",
        "            nears = nears[np.argsort(nears[:, 0])]  # sort by dist\n",
        "            nears = nears[:4, :]  # 가까운 점 4개만 고려\n",
        "\n",
        "            weights = 1 / (nears[:, 0] ** 2 + sys.float_info.epsilon)\n",
        "            weighted_sum = (weights * nears[:, 1]).sum()\n",
        "            ret[i, j] = weighted_sum / weights.sum()\n",
        "    return ret"
      ],
      "execution_count": 0,
      "outputs": []
    },
    {
      "cell_type": "code",
      "metadata": {
        "id": "gG9A32a6qyyc",
        "colab_type": "code",
        "colab": {}
      },
      "source": [
        "x_test = preprocess(test)\n",
        "pred = model.predict(x_test[:,:,:,:10]).reshape(-1, 40, 40, 1)\n",
        "test = np.concatenate((x_test, pred), axis=3)"
      ],
      "execution_count": 0,
      "outputs": []
    },
    {
      "cell_type": "code",
      "metadata": {
        "id": "fSTjD9TqqRXm",
        "colab_type": "code",
        "colab": {}
      },
      "source": [
        "from multiprocessing import Process, Manager\n",
        "\n",
        "n_procs = 4\n",
        "procs = []\n",
        "manager = Manager()\n",
        "dpr_preci = manager.list([None] * n_procs)\n",
        "\n",
        "# split test into n_procs arrays\n",
        "n_imgs = test.shape[0]\n",
        "splitted = np.split(test, np.arange((n_imgs + n_procs - 1) // n_procs, n_imgs, n_imgs // n_procs))\n",
        "\n",
        "def proc_func(proc_id):\n",
        "    part = splitted[proc_id]\n",
        "    arr = np.empty_like(part[:, :, :, 14])  # shape=(-1, 40, 40)\n",
        "    for i in range(part.shape[0]):\n",
        "        arr[i, :, :] = compen_ll(part[i, :, :, 14],\n",
        "                                 part[i, :, :, 12:14],\n",
        "                                 part[i, :, :, 10:12])\n",
        "        if (i + 1) % 1000 == 0:\n",
        "            print(proc_id, i + 1)\n",
        "    dpr_preci[proc_id] = arr\n",
        "\n",
        "for proc_id in range(n_procs):\n",
        "    proc = Process(target=proc_func, args=(proc_id, ))\n",
        "    proc.start()\n",
        "    procs.append(proc)\n",
        "\n",
        "for proc in procs:\n",
        "    proc.join()\n",
        "\n",
        "dpr_preci = np.concatenate(dpr_preci)"
      ],
      "execution_count": 0,
      "outputs": []
    },
    {
      "cell_type": "markdown",
      "metadata": {
        "colab_type": "text",
        "id": "2xM7q7FpIttP"
      },
      "source": [
        "## submission 만들기"
      ]
    },
    {
      "cell_type": "code",
      "metadata": {
        "colab_type": "code",
        "id": "BaAuaIqhh_z3",
        "colab": {}
      },
      "source": [
        "submission = pd.read_csv('/content/drive/My Drive/2020 Kaggle Study/data/sample_submission.csv')\n",
        "submission.iloc[:,1:] = dpr_preci.reshape(-1, 1600)"
      ],
      "execution_count": 0,
      "outputs": []
    },
    {
      "cell_type": "code",
      "metadata": {
        "colab_type": "code",
        "id": "9fBTzEKnh_0B",
        "colab": {}
      },
      "source": [
        "# 제출 파일 저장하기\n",
        "submission.to_csv('submission1901.csv', index=False)\n",
        "!cp submission1901.csv '/content/drive/My Drive/2020 Kaggle Study/submission'"
      ],
      "execution_count": 0,
      "outputs": []
    }
  ]
}