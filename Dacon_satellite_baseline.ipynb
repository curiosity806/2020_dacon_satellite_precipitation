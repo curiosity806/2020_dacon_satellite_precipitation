{
  "nbformat": 4,
  "nbformat_minor": 0,
  "metadata": {
    "colab": {
      "name": "Dacon_satellite_baseline",
      "provenance": [],
      "machine_shape": "hm",
      "mount_file_id": "https://github.com/curiosity806/2020_dacon_satellite_precipitation/blob/master/Dacon_satellite_baseline.ipynb",
      "authorship_tag": "ABX9TyOgle8O2WGJvV3tQiSIq+cS",
      "include_colab_link": true
    },
    "kernelspec": {
      "name": "python3",
      "display_name": "Python 3"
    },
    "accelerator": "GPU"
  },
  "cells": [
    {
      "cell_type": "markdown",
      "metadata": {
        "id": "view-in-github",
        "colab_type": "text"
      },
      "source": [
        "<a href=\"https://colab.research.google.com/github/curiosity806/2020_dacon_satellite_precipitation/blob/deagwon/Dacon_satellite_baseline.ipynb\" target=\"_parent\"><img src=\"https://colab.research.google.com/assets/colab-badge.svg\" alt=\"Open In Colab\"/></a>"
      ]
    },
    {
      "cell_type": "code",
      "metadata": {
        "id": "oi-MWY4HOblX",
        "colab_type": "code",
        "colab": {}
      },
      "source": [
        "from google.colab import drive\n",
        "drive.mount('/content/drive')"
      ],
      "execution_count": 0,
      "outputs": []
    },
    {
      "cell_type": "code",
      "metadata": {
        "id": "h6La-zpczGzY",
        "colab_type": "code",
        "colab": {}
      },
      "source": [
        "import glob\n",
        "import pandas as pd\n",
        "import numpy as np\n",
        "import matplotlib.pylab as plt\n",
        "import seaborn as sns\n",
        "from tqdm import tqdm\n",
        "import matplotlib.pyplot as plt\n",
        "import tensorflow as tf\n",
        "import os\n",
        "import random\n",
        "from tensorflow.keras.layers import Dense, Conv2D, Dropout, Conv2DTranspose, MaxPooling2D, BatchNormalization, Activation, concatenate, Input, GlobalAveragePooling2D\n",
        "from tensorflow.keras import Model\n",
        "import warnings\n",
        "import gc\n",
        " \n",
        "warnings.filterwarnings(\"ignore\")"
      ],
      "execution_count": 0,
      "outputs": []
    },
    {
      "cell_type": "code",
      "metadata": {
        "id": "ihaRksAgzLvo",
        "colab_type": "code",
        "colab": {}
      },
      "source": [
        "tf.__version__"
      ],
      "execution_count": 0,
      "outputs": []
    },
    {
      "cell_type": "markdown",
      "metadata": {
        "id": "0pUOc4bq-IrZ",
        "colab_type": "text"
      },
      "source": [
        "## 데이터 받아오기"
      ]
    },
    {
      "cell_type": "code",
      "metadata": {
        "id": "q1iW93kj0O2u",
        "colab_type": "code",
        "colab": {}
      },
      "source": [
        "# 훈련 데이터 및 자가 test데이터 불러오기\n",
        "train = np.load('/content/drive/My Drive/2020 Kaggle Study/data/32bits_data/train_32bits.npy')\n",
        "test = np.load('/content/drive/My Drive/2020 Kaggle Study/data/32bits_data/test_32bits.npy')\n",
        "# 테스트 데이터 받아오기\n",
        "test_submit = np.load('/content/drive/My Drive/2020 Kaggle Study/data/test.npy')"
      ],
      "execution_count": 0,
      "outputs": []
    },
    {
      "cell_type": "code",
      "metadata": {
        "id": "bKjP-Uobze5P",
        "colab_type": "code",
        "colab": {}
      },
      "source": [
        "# 재생산성을 위해 시드 고정\n",
        "np.random.seed(7)\n",
        "random.seed(7)\n",
        "tf.random.set_seed(7)"
      ],
      "execution_count": 0,
      "outputs": []
    },
    {
      "cell_type": "code",
      "metadata": {
        "id": "oJLsfwrT0K17",
        "colab_type": "code",
        "colab": {}
      },
      "source": [
        "# 훈련에서 사용하는 0~8번 채널만을 뽑아서 X_test에 저장하기\n",
        "X_test = test_submit[:,:,:,:9]\n",
        "del test_submit\n",
        "gc.collect()"
      ],
      "execution_count": 0,
      "outputs": []
    },
    {
      "cell_type": "markdown",
      "metadata": {
        "id": "uMpTBwjJpgZY",
        "colab_type": "text"
      },
      "source": [
        "## 시각화 하기"
      ]
    },
    {
      "cell_type": "code",
      "metadata": {
        "id": "mAJ8hTQP0fcn",
        "colab_type": "code",
        "colab": {}
      },
      "source": [
        "import seaborn as sns"
      ],
      "execution_count": 0,
      "outputs": []
    },
    {
      "cell_type": "code",
      "metadata": {
        "id": "8rGYq0da0qzD",
        "colab_type": "code",
        "colab": {}
      },
      "source": [
        "color_map = plt.cm.get_cmap('RdBu')\n",
        "color_map = color_map.reversed()"
      ],
      "execution_count": 0,
      "outputs": []
    },
    {
      "cell_type": "code",
      "metadata": {
        "id": "rbwztmtr0rC_",
        "colab_type": "code",
        "colab": {}
      },
      "source": [
        "image_sample = train[0]"
      ],
      "execution_count": 0,
      "outputs": []
    },
    {
      "cell_type": "code",
      "metadata": {
        "id": "DD_KYjp80vC4",
        "colab_type": "code",
        "colab": {}
      },
      "source": [
        "plt.style.use('fivethirtyeight')\n",
        "plt.figure(figsize=(10, 5))\n",
        "\n",
        "for i in range(9):\n",
        "    plt.subplot(2,5,i+1)\n",
        "    plt.imshow(image_sample[:, :, i], cmap=color_map)\n",
        "\n",
        "plt.subplot(2,5,10)\n",
        "plt.imshow(image_sample[:,:,-1], cmap = color_map)\n",
        "plt.show()"
      ],
      "execution_count": 0,
      "outputs": []
    },
    {
      "cell_type": "code",
      "metadata": {
        "id": "Lasr0kku06z9",
        "colab_type": "code",
        "colab": {}
      },
      "source": [
        ""
      ],
      "execution_count": 0,
      "outputs": []
    },
    {
      "cell_type": "code",
      "metadata": {
        "id": "hhuPoju109hB",
        "colab_type": "code",
        "colab": {}
      },
      "source": [
        ""
      ],
      "execution_count": 0,
      "outputs": []
    },
    {
      "cell_type": "code",
      "metadata": {
        "id": "LpCW_hd_09jN",
        "colab_type": "code",
        "colab": {}
      },
      "source": [
        ""
      ],
      "execution_count": 0,
      "outputs": []
    },
    {
      "cell_type": "markdown",
      "metadata": {
        "id": "cLnC_WkipE8_",
        "colab_type": "text"
      },
      "source": [
        "## 모델만들기"
      ]
    },
    {
      "cell_type": "code",
      "metadata": {
        "id": "C0wWXJKu09ld",
        "colab_type": "code",
        "colab": {}
      },
      "source": [
        "def build_model(input_layer, start_neurons):\n",
        "    \n",
        "    # 40 x 40 -> 20 x 20\n",
        "    conv1 = Conv2D(start_neurons * 1, (3, 3), activation=\"relu\", padding=\"same\")(input_layer)\n",
        "    conv1 = Conv2D(start_neurons * 1, (3, 3), activation=\"relu\", padding=\"same\")(conv1)\n",
        "    pool1 = BatchNormalization()(conv1)\n",
        "    pool1 = MaxPooling2D((2, 2))(pool1)\n",
        "    pool1 = Dropout(0.25)(pool1)\n",
        "\n",
        "    # 20 x 20 -> 10 x 10\n",
        "    conv2 = Conv2D(start_neurons * 2, (3, 3), activation=\"relu\", padding=\"same\")(pool1)\n",
        "    conv2 = Conv2D(start_neurons * 2, (3, 3), activation=\"relu\", padding=\"same\")(conv2)\n",
        "    pool2 = BatchNormalization()(conv2)\n",
        "    pool2 = MaxPooling2D((2, 2))(pool2)\n",
        "    pool2 = Dropout(0.25)(pool2)\n",
        "\n",
        "    # 10 x 10 \n",
        "    convm = Conv2D(start_neurons * 4, (3, 3), activation=\"relu\", padding=\"same\")(pool2)\n",
        "\n",
        "    # 10 x 10 -> 20 x 20\n",
        "    deconv2 = Conv2DTranspose(start_neurons * 2, (3, 3), strides=(2, 2), padding=\"same\")(convm)\n",
        "    uconv2 = concatenate([deconv2, conv2])\n",
        "    uconv2 = Dropout(0.25)(uconv2)\n",
        "    uconv2 = Conv2D(start_neurons * 2, (3, 3), activation=\"relu\", padding=\"same\")(uconv2)\n",
        "    uconv2 = Conv2D(start_neurons * 2, (3, 3), activation=\"relu\", padding=\"same\")(uconv2)\n",
        "    uconv2 = BatchNormalization()(uconv2)\n",
        "\n",
        "    # 20 x 20 -> 40 x 40\n",
        "    deconv1 = Conv2DTranspose(start_neurons * 1, (3, 3), strides=(2, 2), padding=\"same\")(uconv2)\n",
        "    uconv1 = concatenate([deconv1, conv1])\n",
        "    uconv1 = Dropout(0.25)(uconv1)\n",
        "    uconv1 = Conv2D(start_neurons * 1, (3, 3), activation=\"relu\", padding=\"same\")(uconv1)\n",
        "    uconv1 = Conv2D(start_neurons * 1, (3, 3), activation=\"relu\", padding=\"same\")(uconv1)\n",
        "    uconv1 = BatchNormalization()(uconv1)\n",
        "    uconv1 = Dropout(0.25)(uconv1)\n",
        "    output_layer = Conv2D(1, (1,1), padding=\"same\", activation='relu')(uconv1)\n",
        "    \n",
        "    return output_layer\n",
        "\n",
        "input_layer = Input((40, 40, 9))\n",
        "output_layer = build_model(input_layer, 32)"
      ],
      "execution_count": 0,
      "outputs": []
    },
    {
      "cell_type": "code",
      "metadata": {
        "id": "OqMt4p1N09nx",
        "colab_type": "code",
        "colab": {}
      },
      "source": [
        "model = Model(input_layer, output_layer)"
      ],
      "execution_count": 0,
      "outputs": []
    },
    {
      "cell_type": "code",
      "metadata": {
        "id": "i_NhbS4s09p_",
        "colab_type": "code",
        "colab": {}
      },
      "source": [
        "from sklearn.metrics import f1_score\n",
        "\n",
        "def mae(y_true, y_pred) :\n",
        "    \n",
        "    y_true, y_pred = np.array(y_true), np.array(y_pred)\n",
        "    \n",
        "    y_true = y_true.reshape(1, -1)[0]\n",
        "    \n",
        "    y_pred = y_pred.reshape(1, -1)[0]\n",
        "    \n",
        "    over_threshold = y_true >= 0.1\n",
        "    \n",
        "    return np.mean(np.abs(y_true[over_threshold] - y_pred[over_threshold]))\n",
        "\n",
        "def fscore(y_true, y_pred):\n",
        "    \n",
        "    y_true, y_pred = np.array(y_true), np.array(y_pred)\n",
        "    \n",
        "    y_true = y_true.reshape(1, -1)[0]\n",
        "    \n",
        "    y_pred = y_pred.reshape(1, -1)[0]\n",
        "    \n",
        "    remove_NAs = y_true >= 0\n",
        "    \n",
        "    y_true = np.where(y_true[remove_NAs] >= 0.1, 1, 0)\n",
        "    \n",
        "    y_pred = np.where(y_pred[remove_NAs] >= 0.1, 1, 0)\n",
        "    \n",
        "    return(f1_score(y_true, y_pred))\n",
        "\n",
        "def maeOverFscore(y_true, y_pred):\n",
        "    \n",
        "    return mae(y_true, y_pred) / (fscore(y_true, y_pred) + 1e-07)\n",
        "\n",
        "def fscore_keras(y_true, y_pred):\n",
        "    score = tf.py_function(func=fscore, inp=[y_true, y_pred], Tout=tf.float32, name='fscore_keras')\n",
        "    return score\n",
        "\n",
        "def maeOverFscore_keras(y_true, y_pred):\n",
        "    score = tf.py_function(func=maeOverFscore, inp=[y_true, y_pred], Tout=tf.float32,  name='custom_mse') \n",
        "    return score"
      ],
      "execution_count": 0,
      "outputs": []
    },
    {
      "cell_type": "code",
      "metadata": {
        "id": "Sv7Hk_LM1DNf",
        "colab_type": "code",
        "colab": {}
      },
      "source": [
        "model.compile(loss=\"mae\", optimizer=\"adam\", metrics=[maeOverFscore_keras, fscore_keras])"
      ],
      "execution_count": 0,
      "outputs": []
    },
    {
      "cell_type": "markdown",
      "metadata": {
        "id": "xlkCVaXIpMOy",
        "colab_type": "text"
      },
      "source": [
        "## 데이터 제네레이터 만들기"
      ]
    },
    {
      "cell_type": "code",
      "metadata": {
        "id": "eanJjoGPoQTD",
        "colab_type": "code",
        "colab": {}
      },
      "source": [
        "def trainGenerator(data):\n",
        "    for file in data:\n",
        "        \n",
        "        target= file[:,:,-1].reshape(40,40,1)\n",
        "        cutoff_labels = np.where(target < 0, 0, target)\n",
        "\n",
        "        feature = file[:,:,:9]\n",
        "        \n",
        "        if (cutoff_labels > 0).sum() < 50:\n",
        "            continue\n",
        "        yield (feature, cutoff_labels)\n",
        "\n",
        "\n",
        "class MultiOutputDataGenerator(tf.keras.preprocessing.image.ImageDataGenerator):\n",
        "\n",
        "    def flow(self,\n",
        "             x,\n",
        "             y=None,\n",
        "             batch_size=256,\n",
        "             shuffle=False,\n",
        "             sample_weight=None,\n",
        "             seed=None,\n",
        "             save_to_dir=None,\n",
        "             save_prefix='',\n",
        "             save_format='png',\n",
        "             subset=None):\n",
        "\n",
        "        targets = None       \n",
        "        for flow_data in super().flow(x, batch_size=batch_size,\n",
        "                                         shuffle=shuffle):\n",
        "            target= flow_data[:,:,:,-1].reshape(-1,40,40,1)\n",
        "            cutoff_labels = np.where(target < 0, 0, target)\n",
        "\n",
        "            feature = flow_data[:,:,:,:9]\n",
        "            \n",
        "            if (cutoff_labels > 0).sum() < 50:\n",
        "                continue\n",
        "            yield (feature, cutoff_labels)"
      ],
      "execution_count": 0,
      "outputs": []
    },
    {
      "cell_type": "code",
      "metadata": {
        "id": "WMEo6ysuDotO",
        "colab_type": "code",
        "colab": {
          "base_uri": "https://localhost:8080/",
          "height": 1000
        },
        "outputId": "46c6e20c-0699-450c-cbb2-81ac92e1b09e"
      },
      "source": [
        "datagen = MultiOutputDataGenerator()\n",
        "datagen.fit(train)\n",
        "history = model.fit_generator(datagen.flow(train),steps_per_epoch = train.shape[0] // 256, epochs = 20, verbose=0)"
      ],
      "execution_count": 37,
      "outputs": [
        {
          "output_type": "stream",
          "text": [
            "(256, 40, 40, 15)\n",
            "Epoch 1/20\n",
            "(256, 40, 40, 15)\n",
            "  1/268 [..............................] - ETA: 0s - loss: 0.1338 - maeOverFscore_keras: 3.3739 - fscore_keras: 0.5418(256, 40, 40, 15)\n",
            "  2/268 [..............................] - ETA: 45s - loss: 0.1379 - maeOverFscore_keras: 3.4695 - fscore_keras: 0.5399(256, 40, 40, 15)\n",
            "  3/268 [..............................] - ETA: 59s - loss: 0.1417 - maeOverFscore_keras: 3.7738 - fscore_keras: 0.5283(256, 40, 40, 15)\n",
            "  4/268 [..............................] - ETA: 1:06 - loss: 0.1366 - maeOverFscore_keras: 3.7343 - fscore_keras: 0.5246(256, 40, 40, 15)\n",
            "  5/268 [..............................] - ETA: 1:10 - loss: 0.1429 - maeOverFscore_keras: 3.7780 - fscore_keras: 0.5252(256, 40, 40, 15)\n",
            "  6/268 [..............................] - ETA: 1:12 - loss: 0.1364 - maeOverFscore_keras: 3.6518 - fscore_keras: 0.5263(256, 40, 40, 15)\n",
            "  7/268 [..............................] - ETA: 1:14 - loss: 0.1332 - maeOverFscore_keras: 3.6011 - fscore_keras: 0.5338(256, 40, 40, 15)\n",
            "  8/268 [..............................] - ETA: 1:16 - loss: 0.1333 - maeOverFscore_keras: 3.6161 - fscore_keras: 0.5319(256, 40, 40, 15)\n",
            "  9/268 [>.............................] - ETA: 1:16 - loss: 0.1313 - maeOverFscore_keras: 3.5670 - fscore_keras: 0.5286(256, 40, 40, 15)\n",
            " 10/268 [>.............................] - ETA: 1:16 - loss: 0.1301 - maeOverFscore_keras: 3.5588 - fscore_keras: 0.5285(256, 40, 40, 15)\n",
            " 11/268 [>.............................] - ETA: 1:17 - loss: 0.1316 - maeOverFscore_keras: 3.6008 - fscore_keras: 0.5243(256, 40, 40, 15)\n",
            " 12/268 [>.............................] - ETA: 1:17 - loss: 0.1297 - maeOverFscore_keras: 3.5834 - fscore_keras: 0.5232(256, 40, 40, 15)\n",
            " 13/268 [>.............................] - ETA: 1:17 - loss: 0.1275 - maeOverFscore_keras: 3.5587 - fscore_keras: 0.5209(256, 40, 40, 15)\n",
            " 14/268 [>.............................] - ETA: 1:17 - loss: 0.1246 - maeOverFscore_keras: 3.4872 - fscore_keras: 0.5227(256, 40, 40, 15)\n",
            " 15/268 [>.............................] - ETA: 1:17 - loss: 0.1228 - maeOverFscore_keras: 3.5324 - fscore_keras: 0.5151(256, 40, 40, 15)\n",
            " 16/268 [>.............................] - ETA: 1:17 - loss: 0.1236 - maeOverFscore_keras: 3.5337 - fscore_keras: 0.5153(256, 40, 40, 15)\n",
            " 17/268 [>.............................] - ETA: 1:17 - loss: 0.1227 - maeOverFscore_keras: 3.4974 - fscore_keras: 0.5157(256, 40, 40, 15)\n",
            " 18/268 [=>............................] - ETA: 1:17 - loss: 0.1247 - maeOverFscore_keras: 3.5076 - fscore_keras: 0.5188(256, 40, 40, 15)\n",
            " 19/268 [=>............................] - ETA: 1:17 - loss: 0.1241 - maeOverFscore_keras: 3.5416 - fscore_keras: 0.5170(256, 40, 40, 15)\n",
            " 20/268 [=>............................] - ETA: 1:17 - loss: 0.1232 - maeOverFscore_keras: 3.5712 - fscore_keras: 0.5127(256, 40, 40, 15)\n",
            " 21/268 [=>............................] - ETA: 1:17 - loss: 0.1223 - maeOverFscore_keras: 3.5464 - fscore_keras: 0.5129(256, 40, 40, 15)\n",
            " 22/268 [=>............................] - ETA: 1:17 - loss: 0.1216 - maeOverFscore_keras: 3.5223 - fscore_keras: 0.5148(256, 40, 40, 15)\n",
            " 23/268 [=>............................] - ETA: 1:17 - loss: 0.1221 - maeOverFscore_keras: 3.5318 - fscore_keras: 0.5147(256, 40, 40, 15)\n",
            " 24/268 [=>............................] - ETA: 1:17 - loss: 0.1217 - maeOverFscore_keras: 3.5147 - fscore_keras: 0.5148(256, 40, 40, 15)\n",
            " 25/268 [=>............................] - ETA: 1:16 - loss: 0.1218 - maeOverFscore_keras: 3.5197 - fscore_keras: 0.5150(256, 40, 40, 15)\n",
            " 26/268 [=>............................] - ETA: 1:16 - loss: 0.1221 - maeOverFscore_keras: 3.5048 - fscore_keras: 0.5167(256, 40, 40, 15)\n",
            " 27/268 [==>...........................] - ETA: 1:16 - loss: 0.1218 - maeOverFscore_keras: 3.4999 - fscore_keras: 0.5151(256, 40, 40, 15)\n",
            " 28/268 [==>...........................] - ETA: 1:16 - loss: 0.1209 - maeOverFscore_keras: 3.4873 - fscore_keras: 0.5148(256, 40, 40, 15)\n",
            " 29/268 [==>...........................] - ETA: 1:16 - loss: 0.1203 - maeOverFscore_keras: 3.5025 - fscore_keras: 0.5134(256, 40, 40, 15)\n",
            " 30/268 [==>...........................] - ETA: 1:15 - loss: 0.1194 - maeOverFscore_keras: 3.5027 - fscore_keras: 0.5132(256, 40, 40, 15)\n",
            " 31/268 [==>...........................] - ETA: 1:15 - loss: 0.1203 - maeOverFscore_keras: 3.5137 - fscore_keras: 0.5152(256, 40, 40, 15)\n",
            " 32/268 [==>...........................] - ETA: 1:15 - loss: 0.1205 - maeOverFscore_keras: 3.5301 - fscore_keras: 0.5146(256, 40, 40, 15)\n",
            " 33/268 [==>...........................] - ETA: 1:15 - loss: 0.1200 - maeOverFscore_keras: 3.5171 - fscore_keras: 0.5151(256, 40, 40, 15)\n",
            " 34/268 [==>...........................] - ETA: 1:14 - loss: 0.1200 - maeOverFscore_keras: 3.5261 - fscore_keras: 0.5140(256, 40, 40, 15)\n",
            " 35/268 [==>...........................] - ETA: 1:14 - loss: 0.1201 - maeOverFscore_keras: 3.5318 - fscore_keras: 0.5152(256, 40, 40, 15)\n",
            " 36/268 [===>..........................] - ETA: 1:14 - loss: 0.1196 - maeOverFscore_keras: 3.5143 - fscore_keras: 0.5168(256, 40, 40, 15)\n",
            " 37/268 [===>..........................] - ETA: 1:13 - loss: 0.1191 - maeOverFscore_keras: 3.5158 - fscore_keras: 0.5153(256, 40, 40, 15)\n",
            " 38/268 [===>..........................] - ETA: 1:13 - loss: 0.1187 - maeOverFscore_keras: 3.5206 - fscore_keras: 0.5126(256, 40, 40, 15)\n",
            " 39/268 [===>..........................] - ETA: 1:13 - loss: 0.1185 - maeOverFscore_keras: 3.5252 - fscore_keras: 0.5106(256, 40, 40, 15)\n",
            " 40/268 [===>..........................] - ETA: 1:13 - loss: 0.1180 - maeOverFscore_keras: 3.5199 - fscore_keras: 0.5089(256, 40, 40, 15)\n",
            " 41/268 [===>..........................] - ETA: 1:13 - loss: 0.1179 - maeOverFscore_keras: 3.5163 - fscore_keras: 0.5071(256, 40, 40, 15)\n",
            " 42/268 [===>..........................] - ETA: 1:12 - loss: 0.1186 - maeOverFscore_keras: 3.5418 - fscore_keras: 0.5067(256, 40, 40, 15)\n",
            " 43/268 [===>..........................] - ETA: 1:12 - loss: 0.1186 - maeOverFscore_keras: 3.5258 - fscore_keras: 0.5079(256, 40, 40, 15)\n",
            " 44/268 [===>..........................] - ETA: 1:12 - loss: 0.1187 - maeOverFscore_keras: 3.5145 - fscore_keras: 0.5098(256, 40, 40, 15)\n",
            " 45/268 [====>.........................] - ETA: 1:11 - loss: 0.1189 - maeOverFscore_keras: 3.5098 - fscore_keras: 0.5112(256, 40, 40, 15)\n",
            " 46/268 [====>.........................] - ETA: 1:11 - loss: 0.1191 - maeOverFscore_keras: 3.5031 - fscore_keras: 0.5120(256, 40, 40, 15)\n",
            " 47/268 [====>.........................] - ETA: 1:11 - loss: 0.1185 - maeOverFscore_keras: 3.5124 - fscore_keras: 0.5109(256, 40, 40, 15)\n",
            " 48/268 [====>.........................] - ETA: 1:11 - loss: 0.1186 - maeOverFscore_keras: 3.5088 - fscore_keras: 0.5100(256, 40, 40, 15)\n",
            " 49/268 [====>.........................] - ETA: 1:11 - loss: 0.1185 - maeOverFscore_keras: 3.5065 - fscore_keras: 0.5097(256, 40, 40, 15)\n",
            " 50/268 [====>.........................] - ETA: 1:11 - loss: 0.1184 - maeOverFscore_keras: 3.4990 - fscore_keras: 0.5104(256, 40, 40, 15)\n",
            " 51/268 [====>.........................] - ETA: 1:11 - loss: 0.1191 - maeOverFscore_keras: 3.5027 - fscore_keras: 0.5118(256, 40, 40, 15)\n",
            " 52/268 [====>.........................] - ETA: 1:10 - loss: 0.1193 - maeOverFscore_keras: 3.5219 - fscore_keras: 0.5107(256, 40, 40, 15)\n",
            " 53/268 [====>.........................] - ETA: 1:10 - loss: 0.1194 - maeOverFscore_keras: 3.5237 - fscore_keras: 0.5097(256, 40, 40, 15)\n",
            " 54/268 [=====>........................] - ETA: 1:10 - loss: 0.1193 - maeOverFscore_keras: 3.5329 - fscore_keras: 0.5084(256, 40, 40, 15)\n",
            " 55/268 [=====>........................] - ETA: 1:09 - loss: 0.1198 - maeOverFscore_keras: 3.5278 - fscore_keras: 0.5093(256, 40, 40, 15)\n",
            " 56/268 [=====>........................] - ETA: 1:09 - loss: 0.1210 - maeOverFscore_keras: 3.5389 - fscore_keras: 0.5104(256, 40, 40, 15)\n",
            " 57/268 [=====>........................] - ETA: 1:09 - loss: 0.1206 - maeOverFscore_keras: 3.5290 - fscore_keras: 0.5108(256, 40, 40, 15)\n",
            " 58/268 [=====>........................] - ETA: 1:08 - loss: 0.1207 - maeOverFscore_keras: 3.5260 - fscore_keras: 0.5114(256, 40, 40, 15)\n",
            " 59/268 [=====>........................] - ETA: 1:08 - loss: 0.1205 - maeOverFscore_keras: 3.5245 - fscore_keras: 0.5105(256, 40, 40, 15)\n",
            " 60/268 [=====>........................] - ETA: 1:08 - loss: 0.1215 - maeOverFscore_keras: 3.5408 - fscore_keras: 0.5113(256, 40, 40, 15)\n",
            " 61/268 [=====>........................] - ETA: 1:08 - loss: 0.1208 - maeOverFscore_keras: 3.5299 - fscore_keras: 0.5104(256, 40, 40, 15)\n",
            " 62/268 [=====>........................] - ETA: 1:07 - loss: 0.1208 - maeOverFscore_keras: 3.5267 - fscore_keras: 0.5106(256, 40, 40, 15)\n",
            " 63/268 [======>.......................] - ETA: 1:07 - loss: 0.1206 - maeOverFscore_keras: 3.5261 - fscore_keras: 0.5110(256, 40, 40, 15)\n",
            " 64/268 [======>.......................] - ETA: 1:07 - loss: 0.1205 - maeOverFscore_keras: 3.5256 - fscore_keras: 0.5108(256, 40, 40, 15)\n",
            " 65/268 [======>.......................] - ETA: 1:06 - loss: 0.1214 - maeOverFscore_keras: 3.5285 - fscore_keras: 0.5114(256, 40, 40, 15)\n",
            " 66/268 [======>.......................] - ETA: 1:06 - loss: 0.1222 - maeOverFscore_keras: 3.5290 - fscore_keras: 0.5121(256, 40, 40, 15)\n",
            " 67/268 [======>.......................] - ETA: 1:06 - loss: 0.1223 - maeOverFscore_keras: 3.5247 - fscore_keras: 0.5124(256, 40, 40, 15)\n",
            " 68/268 [======>.......................] - ETA: 1:05 - loss: 0.1218 - maeOverFscore_keras: 3.5195 - fscore_keras: 0.5126(256, 40, 40, 15)\n",
            " 69/268 [======>.......................] - ETA: 1:05 - loss: 0.1219 - maeOverFscore_keras: 3.5145 - fscore_keras: 0.5130(256, 40, 40, 15)\n",
            " 70/268 [======>.......................] - ETA: 1:05 - loss: 0.1222 - maeOverFscore_keras: 3.5160 - fscore_keras: 0.5135(256, 40, 40, 15)\n",
            " 71/268 [======>.......................] - ETA: 1:04 - loss: 0.1222 - maeOverFscore_keras: 3.5107 - fscore_keras: 0.5139(256, 40, 40, 15)\n",
            " 72/268 [=======>......................] - ETA: 1:04 - loss: 0.1221 - maeOverFscore_keras: 3.5042 - fscore_keras: 0.5140(256, 40, 40, 15)\n",
            " 73/268 [=======>......................] - ETA: 1:03 - loss: 0.1220 - maeOverFscore_keras: 3.5001 - fscore_keras: 0.5145(256, 40, 40, 15)\n",
            " 74/268 [=======>......................] - ETA: 1:03 - loss: 0.1219 - maeOverFscore_keras: 3.4924 - fscore_keras: 0.5150(256, 40, 40, 15)\n",
            " 75/268 [=======>......................] - ETA: 1:03 - loss: 0.1219 - maeOverFscore_keras: 3.4857 - fscore_keras: 0.5162(256, 40, 40, 15)\n",
            " 76/268 [=======>......................] - ETA: 1:02 - loss: 0.1222 - maeOverFscore_keras: 3.4882 - fscore_keras: 0.5169(256, 40, 40, 15)\n",
            " 77/268 [=======>......................] - ETA: 1:02 - loss: 0.1221 - maeOverFscore_keras: 3.4827 - fscore_keras: 0.5173(256, 40, 40, 15)\n",
            " 78/268 [=======>......................] - ETA: 1:02 - loss: 0.1219 - maeOverFscore_keras: 3.4777 - fscore_keras: 0.5170(256, 40, 40, 15)\n",
            " 79/268 [=======>......................] - ETA: 1:01 - loss: 0.1219 - maeOverFscore_keras: 3.4734 - fscore_keras: 0.5174(256, 40, 40, 15)\n",
            " 80/268 [=======>......................] - ETA: 1:01 - loss: 0.1214 - maeOverFscore_keras: 3.4654 - fscore_keras: 0.5169(256, 40, 40, 15)\n",
            " 81/268 [========>.....................] - ETA: 1:01 - loss: 0.1217 - maeOverFscore_keras: 3.4626 - fscore_keras: 0.5177(256, 40, 40, 15)\n",
            " 82/268 [========>.....................] - ETA: 1:00 - loss: 0.1213 - maeOverFscore_keras: 3.4539 - fscore_keras: 0.5179(256, 40, 40, 15)\n",
            " 83/268 [========>.....................] - ETA: 1:00 - loss: 0.1212 - maeOverFscore_keras: 3.4527 - fscore_keras: 0.5179(256, 40, 40, 15)\n",
            " 84/268 [========>.....................] - ETA: 1:00 - loss: 0.1211 - maeOverFscore_keras: 3.4517 - fscore_keras: 0.5179(256, 40, 40, 15)\n",
            " 85/268 [========>.....................] - ETA: 59s - loss: 0.1216 - maeOverFscore_keras: 3.4497 - fscore_keras: 0.5198 (256, 40, 40, 15)\n",
            " 86/268 [========>.....................] - ETA: 59s - loss: 0.1212 - maeOverFscore_keras: 3.4484 - fscore_keras: 0.5191(256, 40, 40, 15)\n",
            " 87/268 [========>.....................] - ETA: 59s - loss: 0.1211 - maeOverFscore_keras: 3.4494 - fscore_keras: 0.5185(256, 40, 40, 15)\n",
            " 88/268 [========>.....................] - ETA: 58s - loss: 0.1212 - maeOverFscore_keras: 3.4541 - fscore_keras: 0.5186(256, 40, 40, 15)\n",
            " 89/268 [========>.....................] - ETA: 58s - loss: 0.1210 - maeOverFscore_keras: 3.4481 - fscore_keras: 0.5181(256, 40, 40, 15)\n",
            " 90/268 [=========>....................] - ETA: 58s - loss: 0.1212 - maeOverFscore_keras: 3.4498 - fscore_keras: 0.5184(256, 40, 40, 15)\n",
            " 91/268 [=========>....................] - ETA: 57s - loss: 0.1215 - maeOverFscore_keras: 3.4458 - fscore_keras: 0.5191(256, 40, 40, 15)\n",
            " 92/268 [=========>....................] - ETA: 57s - loss: 0.1212 - maeOverFscore_keras: 3.4395 - fscore_keras: 0.5186(256, 40, 40, 15)\n",
            " 93/268 [=========>....................] - ETA: 57s - loss: 0.1216 - maeOverFscore_keras: 3.4411 - fscore_keras: 0.5187(256, 40, 40, 15)\n",
            " 94/268 [=========>....................] - ETA: 56s - loss: 0.1213 - maeOverFscore_keras: 3.4393 - fscore_keras: 0.5181(256, 40, 40, 15)\n",
            " 95/268 [=========>....................] - ETA: 56s - loss: 0.1215 - maeOverFscore_keras: 3.4380 - fscore_keras: 0.5184(256, 40, 40, 15)\n",
            " 96/268 [=========>....................] - ETA: 56s - loss: 0.1210 - maeOverFscore_keras: 3.4349 - fscore_keras: 0.5179(256, 40, 40, 15)\n",
            " 97/268 [=========>....................] - ETA: 55s - loss: 0.1211 - maeOverFscore_keras: 3.4470 - fscore_keras: 0.5176(256, 40, 40, 15)\n",
            " 98/268 [=========>....................] - ETA: 55s - loss: 0.1210 - maeOverFscore_keras: 3.4574 - fscore_keras: 0.5161(256, 40, 40, 15)\n",
            " 99/268 [==========>...................] - ETA: 55s - loss: 0.1210 - maeOverFscore_keras: 3.4574 - fscore_keras: 0.5161(256, 40, 40, 15)\n",
            "100/268 [==========>...................] - ETA: 54s - loss: 0.1210 - maeOverFscore_keras: 3.4671 - fscore_keras: 0.5155(256, 40, 40, 15)\n",
            "101/268 [==========>...................] - ETA: 54s - loss: 0.1210 - maeOverFscore_keras: 3.4665 - fscore_keras: 0.5154(256, 40, 40, 15)\n",
            "102/268 [==========>...................] - ETA: 53s - loss: 0.1210 - maeOverFscore_keras: 3.4670 - fscore_keras: 0.5154(256, 40, 40, 15)\n",
            "103/268 [==========>...................] - ETA: 53s - loss: 0.1207 - maeOverFscore_keras: 3.4646 - fscore_keras: 0.5148(256, 40, 40, 15)\n",
            "104/268 [==========>...................] - ETA: 53s - loss: 0.1205 - maeOverFscore_keras: 3.4671 - fscore_keras: 0.5141(256, 40, 40, 15)\n",
            "105/268 [==========>...................] - ETA: 52s - loss: 0.1202 - maeOverFscore_keras: 3.4619 - fscore_keras: 0.5145(256, 40, 40, 15)\n",
            "106/268 [==========>...................] - ETA: 52s - loss: 0.1197 - maeOverFscore_keras: 3.4591 - fscore_keras: 0.5138(256, 40, 40, 15)\n",
            "107/268 [==========>...................] - ETA: 52s - loss: 0.1199 - maeOverFscore_keras: 3.4651 - fscore_keras: 0.5136(256, 40, 40, 15)\n",
            "108/268 [===========>..................] - ETA: 51s - loss: 0.1198 - maeOverFscore_keras: 3.4600 - fscore_keras: 0.5138(256, 40, 40, 15)\n",
            "109/268 [===========>..................] - ETA: 51s - loss: 0.1202 - maeOverFscore_keras: 3.4648 - fscore_keras: 0.5143(256, 40, 40, 15)\n",
            "110/268 [===========>..................] - ETA: 51s - loss: 0.1202 - maeOverFscore_keras: 3.4652 - fscore_keras: 0.5145(256, 40, 40, 15)\n",
            "111/268 [===========>..................] - ETA: 51s - loss: 0.1202 - maeOverFscore_keras: 3.4604 - fscore_keras: 0.5148(256, 40, 40, 15)\n",
            "112/268 [===========>..................] - ETA: 50s - loss: 0.1202 - maeOverFscore_keras: 3.4618 - fscore_keras: 0.5147(256, 40, 40, 15)\n",
            "113/268 [===========>..................] - ETA: 50s - loss: 0.1200 - maeOverFscore_keras: 3.4598 - fscore_keras: 0.5145(256, 40, 40, 15)\n",
            "114/268 [===========>..................] - ETA: 50s - loss: 0.1201 - maeOverFscore_keras: 3.4586 - fscore_keras: 0.5146(256, 40, 40, 15)\n",
            "115/268 [===========>..................] - ETA: 49s - loss: 0.1201 - maeOverFscore_keras: 3.4558 - fscore_keras: 0.5148(256, 40, 40, 15)\n",
            "116/268 [===========>..................] - ETA: 49s - loss: 0.1203 - maeOverFscore_keras: 3.4552 - fscore_keras: 0.5147(256, 40, 40, 15)\n",
            "117/268 [============>.................] - ETA: 49s - loss: 0.1203 - maeOverFscore_keras: 3.4521 - fscore_keras: 0.5149(256, 40, 40, 15)\n",
            "118/268 [============>.................] - ETA: 48s - loss: 0.1202 - maeOverFscore_keras: 3.4512 - fscore_keras: 0.5144(256, 40, 40, 15)\n",
            "119/268 [============>.................] - ETA: 48s - loss: 0.1202 - maeOverFscore_keras: 3.4470 - fscore_keras: 0.5150(256, 40, 40, 15)\n",
            "120/268 [============>.................] - ETA: 48s - loss: 0.1202 - maeOverFscore_keras: 3.4499 - fscore_keras: 0.5146(256, 40, 40, 15)\n",
            "121/268 [============>.................] - ETA: 47s - loss: 0.1201 - maeOverFscore_keras: 3.4567 - fscore_keras: 0.5138(256, 40, 40, 15)\n",
            "122/268 [============>.................] - ETA: 47s - loss: 0.1203 - maeOverFscore_keras: 3.4614 - fscore_keras: 0.5138(256, 40, 40, 15)\n",
            "123/268 [============>.................] - ETA: 47s - loss: 0.1202 - maeOverFscore_keras: 3.4567 - fscore_keras: 0.5137(256, 40, 40, 15)\n",
            "124/268 [============>.................] - ETA: 46s - loss: 0.1201 - maeOverFscore_keras: 3.4545 - fscore_keras: 0.5140(256, 40, 40, 15)\n",
            "125/268 [============>.................] - ETA: 46s - loss: 0.1201 - maeOverFscore_keras: 3.4531 - fscore_keras: 0.5137(256, 40, 40, 15)\n",
            "126/268 [=============>................] - ETA: 46s - loss: 0.1202 - maeOverFscore_keras: 3.4491 - fscore_keras: 0.5143(256, 40, 40, 15)\n",
            "127/268 [=============>................] - ETA: 45s - loss: 0.1201 - maeOverFscore_keras: 3.4462 - fscore_keras: 0.5144(256, 40, 40, 15)\n",
            "128/268 [=============>................] - ETA: 45s - loss: 0.1202 - maeOverFscore_keras: 3.4443 - fscore_keras: 0.5149(256, 40, 40, 15)\n",
            "129/268 [=============>................] - ETA: 45s - loss: 0.1202 - maeOverFscore_keras: 3.4463 - fscore_keras: 0.5146(256, 40, 40, 15)\n",
            "130/268 [=============>................] - ETA: 44s - loss: 0.1205 - maeOverFscore_keras: 3.4474 - fscore_keras: 0.5152(256, 40, 40, 15)\n",
            "131/268 [=============>................] - ETA: 44s - loss: 0.1203 - maeOverFscore_keras: 3.4494 - fscore_keras: 0.5146(256, 40, 40, 15)\n",
            "132/268 [=============>................] - ETA: 44s - loss: 0.1200 - maeOverFscore_keras: 3.4511 - fscore_keras: 0.5142(256, 40, 40, 15)\n",
            "133/268 [=============>................] - ETA: 43s - loss: 0.1198 - maeOverFscore_keras: 3.4454 - fscore_keras: 0.5144(256, 40, 40, 15)\n",
            "134/268 [==============>...............] - ETA: 43s - loss: 0.1203 - maeOverFscore_keras: 3.4521 - fscore_keras: 0.5146(256, 40, 40, 15)\n",
            "135/268 [==============>...............] - ETA: 43s - loss: 0.1204 - maeOverFscore_keras: 3.4554 - fscore_keras: 0.5142(256, 40, 40, 15)\n",
            "136/268 [==============>...............] - ETA: 42s - loss: 0.1206 - maeOverFscore_keras: 3.4578 - fscore_keras: 0.5145(256, 40, 40, 15)\n",
            "137/268 [==============>...............] - ETA: 42s - loss: 0.1206 - maeOverFscore_keras: 3.4523 - fscore_keras: 0.5150(256, 40, 40, 15)\n",
            "138/268 [==============>...............] - ETA: 42s - loss: 0.1205 - maeOverFscore_keras: 3.4485 - fscore_keras: 0.5150(256, 40, 40, 15)\n",
            "139/268 [==============>...............] - ETA: 41s - loss: 0.1202 - maeOverFscore_keras: 3.4426 - fscore_keras: 0.5150(256, 40, 40, 15)\n",
            "140/268 [==============>...............] - ETA: 41s - loss: 0.1205 - maeOverFscore_keras: 3.4398 - fscore_keras: 0.5155(256, 40, 40, 15)\n",
            "141/268 [==============>...............] - ETA: 41s - loss: 0.1207 - maeOverFscore_keras: 3.4443 - fscore_keras: 0.5156(256, 40, 40, 15)\n",
            "142/268 [==============>...............] - ETA: 40s - loss: 0.1207 - maeOverFscore_keras: 3.4427 - fscore_keras: 0.5155(256, 40, 40, 15)\n",
            "143/268 [===============>..............] - ETA: 40s - loss: 0.1207 - maeOverFscore_keras: 3.4441 - fscore_keras: 0.5150(256, 40, 40, 15)\n",
            "144/268 [===============>..............] - ETA: 40s - loss: 0.1206 - maeOverFscore_keras: 3.4436 - fscore_keras: 0.5150(256, 40, 40, 15)\n",
            "145/268 [===============>..............] - ETA: 39s - loss: 0.1206 - maeOverFscore_keras: 3.4409 - fscore_keras: 0.5150(256, 40, 40, 15)\n",
            "146/268 [===============>..............] - ETA: 39s - loss: 0.1208 - maeOverFscore_keras: 3.4439 - fscore_keras: 0.5150(256, 40, 40, 15)\n",
            "147/268 [===============>..............] - ETA: 39s - loss: 0.1208 - maeOverFscore_keras: 3.4436 - fscore_keras: 0.5149(256, 40, 40, 15)\n",
            "148/268 [===============>..............] - ETA: 38s - loss: 0.1207 - maeOverFscore_keras: 3.4414 - fscore_keras: 0.5148(256, 40, 40, 15)\n",
            "149/268 [===============>..............] - ETA: 38s - loss: 0.1211 - maeOverFscore_keras: 3.4440 - fscore_keras: 0.5155(256, 40, 40, 15)\n",
            "150/268 [===============>..............] - ETA: 38s - loss: 0.1214 - maeOverFscore_keras: 3.4428 - fscore_keras: 0.5161(256, 40, 40, 15)\n",
            "151/268 [===============>..............] - ETA: 38s - loss: 0.1216 - maeOverFscore_keras: 3.4470 - fscore_keras: 0.5166(256, 40, 40, 15)\n",
            "152/268 [================>.............] - ETA: 37s - loss: 0.1217 - maeOverFscore_keras: 3.4477 - fscore_keras: 0.5170(256, 40, 40, 15)\n",
            "153/268 [================>.............] - ETA: 37s - loss: 0.1219 - maeOverFscore_keras: 3.4471 - fscore_keras: 0.5173(256, 40, 40, 15)\n",
            "154/268 [================>.............] - ETA: 37s - loss: 0.1218 - maeOverFscore_keras: 3.4493 - fscore_keras: 0.5171(256, 40, 40, 15)\n",
            "155/268 [================>.............] - ETA: 36s - loss: 0.1217 - maeOverFscore_keras: 3.4434 - fscore_keras: 0.5171(256, 40, 40, 15)\n",
            "156/268 [================>.............] - ETA: 36s - loss: 0.1218 - maeOverFscore_keras: 3.4410 - fscore_keras: 0.5174(256, 40, 40, 15)\n",
            "157/268 [================>.............] - ETA: 36s - loss: 0.1217 - maeOverFscore_keras: 3.4394 - fscore_keras: 0.5174(256, 40, 40, 15)\n",
            "158/268 [================>.............] - ETA: 35s - loss: 0.1218 - maeOverFscore_keras: 3.4375 - fscore_keras: 0.5177(256, 40, 40, 15)\n",
            "159/268 [================>.............] - ETA: 35s - loss: 0.1218 - maeOverFscore_keras: 3.4358 - fscore_keras: 0.5178(256, 40, 40, 15)\n",
            "160/268 [================>.............] - ETA: 35s - loss: 0.1217 - maeOverFscore_keras: 3.4329 - fscore_keras: 0.5180(256, 40, 40, 15)\n",
            "161/268 [=================>............] - ETA: 34s - loss: 0.1217 - maeOverFscore_keras: 3.4299 - fscore_keras: 0.5182(256, 40, 40, 15)\n",
            "162/268 [=================>............] - ETA: 34s - loss: 0.1219 - maeOverFscore_keras: 3.4298 - fscore_keras: 0.5184(256, 40, 40, 15)\n",
            "163/268 [=================>............] - ETA: 34s - loss: 0.1218 - maeOverFscore_keras: 3.4275 - fscore_keras: 0.5186(256, 40, 40, 15)\n",
            "164/268 [=================>............] - ETA: 33s - loss: 0.1220 - maeOverFscore_keras: 3.4293 - fscore_keras: 0.5189(256, 40, 40, 15)\n",
            "165/268 [=================>............] - ETA: 33s - loss: 0.1219 - maeOverFscore_keras: 3.4266 - fscore_keras: 0.5190(256, 40, 40, 15)\n",
            "166/268 [=================>............] - ETA: 33s - loss: 0.1220 - maeOverFscore_keras: 3.4261 - fscore_keras: 0.5190(256, 40, 40, 15)\n",
            "167/268 [=================>............] - ETA: 32s - loss: 0.1220 - maeOverFscore_keras: 3.4233 - fscore_keras: 0.5196(256, 40, 40, 15)\n",
            "168/268 [=================>............] - ETA: 32s - loss: 0.1219 - maeOverFscore_keras: 3.4226 - fscore_keras: 0.5195(256, 40, 40, 15)\n",
            "169/268 [=================>............] - ETA: 32s - loss: 0.1220 - maeOverFscore_keras: 3.4221 - fscore_keras: 0.5198(256, 40, 40, 15)\n",
            "170/268 [==================>...........] - ETA: 31s - loss: 0.1219 - maeOverFscore_keras: 3.4191 - fscore_keras: 0.5198(256, 40, 40, 15)\n",
            "171/268 [==================>...........] - ETA: 31s - loss: 0.1219 - maeOverFscore_keras: 3.4178 - fscore_keras: 0.5200(256, 40, 40, 15)\n",
            "172/268 [==================>...........] - ETA: 31s - loss: 0.1220 - maeOverFscore_keras: 3.4166 - fscore_keras: 0.5200(256, 40, 40, 15)\n",
            "173/268 [==================>...........] - ETA: 30s - loss: 0.1218 - maeOverFscore_keras: 3.4138 - fscore_keras: 0.5200(256, 40, 40, 15)\n",
            "174/268 [==================>...........] - ETA: 30s - loss: 0.1218 - maeOverFscore_keras: 3.4152 - fscore_keras: 0.5199(256, 40, 40, 15)\n",
            "175/268 [==================>...........] - ETA: 30s - loss: 0.1219 - maeOverFscore_keras: 3.4125 - fscore_keras: 0.5204(256, 40, 40, 15)\n",
            "176/268 [==================>...........] - ETA: 29s - loss: 0.1217 - maeOverFscore_keras: 3.4130 - fscore_keras: 0.5201(256, 40, 40, 15)\n",
            "177/268 [==================>...........] - ETA: 29s - loss: 0.1218 - maeOverFscore_keras: 3.4127 - fscore_keras: 0.5203(256, 40, 40, 15)\n",
            "178/268 [==================>...........] - ETA: 29s - loss: 0.1219 - maeOverFscore_keras: 3.4133 - fscore_keras: 0.5203(256, 40, 40, 15)\n",
            "179/268 [===================>..........] - ETA: 28s - loss: 0.1221 - maeOverFscore_keras: 3.4131 - fscore_keras: 0.5205(256, 40, 40, 15)\n",
            "180/268 [===================>..........] - ETA: 28s - loss: 0.1222 - maeOverFscore_keras: 3.4158 - fscore_keras: 0.5203(256, 40, 40, 15)\n",
            "181/268 [===================>..........] - ETA: 28s - loss: 0.1225 - maeOverFscore_keras: 3.4151 - fscore_keras: 0.5207(256, 40, 40, 15)\n",
            "182/268 [===================>..........] - ETA: 27s - loss: 0.1225 - maeOverFscore_keras: 3.4131 - fscore_keras: 0.5211(256, 40, 40, 15)\n",
            "183/268 [===================>..........] - ETA: 27s - loss: 0.1225 - maeOverFscore_keras: 3.4143 - fscore_keras: 0.5213(256, 40, 40, 15)\n",
            "184/268 [===================>..........] - ETA: 27s - loss: 0.1225 - maeOverFscore_keras: 3.4128 - fscore_keras: 0.5215(256, 40, 40, 15)\n",
            "185/268 [===================>..........] - ETA: 26s - loss: 0.1223 - maeOverFscore_keras: 3.4125 - fscore_keras: 0.5214(256, 40, 40, 15)\n",
            "186/268 [===================>..........] - ETA: 26s - loss: 0.1223 - maeOverFscore_keras: 3.4093 - fscore_keras: 0.5217(256, 40, 40, 15)\n",
            "187/268 [===================>..........] - ETA: 26s - loss: 0.1222 - maeOverFscore_keras: 3.4085 - fscore_keras: 0.5218(256, 40, 40, 15)\n",
            "188/268 [====================>.........] - ETA: 25s - loss: 0.1221 - maeOverFscore_keras: 3.4103 - fscore_keras: 0.5216(256, 40, 40, 15)\n",
            "189/268 [====================>.........] - ETA: 25s - loss: 0.1219 - maeOverFscore_keras: 3.4109 - fscore_keras: 0.5212(256, 40, 40, 15)\n",
            "190/268 [====================>.........] - ETA: 25s - loss: 0.1219 - maeOverFscore_keras: 3.4116 - fscore_keras: 0.5213(256, 40, 40, 15)\n",
            "191/268 [====================>.........] - ETA: 24s - loss: 0.1220 - maeOverFscore_keras: 3.4113 - fscore_keras: 0.5214(256, 40, 40, 15)\n",
            "192/268 [====================>.........] - ETA: 24s - loss: 0.1221 - maeOverFscore_keras: 3.4116 - fscore_keras: 0.5216(256, 40, 40, 15)\n",
            "193/268 [====================>.........] - ETA: 24s - loss: 0.1222 - maeOverFscore_keras: 3.4135 - fscore_keras: 0.5217(256, 40, 40, 15)\n",
            "194/268 [====================>.........] - ETA: 23s - loss: 0.1222 - maeOverFscore_keras: 3.4147 - fscore_keras: 0.5215(256, 40, 40, 15)\n",
            "195/268 [====================>.........] - ETA: 23s - loss: 0.1222 - maeOverFscore_keras: 3.4135 - fscore_keras: 0.5216(256, 40, 40, 15)\n",
            "196/268 [====================>.........] - ETA: 23s - loss: 0.1223 - maeOverFscore_keras: 3.4137 - fscore_keras: 0.5217(256, 40, 40, 15)\n",
            "197/268 [=====================>........] - ETA: 22s - loss: 0.1225 - maeOverFscore_keras: 3.4140 - fscore_keras: 0.5218(256, 40, 40, 15)\n",
            "198/268 [=====================>........] - ETA: 22s - loss: 0.1224 - maeOverFscore_keras: 3.4111 - fscore_keras: 0.5216(256, 40, 40, 15)\n",
            "199/268 [=====================>........] - ETA: 22s - loss: 0.1225 - maeOverFscore_keras: 3.4125 - fscore_keras: 0.5219(256, 40, 40, 15)\n",
            "200/268 [=====================>........] - ETA: 21s - loss: 0.1226 - maeOverFscore_keras: 3.4136 - fscore_keras: 0.5219(256, 40, 40, 15)\n",
            "201/268 [=====================>........] - ETA: 21s - loss: 0.1225 - maeOverFscore_keras: 3.4145 - fscore_keras: 0.5216(256, 40, 40, 15)\n",
            "202/268 [=====================>........] - ETA: 21s - loss: 0.1224 - maeOverFscore_keras: 3.4141 - fscore_keras: 0.5214(256, 40, 40, 15)\n",
            "203/268 [=====================>........] - ETA: 21s - loss: 0.1223 - maeOverFscore_keras: 3.4134 - fscore_keras: 0.5213(256, 40, 40, 15)\n",
            "204/268 [=====================>........] - ETA: 20s - loss: 0.1222 - maeOverFscore_keras: 3.4123 - fscore_keras: 0.5211(256, 40, 40, 15)\n",
            "205/268 [=====================>........] - ETA: 20s - loss: 0.1223 - maeOverFscore_keras: 3.4107 - fscore_keras: 0.5212(256, 40, 40, 15)\n",
            "206/268 [======================>.......] - ETA: 20s - loss: 0.1222 - maeOverFscore_keras: 3.4079 - fscore_keras: 0.5214(256, 40, 40, 15)\n",
            "207/268 [======================>.......] - ETA: 19s - loss: 0.1222 - maeOverFscore_keras: 3.4078 - fscore_keras: 0.5212(256, 40, 40, 15)\n",
            "208/268 [======================>.......] - ETA: 19s - loss: 0.1221 - maeOverFscore_keras: 3.4062 - fscore_keras: 0.5211(256, 40, 40, 15)\n",
            "209/268 [======================>.......] - ETA: 19s - loss: 0.1221 - maeOverFscore_keras: 3.4047 - fscore_keras: 0.5213(256, 40, 40, 15)\n",
            "210/268 [======================>.......] - ETA: 18s - loss: 0.1221 - maeOverFscore_keras: 3.4028 - fscore_keras: 0.5216(256, 40, 40, 15)\n",
            "211/268 [======================>.......] - ETA: 18s - loss: 0.1221 - maeOverFscore_keras: 3.4014 - fscore_keras: 0.5215(256, 40, 40, 15)\n",
            "212/268 [======================>.......] - ETA: 18s - loss: 0.1220 - maeOverFscore_keras: 3.4028 - fscore_keras: 0.5213(256, 40, 40, 15)\n",
            "213/268 [======================>.......] - ETA: 17s - loss: 0.1219 - maeOverFscore_keras: 3.3992 - fscore_keras: 0.5217(256, 40, 40, 15)\n",
            "214/268 [======================>.......] - ETA: 17s - loss: 0.1219 - maeOverFscore_keras: 3.4001 - fscore_keras: 0.5218(256, 40, 40, 15)\n",
            "215/268 [=======================>......] - ETA: 17s - loss: 0.1218 - maeOverFscore_keras: 3.3995 - fscore_keras: 0.5217(256, 40, 40, 15)\n",
            "216/268 [=======================>......] - ETA: 16s - loss: 0.1217 - maeOverFscore_keras: 3.3984 - fscore_keras: 0.5216(256, 40, 40, 15)\n",
            "217/268 [=======================>......] - ETA: 16s - loss: 0.1218 - maeOverFscore_keras: 3.3962 - fscore_keras: 0.5218(256, 40, 40, 15)\n",
            "218/268 [=======================>......] - ETA: 16s - loss: 0.1217 - maeOverFscore_keras: 3.3972 - fscore_keras: 0.5216(256, 40, 40, 15)\n",
            "219/268 [=======================>......] - ETA: 15s - loss: 0.1217 - maeOverFscore_keras: 3.3953 - fscore_keras: 0.5218(256, 40, 40, 15)\n",
            "220/268 [=======================>......] - ETA: 15s - loss: 0.1217 - maeOverFscore_keras: 3.3956 - fscore_keras: 0.5218(256, 40, 40, 15)\n",
            "221/268 [=======================>......] - ETA: 15s - loss: 0.1217 - maeOverFscore_keras: 3.3932 - fscore_keras: 0.5220(256, 40, 40, 15)\n",
            "222/268 [=======================>......] - ETA: 14s - loss: 0.1218 - maeOverFscore_keras: 3.3911 - fscore_keras: 0.5223(256, 40, 40, 15)\n",
            "223/268 [=======================>......] - ETA: 14s - loss: 0.1218 - maeOverFscore_keras: 3.3927 - fscore_keras: 0.5222(256, 40, 40, 15)\n",
            "224/268 [========================>.....] - ETA: 14s - loss: 0.1217 - maeOverFscore_keras: 3.3906 - fscore_keras: 0.5224(256, 40, 40, 15)\n",
            "225/268 [========================>.....] - ETA: 13s - loss: 0.1217 - maeOverFscore_keras: 3.3880 - fscore_keras: 0.5225(256, 40, 40, 15)\n",
            "226/268 [========================>.....] - ETA: 13s - loss: 0.1216 - maeOverFscore_keras: 3.3899 - fscore_keras: 0.5223(256, 40, 40, 15)\n",
            "227/268 [========================>.....] - ETA: 13s - loss: 0.1215 - maeOverFscore_keras: 3.3890 - fscore_keras: 0.5225(256, 40, 40, 15)\n",
            "228/268 [========================>.....] - ETA: 12s - loss: 0.1215 - maeOverFscore_keras: 3.3886 - fscore_keras: 0.5225(256, 40, 40, 15)\n",
            "229/268 [========================>.....] - ETA: 12s - loss: 0.1216 - maeOverFscore_keras: 3.3887 - fscore_keras: 0.5228(256, 40, 40, 15)\n",
            "230/268 [========================>.....] - ETA: 12s - loss: 0.1217 - maeOverFscore_keras: 3.3878 - fscore_keras: 0.5231(256, 40, 40, 15)\n",
            "231/268 [========================>.....] - ETA: 11s - loss: 0.1216 - maeOverFscore_keras: 3.3864 - fscore_keras: 0.5231(256, 40, 40, 15)\n",
            "232/268 [========================>.....] - ETA: 11s - loss: 0.1216 - maeOverFscore_keras: 3.3846 - fscore_keras: 0.5233(256, 40, 40, 15)\n",
            "233/268 [=========================>....] - ETA: 11s - loss: 0.1216 - maeOverFscore_keras: 3.3833 - fscore_keras: 0.5234(256, 40, 40, 15)\n",
            "234/268 [=========================>....] - ETA: 10s - loss: 0.1215 - maeOverFscore_keras: 3.3813 - fscore_keras: 0.5234(256, 40, 40, 15)\n",
            "235/268 [=========================>....] - ETA: 10s - loss: 0.1214 - maeOverFscore_keras: 3.3793 - fscore_keras: 0.5235(256, 40, 40, 15)\n",
            "236/268 [=========================>....] - ETA: 10s - loss: 0.1215 - maeOverFscore_keras: 3.3760 - fscore_keras: 0.5239(256, 40, 40, 15)\n",
            "237/268 [=========================>....] - ETA: 10s - loss: 0.1213 - maeOverFscore_keras: 3.3724 - fscore_keras: 0.5239(256, 40, 40, 15)\n",
            "238/268 [=========================>....] - ETA: 9s - loss: 0.1213 - maeOverFscore_keras: 3.3708 - fscore_keras: 0.5241 (256, 40, 40, 15)\n",
            "239/268 [=========================>....] - ETA: 9s - loss: 0.1211 - maeOverFscore_keras: 3.3712 - fscore_keras: 0.5236(256, 40, 40, 15)\n",
            "240/268 [=========================>....] - ETA: 9s - loss: 0.1212 - maeOverFscore_keras: 3.3721 - fscore_keras: 0.5238(256, 40, 40, 15)\n",
            "241/268 [=========================>....] - ETA: 8s - loss: 0.1212 - maeOverFscore_keras: 3.3731 - fscore_keras: 0.5238(256, 40, 40, 15)\n",
            "242/268 [==========================>...] - ETA: 8s - loss: 0.1213 - maeOverFscore_keras: 3.3748 - fscore_keras: 0.5237(256, 40, 40, 15)\n",
            "243/268 [==========================>...] - ETA: 8s - loss: 0.1214 - maeOverFscore_keras: 3.3749 - fscore_keras: 0.5239(256, 40, 40, 15)\n",
            "244/268 [==========================>...] - ETA: 7s - loss: 0.1213 - maeOverFscore_keras: 3.3726 - fscore_keras: 0.5239(256, 40, 40, 15)\n",
            "245/268 [==========================>...] - ETA: 7s - loss: 0.1213 - maeOverFscore_keras: 3.3738 - fscore_keras: 0.5238(256, 40, 40, 15)\n",
            "246/268 [==========================>...] - ETA: 7s - loss: 0.1213 - maeOverFscore_keras: 3.3714 - fscore_keras: 0.5239(256, 40, 40, 15)\n",
            "247/268 [==========================>...] - ETA: 6s - loss: 0.1213 - maeOverFscore_keras: 3.3711 - fscore_keras: 0.5239(256, 40, 40, 15)\n",
            "248/268 [==========================>...] - ETA: 6s - loss: 0.1213 - maeOverFscore_keras: 3.3707 - fscore_keras: 0.5241(256, 40, 40, 15)\n",
            "249/268 [==========================>...] - ETA: 6s - loss: 0.1213 - maeOverFscore_keras: 3.3694 - fscore_keras: 0.5242(256, 40, 40, 15)\n",
            "250/268 [==========================>...] - ETA: 5s - loss: 0.1213 - maeOverFscore_keras: 3.3684 - fscore_keras: 0.5242(256, 40, 40, 15)\n",
            "251/268 [===========================>..] - ETA: 5s - loss: 0.1212 - maeOverFscore_keras: 3.3680 - fscore_keras: 0.5242(256, 40, 40, 15)\n",
            "252/268 [===========================>..] - ETA: 5s - loss: 0.1212 - maeOverFscore_keras: 3.3652 - fscore_keras: 0.5244(256, 40, 40, 15)\n",
            "253/268 [===========================>..] - ETA: 4s - loss: 0.1213 - maeOverFscore_keras: 3.3651 - fscore_keras: 0.5245(256, 40, 40, 15)\n",
            "254/268 [===========================>..] - ETA: 4s - loss: 0.1214 - maeOverFscore_keras: 3.3639 - fscore_keras: 0.5244(256, 40, 40, 15)\n",
            "255/268 [===========================>..] - ETA: 4s - loss: 0.1214 - maeOverFscore_keras: 3.3656 - fscore_keras: 0.5242(256, 40, 40, 15)\n",
            "256/268 [===========================>..] - ETA: 3s - loss: 0.1213 - maeOverFscore_keras: 3.3624 - fscore_keras: 0.5243(256, 40, 40, 15)\n",
            "257/268 [===========================>..] - ETA: 3s - loss: 0.1213 - maeOverFscore_keras: 3.3629 - fscore_keras: 0.5242(256, 40, 40, 15)\n",
            "258/268 [===========================>..] - ETA: 3s - loss: 0.1213 - maeOverFscore_keras: 3.3638 - fscore_keras: 0.5241(256, 40, 40, 15)\n",
            "259/268 [===========================>..] - ETA: 2s - loss: 0.1213 - maeOverFscore_keras: 3.3663 - fscore_keras: 0.5240(256, 40, 40, 15)\n",
            "260/268 [============================>.] - ETA: 2s - loss: 0.1214 - maeOverFscore_keras: 3.3664 - fscore_keras: 0.5241(256, 40, 40, 15)\n",
            "261/268 [============================>.] - ETA: 2s - loss: 0.1214 - maeOverFscore_keras: 3.3652 - fscore_keras: 0.5242(256, 40, 40, 15)\n",
            "262/268 [============================>.] - ETA: 1s - loss: 0.1213 - maeOverFscore_keras: 3.3642 - fscore_keras: 0.5242(256, 40, 40, 15)\n",
            "263/268 [============================>.] - ETA: 1s - loss: 0.1213 - maeOverFscore_keras: 3.3633 - fscore_keras: 0.5242(256, 40, 40, 15)\n",
            "264/268 [============================>.] - ETA: 1s - loss: 0.1213 - maeOverFscore_keras: 3.3637 - fscore_keras: 0.5243(256, 40, 40, 15)\n",
            "265/268 [============================>.] - ETA: 0s - loss: 0.1212 - maeOverFscore_keras: 3.3627 - fscore_keras: 0.5240(256, 40, 40, 15)\n",
            "266/268 [============================>.] - ETA: 0s - loss: 0.1211 - maeOverFscore_keras: 3.3622 - fscore_keras: 0.5239(256, 40, 40, 15)\n",
            "267/268 [============================>.] - ETA: 0s - loss: 0.1211 - maeOverFscore_keras: 3.3621 - fscore_keras: 0.5239(98, 40, 40, 15)\n",
            "268/268 [==============================] - 86s 322ms/step - loss: 0.1212 - maeOverFscore_keras: 3.3613 - fscore_keras: 0.5242\n",
            "Epoch 2/20\n",
            "(256, 40, 40, 15)\n",
            "  1/268 [..............................] - ETA: 0s - loss: 0.1168 - maeOverFscore_keras: 2.6178 - fscore_keras: 0.5444(256, 40, 40, 15)\n",
            "  2/268 [..............................] - ETA: 40s - loss: 0.1241 - maeOverFscore_keras: 2.8239 - fscore_keras: 0.5649(256, 40, 40, 15)\n",
            "  3/268 [..............................] - ETA: 55s - loss: 0.1291 - maeOverFscore_keras: 2.9545 - fscore_keras: 0.5699(256, 40, 40, 15)\n",
            "  4/268 [..............................] - ETA: 1:00 - loss: 0.1336 - maeOverFscore_keras: 3.2077 - fscore_keras: 0.5634(256, 40, 40, 15)\n",
            "  5/268 [..............................] - ETA: 1:06 - loss: 0.1305 - maeOverFscore_keras: 3.2135 - fscore_keras: 0.5616(256, 40, 40, 15)\n",
            "  6/268 [..............................] - ETA: 1:09 - loss: 0.1361 - maeOverFscore_keras: 3.2752 - fscore_keras: 0.5623(256, 40, 40, 15)\n",
            "  7/268 [..............................] - ETA: 1:12 - loss: 0.1312 - maeOverFscore_keras: 3.2002 - fscore_keras: 0.5632(256, 40, 40, 15)\n",
            "  8/268 [..............................] - ETA: 1:13 - loss: 0.1288 - maeOverFscore_keras: 3.1824 - fscore_keras: 0.5687(256, 40, 40, 15)\n",
            "  9/268 [>.............................] - ETA: 1:14 - loss: 0.1291 - maeOverFscore_keras: 3.2145 - fscore_keras: 0.5659(256, 40, 40, 15)\n",
            " 10/268 [>.............................] - ETA: 1:15 - loss: 0.1274 - maeOverFscore_keras: 3.1812 - fscore_keras: 0.5630(256, 40, 40, 15)\n",
            " 11/268 [>.............................] - ETA: 1:16 - loss: 0.1265 - maeOverFscore_keras: 3.1869 - fscore_keras: 0.5622(256, 40, 40, 15)\n",
            " 12/268 [>.............................] - ETA: 1:17 - loss: 0.1278 - maeOverFscore_keras: 3.2267 - fscore_keras: 0.5583(256, 40, 40, 15)\n",
            " 13/268 [>.............................] - ETA: 1:17 - loss: 0.1262 - maeOverFscore_keras: 3.2312 - fscore_keras: 0.5554(256, 40, 40, 15)\n",
            " 14/268 [>.............................] - ETA: 1:17 - loss: 0.1244 - maeOverFscore_keras: 3.2283 - fscore_keras: 0.5513(256, 40, 40, 15)\n",
            " 15/268 [>.............................] - ETA: 1:18 - loss: 0.1217 - maeOverFscore_keras: 3.1795 - fscore_keras: 0.5513(256, 40, 40, 15)\n",
            " 16/268 [>.............................] - ETA: 1:18 - loss: 0.1202 - maeOverFscore_keras: 3.2300 - fscore_keras: 0.5432(256, 40, 40, 15)\n",
            " 17/268 [>.............................] - ETA: 1:18 - loss: 0.1209 - maeOverFscore_keras: 3.2411 - fscore_keras: 0.5425(256, 40, 40, 15)\n",
            " 18/268 [=>............................] - ETA: 1:18 - loss: 0.1201 - maeOverFscore_keras: 3.2133 - fscore_keras: 0.5426(256, 40, 40, 15)\n",
            " 19/268 [=>............................] - ETA: 1:18 - loss: 0.1219 - maeOverFscore_keras: 3.2265 - fscore_keras: 0.5451(256, 40, 40, 15)\n",
            " 20/268 [=>............................] - ETA: 1:18 - loss: 0.1215 - maeOverFscore_keras: 3.2623 - fscore_keras: 0.5431(256, 40, 40, 15)\n",
            " 21/268 [=>............................] - ETA: 1:18 - loss: 0.1207 - maeOverFscore_keras: 3.2828 - fscore_keras: 0.5397(256, 40, 40, 15)\n",
            " 22/268 [=>............................] - ETA: 1:18 - loss: 0.1198 - maeOverFscore_keras: 3.2575 - fscore_keras: 0.5407(256, 40, 40, 15)\n",
            " 23/268 [=>............................] - ETA: 1:18 - loss: 0.1191 - maeOverFscore_keras: 3.2366 - fscore_keras: 0.5428(256, 40, 40, 15)\n",
            " 24/268 [=>............................] - ETA: 1:17 - loss: 0.1197 - maeOverFscore_keras: 3.2433 - fscore_keras: 0.5433(256, 40, 40, 15)\n",
            " 25/268 [=>............................] - ETA: 1:17 - loss: 0.1193 - maeOverFscore_keras: 3.2260 - fscore_keras: 0.5438(256, 40, 40, 15)\n",
            " 26/268 [=>............................] - ETA: 1:17 - loss: 0.1195 - maeOverFscore_keras: 3.2274 - fscore_keras: 0.5447(256, 40, 40, 15)\n",
            " 27/268 [==>...........................] - ETA: 1:17 - loss: 0.1198 - maeOverFscore_keras: 3.2142 - fscore_keras: 0.5467(256, 40, 40, 15)\n",
            " 28/268 [==>...........................] - ETA: 1:16 - loss: 0.1194 - maeOverFscore_keras: 3.2097 - fscore_keras: 0.5452(256, 40, 40, 15)\n",
            " 29/268 [==>...........................] - ETA: 1:16 - loss: 0.1186 - maeOverFscore_keras: 3.2017 - fscore_keras: 0.5445(256, 40, 40, 15)\n",
            " 30/268 [==>...........................] - ETA: 1:16 - loss: 0.1180 - maeOverFscore_keras: 3.2197 - fscore_keras: 0.5427(256, 40, 40, 15)\n",
            " 31/268 [==>...........................] - ETA: 1:16 - loss: 0.1172 - maeOverFscore_keras: 3.2265 - fscore_keras: 0.5417(256, 40, 40, 15)\n",
            " 32/268 [==>...........................] - ETA: 1:15 - loss: 0.1180 - maeOverFscore_keras: 3.2434 - fscore_keras: 0.5430(256, 40, 40, 15)\n",
            " 33/268 [==>...........................] - ETA: 1:15 - loss: 0.1183 - maeOverFscore_keras: 3.2615 - fscore_keras: 0.5420(256, 40, 40, 15)\n",
            " 34/268 [==>...........................] - ETA: 1:15 - loss: 0.1178 - maeOverFscore_keras: 3.2541 - fscore_keras: 0.5419(256, 40, 40, 15)\n",
            " 35/268 [==>...........................] - ETA: 1:15 - loss: 0.1178 - maeOverFscore_keras: 3.2639 - fscore_keras: 0.5407(256, 40, 40, 15)\n",
            " 36/268 [===>..........................] - ETA: 1:15 - loss: 0.1179 - maeOverFscore_keras: 3.2713 - fscore_keras: 0.5417(256, 40, 40, 15)\n",
            " 37/268 [===>..........................] - ETA: 1:14 - loss: 0.1175 - maeOverFscore_keras: 3.2561 - fscore_keras: 0.5432(256, 40, 40, 15)\n",
            " 38/268 [===>..........................] - ETA: 1:14 - loss: 0.1170 - maeOverFscore_keras: 3.2552 - fscore_keras: 0.5421(256, 40, 40, 15)\n",
            " 39/268 [===>..........................] - ETA: 1:14 - loss: 0.1166 - maeOverFscore_keras: 3.2569 - fscore_keras: 0.5398(256, 40, 40, 15)\n",
            " 40/268 [===>..........................] - ETA: 1:14 - loss: 0.1164 - maeOverFscore_keras: 3.2579 - fscore_keras: 0.5382(256, 40, 40, 15)\n",
            " 41/268 [===>..........................] - ETA: 1:14 - loss: 0.1159 - maeOverFscore_keras: 3.2472 - fscore_keras: 0.5373(256, 40, 40, 15)\n",
            " 42/268 [===>..........................] - ETA: 1:13 - loss: 0.1158 - maeOverFscore_keras: 3.2406 - fscore_keras: 0.5359(256, 40, 40, 15)\n",
            " 43/268 [===>..........................] - ETA: 1:13 - loss: 0.1165 - maeOverFscore_keras: 3.2639 - fscore_keras: 0.5355(256, 40, 40, 15)\n",
            " 44/268 [===>..........................] - ETA: 1:13 - loss: 0.1165 - maeOverFscore_keras: 3.2509 - fscore_keras: 0.5365(256, 40, 40, 15)\n",
            " 45/268 [====>.........................] - ETA: 1:12 - loss: 0.1166 - maeOverFscore_keras: 3.2431 - fscore_keras: 0.5381(256, 40, 40, 15)\n",
            " 46/268 [====>.........................] - ETA: 1:12 - loss: 0.1168 - maeOverFscore_keras: 3.2409 - fscore_keras: 0.5393(256, 40, 40, 15)\n",
            " 47/268 [====>.........................] - ETA: 1:12 - loss: 0.1169 - maeOverFscore_keras: 3.2373 - fscore_keras: 0.5398(256, 40, 40, 15)\n",
            " 48/268 [====>.........................] - ETA: 1:12 - loss: 0.1164 - maeOverFscore_keras: 3.2510 - fscore_keras: 0.5381(256, 40, 40, 15)\n",
            " 49/268 [====>.........................] - ETA: 1:11 - loss: 0.1165 - maeOverFscore_keras: 3.2495 - fscore_keras: 0.5370(256, 40, 40, 15)\n",
            " 50/268 [====>.........................] - ETA: 1:11 - loss: 0.1164 - maeOverFscore_keras: 3.2492 - fscore_keras: 0.5366(256, 40, 40, 15)\n",
            " 51/268 [====>.........................] - ETA: 1:11 - loss: 0.1163 - maeOverFscore_keras: 3.2438 - fscore_keras: 0.5371(256, 40, 40, 15)\n",
            " 52/268 [====>.........................] - ETA: 1:10 - loss: 0.1170 - maeOverFscore_keras: 3.2492 - fscore_keras: 0.5382(256, 40, 40, 15)\n",
            " 53/268 [====>.........................] - ETA: 1:10 - loss: 0.1172 - maeOverFscore_keras: 3.2677 - fscore_keras: 0.5370(256, 40, 40, 15)\n",
            " 54/268 [=====>........................] - ETA: 1:10 - loss: 0.1173 - maeOverFscore_keras: 3.2679 - fscore_keras: 0.5362(256, 40, 40, 15)\n",
            " 55/268 [=====>........................] - ETA: 1:09 - loss: 0.1172 - maeOverFscore_keras: 3.2753 - fscore_keras: 0.5351(256, 40, 40, 15)\n",
            " 56/268 [=====>........................] - ETA: 1:09 - loss: 0.1176 - maeOverFscore_keras: 3.2711 - fscore_keras: 0.5359(256, 40, 40, 15)\n",
            " 57/268 [=====>........................] - ETA: 1:09 - loss: 0.1188 - maeOverFscore_keras: 3.2816 - fscore_keras: 0.5370(256, 40, 40, 15)\n",
            " 58/268 [=====>........................] - ETA: 1:08 - loss: 0.1185 - maeOverFscore_keras: 3.2725 - fscore_keras: 0.5375(256, 40, 40, 15)\n",
            " 59/268 [=====>........................] - ETA: 1:08 - loss: 0.1185 - maeOverFscore_keras: 3.2694 - fscore_keras: 0.5382(256, 40, 40, 15)\n",
            " 60/268 [=====>........................] - ETA: 1:08 - loss: 0.1183 - maeOverFscore_keras: 3.2662 - fscore_keras: 0.5375(256, 40, 40, 15)\n",
            " 61/268 [=====>........................] - ETA: 1:08 - loss: 0.1193 - maeOverFscore_keras: 3.2811 - fscore_keras: 0.5383(256, 40, 40, 15)\n",
            " 62/268 [=====>........................] - ETA: 1:07 - loss: 0.1187 - maeOverFscore_keras: 3.2709 - fscore_keras: 0.5374(256, 40, 40, 15)\n",
            " 63/268 [======>.......................] - ETA: 1:07 - loss: 0.1186 - maeOverFscore_keras: 3.2682 - fscore_keras: 0.5377(256, 40, 40, 15)\n",
            " 64/268 [======>.......................] - ETA: 1:07 - loss: 0.1184 - maeOverFscore_keras: 3.2684 - fscore_keras: 0.5380(256, 40, 40, 15)\n",
            " 65/268 [======>.......................] - ETA: 1:06 - loss: 0.1184 - maeOverFscore_keras: 3.2669 - fscore_keras: 0.5380(256, 40, 40, 15)\n",
            " 66/268 [======>.......................] - ETA: 1:06 - loss: 0.1193 - maeOverFscore_keras: 3.2707 - fscore_keras: 0.5385(256, 40, 40, 15)\n",
            " 67/268 [======>.......................] - ETA: 1:06 - loss: 0.1200 - maeOverFscore_keras: 3.2725 - fscore_keras: 0.5390(256, 40, 40, 15)\n",
            " 68/268 [======>.......................] - ETA: 1:05 - loss: 0.1201 - maeOverFscore_keras: 3.2699 - fscore_keras: 0.5391(256, 40, 40, 15)\n",
            " 69/268 [======>.......................] - ETA: 1:05 - loss: 0.1196 - maeOverFscore_keras: 3.2668 - fscore_keras: 0.5391(256, 40, 40, 15)\n"
          ],
          "name": "stdout"
        },
        {
          "output_type": "error",
          "ename": "KeyboardInterrupt",
          "evalue": "ignored",
          "traceback": [
            "\u001b[0;31m---------------------------------------------------------------------------\u001b[0m",
            "\u001b[0;31mKeyboardInterrupt\u001b[0m                         Traceback (most recent call last)",
            "\u001b[0;32m<ipython-input-37-4842acc2f873>\u001b[0m in \u001b[0;36m<module>\u001b[0;34m()\u001b[0m\n\u001b[1;32m      1\u001b[0m \u001b[0mdatagen\u001b[0m \u001b[0;34m=\u001b[0m \u001b[0mMultiOutputDataGenerator\u001b[0m\u001b[0;34m(\u001b[0m\u001b[0;34m)\u001b[0m\u001b[0;34m\u001b[0m\u001b[0;34m\u001b[0m\u001b[0m\n\u001b[1;32m      2\u001b[0m \u001b[0mdatagen\u001b[0m\u001b[0;34m.\u001b[0m\u001b[0mfit\u001b[0m\u001b[0;34m(\u001b[0m\u001b[0mtrain\u001b[0m\u001b[0;34m)\u001b[0m\u001b[0;34m\u001b[0m\u001b[0;34m\u001b[0m\u001b[0m\n\u001b[0;32m----> 3\u001b[0;31m \u001b[0mhistory\u001b[0m \u001b[0;34m=\u001b[0m \u001b[0mmodel\u001b[0m\u001b[0;34m.\u001b[0m\u001b[0mfit_generator\u001b[0m\u001b[0;34m(\u001b[0m\u001b[0mdatagen\u001b[0m\u001b[0;34m.\u001b[0m\u001b[0mflow\u001b[0m\u001b[0;34m(\u001b[0m\u001b[0mtrain\u001b[0m\u001b[0;34m)\u001b[0m\u001b[0;34m,\u001b[0m\u001b[0msteps_per_epoch\u001b[0m \u001b[0;34m=\u001b[0m \u001b[0mtrain\u001b[0m\u001b[0;34m.\u001b[0m\u001b[0mshape\u001b[0m\u001b[0;34m[\u001b[0m\u001b[0;36m0\u001b[0m\u001b[0;34m]\u001b[0m \u001b[0;34m//\u001b[0m \u001b[0;36m256\u001b[0m\u001b[0;34m,\u001b[0m \u001b[0mepochs\u001b[0m \u001b[0;34m=\u001b[0m \u001b[0;36m20\u001b[0m\u001b[0;34m,\u001b[0m \u001b[0mverbose\u001b[0m\u001b[0;34m=\u001b[0m\u001b[0;36m1\u001b[0m\u001b[0;34m)\u001b[0m\u001b[0;34m\u001b[0m\u001b[0;34m\u001b[0m\u001b[0m\n\u001b[0m",
            "\u001b[0;32m/usr/local/lib/python3.6/dist-packages/tensorflow/python/util/deprecation.py\u001b[0m in \u001b[0;36mnew_func\u001b[0;34m(*args, **kwargs)\u001b[0m\n\u001b[1;32m    322\u001b[0m               \u001b[0;34m'in a future version'\u001b[0m \u001b[0;32mif\u001b[0m \u001b[0mdate\u001b[0m \u001b[0;32mis\u001b[0m \u001b[0;32mNone\u001b[0m \u001b[0;32melse\u001b[0m \u001b[0;34m(\u001b[0m\u001b[0;34m'after %s'\u001b[0m \u001b[0;34m%\u001b[0m \u001b[0mdate\u001b[0m\u001b[0;34m)\u001b[0m\u001b[0;34m,\u001b[0m\u001b[0;34m\u001b[0m\u001b[0;34m\u001b[0m\u001b[0m\n\u001b[1;32m    323\u001b[0m               instructions)\n\u001b[0;32m--> 324\u001b[0;31m       \u001b[0;32mreturn\u001b[0m \u001b[0mfunc\u001b[0m\u001b[0;34m(\u001b[0m\u001b[0;34m*\u001b[0m\u001b[0margs\u001b[0m\u001b[0;34m,\u001b[0m \u001b[0;34m**\u001b[0m\u001b[0mkwargs\u001b[0m\u001b[0;34m)\u001b[0m\u001b[0;34m\u001b[0m\u001b[0;34m\u001b[0m\u001b[0m\n\u001b[0m\u001b[1;32m    325\u001b[0m     return tf_decorator.make_decorator(\n\u001b[1;32m    326\u001b[0m         \u001b[0mfunc\u001b[0m\u001b[0;34m,\u001b[0m \u001b[0mnew_func\u001b[0m\u001b[0;34m,\u001b[0m \u001b[0;34m'deprecated'\u001b[0m\u001b[0;34m,\u001b[0m\u001b[0;34m\u001b[0m\u001b[0;34m\u001b[0m\u001b[0m\n",
            "\u001b[0;32m/usr/local/lib/python3.6/dist-packages/tensorflow/python/keras/engine/training.py\u001b[0m in \u001b[0;36mfit_generator\u001b[0;34m(self, generator, steps_per_epoch, epochs, verbose, callbacks, validation_data, validation_steps, validation_freq, class_weight, max_queue_size, workers, use_multiprocessing, shuffle, initial_epoch)\u001b[0m\n\u001b[1;32m   1480\u001b[0m         \u001b[0muse_multiprocessing\u001b[0m\u001b[0;34m=\u001b[0m\u001b[0muse_multiprocessing\u001b[0m\u001b[0;34m,\u001b[0m\u001b[0;34m\u001b[0m\u001b[0;34m\u001b[0m\u001b[0m\n\u001b[1;32m   1481\u001b[0m         \u001b[0mshuffle\u001b[0m\u001b[0;34m=\u001b[0m\u001b[0mshuffle\u001b[0m\u001b[0;34m,\u001b[0m\u001b[0;34m\u001b[0m\u001b[0;34m\u001b[0m\u001b[0m\n\u001b[0;32m-> 1482\u001b[0;31m         initial_epoch=initial_epoch)\n\u001b[0m\u001b[1;32m   1483\u001b[0m \u001b[0;34m\u001b[0m\u001b[0m\n\u001b[1;32m   1484\u001b[0m   @deprecation.deprecated(\n",
            "\u001b[0;32m/usr/local/lib/python3.6/dist-packages/tensorflow/python/keras/engine/training.py\u001b[0m in \u001b[0;36m_method_wrapper\u001b[0;34m(self, *args, **kwargs)\u001b[0m\n\u001b[1;32m     64\u001b[0m   \u001b[0;32mdef\u001b[0m \u001b[0m_method_wrapper\u001b[0m\u001b[0;34m(\u001b[0m\u001b[0mself\u001b[0m\u001b[0;34m,\u001b[0m \u001b[0;34m*\u001b[0m\u001b[0margs\u001b[0m\u001b[0;34m,\u001b[0m \u001b[0;34m**\u001b[0m\u001b[0mkwargs\u001b[0m\u001b[0;34m)\u001b[0m\u001b[0;34m:\u001b[0m\u001b[0;34m\u001b[0m\u001b[0;34m\u001b[0m\u001b[0m\n\u001b[1;32m     65\u001b[0m     \u001b[0;32mif\u001b[0m \u001b[0;32mnot\u001b[0m \u001b[0mself\u001b[0m\u001b[0;34m.\u001b[0m\u001b[0m_in_multi_worker_mode\u001b[0m\u001b[0;34m(\u001b[0m\u001b[0;34m)\u001b[0m\u001b[0;34m:\u001b[0m  \u001b[0;31m# pylint: disable=protected-access\u001b[0m\u001b[0;34m\u001b[0m\u001b[0;34m\u001b[0m\u001b[0m\n\u001b[0;32m---> 66\u001b[0;31m       \u001b[0;32mreturn\u001b[0m \u001b[0mmethod\u001b[0m\u001b[0;34m(\u001b[0m\u001b[0mself\u001b[0m\u001b[0;34m,\u001b[0m \u001b[0;34m*\u001b[0m\u001b[0margs\u001b[0m\u001b[0;34m,\u001b[0m \u001b[0;34m**\u001b[0m\u001b[0mkwargs\u001b[0m\u001b[0;34m)\u001b[0m\u001b[0;34m\u001b[0m\u001b[0;34m\u001b[0m\u001b[0m\n\u001b[0m\u001b[1;32m     67\u001b[0m \u001b[0;34m\u001b[0m\u001b[0m\n\u001b[1;32m     68\u001b[0m     \u001b[0;31m# Running inside `run_distribute_coordinator` already.\u001b[0m\u001b[0;34m\u001b[0m\u001b[0;34m\u001b[0m\u001b[0;34m\u001b[0m\u001b[0m\n",
            "\u001b[0;32m/usr/local/lib/python3.6/dist-packages/tensorflow/python/keras/engine/training.py\u001b[0m in \u001b[0;36mfit\u001b[0;34m(self, x, y, batch_size, epochs, verbose, callbacks, validation_split, validation_data, shuffle, class_weight, sample_weight, initial_epoch, steps_per_epoch, validation_steps, validation_batch_size, validation_freq, max_queue_size, workers, use_multiprocessing, **kwargs)\u001b[0m\n\u001b[1;32m    849\u001b[0m                 batch_size=batch_size):\n\u001b[1;32m    850\u001b[0m               \u001b[0mcallbacks\u001b[0m\u001b[0;34m.\u001b[0m\u001b[0mon_train_batch_begin\u001b[0m\u001b[0;34m(\u001b[0m\u001b[0mstep\u001b[0m\u001b[0;34m)\u001b[0m\u001b[0;34m\u001b[0m\u001b[0;34m\u001b[0m\u001b[0m\n\u001b[0;32m--> 851\u001b[0;31m               \u001b[0mtmp_logs\u001b[0m \u001b[0;34m=\u001b[0m \u001b[0mtrain_function\u001b[0m\u001b[0;34m(\u001b[0m\u001b[0miterator\u001b[0m\u001b[0;34m)\u001b[0m\u001b[0;34m\u001b[0m\u001b[0;34m\u001b[0m\u001b[0m\n\u001b[0m\u001b[1;32m    852\u001b[0m               \u001b[0;31m# Catch OutOfRangeError for Datasets of unknown size.\u001b[0m\u001b[0;34m\u001b[0m\u001b[0;34m\u001b[0m\u001b[0;34m\u001b[0m\u001b[0m\n\u001b[1;32m    853\u001b[0m               \u001b[0;31m# This blocks until the batch has finished executing.\u001b[0m\u001b[0;34m\u001b[0m\u001b[0;34m\u001b[0m\u001b[0;34m\u001b[0m\u001b[0m\n",
            "\u001b[0;32m/usr/local/lib/python3.6/dist-packages/tensorflow/python/eager/def_function.py\u001b[0m in \u001b[0;36m__call__\u001b[0;34m(self, *args, **kwds)\u001b[0m\n\u001b[1;32m    578\u001b[0m         \u001b[0mxla_context\u001b[0m\u001b[0;34m.\u001b[0m\u001b[0mExit\u001b[0m\u001b[0;34m(\u001b[0m\u001b[0;34m)\u001b[0m\u001b[0;34m\u001b[0m\u001b[0;34m\u001b[0m\u001b[0m\n\u001b[1;32m    579\u001b[0m     \u001b[0;32melse\u001b[0m\u001b[0;34m:\u001b[0m\u001b[0;34m\u001b[0m\u001b[0;34m\u001b[0m\u001b[0m\n\u001b[0;32m--> 580\u001b[0;31m       \u001b[0mresult\u001b[0m \u001b[0;34m=\u001b[0m \u001b[0mself\u001b[0m\u001b[0;34m.\u001b[0m\u001b[0m_call\u001b[0m\u001b[0;34m(\u001b[0m\u001b[0;34m*\u001b[0m\u001b[0margs\u001b[0m\u001b[0;34m,\u001b[0m \u001b[0;34m**\u001b[0m\u001b[0mkwds\u001b[0m\u001b[0;34m)\u001b[0m\u001b[0;34m\u001b[0m\u001b[0;34m\u001b[0m\u001b[0m\n\u001b[0m\u001b[1;32m    581\u001b[0m \u001b[0;34m\u001b[0m\u001b[0m\n\u001b[1;32m    582\u001b[0m     \u001b[0;32mif\u001b[0m \u001b[0mtracing_count\u001b[0m \u001b[0;34m==\u001b[0m \u001b[0mself\u001b[0m\u001b[0;34m.\u001b[0m\u001b[0m_get_tracing_count\u001b[0m\u001b[0;34m(\u001b[0m\u001b[0;34m)\u001b[0m\u001b[0;34m:\u001b[0m\u001b[0;34m\u001b[0m\u001b[0;34m\u001b[0m\u001b[0m\n",
            "\u001b[0;32m/usr/local/lib/python3.6/dist-packages/tensorflow/python/eager/def_function.py\u001b[0m in \u001b[0;36m_call\u001b[0;34m(self, *args, **kwds)\u001b[0m\n\u001b[1;32m    609\u001b[0m       \u001b[0;31m# In this case we have created variables on the first call, so we run the\u001b[0m\u001b[0;34m\u001b[0m\u001b[0;34m\u001b[0m\u001b[0;34m\u001b[0m\u001b[0m\n\u001b[1;32m    610\u001b[0m       \u001b[0;31m# defunned version which is guaranteed to never create variables.\u001b[0m\u001b[0;34m\u001b[0m\u001b[0;34m\u001b[0m\u001b[0;34m\u001b[0m\u001b[0m\n\u001b[0;32m--> 611\u001b[0;31m       \u001b[0;32mreturn\u001b[0m \u001b[0mself\u001b[0m\u001b[0;34m.\u001b[0m\u001b[0m_stateless_fn\u001b[0m\u001b[0;34m(\u001b[0m\u001b[0;34m*\u001b[0m\u001b[0margs\u001b[0m\u001b[0;34m,\u001b[0m \u001b[0;34m**\u001b[0m\u001b[0mkwds\u001b[0m\u001b[0;34m)\u001b[0m  \u001b[0;31m# pylint: disable=not-callable\u001b[0m\u001b[0;34m\u001b[0m\u001b[0;34m\u001b[0m\u001b[0m\n\u001b[0m\u001b[1;32m    612\u001b[0m     \u001b[0;32melif\u001b[0m \u001b[0mself\u001b[0m\u001b[0;34m.\u001b[0m\u001b[0m_stateful_fn\u001b[0m \u001b[0;32mis\u001b[0m \u001b[0;32mnot\u001b[0m \u001b[0;32mNone\u001b[0m\u001b[0;34m:\u001b[0m\u001b[0;34m\u001b[0m\u001b[0;34m\u001b[0m\u001b[0m\n\u001b[1;32m    613\u001b[0m       \u001b[0;31m# Release the lock early so that multiple threads can perform the call\u001b[0m\u001b[0;34m\u001b[0m\u001b[0;34m\u001b[0m\u001b[0;34m\u001b[0m\u001b[0m\n",
            "\u001b[0;32m/usr/local/lib/python3.6/dist-packages/tensorflow/python/eager/function.py\u001b[0m in \u001b[0;36m__call__\u001b[0;34m(self, *args, **kwargs)\u001b[0m\n\u001b[1;32m   2418\u001b[0m     \u001b[0;32mwith\u001b[0m \u001b[0mself\u001b[0m\u001b[0;34m.\u001b[0m\u001b[0m_lock\u001b[0m\u001b[0;34m:\u001b[0m\u001b[0;34m\u001b[0m\u001b[0;34m\u001b[0m\u001b[0m\n\u001b[1;32m   2419\u001b[0m       \u001b[0mgraph_function\u001b[0m\u001b[0;34m,\u001b[0m \u001b[0margs\u001b[0m\u001b[0;34m,\u001b[0m \u001b[0mkwargs\u001b[0m \u001b[0;34m=\u001b[0m \u001b[0mself\u001b[0m\u001b[0;34m.\u001b[0m\u001b[0m_maybe_define_function\u001b[0m\u001b[0;34m(\u001b[0m\u001b[0margs\u001b[0m\u001b[0;34m,\u001b[0m \u001b[0mkwargs\u001b[0m\u001b[0;34m)\u001b[0m\u001b[0;34m\u001b[0m\u001b[0;34m\u001b[0m\u001b[0m\n\u001b[0;32m-> 2420\u001b[0;31m     \u001b[0;32mreturn\u001b[0m \u001b[0mgraph_function\u001b[0m\u001b[0;34m.\u001b[0m\u001b[0m_filtered_call\u001b[0m\u001b[0;34m(\u001b[0m\u001b[0margs\u001b[0m\u001b[0;34m,\u001b[0m \u001b[0mkwargs\u001b[0m\u001b[0;34m)\u001b[0m  \u001b[0;31m# pylint: disable=protected-access\u001b[0m\u001b[0;34m\u001b[0m\u001b[0;34m\u001b[0m\u001b[0m\n\u001b[0m\u001b[1;32m   2421\u001b[0m \u001b[0;34m\u001b[0m\u001b[0m\n\u001b[1;32m   2422\u001b[0m   \u001b[0;34m@\u001b[0m\u001b[0mproperty\u001b[0m\u001b[0;34m\u001b[0m\u001b[0;34m\u001b[0m\u001b[0m\n",
            "\u001b[0;32m/usr/local/lib/python3.6/dist-packages/tensorflow/python/eager/function.py\u001b[0m in \u001b[0;36m_filtered_call\u001b[0;34m(self, args, kwargs)\u001b[0m\n\u001b[1;32m   1663\u001b[0m          if isinstance(t, (ops.Tensor,\n\u001b[1;32m   1664\u001b[0m                            resource_variable_ops.BaseResourceVariable))),\n\u001b[0;32m-> 1665\u001b[0;31m         self.captured_inputs)\n\u001b[0m\u001b[1;32m   1666\u001b[0m \u001b[0;34m\u001b[0m\u001b[0m\n\u001b[1;32m   1667\u001b[0m   \u001b[0;32mdef\u001b[0m \u001b[0m_call_flat\u001b[0m\u001b[0;34m(\u001b[0m\u001b[0mself\u001b[0m\u001b[0;34m,\u001b[0m \u001b[0margs\u001b[0m\u001b[0;34m,\u001b[0m \u001b[0mcaptured_inputs\u001b[0m\u001b[0;34m,\u001b[0m \u001b[0mcancellation_manager\u001b[0m\u001b[0;34m=\u001b[0m\u001b[0;32mNone\u001b[0m\u001b[0;34m)\u001b[0m\u001b[0;34m:\u001b[0m\u001b[0;34m\u001b[0m\u001b[0;34m\u001b[0m\u001b[0m\n",
            "\u001b[0;32m/usr/local/lib/python3.6/dist-packages/tensorflow/python/eager/function.py\u001b[0m in \u001b[0;36m_call_flat\u001b[0;34m(self, args, captured_inputs, cancellation_manager)\u001b[0m\n\u001b[1;32m   1744\u001b[0m       \u001b[0;31m# No tape is watching; skip to running the function.\u001b[0m\u001b[0;34m\u001b[0m\u001b[0;34m\u001b[0m\u001b[0;34m\u001b[0m\u001b[0m\n\u001b[1;32m   1745\u001b[0m       return self._build_call_outputs(self._inference_function.call(\n\u001b[0;32m-> 1746\u001b[0;31m           ctx, args, cancellation_manager=cancellation_manager))\n\u001b[0m\u001b[1;32m   1747\u001b[0m     forward_backward = self._select_forward_and_backward_functions(\n\u001b[1;32m   1748\u001b[0m         \u001b[0margs\u001b[0m\u001b[0;34m,\u001b[0m\u001b[0;34m\u001b[0m\u001b[0;34m\u001b[0m\u001b[0m\n",
            "\u001b[0;32m/usr/local/lib/python3.6/dist-packages/tensorflow/python/eager/function.py\u001b[0m in \u001b[0;36mcall\u001b[0;34m(self, ctx, args, cancellation_manager)\u001b[0m\n\u001b[1;32m    596\u001b[0m               \u001b[0minputs\u001b[0m\u001b[0;34m=\u001b[0m\u001b[0margs\u001b[0m\u001b[0;34m,\u001b[0m\u001b[0;34m\u001b[0m\u001b[0;34m\u001b[0m\u001b[0m\n\u001b[1;32m    597\u001b[0m               \u001b[0mattrs\u001b[0m\u001b[0;34m=\u001b[0m\u001b[0mattrs\u001b[0m\u001b[0;34m,\u001b[0m\u001b[0;34m\u001b[0m\u001b[0;34m\u001b[0m\u001b[0m\n\u001b[0;32m--> 598\u001b[0;31m               ctx=ctx)\n\u001b[0m\u001b[1;32m    599\u001b[0m         \u001b[0;32melse\u001b[0m\u001b[0;34m:\u001b[0m\u001b[0;34m\u001b[0m\u001b[0;34m\u001b[0m\u001b[0m\n\u001b[1;32m    600\u001b[0m           outputs = execute.execute_with_cancellation(\n",
            "\u001b[0;32m/usr/local/lib/python3.6/dist-packages/tensorflow/python/eager/execute.py\u001b[0m in \u001b[0;36mquick_execute\u001b[0;34m(op_name, num_outputs, inputs, attrs, ctx, name)\u001b[0m\n\u001b[1;32m     58\u001b[0m     \u001b[0mctx\u001b[0m\u001b[0;34m.\u001b[0m\u001b[0mensure_initialized\u001b[0m\u001b[0;34m(\u001b[0m\u001b[0;34m)\u001b[0m\u001b[0;34m\u001b[0m\u001b[0;34m\u001b[0m\u001b[0m\n\u001b[1;32m     59\u001b[0m     tensors = pywrap_tfe.TFE_Py_Execute(ctx._handle, device_name, op_name,\n\u001b[0;32m---> 60\u001b[0;31m                                         inputs, attrs, num_outputs)\n\u001b[0m\u001b[1;32m     61\u001b[0m   \u001b[0;32mexcept\u001b[0m \u001b[0mcore\u001b[0m\u001b[0;34m.\u001b[0m\u001b[0m_NotOkStatusException\u001b[0m \u001b[0;32mas\u001b[0m \u001b[0me\u001b[0m\u001b[0;34m:\u001b[0m\u001b[0;34m\u001b[0m\u001b[0;34m\u001b[0m\u001b[0m\n\u001b[1;32m     62\u001b[0m     \u001b[0;32mif\u001b[0m \u001b[0mname\u001b[0m \u001b[0;32mis\u001b[0m \u001b[0;32mnot\u001b[0m \u001b[0;32mNone\u001b[0m\u001b[0;34m:\u001b[0m\u001b[0;34m\u001b[0m\u001b[0;34m\u001b[0m\u001b[0m\n",
            "\u001b[0;31mKeyboardInterrupt\u001b[0m: "
          ]
        }
      ]
    },
    {
      "cell_type": "code",
      "metadata": {
        "id": "23d2vS9_DoqC",
        "colab_type": "code",
        "colab": {
          "base_uri": "https://localhost:8080/",
          "height": 34
        },
        "outputId": "1284adf5-2d58-4057-d126-de0a222a2040"
      },
      "source": [
        "train.shape"
      ],
      "execution_count": 29,
      "outputs": [
        {
          "output_type": "execute_result",
          "data": {
            "text/plain": [
              "(68706, 40, 40, 15)"
            ]
          },
          "metadata": {
            "tags": []
          },
          "execution_count": 29
        }
      ]
    },
    {
      "cell_type": "code",
      "metadata": {
        "id": "kqusWM3gDooQ",
        "colab_type": "code",
        "colab": {
          "base_uri": "https://localhost:8080/",
          "height": 34
        },
        "outputId": "c7702baa-4223-41d4-c759-0a598812dcb1"
      },
      "source": [
        "68706/6"
      ],
      "execution_count": 33,
      "outputs": [
        {
          "output_type": "execute_result",
          "data": {
            "text/plain": [
              "11451.0"
            ]
          },
          "metadata": {
            "tags": []
          },
          "execution_count": 33
        }
      ]
    },
    {
      "cell_type": "code",
      "metadata": {
        "id": "ZKvkUhJODolh",
        "colab_type": "code",
        "colab": {}
      },
      "source": [
        ""
      ],
      "execution_count": 0,
      "outputs": []
    },
    {
      "cell_type": "markdown",
      "metadata": {
        "id": "dlm5rZ5TpRih",
        "colab_type": "text"
      },
      "source": [
        "## 모델 훈련하기\n",
        "모델 훈련전에 GPU가 켜져있는지 확인!  \n",
        "(런타임 -> 런타임 유형 변경-> 하드웨어 가속기-> GPU)"
      ]
    },
    {
      "cell_type": "code",
      "metadata": {
        "id": "MuJqqeNuh0gm",
        "colab_type": "code",
        "colab": {}
      },
      "source": [
        "model_history = []\n",
        "\n",
        "# 모든 데이터에 대해서 훈련할 것.\n",
        "# 이미 메모리에 올라와 있는 train_p0를 메모리에서 제거\n",
        "del train_p0\n",
        "gc.collect()\n",
        "\n",
        "# 5개로 분할된 데이터마다 각각 훈련을 진행\n",
        "for i in range(5):\n",
        "    data = np.load(f'/content/drive/My Drive/2020 Kaggle Study/data/train/train_p{i}.npy')\n",
        "    train_dataset = tf.data.Dataset.from_generator(trainGenerator,\n",
        "                                               (tf.float32, tf.float32),\n",
        "                                               (tf.TensorShape([40,40,9]),\n",
        "                                                tf.TensorShape([40,40,1])),\n",
        "                                               args = [data])\n",
        "    \n",
        "    train_dataset = train_dataset.batch(512).prefetch(1)\n",
        "    history = model.fit(train_dataset, epochs = 20, verbose=1)\n",
        "    #history = model.fit(train_dataset, epochs = 20 ,batch_size = 11, verbose=1)\n",
        "    model_history.append(history)\n",
        "    del data\n",
        "    gc.collect()"
      ],
      "execution_count": 0,
      "outputs": []
    },
    {
      "cell_type": "markdown",
      "metadata": {
        "id": "_qg-RmDqpVq3",
        "colab_type": "text"
      },
      "source": [
        "## submission 만들기"
      ]
    },
    {
      "cell_type": "code",
      "metadata": {
        "colab_type": "code",
        "id": "XsjsawsGh_zs",
        "colab": {}
      },
      "source": [
        "pred = model.predict(X_test)"
      ],
      "execution_count": 0,
      "outputs": []
    },
    {
      "cell_type": "code",
      "metadata": {
        "colab_type": "code",
        "id": "BaAuaIqhh_z3",
        "colab": {}
      },
      "source": [
        "submission = pd.read_csv('/content/drive/My Drive/2020 Kaggle Study/data/sample_submission.csv')"
      ],
      "execution_count": 0,
      "outputs": []
    },
    {
      "cell_type": "code",
      "metadata": {
        "colab_type": "code",
        "id": "r3sFI91Gh_z8",
        "colab": {}
      },
      "source": [
        "submission.iloc[:,1:] = pred.reshape(-1, 1600)"
      ],
      "execution_count": 0,
      "outputs": []
    },
    {
      "cell_type": "code",
      "metadata": {
        "colab_type": "code",
        "id": "bPPRCvO_h_z_",
        "colab": {}
      },
      "source": [
        "submission.to_csv('Dacon_baseline.csv', index = False)"
      ],
      "execution_count": 0,
      "outputs": []
    },
    {
      "cell_type": "code",
      "metadata": {
        "colab_type": "code",
        "id": "9fBTzEKnh_0B",
        "colab": {}
      },
      "source": [
        "# 제출파일 구글 드라이브에 올리기\n",
        "!cp Dacon_baseline.csv '/content/drive/My Drive/2020 Kaggle Study/submission'"
      ],
      "execution_count": 0,
      "outputs": []
    }
  ]
}