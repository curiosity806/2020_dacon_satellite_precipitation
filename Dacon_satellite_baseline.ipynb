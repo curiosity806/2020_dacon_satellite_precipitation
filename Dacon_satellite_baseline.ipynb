{
  "nbformat": 4,
  "nbformat_minor": 0,
  "metadata": {
    "colab": {
      "name": "Dacon_satellite_baseline",
      "provenance": [],
      "machine_shape": "hm",
      "include_colab_link": true
    },
    "kernelspec": {
      "name": "python3",
      "display_name": "Python 3"
    },
    "accelerator": "GPU"
  },
  "cells": [
    {
      "cell_type": "markdown",
      "metadata": {
        "id": "view-in-github",
        "colab_type": "text"
      },
      "source": [
        "<a href=\"https://colab.research.google.com/github/curiosity806/2020_dacon_satellite_precipitation/blob/cut-sunny-images/Dacon_satellite_baseline.ipynb\" target=\"_parent\"><img src=\"https://colab.research.google.com/assets/colab-badge.svg\" alt=\"Open In Colab\"/></a>"
      ]
    },
    {
      "cell_type": "markdown",
      "metadata": {
        "id": "XsaIvLKHsjva",
        "colab_type": "text"
      },
      "source": [
        "## Import"
      ]
    },
    {
      "cell_type": "code",
      "metadata": {
        "id": "oi-MWY4HOblX",
        "colab_type": "code",
        "outputId": "14a1f5d3-d664-45d1-ddea-be427a1cb308",
        "colab": {
          "base_uri": "https://localhost:8080/",
          "height": 34
        }
      },
      "source": [
        "from google.colab import drive\n",
        "drive.mount('/content/drive')"
      ],
      "execution_count": 1,
      "outputs": [
        {
          "output_type": "stream",
          "text": [
            "Drive already mounted at /content/drive; to attempt to forcibly remount, call drive.mount(\"/content/drive\", force_remount=True).\n"
          ],
          "name": "stdout"
        }
      ]
    },
    {
      "cell_type": "code",
      "metadata": {
        "id": "h6La-zpczGzY",
        "colab_type": "code",
        "colab": {}
      },
      "source": [
        "import pandas as pd\n",
        "import numpy as np\n",
        "import random\n",
        "import sys\n",
        "import tensorflow as tf\n",
        "from tensorflow.keras.layers import Conv2D, Conv2DTranspose, Dropout, MaxPooling2D, BatchNormalization, concatenate, Input\n",
        "from tensorflow.keras import Model"
      ],
      "execution_count": 0,
      "outputs": []
    },
    {
      "cell_type": "code",
      "metadata": {
        "id": "bKjP-Uobze5P",
        "colab_type": "code",
        "colab": {}
      },
      "source": [
        "# 재생산성을 위해 시드 고정\n",
        "np.random.seed(7)\n",
        "random.seed(7)\n",
        "tf.random.set_seed(7)"
      ],
      "execution_count": 0,
      "outputs": []
    },
    {
      "cell_type": "markdown",
      "metadata": {
        "id": "0pUOc4bq-IrZ",
        "colab_type": "text"
      },
      "source": [
        "## 데이터 받아오기"
      ]
    },
    {
      "cell_type": "code",
      "metadata": {
        "id": "q1iW93kj0O2u",
        "colab_type": "code",
        "colab": {}
      },
      "source": [
        "import os.path\n",
        "\n",
        "if not os.path.isfile('train.npy'):\n",
        "    !cp '/content/drive/My Drive/2020 Kaggle Study/data/train.npy' train.npy\n",
        "if not os.path.isfile('test.npy'): \n",
        "    !cp '/content/drive/My Drive/2020 Kaggle Study/data/test.npy' test.npy\n",
        "if not os.path.isfile('gmi_preci.npy'):\n",
        "    !cp '/content/drive/My Drive/2020 Kaggle Study/data/gmi_preci.npy' gmi_preci.npy\n",
        "\n",
        "train = np.load('train.npy')  # float32\n",
        "test = np.load('test.npy')  # float64\n",
        "gmi_preci = np.load('gmi_preci.npy')  # float32"
      ],
      "execution_count": 0,
      "outputs": []
    },
    {
      "cell_type": "markdown",
      "metadata": {
        "id": "P-S9OXyd9K-a",
        "colab_type": "text"
      },
      "source": [
        "## Train test split"
      ]
    },
    {
      "cell_type": "code",
      "metadata": {
        "id": "zsowKWD39Qsi",
        "colab_type": "code",
        "colab": {}
      },
      "source": [
        "from sklearn.model_selection import train_test_split\n",
        "train, val, y_train, y_val = train_test_split(train, gmi_preci, test_size=0.025, random_state=7777)"
      ],
      "execution_count": 0,
      "outputs": []
    },
    {
      "cell_type": "markdown",
      "metadata": {
        "id": "MbBPp8ebseqp",
        "colab_type": "text"
      },
      "source": [
        "## Data preprocess"
      ]
    },
    {
      "cell_type": "code",
      "metadata": {
        "id": "U3Gcx_uZv8xW",
        "colab_type": "code",
        "colab": {}
      },
      "source": [
        "from sklearn.preprocessing import StandardScaler\n",
        "scaler = StandardScaler()\n",
        "scaler.fit(train[:,:,:,:9].reshape(-1, 9))\n",
        "\n",
        "def preprocess(data):\n",
        "    # Normalize sensor data\n",
        "    data[:,:,:,:9] = scaler.transform(data[:,:,:,:9].reshape(-1, 9)).reshape(-1, 40, 40, 9)\n",
        "\n",
        "    # Land type\n",
        "    land_type_data = data[:,:,:,9]\n",
        "    data[:,:,:,9] = np.where(land_type_data//100 == 2, 0.8,\n",
        "                              np.where(land_type_data//100 == 3, 0.1,\n",
        "                                       land_type_data//100))\n",
        "\n",
        "    return data"
      ],
      "execution_count": 0,
      "outputs": []
    },
    {
      "cell_type": "code",
      "metadata": {
        "id": "UCpO8Eenso9k",
        "colab_type": "code",
        "colab": {
          "base_uri": "https://localhost:8080/",
          "height": 34
        },
        "outputId": "f45edcb1-0a05-4110-a488-f4c087653746"
      },
      "source": [
        "# -9999를 포함한 이미지, 강수인 지역이 50픽셀 미만인 이미지 제거\n",
        "is_valid = (train[:,:,:,-1].reshape(-1, 1600) < 0).sum(axis=1) == 0\n",
        "is_valid = is_valid & ((train[:,:,:,-1].reshape(-1, 1600) >= 0.1).sum(axis=1) >= 50)\n",
        "train = train[is_valid]  # (-1, 40, 40, 15)\n",
        "y_train = y_train[is_valid]  # (-1, 40, 40, 1)\n",
        "print(train.shape, y_train.shape)"
      ],
      "execution_count": 7,
      "outputs": [
        {
          "output_type": "stream",
          "text": [
            "(29870, 40, 40, 15) (29870, 40, 40, 1)\n"
          ],
          "name": "stdout"
        }
      ]
    },
    {
      "cell_type": "code",
      "metadata": {
        "id": "jGj-ULPdRw4f",
        "colab_type": "code",
        "colab": {}
      },
      "source": [
        "x_train = preprocess(train)[:,:,:,:10]\n",
        "x_val = preprocess(val)[:,:,:,:10]\n",
        "del train\n",
        "del val"
      ],
      "execution_count": 0,
      "outputs": []
    },
    {
      "cell_type": "markdown",
      "metadata": {
        "colab_type": "text",
        "id": "pYZYG3G-Itsk"
      },
      "source": [
        "## 모델만들기"
      ]
    },
    {
      "cell_type": "code",
      "metadata": {
        "id": "i_NhbS4s09p_",
        "colab_type": "code",
        "colab": {}
      },
      "source": [
        "from sklearn.metrics import f1_score\n",
        "\n",
        "def mae(y_true, y_pred) :\n",
        "    y_true, y_pred = np.array(y_true), np.array(y_pred)\n",
        "    y_true = y_true.reshape(1, -1)[0]\n",
        "    y_pred = y_pred.reshape(1, -1)[0]\n",
        "    over_threshold = y_true >= 0.1\n",
        "    return np.mean(np.abs(y_true[over_threshold] - y_pred[over_threshold]))\n",
        "\n",
        "def fscore(y_true, y_pred):\n",
        "    y_true, y_pred = np.array(y_true), np.array(y_pred)\n",
        "    y_true = y_true.reshape(1, -1)[0]\n",
        "    y_pred = y_pred.reshape(1, -1)[0]\n",
        "    remove_NAs = y_true >= 0\n",
        "    y_true = np.where(y_true[remove_NAs] >= 0.1, 1, 0)\n",
        "    y_pred = np.where(y_pred[remove_NAs] >= 0.1, 1, 0)\n",
        "    return(f1_score(y_true, y_pred))\n",
        "\n",
        "def maeOverFscore(y_true, y_pred):\n",
        "    return mae(y_true, y_pred) / (fscore(y_true, y_pred) + 1e-07)\n",
        "\n",
        "def fscore_keras(y_true, y_pred):\n",
        "    score = tf.py_function(func=fscore, inp=[y_true, y_pred], Tout=tf.float32, name='fscore_keras')\n",
        "    return score\n",
        "\n",
        "def maeOverFscore_keras(y_true, y_pred):\n",
        "    score = tf.py_function(func=maeOverFscore, inp=[y_true, y_pred], Tout=tf.float32,  name='custom_mse') \n",
        "    return score"
      ],
      "execution_count": 0,
      "outputs": []
    },
    {
      "cell_type": "code",
      "metadata": {
        "id": "3vBZ09E8JZpC",
        "colab_type": "code",
        "colab": {}
      },
      "source": [
        "def build_model(input_layer, start_neurons):\n",
        "    # 40 x 40 -> 20 x 20\n",
        "    conv1 = Conv2D(start_neurons * 1, (3, 3), activation=\"relu\", padding=\"same\")(input_layer)\n",
        "    conv1 = Conv2D(start_neurons * 1, (3, 3), activation=\"relu\", padding=\"same\")(conv1)\n",
        "    pool1 = BatchNormalization()(conv1)\n",
        "    pool1 = MaxPooling2D((2, 2))(pool1)\n",
        "    pool1 = Dropout(0.25)(pool1)\n",
        "\n",
        "    # 20 x 20 -> 10 x 10\n",
        "    conv2 = Conv2D(start_neurons * 2, (3, 3), activation=\"relu\", padding=\"same\")(pool1)\n",
        "    conv2 = Conv2D(start_neurons * 2, (3, 3), activation=\"relu\", padding=\"same\")(conv2)\n",
        "    pool2 = BatchNormalization()(conv2)\n",
        "    pool2 = MaxPooling2D((2, 2))(pool2)\n",
        "    pool2 = Dropout(0.25)(pool2)\n",
        "\n",
        "    # 10 x 10 \n",
        "    convm = Conv2D(start_neurons * 4, (3, 3), activation=\"relu\", padding=\"same\")(pool2)\n",
        "\n",
        "    # 10 x 10 -> 20 x 20\n",
        "    deconv2 = Conv2DTranspose(start_neurons * 2, (3, 3), strides=(2, 2), padding=\"same\")(convm)\n",
        "    uconv2 = concatenate([deconv2, conv2])\n",
        "    uconv2 = Dropout(0.25)(uconv2)\n",
        "    uconv2 = Conv2D(start_neurons * 2, (3, 3), activation=\"relu\", padding=\"same\")(uconv2)\n",
        "    uconv2 = Conv2D(start_neurons * 2, (3, 3), activation=\"relu\", padding=\"same\")(uconv2)\n",
        "    uconv2 = BatchNormalization()(uconv2)\n",
        "\n",
        "    # 20 x 20 -> 40 x 40\n",
        "    deconv1 = Conv2DTranspose(start_neurons * 1, (3, 3), strides=(2, 2), padding=\"same\")(uconv2)\n",
        "    uconv1 = concatenate([deconv1, conv1])\n",
        "    uconv1 = Dropout(0.25)(uconv1)\n",
        "    uconv1 = Conv2D(start_neurons * 1, (3, 3), activation=\"relu\", padding=\"same\")(uconv1)\n",
        "    uconv1 = Conv2D(start_neurons * 1, (3, 3), activation=\"relu\", padding=\"same\")(uconv1)\n",
        "    uconv1 = BatchNormalization()(uconv1)\n",
        "    uconv1 = Dropout(0.25)(uconv1)\n",
        "    output_layer = Conv2D(1, (1, 1), padding=\"same\", activation='relu')(uconv1)\n",
        "\n",
        "    return output_layer\n",
        "\n",
        "input_layer = Input((40, 40, 10))\n",
        "output_layer = build_model(input_layer, 32)"
      ],
      "execution_count": 0,
      "outputs": []
    },
    {
      "cell_type": "code",
      "metadata": {
        "id": "Sv7Hk_LM1DNf",
        "colab_type": "code",
        "colab": {}
      },
      "source": [
        "model = Model(input_layer, output_layer)\n",
        "model.compile(loss=\"mae\", optimizer=\"adam\", metrics=[maeOverFscore_keras, fscore_keras])"
      ],
      "execution_count": 0,
      "outputs": []
    },
    {
      "cell_type": "markdown",
      "metadata": {
        "colab_type": "text",
        "id": "nWrybUnXIts7"
      },
      "source": [
        "## 모델 학습"
      ]
    },
    {
      "cell_type": "code",
      "metadata": {
        "id": "jLaFxud8iNXy",
        "colab_type": "code",
        "outputId": "82deb1fd-9470-4817-8324-aeca37cac1bd",
        "colab": {
          "base_uri": "https://localhost:8080/",
          "height": 1000
        }
      },
      "source": [
        "model.fit(x_train, y_train, epochs=50, batch_size=256, validation_data=(x_val, y_val))"
      ],
      "execution_count": 12,
      "outputs": [
        {
          "output_type": "stream",
          "text": [
            "Epoch 1/50\n",
            "117/117 [==============================] - 38s 326ms/step - loss: 0.2917 - maeOverFscore_keras: 2.6076 - fscore_keras: 0.6135 - val_loss: 65.8665 - val_maeOverFscore_keras: 2.6419 - val_fscore_keras: 0.5441\n",
            "Epoch 2/50\n",
            "117/117 [==============================] - 37s 318ms/step - loss: 0.2388 - maeOverFscore_keras: 1.8097 - fscore_keras: 0.7186 - val_loss: 65.8632 - val_maeOverFscore_keras: 2.3555 - val_fscore_keras: 0.5715\n",
            "Epoch 3/50\n",
            "117/117 [==============================] - 37s 319ms/step - loss: 0.2300 - maeOverFscore_keras: 1.7093 - fscore_keras: 0.7322 - val_loss: 65.8404 - val_maeOverFscore_keras: 1.7709 - val_fscore_keras: 0.6778\n",
            "Epoch 4/50\n",
            "117/117 [==============================] - 37s 316ms/step - loss: 0.2268 - maeOverFscore_keras: 1.6746 - fscore_keras: 0.7364 - val_loss: 65.8451 - val_maeOverFscore_keras: 1.6511 - val_fscore_keras: 0.6718\n",
            "Epoch 5/50\n",
            "117/117 [==============================] - 37s 318ms/step - loss: 0.2213 - maeOverFscore_keras: 1.5999 - fscore_keras: 0.7516 - val_loss: 65.8311 - val_maeOverFscore_keras: 1.4838 - val_fscore_keras: 0.7175\n",
            "Epoch 6/50\n",
            "117/117 [==============================] - 37s 315ms/step - loss: 0.2190 - maeOverFscore_keras: 1.5679 - fscore_keras: 0.7583 - val_loss: 65.8316 - val_maeOverFscore_keras: 1.5602 - val_fscore_keras: 0.7033\n",
            "Epoch 7/50\n",
            "117/117 [==============================] - 38s 322ms/step - loss: 0.2168 - maeOverFscore_keras: 1.5453 - fscore_keras: 0.7608 - val_loss: 65.8441 - val_maeOverFscore_keras: 1.6982 - val_fscore_keras: 0.6537\n",
            "Epoch 8/50\n",
            "117/117 [==============================] - 37s 319ms/step - loss: 0.2155 - maeOverFscore_keras: 1.5353 - fscore_keras: 0.7627 - val_loss: 65.8308 - val_maeOverFscore_keras: 1.3822 - val_fscore_keras: 0.7348\n",
            "Epoch 9/50\n",
            "117/117 [==============================] - 38s 322ms/step - loss: 0.2147 - maeOverFscore_keras: 1.5208 - fscore_keras: 0.7657 - val_loss: 65.8268 - val_maeOverFscore_keras: 1.3749 - val_fscore_keras: 0.7436\n",
            "Epoch 10/50\n",
            "117/117 [==============================] - 37s 318ms/step - loss: 0.2127 - maeOverFscore_keras: 1.5029 - fscore_keras: 0.7686 - val_loss: 65.8272 - val_maeOverFscore_keras: 1.3898 - val_fscore_keras: 0.7410\n",
            "Epoch 11/50\n",
            "117/117 [==============================] - 37s 316ms/step - loss: 0.2136 - maeOverFscore_keras: 1.5164 - fscore_keras: 0.7646 - val_loss: 65.8270 - val_maeOverFscore_keras: 1.4085 - val_fscore_keras: 0.7373\n",
            "Epoch 12/50\n",
            "117/117 [==============================] - 37s 318ms/step - loss: 0.2116 - maeOverFscore_keras: 1.4893 - fscore_keras: 0.7721 - val_loss: 65.8411 - val_maeOverFscore_keras: 1.3959 - val_fscore_keras: 0.7254\n",
            "Epoch 13/50\n",
            "117/117 [==============================] - 37s 318ms/step - loss: 0.2105 - maeOverFscore_keras: 1.4754 - fscore_keras: 0.7743 - val_loss: 65.8280 - val_maeOverFscore_keras: 1.3627 - val_fscore_keras: 0.7436\n",
            "Epoch 14/50\n",
            "117/117 [==============================] - 37s 319ms/step - loss: 0.2091 - maeOverFscore_keras: 1.4628 - fscore_keras: 0.7761 - val_loss: 65.8265 - val_maeOverFscore_keras: 1.3964 - val_fscore_keras: 0.7387\n",
            "Epoch 15/50\n",
            "117/117 [==============================] - 37s 320ms/step - loss: 0.2083 - maeOverFscore_keras: 1.4525 - fscore_keras: 0.7779 - val_loss: 65.8297 - val_maeOverFscore_keras: 1.3898 - val_fscore_keras: 0.7443\n",
            "Epoch 16/50\n",
            "117/117 [==============================] - 38s 321ms/step - loss: 0.2073 - maeOverFscore_keras: 1.4439 - fscore_keras: 0.7790 - val_loss: 65.8259 - val_maeOverFscore_keras: 1.3181 - val_fscore_keras: 0.7495\n",
            "Epoch 17/50\n",
            "117/117 [==============================] - 38s 321ms/step - loss: 0.2084 - maeOverFscore_keras: 1.4552 - fscore_keras: 0.7770 - val_loss: 65.8285 - val_maeOverFscore_keras: 1.3860 - val_fscore_keras: 0.7365\n",
            "Epoch 18/50\n",
            "117/117 [==============================] - 37s 319ms/step - loss: 0.2059 - maeOverFscore_keras: 1.4292 - fscore_keras: 0.7813 - val_loss: 65.8355 - val_maeOverFscore_keras: 1.3417 - val_fscore_keras: 0.7452\n",
            "Epoch 19/50\n",
            "117/117 [==============================] - 38s 321ms/step - loss: 0.2057 - maeOverFscore_keras: 1.4266 - fscore_keras: 0.7819 - val_loss: 65.8286 - val_maeOverFscore_keras: 1.3203 - val_fscore_keras: 0.7511\n",
            "Epoch 20/50\n",
            "117/117 [==============================] - 38s 321ms/step - loss: 0.2056 - maeOverFscore_keras: 1.4259 - fscore_keras: 0.7813 - val_loss: 65.8281 - val_maeOverFscore_keras: 1.3551 - val_fscore_keras: 0.7462\n",
            "Epoch 21/50\n",
            "117/117 [==============================] - 38s 322ms/step - loss: 0.2070 - maeOverFscore_keras: 1.4397 - fscore_keras: 0.7791 - val_loss: 65.8253 - val_maeOverFscore_keras: 1.3335 - val_fscore_keras: 0.7437\n",
            "Epoch 22/50\n",
            "117/117 [==============================] - 38s 321ms/step - loss: 0.2041 - maeOverFscore_keras: 1.4116 - fscore_keras: 0.7844 - val_loss: 65.8255 - val_maeOverFscore_keras: 1.3193 - val_fscore_keras: 0.7599\n",
            "Epoch 23/50\n",
            "117/117 [==============================] - 37s 320ms/step - loss: 0.2034 - maeOverFscore_keras: 1.4068 - fscore_keras: 0.7851 - val_loss: 65.8229 - val_maeOverFscore_keras: 1.2644 - val_fscore_keras: 0.7623\n",
            "Epoch 24/50\n",
            "117/117 [==============================] - 37s 317ms/step - loss: 0.2032 - maeOverFscore_keras: 1.4015 - fscore_keras: 0.7854 - val_loss: 65.8235 - val_maeOverFscore_keras: 1.3247 - val_fscore_keras: 0.7502\n",
            "Epoch 25/50\n",
            "117/117 [==============================] - 37s 317ms/step - loss: 0.2025 - maeOverFscore_keras: 1.3968 - fscore_keras: 0.7869 - val_loss: 65.8230 - val_maeOverFscore_keras: 1.3039 - val_fscore_keras: 0.7558\n",
            "Epoch 26/50\n",
            "117/117 [==============================] - 37s 319ms/step - loss: 0.2023 - maeOverFscore_keras: 1.3933 - fscore_keras: 0.7873 - val_loss: 65.8246 - val_maeOverFscore_keras: 1.3267 - val_fscore_keras: 0.7504\n",
            "Epoch 27/50\n",
            "117/117 [==============================] - 37s 320ms/step - loss: 0.2023 - maeOverFscore_keras: 1.3946 - fscore_keras: 0.7867 - val_loss: 65.8229 - val_maeOverFscore_keras: 1.3008 - val_fscore_keras: 0.7575\n",
            "Epoch 28/50\n",
            "117/117 [==============================] - 38s 322ms/step - loss: 0.2025 - maeOverFscore_keras: 1.3955 - fscore_keras: 0.7862 - val_loss: 65.8232 - val_maeOverFscore_keras: 1.2968 - val_fscore_keras: 0.7576\n",
            "Epoch 29/50\n",
            "117/117 [==============================] - 37s 320ms/step - loss: 0.2012 - maeOverFscore_keras: 1.3832 - fscore_keras: 0.7896 - val_loss: 65.8231 - val_maeOverFscore_keras: 1.3047 - val_fscore_keras: 0.7521\n",
            "Epoch 30/50\n",
            "117/117 [==============================] - 38s 328ms/step - loss: 0.2007 - maeOverFscore_keras: 1.3799 - fscore_keras: 0.7893 - val_loss: 65.8221 - val_maeOverFscore_keras: 1.2701 - val_fscore_keras: 0.7627\n",
            "Epoch 31/50\n",
            "117/117 [==============================] - 37s 317ms/step - loss: 0.2008 - maeOverFscore_keras: 1.3818 - fscore_keras: 0.7880 - val_loss: 65.8215 - val_maeOverFscore_keras: 1.2653 - val_fscore_keras: 0.7643\n",
            "Epoch 32/50\n",
            "117/117 [==============================] - 37s 320ms/step - loss: 0.2001 - maeOverFscore_keras: 1.3737 - fscore_keras: 0.7900 - val_loss: 65.8239 - val_maeOverFscore_keras: 1.3197 - val_fscore_keras: 0.7528\n",
            "Epoch 33/50\n",
            "117/117 [==============================] - 38s 321ms/step - loss: 0.2000 - maeOverFscore_keras: 1.3719 - fscore_keras: 0.7908 - val_loss: 65.8224 - val_maeOverFscore_keras: 1.2709 - val_fscore_keras: 0.7676\n",
            "Epoch 34/50\n",
            "117/117 [==============================] - 37s 318ms/step - loss: 0.1997 - maeOverFscore_keras: 1.3687 - fscore_keras: 0.7911 - val_loss: 65.8222 - val_maeOverFscore_keras: 1.2753 - val_fscore_keras: 0.7595\n",
            "Epoch 35/50\n",
            "117/117 [==============================] - 38s 322ms/step - loss: 0.1993 - maeOverFscore_keras: 1.3652 - fscore_keras: 0.7917 - val_loss: 65.8220 - val_maeOverFscore_keras: 1.2584 - val_fscore_keras: 0.7685\n",
            "Epoch 36/50\n",
            "117/117 [==============================] - 38s 321ms/step - loss: 0.2003 - maeOverFscore_keras: 1.3733 - fscore_keras: 0.7897 - val_loss: 65.8221 - val_maeOverFscore_keras: 1.2489 - val_fscore_keras: 0.7653\n",
            "Epoch 37/50\n",
            "117/117 [==============================] - 37s 320ms/step - loss: 0.1988 - maeOverFscore_keras: 1.3589 - fscore_keras: 0.7920 - val_loss: 65.8215 - val_maeOverFscore_keras: 1.2501 - val_fscore_keras: 0.7664\n",
            "Epoch 38/50\n",
            "117/117 [==============================] - 38s 322ms/step - loss: 0.1988 - maeOverFscore_keras: 1.3592 - fscore_keras: 0.7924 - val_loss: 65.8305 - val_maeOverFscore_keras: 1.4035 - val_fscore_keras: 0.7307\n",
            "Epoch 39/50\n",
            "117/117 [==============================] - 39s 334ms/step - loss: 0.1986 - maeOverFscore_keras: 1.3596 - fscore_keras: 0.7921 - val_loss: 65.8263 - val_maeOverFscore_keras: 1.3287 - val_fscore_keras: 0.7570\n",
            "Epoch 40/50\n",
            "117/117 [==============================] - 38s 321ms/step - loss: 0.1991 - maeOverFscore_keras: 1.3620 - fscore_keras: 0.7916 - val_loss: 65.8233 - val_maeOverFscore_keras: 1.2695 - val_fscore_keras: 0.7686\n",
            "Epoch 41/50\n",
            "117/117 [==============================] - 38s 322ms/step - loss: 0.1988 - maeOverFscore_keras: 1.3603 - fscore_keras: 0.7919 - val_loss: 65.8210 - val_maeOverFscore_keras: 1.2474 - val_fscore_keras: 0.7684\n",
            "Epoch 42/50\n",
            "117/117 [==============================] - 37s 317ms/step - loss: 0.1971 - maeOverFscore_keras: 1.3455 - fscore_keras: 0.7942 - val_loss: 65.8207 - val_maeOverFscore_keras: 1.2348 - val_fscore_keras: 0.7723\n",
            "Epoch 43/50\n",
            "117/117 [==============================] - 37s 316ms/step - loss: 0.1978 - maeOverFscore_keras: 1.3522 - fscore_keras: 0.7927 - val_loss: 65.8239 - val_maeOverFscore_keras: 1.2879 - val_fscore_keras: 0.7524\n",
            "Epoch 44/50\n",
            "117/117 [==============================] - 37s 319ms/step - loss: 0.1978 - maeOverFscore_keras: 1.3528 - fscore_keras: 0.7928 - val_loss: 65.8222 - val_maeOverFscore_keras: 1.2644 - val_fscore_keras: 0.7625\n",
            "Epoch 45/50\n",
            "117/117 [==============================] - 37s 319ms/step - loss: 0.1972 - maeOverFscore_keras: 1.3463 - fscore_keras: 0.7935 - val_loss: 65.8220 - val_maeOverFscore_keras: 1.2640 - val_fscore_keras: 0.7677\n",
            "Epoch 46/50\n",
            "117/117 [==============================] - 37s 319ms/step - loss: 0.1967 - maeOverFscore_keras: 1.3445 - fscore_keras: 0.7933 - val_loss: 65.8209 - val_maeOverFscore_keras: 1.2265 - val_fscore_keras: 0.7718\n",
            "Epoch 47/50\n",
            "117/117 [==============================] - 38s 322ms/step - loss: 0.1970 - maeOverFscore_keras: 1.3446 - fscore_keras: 0.7947 - val_loss: 65.8207 - val_maeOverFscore_keras: 1.2421 - val_fscore_keras: 0.7704\n",
            "Epoch 48/50\n",
            "117/117 [==============================] - 38s 329ms/step - loss: 0.1963 - maeOverFscore_keras: 1.3376 - fscore_keras: 0.7953 - val_loss: 65.8208 - val_maeOverFscore_keras: 1.2445 - val_fscore_keras: 0.7657\n",
            "Epoch 49/50\n",
            "117/117 [==============================] - 38s 322ms/step - loss: 0.1960 - maeOverFscore_keras: 1.3344 - fscore_keras: 0.7956 - val_loss: 65.8215 - val_maeOverFscore_keras: 1.2832 - val_fscore_keras: 0.7565\n",
            "Epoch 50/50\n",
            "117/117 [==============================] - 38s 322ms/step - loss: 0.1961 - maeOverFscore_keras: 1.3385 - fscore_keras: 0.7939 - val_loss: 65.8208 - val_maeOverFscore_keras: 1.2266 - val_fscore_keras: 0.7733\n"
          ],
          "name": "stdout"
        },
        {
          "output_type": "execute_result",
          "data": {
            "text/plain": [
              "<tensorflow.python.keras.callbacks.History at 0x7f5940171278>"
            ]
          },
          "metadata": {
            "tags": []
          },
          "execution_count": 12
        }
      ]
    },
    {
      "cell_type": "code",
      "metadata": {
        "id": "HoowuSxyZgLH",
        "colab_type": "code",
        "colab": {}
      },
      "source": [
        "## 모델 저장하기\n",
        "model.save('model1903.h5')\n",
        "!cp model1903.h5 '/content/drive/My Drive/2020 Kaggle Study/model'"
      ],
      "execution_count": 0,
      "outputs": []
    },
    {
      "cell_type": "markdown",
      "metadata": {
        "id": "LjmLe8t7j8cN",
        "colab_type": "text"
      },
      "source": [
        "## Precipatation GMI -> DPR"
      ]
    },
    {
      "cell_type": "code",
      "metadata": {
        "id": "zyTSFuEGkEd4",
        "colab_type": "code",
        "colab": {}
      },
      "source": [
        "dr = [(-1, -1), (-1, 0), (-1, 1),\n",
        "      (0, -1), (0, 0), (0, 1),\n",
        "      (1, -1), (1, 0), (1, 1)]\n",
        "\n",
        "# p1, p2: shape=(-1, 2).\n",
        "def get_dist(p1, p2):\n",
        "    x1 = np.deg2rad(p1[:,0])\n",
        "    y1 = np.deg2rad(p1[:,1])\n",
        "    x2 = np.deg2rad(p2[:,0])\n",
        "    y2 = np.deg2rad(p2[:,1])\n",
        "    dlon = x2 - x1\n",
        "    dlat = y2 - y1\n",
        "    a = np.sin(dlat/2)**2 + np.cos(y1) * np.cos(y2) * np.sin(dlon/2)**2 \n",
        "    c = 2 * np.arctan2(np.sqrt(a), np.sqrt(1-a))    \n",
        "    return 6373.0 * c  # km, shape=(-1).\n",
        "\n",
        "# ori_ll에서의 value 값을 tgt_ll에 대한 값으로 바꾼다.\n",
        "# value: (40, 40, -1)\n",
        "# ori_ll, tgt_ll: (40, 40, 2)\n",
        "# ori_ll: value에 대응되는 원래 latitude, longitude.\n",
        "# tgt_ll: 변환되는 값에 대응되는 latitude, longitude.\n",
        "def compen_ll(value, ori_ll, tgt_ll):\n",
        "    ret = np.empty_like(value)\n",
        "\n",
        "    n = value.shape[0]\n",
        "    m = value.shape[1]\n",
        "\n",
        "    for i in range(n):\n",
        "        for j in range(m):\n",
        "            nears = []  # (row, col, value)\n",
        "            for k in range(9):\n",
        "                ii = i + dr[k][0]\n",
        "                jj = j + dr[k][1]\n",
        "                if ii >= 0 and ii < n and jj >= 0 and jj < m:\n",
        "                    nears.append((ori_ll[ii, jj][0], ori_ll[ii, jj][1],\n",
        "                                  tgt_ll[i, j][0], tgt_ll[i, j][1],\n",
        "                                  value[ii, jj]))\n",
        "\n",
        "            nears = np.array(nears)  # shape=(-1, 5)\n",
        "            dists = get_dist(nears[:, 0:2], nears[:, 2:4]).reshape(-1, 1)\n",
        "            values = nears[:, 4].reshape(-1, 1)\n",
        "            nears = np.concatenate((dists, values), 1)\n",
        "            nears = nears[np.argsort(nears[:, 0])]  # sort by dist\n",
        "            nears = nears[:4, :]  # 가까운 점 4개만 고려\n",
        "\n",
        "            weights = 1 / (nears[:, 0] ** 2 + sys.float_info.epsilon)\n",
        "            weighted_sum = (weights * nears[:, 1]).sum()\n",
        "            ret[i, j] = weighted_sum / weights.sum()\n",
        "    return ret"
      ],
      "execution_count": 0,
      "outputs": []
    },
    {
      "cell_type": "code",
      "metadata": {
        "id": "gG9A32a6qyyc",
        "colab_type": "code",
        "colab": {}
      },
      "source": [
        "x_test = preprocess(test)\n",
        "pred = model.predict(x_test[:,:,:,:10]).reshape(-1, 40, 40, 1)\n",
        "test = np.concatenate((x_test, pred), axis=3)"
      ],
      "execution_count": 0,
      "outputs": []
    },
    {
      "cell_type": "code",
      "metadata": {
        "id": "fSTjD9TqqRXm",
        "colab_type": "code",
        "colab": {}
      },
      "source": [
        "from multiprocessing import Process, Manager\n",
        "\n",
        "n_procs = 4\n",
        "procs = []\n",
        "manager = Manager()\n",
        "dpr_preci = manager.list([None] * n_procs)\n",
        "\n",
        "# split test into n_procs arrays\n",
        "n_imgs = test.shape[0]\n",
        "splitted = np.split(test, np.arange((n_imgs + n_procs - 1) // n_procs, n_imgs, n_imgs // n_procs))\n",
        "\n",
        "def proc_func(proc_id):\n",
        "    part = splitted[proc_id]\n",
        "    arr = np.empty_like(part[:, :, :, 14])  # shape=(-1, 40, 40)\n",
        "    for i in range(part.shape[0]):\n",
        "        arr[i, :, :] = compen_ll(part[i, :, :, 14],\n",
        "                                 part[i, :, :, 12:14],\n",
        "                                 part[i, :, :, 10:12])\n",
        "        if (i + 1) % 1000 == 0:\n",
        "            print(proc_id, i + 1)\n",
        "    dpr_preci[proc_id] = arr\n",
        "\n",
        "for proc_id in range(n_procs):\n",
        "    proc = Process(target=proc_func, args=(proc_id, ))\n",
        "    proc.start()\n",
        "    procs.append(proc)\n",
        "\n",
        "for proc in procs:\n",
        "    proc.join()\n",
        "\n",
        "dpr_preci = np.concatenate(dpr_preci)"
      ],
      "execution_count": 0,
      "outputs": []
    },
    {
      "cell_type": "markdown",
      "metadata": {
        "colab_type": "text",
        "id": "2xM7q7FpIttP"
      },
      "source": [
        "## submission 만들기"
      ]
    },
    {
      "cell_type": "code",
      "metadata": {
        "colab_type": "code",
        "id": "BaAuaIqhh_z3",
        "colab": {}
      },
      "source": [
        "submission = pd.read_csv('/content/drive/My Drive/2020 Kaggle Study/data/sample_submission.csv')\n",
        "submission.iloc[:,1:] = dpr_preci.reshape(-1, 1600)"
      ],
      "execution_count": 0,
      "outputs": []
    },
    {
      "cell_type": "code",
      "metadata": {
        "colab_type": "code",
        "id": "9fBTzEKnh_0B",
        "colab": {}
      },
      "source": [
        "# 제출 파일 저장하기\n",
        "submission.to_csv('submission1903.csv', index=False)\n",
        "!cp submission1903.csv '/content/drive/My Drive/2020 Kaggle Study/submission'"
      ],
      "execution_count": 0,
      "outputs": []
    }
  ]
}