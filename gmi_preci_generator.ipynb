{
  "nbformat": 4,
  "nbformat_minor": 0,
  "metadata": {
    "colab": {
      "name": "gmi-preci-generator",
      "provenance": [],
      "toc_visible": true,
      "machine_shape": "hm",
      "include_colab_link": true
    },
    "kernelspec": {
      "name": "python3",
      "display_name": "Python 3"
    }
  },
  "cells": [
    {
      "cell_type": "markdown",
      "metadata": {
        "id": "view-in-github",
        "colab_type": "text"
      },
      "source": [
        "<a href=\"https://colab.research.google.com/github/curiosity806/2020_dacon_satellite_precipitation/blob/feat%2Flatitude-longitude-compensation/gmi_preci_generator.ipynb\" target=\"_parent\"><img src=\"https://colab.research.google.com/assets/colab-badge.svg\" alt=\"Open In Colab\"/></a>"
      ]
    },
    {
      "cell_type": "markdown",
      "metadata": {
        "id": "XsaIvLKHsjva",
        "colab_type": "text"
      },
      "source": [
        "## Import"
      ]
    },
    {
      "cell_type": "code",
      "metadata": {
        "id": "oi-MWY4HOblX",
        "colab_type": "code",
        "outputId": "33844fb1-793d-4382-dcf0-d62e118b67cc",
        "colab": {
          "base_uri": "https://localhost:8080/",
          "height": 132
        }
      },
      "source": [
        "from google.colab import drive\n",
        "drive.mount('/content/drive')"
      ],
      "execution_count": 0,
      "outputs": [
        {
          "output_type": "stream",
          "text": [
            "Go to this URL in a browser: https://accounts.google.com/o/oauth2/auth?client_id=947318989803-6bn6qk8qdgf4n4g3pfee6491hc0brc4i.apps.googleusercontent.com&redirect_uri=urn%3aietf%3awg%3aoauth%3a2.0%3aoob&response_type=code&scope=email%20https%3a%2f%2fwww.googleapis.com%2fauth%2fdocs.test%20https%3a%2f%2fwww.googleapis.com%2fauth%2fdrive%20https%3a%2f%2fwww.googleapis.com%2fauth%2fdrive.photos.readonly%20https%3a%2f%2fwww.googleapis.com%2fauth%2fpeopleapi.readonly\n",
            "\n",
            "Enter your authorization code:\n",
            "··········\n",
            "Mounted at /content/drive\n"
          ],
          "name": "stdout"
        }
      ]
    },
    {
      "cell_type": "code",
      "metadata": {
        "id": "h6La-zpczGzY",
        "colab_type": "code",
        "outputId": "2af6cc5b-d7ca-4c1c-8927-0a60dfb61c64",
        "colab": {
          "base_uri": "https://localhost:8080/",
          "height": 55
        }
      },
      "source": [
        "import glob\n",
        "import pandas as pd\n",
        "import numpy as np\n",
        "import matplotlib.pylab as plt\n",
        "import seaborn as sns\n",
        "from tqdm import tqdm\n",
        "import matplotlib.pyplot as plt\n",
        "import tensorflow as tf\n",
        "import os\n",
        "import random\n",
        "from tensorflow.keras.layers import Dense, Conv2D, Dropout, Conv2DTranspose, MaxPooling2D, BatchNormalization, Activation, concatenate, Input, GlobalAveragePooling2D\n",
        "from tensorflow.keras import Model\n",
        "import warnings\n",
        "import gc\n",
        "import sys\n",
        "from math import sin, cos, sqrt, atan2, radians\n",
        " \n",
        "warnings.filterwarnings(\"ignore\")"
      ],
      "execution_count": 0,
      "outputs": [
        {
          "output_type": "stream",
          "text": [
            "/usr/local/lib/python3.6/dist-packages/statsmodels/tools/_testing.py:19: FutureWarning: pandas.util.testing is deprecated. Use the functions in the public API at pandas.testing instead.\n",
            "  import pandas.util.testing as tm\n"
          ],
          "name": "stderr"
        }
      ]
    },
    {
      "cell_type": "code",
      "metadata": {
        "id": "ihaRksAgzLvo",
        "colab_type": "code",
        "outputId": "26ca2e1d-4010-4778-d16c-798c15282999",
        "colab": {
          "base_uri": "https://localhost:8080/",
          "height": 36
        }
      },
      "source": [
        "tf.__version__"
      ],
      "execution_count": 0,
      "outputs": [
        {
          "output_type": "execute_result",
          "data": {
            "text/plain": [
              "'2.2.0-rc4'"
            ]
          },
          "metadata": {
            "tags": []
          },
          "execution_count": 9
        }
      ]
    },
    {
      "cell_type": "markdown",
      "metadata": {
        "id": "0pUOc4bq-IrZ",
        "colab_type": "text"
      },
      "source": [
        "## Load data"
      ]
    },
    {
      "cell_type": "code",
      "metadata": {
        "id": "q1iW93kj0O2u",
        "colab_type": "code",
        "colab": {}
      },
      "source": [
        "# 훈련 데이터 및 자가 test데이터 불러오기\n",
        "train = np.load('/content/drive/My Drive/2020 Kaggle Study/data/train_total_32bits.npy')\n",
        "#test = np.load('/content/drive/My Drive/2020 Kaggle Study/data/32bits_data/test_32bits.npy')"
      ],
      "execution_count": 0,
      "outputs": []
    },
    {
      "cell_type": "code",
      "metadata": {
        "id": "bKjP-Uobze5P",
        "colab_type": "code",
        "colab": {}
      },
      "source": [
        "# 재생산성을 위해 시드 고정\n",
        "np.random.seed(7)\n",
        "random.seed(7)\n",
        "tf.random.set_seed(7)"
      ],
      "execution_count": 0,
      "outputs": []
    },
    {
      "cell_type": "markdown",
      "metadata": {
        "id": "gbaFtjtgsXYa",
        "colab_type": "text"
      },
      "source": [
        "## Comepensate precipatations"
      ]
    },
    {
      "cell_type": "code",
      "metadata": {
        "id": "H-IjL-rELjZ_",
        "colab_type": "code",
        "colab": {}
      },
      "source": [
        "dr = [(-1, -1), (-1, 0), (-1, 1),\n",
        "      (0, -1), (0, 0), (0, 1),\n",
        "      (1, -1), (1, 0), (1, 1)]\n",
        "\n",
        "# p1, p2: shape=(-1, 2).\n",
        "def get_dist(p1, p2):\n",
        "    x1 = np.deg2rad(p1[:,0])\n",
        "    y1 = np.deg2rad(p1[:,1])\n",
        "    x2 = np.deg2rad(p2[:,0])\n",
        "    y2 = np.deg2rad(p2[:,1])\n",
        "    dlon = x2 - x1\n",
        "    dlat = y2 - y1\n",
        "    a = np.sin(dlat/2)**2 + np.cos(y1) * np.cos(y2) * np.sin(dlon/2)**2 \n",
        "    c = 2 * np.arctan2(np.sqrt(a), np.sqrt(1-a))    \n",
        "    return 6373.0 * c  # km, shape=(-1).\n",
        "\n",
        "# ori_ll에서의 value 값을 tgt_ll에 대한 값으로 바꾼다.\n",
        "# value: (40, 40, -1)\n",
        "# ori_ll, tgt_ll: (40, 40, 2)\n",
        "# ori_ll: value에 대응되는 원래 latitude, longitude.\n",
        "# tgt_ll: 변환되는 값에 대응되는 latitude, longitude.\n",
        "def compen_ll(value, ori_ll, tgt_ll):\n",
        "    ret = np.empty_like(value)\n",
        "\n",
        "    n = value.shape[0]\n",
        "    m = value.shape[1]\n",
        "\n",
        "    for i in range(n):\n",
        "        for j in range(m):\n",
        "            nears = []  # (row, col, value)\n",
        "            for k in range(9):\n",
        "                ii = i + dr[k][0]\n",
        "                jj = j + dr[k][1]\n",
        "                if ii >= 0 and ii < n and jj >= 0 and jj < m:\n",
        "                    nears.append((ori_ll[ii, jj][0], ori_ll[ii, jj][1],\n",
        "                                  tgt_ll[i, j][0], tgt_ll[i, j][1],\n",
        "                                  value[ii, jj]))\n",
        "\n",
        "            nears = np.array(nears)  # shape=(-1, 5)\n",
        "            dists = get_dist(nears[:, 0:2], nears[:, 2:4]).reshape(-1, 1)\n",
        "            values = nears[:, 4].reshape(-1, 1)\n",
        "            nears = np.concatenate((dists, values), 1)\n",
        "            nears = nears[np.argsort(nears[:, 0])]  # sort by dist\n",
        "\n",
        "            weights = 1 / (nears[:, 0] ** 2 + sys.float_info.epsilon)\n",
        "            weighted_sum = (weights * nears[:, 1]).sum()\n",
        "            ret[i, j] = weighted_sum / weights.sum()\n",
        "    return ret"
      ],
      "execution_count": 0,
      "outputs": []
    },
    {
      "cell_type": "code",
      "metadata": {
        "id": "8aLcmSsDYM60",
        "colab_type": "code",
        "outputId": "bc786df7-d360-4968-8efb-6ab788ff1c69",
        "colab": {
          "base_uri": "https://localhost:8080/",
          "height": 1000
        }
      },
      "source": [
        "from multiprocessing import Process, Manager\n",
        "\n",
        "n_procs = 4\n",
        "procs = []\n",
        "manager = Manager()\n",
        "gmi_preci = manager.list([None] * n_procs)\n",
        "\n",
        "# split train into n_procs arrays\n",
        "n_imgs = train.shape[0]\n",
        "splitted = np.split(train, np.arange((n_imgs + n_procs - 1) // n_procs,\n",
        "                                     n_imgs, n_imgs // n_procs))\n",
        "\n",
        "def proc_func(proc_id):\n",
        "    part = splitted[proc_id]\n",
        "    arr = np.empty_like(part[:, :, :, 14])  # shape=(-1, 40, 40)\n",
        "    for i in range(part.shape[0]):\n",
        "        arr[i, :, :] = compen_ll(part[i, :, :, 14],\n",
        "                                 part[i, :, :, 12:14],\n",
        "                                 part[i, :, :, 10:12])\n",
        "        if (i + 1) % 1000 == 0:\n",
        "            print(proc_id, i + 1)\n",
        "    gmi_preci[proc_id] = arr\n",
        "\n",
        "for proc_id in range(n_procs):\n",
        "    proc = Process(target=proc_func, args=(proc_id, ))\n",
        "    proc.start()\n",
        "    procs.append(proc)\n",
        "\n",
        "for proc in procs:\n",
        "    proc.join()\n",
        "\n",
        "gmi_preci = np.concatenate(gmi_preci)\n",
        "gmi_preci = gmi_preci.reshape(-1, 40, 40, 1)\n",
        "gmi_preci = gmi_preci.astype(np.float32)"
      ],
      "execution_count": 0,
      "outputs": [
        {
          "output_type": "stream",
          "text": [
            "1 1000\n",
            "2 1000\n",
            "3 1000\n",
            "0 1000\n",
            "1 2000\n",
            "2 2000\n",
            "3 2000\n",
            "0 2000\n",
            "1 3000\n",
            "3 3000\n",
            "2 3000\n",
            "0 3000\n",
            "3 4000\n",
            "2 4000\n",
            "1 4000\n",
            "0 4000\n",
            "3 5000\n",
            "1 5000\n",
            "2 5000\n",
            "0 5000\n",
            "3 6000\n",
            "1 6000\n",
            "2 6000\n",
            "0 6000\n",
            "3 7000\n",
            "1 7000\n",
            "2 7000\n",
            "0 7000\n",
            "3 8000\n",
            "1 8000\n",
            "2 8000\n",
            "0 8000\n",
            "3 9000\n",
            "1 9000\n",
            "2 9000\n",
            "0 9000\n",
            "3 10000\n",
            "1 10000\n",
            "2 10000\n",
            "0 10000\n",
            "3 11000\n",
            "1 11000\n",
            "2 11000\n",
            "0 11000\n",
            "3 12000\n",
            "1 12000\n",
            "2 12000\n",
            "0 12000\n",
            "3 13000\n",
            "1 13000\n",
            "2 13000\n",
            "0 13000\n",
            "3 14000\n",
            "1 14000\n",
            "2 14000\n",
            "0 14000\n",
            "3 15000\n",
            "1 15000\n",
            "2 15000\n",
            "0 15000\n",
            "3 16000\n",
            "1 16000\n",
            "2 16000\n",
            "0 16000\n",
            "3 17000\n",
            "1 17000\n",
            "2 17000\n",
            "0 17000\n",
            "3 18000\n",
            "1 18000\n",
            "2 18000\n",
            "0 18000\n",
            "3 19000\n",
            "1 19000\n",
            "2 19000\n",
            "0 19000\n"
          ],
          "name": "stdout"
        },
        {
          "output_type": "error",
          "ename": "NameError",
          "evalue": "ignored",
          "traceback": [
            "\u001b[0;31m---------------------------------------------------------------------------\u001b[0m",
            "\u001b[0;31mNameError\u001b[0m                                 Traceback (most recent call last)",
            "\u001b[0;32m<ipython-input-58-ce6b2bac04c2>\u001b[0m in \u001b[0;36m<module>\u001b[0;34m()\u001b[0m\n\u001b[1;32m     33\u001b[0m \u001b[0mgmi_preci\u001b[0m \u001b[0;34m=\u001b[0m \u001b[0mgmi_preci\u001b[0m\u001b[0;34m.\u001b[0m\u001b[0mreshape\u001b[0m\u001b[0;34m(\u001b[0m\u001b[0;34m-\u001b[0m\u001b[0;36m1\u001b[0m\u001b[0;34m,\u001b[0m \u001b[0;36m40\u001b[0m\u001b[0;34m,\u001b[0m \u001b[0;36m40\u001b[0m\u001b[0;34m,\u001b[0m \u001b[0;36m1\u001b[0m\u001b[0;34m)\u001b[0m\u001b[0;34m\u001b[0m\u001b[0;34m\u001b[0m\u001b[0m\n\u001b[1;32m     34\u001b[0m \u001b[0mgmi_preci\u001b[0m \u001b[0;34m=\u001b[0m \u001b[0mgmi_preci\u001b[0m\u001b[0;34m.\u001b[0m\u001b[0mastype\u001b[0m\u001b[0;34m(\u001b[0m\u001b[0mnp\u001b[0m\u001b[0;34m.\u001b[0m\u001b[0mfloat32\u001b[0m\u001b[0;34m)\u001b[0m\u001b[0;34m\u001b[0m\u001b[0;34m\u001b[0m\u001b[0m\n\u001b[0;32m---> 35\u001b[0;31m \u001b[0mnumpy\u001b[0m\u001b[0;34m.\u001b[0m\u001b[0msave\u001b[0m\u001b[0;34m(\u001b[0m\u001b[0;34m'/content/drive/My Drive/2020 Kaggle Study/data/gmi_preci_32bits.npy'\u001b[0m\u001b[0;34m)\u001b[0m\u001b[0;34m\u001b[0m\u001b[0;34m\u001b[0m\u001b[0m\n\u001b[0m",
            "\u001b[0;31mNameError\u001b[0m: name 'numpy' is not defined"
          ]
        }
      ]
    },
    {
      "cell_type": "markdown",
      "metadata": {
        "id": "Yu78Jkf1635R",
        "colab_type": "text"
      },
      "source": [
        "## Save gmi precipatations data"
      ]
    },
    {
      "cell_type": "code",
      "metadata": {
        "id": "Zs7d_1NH4GRr",
        "colab_type": "code",
        "colab": {}
      },
      "source": [
        "np.save('/content/drive/My Drive/2020 Kaggle Study/data/gmi_preci_32bits.npy',\n",
        "               gmi_preci)"
      ],
      "execution_count": 0,
      "outputs": []
    }
  ]
}