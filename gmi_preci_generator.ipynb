{
  "nbformat": 4,
  "nbformat_minor": 0,
  "metadata": {
    "colab": {
      "name": "gmi-preci-generator",
      "provenance": [],
      "machine_shape": "hm",
      "include_colab_link": true
    },
    "kernelspec": {
      "name": "python3",
      "display_name": "Python 3"
    },
    "accelerator": "TPU"
  },
  "cells": [
    {
      "cell_type": "markdown",
      "metadata": {
        "id": "view-in-github",
        "colab_type": "text"
      },
      "source": [
        "<a href=\"https://colab.research.google.com/github/curiosity806/2020_dacon_satellite_precipitation/blob/master/gmi_preci_generator.ipynb\" target=\"_parent\"><img src=\"https://colab.research.google.com/assets/colab-badge.svg\" alt=\"Open In Colab\"/></a>"
      ]
    },
    {
      "cell_type": "markdown",
      "metadata": {
        "id": "XsaIvLKHsjva",
        "colab_type": "text"
      },
      "source": [
        "## Import"
      ]
    },
    {
      "cell_type": "code",
      "metadata": {
        "id": "oi-MWY4HOblX",
        "colab_type": "code",
        "colab": {
          "base_uri": "https://localhost:8080/",
          "height": 121
        },
        "outputId": "b0240435-708e-4b8e-8bfc-90a04f3af5fe"
      },
      "source": [
        "from google.colab import drive\n",
        "drive.mount('/content/drive')"
      ],
      "execution_count": 1,
      "outputs": [
        {
          "output_type": "stream",
          "text": [
            "Go to this URL in a browser: https://accounts.google.com/o/oauth2/auth?client_id=947318989803-6bn6qk8qdgf4n4g3pfee6491hc0brc4i.apps.googleusercontent.com&redirect_uri=urn%3aietf%3awg%3aoauth%3a2.0%3aoob&response_type=code&scope=email%20https%3a%2f%2fwww.googleapis.com%2fauth%2fdocs.test%20https%3a%2f%2fwww.googleapis.com%2fauth%2fdrive%20https%3a%2f%2fwww.googleapis.com%2fauth%2fdrive.photos.readonly%20https%3a%2f%2fwww.googleapis.com%2fauth%2fpeopleapi.readonly\n",
            "\n",
            "Enter your authorization code:\n",
            "··········\n",
            "Mounted at /content/drive\n"
          ],
          "name": "stdout"
        }
      ]
    },
    {
      "cell_type": "code",
      "metadata": {
        "id": "h6La-zpczGzY",
        "colab_type": "code",
        "colab": {}
      },
      "source": [
        "import numpy as np\n",
        "import sys"
      ],
      "execution_count": 0,
      "outputs": []
    },
    {
      "cell_type": "markdown",
      "metadata": {
        "id": "0pUOc4bq-IrZ",
        "colab_type": "text"
      },
      "source": [
        "## Load data"
      ]
    },
    {
      "cell_type": "code",
      "metadata": {
        "id": "q1iW93kj0O2u",
        "colab_type": "code",
        "colab": {}
      },
      "source": [
        "train = np.load('/content/drive/My Drive/2020 Kaggle Study/data/train.npy')"
      ],
      "execution_count": 0,
      "outputs": []
    },
    {
      "cell_type": "markdown",
      "metadata": {
        "id": "gbaFtjtgsXYa",
        "colab_type": "text"
      },
      "source": [
        "## Comepensate precipatations"
      ]
    },
    {
      "cell_type": "code",
      "metadata": {
        "id": "H-IjL-rELjZ_",
        "colab_type": "code",
        "colab": {}
      },
      "source": [
        "dr = [(-1, -1), (-1, 0), (-1, 1),\n",
        "      (0, -1), (0, 0), (0, 1),\n",
        "      (1, -1), (1, 0), (1, 1)]\n",
        "\n",
        "# p1, p2: shape=(-1, 2).\n",
        "def get_dist(p1, p2):\n",
        "    x1 = np.deg2rad(p1[:,0])\n",
        "    y1 = np.deg2rad(p1[:,1])\n",
        "    x2 = np.deg2rad(p2[:,0])\n",
        "    y2 = np.deg2rad(p2[:,1])\n",
        "    dlon = x2 - x1\n",
        "    dlat = y2 - y1\n",
        "    a = np.sin(dlat/2)**2 + np.cos(y1) * np.cos(y2) * np.sin(dlon/2)**2 \n",
        "    c = 2 * np.arctan2(np.sqrt(a), np.sqrt(1-a))    \n",
        "    return 6373.0 * c  # km, shape=(-1).\n",
        "\n",
        "# ori_ll에서의 value 값을 tgt_ll에 대한 값으로 바꾼다.\n",
        "# value: (40, 40, -1)\n",
        "# ori_ll, tgt_ll: (40, 40, 2)\n",
        "# ori_ll: value에 대응되는 원래 latitude, longitude.\n",
        "# tgt_ll: 변환되는 값에 대응되는 latitude, longitude.\n",
        "def compen_ll(value, ori_ll, tgt_ll):\n",
        "    ret = np.empty_like(value)\n",
        "\n",
        "    n = value.shape[0]\n",
        "    m = value.shape[1]\n",
        "\n",
        "    for i in range(n):\n",
        "        for j in range(m):\n",
        "            nears = []  # (row, col, value)\n",
        "            for k in range(9):\n",
        "                ii = i + dr[k][0]\n",
        "                jj = j + dr[k][1]\n",
        "                if ii >= 0 and ii < n and jj >= 0 and jj < m:\n",
        "                    nears.append((ori_ll[ii, jj][0], ori_ll[ii, jj][1],\n",
        "                                  tgt_ll[i, j][0], tgt_ll[i, j][1],\n",
        "                                  value[ii, jj]))\n",
        "\n",
        "            nears = np.array(nears)  # shape=(-1, 5)\n",
        "            dists = get_dist(nears[:, 0:2], nears[:, 2:4]).reshape(-1, 1)\n",
        "            values = nears[:, 4].reshape(-1, 1)\n",
        "            nears = np.concatenate((dists, values), 1)\n",
        "            nears = nears[np.argsort(nears[:, 0])]  # sort by dist\n",
        "            nears = nears[:4, :]  # 가까운 점 4개만 고려\n",
        "\n",
        "            weights = 1 / (nears[:, 0] ** 2 + sys.float_info.epsilon)\n",
        "            weighted_sum = (weights * nears[:, 1]).sum()\n",
        "            ret[i, j] = weighted_sum / weights.sum()\n",
        "    return ret"
      ],
      "execution_count": 0,
      "outputs": []
    },
    {
      "cell_type": "code",
      "metadata": {
        "id": "8aLcmSsDYM60",
        "colab_type": "code",
        "colab": {
          "base_uri": "https://localhost:8080/",
          "height": 1000
        },
        "outputId": "b18f56d4-03db-47a9-ca69-51c750c81dfc"
      },
      "source": [
        "from multiprocessing import Process, Manager\n",
        "\n",
        "n_procs = 4\n",
        "procs = []\n",
        "manager = Manager()\n",
        "gmi_preci = manager.list([None] * n_procs)\n",
        "\n",
        "# split train into n_procs arrays\n",
        "n_imgs = train.shape[0]\n",
        "splitted = np.split(train, np.arange((n_imgs + n_procs - 1) // n_procs,\n",
        "                                     n_imgs, n_imgs // n_procs))\n",
        "\n",
        "def proc_func(proc_id):\n",
        "    part = splitted[proc_id]\n",
        "    arr = np.empty_like(part[:, :, :, 14])  # shape=(-1, 40, 40)\n",
        "    for i in range(part.shape[0]):\n",
        "        arr[i, :, :] = compen_ll(part[i, :, :, 14],\n",
        "                                 part[i, :, :, 12:14],\n",
        "                                 part[i, :, :, 10:12])\n",
        "        if (i + 1) % 1000 == 0:\n",
        "            print(proc_id, i + 1)\n",
        "    gmi_preci[proc_id] = arr\n",
        "\n",
        "for proc_id in range(n_procs):\n",
        "    proc = Process(target=proc_func, args=(proc_id, ))\n",
        "    proc.start()\n",
        "    procs.append(proc)\n",
        "\n",
        "for proc in procs:\n",
        "    proc.join()\n",
        "\n",
        "gmi_preci = np.concatenate(gmi_preci)\n",
        "gmi_preci = gmi_preci.reshape(-1, 40, 40, 1)\n",
        "gmi_preci = gmi_preci.astype(np.float32)"
      ],
      "execution_count": 5,
      "outputs": [
        {
          "output_type": "stream",
          "text": [
            "2 1000\n",
            "0 1000\n",
            "1 1000\n",
            "3 1000\n",
            "2 2000\n",
            "0 2000\n",
            "1 2000\n",
            "3 2000\n",
            "2 3000\n",
            "0 3000\n",
            "1 3000\n",
            "3 3000\n",
            "1 4000\n",
            "0 4000\n",
            "3 4000\n",
            "2 5000\n",
            "1 5000\n",
            "0 5000\n",
            "3 5000\n",
            "2 6000\n",
            "1 6000\n",
            "0 6000\n",
            "3 6000\n",
            "2 7000\n",
            "1 7000\n",
            "0 7000\n",
            "3 7000\n",
            "2 8000\n",
            "1 8000\n",
            "0 8000\n",
            "3 8000\n",
            "2 9000\n",
            "1 9000\n",
            "0 9000\n",
            "3 9000\n",
            "2 10000\n",
            "1 10000\n",
            "0 10000\n",
            "3 10000\n",
            "2 11000\n",
            "1 11000\n",
            "0 11000\n",
            "3 11000\n",
            "2 12000\n",
            "1 12000\n",
            "0 12000\n",
            "3 12000\n",
            "2 13000\n",
            "1 13000\n",
            "0 13000\n",
            "3 13000\n",
            "2 14000\n",
            "1 14000\n",
            "0 14000\n",
            "3 14000\n",
            "2 15000\n",
            "1 15000\n",
            "0 15000\n",
            "3 15000\n",
            "2 16000\n",
            "1 16000\n",
            "0 16000\n",
            "3 16000\n",
            "2 17000\n",
            "1 17000\n",
            "0 17000\n",
            "3 17000\n",
            "2 18000\n",
            "1 18000\n",
            "0 18000\n",
            "3 18000\n",
            "2 19000\n",
            "1 19000\n",
            "0 19000\n",
            "3 19000\n"
          ],
          "name": "stdout"
        }
      ]
    },
    {
      "cell_type": "markdown",
      "metadata": {
        "id": "Yu78Jkf1635R",
        "colab_type": "text"
      },
      "source": [
        "## Save gmi precipatations data"
      ]
    },
    {
      "cell_type": "code",
      "metadata": {
        "id": "Zs7d_1NH4GRr",
        "colab_type": "code",
        "colab": {}
      },
      "source": [
        "np.save('/content/drive/My Drive/2020 Kaggle Study/data/gmi_preci.npy', gmi_preci)"
      ],
      "execution_count": 0,
      "outputs": []
    }
  ]
}