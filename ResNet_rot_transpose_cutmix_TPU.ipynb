{
  "nbformat": 4,
  "nbformat_minor": 0,
  "metadata": {
    "colab": {
      "name": "ResNet_rot_transpose_cutmix_TPU",
      "provenance": [],
      "collapsed_sections": [],
      "machine_shape": "hm",
      "include_colab_link": true
    },
    "kernelspec": {
      "name": "python3",
      "display_name": "Python 3"
    },
    "accelerator": "TPU"
  },
  "cells": [
    {
      "cell_type": "markdown",
      "metadata": {
        "id": "view-in-github",
        "colab_type": "text"
      },
      "source": [
        "<a href=\"https://colab.research.google.com/github/curiosity806/2020_dacon_satellite_precipitation/blob/augment8%2Fresnet-single/ResNet_rot_transpose_cutmix_TPU.ipynb\" target=\"_parent\"><img src=\"https://colab.research.google.com/assets/colab-badge.svg\" alt=\"Open In Colab\"/></a>"
      ]
    },
    {
      "cell_type": "code",
      "metadata": {
        "id": "CERvD2qnzoxM",
        "colab_type": "code",
        "colab": {}
      },
      "source": [
        "def cutmix(image, label):\n",
        "    # input image - is a batch of images of size [n,dim,dim,3] not a single image of [dim,dim,3]\n",
        "    # output - a batch of images with cutmix applied\n",
        "    DIM = 40\n",
        "    imgs = []\n",
        "    labs = []\n",
        "    PROBABILITY = 1.0\n",
        "\n",
        "    for j in range(AUG_BATCH):\n",
        "        # DO CUTMIX WITH PROBABILITY DEFINED ABOVE\n",
        "        P = tf.cast( tf.random.uniform([],0,1)<=PROBABILITY, tf.int32)\n",
        "        # CHOOSE RANDOM IMAGE TO CUTMIX WITH\n",
        "        k = tf.cast( tf.random.uniform([],0,AUG_BATCH),tf.int32)\n",
        "        # CHOOSE RANDOM LOCATION\n",
        "        x = tf.cast( tf.random.uniform([],0,DIM),tf.int32)\n",
        "        y = tf.cast( tf.random.uniform([],0,DIM),tf.int32)\n",
        "        b = tf.random.uniform([],0,1) # this is beta dist with alpha=1.0\n",
        "        WIDTH = tf.cast( DIM * tf.math.sqrt(1-b),tf.int32) * P\n",
        "        #print(WIDTH)\n",
        "        ya = tf.math.maximum(0,y-WIDTH//2) \n",
        "        yb = tf.math.minimum(DIM,y+WIDTH//2)\n",
        "        xa = tf.math.maximum(0,x-WIDTH//2)\n",
        "        xb = tf.math.minimum(DIM,x+WIDTH//2)\n",
        "\n",
        "        # MAKE CUTMIX IMAGE\n",
        "        #o = tf.constant(0,'int32')\n",
        "        print(ya)\n",
        "        one = image[j,ya:yb,0:xa,:]\n",
        "        two = image[k,ya:yb,xa:xb,:]\n",
        "        three = image[j,ya:yb,xb:DIM,:]\n",
        "        middle = tf.concat([one,two,three],axis=1)\n",
        "        img = tf.concat([image[j,0:ya,:,:],middle,image[j,yb:DIM,:,:]],axis=0)\n",
        "        imgs.append(img)\n",
        "\n",
        "        # MAKE CUTMIX LABEL\n",
        "        one = label[j,ya:yb,0:xa,:]\n",
        "        two = label[k,ya:yb,xa:xb,:]\n",
        "        three = label[j,ya:yb,xb:DIM,:]\n",
        "        middle = tf.concat([one,two,three],axis=1)\n",
        "        label = tf.concat([label[j,0:ya,:,:], middle, label[j,yb:DIM,:,:]],axis=0)\n",
        "        labs.append(label)\n",
        "\n",
        "    image2 = tf.reshape(tf.stack(imgs),(AUG_BATCH,DIM,DIM,10))\n",
        "    label2 = tf.reshape(tf.stack(labs),(AUG_BATCH,DIM,DIM,1))\n",
        "    return image2,label2"
      ],
      "execution_count": 0,
      "outputs": []
    },
    {
      "cell_type": "code",
      "metadata": {
        "id": "oi-MWY4HOblX",
        "colab_type": "code",
        "outputId": "0de96cbb-f4df-4cf6-f9ad-6d420a8cecc5",
        "colab": {
          "base_uri": "https://localhost:8080/",
          "height": 125
        }
      },
      "source": [
        "from google.colab import drive\n",
        "drive.mount('/content/drive')"
      ],
      "execution_count": 1,
      "outputs": [
        {
          "output_type": "stream",
          "text": [
            "Go to this URL in a browser: https://accounts.google.com/o/oauth2/auth?client_id=947318989803-6bn6qk8qdgf4n4g3pfee6491hc0brc4i.apps.googleusercontent.com&redirect_uri=urn%3aietf%3awg%3aoauth%3a2.0%3aoob&response_type=code&scope=email%20https%3a%2f%2fwww.googleapis.com%2fauth%2fdocs.test%20https%3a%2f%2fwww.googleapis.com%2fauth%2fdrive%20https%3a%2f%2fwww.googleapis.com%2fauth%2fdrive.photos.readonly%20https%3a%2f%2fwww.googleapis.com%2fauth%2fpeopleapi.readonly\n",
            "\n",
            "Enter your authorization code:\n",
            "··········\n",
            "Mounted at /content/drive\n"
          ],
          "name": "stdout"
        }
      ]
    },
    {
      "cell_type": "code",
      "metadata": {
        "id": "_pj84NcY6oGu",
        "colab_type": "code",
        "colab": {}
      },
      "source": [
        "!cp '/content/drive/My Drive/2020 Kaggle Study/data/Copy of train.npy' train.npy"
      ],
      "execution_count": 0,
      "outputs": []
    },
    {
      "cell_type": "code",
      "metadata": {
        "id": "h6La-zpczGzY",
        "colab_type": "code",
        "outputId": "b7210fbe-1116-4697-fb52-9225c44f7905",
        "colab": {
          "base_uri": "https://localhost:8080/",
          "height": 52
        }
      },
      "source": [
        "import glob\n",
        "import pandas as pd\n",
        "import numpy as np\n",
        "import matplotlib.pylab as plt\n",
        "import seaborn as sns\n",
        "from tqdm import tqdm\n",
        "import matplotlib.pyplot as plt\n",
        "import tensorflow as tf\n",
        "import os\n",
        "import random\n",
        "from tensorflow.keras.layers import Dense, Conv2D, Dropout, Conv2DTranspose, MaxPooling2D, BatchNormalization, Activation, concatenate, Input, GlobalAveragePooling2D\n",
        "from tensorflow.keras import Model\n",
        "import warnings\n",
        "import gc\n",
        "import matplotlib.pyplot as plt\n",
        "import matplotlib.animation as animation\n",
        "from scipy import stats\n",
        "warnings.filterwarnings(\"ignore\")\n",
        "# style 설정\n",
        "plt.style.use('dark_background')\n",
        "plt.style.use('seaborn-colorblind')\n",
        "\n",
        "# 재생산성을 위해 시드 고정\n",
        "np.random.seed(7)\n",
        "random.seed(7)\n",
        "tf.random.set_seed(7)\n",
        "\n",
        "\n",
        "import tensorflow as tf\n",
        "import os\n",
        "import tensorflow_datasets as tfds\n",
        "from sklearn.model_selection import KFold\n",
        "import pickle\n",
        "AUTOTUNE = tf.data.experimental.AUTOTUNE\n",
        "AUTO = tf.data.experimental.AUTOTUNE"
      ],
      "execution_count": 1,
      "outputs": [
        {
          "output_type": "stream",
          "text": [
            "/usr/local/lib/python3.6/dist-packages/statsmodels/tools/_testing.py:19: FutureWarning: pandas.util.testing is deprecated. Use the functions in the public API at pandas.testing instead.\n",
            "  import pandas.util.testing as tm\n"
          ],
          "name": "stderr"
        }
      ]
    },
    {
      "cell_type": "markdown",
      "metadata": {
        "id": "0pUOc4bq-IrZ",
        "colab_type": "text"
      },
      "source": [
        "## 데이터 받아오기"
      ]
    },
    {
      "cell_type": "code",
      "metadata": {
        "id": "36olRM2r6rBE",
        "colab_type": "code",
        "colab": {}
      },
      "source": [
        "#train = np.load('train.npy')\n",
        "train = np.load('train.npy')"
      ],
      "execution_count": 0,
      "outputs": []
    },
    {
      "cell_type": "code",
      "metadata": {
        "id": "ohvb1O7oRto2",
        "colab_type": "code",
        "outputId": "2911222a-a32d-4748-886f-271b51debb4d",
        "colab": {
          "base_uri": "https://localhost:8080/",
          "height": 34
        }
      },
      "source": [
        "train.shape"
      ],
      "execution_count": 3,
      "outputs": [
        {
          "output_type": "execute_result",
          "data": {
            "text/plain": [
              "(76345, 40, 40, 15)"
            ]
          },
          "metadata": {
            "tags": []
          },
          "execution_count": 3
        }
      ]
    },
    {
      "cell_type": "code",
      "metadata": {
        "id": "mJ2EnNuMyY7z",
        "colab_type": "code",
        "outputId": "3319adce-8960-4867-f123-94310ec69ea5",
        "colab": {
          "base_uri": "https://localhost:8080/",
          "height": 34
        }
      },
      "source": [
        "def preprocess(data):\n",
        "    land_type_data = data[:,:,:,9]\n",
        "    data[:,:,:,9] = np.where(land_type_data//100 == 2, 0.7,\n",
        "                             np.where(land_type_data//100 == 3, 0.3,\n",
        "                                      land_type_data//100))\n",
        "    return data\n",
        "\n",
        "\n",
        "is_valid = (train[:,:,:,-1].reshape(-1, 1600) < 0).sum(axis=1) == 0\n",
        "is_valid = is_valid & ((train[:,:,:,-1].reshape(-1, 1600) >= 0.1).sum(axis=1) >= 50)\n",
        "train = train[is_valid]  # (-1, 40, 40, 15)\n",
        "train = preprocess(train)\n",
        "train.shape"
      ],
      "execution_count": 4,
      "outputs": [
        {
          "output_type": "execute_result",
          "data": {
            "text/plain": [
              "(30662, 40, 40, 15)"
            ]
          },
          "metadata": {
            "tags": []
          },
          "execution_count": 4
        }
      ]
    },
    {
      "cell_type": "markdown",
      "metadata": {
        "id": "ARExxyqONfIK",
        "colab_type": "text"
      },
      "source": [
        "#모델 만들기"
      ]
    },
    {
      "cell_type": "code",
      "metadata": {
        "id": "dz008iV85Oi3",
        "colab_type": "code",
        "colab": {}
      },
      "source": [
        "def create_model():\n",
        "    inputs=Input((40, 40, 10))\n",
        "    \n",
        "    conv0=Conv2D(256, kernel_size=1, strides=1, padding='same', activation='relu')(inputs)\n",
        "    conv0=Dropout(0.5)(conv0)\n",
        "    \n",
        "    bn=BatchNormalization()(conv0)\n",
        "    conv=Conv2D(128, kernel_size=2, strides=1, padding='same', activation='relu')(bn)\n",
        "    conv=Dropout(0.5)(conv)\n",
        "    concat=concatenate([conv0, conv], axis=3)\n",
        "    \n",
        "    bn=BatchNormalization()(concat)\n",
        "    conv=Conv2D(64, kernel_size=3, strides=1, padding='same', activation='relu')(bn)\n",
        "    conv=Dropout(0.5)(conv)\n",
        "    concat=concatenate([concat, conv], axis=3)\n",
        "\n",
        "    for i in range(5):\n",
        "        bn=BatchNormalization()(concat)\n",
        "        conv=Conv2D(32, kernel_size=3, strides=1, padding='same', activation='relu')(bn)\n",
        "        conv=Dropout(0.5)(conv)\n",
        "        concat=concatenate([concat, conv], axis=3)\n",
        "    \n",
        "    bn=BatchNormalization()(concat)\n",
        "    outputs=Conv2D(1, kernel_size=1, strides=1, padding='same', activation='relu')(bn)\n",
        "    \n",
        "    model=Model(inputs=inputs, outputs=outputs)\n",
        "    \n",
        "    return model"
      ],
      "execution_count": 0,
      "outputs": []
    },
    {
      "cell_type": "code",
      "metadata": {
        "id": "i_NhbS4s09p_",
        "colab_type": "code",
        "colab": {}
      },
      "source": [
        "from sklearn.metrics import f1_score\n",
        "\n",
        "def mae(y_true, y_pred) :\n",
        "    y_true, y_pred = np.array(y_true), np.array(y_pred)\n",
        "    y_true = y_true.reshape(1, -1)[0]\n",
        "    y_pred = y_pred.reshape(1, -1)[0]\n",
        "    over_threshold = y_true >= 0.1\n",
        "    return np.mean(np.abs(y_true[over_threshold] - y_pred[over_threshold]))\n",
        "\n",
        "def fscore(y_true, y_pred):\n",
        "    y_true, y_pred = np.array(y_true), np.array(y_pred)\n",
        "    y_true = y_true.reshape(1, -1)[0]\n",
        "    y_pred = y_pred.reshape(1, -1)[0]\n",
        "    remove_NAs = y_true >= 0\n",
        "    y_true = np.where(y_true[remove_NAs] >= 0.1, 1, 0)\n",
        "    y_pred = np.where(y_pred[remove_NAs] >= 0.1, 1, 0)\n",
        "    return(f1_score(y_true, y_pred))\n",
        "\n",
        "def maeOverFscore(y_true, y_pred):\n",
        "    return mae(y_true, y_pred) / (fscore(y_true, y_pred) + 1e-07)\n",
        "\n",
        "def fscore_keras(y_true, y_pred):\n",
        "    score = tf.py_function(func=fscore, inp=[y_true, y_pred], Tout=tf.float32, name='fscore_keras')\n",
        "    return score\n",
        "\n",
        "def maeOverFscore_keras(y_true, y_pred):\n",
        "    score = tf.py_function(func=maeOverFscore, inp=[y_true, y_pred], Tout=tf.float32,  name='custom_mse') \n",
        "    return score"
      ],
      "execution_count": 0,
      "outputs": []
    },
    {
      "cell_type": "markdown",
      "metadata": {
        "colab_type": "text",
        "id": "nWrybUnXIts7"
      },
      "source": [
        "## 데이터 제네레이터 만들기"
      ]
    },
    {
      "cell_type": "code",
      "metadata": {
        "id": "KIZ4mjSuwIFz",
        "colab_type": "code",
        "outputId": "758f6bb1-5b6d-4cec-88e8-bc0356fd836c",
        "colab": {
          "base_uri": "https://localhost:8080/",
          "height": 34
        }
      },
      "source": [
        "train.shape"
      ],
      "execution_count": 7,
      "outputs": [
        {
          "output_type": "execute_result",
          "data": {
            "text/plain": [
              "(30662, 40, 40, 15)"
            ]
          },
          "metadata": {
            "tags": []
          },
          "execution_count": 7
        }
      ]
    },
    {
      "cell_type": "code",
      "metadata": {
        "id": "bVHMis2w0YfC",
        "colab_type": "code",
        "outputId": "49261e79-5d45-4c40-8d32-105fd3b1e91b",
        "colab": {
          "base_uri": "https://localhost:8080/",
          "height": 756
        }
      },
      "source": [
        "try:\n",
        "    tpu = tf.distribute.cluster_resolver.TPUClusterResolver()  # TPU detection. No parameters necessary if TPU_NAME environment variable is set. On Kaggle this is always the case.\n",
        "    print('Running on TPU ', tpu.master())\n",
        "except ValueError:\n",
        "    tpu = None\n",
        "\n",
        "if tpu:\n",
        "    tf.config.experimental_connect_to_cluster(tpu)\n",
        "    tf.tpu.experimental.initialize_tpu_system(tpu)\n",
        "    strategy = tf.distribute.experimental.TPUStrategy(tpu)\n",
        "else:\n",
        "    strategy = tf.distribute.get_strategy() # default distribution strategy in Tensorflow. Works on CPU and single GPU.\n",
        "\n",
        "print(\"REPLICAS: \", strategy.num_replicas_in_sync)"
      ],
      "execution_count": 8,
      "outputs": [
        {
          "output_type": "stream",
          "text": [
            "Running on TPU  grpc://10.103.175.178:8470\n",
            "INFO:tensorflow:Initializing the TPU system: grpc://10.103.175.178:8470\n"
          ],
          "name": "stdout"
        },
        {
          "output_type": "stream",
          "text": [
            "INFO:tensorflow:Initializing the TPU system: grpc://10.103.175.178:8470\n"
          ],
          "name": "stderr"
        },
        {
          "output_type": "stream",
          "text": [
            "INFO:tensorflow:Clearing out eager caches\n"
          ],
          "name": "stdout"
        },
        {
          "output_type": "stream",
          "text": [
            "INFO:tensorflow:Clearing out eager caches\n"
          ],
          "name": "stderr"
        },
        {
          "output_type": "stream",
          "text": [
            "INFO:tensorflow:Finished initializing TPU system.\n"
          ],
          "name": "stdout"
        },
        {
          "output_type": "stream",
          "text": [
            "INFO:tensorflow:Finished initializing TPU system.\n"
          ],
          "name": "stderr"
        },
        {
          "output_type": "stream",
          "text": [
            "INFO:tensorflow:Found TPU system:\n"
          ],
          "name": "stdout"
        },
        {
          "output_type": "stream",
          "text": [
            "INFO:tensorflow:Found TPU system:\n"
          ],
          "name": "stderr"
        },
        {
          "output_type": "stream",
          "text": [
            "INFO:tensorflow:*** Num TPU Cores: 8\n"
          ],
          "name": "stdout"
        },
        {
          "output_type": "stream",
          "text": [
            "INFO:tensorflow:*** Num TPU Cores: 8\n"
          ],
          "name": "stderr"
        },
        {
          "output_type": "stream",
          "text": [
            "INFO:tensorflow:*** Num TPU Workers: 1\n"
          ],
          "name": "stdout"
        },
        {
          "output_type": "stream",
          "text": [
            "INFO:tensorflow:*** Num TPU Workers: 1\n"
          ],
          "name": "stderr"
        },
        {
          "output_type": "stream",
          "text": [
            "INFO:tensorflow:*** Num TPU Cores Per Worker: 8\n"
          ],
          "name": "stdout"
        },
        {
          "output_type": "stream",
          "text": [
            "INFO:tensorflow:*** Num TPU Cores Per Worker: 8\n"
          ],
          "name": "stderr"
        },
        {
          "output_type": "stream",
          "text": [
            "INFO:tensorflow:*** Available Device: _DeviceAttributes(/job:localhost/replica:0/task:0/device:CPU:0, CPU, 0, 0)\n"
          ],
          "name": "stdout"
        },
        {
          "output_type": "stream",
          "text": [
            "INFO:tensorflow:*** Available Device: _DeviceAttributes(/job:localhost/replica:0/task:0/device:CPU:0, CPU, 0, 0)\n"
          ],
          "name": "stderr"
        },
        {
          "output_type": "stream",
          "text": [
            "INFO:tensorflow:*** Available Device: _DeviceAttributes(/job:localhost/replica:0/task:0/device:XLA_CPU:0, XLA_CPU, 0, 0)\n"
          ],
          "name": "stdout"
        },
        {
          "output_type": "stream",
          "text": [
            "INFO:tensorflow:*** Available Device: _DeviceAttributes(/job:localhost/replica:0/task:0/device:XLA_CPU:0, XLA_CPU, 0, 0)\n"
          ],
          "name": "stderr"
        },
        {
          "output_type": "stream",
          "text": [
            "INFO:tensorflow:*** Available Device: _DeviceAttributes(/job:worker/replica:0/task:0/device:CPU:0, CPU, 0, 0)\n"
          ],
          "name": "stdout"
        },
        {
          "output_type": "stream",
          "text": [
            "INFO:tensorflow:*** Available Device: _DeviceAttributes(/job:worker/replica:0/task:0/device:CPU:0, CPU, 0, 0)\n"
          ],
          "name": "stderr"
        },
        {
          "output_type": "stream",
          "text": [
            "INFO:tensorflow:*** Available Device: _DeviceAttributes(/job:worker/replica:0/task:0/device:TPU:0, TPU, 0, 0)\n"
          ],
          "name": "stdout"
        },
        {
          "output_type": "stream",
          "text": [
            "INFO:tensorflow:*** Available Device: _DeviceAttributes(/job:worker/replica:0/task:0/device:TPU:0, TPU, 0, 0)\n"
          ],
          "name": "stderr"
        },
        {
          "output_type": "stream",
          "text": [
            "INFO:tensorflow:*** Available Device: _DeviceAttributes(/job:worker/replica:0/task:0/device:TPU:1, TPU, 0, 0)\n"
          ],
          "name": "stdout"
        },
        {
          "output_type": "stream",
          "text": [
            "INFO:tensorflow:*** Available Device: _DeviceAttributes(/job:worker/replica:0/task:0/device:TPU:1, TPU, 0, 0)\n"
          ],
          "name": "stderr"
        },
        {
          "output_type": "stream",
          "text": [
            "INFO:tensorflow:*** Available Device: _DeviceAttributes(/job:worker/replica:0/task:0/device:TPU:2, TPU, 0, 0)\n"
          ],
          "name": "stdout"
        },
        {
          "output_type": "stream",
          "text": [
            "INFO:tensorflow:*** Available Device: _DeviceAttributes(/job:worker/replica:0/task:0/device:TPU:2, TPU, 0, 0)\n"
          ],
          "name": "stderr"
        },
        {
          "output_type": "stream",
          "text": [
            "INFO:tensorflow:*** Available Device: _DeviceAttributes(/job:worker/replica:0/task:0/device:TPU:3, TPU, 0, 0)\n"
          ],
          "name": "stdout"
        },
        {
          "output_type": "stream",
          "text": [
            "INFO:tensorflow:*** Available Device: _DeviceAttributes(/job:worker/replica:0/task:0/device:TPU:3, TPU, 0, 0)\n"
          ],
          "name": "stderr"
        },
        {
          "output_type": "stream",
          "text": [
            "INFO:tensorflow:*** Available Device: _DeviceAttributes(/job:worker/replica:0/task:0/device:TPU:4, TPU, 0, 0)\n"
          ],
          "name": "stdout"
        },
        {
          "output_type": "stream",
          "text": [
            "INFO:tensorflow:*** Available Device: _DeviceAttributes(/job:worker/replica:0/task:0/device:TPU:4, TPU, 0, 0)\n"
          ],
          "name": "stderr"
        },
        {
          "output_type": "stream",
          "text": [
            "INFO:tensorflow:*** Available Device: _DeviceAttributes(/job:worker/replica:0/task:0/device:TPU:5, TPU, 0, 0)\n"
          ],
          "name": "stdout"
        },
        {
          "output_type": "stream",
          "text": [
            "INFO:tensorflow:*** Available Device: _DeviceAttributes(/job:worker/replica:0/task:0/device:TPU:5, TPU, 0, 0)\n"
          ],
          "name": "stderr"
        },
        {
          "output_type": "stream",
          "text": [
            "INFO:tensorflow:*** Available Device: _DeviceAttributes(/job:worker/replica:0/task:0/device:TPU:6, TPU, 0, 0)\n"
          ],
          "name": "stdout"
        },
        {
          "output_type": "stream",
          "text": [
            "INFO:tensorflow:*** Available Device: _DeviceAttributes(/job:worker/replica:0/task:0/device:TPU:6, TPU, 0, 0)\n"
          ],
          "name": "stderr"
        },
        {
          "output_type": "stream",
          "text": [
            "INFO:tensorflow:*** Available Device: _DeviceAttributes(/job:worker/replica:0/task:0/device:TPU:7, TPU, 0, 0)\n"
          ],
          "name": "stdout"
        },
        {
          "output_type": "stream",
          "text": [
            "INFO:tensorflow:*** Available Device: _DeviceAttributes(/job:worker/replica:0/task:0/device:TPU:7, TPU, 0, 0)\n"
          ],
          "name": "stderr"
        },
        {
          "output_type": "stream",
          "text": [
            "INFO:tensorflow:*** Available Device: _DeviceAttributes(/job:worker/replica:0/task:0/device:TPU_SYSTEM:0, TPU_SYSTEM, 0, 0)\n"
          ],
          "name": "stdout"
        },
        {
          "output_type": "stream",
          "text": [
            "INFO:tensorflow:*** Available Device: _DeviceAttributes(/job:worker/replica:0/task:0/device:TPU_SYSTEM:0, TPU_SYSTEM, 0, 0)\n"
          ],
          "name": "stderr"
        },
        {
          "output_type": "stream",
          "text": [
            "INFO:tensorflow:*** Available Device: _DeviceAttributes(/job:worker/replica:0/task:0/device:XLA_CPU:0, XLA_CPU, 0, 0)\n"
          ],
          "name": "stdout"
        },
        {
          "output_type": "stream",
          "text": [
            "INFO:tensorflow:*** Available Device: _DeviceAttributes(/job:worker/replica:0/task:0/device:XLA_CPU:0, XLA_CPU, 0, 0)\n"
          ],
          "name": "stderr"
        },
        {
          "output_type": "stream",
          "text": [
            "REPLICAS:  8\n"
          ],
          "name": "stdout"
        }
      ]
    },
    {
      "cell_type": "code",
      "metadata": {
        "id": "KYPiv45Cn-QY",
        "colab_type": "code",
        "colab": {}
      },
      "source": [
        "import tensorflow as tf, tensorflow.keras.backend as K\n",
        "import math\n",
        "\n",
        "def get_mat():\n",
        "    # returns 3x3 transformmatrix which transforms indicies\n",
        "    # CONVERT DEGREES TO RADIANS\n",
        "    rotation = tf.random.uniform([1], minval=0, maxval=4, dtype=tf.dtypes.int32, seed=None, name=None) / 2 * math.pi\n",
        "\n",
        "    # ROTATION MATRIX\n",
        "    rotation = tf.random.uniform([1], minval=0, maxval=4, dtype=tf.dtypes.int32, seed=None, name=None)\n",
        "    rotation = tf.cast(rotation, 'float32')\n",
        "    rotation = rotation * math.pi / 2.\n",
        "    c1 = tf.math.cos(rotation)\n",
        "    s1 = tf.math.sin(rotation)\n",
        "    one = tf.constant([1],dtype='float32')\n",
        "    zero = tf.constant([0],dtype='float32')\n",
        "    rotation_matrix = tf.reshape( tf.concat([c1,s1,zero, -s1,c1,zero, zero,zero,one],axis=0),[3,3] )\n",
        "\n",
        "    # TRANSPOSE MATRIX \n",
        "    de_t = tf.random.uniform([1], minval = 0, maxval = 2, dtype = tf.int32)\n",
        "    de_t = tf.cast(de_t, 'float32')\n",
        "    forty = tf.constant([40],dtype='float32')\n",
        "    transpose_matrix = tf.reshape( tf.concat([1 - de_t, -de_t, de_t, -de_t, 1 - de_t, de_t, zero, zero, one], axis = 0),[3,3])   \n",
        "    return K.dot(rotation_matrix, transpose_matrix)\n",
        "\n",
        "def transform(train_x,train_y):\n",
        "    # input image - is one image of size [dim,dim,3] not a batch of [b,dim,dim,3]\n",
        "    # output - image randomly rotated, sheared, zoomed, and shifted\n",
        "    DIM = 40\n",
        "    # GET TRANSFORMATION MATRIX\n",
        "    m = get_mat()\n",
        "    x = tf.repeat( tf.range(DIM//2,-DIM//2,-1), DIM)\n",
        "    y = tf.tile( tf.range(-DIM//2,DIM//2),[DIM])\n",
        "    z = tf.ones([DIM*DIM],dtype='int32')\n",
        "    idx = tf.stack( [x,y,z] )\n",
        "    \n",
        "    # ROTATE DESTINATION PIXELS ONTO ORIGIN PIXELS\n",
        "    idx2 = K.dot(m,tf.cast(idx,dtype='float32'))\n",
        "    idx2 = K.cast(idx2,dtype='int32')\n",
        "    idx2 = K.clip(idx2,-DIM//2+1,DIM//2)\n",
        "    \n",
        "    # FIND ORIGIN PIXEL VALUES           \n",
        "    idx3 = tf.stack( [DIM//2-idx2[0,], DIM//2-1+idx2[1,]])\n",
        "    train_x_img = tf.gather_nd(train_x,tf.transpose(idx3))\n",
        "    train_y_img = tf.gather_nd(train_y,tf.transpose(idx3))\n",
        "\n",
        "    return tf.reshape(train_x_img,[DIM,DIM,10]),tf.reshape(train_y_img,[DIM,DIM,1])\n"
      ],
      "execution_count": 0,
      "outputs": []
    },
    {
      "cell_type": "code",
      "metadata": {
        "id": "6FMxQrgMkBUz",
        "colab_type": "code",
        "colab": {}
      },
      "source": [
        "AUTO = tf.data.experimental.AUTOTUNE\n",
        "# Configuration\n",
        "IMAGE_SIZE = [40, 40]\n",
        "SEED = 777\n",
        "BATCH_SIZE = 16 * strategy.num_replicas_in_sync\n",
        "AUG_BATCH = BATCH_SIZE\n",
        "FIRST_FOLD_ONLY = False\n",
        "\n",
        "\n",
        "def cutmix(image, label, PROBABILITY = 1.0):\n",
        "    # input image - is a batch of images of size [n,dim,dim,3] not a single image of [dim,dim,3]\n",
        "    # output - a batch of images with cutmix applied\n",
        "    DIM = 40\n",
        "    imgs = []\n",
        "    labs = []\n",
        "    PROBABILITY = 1.0\n",
        "\n",
        "    for j in range(AUG_BATCH):\n",
        "        # DO CUTMIX WITH PROBABILITY DEFINED ABOVE\n",
        "        P = tf.cast( tf.random.uniform([],0,1)<=PROBABILITY, tf.int32)\n",
        "        # CHOOSE RANDOM IMAGE TO CUTMIX WITH\n",
        "        k = tf.cast( tf.random.uniform([],0,AUG_BATCH),tf.int32)\n",
        "        # CHOOSE RANDOM LOCATION\n",
        "        x = tf.cast( tf.random.uniform([],0,DIM),tf.int32)\n",
        "        y = tf.cast( tf.random.uniform([],0,DIM),tf.int32)\n",
        "        b = tf.random.uniform([],0,1) # this is beta dist with alpha=1.0\n",
        "        WIDTH = tf.cast( DIM * tf.math.sqrt(1-b),tf.int32) * P\n",
        "        #print(WIDTH)\n",
        "        ya = tf.math.maximum(0,y-WIDTH//2) \n",
        "        yb = tf.math.minimum(DIM,y+WIDTH//2)\n",
        "        xa = tf.math.maximum(0,x-WIDTH//2)\n",
        "        xb = tf.math.minimum(DIM,x+WIDTH//2)\n",
        "\n",
        "        # MAKE CUTMIX IMAGE\n",
        "        #o = tf.constant(0,'int32')\n",
        "        #print(ya)\n",
        "        one = image[j,ya:yb,0:xa,:]\n",
        "        two = image[k,ya:yb,xa:xb,:]\n",
        "        three = image[j,ya:yb,xb:DIM,:]\n",
        "        middle = tf.concat([one,two,three],axis=1)\n",
        "        img = tf.concat([image[j,0:ya,:,:],middle,image[j,yb:DIM,:,:]],axis=0)\n",
        "        imgs.append(img)\n",
        "\n",
        "        # MAKE CUTMIX LABEL\n",
        "        one = label[j,ya:yb,0:xa,:]\n",
        "        two = label[k,ya:yb,xa:xb,:]\n",
        "        three = label[j,ya:yb,xb:DIM,:]\n",
        "        middle = tf.concat([one,two,three],axis=1)\n",
        "        lab = tf.concat([label[j,0:ya,:,:], middle, label[j,yb:DIM,:,:]],axis=0)\n",
        "        labs.append(lab)\n",
        "\n",
        "    image2 = tf.reshape(tf.stack(imgs),(AUG_BATCH,DIM,DIM,10))\n",
        "    label2 = tf.reshape(tf.stack(labs),(AUG_BATCH,DIM,DIM,1))\n",
        "    return image2,label2"
      ],
      "execution_count": 0,
      "outputs": []
    },
    {
      "cell_type": "code",
      "metadata": {
        "id": "z7ThBiD0ZuRW",
        "colab_type": "code",
        "colab": {}
      },
      "source": [
        "def get_training_dataset(dataset, do_aug=True):\n",
        "    #dataset = dataset.map(transform, num_parallel_calls=AUTO)\n",
        "    dataset = dataset.repeat() # the training dataset must repeat for several epochs\n",
        "    dataset = dataset.map(transform, num_parallel_calls=AUTO)\n",
        "    dataset = dataset.batch(AUG_BATCH)\n",
        "    dataset = dataset.map(cutmix, num_parallel_calls=AUTO) # note we put AFTER batching\n",
        "    \n",
        "    dataset = dataset.unbatch()\n",
        "    dataset = dataset.shuffle(2048)\n",
        "    dataset = dataset.batch(BATCH_SIZE)\n",
        "    \n",
        "    dataset = dataset.prefetch(AUTO) # prefetch next batch while training (autotune prefetch buffer size)\n",
        "    return dataset\n",
        "\n",
        "def get_validation_dataset(dataset,batch_size = None):\n",
        "    dataset = dataset.batch(batch_size)\n",
        "    dataset = dataset.cache()\n",
        "    dataset = dataset.prefetch(AUTO) # prefetch next batch while training (autotune prefetch buffer size)\n",
        "    return dataset"
      ],
      "execution_count": 0,
      "outputs": []
    },
    {
      "cell_type": "code",
      "metadata": {
        "id": "qoG267PHI4Qq",
        "colab_type": "code",
        "colab": {
          "base_uri": "https://localhost:8080/",
          "height": 1000
        },
        "outputId": "91a329a2-23d9-4c17-ec11-63eade5ad6f5"
      },
      "source": [
        "x_train =train[:1000,:,:,:10]\n",
        "y_train = train[:1000,:,:,-1].reshape(-1,40,40,1)\n",
        "\n",
        "row = 6; col = 4;\n",
        "row = min(row,AUG_BATCH//col)\n",
        "all_elements = tf.data.Dataset.from_tensor_slices((x_train, y_train))\n",
        "all_elements = get_training_dataset(all_elements)\n",
        "\n",
        "for (img,label) in all_elements:\n",
        "    plt.figure(figsize=(15,int(15*row/col)))\n",
        "    for j in range(row*col):\n",
        "        plt.subplot(row,col,j+1)\n",
        "        plt.axis('off')\n",
        "        plt.imshow(img[j,:,:,0])\n",
        "    plt.show()\n",
        "    break"
      ],
      "execution_count": 149,
      "outputs": [
        {
          "output_type": "display_data",
          "data": {
            "image/png": "[encoded data removed]",
            "text/plain": [
              "<Figure size 1080x1584 with 24 Axes>"
            ]
          },
          "metadata": {
            "tags": [],
            "needs_background": "dark"
          }
        }
      ]
    },
    {
      "cell_type": "code",
      "metadata": {
        "id": "L49QNtJpowE3",
        "colab_type": "code",
        "colab": {
          "base_uri": "https://localhost:8080/",
          "height": 1000
        },
        "outputId": "77ab42fb-433f-4dca-f046-89f5f6c64b86"
      },
      "source": [
        "x_train =train[:1000,:,:,:10]\n",
        "y_train = train[:1000,:,:,-1].reshape(-1,40,40,1)\n",
        "\n",
        "row = 6; col = 4;\n",
        "row = min(row,AUG_BATCH//col)\n",
        "all_elements = tf.data.Dataset.from_tensor_slices((x_train, y_train))\n",
        "all_elements = get_training_dataset(all_elements)\n",
        "\n",
        "for (img,label) in all_elements:\n",
        "    plt.figure(figsize=(15,int(15*row/col)))\n",
        "    for j in range(row*col):\n",
        "        plt.subplot(row,col,j+1)\n",
        "        plt.axis('off')\n",
        "        plt.imshow(label[j,:,:,-1])\n",
        "    plt.show()\n",
        "    break"
      ],
      "execution_count": 151,
      "outputs": [
        {
          "output_type": "display_data",
          "data": {
            "image/png": "[encoded data removed]",
            "text/plain": [
              "<Figure size 1080x1584 with 24 Axes>"
            ]
          },
          "metadata": {
            "tags": [],
            "needs_background": "dark"
          }
        }
      ]
    },
    {
      "cell_type": "code",
      "metadata": {
        "id": "uSCP-RNmWNSL",
        "colab_type": "code",
        "colab": {}
      },
      "source": [
        "\n",
        "from sklearn.metrics import f1_score\n",
        "\n",
        "def mae(y_true, y_pred) :\n",
        "    y_true, y_pred = np.array(y_true), np.array(y_pred)\n",
        "    y_true = y_true.reshape(1, -1)[0]\n",
        "    y_pred = y_pred.reshape(1, -1)[0]\n",
        "    over_threshold = y_true >= 0.1\n",
        "    return np.mean(np.abs(y_true[over_threshold] - y_pred[over_threshold]))\n",
        "\n",
        "def fscore(y_true, y_pred):\n",
        "    y_true, y_pred = np.array(y_true), np.array(y_pred)\n",
        "    y_true = y_true.reshape(1, -1)[0]\n",
        "    y_pred = y_pred.reshape(1, -1)[0]\n",
        "    remove_NAs = y_true >= 0\n",
        "    y_true = np.where(y_true[remove_NAs] >= 0.1, 1, 0)\n",
        "    y_pred = np.where(y_pred[remove_NAs] >= 0.1, 1, 0)\n",
        "    return(f1_score(y_true, y_pred))\n",
        "\n",
        "def maeOverFscore(y_true, y_pred):\n",
        "    return mae(y_true, y_pred) / (fscore(y_true, y_pred) + 1e-07)\n",
        "\n",
        "def fscore_keras(y_true, y_pred):\n",
        "    score = tf.py_function(func=fscore, inp=[y_true, y_pred], Tout=tf.float32, name='fscore_keras')\n",
        "    return score\n",
        "\n",
        "def maeOverFscore_keras(y_true, y_pred):\n",
        "    score = tf.py_function(func=maeOverFscore, inp=[y_true, y_pred], Tout=tf.float32,  name='custom_mse') \n",
        "    return score\n",
        "def create_model():\n",
        "    inputs=Input((40, 40, 10))\n",
        "    \n",
        "    bn=BatchNormalization()(inputs)\n",
        "    conv0=Conv2D(256, kernel_size=1, strides=1, padding='same', activation='relu')(bn)\n",
        "    \n",
        "    bn=BatchNormalization()(conv0)\n",
        "    conv=Conv2D(128, kernel_size=2, strides=1, padding='same', activation='relu')(bn)\n",
        "    concat=concatenate([conv0, conv], axis=3)\n",
        "    \n",
        "    bn=BatchNormalization()(concat)\n",
        "    conv=Conv2D(64, kernel_size=3, strides=1, padding='same', activation='relu')(bn)\n",
        "    concat=concatenate([concat, conv], axis=3)\n",
        "\n",
        "    for i in range(5):\n",
        "        bn=BatchNormalization()(concat)\n",
        "        conv=Conv2D(32, kernel_size=3, strides=1, padding='same', activation='relu')(bn)\n",
        "        concat=concatenate([concat, conv], axis=3)\n",
        "    \n",
        "    bn=BatchNormalization()(concat)\n",
        "    outputs=Conv2D(1, kernel_size=1, strides=1, padding='same', activation='relu')(bn)\n",
        "    \n",
        "    model=Model(inputs=inputs, outputs=outputs)\n",
        "    \n",
        "    return model"
      ],
      "execution_count": 0,
      "outputs": []
    },
    {
      "cell_type": "code",
      "metadata": {
        "id": "O7WSmds7cOGW",
        "colab_type": "code",
        "colab": {}
      },
      "source": [
        "import warnings\n",
        "warnings.filterwarnings('ignore')"
      ],
      "execution_count": 0,
      "outputs": []
    },
    {
      "cell_type": "code",
      "metadata": {
        "id": "IfVk2oGruQ9y",
        "colab_type": "code",
        "colab": {}
      },
      "source": [
        "### tensor로 score matric 구현\n",
        "\n",
        "def f1_metric(y_true, y_pred):\n",
        "    true_positives = K.sum(K.round(K.clip(y_true * y_pred, 0, 1)))\n",
        "    possible_positives = K.sum(K.round(K.clip(y_true, 0, 1)))\n",
        "    predicted_positives = K.sum(K.round(K.clip(y_pred, 0, 1)))\n",
        "    precision = true_positives / (predicted_positives + K.epsilon())\n",
        "    recall = true_positives / (possible_positives + K.epsilon())\n",
        "    f1_val = 2*(precision*recall)/(precision+recall+K.epsilon())\n",
        "    return f1_val\n",
        "\n",
        "\n",
        "def custom_mae(y_true, y_pred):\n",
        "    y_error = y_pred - y_true\n",
        "    bool_idx = tf.less_equal(0.1,y_true)\n",
        "    len_mae = tf.reduce_sum(tf.cast(bool_idx, tf.float32))\n",
        "    socre = tf.math.abs(y_error)\n",
        "    mae = tf.keras.backend.switch(bool_idx, socre, 0)\n",
        "    return tf.divide(tf.math.reduce_sum(mae), len_mae)\n",
        "\n",
        "def custum_f1score(y_true, y_pred):\n",
        "    bool_true = tf.less_equal(0.1,y_true)\n",
        "    y_true = tf.where(bool_true, 1., 0.)\n",
        "    bool_pred = tf.less_equal(0.1,y_pred)\n",
        "    y_pred = tf.where(bool_pred, 1., 0.)\n",
        "    return(f1_metric(y_true, y_pred))\n",
        "\n",
        "\n",
        "def maeOverFscore(y_true, y_pred):\n",
        "    f1_score = custum_f1score(y_true, y_pred) + 1e-07\n",
        "    return tf.divide(custom_mae(y_true, y_pred), f1_score)"
      ],
      "execution_count": 0,
      "outputs": []
    },
    {
      "cell_type": "code",
      "metadata": {
        "id": "6iKnoynYWNP6",
        "colab_type": "code",
        "outputId": "c53c4825-8a1e-46fb-b26d-eb9ef3c7766f",
        "colab": {
          "base_uri": "https://localhost:8080/",
          "height": 1000
        }
      },
      "source": [
        "k_fold = KFold(n_splits=5, shuffle=True, random_state=7777)\n",
        "\n",
        "model_number = 0\n",
        "for train_idx, val_idx in k_fold.split(train):\n",
        "    print(f'Fold{model_number + 1}')\n",
        "    #x_val, y_val = train[val_idx, :, :, :10], train[val_idx, :, :, -1]\n",
        "    models = []\n",
        "    ### TPU 할당 및 초기화-------------------\n",
        "    resolver = tf.distribute.cluster_resolver.TPUClusterResolver(tpu='grpc://' + os.environ['COLAB_TPU_ADDR'])\n",
        "    tf.config.experimental_connect_to_cluster(resolver)\n",
        "    # This is the TPU initialization code that has to be at the beginning.\n",
        "    tf.tpu.experimental.initialize_tpu_system(resolver)\n",
        "    strategy = tf.distribute.experimental.TPUStrategy(resolver)\n",
        "    ### 모델 생성 및 compile-------------------\n",
        "    with strategy.scope():\n",
        "        model = create_model()\n",
        "        model.compile(optimizer = 'adam',loss = 'mae',\n",
        "        metrics=[maeOverFscore, custum_f1score, custom_mae]\n",
        "        )\n",
        "    ### 콜백 생성-------------------\n",
        "    callbacks_list = [\n",
        "        tf.keras.callbacks.ReduceLROnPlateau(\n",
        "            monitor='val_loss',\n",
        "            patience=9,\n",
        "            factor=0.8\n",
        "        ),\n",
        "\n",
        "        tf.keras.callbacks.ModelCheckpoint(\n",
        "            filepath = f'/content/drive/My Drive/2020 Kaggle Study/deagwon/resnet_augment8/restnet_model_{model_number}.h5',\n",
        "            monitor='val_maeOverFscore',\n",
        "            save_best_only=True\n",
        "        )\n",
        "    ]\n",
        "    # batch_dataset 만들기------------------\n",
        "    batch_size = 128\n",
        "    #train_batch\n",
        "    train_dataset = tf.data.Dataset.from_tensor_slices((train[train_idx, :, :, :10],\n",
        "                                                        train[train_idx, :, :, -1]))\n",
        "    train_dataset = get_training_dataset(train_dataset)\n",
        "    #validation_batch\n",
        "    validation_dataset = tf.data.Dataset.from_tensor_slices((train[val_idx, :, :, :10],\n",
        "                                        train[val_idx, :, :, -1]))\n",
        "    \n",
        "    validation_dataset = get_validation_dataset(validation_dataset,batch_size=batch_size)\n",
        "    ### model.fit-------------------\n",
        "    history = model.fit(train_dataset, epochs=500,\n",
        "            steps_per_epoch = len(train[train_idx, :, :, :10]) // batch_size,\n",
        "            validation_data=validation_dataset,\n",
        "            callbacks=callbacks_list\n",
        "            )\n",
        "    \n",
        "    with open(f'/content/drive/My Drive/2020 Kaggle Study/deagwon/resnet_augment8/histtory_{model_number}', 'wb') as file_pi:\n",
        "            pickle.dump(history.history, file_pi)\n",
        "\n",
        "    model_number = model_number + 1\n",
        "    ### model append -------------------"
      ],
      "execution_count": 0,
      "outputs": [
        {
          "output_type": "stream",
          "text": [
            "Fold1\n",
            "WARNING:tensorflow:TPU system grpc://10.103.175.178:8470 has already been initialized. Reinitializing the TPU can cause previously created variables on TPU to be lost.\n"
          ],
          "name": "stdout"
        },
        {
          "output_type": "stream",
          "text": [
            "WARNING:tensorflow:TPU system grpc://10.103.175.178:8470 has already been initialized. Reinitializing the TPU can cause previously created variables on TPU to be lost.\n"
          ],
          "name": "stderr"
        },
        {
          "output_type": "stream",
          "text": [
            "INFO:tensorflow:Initializing the TPU system: grpc://10.103.175.178:8470\n"
          ],
          "name": "stdout"
        },
        {
          "output_type": "stream",
          "text": [
            "INFO:tensorflow:Initializing the TPU system: grpc://10.103.175.178:8470\n"
          ],
          "name": "stderr"
        },
        {
          "output_type": "stream",
          "text": [
            "INFO:tensorflow:Clearing out eager caches\n"
          ],
          "name": "stdout"
        },
        {
          "output_type": "stream",
          "text": [
            "INFO:tensorflow:Clearing out eager caches\n"
          ],
          "name": "stderr"
        },
        {
          "output_type": "stream",
          "text": [
            "INFO:tensorflow:Finished initializing TPU system.\n"
          ],
          "name": "stdout"
        },
        {
          "output_type": "stream",
          "text": [
            "INFO:tensorflow:Finished initializing TPU system.\n"
          ],
          "name": "stderr"
        },
        {
          "output_type": "stream",
          "text": [
            "INFO:tensorflow:Found TPU system:\n"
          ],
          "name": "stdout"
        },
        {
          "output_type": "stream",
          "text": [
            "INFO:tensorflow:Found TPU system:\n"
          ],
          "name": "stderr"
        },
        {
          "output_type": "stream",
          "text": [
            "INFO:tensorflow:*** Num TPU Cores: 8\n"
          ],
          "name": "stdout"
        },
        {
          "output_type": "stream",
          "text": [
            "INFO:tensorflow:*** Num TPU Cores: 8\n"
          ],
          "name": "stderr"
        },
        {
          "output_type": "stream",
          "text": [
            "INFO:tensorflow:*** Num TPU Workers: 1\n"
          ],
          "name": "stdout"
        },
        {
          "output_type": "stream",
          "text": [
            "INFO:tensorflow:*** Num TPU Workers: 1\n"
          ],
          "name": "stderr"
        },
        {
          "output_type": "stream",
          "text": [
            "INFO:tensorflow:*** Num TPU Cores Per Worker: 8\n"
          ],
          "name": "stdout"
        },
        {
          "output_type": "stream",
          "text": [
            "INFO:tensorflow:*** Num TPU Cores Per Worker: 8\n"
          ],
          "name": "stderr"
        },
        {
          "output_type": "stream",
          "text": [
            "INFO:tensorflow:*** Available Device: _DeviceAttributes(/job:localhost/replica:0/task:0/device:CPU:0, CPU, 0, 0)\n"
          ],
          "name": "stdout"
        },
        {
          "output_type": "stream",
          "text": [
            "INFO:tensorflow:*** Available Device: _DeviceAttributes(/job:localhost/replica:0/task:0/device:CPU:0, CPU, 0, 0)\n"
          ],
          "name": "stderr"
        },
        {
          "output_type": "stream",
          "text": [
            "INFO:tensorflow:*** Available Device: _DeviceAttributes(/job:localhost/replica:0/task:0/device:XLA_CPU:0, XLA_CPU, 0, 0)\n"
          ],
          "name": "stdout"
        },
        {
          "output_type": "stream",
          "text": [
            "INFO:tensorflow:*** Available Device: _DeviceAttributes(/job:localhost/replica:0/task:0/device:XLA_CPU:0, XLA_CPU, 0, 0)\n"
          ],
          "name": "stderr"
        },
        {
          "output_type": "stream",
          "text": [
            "INFO:tensorflow:*** Available Device: _DeviceAttributes(/job:worker/replica:0/task:0/device:CPU:0, CPU, 0, 0)\n"
          ],
          "name": "stdout"
        },
        {
          "output_type": "stream",
          "text": [
            "INFO:tensorflow:*** Available Device: _DeviceAttributes(/job:worker/replica:0/task:0/device:CPU:0, CPU, 0, 0)\n"
          ],
          "name": "stderr"
        },
        {
          "output_type": "stream",
          "text": [
            "INFO:tensorflow:*** Available Device: _DeviceAttributes(/job:worker/replica:0/task:0/device:TPU:0, TPU, 0, 0)\n"
          ],
          "name": "stdout"
        },
        {
          "output_type": "stream",
          "text": [
            "INFO:tensorflow:*** Available Device: _DeviceAttributes(/job:worker/replica:0/task:0/device:TPU:0, TPU, 0, 0)\n"
          ],
          "name": "stderr"
        },
        {
          "output_type": "stream",
          "text": [
            "INFO:tensorflow:*** Available Device: _DeviceAttributes(/job:worker/replica:0/task:0/device:TPU:1, TPU, 0, 0)\n"
          ],
          "name": "stdout"
        },
        {
          "output_type": "stream",
          "text": [
            "INFO:tensorflow:*** Available Device: _DeviceAttributes(/job:worker/replica:0/task:0/device:TPU:1, TPU, 0, 0)\n"
          ],
          "name": "stderr"
        },
        {
          "output_type": "stream",
          "text": [
            "INFO:tensorflow:*** Available Device: _DeviceAttributes(/job:worker/replica:0/task:0/device:TPU:2, TPU, 0, 0)\n"
          ],
          "name": "stdout"
        },
        {
          "output_type": "stream",
          "text": [
            "INFO:tensorflow:*** Available Device: _DeviceAttributes(/job:worker/replica:0/task:0/device:TPU:2, TPU, 0, 0)\n"
          ],
          "name": "stderr"
        },
        {
          "output_type": "stream",
          "text": [
            "INFO:tensorflow:*** Available Device: _DeviceAttributes(/job:worker/replica:0/task:0/device:TPU:3, TPU, 0, 0)\n"
          ],
          "name": "stdout"
        },
        {
          "output_type": "stream",
          "text": [
            "INFO:tensorflow:*** Available Device: _DeviceAttributes(/job:worker/replica:0/task:0/device:TPU:3, TPU, 0, 0)\n"
          ],
          "name": "stderr"
        },
        {
          "output_type": "stream",
          "text": [
            "INFO:tensorflow:*** Available Device: _DeviceAttributes(/job:worker/replica:0/task:0/device:TPU:4, TPU, 0, 0)\n"
          ],
          "name": "stdout"
        },
        {
          "output_type": "stream",
          "text": [
            "INFO:tensorflow:*** Available Device: _DeviceAttributes(/job:worker/replica:0/task:0/device:TPU:4, TPU, 0, 0)\n"
          ],
          "name": "stderr"
        },
        {
          "output_type": "stream",
          "text": [
            "INFO:tensorflow:*** Available Device: _DeviceAttributes(/job:worker/replica:0/task:0/device:TPU:5, TPU, 0, 0)\n"
          ],
          "name": "stdout"
        },
        {
          "output_type": "stream",
          "text": [
            "INFO:tensorflow:*** Available Device: _DeviceAttributes(/job:worker/replica:0/task:0/device:TPU:5, TPU, 0, 0)\n"
          ],
          "name": "stderr"
        },
        {
          "output_type": "stream",
          "text": [
            "INFO:tensorflow:*** Available Device: _DeviceAttributes(/job:worker/replica:0/task:0/device:TPU:6, TPU, 0, 0)\n"
          ],
          "name": "stdout"
        },
        {
          "output_type": "stream",
          "text": [
            "INFO:tensorflow:*** Available Device: _DeviceAttributes(/job:worker/replica:0/task:0/device:TPU:6, TPU, 0, 0)\n"
          ],
          "name": "stderr"
        },
        {
          "output_type": "stream",
          "text": [
            "INFO:tensorflow:*** Available Device: _DeviceAttributes(/job:worker/replica:0/task:0/device:TPU:7, TPU, 0, 0)\n"
          ],
          "name": "stdout"
        },
        {
          "output_type": "stream",
          "text": [
            "INFO:tensorflow:*** Available Device: _DeviceAttributes(/job:worker/replica:0/task:0/device:TPU:7, TPU, 0, 0)\n"
          ],
          "name": "stderr"
        },
        {
          "output_type": "stream",
          "text": [
            "INFO:tensorflow:*** Available Device: _DeviceAttributes(/job:worker/replica:0/task:0/device:TPU_SYSTEM:0, TPU_SYSTEM, 0, 0)\n"
          ],
          "name": "stdout"
        },
        {
          "output_type": "stream",
          "text": [
            "INFO:tensorflow:*** Available Device: _DeviceAttributes(/job:worker/replica:0/task:0/device:TPU_SYSTEM:0, TPU_SYSTEM, 0, 0)\n"
          ],
          "name": "stderr"
        },
        {
          "output_type": "stream",
          "text": [
            "INFO:tensorflow:*** Available Device: _DeviceAttributes(/job:worker/replica:0/task:0/device:XLA_CPU:0, XLA_CPU, 0, 0)\n"
          ],
          "name": "stdout"
        },
        {
          "output_type": "stream",
          "text": [
            "INFO:tensorflow:*** Available Device: _DeviceAttributes(/job:worker/replica:0/task:0/device:XLA_CPU:0, XLA_CPU, 0, 0)\n"
          ],
          "name": "stderr"
        },
        {
          "output_type": "stream",
          "text": [
            "Epoch 1/500\n",
            "191/191 [==============================] - 27s 139ms/step - maeOverFscore: 2.5960 - loss: 0.3073 - custom_mae: 1.6087 - custum_f1score: 0.6508 - val_maeOverFscore: 150287.5625 - val_loss: 0.3445 - val_custom_mae: 2.1737 - val_custum_f1score: 0.1236 - lr: 0.0010\n",
            "Epoch 2/500\n",
            "191/191 [==============================] - 15s 76ms/step - maeOverFscore: 2.1512 - loss: 0.2486 - custom_mae: 1.5034 - custum_f1score: 0.6989 - val_maeOverFscore: 5.5001 - val_loss: 0.3149 - val_custom_mae: 1.9914 - val_custum_f1score: 0.3820 - lr: 0.0010\n",
            "Epoch 3/500\n",
            "191/191 [==============================] - 15s 77ms/step - maeOverFscore: 2.0370 - loss: 0.2399 - custom_mae: 1.4593 - custum_f1score: 0.7154 - val_maeOverFscore: 2.6276 - val_loss: 0.2611 - val_custom_mae: 1.6471 - val_custum_f1score: 0.6326 - lr: 0.0010\n",
            "Epoch 4/500\n",
            "191/191 [==============================] - 14s 76ms/step - maeOverFscore: 1.9859 - loss: 0.2368 - custom_mae: 1.4369 - custum_f1score: 0.7232 - val_maeOverFscore: 2.0732 - val_loss: 0.2379 - val_custom_mae: 1.4766 - val_custum_f1score: 0.7138 - lr: 0.0010\n",
            "Epoch 5/500\n",
            "191/191 [==============================] - 14s 75ms/step - maeOverFscore: 1.9585 - loss: 0.2353 - custom_mae: 1.4248 - custum_f1score: 0.7263 - val_maeOverFscore: 1.9168 - val_loss: 0.2329 - val_custom_mae: 1.4241 - val_custum_f1score: 0.7434 - lr: 0.0010\n",
            "Epoch 6/500\n",
            "191/191 [==============================] - 14s 75ms/step - maeOverFscore: 1.9146 - loss: 0.2317 - custom_mae: 1.4056 - custum_f1score: 0.7332 - val_maeOverFscore: 1.8378 - val_loss: 0.2285 - val_custom_mae: 1.3910 - val_custum_f1score: 0.7562 - lr: 0.0010\n",
            "Epoch 7/500\n",
            "191/191 [==============================] - 14s 71ms/step - maeOverFscore: 1.8949 - loss: 0.2317 - custom_mae: 1.4025 - custum_f1score: 0.7391 - val_maeOverFscore: 1.8765 - val_loss: 0.2275 - val_custom_mae: 1.4048 - val_custum_f1score: 0.7478 - lr: 0.0010\n",
            "Epoch 8/500\n",
            "191/191 [==============================] - 14s 72ms/step - maeOverFscore: 1.8644 - loss: 0.2295 - custom_mae: 1.3927 - custum_f1score: 0.7458 - val_maeOverFscore: 1.8441 - val_loss: 0.2281 - val_custom_mae: 1.3828 - val_custum_f1score: 0.7489 - lr: 0.0010\n",
            "Epoch 9/500\n",
            "191/191 [==============================] - 14s 72ms/step - maeOverFscore: 1.8209 - loss: 0.2244 - custom_mae: 1.3635 - custum_f1score: 0.7480 - val_maeOverFscore: 1.9002 - val_loss: 0.2277 - val_custom_mae: 1.4077 - val_custum_f1score: 0.7394 - lr: 0.0010\n",
            "Epoch 10/500\n",
            "191/191 [==============================] - 14s 72ms/step - maeOverFscore: 1.8396 - loss: 0.2285 - custom_mae: 1.3803 - custum_f1score: 0.7501 - val_maeOverFscore: 1.8565 - val_loss: 0.2249 - val_custom_mae: 1.3858 - val_custum_f1score: 0.7461 - lr: 0.0010\n",
            "Epoch 11/500\n",
            "191/191 [==============================] - 14s 72ms/step - maeOverFscore: 1.8297 - loss: 0.2288 - custom_mae: 1.3781 - custum_f1score: 0.7519 - val_maeOverFscore: 2.0544 - val_loss: 0.2551 - val_custom_mae: 1.3956 - val_custum_f1score: 0.6863 - lr: 0.0010\n",
            "Epoch 12/500\n",
            "191/191 [==============================] - 14s 72ms/step - maeOverFscore: 1.8177 - loss: 0.2246 - custom_mae: 1.3685 - custum_f1score: 0.7519 - val_maeOverFscore: 1.9138 - val_loss: 0.2267 - val_custom_mae: 1.4106 - val_custum_f1score: 0.7363 - lr: 0.0010\n",
            "Epoch 13/500\n",
            "191/191 [==============================] - 14s 72ms/step - maeOverFscore: 1.8163 - loss: 0.2266 - custom_mae: 1.3650 - custum_f1score: 0.7509 - val_maeOverFscore: 1.8482 - val_loss: 0.2243 - val_custom_mae: 1.3784 - val_custum_f1score: 0.7448 - lr: 0.0010\n",
            "Epoch 14/500\n",
            "191/191 [==============================] - 14s 72ms/step - maeOverFscore: 1.8033 - loss: 0.2241 - custom_mae: 1.3629 - custum_f1score: 0.7550 - val_maeOverFscore: 1.9093 - val_loss: 0.2255 - val_custom_mae: 1.4073 - val_custum_f1score: 0.7366 - lr: 0.0010\n",
            "Epoch 15/500\n",
            "191/191 [==============================] - 14s 76ms/step - maeOverFscore: 1.8121 - loss: 0.2264 - custom_mae: 1.3729 - custum_f1score: 0.7563 - val_maeOverFscore: 1.8157 - val_loss: 0.2215 - val_custom_mae: 1.3620 - val_custum_f1score: 0.7493 - lr: 0.0010\n",
            "Epoch 16/500\n",
            "191/191 [==============================] - 14s 71ms/step - maeOverFscore: 1.7810 - loss: 0.2232 - custom_mae: 1.3538 - custum_f1score: 0.7589 - val_maeOverFscore: 1.8772 - val_loss: 0.2300 - val_custom_mae: 1.3804 - val_custum_f1score: 0.7355 - lr: 0.0010\n",
            "Epoch 17/500\n",
            "191/191 [==============================] - 15s 76ms/step - maeOverFscore: 1.7718 - loss: 0.2228 - custom_mae: 1.3477 - custum_f1score: 0.7598 - val_maeOverFscore: 1.7704 - val_loss: 0.2180 - val_custom_mae: 1.3461 - val_custum_f1score: 0.7588 - lr: 0.0010\n",
            "Epoch 18/500\n",
            "191/191 [==============================] - 15s 80ms/step - maeOverFscore: 1.7719 - loss: 0.2222 - custom_mae: 1.3485 - custum_f1score: 0.7595 - val_maeOverFscore: 1.7504 - val_loss: 0.2199 - val_custom_mae: 1.3347 - val_custum_f1score: 0.7607 - lr: 0.0010\n",
            "Epoch 19/500\n",
            "191/191 [==============================] - 15s 76ms/step - maeOverFscore: 1.7597 - loss: 0.2209 - custom_mae: 1.3406 - custum_f1score: 0.7607 - val_maeOverFscore: 1.7503 - val_loss: 0.2217 - val_custom_mae: 1.3499 - val_custum_f1score: 0.7700 - lr: 0.0010\n",
            "Epoch 20/500\n",
            "191/191 [==============================] - 14s 72ms/step - maeOverFscore: 1.7598 - loss: 0.2246 - custom_mae: 1.3505 - custum_f1score: 0.7659 - val_maeOverFscore: 1.9230 - val_loss: 0.2265 - val_custom_mae: 1.4112 - val_custum_f1score: 0.7317 - lr: 0.0010\n",
            "Epoch 21/500\n",
            "191/191 [==============================] - 14s 72ms/step - maeOverFscore: 1.7575 - loss: 0.2197 - custom_mae: 1.3383 - custum_f1score: 0.7605 - val_maeOverFscore: 1.7562 - val_loss: 0.2180 - val_custom_mae: 1.3459 - val_custum_f1score: 0.7652 - lr: 0.0010\n",
            "Epoch 22/500\n",
            "191/191 [==============================] - 14s 72ms/step - maeOverFscore: 1.7434 - loss: 0.2208 - custom_mae: 1.3361 - custum_f1score: 0.7654 - val_maeOverFscore: 1.8040 - val_loss: 0.2181 - val_custom_mae: 1.3488 - val_custum_f1score: 0.7468 - lr: 0.0010\n",
            "Epoch 23/500\n",
            "191/191 [==============================] - 15s 77ms/step - maeOverFscore: 1.7461 - loss: 0.2210 - custom_mae: 1.3388 - custum_f1score: 0.7651 - val_maeOverFscore: 1.7435 - val_loss: 0.2216 - val_custom_mae: 1.3511 - val_custum_f1score: 0.7732 - lr: 0.0010\n",
            "Epoch 24/500\n",
            "191/191 [==============================] - 14s 72ms/step - maeOverFscore: 1.7505 - loss: 0.2209 - custom_mae: 1.3439 - custum_f1score: 0.7665 - val_maeOverFscore: 1.8057 - val_loss: 0.2204 - val_custom_mae: 1.3563 - val_custum_f1score: 0.7505 - lr: 0.0010\n",
            "Epoch 25/500\n",
            "191/191 [==============================] - 14s 72ms/step - maeOverFscore: 1.7398 - loss: 0.2185 - custom_mae: 1.3327 - custum_f1score: 0.7651 - val_maeOverFscore: 1.7534 - val_loss: 0.2187 - val_custom_mae: 1.3463 - val_custum_f1score: 0.7668 - lr: 0.0010\n",
            "Epoch 26/500\n",
            "191/191 [==============================] - 14s 72ms/step - maeOverFscore: 1.7365 - loss: 0.2206 - custom_mae: 1.3353 - custum_f1score: 0.7675 - val_maeOverFscore: 1.7676 - val_loss: 0.2217 - val_custom_mae: 1.3600 - val_custum_f1score: 0.7678 - lr: 0.0010\n",
            "Epoch 27/500\n",
            "191/191 [==============================] - 14s 72ms/step - maeOverFscore: 1.7363 - loss: 0.2196 - custom_mae: 1.3382 - custum_f1score: 0.7695 - val_maeOverFscore: 1.7762 - val_loss: 0.2180 - val_custom_mae: 1.3482 - val_custum_f1score: 0.7577 - lr: 8.0000e-04\n",
            "Epoch 28/500\n",
            "191/191 [==============================] - 14s 72ms/step - maeOverFscore: 1.7063 - loss: 0.2189 - custom_mae: 1.3199 - custum_f1score: 0.7723 - val_maeOverFscore: 1.7928 - val_loss: 0.2280 - val_custom_mae: 1.3626 - val_custum_f1score: 0.7593 - lr: 8.0000e-04\n",
            "Epoch 29/500\n",
            "191/191 [==============================] - 14s 72ms/step - maeOverFscore: 1.7256 - loss: 0.2216 - custom_mae: 1.3375 - custum_f1score: 0.7737 - val_maeOverFscore: 1.8433 - val_loss: 0.2224 - val_custom_mae: 1.3870 - val_custum_f1score: 0.7514 - lr: 8.0000e-04\n",
            "Epoch 30/500\n",
            "191/191 [==============================] - 14s 72ms/step - maeOverFscore: 1.7028 - loss: 0.2192 - custom_mae: 1.3193 - custum_f1score: 0.7733 - val_maeOverFscore: 1.8358 - val_loss: 0.2199 - val_custom_mae: 1.3668 - val_custum_f1score: 0.7435 - lr: 8.0000e-04\n",
            "Epoch 31/500\n",
            "191/191 [==============================] - 14s 72ms/step - maeOverFscore: 1.7181 - loss: 0.2184 - custom_mae: 1.3304 - custum_f1score: 0.7731 - val_maeOverFscore: 1.8842 - val_loss: 0.2232 - val_custom_mae: 1.3951 - val_custum_f1score: 0.7401 - lr: 8.0000e-04\n",
            "Epoch 32/500\n",
            "191/191 [==============================] - 14s 72ms/step - maeOverFscore: 1.6962 - loss: 0.2186 - custom_mae: 1.3163 - custum_f1score: 0.7748 - val_maeOverFscore: 1.8217 - val_loss: 0.2199 - val_custom_mae: 1.3720 - val_custum_f1score: 0.7520 - lr: 8.0000e-04\n",
            "Epoch 33/500\n",
            "191/191 [==============================] - 14s 72ms/step - maeOverFscore: 1.7223 - loss: 0.2207 - custom_mae: 1.3366 - custum_f1score: 0.7744 - val_maeOverFscore: 1.8067 - val_loss: 0.2167 - val_custom_mae: 1.3511 - val_custum_f1score: 0.7470 - lr: 8.0000e-04\n",
            "Epoch 34/500\n",
            "191/191 [==============================] - 14s 72ms/step - maeOverFscore: 1.6899 - loss: 0.2168 - custom_mae: 1.3106 - custum_f1score: 0.7737 - val_maeOverFscore: 1.8552 - val_loss: 0.2204 - val_custom_mae: 1.3749 - val_custum_f1score: 0.7399 - lr: 8.0000e-04\n",
            "Epoch 35/500\n",
            "191/191 [==============================] - 14s 72ms/step - maeOverFscore: 1.6924 - loss: 0.2170 - custom_mae: 1.3153 - custum_f1score: 0.7760 - val_maeOverFscore: 1.8714 - val_loss: 0.2223 - val_custom_mae: 1.3871 - val_custum_f1score: 0.7403 - lr: 8.0000e-04\n",
            "Epoch 36/500\n",
            "191/191 [==============================] - 14s 72ms/step - maeOverFscore: 1.6956 - loss: 0.2173 - custom_mae: 1.3167 - custum_f1score: 0.7753 - val_maeOverFscore: 1.7922 - val_loss: 0.2207 - val_custom_mae: 1.3676 - val_custum_f1score: 0.7616 - lr: 8.0000e-04\n",
            "Epoch 37/500\n",
            "191/191 [==============================] - 14s 72ms/step - maeOverFscore: 1.6890 - loss: 0.2168 - custom_mae: 1.3138 - custum_f1score: 0.7758 - val_maeOverFscore: 1.8265 - val_loss: 0.2201 - val_custom_mae: 1.3699 - val_custum_f1score: 0.7490 - lr: 8.0000e-04\n",
            "Epoch 38/500\n",
            "191/191 [==============================] - 14s 72ms/step - maeOverFscore: 1.6965 - loss: 0.2165 - custom_mae: 1.3191 - custum_f1score: 0.7760 - val_maeOverFscore: 1.7548 - val_loss: 0.2173 - val_custom_mae: 1.3477 - val_custum_f1score: 0.7669 - lr: 8.0000e-04\n",
            "Epoch 39/500\n",
            "191/191 [==============================] - 15s 76ms/step - maeOverFscore: 1.6842 - loss: 0.2175 - custom_mae: 1.3130 - custum_f1score: 0.7778 - val_maeOverFscore: 1.7365 - val_loss: 0.2171 - val_custom_mae: 1.3398 - val_custum_f1score: 0.7697 - lr: 8.0000e-04\n",
            "Epoch 40/500\n",
            "191/191 [==============================] - 14s 71ms/step - maeOverFscore: 1.6984 - loss: 0.2181 - custom_mae: 1.3222 - custum_f1score: 0.7768 - val_maeOverFscore: 1.7521 - val_loss: 0.2166 - val_custom_mae: 1.3404 - val_custum_f1score: 0.7640 - lr: 8.0000e-04\n",
            "Epoch 41/500\n",
            "191/191 [==============================] - 14s 72ms/step - maeOverFscore: 1.6815 - loss: 0.2161 - custom_mae: 1.3092 - custum_f1score: 0.7773 - val_maeOverFscore: 1.7644 - val_loss: 0.2220 - val_custom_mae: 1.3626 - val_custum_f1score: 0.7698 - lr: 8.0000e-04\n",
            "Epoch 42/500\n",
            "191/191 [==============================] - 14s 72ms/step - maeOverFscore: 1.6860 - loss: 0.2173 - custom_mae: 1.3151 - custum_f1score: 0.7784 - val_maeOverFscore: 1.7458 - val_loss: 0.2173 - val_custom_mae: 1.3435 - val_custum_f1score: 0.7681 - lr: 8.0000e-04\n",
            "Epoch 43/500\n",
            "191/191 [==============================] - 14s 72ms/step - maeOverFscore: 1.6699 - loss: 0.2157 - custom_mae: 1.3034 - custum_f1score: 0.7790 - val_maeOverFscore: 1.7664 - val_loss: 0.2186 - val_custom_mae: 1.3530 - val_custum_f1score: 0.7641 - lr: 8.0000e-04\n",
            "Epoch 44/500\n",
            "191/191 [==============================] - 14s 72ms/step - maeOverFscore: 1.6764 - loss: 0.2161 - custom_mae: 1.3079 - custum_f1score: 0.7788 - val_maeOverFscore: 1.8126 - val_loss: 0.2202 - val_custom_mae: 1.3716 - val_custum_f1score: 0.7552 - lr: 8.0000e-04\n",
            "Epoch 45/500\n",
            "191/191 [==============================] - 14s 72ms/step - maeOverFscore: 1.6783 - loss: 0.2167 - custom_mae: 1.3106 - custum_f1score: 0.7794 - val_maeOverFscore: 1.7820 - val_loss: 0.2177 - val_custom_mae: 1.3546 - val_custum_f1score: 0.7586 - lr: 8.0000e-04\n",
            "Epoch 46/500\n",
            "191/191 [==============================] - 14s 71ms/step - maeOverFscore: 1.6883 - loss: 0.2182 - custom_mae: 1.3187 - custum_f1score: 0.7798 - val_maeOverFscore: 1.7695 - val_loss: 0.2185 - val_custom_mae: 1.3470 - val_custum_f1score: 0.7600 - lr: 8.0000e-04\n",
            "Epoch 47/500\n",
            "191/191 [==============================] - 14s 73ms/step - maeOverFscore: 1.6658 - loss: 0.2140 - custom_mae: 1.3014 - custum_f1score: 0.7798 - val_maeOverFscore: 1.7440 - val_loss: 0.2137 - val_custom_mae: 1.3276 - val_custum_f1score: 0.7604 - lr: 8.0000e-04\n",
            "Epoch 48/500\n",
            "191/191 [==============================] - 14s 71ms/step - maeOverFscore: 1.6592 - loss: 0.2135 - custom_mae: 1.2973 - custum_f1score: 0.7811 - val_maeOverFscore: 1.7654 - val_loss: 0.2245 - val_custom_mae: 1.3549 - val_custum_f1score: 0.7662 - lr: 8.0000e-04\n",
            "Epoch 49/500\n",
            "191/191 [==============================] - 15s 76ms/step - maeOverFscore: 1.6635 - loss: 0.2160 - custom_mae: 1.3033 - custum_f1score: 0.7814 - val_maeOverFscore: 1.7029 - val_loss: 0.2157 - val_custom_mae: 1.3271 - val_custum_f1score: 0.7774 - lr: 8.0000e-04\n",
            "Epoch 50/500\n",
            "191/191 [==============================] - 14s 71ms/step - maeOverFscore: 1.6631 - loss: 0.2159 - custom_mae: 1.3006 - custum_f1score: 0.7801 - val_maeOverFscore: 1.7318 - val_loss: 0.2175 - val_custom_mae: 1.3395 - val_custum_f1score: 0.7718 - lr: 8.0000e-04\n",
            "Epoch 51/500\n",
            "191/191 [==============================] - 14s 71ms/step - maeOverFscore: 1.6798 - loss: 0.2168 - custom_mae: 1.3158 - custum_f1score: 0.7816 - val_maeOverFscore: 1.7273 - val_loss: 0.2188 - val_custom_mae: 1.3433 - val_custum_f1score: 0.7754 - lr: 8.0000e-04\n",
            "Epoch 52/500\n",
            "191/191 [==============================] - 14s 75ms/step - maeOverFscore: 1.6542 - loss: 0.2128 - custom_mae: 1.2946 - custum_f1score: 0.7808 - val_maeOverFscore: 1.6887 - val_loss: 0.2202 - val_custom_mae: 1.3248 - val_custum_f1score: 0.7826 - lr: 8.0000e-04\n",
            "Epoch 53/500\n",
            "191/191 [==============================] - 14s 76ms/step - maeOverFscore: 1.6605 - loss: 0.2146 - custom_mae: 1.3009 - custum_f1score: 0.7822 - val_maeOverFscore: 1.6692 - val_loss: 0.2161 - val_custom_mae: 1.3156 - val_custum_f1score: 0.7863 - lr: 8.0000e-04\n",
            "Epoch 54/500\n",
            "191/191 [==============================] - 14s 71ms/step - maeOverFscore: 1.6683 - loss: 0.2155 - custom_mae: 1.3048 - custum_f1score: 0.7811 - val_maeOverFscore: 1.7527 - val_loss: 0.2184 - val_custom_mae: 1.3539 - val_custum_f1score: 0.7709 - lr: 8.0000e-04\n",
            "Epoch 55/500\n",
            "191/191 [==============================] - 14s 71ms/step - maeOverFscore: 1.6475 - loss: 0.2125 - custom_mae: 1.2898 - custum_f1score: 0.7819 - val_maeOverFscore: 1.7922 - val_loss: 0.2234 - val_custom_mae: 1.3837 - val_custum_f1score: 0.7705 - lr: 8.0000e-04\n",
            "Epoch 56/500\n",
            "191/191 [==============================] - 15s 77ms/step - maeOverFscore: 1.6525 - loss: 0.2143 - custom_mae: 1.2961 - custum_f1score: 0.7830 - val_maeOverFscore: 1.7383 - val_loss: 0.2171 - val_custom_mae: 1.3442 - val_custum_f1score: 0.7711 - lr: 8.0000e-04\n",
            "Epoch 57/500\n",
            "191/191 [==============================] - 14s 72ms/step - maeOverFscore: 1.6419 - loss: 0.2128 - custom_mae: 1.2918 - custum_f1score: 0.7852 - val_maeOverFscore: 1.6749 - val_loss: 0.2139 - val_custom_mae: 1.3135 - val_custum_f1score: 0.7825 - lr: 6.4000e-04\n",
            "Epoch 58/500\n",
            "191/191 [==============================] - 14s 72ms/step - maeOverFscore: 1.6354 - loss: 0.2109 - custom_mae: 1.2847 - custum_f1score: 0.7843 - val_maeOverFscore: 1.6930 - val_loss: 0.2152 - val_custom_mae: 1.3274 - val_custum_f1score: 0.7826 - lr: 6.4000e-04\n",
            "Epoch 59/500\n",
            "191/191 [==============================] - ETA: 0s - maeOverFscore: 1.6572 - loss: 0.2147 - custom_mae: 1.3021 - custum_f1score: 0.7840"
          ],
          "name": "stdout"
        }
      ]
    },
    {
      "cell_type": "code",
      "metadata": {
        "id": "ee3iF6S6uCaD",
        "colab_type": "code",
        "colab": {}
      },
      "source": [
        "#read history and model\n",
        "histories = []\n",
        "models = []\n",
        "for i in range(5):\n",
        "    history= pickle.load(open(f'/content/drive/My Drive/2020 Kaggle Study/deagwon/resnet_augment8/histtory_{i}', 'rb'))\n",
        "    model = tf.keras.models.load_model(f'/content/drive/My Drive/2020 Kaggle Study/deagwon/resnet_augment8/restnet_model_{i}.h5', compile = False)\n",
        "    histories.append(history)\n",
        "    models.append(model)"
      ],
      "execution_count": 0,
      "outputs": []
    },
    {
      "cell_type": "code",
      "metadata": {
        "id": "XDxXKBV2HEnb",
        "colab_type": "code",
        "outputId": "c34ebfb9-5244-4af6-99c9-0a621a36c73e",
        "colab": {
          "base_uri": "https://localhost:8080/",
          "height": 402
        }
      },
      "source": [
        "#maeOverFscore\n",
        "print('maeOverFscore')\n",
        "plt.figure(figsize = (20,3))\n",
        "for i in range(5):\n",
        "    plt.subplot(1,5,i+1)\n",
        "    min_ndex = np.argmin(histories[i]['val_maeOverFscore'])\n",
        "    plt.plot(histories[i]['val_maeOverFscore'])\n",
        "    plt.plot(histories[i]['maeOverFscore'])\n",
        "    plt.vlines(min_ndex, ymin = 0,ymax=2, colors = 'yellow')\n",
        "    plt.ylim([1.4,2.0])\n",
        "    print(f'Fold{i+1}')\n",
        "    print('min_val_maeOverFscore : ', np.min(histories[i]['val_maeOverFscore']),' // epochs : ', np.argmin(histories[i]['val_maeOverFscore']))\n",
        "plt.show()"
      ],
      "execution_count": 0,
      "outputs": [
        {
          "output_type": "stream",
          "text": [
            "maeOverFscore\n",
            "Fold1\n",
            "min_val_maeOverFscore :  1.623533010482788  // epochs :  38\n",
            "Fold2\n",
            "min_val_maeOverFscore :  1.5771501064300537  // epochs :  38\n",
            "Fold3\n",
            "min_val_maeOverFscore :  1.5870628356933594  // epochs :  36\n",
            "Fold4\n",
            "min_val_maeOverFscore :  1.626312017440796  // epochs :  36\n",
            "Fold5\n",
            "min_val_maeOverFscore :  1.6249207258224487  // epochs :  38\n"
          ],
          "name": "stdout"
        },
        {
          "output_type": "display_data",
          "data": {
            "image/png": "[encoded data removed]",
            "text/plain": [
              "<Figure size 1440x216 with 5 Axes>"
            ]
          },
          "metadata": {
            "tags": []
          }
        }
      ]
    },
    {
      "cell_type": "code",
      "metadata": {
        "id": "c0o9gld-HK3x",
        "colab_type": "code",
        "outputId": "73b12f32-e26a-4ed7-e364-af013d929e7a",
        "colab": {
          "base_uri": "https://localhost:8080/",
          "height": 225
        }
      },
      "source": [
        "# loss\n",
        "print('loss')\n",
        "plt.figure(figsize = (20,3))\n",
        "for i in range(5):\n",
        "    plt.subplot(1,5,i+1)\n",
        "    plt.plot(histories[i]['val_loss'])\n",
        "    plt.plot(histories[i]['loss'])\n",
        "    plt.ylim([0.20,0.25])\n",
        "plt.show()"
      ],
      "execution_count": 0,
      "outputs": [
        {
          "output_type": "stream",
          "text": [
            "loss\n"
          ],
          "name": "stdout"
        },
        {
          "output_type": "display_data",
          "data": {
            "image/png": "[encoded data removed]",
            "text/plain": [
              "<Figure size 1440x216 with 5 Axes>"
            ]
          },
          "metadata": {
            "tags": []
          }
        }
      ]
    },
    {
      "cell_type": "code",
      "metadata": {
        "id": "1-O452jsIXJj",
        "colab_type": "code",
        "outputId": "40142068-0315-499d-eb1e-926ec916be1c",
        "colab": {
          "base_uri": "https://localhost:8080/",
          "height": 221
        }
      },
      "source": [
        "# custom_mae\n",
        "print('custom_mae')\n",
        "plt.figure(figsize = (20,3))\n",
        "for i in range(5):\n",
        "    min_ndex = np.argmin(histories[i]['val_custom_mae'])\n",
        "    plt.subplot(1,5,i+1)\n",
        "    plt.plot(histories[i]['val_custom_mae'])\n",
        "    plt.plot(histories[i]['custom_mae'])\n",
        "    plt.vlines(min_ndex, ymin = 1.20,ymax=1.50, colors = 'yellow')\n",
        "    plt.ylim([1.20,1.47])\n",
        "plt.show()"
      ],
      "execution_count": 0,
      "outputs": [
        {
          "output_type": "stream",
          "text": [
            "custom_mae\n"
          ],
          "name": "stdout"
        },
        {
          "output_type": "display_data",
          "data": {
            "image/png": "[encoded data removed]",
            "text/plain": [
              "<Figure size 1440x216 with 5 Axes>"
            ]
          },
          "metadata": {
            "tags": []
          }
        }
      ]
    },
    {
      "cell_type": "code",
      "metadata": {
        "id": "C04J3KeSIRIA",
        "colab_type": "code",
        "outputId": "732ff359-d98f-4970-ad0c-88740348dc74",
        "colab": {
          "base_uri": "https://localhost:8080/",
          "height": 225
        }
      },
      "source": [
        "# f1_metric\n",
        "print('custum_f1score')\n",
        "plt.figure(figsize = (20,3))\n",
        "for i in range(5):\n",
        "    plt.subplot(1,5,i+1)\n",
        "    plt.plot(histories[i]['val_custum_f1score'])\n",
        "    plt.plot(histories[i]['custum_f1score'])\n",
        "    plt.ylim([0.7,0.80])\n",
        "plt.show()"
      ],
      "execution_count": 0,
      "outputs": [
        {
          "output_type": "stream",
          "text": [
            "custum_f1score\n"
          ],
          "name": "stdout"
        },
        {
          "output_type": "display_data",
          "data": {
            "image/png": "[encoded data removed]",
            "text/plain": [
              "<Figure size 1440x216 with 5 Axes>"
            ]
          },
          "metadata": {
            "tags": []
          }
        }
      ]
    },
    {
      "cell_type": "markdown",
      "metadata": {
        "id": "9lKtvCDNLgSB",
        "colab_type": "text"
      },
      "source": [
        "## submission"
      ]
    },
    {
      "cell_type": "code",
      "metadata": {
        "id": "mWGWDEa6Jw8I",
        "colab_type": "code",
        "outputId": "8036bd00-c1de-4fb8-cd2b-d9b580691efa",
        "colab": {
          "base_uri": "https://localhost:8080/",
          "height": 34
        }
      },
      "source": [
        "test = np.load('/content/drive/My Drive/2020 Kaggle Study/data/test.npy')\n",
        "test = preprocess(test)\n",
        "test.shape"
      ],
      "execution_count": 0,
      "outputs": [
        {
          "output_type": "execute_result",
          "data": {
            "text/plain": [
              "(2416, 40, 40, 14)"
            ]
          },
          "metadata": {
            "tags": []
          },
          "execution_count": 57
        }
      ]
    },
    {
      "cell_type": "code",
      "metadata": {
        "id": "uAWshnkhJV3Z",
        "colab_type": "code",
        "colab": {}
      },
      "source": [
        "# 5개 모델 앙상블 예측 평균 내기\n",
        "preds = []\n",
        "for model in models:\n",
        "    model.compile(optimizer = 'adam',loss = 'mae',  metrics=[maeOverFscore, custum_f1score, custom_mae])\n",
        "    preds.append(model.predict(test[:,:,:,:10]))\n",
        "pred = sum(preds)/len(preds)"
      ],
      "execution_count": 0,
      "outputs": []
    },
    {
      "cell_type": "code",
      "metadata": {
        "id": "vtcZvpFzLJAN",
        "colab_type": "code",
        "outputId": "34a4dbe7-34c2-4090-f281-82a7cbad1eb2",
        "colab": {
          "base_uri": "https://localhost:8080/",
          "height": 422
        }
      },
      "source": [
        "submission = pd.read_csv('/content/drive/My Drive/2020 Kaggle Study/data/sample_submission.csv')\n",
        "submission.iloc[:,1:] = pred.reshape(-1,1600)\n",
        "submission.to_csv('submission.csv', index = False)\n",
        "submission"
      ],
      "execution_count": 0,
      "outputs": [
        {
          "output_type": "execute_result",
          "data": {
            "text/html": [
              "<div>\n",
              "<style scoped>\n",
              "    .dataframe tbody tr th:only-of-type {\n",
              "        vertical-align: middle;\n",
              "    }\n",
              "\n",
              "    .dataframe tbody tr th {\n",
              "        vertical-align: top;\n",
              "    }\n",
              "\n",
              "    .dataframe thead th {\n",
              "        text-align: right;\n",
              "    }\n",
              "</style>\n",
              "<table border=\"1\" class=\"dataframe\">\n",
              "  <thead>\n",
              "    <tr style=\"text-align: right;\">\n",
              "      <th></th>\n",
              "      <th>id</th>\n",
              "      <th>px_1</th>\n",
              "      <th>px_2</th>\n",
              "      <th>px_3</th>\n",
              "      <th>px_4</th>\n",
              "      <th>px_5</th>\n",
              "      <th>px_6</th>\n",
              "      <th>px_7</th>\n",
              "      <th>px_8</th>\n",
              "      <th>px_9</th>\n",
              "      <th>px_10</th>\n",
              "      <th>px_11</th>\n",
              "      <th>px_12</th>\n",
              "      <th>px_13</th>\n",
              "      <th>px_14</th>\n",
              "      <th>px_15</th>\n",
              "      <th>px_16</th>\n",
              "      <th>px_17</th>\n",
              "      <th>px_18</th>\n",
              "      <th>px_19</th>\n",
              "      <th>px_20</th>\n",
              "      <th>px_21</th>\n",
              "      <th>px_22</th>\n",
              "      <th>px_23</th>\n",
              "      <th>px_24</th>\n",
              "      <th>px_25</th>\n",
              "      <th>px_26</th>\n",
              "      <th>px_27</th>\n",
              "      <th>px_28</th>\n",
              "      <th>px_29</th>\n",
              "      <th>px_30</th>\n",
              "      <th>px_31</th>\n",
              "      <th>px_32</th>\n",
              "      <th>px_33</th>\n",
              "      <th>px_34</th>\n",
              "      <th>px_35</th>\n",
              "      <th>px_36</th>\n",
              "      <th>px_37</th>\n",
              "      <th>px_38</th>\n",
              "      <th>px_39</th>\n",
              "      <th>...</th>\n",
              "      <th>px_1561</th>\n",
              "      <th>px_1562</th>\n",
              "      <th>px_1563</th>\n",
              "      <th>px_1564</th>\n",
              "      <th>px_1565</th>\n",
              "      <th>px_1566</th>\n",
              "      <th>px_1567</th>\n",
              "      <th>px_1568</th>\n",
              "      <th>px_1569</th>\n",
              "      <th>px_1570</th>\n",
              "      <th>px_1571</th>\n",
              "      <th>px_1572</th>\n",
              "      <th>px_1573</th>\n",
              "      <th>px_1574</th>\n",
              "      <th>px_1575</th>\n",
              "      <th>px_1576</th>\n",
              "      <th>px_1577</th>\n",
              "      <th>px_1578</th>\n",
              "      <th>px_1579</th>\n",
              "      <th>px_1580</th>\n",
              "      <th>px_1581</th>\n",
              "      <th>px_1582</th>\n",
              "      <th>px_1583</th>\n",
              "      <th>px_1584</th>\n",
              "      <th>px_1585</th>\n",
              "      <th>px_1586</th>\n",
              "      <th>px_1587</th>\n",
              "      <th>px_1588</th>\n",
              "      <th>px_1589</th>\n",
              "      <th>px_1590</th>\n",
              "      <th>px_1591</th>\n",
              "      <th>px_1592</th>\n",
              "      <th>px_1593</th>\n",
              "      <th>px_1594</th>\n",
              "      <th>px_1595</th>\n",
              "      <th>px_1596</th>\n",
              "      <th>px_1597</th>\n",
              "      <th>px_1598</th>\n",
              "      <th>px_1599</th>\n",
              "      <th>px_1600</th>\n",
              "    </tr>\n",
              "  </thead>\n",
              "  <tbody>\n",
              "    <tr>\n",
              "      <th>0</th>\n",
              "      <td>029858_01</td>\n",
              "      <td>0.002718</td>\n",
              "      <td>0.000000</td>\n",
              "      <td>0.000000</td>\n",
              "      <td>0.000000</td>\n",
              "      <td>0.000000</td>\n",
              "      <td>0.000000</td>\n",
              "      <td>0.000000</td>\n",
              "      <td>0.0</td>\n",
              "      <td>0.0</td>\n",
              "      <td>0.0</td>\n",
              "      <td>0.0</td>\n",
              "      <td>0.812193</td>\n",
              "      <td>0.007594</td>\n",
              "      <td>0.0</td>\n",
              "      <td>0.0</td>\n",
              "      <td>0.000000</td>\n",
              "      <td>0.000000</td>\n",
              "      <td>0.000000</td>\n",
              "      <td>0.000000</td>\n",
              "      <td>0.000000</td>\n",
              "      <td>0.0</td>\n",
              "      <td>0.0</td>\n",
              "      <td>0.0</td>\n",
              "      <td>0.0</td>\n",
              "      <td>0.0</td>\n",
              "      <td>0.000000</td>\n",
              "      <td>0.000000</td>\n",
              "      <td>0.0</td>\n",
              "      <td>0.0</td>\n",
              "      <td>0.0</td>\n",
              "      <td>0.0</td>\n",
              "      <td>0.0</td>\n",
              "      <td>0.0</td>\n",
              "      <td>0.0</td>\n",
              "      <td>0.0</td>\n",
              "      <td>0.0</td>\n",
              "      <td>0.0</td>\n",
              "      <td>0.000000</td>\n",
              "      <td>0.000000</td>\n",
              "      <td>...</td>\n",
              "      <td>0.000000</td>\n",
              "      <td>0.000000</td>\n",
              "      <td>0.000000</td>\n",
              "      <td>0.000000</td>\n",
              "      <td>0.000000</td>\n",
              "      <td>0.000000</td>\n",
              "      <td>0.000000</td>\n",
              "      <td>0.000000</td>\n",
              "      <td>0.000000</td>\n",
              "      <td>0.000000</td>\n",
              "      <td>0.000000</td>\n",
              "      <td>0.000000</td>\n",
              "      <td>0.000000</td>\n",
              "      <td>0.000000</td>\n",
              "      <td>0.000000</td>\n",
              "      <td>0.000000</td>\n",
              "      <td>0.000000</td>\n",
              "      <td>0.000000</td>\n",
              "      <td>0.00000</td>\n",
              "      <td>0.000000</td>\n",
              "      <td>0.000000</td>\n",
              "      <td>0.000000</td>\n",
              "      <td>0.000000</td>\n",
              "      <td>0.000000</td>\n",
              "      <td>0.000000</td>\n",
              "      <td>0.000000</td>\n",
              "      <td>0.000000</td>\n",
              "      <td>0.000000</td>\n",
              "      <td>0.000000</td>\n",
              "      <td>0.00000</td>\n",
              "      <td>0.000000</td>\n",
              "      <td>0.000000</td>\n",
              "      <td>0.000000</td>\n",
              "      <td>0.000000</td>\n",
              "      <td>0.00000</td>\n",
              "      <td>0.000000</td>\n",
              "      <td>0.000000</td>\n",
              "      <td>0.000000</td>\n",
              "      <td>0.000000</td>\n",
              "      <td>0.000000</td>\n",
              "    </tr>\n",
              "    <tr>\n",
              "      <th>1</th>\n",
              "      <td>029858_02</td>\n",
              "      <td>0.000000</td>\n",
              "      <td>0.000000</td>\n",
              "      <td>0.000000</td>\n",
              "      <td>0.000000</td>\n",
              "      <td>0.000000</td>\n",
              "      <td>0.000000</td>\n",
              "      <td>0.000000</td>\n",
              "      <td>0.0</td>\n",
              "      <td>0.0</td>\n",
              "      <td>0.0</td>\n",
              "      <td>0.0</td>\n",
              "      <td>0.000000</td>\n",
              "      <td>0.000000</td>\n",
              "      <td>0.0</td>\n",
              "      <td>0.0</td>\n",
              "      <td>0.000000</td>\n",
              "      <td>0.000000</td>\n",
              "      <td>0.000000</td>\n",
              "      <td>0.000000</td>\n",
              "      <td>0.000000</td>\n",
              "      <td>0.0</td>\n",
              "      <td>0.0</td>\n",
              "      <td>0.0</td>\n",
              "      <td>0.0</td>\n",
              "      <td>0.0</td>\n",
              "      <td>0.000000</td>\n",
              "      <td>0.000000</td>\n",
              "      <td>0.0</td>\n",
              "      <td>0.0</td>\n",
              "      <td>0.0</td>\n",
              "      <td>0.0</td>\n",
              "      <td>0.0</td>\n",
              "      <td>0.0</td>\n",
              "      <td>0.0</td>\n",
              "      <td>0.0</td>\n",
              "      <td>0.0</td>\n",
              "      <td>0.0</td>\n",
              "      <td>0.000000</td>\n",
              "      <td>0.000000</td>\n",
              "      <td>...</td>\n",
              "      <td>0.000000</td>\n",
              "      <td>0.000000</td>\n",
              "      <td>0.000000</td>\n",
              "      <td>0.000000</td>\n",
              "      <td>0.000000</td>\n",
              "      <td>0.000000</td>\n",
              "      <td>0.000000</td>\n",
              "      <td>0.000000</td>\n",
              "      <td>0.000000</td>\n",
              "      <td>0.000000</td>\n",
              "      <td>0.000000</td>\n",
              "      <td>0.124749</td>\n",
              "      <td>0.000000</td>\n",
              "      <td>0.000000</td>\n",
              "      <td>0.000000</td>\n",
              "      <td>0.000000</td>\n",
              "      <td>0.000000</td>\n",
              "      <td>0.000000</td>\n",
              "      <td>0.00000</td>\n",
              "      <td>0.000000</td>\n",
              "      <td>0.000000</td>\n",
              "      <td>0.000000</td>\n",
              "      <td>0.000000</td>\n",
              "      <td>0.000000</td>\n",
              "      <td>0.000000</td>\n",
              "      <td>0.000000</td>\n",
              "      <td>0.000000</td>\n",
              "      <td>0.000000</td>\n",
              "      <td>0.000000</td>\n",
              "      <td>0.00000</td>\n",
              "      <td>0.000000</td>\n",
              "      <td>0.000000</td>\n",
              "      <td>0.000000</td>\n",
              "      <td>0.000000</td>\n",
              "      <td>0.00000</td>\n",
              "      <td>0.000000</td>\n",
              "      <td>0.000000</td>\n",
              "      <td>0.000000</td>\n",
              "      <td>0.000000</td>\n",
              "      <td>0.000000</td>\n",
              "    </tr>\n",
              "    <tr>\n",
              "      <th>2</th>\n",
              "      <td>029858_03</td>\n",
              "      <td>0.000000</td>\n",
              "      <td>0.000000</td>\n",
              "      <td>0.000000</td>\n",
              "      <td>0.000000</td>\n",
              "      <td>0.000000</td>\n",
              "      <td>0.000000</td>\n",
              "      <td>0.000000</td>\n",
              "      <td>0.0</td>\n",
              "      <td>0.0</td>\n",
              "      <td>0.0</td>\n",
              "      <td>0.0</td>\n",
              "      <td>0.000000</td>\n",
              "      <td>0.000000</td>\n",
              "      <td>0.0</td>\n",
              "      <td>0.0</td>\n",
              "      <td>0.000000</td>\n",
              "      <td>0.000000</td>\n",
              "      <td>0.000000</td>\n",
              "      <td>0.000000</td>\n",
              "      <td>0.000000</td>\n",
              "      <td>0.0</td>\n",
              "      <td>0.0</td>\n",
              "      <td>0.0</td>\n",
              "      <td>0.0</td>\n",
              "      <td>0.0</td>\n",
              "      <td>0.411885</td>\n",
              "      <td>0.000000</td>\n",
              "      <td>0.0</td>\n",
              "      <td>0.0</td>\n",
              "      <td>0.0</td>\n",
              "      <td>0.0</td>\n",
              "      <td>0.0</td>\n",
              "      <td>0.0</td>\n",
              "      <td>0.0</td>\n",
              "      <td>0.0</td>\n",
              "      <td>0.0</td>\n",
              "      <td>0.0</td>\n",
              "      <td>0.000000</td>\n",
              "      <td>0.000000</td>\n",
              "      <td>...</td>\n",
              "      <td>0.000000</td>\n",
              "      <td>0.000000</td>\n",
              "      <td>0.000000</td>\n",
              "      <td>0.000000</td>\n",
              "      <td>0.000000</td>\n",
              "      <td>0.000000</td>\n",
              "      <td>0.000000</td>\n",
              "      <td>0.000000</td>\n",
              "      <td>0.000000</td>\n",
              "      <td>0.000000</td>\n",
              "      <td>0.000000</td>\n",
              "      <td>0.000000</td>\n",
              "      <td>0.000000</td>\n",
              "      <td>0.000000</td>\n",
              "      <td>0.000000</td>\n",
              "      <td>0.000000</td>\n",
              "      <td>0.000000</td>\n",
              "      <td>0.000000</td>\n",
              "      <td>0.00000</td>\n",
              "      <td>0.000000</td>\n",
              "      <td>0.000000</td>\n",
              "      <td>0.000000</td>\n",
              "      <td>0.000000</td>\n",
              "      <td>0.000000</td>\n",
              "      <td>0.000000</td>\n",
              "      <td>0.000000</td>\n",
              "      <td>0.000000</td>\n",
              "      <td>0.000000</td>\n",
              "      <td>0.000000</td>\n",
              "      <td>0.00000</td>\n",
              "      <td>0.000000</td>\n",
              "      <td>0.000000</td>\n",
              "      <td>0.000000</td>\n",
              "      <td>0.000000</td>\n",
              "      <td>0.00000</td>\n",
              "      <td>0.000000</td>\n",
              "      <td>0.000000</td>\n",
              "      <td>0.000000</td>\n",
              "      <td>0.000000</td>\n",
              "      <td>0.000000</td>\n",
              "    </tr>\n",
              "    <tr>\n",
              "      <th>3</th>\n",
              "      <td>029858_05</td>\n",
              "      <td>0.000000</td>\n",
              "      <td>0.000000</td>\n",
              "      <td>0.000000</td>\n",
              "      <td>0.000000</td>\n",
              "      <td>0.000000</td>\n",
              "      <td>0.000000</td>\n",
              "      <td>0.000000</td>\n",
              "      <td>0.0</td>\n",
              "      <td>0.0</td>\n",
              "      <td>0.0</td>\n",
              "      <td>0.0</td>\n",
              "      <td>0.000000</td>\n",
              "      <td>0.000000</td>\n",
              "      <td>0.0</td>\n",
              "      <td>0.0</td>\n",
              "      <td>0.000000</td>\n",
              "      <td>0.000000</td>\n",
              "      <td>0.000000</td>\n",
              "      <td>0.000000</td>\n",
              "      <td>0.000000</td>\n",
              "      <td>0.0</td>\n",
              "      <td>0.0</td>\n",
              "      <td>0.0</td>\n",
              "      <td>0.0</td>\n",
              "      <td>0.0</td>\n",
              "      <td>0.000000</td>\n",
              "      <td>0.000000</td>\n",
              "      <td>0.0</td>\n",
              "      <td>0.0</td>\n",
              "      <td>0.0</td>\n",
              "      <td>0.0</td>\n",
              "      <td>0.0</td>\n",
              "      <td>0.0</td>\n",
              "      <td>0.0</td>\n",
              "      <td>0.0</td>\n",
              "      <td>0.0</td>\n",
              "      <td>0.0</td>\n",
              "      <td>1.108492</td>\n",
              "      <td>1.009329</td>\n",
              "      <td>...</td>\n",
              "      <td>0.000000</td>\n",
              "      <td>0.000000</td>\n",
              "      <td>0.000000</td>\n",
              "      <td>0.000000</td>\n",
              "      <td>0.000000</td>\n",
              "      <td>0.000000</td>\n",
              "      <td>0.000000</td>\n",
              "      <td>0.000000</td>\n",
              "      <td>0.404464</td>\n",
              "      <td>1.771556</td>\n",
              "      <td>5.615695</td>\n",
              "      <td>1.325815</td>\n",
              "      <td>0.000000</td>\n",
              "      <td>0.000000</td>\n",
              "      <td>0.000000</td>\n",
              "      <td>0.000000</td>\n",
              "      <td>0.000000</td>\n",
              "      <td>0.000000</td>\n",
              "      <td>0.00000</td>\n",
              "      <td>0.000000</td>\n",
              "      <td>0.000000</td>\n",
              "      <td>0.000000</td>\n",
              "      <td>0.000000</td>\n",
              "      <td>0.000000</td>\n",
              "      <td>0.000000</td>\n",
              "      <td>0.000000</td>\n",
              "      <td>0.000000</td>\n",
              "      <td>0.000000</td>\n",
              "      <td>0.000000</td>\n",
              "      <td>0.00000</td>\n",
              "      <td>0.000000</td>\n",
              "      <td>0.000000</td>\n",
              "      <td>0.000000</td>\n",
              "      <td>0.000000</td>\n",
              "      <td>0.00000</td>\n",
              "      <td>0.000000</td>\n",
              "      <td>0.000000</td>\n",
              "      <td>0.000000</td>\n",
              "      <td>0.000000</td>\n",
              "      <td>0.000000</td>\n",
              "    </tr>\n",
              "    <tr>\n",
              "      <th>4</th>\n",
              "      <td>029858_07</td>\n",
              "      <td>0.000000</td>\n",
              "      <td>0.000000</td>\n",
              "      <td>0.000000</td>\n",
              "      <td>0.000000</td>\n",
              "      <td>0.000000</td>\n",
              "      <td>0.000000</td>\n",
              "      <td>0.000000</td>\n",
              "      <td>0.0</td>\n",
              "      <td>0.0</td>\n",
              "      <td>0.0</td>\n",
              "      <td>0.0</td>\n",
              "      <td>0.000000</td>\n",
              "      <td>0.000000</td>\n",
              "      <td>0.0</td>\n",
              "      <td>0.0</td>\n",
              "      <td>0.000000</td>\n",
              "      <td>0.000000</td>\n",
              "      <td>0.000000</td>\n",
              "      <td>0.000000</td>\n",
              "      <td>0.000000</td>\n",
              "      <td>0.0</td>\n",
              "      <td>0.0</td>\n",
              "      <td>0.0</td>\n",
              "      <td>0.0</td>\n",
              "      <td>0.0</td>\n",
              "      <td>0.000000</td>\n",
              "      <td>0.000000</td>\n",
              "      <td>0.0</td>\n",
              "      <td>0.0</td>\n",
              "      <td>0.0</td>\n",
              "      <td>0.0</td>\n",
              "      <td>0.0</td>\n",
              "      <td>0.0</td>\n",
              "      <td>0.0</td>\n",
              "      <td>0.0</td>\n",
              "      <td>0.0</td>\n",
              "      <td>0.0</td>\n",
              "      <td>0.000000</td>\n",
              "      <td>0.000000</td>\n",
              "      <td>...</td>\n",
              "      <td>0.850776</td>\n",
              "      <td>1.079533</td>\n",
              "      <td>1.246665</td>\n",
              "      <td>2.031735</td>\n",
              "      <td>2.692549</td>\n",
              "      <td>2.700932</td>\n",
              "      <td>1.712599</td>\n",
              "      <td>0.851455</td>\n",
              "      <td>0.737365</td>\n",
              "      <td>1.356638</td>\n",
              "      <td>2.581905</td>\n",
              "      <td>4.777689</td>\n",
              "      <td>5.187423</td>\n",
              "      <td>3.921165</td>\n",
              "      <td>6.156259</td>\n",
              "      <td>9.966131</td>\n",
              "      <td>15.096042</td>\n",
              "      <td>19.308659</td>\n",
              "      <td>17.55603</td>\n",
              "      <td>15.192273</td>\n",
              "      <td>8.074984</td>\n",
              "      <td>5.068572</td>\n",
              "      <td>7.704577</td>\n",
              "      <td>11.672884</td>\n",
              "      <td>5.185972</td>\n",
              "      <td>1.157281</td>\n",
              "      <td>0.393779</td>\n",
              "      <td>0.290597</td>\n",
              "      <td>0.305967</td>\n",
              "      <td>0.69593</td>\n",
              "      <td>1.287479</td>\n",
              "      <td>1.795927</td>\n",
              "      <td>1.339645</td>\n",
              "      <td>0.814949</td>\n",
              "      <td>0.75365</td>\n",
              "      <td>1.548864</td>\n",
              "      <td>3.783678</td>\n",
              "      <td>3.598025</td>\n",
              "      <td>2.254057</td>\n",
              "      <td>1.101455</td>\n",
              "    </tr>\n",
              "    <tr>\n",
              "      <th>...</th>\n",
              "      <td>...</td>\n",
              "      <td>...</td>\n",
              "      <td>...</td>\n",
              "      <td>...</td>\n",
              "      <td>...</td>\n",
              "      <td>...</td>\n",
              "      <td>...</td>\n",
              "      <td>...</td>\n",
              "      <td>...</td>\n",
              "      <td>...</td>\n",
              "      <td>...</td>\n",
              "      <td>...</td>\n",
              "      <td>...</td>\n",
              "      <td>...</td>\n",
              "      <td>...</td>\n",
              "      <td>...</td>\n",
              "      <td>...</td>\n",
              "      <td>...</td>\n",
              "      <td>...</td>\n",
              "      <td>...</td>\n",
              "      <td>...</td>\n",
              "      <td>...</td>\n",
              "      <td>...</td>\n",
              "      <td>...</td>\n",
              "      <td>...</td>\n",
              "      <td>...</td>\n",
              "      <td>...</td>\n",
              "      <td>...</td>\n",
              "      <td>...</td>\n",
              "      <td>...</td>\n",
              "      <td>...</td>\n",
              "      <td>...</td>\n",
              "      <td>...</td>\n",
              "      <td>...</td>\n",
              "      <td>...</td>\n",
              "      <td>...</td>\n",
              "      <td>...</td>\n",
              "      <td>...</td>\n",
              "      <td>...</td>\n",
              "      <td>...</td>\n",
              "      <td>...</td>\n",
              "      <td>...</td>\n",
              "      <td>...</td>\n",
              "      <td>...</td>\n",
              "      <td>...</td>\n",
              "      <td>...</td>\n",
              "      <td>...</td>\n",
              "      <td>...</td>\n",
              "      <td>...</td>\n",
              "      <td>...</td>\n",
              "      <td>...</td>\n",
              "      <td>...</td>\n",
              "      <td>...</td>\n",
              "      <td>...</td>\n",
              "      <td>...</td>\n",
              "      <td>...</td>\n",
              "      <td>...</td>\n",
              "      <td>...</td>\n",
              "      <td>...</td>\n",
              "      <td>...</td>\n",
              "      <td>...</td>\n",
              "      <td>...</td>\n",
              "      <td>...</td>\n",
              "      <td>...</td>\n",
              "      <td>...</td>\n",
              "      <td>...</td>\n",
              "      <td>...</td>\n",
              "      <td>...</td>\n",
              "      <td>...</td>\n",
              "      <td>...</td>\n",
              "      <td>...</td>\n",
              "      <td>...</td>\n",
              "      <td>...</td>\n",
              "      <td>...</td>\n",
              "      <td>...</td>\n",
              "      <td>...</td>\n",
              "      <td>...</td>\n",
              "      <td>...</td>\n",
              "      <td>...</td>\n",
              "      <td>...</td>\n",
              "      <td>...</td>\n",
              "    </tr>\n",
              "    <tr>\n",
              "      <th>2411</th>\n",
              "      <td>031287_08</td>\n",
              "      <td>0.000000</td>\n",
              "      <td>0.000000</td>\n",
              "      <td>0.000000</td>\n",
              "      <td>0.000000</td>\n",
              "      <td>0.000000</td>\n",
              "      <td>0.000000</td>\n",
              "      <td>0.000000</td>\n",
              "      <td>0.0</td>\n",
              "      <td>0.0</td>\n",
              "      <td>0.0</td>\n",
              "      <td>0.0</td>\n",
              "      <td>0.000000</td>\n",
              "      <td>0.000000</td>\n",
              "      <td>0.0</td>\n",
              "      <td>0.0</td>\n",
              "      <td>0.000000</td>\n",
              "      <td>0.000000</td>\n",
              "      <td>0.000000</td>\n",
              "      <td>0.000000</td>\n",
              "      <td>0.000000</td>\n",
              "      <td>0.0</td>\n",
              "      <td>0.0</td>\n",
              "      <td>0.0</td>\n",
              "      <td>0.0</td>\n",
              "      <td>0.0</td>\n",
              "      <td>0.000000</td>\n",
              "      <td>0.000000</td>\n",
              "      <td>0.0</td>\n",
              "      <td>0.0</td>\n",
              "      <td>0.0</td>\n",
              "      <td>0.0</td>\n",
              "      <td>0.0</td>\n",
              "      <td>0.0</td>\n",
              "      <td>0.0</td>\n",
              "      <td>0.0</td>\n",
              "      <td>0.0</td>\n",
              "      <td>0.0</td>\n",
              "      <td>0.000000</td>\n",
              "      <td>0.000000</td>\n",
              "      <td>...</td>\n",
              "      <td>0.000000</td>\n",
              "      <td>0.000000</td>\n",
              "      <td>0.000000</td>\n",
              "      <td>0.000000</td>\n",
              "      <td>0.000000</td>\n",
              "      <td>0.000000</td>\n",
              "      <td>0.000000</td>\n",
              "      <td>0.000000</td>\n",
              "      <td>0.000000</td>\n",
              "      <td>0.000000</td>\n",
              "      <td>0.000000</td>\n",
              "      <td>0.000000</td>\n",
              "      <td>0.000000</td>\n",
              "      <td>0.000000</td>\n",
              "      <td>0.000000</td>\n",
              "      <td>0.000000</td>\n",
              "      <td>0.000000</td>\n",
              "      <td>0.000000</td>\n",
              "      <td>0.00000</td>\n",
              "      <td>0.000000</td>\n",
              "      <td>0.000000</td>\n",
              "      <td>0.000000</td>\n",
              "      <td>0.000000</td>\n",
              "      <td>0.000000</td>\n",
              "      <td>0.000000</td>\n",
              "      <td>0.000000</td>\n",
              "      <td>0.000000</td>\n",
              "      <td>0.000000</td>\n",
              "      <td>0.000000</td>\n",
              "      <td>0.00000</td>\n",
              "      <td>0.000000</td>\n",
              "      <td>0.000000</td>\n",
              "      <td>0.000000</td>\n",
              "      <td>0.000000</td>\n",
              "      <td>0.00000</td>\n",
              "      <td>0.000000</td>\n",
              "      <td>0.000000</td>\n",
              "      <td>0.000000</td>\n",
              "      <td>0.000000</td>\n",
              "      <td>0.000000</td>\n",
              "    </tr>\n",
              "    <tr>\n",
              "      <th>2412</th>\n",
              "      <td>031288_01</td>\n",
              "      <td>0.000000</td>\n",
              "      <td>0.000000</td>\n",
              "      <td>0.000000</td>\n",
              "      <td>0.000000</td>\n",
              "      <td>0.000000</td>\n",
              "      <td>0.000000</td>\n",
              "      <td>0.000000</td>\n",
              "      <td>0.0</td>\n",
              "      <td>0.0</td>\n",
              "      <td>0.0</td>\n",
              "      <td>0.0</td>\n",
              "      <td>0.000000</td>\n",
              "      <td>0.000000</td>\n",
              "      <td>0.0</td>\n",
              "      <td>0.0</td>\n",
              "      <td>0.010334</td>\n",
              "      <td>0.063723</td>\n",
              "      <td>0.032318</td>\n",
              "      <td>0.052449</td>\n",
              "      <td>0.025519</td>\n",
              "      <td>0.0</td>\n",
              "      <td>0.0</td>\n",
              "      <td>0.0</td>\n",
              "      <td>0.0</td>\n",
              "      <td>0.0</td>\n",
              "      <td>0.000000</td>\n",
              "      <td>0.006621</td>\n",
              "      <td>0.0</td>\n",
              "      <td>0.0</td>\n",
              "      <td>0.0</td>\n",
              "      <td>0.0</td>\n",
              "      <td>0.0</td>\n",
              "      <td>0.0</td>\n",
              "      <td>0.0</td>\n",
              "      <td>0.0</td>\n",
              "      <td>0.0</td>\n",
              "      <td>0.0</td>\n",
              "      <td>0.000000</td>\n",
              "      <td>0.000000</td>\n",
              "      <td>...</td>\n",
              "      <td>0.000000</td>\n",
              "      <td>0.000000</td>\n",
              "      <td>0.000000</td>\n",
              "      <td>0.000000</td>\n",
              "      <td>0.000000</td>\n",
              "      <td>0.000000</td>\n",
              "      <td>0.000000</td>\n",
              "      <td>0.000000</td>\n",
              "      <td>0.000000</td>\n",
              "      <td>0.000000</td>\n",
              "      <td>0.000000</td>\n",
              "      <td>0.000000</td>\n",
              "      <td>0.000000</td>\n",
              "      <td>0.000000</td>\n",
              "      <td>0.000000</td>\n",
              "      <td>0.000000</td>\n",
              "      <td>0.000000</td>\n",
              "      <td>0.000000</td>\n",
              "      <td>0.00000</td>\n",
              "      <td>0.000000</td>\n",
              "      <td>0.000000</td>\n",
              "      <td>0.000000</td>\n",
              "      <td>0.000000</td>\n",
              "      <td>0.000000</td>\n",
              "      <td>0.000000</td>\n",
              "      <td>0.000000</td>\n",
              "      <td>0.000000</td>\n",
              "      <td>0.000000</td>\n",
              "      <td>0.000000</td>\n",
              "      <td>0.00000</td>\n",
              "      <td>0.000000</td>\n",
              "      <td>0.000000</td>\n",
              "      <td>0.000000</td>\n",
              "      <td>0.000000</td>\n",
              "      <td>0.00000</td>\n",
              "      <td>0.000000</td>\n",
              "      <td>0.000000</td>\n",
              "      <td>0.000000</td>\n",
              "      <td>0.000000</td>\n",
              "      <td>0.000000</td>\n",
              "    </tr>\n",
              "    <tr>\n",
              "      <th>2413</th>\n",
              "      <td>031288_02</td>\n",
              "      <td>0.000000</td>\n",
              "      <td>0.000000</td>\n",
              "      <td>0.000000</td>\n",
              "      <td>0.000000</td>\n",
              "      <td>0.000000</td>\n",
              "      <td>0.000000</td>\n",
              "      <td>0.000000</td>\n",
              "      <td>0.0</td>\n",
              "      <td>0.0</td>\n",
              "      <td>0.0</td>\n",
              "      <td>0.0</td>\n",
              "      <td>0.000000</td>\n",
              "      <td>0.000000</td>\n",
              "      <td>0.0</td>\n",
              "      <td>0.0</td>\n",
              "      <td>0.000000</td>\n",
              "      <td>0.000000</td>\n",
              "      <td>0.000000</td>\n",
              "      <td>0.000000</td>\n",
              "      <td>0.000000</td>\n",
              "      <td>0.0</td>\n",
              "      <td>0.0</td>\n",
              "      <td>0.0</td>\n",
              "      <td>0.0</td>\n",
              "      <td>0.0</td>\n",
              "      <td>0.000000</td>\n",
              "      <td>0.000000</td>\n",
              "      <td>0.0</td>\n",
              "      <td>0.0</td>\n",
              "      <td>0.0</td>\n",
              "      <td>0.0</td>\n",
              "      <td>0.0</td>\n",
              "      <td>0.0</td>\n",
              "      <td>0.0</td>\n",
              "      <td>0.0</td>\n",
              "      <td>0.0</td>\n",
              "      <td>0.0</td>\n",
              "      <td>0.000000</td>\n",
              "      <td>0.000000</td>\n",
              "      <td>...</td>\n",
              "      <td>0.000000</td>\n",
              "      <td>0.000000</td>\n",
              "      <td>0.000000</td>\n",
              "      <td>0.000000</td>\n",
              "      <td>0.000000</td>\n",
              "      <td>0.000000</td>\n",
              "      <td>0.000000</td>\n",
              "      <td>0.000000</td>\n",
              "      <td>0.000000</td>\n",
              "      <td>0.000000</td>\n",
              "      <td>0.000000</td>\n",
              "      <td>0.000000</td>\n",
              "      <td>0.000000</td>\n",
              "      <td>0.000000</td>\n",
              "      <td>0.000000</td>\n",
              "      <td>0.000000</td>\n",
              "      <td>0.000000</td>\n",
              "      <td>0.000000</td>\n",
              "      <td>0.00000</td>\n",
              "      <td>0.000000</td>\n",
              "      <td>0.000000</td>\n",
              "      <td>0.000000</td>\n",
              "      <td>0.000000</td>\n",
              "      <td>0.000000</td>\n",
              "      <td>0.000000</td>\n",
              "      <td>0.000000</td>\n",
              "      <td>0.000000</td>\n",
              "      <td>0.000000</td>\n",
              "      <td>0.000000</td>\n",
              "      <td>0.00000</td>\n",
              "      <td>0.000000</td>\n",
              "      <td>0.000000</td>\n",
              "      <td>0.000000</td>\n",
              "      <td>0.000000</td>\n",
              "      <td>0.00000</td>\n",
              "      <td>0.000000</td>\n",
              "      <td>0.000000</td>\n",
              "      <td>0.000000</td>\n",
              "      <td>0.000000</td>\n",
              "      <td>0.000000</td>\n",
              "    </tr>\n",
              "    <tr>\n",
              "      <th>2414</th>\n",
              "      <td>031288_08</td>\n",
              "      <td>0.000000</td>\n",
              "      <td>0.000000</td>\n",
              "      <td>0.000000</td>\n",
              "      <td>0.000000</td>\n",
              "      <td>0.000000</td>\n",
              "      <td>0.000000</td>\n",
              "      <td>0.000000</td>\n",
              "      <td>0.0</td>\n",
              "      <td>0.0</td>\n",
              "      <td>0.0</td>\n",
              "      <td>0.0</td>\n",
              "      <td>0.000000</td>\n",
              "      <td>0.000000</td>\n",
              "      <td>0.0</td>\n",
              "      <td>0.0</td>\n",
              "      <td>0.000000</td>\n",
              "      <td>0.000000</td>\n",
              "      <td>0.000000</td>\n",
              "      <td>0.000000</td>\n",
              "      <td>0.000000</td>\n",
              "      <td>0.0</td>\n",
              "      <td>0.0</td>\n",
              "      <td>0.0</td>\n",
              "      <td>0.0</td>\n",
              "      <td>0.0</td>\n",
              "      <td>0.000000</td>\n",
              "      <td>0.000000</td>\n",
              "      <td>0.0</td>\n",
              "      <td>0.0</td>\n",
              "      <td>0.0</td>\n",
              "      <td>0.0</td>\n",
              "      <td>0.0</td>\n",
              "      <td>0.0</td>\n",
              "      <td>0.0</td>\n",
              "      <td>0.0</td>\n",
              "      <td>0.0</td>\n",
              "      <td>0.0</td>\n",
              "      <td>0.000000</td>\n",
              "      <td>0.000000</td>\n",
              "      <td>...</td>\n",
              "      <td>0.000000</td>\n",
              "      <td>0.000000</td>\n",
              "      <td>0.000000</td>\n",
              "      <td>0.000000</td>\n",
              "      <td>0.000000</td>\n",
              "      <td>0.000000</td>\n",
              "      <td>0.000000</td>\n",
              "      <td>0.000000</td>\n",
              "      <td>0.000000</td>\n",
              "      <td>0.000000</td>\n",
              "      <td>0.000000</td>\n",
              "      <td>0.000000</td>\n",
              "      <td>0.000000</td>\n",
              "      <td>0.000000</td>\n",
              "      <td>0.000000</td>\n",
              "      <td>0.000000</td>\n",
              "      <td>0.000000</td>\n",
              "      <td>0.000000</td>\n",
              "      <td>0.00000</td>\n",
              "      <td>0.000000</td>\n",
              "      <td>0.000000</td>\n",
              "      <td>0.000000</td>\n",
              "      <td>0.000000</td>\n",
              "      <td>0.000000</td>\n",
              "      <td>0.000000</td>\n",
              "      <td>0.000000</td>\n",
              "      <td>0.000000</td>\n",
              "      <td>0.000000</td>\n",
              "      <td>0.000000</td>\n",
              "      <td>0.00000</td>\n",
              "      <td>0.000000</td>\n",
              "      <td>0.000000</td>\n",
              "      <td>0.000000</td>\n",
              "      <td>0.000000</td>\n",
              "      <td>0.00000</td>\n",
              "      <td>0.000000</td>\n",
              "      <td>0.000000</td>\n",
              "      <td>0.000000</td>\n",
              "      <td>0.000000</td>\n",
              "      <td>0.000000</td>\n",
              "    </tr>\n",
              "    <tr>\n",
              "      <th>2415</th>\n",
              "      <td>031288_11</td>\n",
              "      <td>0.407657</td>\n",
              "      <td>0.472847</td>\n",
              "      <td>0.507181</td>\n",
              "      <td>0.359326</td>\n",
              "      <td>0.380871</td>\n",
              "      <td>0.499098</td>\n",
              "      <td>0.152802</td>\n",
              "      <td>0.0</td>\n",
              "      <td>0.0</td>\n",
              "      <td>0.0</td>\n",
              "      <td>0.0</td>\n",
              "      <td>0.000000</td>\n",
              "      <td>0.000000</td>\n",
              "      <td>0.0</td>\n",
              "      <td>0.0</td>\n",
              "      <td>0.000000</td>\n",
              "      <td>0.000000</td>\n",
              "      <td>0.000000</td>\n",
              "      <td>0.000000</td>\n",
              "      <td>0.000000</td>\n",
              "      <td>0.0</td>\n",
              "      <td>0.0</td>\n",
              "      <td>0.0</td>\n",
              "      <td>0.0</td>\n",
              "      <td>0.0</td>\n",
              "      <td>0.000000</td>\n",
              "      <td>0.000000</td>\n",
              "      <td>0.0</td>\n",
              "      <td>0.0</td>\n",
              "      <td>0.0</td>\n",
              "      <td>0.0</td>\n",
              "      <td>0.0</td>\n",
              "      <td>0.0</td>\n",
              "      <td>0.0</td>\n",
              "      <td>0.0</td>\n",
              "      <td>0.0</td>\n",
              "      <td>0.0</td>\n",
              "      <td>0.000000</td>\n",
              "      <td>0.000000</td>\n",
              "      <td>...</td>\n",
              "      <td>0.000000</td>\n",
              "      <td>0.000000</td>\n",
              "      <td>0.000000</td>\n",
              "      <td>0.000000</td>\n",
              "      <td>0.000000</td>\n",
              "      <td>0.000000</td>\n",
              "      <td>0.000000</td>\n",
              "      <td>0.000000</td>\n",
              "      <td>0.000000</td>\n",
              "      <td>0.000000</td>\n",
              "      <td>0.000000</td>\n",
              "      <td>0.000000</td>\n",
              "      <td>0.000000</td>\n",
              "      <td>0.000000</td>\n",
              "      <td>0.000000</td>\n",
              "      <td>0.000000</td>\n",
              "      <td>0.000000</td>\n",
              "      <td>0.000000</td>\n",
              "      <td>0.00000</td>\n",
              "      <td>0.000000</td>\n",
              "      <td>0.000000</td>\n",
              "      <td>0.000000</td>\n",
              "      <td>0.000000</td>\n",
              "      <td>0.000000</td>\n",
              "      <td>0.000000</td>\n",
              "      <td>0.000000</td>\n",
              "      <td>0.000000</td>\n",
              "      <td>0.000000</td>\n",
              "      <td>0.000000</td>\n",
              "      <td>0.00000</td>\n",
              "      <td>0.000000</td>\n",
              "      <td>0.000000</td>\n",
              "      <td>0.000000</td>\n",
              "      <td>0.000000</td>\n",
              "      <td>0.00000</td>\n",
              "      <td>0.000000</td>\n",
              "      <td>0.000000</td>\n",
              "      <td>0.000000</td>\n",
              "      <td>0.000000</td>\n",
              "      <td>0.000000</td>\n",
              "    </tr>\n",
              "  </tbody>\n",
              "</table>\n",
              "<p>2416 rows × 1601 columns</p>\n",
              "</div>"
            ],
            "text/plain": [
              "             id      px_1      px_2  ...   px_1598   px_1599   px_1600\n",
              "0     029858_01  0.002718  0.000000  ...  0.000000  0.000000  0.000000\n",
              "1     029858_02  0.000000  0.000000  ...  0.000000  0.000000  0.000000\n",
              "2     029858_03  0.000000  0.000000  ...  0.000000  0.000000  0.000000\n",
              "3     029858_05  0.000000  0.000000  ...  0.000000  0.000000  0.000000\n",
              "4     029858_07  0.000000  0.000000  ...  3.598025  2.254057  1.101455\n",
              "...         ...       ...       ...  ...       ...       ...       ...\n",
              "2411  031287_08  0.000000  0.000000  ...  0.000000  0.000000  0.000000\n",
              "2412  031288_01  0.000000  0.000000  ...  0.000000  0.000000  0.000000\n",
              "2413  031288_02  0.000000  0.000000  ...  0.000000  0.000000  0.000000\n",
              "2414  031288_08  0.000000  0.000000  ...  0.000000  0.000000  0.000000\n",
              "2415  031288_11  0.407657  0.472847  ...  0.000000  0.000000  0.000000\n",
              "\n",
              "[2416 rows x 1601 columns]"
            ]
          },
          "metadata": {
            "tags": []
          },
          "execution_count": 59
        }
      ]
    },
    {
      "cell_type": "code",
      "metadata": {
        "id": "JSKzWW_uT_T_",
        "colab_type": "code",
        "colab": {}
      },
      "source": [
        ""
      ],
      "execution_count": 0,
      "outputs": []
    }
  ]
}