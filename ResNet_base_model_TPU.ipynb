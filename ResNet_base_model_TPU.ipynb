{
  "nbformat": 4,
  "nbformat_minor": 0,
  "metadata": {
    "colab": {
      "name": "ResNet_base_model_TPU",
      "provenance": [],
      "collapsed_sections": [],
      "machine_shape": "hm",
      "include_colab_link": true
    },
    "kernelspec": {
      "name": "python3",
      "display_name": "Python 3"
    },
    "accelerator": "TPU"
  },
  "cells": [
    {
      "cell_type": "markdown",
      "metadata": {
        "id": "view-in-github",
        "colab_type": "text"
      },
      "source": [
        "<a href=\"https://colab.research.google.com/github/curiosity806/2020_dacon_satellite_precipitation/blob/augment8%2Fresnet-single/ResNet_base_model_TPU.ipynb\" target=\"_parent\"><img src=\"https://colab.research.google.com/assets/colab-badge.svg\" alt=\"Open In Colab\"/></a>"
      ]
    },
    {
      "cell_type": "code",
      "metadata": {
        "id": "oi-MWY4HOblX",
        "colab_type": "code",
        "outputId": "8b05d49c-5a64-41e0-feb3-ce0adb9e4289",
        "colab": {
          "base_uri": "https://localhost:8080/",
          "height": 125
        }
      },
      "source": [
        "from google.colab import drive\n",
        "drive.mount('/content/drive')"
      ],
      "execution_count": 1,
      "outputs": [
        {
          "output_type": "stream",
          "text": [
            "Go to this URL in a browser: https://accounts.google.com/o/oauth2/auth?client_id=947318989803-6bn6qk8qdgf4n4g3pfee6491hc0brc4i.apps.googleusercontent.com&redirect_uri=urn%3aietf%3awg%3aoauth%3a2.0%3aoob&response_type=code&scope=email%20https%3a%2f%2fwww.googleapis.com%2fauth%2fdocs.test%20https%3a%2f%2fwww.googleapis.com%2fauth%2fdrive%20https%3a%2f%2fwww.googleapis.com%2fauth%2fdrive.photos.readonly%20https%3a%2f%2fwww.googleapis.com%2fauth%2fpeopleapi.readonly\n",
            "\n",
            "Enter your authorization code:\n",
            "··········\n",
            "Mounted at /content/drive\n"
          ],
          "name": "stdout"
        }
      ]
    },
    {
      "cell_type": "code",
      "metadata": {
        "id": "_pj84NcY6oGu",
        "colab_type": "code",
        "colab": {}
      },
      "source": [
        "!cp '/content/drive/My Drive/2020 Kaggle Study/data/Copy of train.npy' train.npy"
      ],
      "execution_count": 0,
      "outputs": []
    },
    {
      "cell_type": "code",
      "metadata": {
        "id": "GmamJLo67sjf",
        "colab_type": "code",
        "colab": {}
      },
      "source": [
        ""
      ],
      "execution_count": 0,
      "outputs": []
    },
    {
      "cell_type": "code",
      "metadata": {
        "id": "h6La-zpczGzY",
        "colab_type": "code",
        "colab": {}
      },
      "source": [
        "import glob\n",
        "import pandas as pd\n",
        "import numpy as np\n",
        "import matplotlib.pylab as plt\n",
        "import seaborn as sns\n",
        "from tqdm import tqdm\n",
        "import matplotlib.pyplot as plt\n",
        "import tensorflow as tf\n",
        "import os\n",
        "import random\n",
        "from tensorflow.keras.layers import Dense, Conv2D, Dropout, Conv2DTranspose, MaxPooling2D, BatchNormalization, Activation, concatenate, Input, GlobalAveragePooling2D\n",
        "from tensorflow.keras import Model\n",
        "import warnings\n",
        "import gc\n",
        "import matplotlib.pyplot as plt\n",
        "import matplotlib.animation as animation\n",
        "from scipy import stats\n",
        "warnings.filterwarnings(\"ignore\")\n",
        "# style 설정\n",
        "plt.style.use('dark_background')\n",
        "plt.style.use('seaborn-colorblind')\n",
        "\n",
        "# 재생산성을 위해 시드 고정\n",
        "np.random.seed(7)\n",
        "random.seed(7)\n",
        "tf.random.set_seed(7)\n",
        "\n",
        "\n",
        "import tensorflow as tf\n",
        "import os\n",
        "import tensorflow_datasets as tfds\n",
        "from sklearn.model_selection import KFold\n",
        "import pickle\n",
        "AUTOTUNE = tf.data.experimental.AUTOTUNE\n",
        "AUTO = tf.data.experimental.AUTOTUNE"
      ],
      "execution_count": 0,
      "outputs": []
    },
    {
      "cell_type": "markdown",
      "metadata": {
        "id": "0pUOc4bq-IrZ",
        "colab_type": "text"
      },
      "source": [
        "## 데이터 받아오기"
      ]
    },
    {
      "cell_type": "code",
      "metadata": {
        "id": "36olRM2r6rBE",
        "colab_type": "code",
        "colab": {}
      },
      "source": [
        "#train = np.load('train.npy')\n",
        "train = np.load('train.npy')"
      ],
      "execution_count": 0,
      "outputs": []
    },
    {
      "cell_type": "code",
      "metadata": {
        "id": "ohvb1O7oRto2",
        "colab_type": "code",
        "outputId": "c3a1f6a9-7424-457e-c79a-7e04eb0c4965",
        "colab": {
          "base_uri": "https://localhost:8080/",
          "height": 34
        }
      },
      "source": [
        "train.shape"
      ],
      "execution_count": 36,
      "outputs": [
        {
          "output_type": "execute_result",
          "data": {
            "text/plain": [
              "(76345, 40, 40, 15)"
            ]
          },
          "metadata": {
            "tags": []
          },
          "execution_count": 36
        }
      ]
    },
    {
      "cell_type": "code",
      "metadata": {
        "id": "mJ2EnNuMyY7z",
        "colab_type": "code",
        "outputId": "f16c3534-b246-40f6-963a-e00bdf545197",
        "colab": {
          "base_uri": "https://localhost:8080/",
          "height": 34
        }
      },
      "source": [
        "def preprocess(data):\n",
        "    land_type_data = data[:,:,:,9]\n",
        "    data[:,:,:,9] = np.where(land_type_data//100 == 2, 0.7,\n",
        "                             np.where(land_type_data//100 == 3, 0.3,\n",
        "                                      land_type_data//100))\n",
        "    return data\n",
        "\n",
        "\n",
        "is_valid = (train[:,:,:,-1].reshape(-1, 1600) < 0).sum(axis=1) == 0\n",
        "is_valid = is_valid & ((train[:,:,:,-1].reshape(-1, 1600) >= 0.1).sum(axis=1) >= 50)\n",
        "train = train[is_valid]  # (-1, 40, 40, 15)\n",
        "train = preprocess(train)\n",
        "train.shape"
      ],
      "execution_count": 37,
      "outputs": [
        {
          "output_type": "execute_result",
          "data": {
            "text/plain": [
              "(30662, 40, 40, 15)"
            ]
          },
          "metadata": {
            "tags": []
          },
          "execution_count": 37
        }
      ]
    },
    {
      "cell_type": "markdown",
      "metadata": {
        "id": "ARExxyqONfIK",
        "colab_type": "text"
      },
      "source": [
        "#모델 만들기"
      ]
    },
    {
      "cell_type": "code",
      "metadata": {
        "id": "dz008iV85Oi3",
        "colab_type": "code",
        "colab": {}
      },
      "source": [
        "def create_model():\n",
        "    inputs=Input((40, 40, 10))\n",
        "    \n",
        "    conv0=Conv2D(256, kernel_size=1, strides=1, padding='same', activation='relu')(inputs)\n",
        "    conv0=Dropout(0.5)(conv0)\n",
        "    \n",
        "    bn=BatchNormalization()(conv0)\n",
        "    conv=Conv2D(128, kernel_size=2, strides=1, padding='same', activation='relu')(bn)\n",
        "    conv=Dropout(0.5)(conv)\n",
        "    concat=concatenate([conv0, conv], axis=3)\n",
        "    \n",
        "    bn=BatchNormalization()(concat)\n",
        "    conv=Conv2D(64, kernel_size=3, strides=1, padding='same', activation='relu')(bn)\n",
        "    conv=Dropout(0.5)(conv)\n",
        "    concat=concatenate([concat, conv], axis=3)\n",
        "\n",
        "    for i in range(5):\n",
        "        bn=BatchNormalization()(concat)\n",
        "        conv=Conv2D(32, kernel_size=3, strides=1, padding='same', activation='relu')(bn)\n",
        "        conv=Dropout(0.5)(conv)\n",
        "        concat=concatenate([concat, conv], axis=3)\n",
        "    \n",
        "    bn=BatchNormalization()(concat)\n",
        "    outputs=Conv2D(1, kernel_size=1, strides=1, padding='same', activation='relu')(bn)\n",
        "    \n",
        "    model=Model(inputs=inputs, outputs=outputs)\n",
        "    \n",
        "    return model"
      ],
      "execution_count": 0,
      "outputs": []
    },
    {
      "cell_type": "code",
      "metadata": {
        "id": "i_NhbS4s09p_",
        "colab_type": "code",
        "colab": {}
      },
      "source": [
        "from sklearn.metrics import f1_score\n",
        "\n",
        "def mae(y_true, y_pred) :\n",
        "    y_true, y_pred = np.array(y_true), np.array(y_pred)\n",
        "    y_true = y_true.reshape(1, -1)[0]\n",
        "    y_pred = y_pred.reshape(1, -1)[0]\n",
        "    over_threshold = y_true >= 0.1\n",
        "    return np.mean(np.abs(y_true[over_threshold] - y_pred[over_threshold]))\n",
        "\n",
        "def fscore(y_true, y_pred):\n",
        "    y_true, y_pred = np.array(y_true), np.array(y_pred)\n",
        "    y_true = y_true.reshape(1, -1)[0]\n",
        "    y_pred = y_pred.reshape(1, -1)[0]\n",
        "    remove_NAs = y_true >= 0\n",
        "    y_true = np.where(y_true[remove_NAs] >= 0.1, 1, 0)\n",
        "    y_pred = np.where(y_pred[remove_NAs] >= 0.1, 1, 0)\n",
        "    return(f1_score(y_true, y_pred))\n",
        "\n",
        "def maeOverFscore(y_true, y_pred):\n",
        "    return mae(y_true, y_pred) / (fscore(y_true, y_pred) + 1e-07)\n",
        "\n",
        "def fscore_keras(y_true, y_pred):\n",
        "    score = tf.py_function(func=fscore, inp=[y_true, y_pred], Tout=tf.float32, name='fscore_keras')\n",
        "    return score\n",
        "\n",
        "def maeOverFscore_keras(y_true, y_pred):\n",
        "    score = tf.py_function(func=maeOverFscore, inp=[y_true, y_pred], Tout=tf.float32,  name='custom_mse') \n",
        "    return score"
      ],
      "execution_count": 0,
      "outputs": []
    },
    {
      "cell_type": "markdown",
      "metadata": {
        "colab_type": "text",
        "id": "nWrybUnXIts7"
      },
      "source": [
        "## 데이터 제네레이터 만들기"
      ]
    },
    {
      "cell_type": "code",
      "metadata": {
        "id": "KIZ4mjSuwIFz",
        "colab_type": "code",
        "outputId": "b6385ab9-c90f-4b38-ae91-e97f6a05c66d",
        "colab": {
          "base_uri": "https://localhost:8080/",
          "height": 34
        }
      },
      "source": [
        "train.shape"
      ],
      "execution_count": 0,
      "outputs": [
        {
          "output_type": "execute_result",
          "data": {
            "text/plain": [
              "(30662, 40, 40, 15)"
            ]
          },
          "metadata": {
            "tags": []
          },
          "execution_count": 7
        }
      ]
    },
    {
      "cell_type": "code",
      "metadata": {
        "id": "mSD50xCMQ6yM",
        "colab_type": "code",
        "colab": {}
      },
      "source": [
        "import tensorflow as tf, tensorflow.keras.backend as K\n",
        "import math\n",
        "\n",
        "def get_mat():\n",
        "    # returns 3x3 transformmatrix which transforms indicies\n",
        "    # CONVERT DEGREES TO RADIANS\n",
        "    rotation = tf.random.uniform([1], minval=0, maxval=4, dtype=tf.dtypes.int32, seed=None, name=None) / 2 * math.pi\n",
        "\n",
        "    # ROTATION MATRIX\n",
        "    rotation = tf.random.uniform([1], minval=0, maxval=4, dtype=tf.dtypes.int32, seed=None, name=None)\n",
        "    rotation = tf.cast(rotation, 'float32')\n",
        "    rotation = rotation * math.pi / 2.\n",
        "    c1 = tf.math.cos(rotation)\n",
        "    s1 = tf.math.sin(rotation)\n",
        "    one = tf.constant([1],dtype='float32')\n",
        "    zero = tf.constant([0],dtype='float32')\n",
        "    rotation_matrix = tf.reshape( tf.concat([c1,s1,zero, -s1,c1,zero, zero,zero,one],axis=0),[3,3] )\n",
        "\n",
        "    # TRANSPOSE MATRIX \n",
        "    de_t = tf.random.uniform([1], minval = 0, maxval = 2, dtype = tf.int32)\n",
        "    de_t = tf.cast(de_t, 'float32')\n",
        "    forty = tf.constant([40],dtype='float32')\n",
        "    transpose_matrix = tf.reshape( tf.concat([1 - de_t, -de_t, de_t, -de_t, 1 - de_t, de_t, zero, zero, one], axis = 0),[3,3])   \n",
        "    return K.dot(rotation_matrix, transpose_matrix)\n",
        "\n",
        "def transform(train_x,train_y):\n",
        "    # input image - is one image of size [dim,dim,3] not a batch of [b,dim,dim,3]\n",
        "    # output - image randomly rotated, sheared, zoomed, and shifted\n",
        "    DIM = 40\n",
        "    # GET TRANSFORMATION MATRIX\n",
        "    m = get_mat()\n",
        "    x = tf.repeat( tf.range(DIM//2,-DIM//2,-1), DIM)\n",
        "    y = tf.tile( tf.range(-DIM//2,DIM//2),[DIM])\n",
        "    z = tf.ones([DIM*DIM],dtype='int32')\n",
        "    idx = tf.stack( [x,y,z] )\n",
        "    \n",
        "    # ROTATE DESTINATION PIXELS ONTO ORIGIN PIXELS\n",
        "    idx2 = K.dot(m,tf.cast(idx,dtype='float32'))\n",
        "    idx2 = K.cast(idx2,dtype='int32')\n",
        "    idx2 = K.clip(idx2,-DIM//2+1,DIM//2)\n",
        "    \n",
        "    # FIND ORIGIN PIXEL VALUES           \n",
        "    idx3 = tf.stack( [DIM//2-idx2[0,], DIM//2-1+idx2[1,]])\n",
        "    train_x_img = tf.gather_nd(train_x,tf.transpose(idx3))\n",
        "    train_y_img = tf.gather_nd(train_y,tf.transpose(idx3))\n",
        "\n",
        "    return tf.reshape(train_x_img,[DIM,DIM,10]),tf.reshape(train_y_img,[DIM,DIM,1])\n",
        "\n",
        "def get_training_dataset(dataset,batch_size = None):\n",
        "    dataset = dataset.with_options(tf.data.Options())\n",
        "    dataset = dataset.map(transform, num_parallel_calls=AUTO)\n",
        "    dataset = dataset.repeat() # the training dataset must repeat for several epochs\n",
        "    dataset = dataset.shuffle(2048)\n",
        "    dataset = dataset.batch(batch_size)\n",
        "    dataset = dataset.prefetch(AUTO) # prefetch next batch while training (autotune prefetch buffer size)\n",
        "    return dataset\n",
        "\n",
        "def get_validation_dataset(dataset,batch_size = None):\n",
        "    dataset = dataset.batch(batch_size)\n",
        "    dataset = dataset.cache()\n",
        "    dataset = dataset.prefetch(AUTO) # prefetch next batch while training (autotune prefetch buffer size)\n",
        "    return dataset"
      ],
      "execution_count": 0,
      "outputs": []
    },
    {
      "cell_type": "code",
      "metadata": {
        "id": "gwcl-Pf5lju9",
        "colab_type": "code",
        "outputId": "c18b7ef1-9b78-41fb-cccb-1ada89f501ca",
        "colab": {
          "base_uri": "https://localhost:8080/",
          "height": 87
        }
      },
      "source": [
        "zero = tf.constant([0],dtype='float32')\n",
        "one = tf.constant([1],dtype='float32')\n",
        "\n",
        "de_t = tf.random.uniform([1], minval = 0, maxval = 2, dtype = tf.int32)\n",
        "de_t = tf.cast(de_t, 'float32')\n",
        "forty = tf.constant([40],dtype='float32')\n",
        "tf.reshape( tf.concat([1 - de_t, -de_t, de_t, -de_t, 1 - de_t, de_t, zero, zero, one-de_t], axis = 0),[3,3])\n"
      ],
      "execution_count": 121,
      "outputs": [
        {
          "output_type": "execute_result",
          "data": {
            "text/plain": [
              "<tf.Tensor: shape=(3, 3), dtype=float32, numpy=\n",
              "array([[ 0., -1.,  1.],\n",
              "       [-1.,  0.,  1.],\n",
              "       [ 0.,  0.,  0.]], dtype=float32)>"
            ]
          },
          "metadata": {
            "tags": []
          },
          "execution_count": 121
        }
      ]
    },
    {
      "cell_type": "code",
      "metadata": {
        "id": "MdNjMuxwO6HY",
        "colab_type": "code",
        "outputId": "ffe090c2-0d43-4e0c-fc2a-6133a9c11298",
        "colab": {
          "base_uri": "https://localhost:8080/",
          "height": 479
        }
      },
      "source": [
        "x_train =train[:1000,:,:,:10]\n",
        "y_train = train[:1000,:,:,-1].reshape(-1,40,40,1)\n",
        "\n",
        "train_batches = tf.data.Dataset.from_tensor_slices((x_train, y_train))\n",
        "train_batches = get_training_dataset(train_batches, batch_size = 8)\n",
        "\n",
        "n = 0 \n",
        "for (img_x,label) in train_batches:\n",
        "    plt.figure(figsize=(15,int(15*2/4)))\n",
        "    print(img_x.shape)\n",
        "    if n == 1:\n",
        "        for j in range(8):\n",
        "            plt.subplot(4,4,j+1)\n",
        "            plt.axis('off')\n",
        "            plt.imshow(img_x[j,:,:,4])\n",
        "    if n == 2:\n",
        "        for j in range(8):\n",
        "            plt.subplot(4,4,j+1+8)\n",
        "            plt.axis('off')\n",
        "            plt.imshow(img_x[j,:,:,4])\n",
        "    if n == 2:\n",
        "        break\n",
        "    n = n+1"
      ],
      "execution_count": 41,
      "outputs": [
        {
          "output_type": "stream",
          "text": [
            "(8, 40, 40, 10)\n",
            "(8, 40, 40, 10)\n",
            "(8, 40, 40, 10)\n"
          ],
          "name": "stdout"
        },
        {
          "output_type": "display_data",
          "data": {
            "text/plain": [
              "<Figure size 1080x504 with 0 Axes>"
            ]
          },
          "metadata": {
            "tags": []
          }
        },
        {
          "output_type": "display_data",
          "data": {
            "image/png": "[encoded data removed]",
            "text/plain": [
              "<Figure size 1080x504 with 8 Axes>"
            ]
          },
          "metadata": {
            "tags": []
          }
        },
        {
          "output_type": "display_data",
          "data": {
            "image/png": "[encoded data removed]",
            "text/plain": [
              "<Figure size 1080x504 with 8 Axes>"
            ]
          },
          "metadata": {
            "tags": []
          }
        }
      ]
    },
    {
      "cell_type": "code",
      "metadata": {
        "id": "uSCP-RNmWNSL",
        "colab_type": "code",
        "colab": {}
      },
      "source": [
        "\n",
        "from sklearn.metrics import f1_score\n",
        "\n",
        "def mae(y_true, y_pred) :\n",
        "    y_true, y_pred = np.array(y_true), np.array(y_pred)\n",
        "    y_true = y_true.reshape(1, -1)[0]\n",
        "    y_pred = y_pred.reshape(1, -1)[0]\n",
        "    over_threshold = y_true >= 0.1\n",
        "    return np.mean(np.abs(y_true[over_threshold] - y_pred[over_threshold]))\n",
        "\n",
        "def fscore(y_true, y_pred):\n",
        "    y_true, y_pred = np.array(y_true), np.array(y_pred)\n",
        "    y_true = y_true.reshape(1, -1)[0]\n",
        "    y_pred = y_pred.reshape(1, -1)[0]\n",
        "    remove_NAs = y_true >= 0\n",
        "    y_true = np.where(y_true[remove_NAs] >= 0.1, 1, 0)\n",
        "    y_pred = np.where(y_pred[remove_NAs] >= 0.1, 1, 0)\n",
        "    return(f1_score(y_true, y_pred))\n",
        "\n",
        "def maeOverFscore(y_true, y_pred):\n",
        "    return mae(y_true, y_pred) / (fscore(y_true, y_pred) + 1e-07)\n",
        "\n",
        "def fscore_keras(y_true, y_pred):\n",
        "    score = tf.py_function(func=fscore, inp=[y_true, y_pred], Tout=tf.float32, name='fscore_keras')\n",
        "    return score\n",
        "\n",
        "def maeOverFscore_keras(y_true, y_pred):\n",
        "    score = tf.py_function(func=maeOverFscore, inp=[y_true, y_pred], Tout=tf.float32,  name='custom_mse') \n",
        "    return score\n",
        "def create_model():\n",
        "    inputs=Input((40, 40, 10))\n",
        "    \n",
        "    bn=BatchNormalization()(inputs)\n",
        "    conv0=Conv2D(256, kernel_size=1, strides=1, padding='same', activation='relu')(bn)\n",
        "    \n",
        "    bn=BatchNormalization()(conv0)\n",
        "    conv=Conv2D(128, kernel_size=2, strides=1, padding='same', activation='relu')(bn)\n",
        "    concat=concatenate([conv0, conv], axis=3)\n",
        "    \n",
        "    bn=BatchNormalization()(concat)\n",
        "    conv=Conv2D(64, kernel_size=3, strides=1, padding='same', activation='relu')(bn)\n",
        "    concat=concatenate([concat, conv], axis=3)\n",
        "\n",
        "    for i in range(5):\n",
        "        bn=BatchNormalization()(concat)\n",
        "        conv=Conv2D(32, kernel_size=3, strides=1, padding='same', activation='relu')(bn)\n",
        "        concat=concatenate([concat, conv], axis=3)\n",
        "    \n",
        "    bn=BatchNormalization()(concat)\n",
        "    outputs=Conv2D(1, kernel_size=1, strides=1, padding='same', activation='relu')(bn)\n",
        "    \n",
        "    model=Model(inputs=inputs, outputs=outputs)\n",
        "    \n",
        "    return model"
      ],
      "execution_count": 0,
      "outputs": []
    },
    {
      "cell_type": "code",
      "metadata": {
        "id": "O7WSmds7cOGW",
        "colab_type": "code",
        "colab": {}
      },
      "source": [
        "import warnings\n",
        "warnings.filterwarnings('ignore')"
      ],
      "execution_count": 0,
      "outputs": []
    },
    {
      "cell_type": "code",
      "metadata": {
        "id": "IfVk2oGruQ9y",
        "colab_type": "code",
        "colab": {}
      },
      "source": [
        "### tensor로 score matric 구현\n",
        "\n",
        "def f1_metric(y_true, y_pred):\n",
        "    true_positives = K.sum(K.round(K.clip(y_true * y_pred, 0, 1)))\n",
        "    possible_positives = K.sum(K.round(K.clip(y_true, 0, 1)))\n",
        "    predicted_positives = K.sum(K.round(K.clip(y_pred, 0, 1)))\n",
        "    precision = true_positives / (predicted_positives + K.epsilon())\n",
        "    recall = true_positives / (possible_positives + K.epsilon())\n",
        "    f1_val = 2*(precision*recall)/(precision+recall+K.epsilon())\n",
        "    return f1_val\n",
        "\n",
        "\n",
        "def custom_mae(y_true, y_pred):\n",
        "    y_error = y_pred - y_true\n",
        "    bool_idx = tf.less_equal(0.1,y_true)\n",
        "    len_mae = tf.reduce_sum(tf.cast(bool_idx, tf.float32))\n",
        "    socre = tf.math.abs(y_error)\n",
        "    mae = tf.keras.backend.switch(bool_idx, socre, 0)\n",
        "    return tf.divide(tf.math.reduce_sum(mae), len_mae)\n",
        "\n",
        "def custum_f1score(y_true, y_pred):\n",
        "    bool_true = tf.less_equal(0.1,y_true)\n",
        "    y_true = tf.where(bool_true, 1., 0.)\n",
        "    bool_pred = tf.less_equal(0.1,y_pred)\n",
        "    y_pred = tf.where(bool_pred, 1., 0.)\n",
        "    return(f1_metric(y_true, y_pred))\n",
        "\n",
        "\n",
        "def maeOverFscore(y_true, y_pred):\n",
        "    f1_score = custum_f1score(y_true, y_pred) + 1e-07\n",
        "    return tf.divide(custom_mae(y_true, y_pred), f1_score)"
      ],
      "execution_count": 0,
      "outputs": []
    },
    {
      "cell_type": "code",
      "metadata": {
        "id": "6iKnoynYWNP6",
        "colab_type": "code",
        "outputId": "3bd0c4c6-336c-46b9-b13a-d2797b287bc2",
        "colab": {
          "base_uri": "https://localhost:8080/",
          "height": 1000
        }
      },
      "source": [
        "k_fold = KFold(n_splits=5, shuffle=True, random_state=7777)\n",
        "\n",
        "model_number = 0\n",
        "for train_idx, val_idx in k_fold.split(train):\n",
        "    print(f'Fold{model_number + 1}')\n",
        "    #x_val, y_val = train[val_idx, :, :, :10], train[val_idx, :, :, -1]\n",
        "    models = []\n",
        "    ### TPU 할당 및 초기화-------------------\n",
        "    resolver = tf.distribute.cluster_resolver.TPUClusterResolver(tpu='grpc://' + os.environ['COLAB_TPU_ADDR'])\n",
        "    tf.config.experimental_connect_to_cluster(resolver)\n",
        "    # This is the TPU initialization code that has to be at the beginning.\n",
        "    tf.tpu.experimental.initialize_tpu_system(resolver)\n",
        "    strategy = tf.distribute.experimental.TPUStrategy(resolver)\n",
        "    ### 모델 생성 및 compile-------------------\n",
        "    with strategy.scope():\n",
        "        model = create_model()\n",
        "        model.compile(optimizer = 'adam',loss = 'mae',\n",
        "        metrics=[maeOverFscore, custum_f1score, custom_mae]\n",
        "        )\n",
        "    ### 콜백 생성-------------------\n",
        "    callbacks_list = [\n",
        "        tf.keras.callbacks.ReduceLROnPlateau(\n",
        "            monitor='val_loss',\n",
        "            patience=3,\n",
        "            factor=0.9\n",
        "        ),\n",
        "\n",
        "        tf.keras.callbacks.ModelCheckpoint(\n",
        "            filepath = f'/content/drive/My Drive/2020 Kaggle Study/deagwon/resnet_augment8/restnet_model_{model_number}.h5',\n",
        "            monitor='val_maeOverFscore',\n",
        "            save_best_only=True\n",
        "        )\n",
        "    ]\n",
        "    # batch_dataset 만들기------------------\n",
        "    batch_size = 64\n",
        "    #train_batch\n",
        "    train_dataset = tf.data.Dataset.from_tensor_slices((train[train_idx, :, :, :10],\n",
        "                                                        train[train_idx, :, :, -1]))\n",
        "    train_dataset = get_training_dataset(train_dataset,\n",
        "                                         batch_size = batch_size)\n",
        "    #validation_batch\n",
        "    validation_dataset = tf.data.Dataset.from_tensor_slices((train[val_idx, :, :, :10],\n",
        "                                        train[val_idx, :, :, -1]))\n",
        "    \n",
        "    validation_dataset = get_validation_dataset(validation_dataset,\n",
        "                                                batch_size = batch_size)\n",
        "    ### model.fit-------------------\n",
        "    history = model.fit(train_dataset, epochs=50,\n",
        "            steps_per_epoch = len(train[train_idx, :, :, :10]) * 8 // batch_size,\n",
        "            validation_data=validation_dataset,\n",
        "            callbacks=callbacks_list\n",
        "            )\n",
        "    \n",
        "    with open(f'/content/drive/My Drive/2020 Kaggle Study/deagwon/resnet_augment8/histtory_{model_number}', 'wb') as file_pi:\n",
        "            pickle.dump(history.history, file_pi)\n",
        "\n",
        "    model_number = model_number + 1\n",
        "    ### model append -------------------"
      ],
      "execution_count": 45,
      "outputs": [
        {
          "output_type": "stream",
          "text": [
            "Fold4\n",
            "INFO:tensorflow:Initializing the TPU system: grpc://10.54.26.42:8470\n"
          ],
          "name": "stdout"
        },
        {
          "output_type": "stream",
          "text": [
            "INFO:tensorflow:Initializing the TPU system: grpc://10.54.26.42:8470\n"
          ],
          "name": "stderr"
        },
        {
          "output_type": "stream",
          "text": [
            "INFO:tensorflow:Clearing out eager caches\n"
          ],
          "name": "stdout"
        },
        {
          "output_type": "stream",
          "text": [
            "INFO:tensorflow:Clearing out eager caches\n"
          ],
          "name": "stderr"
        },
        {
          "output_type": "stream",
          "text": [
            "INFO:tensorflow:Finished initializing TPU system.\n"
          ],
          "name": "stdout"
        },
        {
          "output_type": "stream",
          "text": [
            "INFO:tensorflow:Finished initializing TPU system.\n"
          ],
          "name": "stderr"
        },
        {
          "output_type": "stream",
          "text": [
            "INFO:tensorflow:Found TPU system:\n"
          ],
          "name": "stdout"
        },
        {
          "output_type": "stream",
          "text": [
            "INFO:tensorflow:Found TPU system:\n"
          ],
          "name": "stderr"
        },
        {
          "output_type": "stream",
          "text": [
            "INFO:tensorflow:*** Num TPU Cores: 8\n"
          ],
          "name": "stdout"
        },
        {
          "output_type": "stream",
          "text": [
            "INFO:tensorflow:*** Num TPU Cores: 8\n"
          ],
          "name": "stderr"
        },
        {
          "output_type": "stream",
          "text": [
            "INFO:tensorflow:*** Num TPU Workers: 1\n"
          ],
          "name": "stdout"
        },
        {
          "output_type": "stream",
          "text": [
            "INFO:tensorflow:*** Num TPU Workers: 1\n"
          ],
          "name": "stderr"
        },
        {
          "output_type": "stream",
          "text": [
            "INFO:tensorflow:*** Num TPU Cores Per Worker: 8\n"
          ],
          "name": "stdout"
        },
        {
          "output_type": "stream",
          "text": [
            "INFO:tensorflow:*** Num TPU Cores Per Worker: 8\n"
          ],
          "name": "stderr"
        },
        {
          "output_type": "stream",
          "text": [
            "INFO:tensorflow:*** Available Device: _DeviceAttributes(/job:localhost/replica:0/task:0/device:CPU:0, CPU, 0, 0)\n"
          ],
          "name": "stdout"
        },
        {
          "output_type": "stream",
          "text": [
            "INFO:tensorflow:*** Available Device: _DeviceAttributes(/job:localhost/replica:0/task:0/device:CPU:0, CPU, 0, 0)\n"
          ],
          "name": "stderr"
        },
        {
          "output_type": "stream",
          "text": [
            "INFO:tensorflow:*** Available Device: _DeviceAttributes(/job:localhost/replica:0/task:0/device:XLA_CPU:0, XLA_CPU, 0, 0)\n"
          ],
          "name": "stdout"
        },
        {
          "output_type": "stream",
          "text": [
            "INFO:tensorflow:*** Available Device: _DeviceAttributes(/job:localhost/replica:0/task:0/device:XLA_CPU:0, XLA_CPU, 0, 0)\n"
          ],
          "name": "stderr"
        },
        {
          "output_type": "stream",
          "text": [
            "INFO:tensorflow:*** Available Device: _DeviceAttributes(/job:worker/replica:0/task:0/device:CPU:0, CPU, 0, 0)\n"
          ],
          "name": "stdout"
        },
        {
          "output_type": "stream",
          "text": [
            "INFO:tensorflow:*** Available Device: _DeviceAttributes(/job:worker/replica:0/task:0/device:CPU:0, CPU, 0, 0)\n"
          ],
          "name": "stderr"
        },
        {
          "output_type": "stream",
          "text": [
            "INFO:tensorflow:*** Available Device: _DeviceAttributes(/job:worker/replica:0/task:0/device:TPU:0, TPU, 0, 0)\n"
          ],
          "name": "stdout"
        },
        {
          "output_type": "stream",
          "text": [
            "INFO:tensorflow:*** Available Device: _DeviceAttributes(/job:worker/replica:0/task:0/device:TPU:0, TPU, 0, 0)\n"
          ],
          "name": "stderr"
        },
        {
          "output_type": "stream",
          "text": [
            "INFO:tensorflow:*** Available Device: _DeviceAttributes(/job:worker/replica:0/task:0/device:TPU:1, TPU, 0, 0)\n"
          ],
          "name": "stdout"
        },
        {
          "output_type": "stream",
          "text": [
            "INFO:tensorflow:*** Available Device: _DeviceAttributes(/job:worker/replica:0/task:0/device:TPU:1, TPU, 0, 0)\n"
          ],
          "name": "stderr"
        },
        {
          "output_type": "stream",
          "text": [
            "INFO:tensorflow:*** Available Device: _DeviceAttributes(/job:worker/replica:0/task:0/device:TPU:2, TPU, 0, 0)\n"
          ],
          "name": "stdout"
        },
        {
          "output_type": "stream",
          "text": [
            "INFO:tensorflow:*** Available Device: _DeviceAttributes(/job:worker/replica:0/task:0/device:TPU:2, TPU, 0, 0)\n"
          ],
          "name": "stderr"
        },
        {
          "output_type": "stream",
          "text": [
            "INFO:tensorflow:*** Available Device: _DeviceAttributes(/job:worker/replica:0/task:0/device:TPU:3, TPU, 0, 0)\n"
          ],
          "name": "stdout"
        },
        {
          "output_type": "stream",
          "text": [
            "INFO:tensorflow:*** Available Device: _DeviceAttributes(/job:worker/replica:0/task:0/device:TPU:3, TPU, 0, 0)\n"
          ],
          "name": "stderr"
        },
        {
          "output_type": "stream",
          "text": [
            "INFO:tensorflow:*** Available Device: _DeviceAttributes(/job:worker/replica:0/task:0/device:TPU:4, TPU, 0, 0)\n"
          ],
          "name": "stdout"
        },
        {
          "output_type": "stream",
          "text": [
            "INFO:tensorflow:*** Available Device: _DeviceAttributes(/job:worker/replica:0/task:0/device:TPU:4, TPU, 0, 0)\n"
          ],
          "name": "stderr"
        },
        {
          "output_type": "stream",
          "text": [
            "INFO:tensorflow:*** Available Device: _DeviceAttributes(/job:worker/replica:0/task:0/device:TPU:5, TPU, 0, 0)\n"
          ],
          "name": "stdout"
        },
        {
          "output_type": "stream",
          "text": [
            "INFO:tensorflow:*** Available Device: _DeviceAttributes(/job:worker/replica:0/task:0/device:TPU:5, TPU, 0, 0)\n"
          ],
          "name": "stderr"
        },
        {
          "output_type": "stream",
          "text": [
            "INFO:tensorflow:*** Available Device: _DeviceAttributes(/job:worker/replica:0/task:0/device:TPU:6, TPU, 0, 0)\n"
          ],
          "name": "stdout"
        },
        {
          "output_type": "stream",
          "text": [
            "INFO:tensorflow:*** Available Device: _DeviceAttributes(/job:worker/replica:0/task:0/device:TPU:6, TPU, 0, 0)\n"
          ],
          "name": "stderr"
        },
        {
          "output_type": "stream",
          "text": [
            "INFO:tensorflow:*** Available Device: _DeviceAttributes(/job:worker/replica:0/task:0/device:TPU:7, TPU, 0, 0)\n"
          ],
          "name": "stdout"
        },
        {
          "output_type": "stream",
          "text": [
            "INFO:tensorflow:*** Available Device: _DeviceAttributes(/job:worker/replica:0/task:0/device:TPU:7, TPU, 0, 0)\n"
          ],
          "name": "stderr"
        },
        {
          "output_type": "stream",
          "text": [
            "INFO:tensorflow:*** Available Device: _DeviceAttributes(/job:worker/replica:0/task:0/device:TPU_SYSTEM:0, TPU_SYSTEM, 0, 0)\n"
          ],
          "name": "stdout"
        },
        {
          "output_type": "stream",
          "text": [
            "INFO:tensorflow:*** Available Device: _DeviceAttributes(/job:worker/replica:0/task:0/device:TPU_SYSTEM:0, TPU_SYSTEM, 0, 0)\n"
          ],
          "name": "stderr"
        },
        {
          "output_type": "stream",
          "text": [
            "INFO:tensorflow:*** Available Device: _DeviceAttributes(/job:worker/replica:0/task:0/device:XLA_CPU:0, XLA_CPU, 0, 0)\n"
          ],
          "name": "stdout"
        },
        {
          "output_type": "stream",
          "text": [
            "INFO:tensorflow:*** Available Device: _DeviceAttributes(/job:worker/replica:0/task:0/device:XLA_CPU:0, XLA_CPU, 0, 0)\n"
          ],
          "name": "stderr"
        },
        {
          "output_type": "stream",
          "text": [
            "Epoch 1/50\n",
            "3066/3066 [==============================] - 131s 43ms/step - maeOverFscore: 2.0687 - custom_mae: 1.4345 - loss: 0.2398 - custum_f1score: 0.6978 - val_maeOverFscore: 2.0496 - val_custom_mae: 1.4288 - val_loss: 0.2411 - val_custum_f1score: 0.7059 - lr: 0.0010\n",
            "Epoch 2/50\n",
            "3066/3066 [==============================] - 124s 41ms/step - maeOverFscore: 1.8504 - custom_mae: 1.3591 - loss: 0.2257 - custum_f1score: 0.7325 - val_maeOverFscore: 1.8930 - val_custom_mae: 1.3927 - val_loss: 0.2355 - val_custum_f1score: 0.7366 - lr: 0.0010\n",
            "Epoch 3/50\n",
            "3066/3066 [==============================] - 124s 40ms/step - maeOverFscore: 1.7857 - custom_mae: 1.3350 - loss: 0.2215 - custum_f1score: 0.7454 - val_maeOverFscore: 1.8912 - val_custom_mae: 1.3771 - val_loss: 0.2371 - val_custum_f1score: 0.7268 - lr: 0.0010\n",
            "Epoch 4/50\n",
            "3066/3066 [==============================] - 123s 40ms/step - maeOverFscore: 1.7388 - custom_mae: 1.3154 - loss: 0.2184 - custum_f1score: 0.7538 - val_maeOverFscore: 1.8147 - val_custom_mae: 1.3578 - val_loss: 0.2299 - val_custum_f1score: 0.7494 - lr: 0.0010\n",
            "Epoch 5/50\n",
            "3066/3066 [==============================] - 123s 40ms/step - maeOverFscore: 1.7126 - custom_mae: 1.3051 - loss: 0.2166 - custum_f1score: 0.7590 - val_maeOverFscore: 1.7785 - val_custom_mae: 1.3321 - val_loss: 0.2365 - val_custum_f1score: 0.7466 - lr: 0.0010\n",
            "Epoch 6/50\n",
            "3066/3066 [==============================] - 125s 41ms/step - maeOverFscore: 1.6909 - custom_mae: 1.2959 - loss: 0.2152 - custum_f1score: 0.7636 - val_maeOverFscore: 1.7474 - val_custom_mae: 1.3320 - val_loss: 0.2287 - val_custum_f1score: 0.7598 - lr: 0.0010\n",
            "Epoch 7/50\n",
            "3066/3066 [==============================] - 124s 40ms/step - maeOverFscore: 1.6811 - custom_mae: 1.2918 - loss: 0.2143 - custum_f1score: 0.7656 - val_maeOverFscore: 1.8238 - val_custom_mae: 1.3574 - val_loss: 0.2283 - val_custum_f1score: 0.7463 - lr: 0.0010\n",
            "Epoch 8/50\n",
            "3066/3066 [==============================] - 125s 41ms/step - maeOverFscore: 1.6662 - custom_mae: 1.2851 - loss: 0.2134 - custum_f1score: 0.7685 - val_maeOverFscore: 1.7558 - val_custom_mae: 1.3413 - val_loss: 0.2276 - val_custum_f1score: 0.7626 - lr: 0.0010\n",
            "Epoch 9/50\n",
            "3066/3066 [==============================] - 123s 40ms/step - maeOverFscore: 1.6581 - custom_mae: 1.2819 - loss: 0.2125 - custum_f1score: 0.7702 - val_maeOverFscore: 1.7573 - val_custom_mae: 1.3455 - val_loss: 0.2338 - val_custum_f1score: 0.7626 - lr: 0.0010\n",
            "Epoch 10/50\n",
            "3066/3066 [==============================] - 124s 40ms/step - maeOverFscore: 1.6510 - custom_mae: 1.2779 - loss: 0.2121 - custum_f1score: 0.7713 - val_maeOverFscore: 1.6691 - val_custom_mae: 1.3083 - val_loss: 0.2243 - val_custum_f1score: 0.7796 - lr: 0.0010\n",
            "Epoch 11/50\n",
            "3066/3066 [==============================] - 123s 40ms/step - maeOverFscore: 1.6460 - custom_mae: 1.2760 - loss: 0.2116 - custum_f1score: 0.7727 - val_maeOverFscore: 1.6851 - val_custom_mae: 1.3021 - val_loss: 0.2307 - val_custum_f1score: 0.7697 - lr: 0.0010\n",
            "Epoch 12/50\n",
            "3066/3066 [==============================] - 125s 41ms/step - maeOverFscore: 1.6368 - custom_mae: 1.2715 - loss: 0.2108 - custum_f1score: 0.7741 - val_maeOverFscore: 1.6614 - val_custom_mae: 1.3006 - val_loss: 0.2279 - val_custum_f1score: 0.7788 - lr: 0.0010\n",
            "Epoch 13/50\n",
            "3066/3066 [==============================] - 124s 40ms/step - maeOverFscore: 1.6339 - custom_mae: 1.2711 - loss: 0.2106 - custum_f1score: 0.7753 - val_maeOverFscore: 1.6764 - val_custom_mae: 1.3128 - val_loss: 0.2249 - val_custum_f1score: 0.7806 - lr: 0.0010\n",
            "Epoch 14/50\n",
            "3066/3066 [==============================] - 124s 40ms/step - maeOverFscore: 1.6234 - custom_mae: 1.2647 - loss: 0.2097 - custum_f1score: 0.7765 - val_maeOverFscore: 1.7057 - val_custom_mae: 1.3357 - val_loss: 0.2283 - val_custum_f1score: 0.7789 - lr: 9.0000e-04\n",
            "Epoch 15/50\n",
            "3066/3066 [==============================] - 124s 40ms/step - maeOverFscore: 1.6191 - custom_mae: 1.2635 - loss: 0.2093 - custum_f1score: 0.7776 - val_maeOverFscore: 1.6973 - val_custom_mae: 1.3194 - val_loss: 0.2321 - val_custum_f1score: 0.7731 - lr: 9.0000e-04\n",
            "Epoch 16/50\n",
            "3066/3066 [==============================] - 124s 40ms/step - maeOverFscore: 1.6148 - custom_mae: 1.2612 - loss: 0.2092 - custum_f1score: 0.7783 - val_maeOverFscore: 1.6679 - val_custom_mae: 1.3048 - val_loss: 0.2273 - val_custum_f1score: 0.7779 - lr: 9.0000e-04\n",
            "Epoch 17/50\n",
            "3066/3066 [==============================] - 124s 40ms/step - maeOverFscore: 1.6091 - custom_mae: 1.2584 - loss: 0.2087 - custum_f1score: 0.7793 - val_maeOverFscore: 1.6601 - val_custom_mae: 1.3010 - val_loss: 0.2256 - val_custum_f1score: 0.7793 - lr: 8.1000e-04\n",
            "Epoch 18/50\n",
            "3066/3066 [==============================] - 124s 40ms/step - maeOverFscore: 1.6052 - custom_mae: 1.2562 - loss: 0.2084 - custum_f1score: 0.7797 - val_maeOverFscore: 1.7022 - val_custom_mae: 1.3108 - val_loss: 0.2234 - val_custum_f1score: 0.7687 - lr: 8.1000e-04\n",
            "Epoch 19/50\n",
            "3066/3066 [==============================] - 123s 40ms/step - maeOverFscore: 1.6013 - custom_mae: 1.2538 - loss: 0.2079 - custum_f1score: 0.7803 - val_maeOverFscore: 1.6611 - val_custom_mae: 1.3022 - val_loss: 0.2249 - val_custum_f1score: 0.7799 - lr: 8.1000e-04\n",
            "Epoch 20/50\n",
            "3066/3066 [==============================] - 122s 40ms/step - maeOverFscore: 1.6018 - custom_mae: 1.2541 - loss: 0.2079 - custum_f1score: 0.7803 - val_maeOverFscore: 1.6938 - val_custom_mae: 1.3079 - val_loss: 0.2292 - val_custum_f1score: 0.7686 - lr: 8.1000e-04\n",
            "Epoch 21/50\n",
            "3066/3066 [==============================] - 126s 41ms/step - maeOverFscore: 1.5985 - custom_mae: 1.2532 - loss: 0.2077 - custum_f1score: 0.7814 - val_maeOverFscore: 1.6552 - val_custom_mae: 1.3005 - val_loss: 0.2278 - val_custum_f1score: 0.7810 - lr: 8.1000e-04\n",
            "Epoch 22/50\n",
            "3066/3066 [==============================] - 124s 40ms/step - maeOverFscore: 1.5921 - custom_mae: 1.2493 - loss: 0.2070 - custum_f1score: 0.7819 - val_maeOverFscore: 1.6616 - val_custom_mae: 1.3030 - val_loss: 0.2249 - val_custum_f1score: 0.7802 - lr: 7.2900e-04\n",
            "Epoch 23/50\n",
            "3066/3066 [==============================] - 123s 40ms/step - maeOverFscore: 1.5945 - custom_mae: 1.2508 - loss: 0.2071 - custum_f1score: 0.7820 - val_maeOverFscore: 1.6556 - val_custom_mae: 1.3025 - val_loss: 0.2259 - val_custum_f1score: 0.7834 - lr: 7.2900e-04\n",
            "Epoch 24/50\n",
            "3066/3066 [==============================] - 125s 41ms/step - maeOverFscore: 1.5926 - custom_mae: 1.2499 - loss: 0.2069 - custum_f1score: 0.7824 - val_maeOverFscore: 1.6634 - val_custom_mae: 1.3061 - val_loss: 0.2297 - val_custum_f1score: 0.7810 - lr: 7.2900e-04\n",
            "Epoch 25/50\n",
            "3066/3066 [==============================] - 124s 40ms/step - maeOverFscore: 1.5839 - custom_mae: 1.2451 - loss: 0.2064 - custum_f1score: 0.7835 - val_maeOverFscore: 1.6722 - val_custom_mae: 1.2983 - val_loss: 0.2277 - val_custum_f1score: 0.7724 - lr: 6.5610e-04\n",
            "Epoch 26/50\n",
            "3066/3066 [==============================] - 126s 41ms/step - maeOverFscore: 1.5856 - custom_mae: 1.2463 - loss: 0.2062 - custum_f1score: 0.7836 - val_maeOverFscore: 1.6373 - val_custom_mae: 1.2948 - val_loss: 0.2275 - val_custum_f1score: 0.7869 - lr: 6.5610e-04\n",
            "Epoch 27/50\n",
            "3066/3066 [==============================] - 124s 40ms/step - maeOverFscore: 1.5831 - custom_mae: 1.2442 - loss: 0.2062 - custum_f1score: 0.7834 - val_maeOverFscore: 1.6542 - val_custom_mae: 1.3047 - val_loss: 0.2272 - val_custum_f1score: 0.7842 - lr: 6.5610e-04\n",
            "Epoch 28/50\n",
            "3066/3066 [==============================] - 125s 41ms/step - maeOverFscore: 1.5802 - custom_mae: 1.2428 - loss: 0.2058 - custum_f1score: 0.7840 - val_maeOverFscore: 1.6650 - val_custom_mae: 1.2987 - val_loss: 0.2302 - val_custum_f1score: 0.7759 - lr: 5.9049e-04\n",
            "Epoch 29/50\n",
            "3066/3066 [==============================] - 123s 40ms/step - maeOverFscore: 1.5763 - custom_mae: 1.2412 - loss: 0.2056 - custum_f1score: 0.7848 - val_maeOverFscore: 1.6519 - val_custom_mae: 1.2994 - val_loss: 0.2296 - val_custum_f1score: 0.7823 - lr: 5.9049e-04\n",
            "Epoch 30/50\n",
            "3066/3066 [==============================] - 124s 40ms/step - maeOverFscore: 1.5743 - custom_mae: 1.2396 - loss: 0.2054 - custum_f1score: 0.7848 - val_maeOverFscore: 1.6430 - val_custom_mae: 1.2975 - val_loss: 0.2340 - val_custum_f1score: 0.7855 - lr: 5.9049e-04\n",
            "Epoch 31/50\n",
            "3066/3066 [==============================] - 125s 41ms/step - maeOverFscore: 1.5733 - custom_mae: 1.2391 - loss: 0.2052 - custum_f1score: 0.7851 - val_maeOverFscore: 1.6681 - val_custom_mae: 1.3039 - val_loss: 0.2282 - val_custum_f1score: 0.7766 - lr: 5.3144e-04\n",
            "Epoch 32/50\n",
            "3066/3066 [==============================] - 124s 40ms/step - maeOverFscore: 1.5705 - custom_mae: 1.2380 - loss: 0.2050 - custum_f1score: 0.7856 - val_maeOverFscore: 1.6700 - val_custom_mae: 1.2927 - val_loss: 0.2307 - val_custum_f1score: 0.7706 - lr: 5.3144e-04\n",
            "Epoch 33/50\n",
            "3066/3066 [==============================] - 126s 41ms/step - maeOverFscore: 1.5690 - custom_mae: 1.2366 - loss: 0.2050 - custum_f1score: 0.7855 - val_maeOverFscore: 1.6663 - val_custom_mae: 1.3013 - val_loss: 0.2301 - val_custum_f1score: 0.7763 - lr: 5.3144e-04\n",
            "Epoch 34/50\n",
            "3066/3066 [==============================] - 124s 40ms/step - maeOverFscore: 1.5647 - custom_mae: 1.2346 - loss: 0.2048 - custum_f1score: 0.7863 - val_maeOverFscore: 1.6438 - val_custom_mae: 1.3015 - val_loss: 0.2245 - val_custum_f1score: 0.7878 - lr: 4.7830e-04\n",
            "Epoch 35/50\n",
            "3066/3066 [==============================] - 125s 41ms/step - maeOverFscore: 1.5685 - custom_mae: 1.2374 - loss: 0.2045 - custum_f1score: 0.7865 - val_maeOverFscore: 1.6579 - val_custom_mae: 1.2989 - val_loss: 0.2287 - val_custum_f1score: 0.7790 - lr: 4.7830e-04\n",
            "Epoch 36/50\n",
            "3066/3066 [==============================] - 126s 41ms/step - maeOverFscore: 1.5638 - custom_mae: 1.2336 - loss: 0.2044 - custum_f1score: 0.7862 - val_maeOverFscore: 1.6336 - val_custom_mae: 1.2982 - val_loss: 0.2256 - val_custum_f1score: 0.7903 - lr: 4.7830e-04\n",
            "Epoch 37/50\n",
            "3066/3066 [==============================] - 125s 41ms/step - maeOverFscore: 1.5625 - custom_mae: 1.2329 - loss: 0.2043 - custum_f1score: 0.7865 - val_maeOverFscore: 1.6263 - val_custom_mae: 1.2880 - val_loss: 0.2240 - val_custum_f1score: 0.7880 - lr: 4.3047e-04\n",
            "Epoch 38/50\n",
            "3066/3066 [==============================] - 124s 41ms/step - maeOverFscore: 1.5611 - custom_mae: 1.2320 - loss: 0.2039 - custum_f1score: 0.7868 - val_maeOverFscore: 1.6593 - val_custom_mae: 1.2958 - val_loss: 0.2279 - val_custum_f1score: 0.7769 - lr: 4.3047e-04\n",
            "Epoch 39/50\n",
            "3066/3066 [==============================] - 124s 40ms/step - maeOverFscore: 1.5616 - custom_mae: 1.2324 - loss: 0.2041 - custum_f1score: 0.7868 - val_maeOverFscore: 1.7012 - val_custom_mae: 1.2968 - val_loss: 0.2336 - val_custum_f1score: 0.7601 - lr: 4.3047e-04\n",
            "Epoch 40/50\n",
            "3066/3066 [==============================] - 124s 40ms/step - maeOverFscore: 1.5569 - custom_mae: 1.2296 - loss: 0.2039 - custum_f1score: 0.7870 - val_maeOverFscore: 1.6343 - val_custom_mae: 1.2952 - val_loss: 0.2280 - val_custum_f1score: 0.7885 - lr: 3.8742e-04\n",
            "Epoch 41/50\n",
            "3066/3066 [==============================] - 125s 41ms/step - maeOverFscore: 1.5580 - custom_mae: 1.2304 - loss: 0.2038 - custum_f1score: 0.7872 - val_maeOverFscore: 1.6594 - val_custom_mae: 1.2938 - val_loss: 0.2305 - val_custum_f1score: 0.7753 - lr: 3.8742e-04\n",
            "Epoch 42/50\n",
            "3066/3066 [==============================] - 124s 40ms/step - maeOverFscore: 1.5583 - custom_mae: 1.2308 - loss: 0.2037 - custum_f1score: 0.7874 - val_maeOverFscore: 1.6315 - val_custom_mae: 1.2772 - val_loss: 0.2289 - val_custum_f1score: 0.7789 - lr: 3.8742e-04\n",
            "Epoch 43/50\n",
            "3066/3066 [==============================] - 125s 41ms/step - maeOverFscore: 1.5543 - custom_mae: 1.2283 - loss: 0.2035 - custum_f1score: 0.7876 - val_maeOverFscore: 1.6569 - val_custom_mae: 1.2933 - val_loss: 0.2320 - val_custum_f1score: 0.7765 - lr: 3.4868e-04\n",
            "Epoch 44/50\n",
            "3066/3066 [==============================] - 125s 41ms/step - maeOverFscore: 1.5530 - custom_mae: 1.2271 - loss: 0.2035 - custum_f1score: 0.7876 - val_maeOverFscore: 1.6451 - val_custom_mae: 1.2908 - val_loss: 0.2290 - val_custum_f1score: 0.7806 - lr: 3.4868e-04\n",
            "Epoch 45/50\n",
            "3066/3066 [==============================] - 124s 40ms/step - maeOverFscore: 1.5539 - custom_mae: 1.2280 - loss: 0.2032 - custum_f1score: 0.7878 - val_maeOverFscore: 1.6754 - val_custom_mae: 1.3015 - val_loss: 0.2340 - val_custum_f1score: 0.7730 - lr: 3.4868e-04\n",
            "Epoch 46/50\n",
            "3066/3066 [==============================] - 125s 41ms/step - maeOverFscore: 1.5508 - custom_mae: 1.2258 - loss: 0.2030 - custum_f1score: 0.7880 - val_maeOverFscore: 1.6813 - val_custom_mae: 1.2987 - val_loss: 0.2362 - val_custum_f1score: 0.7694 - lr: 3.1381e-04\n",
            "Epoch 47/50\n",
            "3066/3066 [==============================] - 125s 41ms/step - maeOverFscore: 1.5473 - custom_mae: 1.2236 - loss: 0.2029 - custum_f1score: 0.7881 - val_maeOverFscore: 1.6682 - val_custom_mae: 1.3061 - val_loss: 0.2291 - val_custum_f1score: 0.7787 - lr: 3.1381e-04\n",
            "Epoch 48/50\n",
            "3066/3066 [==============================] - 125s 41ms/step - maeOverFscore: 1.5511 - custom_mae: 1.2264 - loss: 0.2030 - custum_f1score: 0.7881 - val_maeOverFscore: 1.6635 - val_custom_mae: 1.2958 - val_loss: 0.2300 - val_custum_f1score: 0.7750 - lr: 3.1381e-04\n",
            "Epoch 49/50\n",
            "3066/3066 [==============================] - 125s 41ms/step - maeOverFscore: 1.5495 - custom_mae: 1.2256 - loss: 0.2027 - custum_f1score: 0.7886 - val_maeOverFscore: 1.6460 - val_custom_mae: 1.2902 - val_loss: 0.2287 - val_custum_f1score: 0.7795 - lr: 2.8243e-04\n",
            "Epoch 50/50\n",
            "3066/3066 [==============================] - 124s 40ms/step - maeOverFscore: 1.5495 - custom_mae: 1.2252 - loss: 0.2028 - custum_f1score: 0.7882 - val_maeOverFscore: 1.6331 - val_custom_mae: 1.2876 - val_loss: 0.2270 - val_custum_f1score: 0.7845 - lr: 2.8243e-04\n",
            "Fold5\n",
            "WARNING:tensorflow:TPU system grpc://10.54.26.42:8470 has already been initialized. Reinitializing the TPU can cause previously created variables on TPU to be lost.\n"
          ],
          "name": "stdout"
        },
        {
          "output_type": "stream",
          "text": [
            "WARNING:tensorflow:TPU system grpc://10.54.26.42:8470 has already been initialized. Reinitializing the TPU can cause previously created variables on TPU to be lost.\n"
          ],
          "name": "stderr"
        },
        {
          "output_type": "stream",
          "text": [
            "INFO:tensorflow:Initializing the TPU system: grpc://10.54.26.42:8470\n"
          ],
          "name": "stdout"
        },
        {
          "output_type": "stream",
          "text": [
            "INFO:tensorflow:Initializing the TPU system: grpc://10.54.26.42:8470\n"
          ],
          "name": "stderr"
        },
        {
          "output_type": "stream",
          "text": [
            "INFO:tensorflow:Clearing out eager caches\n"
          ],
          "name": "stdout"
        },
        {
          "output_type": "stream",
          "text": [
            "INFO:tensorflow:Clearing out eager caches\n"
          ],
          "name": "stderr"
        },
        {
          "output_type": "stream",
          "text": [
            "INFO:tensorflow:Finished initializing TPU system.\n"
          ],
          "name": "stdout"
        },
        {
          "output_type": "stream",
          "text": [
            "INFO:tensorflow:Finished initializing TPU system.\n"
          ],
          "name": "stderr"
        },
        {
          "output_type": "stream",
          "text": [
            "INFO:tensorflow:Found TPU system:\n"
          ],
          "name": "stdout"
        },
        {
          "output_type": "stream",
          "text": [
            "INFO:tensorflow:Found TPU system:\n"
          ],
          "name": "stderr"
        },
        {
          "output_type": "stream",
          "text": [
            "INFO:tensorflow:*** Num TPU Cores: 8\n"
          ],
          "name": "stdout"
        },
        {
          "output_type": "stream",
          "text": [
            "INFO:tensorflow:*** Num TPU Cores: 8\n"
          ],
          "name": "stderr"
        },
        {
          "output_type": "stream",
          "text": [
            "INFO:tensorflow:*** Num TPU Workers: 1\n"
          ],
          "name": "stdout"
        },
        {
          "output_type": "stream",
          "text": [
            "INFO:tensorflow:*** Num TPU Workers: 1\n"
          ],
          "name": "stderr"
        },
        {
          "output_type": "stream",
          "text": [
            "INFO:tensorflow:*** Num TPU Cores Per Worker: 8\n"
          ],
          "name": "stdout"
        },
        {
          "output_type": "stream",
          "text": [
            "INFO:tensorflow:*** Num TPU Cores Per Worker: 8\n"
          ],
          "name": "stderr"
        },
        {
          "output_type": "stream",
          "text": [
            "INFO:tensorflow:*** Available Device: _DeviceAttributes(/job:localhost/replica:0/task:0/device:CPU:0, CPU, 0, 0)\n"
          ],
          "name": "stdout"
        },
        {
          "output_type": "stream",
          "text": [
            "INFO:tensorflow:*** Available Device: _DeviceAttributes(/job:localhost/replica:0/task:0/device:CPU:0, CPU, 0, 0)\n"
          ],
          "name": "stderr"
        },
        {
          "output_type": "stream",
          "text": [
            "INFO:tensorflow:*** Available Device: _DeviceAttributes(/job:localhost/replica:0/task:0/device:XLA_CPU:0, XLA_CPU, 0, 0)\n"
          ],
          "name": "stdout"
        },
        {
          "output_type": "stream",
          "text": [
            "INFO:tensorflow:*** Available Device: _DeviceAttributes(/job:localhost/replica:0/task:0/device:XLA_CPU:0, XLA_CPU, 0, 0)\n"
          ],
          "name": "stderr"
        },
        {
          "output_type": "stream",
          "text": [
            "INFO:tensorflow:*** Available Device: _DeviceAttributes(/job:worker/replica:0/task:0/device:CPU:0, CPU, 0, 0)\n"
          ],
          "name": "stdout"
        },
        {
          "output_type": "stream",
          "text": [
            "INFO:tensorflow:*** Available Device: _DeviceAttributes(/job:worker/replica:0/task:0/device:CPU:0, CPU, 0, 0)\n"
          ],
          "name": "stderr"
        },
        {
          "output_type": "stream",
          "text": [
            "INFO:tensorflow:*** Available Device: _DeviceAttributes(/job:worker/replica:0/task:0/device:TPU:0, TPU, 0, 0)\n"
          ],
          "name": "stdout"
        },
        {
          "output_type": "stream",
          "text": [
            "INFO:tensorflow:*** Available Device: _DeviceAttributes(/job:worker/replica:0/task:0/device:TPU:0, TPU, 0, 0)\n"
          ],
          "name": "stderr"
        },
        {
          "output_type": "stream",
          "text": [
            "INFO:tensorflow:*** Available Device: _DeviceAttributes(/job:worker/replica:0/task:0/device:TPU:1, TPU, 0, 0)\n"
          ],
          "name": "stdout"
        },
        {
          "output_type": "stream",
          "text": [
            "INFO:tensorflow:*** Available Device: _DeviceAttributes(/job:worker/replica:0/task:0/device:TPU:1, TPU, 0, 0)\n"
          ],
          "name": "stderr"
        },
        {
          "output_type": "stream",
          "text": [
            "INFO:tensorflow:*** Available Device: _DeviceAttributes(/job:worker/replica:0/task:0/device:TPU:2, TPU, 0, 0)\n"
          ],
          "name": "stdout"
        },
        {
          "output_type": "stream",
          "text": [
            "INFO:tensorflow:*** Available Device: _DeviceAttributes(/job:worker/replica:0/task:0/device:TPU:2, TPU, 0, 0)\n"
          ],
          "name": "stderr"
        },
        {
          "output_type": "stream",
          "text": [
            "INFO:tensorflow:*** Available Device: _DeviceAttributes(/job:worker/replica:0/task:0/device:TPU:3, TPU, 0, 0)\n"
          ],
          "name": "stdout"
        },
        {
          "output_type": "stream",
          "text": [
            "INFO:tensorflow:*** Available Device: _DeviceAttributes(/job:worker/replica:0/task:0/device:TPU:3, TPU, 0, 0)\n"
          ],
          "name": "stderr"
        },
        {
          "output_type": "stream",
          "text": [
            "INFO:tensorflow:*** Available Device: _DeviceAttributes(/job:worker/replica:0/task:0/device:TPU:4, TPU, 0, 0)\n"
          ],
          "name": "stdout"
        },
        {
          "output_type": "stream",
          "text": [
            "INFO:tensorflow:*** Available Device: _DeviceAttributes(/job:worker/replica:0/task:0/device:TPU:4, TPU, 0, 0)\n"
          ],
          "name": "stderr"
        },
        {
          "output_type": "stream",
          "text": [
            "INFO:tensorflow:*** Available Device: _DeviceAttributes(/job:worker/replica:0/task:0/device:TPU:5, TPU, 0, 0)\n"
          ],
          "name": "stdout"
        },
        {
          "output_type": "stream",
          "text": [
            "INFO:tensorflow:*** Available Device: _DeviceAttributes(/job:worker/replica:0/task:0/device:TPU:5, TPU, 0, 0)\n"
          ],
          "name": "stderr"
        },
        {
          "output_type": "stream",
          "text": [
            "INFO:tensorflow:*** Available Device: _DeviceAttributes(/job:worker/replica:0/task:0/device:TPU:6, TPU, 0, 0)\n"
          ],
          "name": "stdout"
        },
        {
          "output_type": "stream",
          "text": [
            "INFO:tensorflow:*** Available Device: _DeviceAttributes(/job:worker/replica:0/task:0/device:TPU:6, TPU, 0, 0)\n"
          ],
          "name": "stderr"
        },
        {
          "output_type": "stream",
          "text": [
            "INFO:tensorflow:*** Available Device: _DeviceAttributes(/job:worker/replica:0/task:0/device:TPU:7, TPU, 0, 0)\n"
          ],
          "name": "stdout"
        },
        {
          "output_type": "stream",
          "text": [
            "INFO:tensorflow:*** Available Device: _DeviceAttributes(/job:worker/replica:0/task:0/device:TPU:7, TPU, 0, 0)\n"
          ],
          "name": "stderr"
        },
        {
          "output_type": "stream",
          "text": [
            "INFO:tensorflow:*** Available Device: _DeviceAttributes(/job:worker/replica:0/task:0/device:TPU_SYSTEM:0, TPU_SYSTEM, 0, 0)\n"
          ],
          "name": "stdout"
        },
        {
          "output_type": "stream",
          "text": [
            "INFO:tensorflow:*** Available Device: _DeviceAttributes(/job:worker/replica:0/task:0/device:TPU_SYSTEM:0, TPU_SYSTEM, 0, 0)\n"
          ],
          "name": "stderr"
        },
        {
          "output_type": "stream",
          "text": [
            "INFO:tensorflow:*** Available Device: _DeviceAttributes(/job:worker/replica:0/task:0/device:XLA_CPU:0, XLA_CPU, 0, 0)\n"
          ],
          "name": "stdout"
        },
        {
          "output_type": "stream",
          "text": [
            "INFO:tensorflow:*** Available Device: _DeviceAttributes(/job:worker/replica:0/task:0/device:XLA_CPU:0, XLA_CPU, 0, 0)\n"
          ],
          "name": "stderr"
        },
        {
          "output_type": "stream",
          "text": [
            "Epoch 1/50\n",
            "3066/3066 [==============================] - 133s 43ms/step - maeOverFscore: 2.1060 - custom_mae: 1.4472 - loss: 0.2458 - custum_f1score: 0.6947 - val_maeOverFscore: 1.8366 - val_custom_mae: 1.3760 - val_loss: 0.2299 - val_custum_f1score: 0.7461 - lr: 0.0010\n",
            "Epoch 2/50\n",
            "3066/3066 [==============================] - 124s 40ms/step - maeOverFscore: 1.8667 - custom_mae: 1.3681 - loss: 0.2285 - custum_f1score: 0.7318 - val_maeOverFscore: 1.9429 - val_custom_mae: 1.3817 - val_loss: 0.2242 - val_custum_f1score: 0.7102 - lr: 0.0010\n",
            "Epoch 3/50\n",
            "3066/3066 [==============================] - 124s 41ms/step - maeOverFscore: 1.7952 - custom_mae: 1.3411 - loss: 0.2241 - custum_f1score: 0.7448 - val_maeOverFscore: 1.9136 - val_custom_mae: 1.3946 - val_loss: 0.2281 - val_custum_f1score: 0.7265 - lr: 0.0010\n",
            "Epoch 4/50\n",
            "3066/3066 [==============================] - 126s 41ms/step - maeOverFscore: 1.7457 - custom_mae: 1.3213 - loss: 0.2211 - custum_f1score: 0.7543 - val_maeOverFscore: 1.7799 - val_custom_mae: 1.3458 - val_loss: 0.2218 - val_custum_f1score: 0.7527 - lr: 0.0010\n",
            "Epoch 5/50\n",
            "3066/3066 [==============================] - 125s 41ms/step - maeOverFscore: 1.7192 - custom_mae: 1.3102 - loss: 0.2192 - custum_f1score: 0.7597 - val_maeOverFscore: 1.7627 - val_custom_mae: 1.3319 - val_loss: 0.2239 - val_custum_f1score: 0.7521 - lr: 0.0010\n",
            "Epoch 6/50\n",
            "3066/3066 [==============================] - 126s 41ms/step - maeOverFscore: 1.6959 - custom_mae: 1.3000 - loss: 0.2176 - custum_f1score: 0.7640 - val_maeOverFscore: 1.7579 - val_custom_mae: 1.3427 - val_loss: 0.2198 - val_custum_f1score: 0.7598 - lr: 0.0010\n",
            "Epoch 7/50\n",
            "3066/3066 [==============================] - 126s 41ms/step - maeOverFscore: 1.6841 - custom_mae: 1.2960 - loss: 0.2169 - custum_f1score: 0.7670 - val_maeOverFscore: 1.7925 - val_custom_mae: 1.3540 - val_loss: 0.2220 - val_custum_f1score: 0.7521 - lr: 0.0010\n",
            "Epoch 8/50\n",
            "3066/3066 [==============================] - 126s 41ms/step - maeOverFscore: 1.6730 - custom_mae: 1.2904 - loss: 0.2158 - custum_f1score: 0.7686 - val_maeOverFscore: 1.7303 - val_custom_mae: 1.3156 - val_loss: 0.2219 - val_custum_f1score: 0.7563 - lr: 0.0010\n",
            "Epoch 9/50\n",
            "3066/3066 [==============================] - 125s 41ms/step - maeOverFscore: 1.6596 - custom_mae: 1.2841 - loss: 0.2147 - custum_f1score: 0.7709 - val_maeOverFscore: 1.7499 - val_custom_mae: 1.3335 - val_loss: 0.2194 - val_custum_f1score: 0.7592 - lr: 0.0010\n",
            "Epoch 10/50\n",
            "3066/3066 [==============================] - 126s 41ms/step - maeOverFscore: 1.6545 - custom_mae: 1.2823 - loss: 0.2147 - custum_f1score: 0.7725 - val_maeOverFscore: 1.7012 - val_custom_mae: 1.3230 - val_loss: 0.2200 - val_custum_f1score: 0.7724 - lr: 0.0010\n",
            "Epoch 11/50\n",
            "3066/3066 [==============================] - 125s 41ms/step - maeOverFscore: 1.6450 - custom_mae: 1.2779 - loss: 0.2136 - custum_f1score: 0.7742 - val_maeOverFscore: 1.6893 - val_custom_mae: 1.3109 - val_loss: 0.2201 - val_custum_f1score: 0.7711 - lr: 0.0010\n",
            "Epoch 12/50\n",
            "3066/3066 [==============================] - 126s 41ms/step - maeOverFscore: 1.6379 - custom_mae: 1.2745 - loss: 0.2131 - custum_f1score: 0.7754 - val_maeOverFscore: 1.6680 - val_custom_mae: 1.2996 - val_loss: 0.2162 - val_custum_f1score: 0.7740 - lr: 0.0010\n",
            "Epoch 13/50\n",
            "3066/3066 [==============================] - 125s 41ms/step - maeOverFscore: 1.6322 - custom_mae: 1.2713 - loss: 0.2125 - custum_f1score: 0.7763 - val_maeOverFscore: 1.7463 - val_custom_mae: 1.3388 - val_loss: 0.2216 - val_custum_f1score: 0.7622 - lr: 0.0010\n",
            "Epoch 14/50\n",
            "3066/3066 [==============================] - 125s 41ms/step - maeOverFscore: 1.6258 - custom_mae: 1.2677 - loss: 0.2123 - custum_f1score: 0.7771 - val_maeOverFscore: 1.6556 - val_custom_mae: 1.2909 - val_loss: 0.2160 - val_custum_f1score: 0.7746 - lr: 0.0010\n",
            "Epoch 15/50\n",
            "3066/3066 [==============================] - 127s 41ms/step - maeOverFscore: 1.6190 - custom_mae: 1.2649 - loss: 0.2116 - custum_f1score: 0.7784 - val_maeOverFscore: 1.6734 - val_custom_mae: 1.3086 - val_loss: 0.2176 - val_custum_f1score: 0.7765 - lr: 0.0010\n",
            "Epoch 16/50\n",
            "3066/3066 [==============================] - 125s 41ms/step - maeOverFscore: 1.6170 - custom_mae: 1.2636 - loss: 0.2114 - custum_f1score: 0.7786 - val_maeOverFscore: 1.6724 - val_custom_mae: 1.3089 - val_loss: 0.2225 - val_custum_f1score: 0.7764 - lr: 0.0010\n",
            "Epoch 17/50\n",
            "3066/3066 [==============================] - 124s 41ms/step - maeOverFscore: 1.6163 - custom_mae: 1.2644 - loss: 0.2111 - custum_f1score: 0.7797 - val_maeOverFscore: 1.6750 - val_custom_mae: 1.3061 - val_loss: 0.2177 - val_custum_f1score: 0.7745 - lr: 0.0010\n",
            "Epoch 18/50\n",
            "3066/3066 [==============================] - 126s 41ms/step - maeOverFscore: 1.6098 - custom_mae: 1.2614 - loss: 0.2106 - custum_f1score: 0.7810 - val_maeOverFscore: 1.6566 - val_custom_mae: 1.2955 - val_loss: 0.2144 - val_custum_f1score: 0.7770 - lr: 9.0000e-04\n",
            "Epoch 19/50\n",
            "3066/3066 [==============================] - 125s 41ms/step - maeOverFscore: 1.6040 - custom_mae: 1.2569 - loss: 0.2104 - custum_f1score: 0.7807 - val_maeOverFscore: 1.6608 - val_custom_mae: 1.2917 - val_loss: 0.2132 - val_custum_f1score: 0.7735 - lr: 9.0000e-04\n",
            "Epoch 20/50\n",
            "3066/3066 [==============================] - 126s 41ms/step - maeOverFscore: 1.6003 - custom_mae: 1.2550 - loss: 0.2099 - custum_f1score: 0.7816 - val_maeOverFscore: 1.6723 - val_custom_mae: 1.2944 - val_loss: 0.2176 - val_custum_f1score: 0.7691 - lr: 9.0000e-04\n",
            "Epoch 21/50\n",
            "3066/3066 [==============================] - 126s 41ms/step - maeOverFscore: 1.5982 - custom_mae: 1.2536 - loss: 0.2097 - custum_f1score: 0.7817 - val_maeOverFscore: 1.6845 - val_custom_mae: 1.3110 - val_loss: 0.2225 - val_custum_f1score: 0.7730 - lr: 9.0000e-04\n",
            "Epoch 22/50\n",
            "3066/3066 [==============================] - 125s 41ms/step - maeOverFscore: 1.5951 - custom_mae: 1.2520 - loss: 0.2095 - custum_f1score: 0.7823 - val_maeOverFscore: 1.6923 - val_custom_mae: 1.3041 - val_loss: 0.2219 - val_custum_f1score: 0.7656 - lr: 9.0000e-04\n",
            "Epoch 23/50\n",
            "3066/3066 [==============================] - 125s 41ms/step - maeOverFscore: 1.5923 - custom_mae: 1.2512 - loss: 0.2091 - custum_f1score: 0.7833 - val_maeOverFscore: 1.7130 - val_custom_mae: 1.3156 - val_loss: 0.2247 - val_custum_f1score: 0.7642 - lr: 8.1000e-04\n",
            "Epoch 24/50\n",
            "3066/3066 [==============================] - 126s 41ms/step - maeOverFscore: 1.5879 - custom_mae: 1.2483 - loss: 0.2090 - custum_f1score: 0.7834 - val_maeOverFscore: 1.6603 - val_custom_mae: 1.2940 - val_loss: 0.2160 - val_custum_f1score: 0.7744 - lr: 8.1000e-04\n",
            "Epoch 25/50\n",
            "3066/3066 [==============================] - 126s 41ms/step - maeOverFscore: 1.5898 - custom_mae: 1.2497 - loss: 0.2089 - custum_f1score: 0.7836 - val_maeOverFscore: 1.6746 - val_custom_mae: 1.3030 - val_loss: 0.2168 - val_custum_f1score: 0.7730 - lr: 8.1000e-04\n",
            "Epoch 26/50\n",
            "3066/3066 [==============================] - 127s 41ms/step - maeOverFscore: 1.5851 - custom_mae: 1.2467 - loss: 0.2081 - custum_f1score: 0.7841 - val_maeOverFscore: 1.6405 - val_custom_mae: 1.2821 - val_loss: 0.2176 - val_custum_f1score: 0.7762 - lr: 7.2900e-04\n",
            "Epoch 27/50\n",
            "3066/3066 [==============================] - 127s 41ms/step - maeOverFscore: 1.5829 - custom_mae: 1.2458 - loss: 0.2081 - custum_f1score: 0.7846 - val_maeOverFscore: 1.6817 - val_custom_mae: 1.3150 - val_loss: 0.2195 - val_custum_f1score: 0.7766 - lr: 7.2900e-04\n",
            "Epoch 28/50\n",
            "3066/3066 [==============================] - 127s 41ms/step - maeOverFscore: 1.5809 - custom_mae: 1.2446 - loss: 0.2080 - custum_f1score: 0.7848 - val_maeOverFscore: 1.6326 - val_custom_mae: 1.2851 - val_loss: 0.2120 - val_custum_f1score: 0.7820 - lr: 7.2900e-04\n",
            "Epoch 29/50\n",
            "3066/3066 [==============================] - 125s 41ms/step - maeOverFscore: 1.5778 - custom_mae: 1.2427 - loss: 0.2077 - custum_f1score: 0.7851 - val_maeOverFscore: 1.6560 - val_custom_mae: 1.2938 - val_loss: 0.2165 - val_custum_f1score: 0.7761 - lr: 7.2900e-04\n",
            "Epoch 30/50\n",
            "3066/3066 [==============================] - 125s 41ms/step - maeOverFscore: 1.5777 - custom_mae: 1.2430 - loss: 0.2077 - custum_f1score: 0.7854 - val_maeOverFscore: 1.6586 - val_custom_mae: 1.2928 - val_loss: 0.2149 - val_custum_f1score: 0.7746 - lr: 7.2900e-04\n",
            "Epoch 31/50\n",
            "3066/3066 [==============================] - 124s 41ms/step - maeOverFscore: 1.5793 - custom_mae: 1.2441 - loss: 0.2075 - custum_f1score: 0.7854 - val_maeOverFscore: 1.6476 - val_custom_mae: 1.2914 - val_loss: 0.2162 - val_custum_f1score: 0.7787 - lr: 7.2900e-04\n",
            "Epoch 32/50\n",
            "3066/3066 [==============================] - 125s 41ms/step - maeOverFscore: 1.5718 - custom_mae: 1.2388 - loss: 0.2072 - custum_f1score: 0.7855 - val_maeOverFscore: 1.6540 - val_custom_mae: 1.2973 - val_loss: 0.2204 - val_custum_f1score: 0.7784 - lr: 6.5610e-04\n",
            "Epoch 33/50\n",
            "3066/3066 [==============================] - 124s 40ms/step - maeOverFscore: 1.5713 - custom_mae: 1.2389 - loss: 0.2071 - custum_f1score: 0.7860 - val_maeOverFscore: 1.6715 - val_custom_mae: 1.3166 - val_loss: 0.2202 - val_custum_f1score: 0.7820 - lr: 6.5610e-04\n",
            "Epoch 34/50\n",
            "3066/3066 [==============================] - 126s 41ms/step - maeOverFscore: 1.5698 - custom_mae: 1.2377 - loss: 0.2068 - custum_f1score: 0.7861 - val_maeOverFscore: 1.6283 - val_custom_mae: 1.2786 - val_loss: 0.2150 - val_custum_f1score: 0.7799 - lr: 6.5610e-04\n",
            "Epoch 35/50\n",
            "3066/3066 [==============================] - 125s 41ms/step - maeOverFscore: 1.5668 - custom_mae: 1.2368 - loss: 0.2065 - custum_f1score: 0.7868 - val_maeOverFscore: 1.6958 - val_custom_mae: 1.2882 - val_loss: 0.2246 - val_custum_f1score: 0.7571 - lr: 5.9049e-04\n",
            "Epoch 36/50\n",
            "3066/3066 [==============================] - 125s 41ms/step - maeOverFscore: 1.5648 - custom_mae: 1.2358 - loss: 0.2065 - custum_f1score: 0.7871 - val_maeOverFscore: 1.6552 - val_custom_mae: 1.2944 - val_loss: 0.2170 - val_custum_f1score: 0.7768 - lr: 5.9049e-04\n",
            "Epoch 37/50\n",
            "3066/3066 [==============================] - 126s 41ms/step - maeOverFscore: 1.5637 - custom_mae: 1.2344 - loss: 0.2061 - custum_f1score: 0.7869 - val_maeOverFscore: 1.6481 - val_custom_mae: 1.2963 - val_loss: 0.2182 - val_custum_f1score: 0.7809 - lr: 5.9049e-04\n",
            "Epoch 38/50\n",
            "3066/3066 [==============================] - 126s 41ms/step - maeOverFscore: 1.5621 - custom_mae: 1.2336 - loss: 0.2063 - custum_f1score: 0.7871 - val_maeOverFscore: 1.6665 - val_custom_mae: 1.2982 - val_loss: 0.2198 - val_custum_f1score: 0.7742 - lr: 5.3144e-04\n",
            "Epoch 39/50\n",
            "3066/3066 [==============================] - 127s 41ms/step - maeOverFscore: 1.5607 - custom_mae: 1.2329 - loss: 0.2058 - custum_f1score: 0.7874 - val_maeOverFscore: 1.6249 - val_custom_mae: 1.2796 - val_loss: 0.2131 - val_custum_f1score: 0.7824 - lr: 5.3144e-04\n",
            "Epoch 40/50\n",
            "3066/3066 [==============================] - 125s 41ms/step - maeOverFscore: 1.5593 - custom_mae: 1.2325 - loss: 0.2059 - custum_f1score: 0.7879 - val_maeOverFscore: 1.6868 - val_custom_mae: 1.3215 - val_loss: 0.2232 - val_custum_f1score: 0.7783 - lr: 5.3144e-04\n",
            "Epoch 41/50\n",
            "3066/3066 [==============================] - 126s 41ms/step - maeOverFscore: 1.5570 - custom_mae: 1.2307 - loss: 0.2056 - custum_f1score: 0.7879 - val_maeOverFscore: 1.6489 - val_custom_mae: 1.2953 - val_loss: 0.2171 - val_custum_f1score: 0.7801 - lr: 4.7830e-04\n",
            "Epoch 42/50\n",
            "3066/3066 [==============================] - 125s 41ms/step - maeOverFscore: 1.5578 - custom_mae: 1.2309 - loss: 0.2055 - custum_f1score: 0.7878 - val_maeOverFscore: 1.6864 - val_custom_mae: 1.3059 - val_loss: 0.2218 - val_custum_f1score: 0.7701 - lr: 4.7830e-04\n",
            "Epoch 43/50\n",
            "3066/3066 [==============================] - 125s 41ms/step - maeOverFscore: 1.5563 - custom_mae: 1.2303 - loss: 0.2055 - custum_f1score: 0.7882 - val_maeOverFscore: 1.6983 - val_custom_mae: 1.3203 - val_loss: 0.2270 - val_custum_f1score: 0.7722 - lr: 4.7830e-04\n",
            "Epoch 44/50\n",
            "3066/3066 [==============================] - 126s 41ms/step - maeOverFscore: 1.5532 - custom_mae: 1.2281 - loss: 0.2052 - custum_f1score: 0.7883 - val_maeOverFscore: 1.6506 - val_custom_mae: 1.2901 - val_loss: 0.2185 - val_custum_f1score: 0.7764 - lr: 4.3047e-04\n",
            "Epoch 45/50\n",
            "3066/3066 [==============================] - 126s 41ms/step - maeOverFscore: 1.5541 - custom_mae: 1.2291 - loss: 0.2051 - custum_f1score: 0.7887 - val_maeOverFscore: 1.6610 - val_custom_mae: 1.3059 - val_loss: 0.2199 - val_custum_f1score: 0.7807 - lr: 4.3047e-04\n",
            "Epoch 46/50\n",
            "3066/3066 [==============================] - 127s 41ms/step - maeOverFscore: 1.5536 - custom_mae: 1.2288 - loss: 0.2052 - custum_f1score: 0.7886 - val_maeOverFscore: 1.6392 - val_custom_mae: 1.2809 - val_loss: 0.2156 - val_custum_f1score: 0.7763 - lr: 4.3047e-04\n",
            "Epoch 47/50\n",
            "3066/3066 [==============================] - 126s 41ms/step - maeOverFscore: 1.5499 - custom_mae: 1.2266 - loss: 0.2049 - custum_f1score: 0.7888 - val_maeOverFscore: 1.6574 - val_custom_mae: 1.3030 - val_loss: 0.2174 - val_custum_f1score: 0.7809 - lr: 3.8742e-04\n",
            "Epoch 48/50\n",
            "3066/3066 [==============================] - 125s 41ms/step - maeOverFscore: 1.5502 - custom_mae: 1.2266 - loss: 0.2049 - custum_f1score: 0.7889 - val_maeOverFscore: 1.6552 - val_custom_mae: 1.3005 - val_loss: 0.2189 - val_custum_f1score: 0.7801 - lr: 3.8742e-04\n",
            "Epoch 49/50\n",
            "3066/3066 [==============================] - 125s 41ms/step - maeOverFscore: 1.5522 - custom_mae: 1.2277 - loss: 0.2046 - custum_f1score: 0.7888 - val_maeOverFscore: 1.6463 - val_custom_mae: 1.2975 - val_loss: 0.2158 - val_custum_f1score: 0.7827 - lr: 3.8742e-04\n",
            "Epoch 50/50\n",
            "3066/3066 [==============================] - 126s 41ms/step - maeOverFscore: 1.5478 - custom_mae: 1.2253 - loss: 0.2045 - custum_f1score: 0.7893 - val_maeOverFscore: 1.6325 - val_custom_mae: 1.2881 - val_loss: 0.2167 - val_custum_f1score: 0.7832 - lr: 3.4868e-04\n"
          ],
          "name": "stdout"
        }
      ]
    },
    {
      "cell_type": "code",
      "metadata": {
        "id": "ee3iF6S6uCaD",
        "colab_type": "code",
        "colab": {}
      },
      "source": [
        "#read history and model\n",
        "histories = []\n",
        "models = []\n",
        "for i in range(5):\n",
        "    history= pickle.load(open(f'/content/drive/My Drive/2020 Kaggle Study/deagwon/resnet_augment8/histtory_{i}', 'rb'))\n",
        "    model = tf.keras.models.load_model(f'/content/drive/My Drive/2020 Kaggle Study/deagwon/resnet_augment8/restnet_model_{i}.h5', compile = False)\n",
        "    histories.append(history)\n",
        "    models.append(model)"
      ],
      "execution_count": 0,
      "outputs": []
    },
    {
      "cell_type": "code",
      "metadata": {
        "id": "XDxXKBV2HEnb",
        "colab_type": "code",
        "outputId": "c34ebfb9-5244-4af6-99c9-0a621a36c73e",
        "colab": {
          "base_uri": "https://localhost:8080/",
          "height": 402
        }
      },
      "source": [
        "#maeOverFscore\n",
        "print('maeOverFscore')\n",
        "plt.figure(figsize = (20,3))\n",
        "for i in range(5):\n",
        "    plt.subplot(1,5,i+1)\n",
        "    min_ndex = np.argmin(histories[i]['val_maeOverFscore'])\n",
        "    plt.plot(histories[i]['val_maeOverFscore'])\n",
        "    plt.plot(histories[i]['maeOverFscore'])\n",
        "    plt.vlines(min_ndex, ymin = 0,ymax=2, colors = 'yellow')\n",
        "    plt.ylim([1.4,2.0])\n",
        "    print(f'Fold{i+1}')\n",
        "    print('min_val_maeOverFscore : ', np.min(histories[i]['val_maeOverFscore']),' // epochs : ', np.argmin(histories[i]['val_maeOverFscore']))\n",
        "plt.show()"
      ],
      "execution_count": 49,
      "outputs": [
        {
          "output_type": "stream",
          "text": [
            "maeOverFscore\n",
            "Fold1\n",
            "min_val_maeOverFscore :  1.623533010482788  // epochs :  38\n",
            "Fold2\n",
            "min_val_maeOverFscore :  1.5771501064300537  // epochs :  38\n",
            "Fold3\n",
            "min_val_maeOverFscore :  1.5870628356933594  // epochs :  36\n",
            "Fold4\n",
            "min_val_maeOverFscore :  1.626312017440796  // epochs :  36\n",
            "Fold5\n",
            "min_val_maeOverFscore :  1.6249207258224487  // epochs :  38\n"
          ],
          "name": "stdout"
        },
        {
          "output_type": "display_data",
          "data": {
            "image/png": "[encoded data removed]",
            "text/plain": [
              "<Figure size 1440x216 with 5 Axes>"
            ]
          },
          "metadata": {
            "tags": []
          }
        }
      ]
    },
    {
      "cell_type": "code",
      "metadata": {
        "id": "c0o9gld-HK3x",
        "colab_type": "code",
        "outputId": "73b12f32-e26a-4ed7-e364-af013d929e7a",
        "colab": {
          "base_uri": "https://localhost:8080/",
          "height": 225
        }
      },
      "source": [
        "# loss\n",
        "print('loss')\n",
        "plt.figure(figsize = (20,3))\n",
        "for i in range(5):\n",
        "    plt.subplot(1,5,i+1)\n",
        "    plt.plot(histories[i]['val_loss'])\n",
        "    plt.plot(histories[i]['loss'])\n",
        "    plt.ylim([0.20,0.25])\n",
        "plt.show()"
      ],
      "execution_count": 50,
      "outputs": [
        {
          "output_type": "stream",
          "text": [
            "loss\n"
          ],
          "name": "stdout"
        },
        {
          "output_type": "display_data",
          "data": {
            "image/png": "[encoded data removed]",
            "text/plain": [
              "<Figure size 1440x216 with 5 Axes>"
            ]
          },
          "metadata": {
            "tags": []
          }
        }
      ]
    },
    {
      "cell_type": "code",
      "metadata": {
        "id": "1-O452jsIXJj",
        "colab_type": "code",
        "outputId": "40142068-0315-499d-eb1e-926ec916be1c",
        "colab": {
          "base_uri": "https://localhost:8080/",
          "height": 221
        }
      },
      "source": [
        "# custom_mae\n",
        "print('custom_mae')\n",
        "plt.figure(figsize = (20,3))\n",
        "for i in range(5):\n",
        "    min_ndex = np.argmin(histories[i]['val_custom_mae'])\n",
        "    plt.subplot(1,5,i+1)\n",
        "    plt.plot(histories[i]['val_custom_mae'])\n",
        "    plt.plot(histories[i]['custom_mae'])\n",
        "    plt.vlines(min_ndex, ymin = 1.20,ymax=1.50, colors = 'yellow')\n",
        "    plt.ylim([1.20,1.47])\n",
        "plt.show()"
      ],
      "execution_count": 51,
      "outputs": [
        {
          "output_type": "stream",
          "text": [
            "custom_mae\n"
          ],
          "name": "stdout"
        },
        {
          "output_type": "display_data",
          "data": {
            "image/png": "[encoded data removed]",
            "text/plain": [
              "<Figure size 1440x216 with 5 Axes>"
            ]
          },
          "metadata": {
            "tags": []
          }
        }
      ]
    },
    {
      "cell_type": "code",
      "metadata": {
        "id": "C04J3KeSIRIA",
        "colab_type": "code",
        "outputId": "732ff359-d98f-4970-ad0c-88740348dc74",
        "colab": {
          "base_uri": "https://localhost:8080/",
          "height": 225
        }
      },
      "source": [
        "# f1_metric\n",
        "print('custum_f1score')\n",
        "plt.figure(figsize = (20,3))\n",
        "for i in range(5):\n",
        "    plt.subplot(1,5,i+1)\n",
        "    plt.plot(histories[i]['val_custum_f1score'])\n",
        "    plt.plot(histories[i]['custum_f1score'])\n",
        "    plt.ylim([0.7,0.80])\n",
        "plt.show()"
      ],
      "execution_count": 56,
      "outputs": [
        {
          "output_type": "stream",
          "text": [
            "custum_f1score\n"
          ],
          "name": "stdout"
        },
        {
          "output_type": "display_data",
          "data": {
            "image/png": "[encoded data removed]",
            "text/plain": [
              "<Figure size 1440x216 with 5 Axes>"
            ]
          },
          "metadata": {
            "tags": []
          }
        }
      ]
    },
    {
      "cell_type": "markdown",
      "metadata": {
        "id": "9lKtvCDNLgSB",
        "colab_type": "text"
      },
      "source": [
        "## submission"
      ]
    },
    {
      "cell_type": "code",
      "metadata": {
        "id": "mWGWDEa6Jw8I",
        "colab_type": "code",
        "outputId": "8036bd00-c1de-4fb8-cd2b-d9b580691efa",
        "colab": {
          "base_uri": "https://localhost:8080/",
          "height": 34
        }
      },
      "source": [
        "test = np.load('/content/drive/My Drive/2020 Kaggle Study/data/test.npy')\n",
        "test = preprocess(test)\n",
        "test.shape"
      ],
      "execution_count": 57,
      "outputs": [
        {
          "output_type": "execute_result",
          "data": {
            "text/plain": [
              "(2416, 40, 40, 14)"
            ]
          },
          "metadata": {
            "tags": []
          },
          "execution_count": 57
        }
      ]
    },
    {
      "cell_type": "code",
      "metadata": {
        "id": "uAWshnkhJV3Z",
        "colab_type": "code",
        "colab": {}
      },
      "source": [
        "# 5개 모델 앙상블 예측 평균 내기\n",
        "preds = []\n",
        "for model in models:\n",
        "    model.compile(optimizer = 'adam',loss = 'mae',  metrics=[maeOverFscore, custum_f1score, custom_mae])\n",
        "    preds.append(model.predict(test[:,:,:,:10]))\n",
        "pred = sum(preds)/len(preds)"
      ],
      "execution_count": 0,
      "outputs": []
    },
    {
      "cell_type": "code",
      "metadata": {
        "id": "vtcZvpFzLJAN",
        "colab_type": "code",
        "outputId": "34a4dbe7-34c2-4090-f281-82a7cbad1eb2",
        "colab": {
          "base_uri": "https://localhost:8080/",
          "height": 422
        }
      },
      "source": [
        "submission = pd.read_csv('/content/drive/My Drive/2020 Kaggle Study/data/sample_submission.csv')\n",
        "submission.iloc[:,1:] = pred.reshape(-1,1600)\n",
        "submission.to_csv('submission.csv', index = False)\n",
        "submission"
      ],
      "execution_count": 59,
      "outputs": [
        {
          "output_type": "execute_result",
          "data": {
            "text/html": [
              "<div>\n",
              "<style scoped>\n",
              "    .dataframe tbody tr th:only-of-type {\n",
              "        vertical-align: middle;\n",
              "    }\n",
              "\n",
              "    .dataframe tbody tr th {\n",
              "        vertical-align: top;\n",
              "    }\n",
              "\n",
              "    .dataframe thead th {\n",
              "        text-align: right;\n",
              "    }\n",
              "</style>\n",
              "<table border=\"1\" class=\"dataframe\">\n",
              "  <thead>\n",
              "    <tr style=\"text-align: right;\">\n",
              "      <th></th>\n",
              "      <th>id</th>\n",
              "      <th>px_1</th>\n",
              "      <th>px_2</th>\n",
              "      <th>px_3</th>\n",
              "      <th>px_4</th>\n",
              "      <th>px_5</th>\n",
              "      <th>px_6</th>\n",
              "      <th>px_7</th>\n",
              "      <th>px_8</th>\n",
              "      <th>px_9</th>\n",
              "      <th>px_10</th>\n",
              "      <th>px_11</th>\n",
              "      <th>px_12</th>\n",
              "      <th>px_13</th>\n",
              "      <th>px_14</th>\n",
              "      <th>px_15</th>\n",
              "      <th>px_16</th>\n",
              "      <th>px_17</th>\n",
              "      <th>px_18</th>\n",
              "      <th>px_19</th>\n",
              "      <th>px_20</th>\n",
              "      <th>px_21</th>\n",
              "      <th>px_22</th>\n",
              "      <th>px_23</th>\n",
              "      <th>px_24</th>\n",
              "      <th>px_25</th>\n",
              "      <th>px_26</th>\n",
              "      <th>px_27</th>\n",
              "      <th>px_28</th>\n",
              "      <th>px_29</th>\n",
              "      <th>px_30</th>\n",
              "      <th>px_31</th>\n",
              "      <th>px_32</th>\n",
              "      <th>px_33</th>\n",
              "      <th>px_34</th>\n",
              "      <th>px_35</th>\n",
              "      <th>px_36</th>\n",
              "      <th>px_37</th>\n",
              "      <th>px_38</th>\n",
              "      <th>px_39</th>\n",
              "      <th>...</th>\n",
              "      <th>px_1561</th>\n",
              "      <th>px_1562</th>\n",
              "      <th>px_1563</th>\n",
              "      <th>px_1564</th>\n",
              "      <th>px_1565</th>\n",
              "      <th>px_1566</th>\n",
              "      <th>px_1567</th>\n",
              "      <th>px_1568</th>\n",
              "      <th>px_1569</th>\n",
              "      <th>px_1570</th>\n",
              "      <th>px_1571</th>\n",
              "      <th>px_1572</th>\n",
              "      <th>px_1573</th>\n",
              "      <th>px_1574</th>\n",
              "      <th>px_1575</th>\n",
              "      <th>px_1576</th>\n",
              "      <th>px_1577</th>\n",
              "      <th>px_1578</th>\n",
              "      <th>px_1579</th>\n",
              "      <th>px_1580</th>\n",
              "      <th>px_1581</th>\n",
              "      <th>px_1582</th>\n",
              "      <th>px_1583</th>\n",
              "      <th>px_1584</th>\n",
              "      <th>px_1585</th>\n",
              "      <th>px_1586</th>\n",
              "      <th>px_1587</th>\n",
              "      <th>px_1588</th>\n",
              "      <th>px_1589</th>\n",
              "      <th>px_1590</th>\n",
              "      <th>px_1591</th>\n",
              "      <th>px_1592</th>\n",
              "      <th>px_1593</th>\n",
              "      <th>px_1594</th>\n",
              "      <th>px_1595</th>\n",
              "      <th>px_1596</th>\n",
              "      <th>px_1597</th>\n",
              "      <th>px_1598</th>\n",
              "      <th>px_1599</th>\n",
              "      <th>px_1600</th>\n",
              "    </tr>\n",
              "  </thead>\n",
              "  <tbody>\n",
              "    <tr>\n",
              "      <th>0</th>\n",
              "      <td>029858_01</td>\n",
              "      <td>0.002718</td>\n",
              "      <td>0.000000</td>\n",
              "      <td>0.000000</td>\n",
              "      <td>0.000000</td>\n",
              "      <td>0.000000</td>\n",
              "      <td>0.000000</td>\n",
              "      <td>0.000000</td>\n",
              "      <td>0.0</td>\n",
              "      <td>0.0</td>\n",
              "      <td>0.0</td>\n",
              "      <td>0.0</td>\n",
              "      <td>0.812193</td>\n",
              "      <td>0.007594</td>\n",
              "      <td>0.0</td>\n",
              "      <td>0.0</td>\n",
              "      <td>0.000000</td>\n",
              "      <td>0.000000</td>\n",
              "      <td>0.000000</td>\n",
              "      <td>0.000000</td>\n",
              "      <td>0.000000</td>\n",
              "      <td>0.0</td>\n",
              "      <td>0.0</td>\n",
              "      <td>0.0</td>\n",
              "      <td>0.0</td>\n",
              "      <td>0.0</td>\n",
              "      <td>0.000000</td>\n",
              "      <td>0.000000</td>\n",
              "      <td>0.0</td>\n",
              "      <td>0.0</td>\n",
              "      <td>0.0</td>\n",
              "      <td>0.0</td>\n",
              "      <td>0.0</td>\n",
              "      <td>0.0</td>\n",
              "      <td>0.0</td>\n",
              "      <td>0.0</td>\n",
              "      <td>0.0</td>\n",
              "      <td>0.0</td>\n",
              "      <td>0.000000</td>\n",
              "      <td>0.000000</td>\n",
              "      <td>...</td>\n",
              "      <td>0.000000</td>\n",
              "      <td>0.000000</td>\n",
              "      <td>0.000000</td>\n",
              "      <td>0.000000</td>\n",
              "      <td>0.000000</td>\n",
              "      <td>0.000000</td>\n",
              "      <td>0.000000</td>\n",
              "      <td>0.000000</td>\n",
              "      <td>0.000000</td>\n",
              "      <td>0.000000</td>\n",
              "      <td>0.000000</td>\n",
              "      <td>0.000000</td>\n",
              "      <td>0.000000</td>\n",
              "      <td>0.000000</td>\n",
              "      <td>0.000000</td>\n",
              "      <td>0.000000</td>\n",
              "      <td>0.000000</td>\n",
              "      <td>0.000000</td>\n",
              "      <td>0.00000</td>\n",
              "      <td>0.000000</td>\n",
              "      <td>0.000000</td>\n",
              "      <td>0.000000</td>\n",
              "      <td>0.000000</td>\n",
              "      <td>0.000000</td>\n",
              "      <td>0.000000</td>\n",
              "      <td>0.000000</td>\n",
              "      <td>0.000000</td>\n",
              "      <td>0.000000</td>\n",
              "      <td>0.000000</td>\n",
              "      <td>0.00000</td>\n",
              "      <td>0.000000</td>\n",
              "      <td>0.000000</td>\n",
              "      <td>0.000000</td>\n",
              "      <td>0.000000</td>\n",
              "      <td>0.00000</td>\n",
              "      <td>0.000000</td>\n",
              "      <td>0.000000</td>\n",
              "      <td>0.000000</td>\n",
              "      <td>0.000000</td>\n",
              "      <td>0.000000</td>\n",
              "    </tr>\n",
              "    <tr>\n",
              "      <th>1</th>\n",
              "      <td>029858_02</td>\n",
              "      <td>0.000000</td>\n",
              "      <td>0.000000</td>\n",
              "      <td>0.000000</td>\n",
              "      <td>0.000000</td>\n",
              "      <td>0.000000</td>\n",
              "      <td>0.000000</td>\n",
              "      <td>0.000000</td>\n",
              "      <td>0.0</td>\n",
              "      <td>0.0</td>\n",
              "      <td>0.0</td>\n",
              "      <td>0.0</td>\n",
              "      <td>0.000000</td>\n",
              "      <td>0.000000</td>\n",
              "      <td>0.0</td>\n",
              "      <td>0.0</td>\n",
              "      <td>0.000000</td>\n",
              "      <td>0.000000</td>\n",
              "      <td>0.000000</td>\n",
              "      <td>0.000000</td>\n",
              "      <td>0.000000</td>\n",
              "      <td>0.0</td>\n",
              "      <td>0.0</td>\n",
              "      <td>0.0</td>\n",
              "      <td>0.0</td>\n",
              "      <td>0.0</td>\n",
              "      <td>0.000000</td>\n",
              "      <td>0.000000</td>\n",
              "      <td>0.0</td>\n",
              "      <td>0.0</td>\n",
              "      <td>0.0</td>\n",
              "      <td>0.0</td>\n",
              "      <td>0.0</td>\n",
              "      <td>0.0</td>\n",
              "      <td>0.0</td>\n",
              "      <td>0.0</td>\n",
              "      <td>0.0</td>\n",
              "      <td>0.0</td>\n",
              "      <td>0.000000</td>\n",
              "      <td>0.000000</td>\n",
              "      <td>...</td>\n",
              "      <td>0.000000</td>\n",
              "      <td>0.000000</td>\n",
              "      <td>0.000000</td>\n",
              "      <td>0.000000</td>\n",
              "      <td>0.000000</td>\n",
              "      <td>0.000000</td>\n",
              "      <td>0.000000</td>\n",
              "      <td>0.000000</td>\n",
              "      <td>0.000000</td>\n",
              "      <td>0.000000</td>\n",
              "      <td>0.000000</td>\n",
              "      <td>0.124749</td>\n",
              "      <td>0.000000</td>\n",
              "      <td>0.000000</td>\n",
              "      <td>0.000000</td>\n",
              "      <td>0.000000</td>\n",
              "      <td>0.000000</td>\n",
              "      <td>0.000000</td>\n",
              "      <td>0.00000</td>\n",
              "      <td>0.000000</td>\n",
              "      <td>0.000000</td>\n",
              "      <td>0.000000</td>\n",
              "      <td>0.000000</td>\n",
              "      <td>0.000000</td>\n",
              "      <td>0.000000</td>\n",
              "      <td>0.000000</td>\n",
              "      <td>0.000000</td>\n",
              "      <td>0.000000</td>\n",
              "      <td>0.000000</td>\n",
              "      <td>0.00000</td>\n",
              "      <td>0.000000</td>\n",
              "      <td>0.000000</td>\n",
              "      <td>0.000000</td>\n",
              "      <td>0.000000</td>\n",
              "      <td>0.00000</td>\n",
              "      <td>0.000000</td>\n",
              "      <td>0.000000</td>\n",
              "      <td>0.000000</td>\n",
              "      <td>0.000000</td>\n",
              "      <td>0.000000</td>\n",
              "    </tr>\n",
              "    <tr>\n",
              "      <th>2</th>\n",
              "      <td>029858_03</td>\n",
              "      <td>0.000000</td>\n",
              "      <td>0.000000</td>\n",
              "      <td>0.000000</td>\n",
              "      <td>0.000000</td>\n",
              "      <td>0.000000</td>\n",
              "      <td>0.000000</td>\n",
              "      <td>0.000000</td>\n",
              "      <td>0.0</td>\n",
              "      <td>0.0</td>\n",
              "      <td>0.0</td>\n",
              "      <td>0.0</td>\n",
              "      <td>0.000000</td>\n",
              "      <td>0.000000</td>\n",
              "      <td>0.0</td>\n",
              "      <td>0.0</td>\n",
              "      <td>0.000000</td>\n",
              "      <td>0.000000</td>\n",
              "      <td>0.000000</td>\n",
              "      <td>0.000000</td>\n",
              "      <td>0.000000</td>\n",
              "      <td>0.0</td>\n",
              "      <td>0.0</td>\n",
              "      <td>0.0</td>\n",
              "      <td>0.0</td>\n",
              "      <td>0.0</td>\n",
              "      <td>0.411885</td>\n",
              "      <td>0.000000</td>\n",
              "      <td>0.0</td>\n",
              "      <td>0.0</td>\n",
              "      <td>0.0</td>\n",
              "      <td>0.0</td>\n",
              "      <td>0.0</td>\n",
              "      <td>0.0</td>\n",
              "      <td>0.0</td>\n",
              "      <td>0.0</td>\n",
              "      <td>0.0</td>\n",
              "      <td>0.0</td>\n",
              "      <td>0.000000</td>\n",
              "      <td>0.000000</td>\n",
              "      <td>...</td>\n",
              "      <td>0.000000</td>\n",
              "      <td>0.000000</td>\n",
              "      <td>0.000000</td>\n",
              "      <td>0.000000</td>\n",
              "      <td>0.000000</td>\n",
              "      <td>0.000000</td>\n",
              "      <td>0.000000</td>\n",
              "      <td>0.000000</td>\n",
              "      <td>0.000000</td>\n",
              "      <td>0.000000</td>\n",
              "      <td>0.000000</td>\n",
              "      <td>0.000000</td>\n",
              "      <td>0.000000</td>\n",
              "      <td>0.000000</td>\n",
              "      <td>0.000000</td>\n",
              "      <td>0.000000</td>\n",
              "      <td>0.000000</td>\n",
              "      <td>0.000000</td>\n",
              "      <td>0.00000</td>\n",
              "      <td>0.000000</td>\n",
              "      <td>0.000000</td>\n",
              "      <td>0.000000</td>\n",
              "      <td>0.000000</td>\n",
              "      <td>0.000000</td>\n",
              "      <td>0.000000</td>\n",
              "      <td>0.000000</td>\n",
              "      <td>0.000000</td>\n",
              "      <td>0.000000</td>\n",
              "      <td>0.000000</td>\n",
              "      <td>0.00000</td>\n",
              "      <td>0.000000</td>\n",
              "      <td>0.000000</td>\n",
              "      <td>0.000000</td>\n",
              "      <td>0.000000</td>\n",
              "      <td>0.00000</td>\n",
              "      <td>0.000000</td>\n",
              "      <td>0.000000</td>\n",
              "      <td>0.000000</td>\n",
              "      <td>0.000000</td>\n",
              "      <td>0.000000</td>\n",
              "    </tr>\n",
              "    <tr>\n",
              "      <th>3</th>\n",
              "      <td>029858_05</td>\n",
              "      <td>0.000000</td>\n",
              "      <td>0.000000</td>\n",
              "      <td>0.000000</td>\n",
              "      <td>0.000000</td>\n",
              "      <td>0.000000</td>\n",
              "      <td>0.000000</td>\n",
              "      <td>0.000000</td>\n",
              "      <td>0.0</td>\n",
              "      <td>0.0</td>\n",
              "      <td>0.0</td>\n",
              "      <td>0.0</td>\n",
              "      <td>0.000000</td>\n",
              "      <td>0.000000</td>\n",
              "      <td>0.0</td>\n",
              "      <td>0.0</td>\n",
              "      <td>0.000000</td>\n",
              "      <td>0.000000</td>\n",
              "      <td>0.000000</td>\n",
              "      <td>0.000000</td>\n",
              "      <td>0.000000</td>\n",
              "      <td>0.0</td>\n",
              "      <td>0.0</td>\n",
              "      <td>0.0</td>\n",
              "      <td>0.0</td>\n",
              "      <td>0.0</td>\n",
              "      <td>0.000000</td>\n",
              "      <td>0.000000</td>\n",
              "      <td>0.0</td>\n",
              "      <td>0.0</td>\n",
              "      <td>0.0</td>\n",
              "      <td>0.0</td>\n",
              "      <td>0.0</td>\n",
              "      <td>0.0</td>\n",
              "      <td>0.0</td>\n",
              "      <td>0.0</td>\n",
              "      <td>0.0</td>\n",
              "      <td>0.0</td>\n",
              "      <td>1.108492</td>\n",
              "      <td>1.009329</td>\n",
              "      <td>...</td>\n",
              "      <td>0.000000</td>\n",
              "      <td>0.000000</td>\n",
              "      <td>0.000000</td>\n",
              "      <td>0.000000</td>\n",
              "      <td>0.000000</td>\n",
              "      <td>0.000000</td>\n",
              "      <td>0.000000</td>\n",
              "      <td>0.000000</td>\n",
              "      <td>0.404464</td>\n",
              "      <td>1.771556</td>\n",
              "      <td>5.615695</td>\n",
              "      <td>1.325815</td>\n",
              "      <td>0.000000</td>\n",
              "      <td>0.000000</td>\n",
              "      <td>0.000000</td>\n",
              "      <td>0.000000</td>\n",
              "      <td>0.000000</td>\n",
              "      <td>0.000000</td>\n",
              "      <td>0.00000</td>\n",
              "      <td>0.000000</td>\n",
              "      <td>0.000000</td>\n",
              "      <td>0.000000</td>\n",
              "      <td>0.000000</td>\n",
              "      <td>0.000000</td>\n",
              "      <td>0.000000</td>\n",
              "      <td>0.000000</td>\n",
              "      <td>0.000000</td>\n",
              "      <td>0.000000</td>\n",
              "      <td>0.000000</td>\n",
              "      <td>0.00000</td>\n",
              "      <td>0.000000</td>\n",
              "      <td>0.000000</td>\n",
              "      <td>0.000000</td>\n",
              "      <td>0.000000</td>\n",
              "      <td>0.00000</td>\n",
              "      <td>0.000000</td>\n",
              "      <td>0.000000</td>\n",
              "      <td>0.000000</td>\n",
              "      <td>0.000000</td>\n",
              "      <td>0.000000</td>\n",
              "    </tr>\n",
              "    <tr>\n",
              "      <th>4</th>\n",
              "      <td>029858_07</td>\n",
              "      <td>0.000000</td>\n",
              "      <td>0.000000</td>\n",
              "      <td>0.000000</td>\n",
              "      <td>0.000000</td>\n",
              "      <td>0.000000</td>\n",
              "      <td>0.000000</td>\n",
              "      <td>0.000000</td>\n",
              "      <td>0.0</td>\n",
              "      <td>0.0</td>\n",
              "      <td>0.0</td>\n",
              "      <td>0.0</td>\n",
              "      <td>0.000000</td>\n",
              "      <td>0.000000</td>\n",
              "      <td>0.0</td>\n",
              "      <td>0.0</td>\n",
              "      <td>0.000000</td>\n",
              "      <td>0.000000</td>\n",
              "      <td>0.000000</td>\n",
              "      <td>0.000000</td>\n",
              "      <td>0.000000</td>\n",
              "      <td>0.0</td>\n",
              "      <td>0.0</td>\n",
              "      <td>0.0</td>\n",
              "      <td>0.0</td>\n",
              "      <td>0.0</td>\n",
              "      <td>0.000000</td>\n",
              "      <td>0.000000</td>\n",
              "      <td>0.0</td>\n",
              "      <td>0.0</td>\n",
              "      <td>0.0</td>\n",
              "      <td>0.0</td>\n",
              "      <td>0.0</td>\n",
              "      <td>0.0</td>\n",
              "      <td>0.0</td>\n",
              "      <td>0.0</td>\n",
              "      <td>0.0</td>\n",
              "      <td>0.0</td>\n",
              "      <td>0.000000</td>\n",
              "      <td>0.000000</td>\n",
              "      <td>...</td>\n",
              "      <td>0.850776</td>\n",
              "      <td>1.079533</td>\n",
              "      <td>1.246665</td>\n",
              "      <td>2.031735</td>\n",
              "      <td>2.692549</td>\n",
              "      <td>2.700932</td>\n",
              "      <td>1.712599</td>\n",
              "      <td>0.851455</td>\n",
              "      <td>0.737365</td>\n",
              "      <td>1.356638</td>\n",
              "      <td>2.581905</td>\n",
              "      <td>4.777689</td>\n",
              "      <td>5.187423</td>\n",
              "      <td>3.921165</td>\n",
              "      <td>6.156259</td>\n",
              "      <td>9.966131</td>\n",
              "      <td>15.096042</td>\n",
              "      <td>19.308659</td>\n",
              "      <td>17.55603</td>\n",
              "      <td>15.192273</td>\n",
              "      <td>8.074984</td>\n",
              "      <td>5.068572</td>\n",
              "      <td>7.704577</td>\n",
              "      <td>11.672884</td>\n",
              "      <td>5.185972</td>\n",
              "      <td>1.157281</td>\n",
              "      <td>0.393779</td>\n",
              "      <td>0.290597</td>\n",
              "      <td>0.305967</td>\n",
              "      <td>0.69593</td>\n",
              "      <td>1.287479</td>\n",
              "      <td>1.795927</td>\n",
              "      <td>1.339645</td>\n",
              "      <td>0.814949</td>\n",
              "      <td>0.75365</td>\n",
              "      <td>1.548864</td>\n",
              "      <td>3.783678</td>\n",
              "      <td>3.598025</td>\n",
              "      <td>2.254057</td>\n",
              "      <td>1.101455</td>\n",
              "    </tr>\n",
              "    <tr>\n",
              "      <th>...</th>\n",
              "      <td>...</td>\n",
              "      <td>...</td>\n",
              "      <td>...</td>\n",
              "      <td>...</td>\n",
              "      <td>...</td>\n",
              "      <td>...</td>\n",
              "      <td>...</td>\n",
              "      <td>...</td>\n",
              "      <td>...</td>\n",
              "      <td>...</td>\n",
              "      <td>...</td>\n",
              "      <td>...</td>\n",
              "      <td>...</td>\n",
              "      <td>...</td>\n",
              "      <td>...</td>\n",
              "      <td>...</td>\n",
              "      <td>...</td>\n",
              "      <td>...</td>\n",
              "      <td>...</td>\n",
              "      <td>...</td>\n",
              "      <td>...</td>\n",
              "      <td>...</td>\n",
              "      <td>...</td>\n",
              "      <td>...</td>\n",
              "      <td>...</td>\n",
              "      <td>...</td>\n",
              "      <td>...</td>\n",
              "      <td>...</td>\n",
              "      <td>...</td>\n",
              "      <td>...</td>\n",
              "      <td>...</td>\n",
              "      <td>...</td>\n",
              "      <td>...</td>\n",
              "      <td>...</td>\n",
              "      <td>...</td>\n",
              "      <td>...</td>\n",
              "      <td>...</td>\n",
              "      <td>...</td>\n",
              "      <td>...</td>\n",
              "      <td>...</td>\n",
              "      <td>...</td>\n",
              "      <td>...</td>\n",
              "      <td>...</td>\n",
              "      <td>...</td>\n",
              "      <td>...</td>\n",
              "      <td>...</td>\n",
              "      <td>...</td>\n",
              "      <td>...</td>\n",
              "      <td>...</td>\n",
              "      <td>...</td>\n",
              "      <td>...</td>\n",
              "      <td>...</td>\n",
              "      <td>...</td>\n",
              "      <td>...</td>\n",
              "      <td>...</td>\n",
              "      <td>...</td>\n",
              "      <td>...</td>\n",
              "      <td>...</td>\n",
              "      <td>...</td>\n",
              "      <td>...</td>\n",
              "      <td>...</td>\n",
              "      <td>...</td>\n",
              "      <td>...</td>\n",
              "      <td>...</td>\n",
              "      <td>...</td>\n",
              "      <td>...</td>\n",
              "      <td>...</td>\n",
              "      <td>...</td>\n",
              "      <td>...</td>\n",
              "      <td>...</td>\n",
              "      <td>...</td>\n",
              "      <td>...</td>\n",
              "      <td>...</td>\n",
              "      <td>...</td>\n",
              "      <td>...</td>\n",
              "      <td>...</td>\n",
              "      <td>...</td>\n",
              "      <td>...</td>\n",
              "      <td>...</td>\n",
              "      <td>...</td>\n",
              "      <td>...</td>\n",
              "    </tr>\n",
              "    <tr>\n",
              "      <th>2411</th>\n",
              "      <td>031287_08</td>\n",
              "      <td>0.000000</td>\n",
              "      <td>0.000000</td>\n",
              "      <td>0.000000</td>\n",
              "      <td>0.000000</td>\n",
              "      <td>0.000000</td>\n",
              "      <td>0.000000</td>\n",
              "      <td>0.000000</td>\n",
              "      <td>0.0</td>\n",
              "      <td>0.0</td>\n",
              "      <td>0.0</td>\n",
              "      <td>0.0</td>\n",
              "      <td>0.000000</td>\n",
              "      <td>0.000000</td>\n",
              "      <td>0.0</td>\n",
              "      <td>0.0</td>\n",
              "      <td>0.000000</td>\n",
              "      <td>0.000000</td>\n",
              "      <td>0.000000</td>\n",
              "      <td>0.000000</td>\n",
              "      <td>0.000000</td>\n",
              "      <td>0.0</td>\n",
              "      <td>0.0</td>\n",
              "      <td>0.0</td>\n",
              "      <td>0.0</td>\n",
              "      <td>0.0</td>\n",
              "      <td>0.000000</td>\n",
              "      <td>0.000000</td>\n",
              "      <td>0.0</td>\n",
              "      <td>0.0</td>\n",
              "      <td>0.0</td>\n",
              "      <td>0.0</td>\n",
              "      <td>0.0</td>\n",
              "      <td>0.0</td>\n",
              "      <td>0.0</td>\n",
              "      <td>0.0</td>\n",
              "      <td>0.0</td>\n",
              "      <td>0.0</td>\n",
              "      <td>0.000000</td>\n",
              "      <td>0.000000</td>\n",
              "      <td>...</td>\n",
              "      <td>0.000000</td>\n",
              "      <td>0.000000</td>\n",
              "      <td>0.000000</td>\n",
              "      <td>0.000000</td>\n",
              "      <td>0.000000</td>\n",
              "      <td>0.000000</td>\n",
              "      <td>0.000000</td>\n",
              "      <td>0.000000</td>\n",
              "      <td>0.000000</td>\n",
              "      <td>0.000000</td>\n",
              "      <td>0.000000</td>\n",
              "      <td>0.000000</td>\n",
              "      <td>0.000000</td>\n",
              "      <td>0.000000</td>\n",
              "      <td>0.000000</td>\n",
              "      <td>0.000000</td>\n",
              "      <td>0.000000</td>\n",
              "      <td>0.000000</td>\n",
              "      <td>0.00000</td>\n",
              "      <td>0.000000</td>\n",
              "      <td>0.000000</td>\n",
              "      <td>0.000000</td>\n",
              "      <td>0.000000</td>\n",
              "      <td>0.000000</td>\n",
              "      <td>0.000000</td>\n",
              "      <td>0.000000</td>\n",
              "      <td>0.000000</td>\n",
              "      <td>0.000000</td>\n",
              "      <td>0.000000</td>\n",
              "      <td>0.00000</td>\n",
              "      <td>0.000000</td>\n",
              "      <td>0.000000</td>\n",
              "      <td>0.000000</td>\n",
              "      <td>0.000000</td>\n",
              "      <td>0.00000</td>\n",
              "      <td>0.000000</td>\n",
              "      <td>0.000000</td>\n",
              "      <td>0.000000</td>\n",
              "      <td>0.000000</td>\n",
              "      <td>0.000000</td>\n",
              "    </tr>\n",
              "    <tr>\n",
              "      <th>2412</th>\n",
              "      <td>031288_01</td>\n",
              "      <td>0.000000</td>\n",
              "      <td>0.000000</td>\n",
              "      <td>0.000000</td>\n",
              "      <td>0.000000</td>\n",
              "      <td>0.000000</td>\n",
              "      <td>0.000000</td>\n",
              "      <td>0.000000</td>\n",
              "      <td>0.0</td>\n",
              "      <td>0.0</td>\n",
              "      <td>0.0</td>\n",
              "      <td>0.0</td>\n",
              "      <td>0.000000</td>\n",
              "      <td>0.000000</td>\n",
              "      <td>0.0</td>\n",
              "      <td>0.0</td>\n",
              "      <td>0.010334</td>\n",
              "      <td>0.063723</td>\n",
              "      <td>0.032318</td>\n",
              "      <td>0.052449</td>\n",
              "      <td>0.025519</td>\n",
              "      <td>0.0</td>\n",
              "      <td>0.0</td>\n",
              "      <td>0.0</td>\n",
              "      <td>0.0</td>\n",
              "      <td>0.0</td>\n",
              "      <td>0.000000</td>\n",
              "      <td>0.006621</td>\n",
              "      <td>0.0</td>\n",
              "      <td>0.0</td>\n",
              "      <td>0.0</td>\n",
              "      <td>0.0</td>\n",
              "      <td>0.0</td>\n",
              "      <td>0.0</td>\n",
              "      <td>0.0</td>\n",
              "      <td>0.0</td>\n",
              "      <td>0.0</td>\n",
              "      <td>0.0</td>\n",
              "      <td>0.000000</td>\n",
              "      <td>0.000000</td>\n",
              "      <td>...</td>\n",
              "      <td>0.000000</td>\n",
              "      <td>0.000000</td>\n",
              "      <td>0.000000</td>\n",
              "      <td>0.000000</td>\n",
              "      <td>0.000000</td>\n",
              "      <td>0.000000</td>\n",
              "      <td>0.000000</td>\n",
              "      <td>0.000000</td>\n",
              "      <td>0.000000</td>\n",
              "      <td>0.000000</td>\n",
              "      <td>0.000000</td>\n",
              "      <td>0.000000</td>\n",
              "      <td>0.000000</td>\n",
              "      <td>0.000000</td>\n",
              "      <td>0.000000</td>\n",
              "      <td>0.000000</td>\n",
              "      <td>0.000000</td>\n",
              "      <td>0.000000</td>\n",
              "      <td>0.00000</td>\n",
              "      <td>0.000000</td>\n",
              "      <td>0.000000</td>\n",
              "      <td>0.000000</td>\n",
              "      <td>0.000000</td>\n",
              "      <td>0.000000</td>\n",
              "      <td>0.000000</td>\n",
              "      <td>0.000000</td>\n",
              "      <td>0.000000</td>\n",
              "      <td>0.000000</td>\n",
              "      <td>0.000000</td>\n",
              "      <td>0.00000</td>\n",
              "      <td>0.000000</td>\n",
              "      <td>0.000000</td>\n",
              "      <td>0.000000</td>\n",
              "      <td>0.000000</td>\n",
              "      <td>0.00000</td>\n",
              "      <td>0.000000</td>\n",
              "      <td>0.000000</td>\n",
              "      <td>0.000000</td>\n",
              "      <td>0.000000</td>\n",
              "      <td>0.000000</td>\n",
              "    </tr>\n",
              "    <tr>\n",
              "      <th>2413</th>\n",
              "      <td>031288_02</td>\n",
              "      <td>0.000000</td>\n",
              "      <td>0.000000</td>\n",
              "      <td>0.000000</td>\n",
              "      <td>0.000000</td>\n",
              "      <td>0.000000</td>\n",
              "      <td>0.000000</td>\n",
              "      <td>0.000000</td>\n",
              "      <td>0.0</td>\n",
              "      <td>0.0</td>\n",
              "      <td>0.0</td>\n",
              "      <td>0.0</td>\n",
              "      <td>0.000000</td>\n",
              "      <td>0.000000</td>\n",
              "      <td>0.0</td>\n",
              "      <td>0.0</td>\n",
              "      <td>0.000000</td>\n",
              "      <td>0.000000</td>\n",
              "      <td>0.000000</td>\n",
              "      <td>0.000000</td>\n",
              "      <td>0.000000</td>\n",
              "      <td>0.0</td>\n",
              "      <td>0.0</td>\n",
              "      <td>0.0</td>\n",
              "      <td>0.0</td>\n",
              "      <td>0.0</td>\n",
              "      <td>0.000000</td>\n",
              "      <td>0.000000</td>\n",
              "      <td>0.0</td>\n",
              "      <td>0.0</td>\n",
              "      <td>0.0</td>\n",
              "      <td>0.0</td>\n",
              "      <td>0.0</td>\n",
              "      <td>0.0</td>\n",
              "      <td>0.0</td>\n",
              "      <td>0.0</td>\n",
              "      <td>0.0</td>\n",
              "      <td>0.0</td>\n",
              "      <td>0.000000</td>\n",
              "      <td>0.000000</td>\n",
              "      <td>...</td>\n",
              "      <td>0.000000</td>\n",
              "      <td>0.000000</td>\n",
              "      <td>0.000000</td>\n",
              "      <td>0.000000</td>\n",
              "      <td>0.000000</td>\n",
              "      <td>0.000000</td>\n",
              "      <td>0.000000</td>\n",
              "      <td>0.000000</td>\n",
              "      <td>0.000000</td>\n",
              "      <td>0.000000</td>\n",
              "      <td>0.000000</td>\n",
              "      <td>0.000000</td>\n",
              "      <td>0.000000</td>\n",
              "      <td>0.000000</td>\n",
              "      <td>0.000000</td>\n",
              "      <td>0.000000</td>\n",
              "      <td>0.000000</td>\n",
              "      <td>0.000000</td>\n",
              "      <td>0.00000</td>\n",
              "      <td>0.000000</td>\n",
              "      <td>0.000000</td>\n",
              "      <td>0.000000</td>\n",
              "      <td>0.000000</td>\n",
              "      <td>0.000000</td>\n",
              "      <td>0.000000</td>\n",
              "      <td>0.000000</td>\n",
              "      <td>0.000000</td>\n",
              "      <td>0.000000</td>\n",
              "      <td>0.000000</td>\n",
              "      <td>0.00000</td>\n",
              "      <td>0.000000</td>\n",
              "      <td>0.000000</td>\n",
              "      <td>0.000000</td>\n",
              "      <td>0.000000</td>\n",
              "      <td>0.00000</td>\n",
              "      <td>0.000000</td>\n",
              "      <td>0.000000</td>\n",
              "      <td>0.000000</td>\n",
              "      <td>0.000000</td>\n",
              "      <td>0.000000</td>\n",
              "    </tr>\n",
              "    <tr>\n",
              "      <th>2414</th>\n",
              "      <td>031288_08</td>\n",
              "      <td>0.000000</td>\n",
              "      <td>0.000000</td>\n",
              "      <td>0.000000</td>\n",
              "      <td>0.000000</td>\n",
              "      <td>0.000000</td>\n",
              "      <td>0.000000</td>\n",
              "      <td>0.000000</td>\n",
              "      <td>0.0</td>\n",
              "      <td>0.0</td>\n",
              "      <td>0.0</td>\n",
              "      <td>0.0</td>\n",
              "      <td>0.000000</td>\n",
              "      <td>0.000000</td>\n",
              "      <td>0.0</td>\n",
              "      <td>0.0</td>\n",
              "      <td>0.000000</td>\n",
              "      <td>0.000000</td>\n",
              "      <td>0.000000</td>\n",
              "      <td>0.000000</td>\n",
              "      <td>0.000000</td>\n",
              "      <td>0.0</td>\n",
              "      <td>0.0</td>\n",
              "      <td>0.0</td>\n",
              "      <td>0.0</td>\n",
              "      <td>0.0</td>\n",
              "      <td>0.000000</td>\n",
              "      <td>0.000000</td>\n",
              "      <td>0.0</td>\n",
              "      <td>0.0</td>\n",
              "      <td>0.0</td>\n",
              "      <td>0.0</td>\n",
              "      <td>0.0</td>\n",
              "      <td>0.0</td>\n",
              "      <td>0.0</td>\n",
              "      <td>0.0</td>\n",
              "      <td>0.0</td>\n",
              "      <td>0.0</td>\n",
              "      <td>0.000000</td>\n",
              "      <td>0.000000</td>\n",
              "      <td>...</td>\n",
              "      <td>0.000000</td>\n",
              "      <td>0.000000</td>\n",
              "      <td>0.000000</td>\n",
              "      <td>0.000000</td>\n",
              "      <td>0.000000</td>\n",
              "      <td>0.000000</td>\n",
              "      <td>0.000000</td>\n",
              "      <td>0.000000</td>\n",
              "      <td>0.000000</td>\n",
              "      <td>0.000000</td>\n",
              "      <td>0.000000</td>\n",
              "      <td>0.000000</td>\n",
              "      <td>0.000000</td>\n",
              "      <td>0.000000</td>\n",
              "      <td>0.000000</td>\n",
              "      <td>0.000000</td>\n",
              "      <td>0.000000</td>\n",
              "      <td>0.000000</td>\n",
              "      <td>0.00000</td>\n",
              "      <td>0.000000</td>\n",
              "      <td>0.000000</td>\n",
              "      <td>0.000000</td>\n",
              "      <td>0.000000</td>\n",
              "      <td>0.000000</td>\n",
              "      <td>0.000000</td>\n",
              "      <td>0.000000</td>\n",
              "      <td>0.000000</td>\n",
              "      <td>0.000000</td>\n",
              "      <td>0.000000</td>\n",
              "      <td>0.00000</td>\n",
              "      <td>0.000000</td>\n",
              "      <td>0.000000</td>\n",
              "      <td>0.000000</td>\n",
              "      <td>0.000000</td>\n",
              "      <td>0.00000</td>\n",
              "      <td>0.000000</td>\n",
              "      <td>0.000000</td>\n",
              "      <td>0.000000</td>\n",
              "      <td>0.000000</td>\n",
              "      <td>0.000000</td>\n",
              "    </tr>\n",
              "    <tr>\n",
              "      <th>2415</th>\n",
              "      <td>031288_11</td>\n",
              "      <td>0.407657</td>\n",
              "      <td>0.472847</td>\n",
              "      <td>0.507181</td>\n",
              "      <td>0.359326</td>\n",
              "      <td>0.380871</td>\n",
              "      <td>0.499098</td>\n",
              "      <td>0.152802</td>\n",
              "      <td>0.0</td>\n",
              "      <td>0.0</td>\n",
              "      <td>0.0</td>\n",
              "      <td>0.0</td>\n",
              "      <td>0.000000</td>\n",
              "      <td>0.000000</td>\n",
              "      <td>0.0</td>\n",
              "      <td>0.0</td>\n",
              "      <td>0.000000</td>\n",
              "      <td>0.000000</td>\n",
              "      <td>0.000000</td>\n",
              "      <td>0.000000</td>\n",
              "      <td>0.000000</td>\n",
              "      <td>0.0</td>\n",
              "      <td>0.0</td>\n",
              "      <td>0.0</td>\n",
              "      <td>0.0</td>\n",
              "      <td>0.0</td>\n",
              "      <td>0.000000</td>\n",
              "      <td>0.000000</td>\n",
              "      <td>0.0</td>\n",
              "      <td>0.0</td>\n",
              "      <td>0.0</td>\n",
              "      <td>0.0</td>\n",
              "      <td>0.0</td>\n",
              "      <td>0.0</td>\n",
              "      <td>0.0</td>\n",
              "      <td>0.0</td>\n",
              "      <td>0.0</td>\n",
              "      <td>0.0</td>\n",
              "      <td>0.000000</td>\n",
              "      <td>0.000000</td>\n",
              "      <td>...</td>\n",
              "      <td>0.000000</td>\n",
              "      <td>0.000000</td>\n",
              "      <td>0.000000</td>\n",
              "      <td>0.000000</td>\n",
              "      <td>0.000000</td>\n",
              "      <td>0.000000</td>\n",
              "      <td>0.000000</td>\n",
              "      <td>0.000000</td>\n",
              "      <td>0.000000</td>\n",
              "      <td>0.000000</td>\n",
              "      <td>0.000000</td>\n",
              "      <td>0.000000</td>\n",
              "      <td>0.000000</td>\n",
              "      <td>0.000000</td>\n",
              "      <td>0.000000</td>\n",
              "      <td>0.000000</td>\n",
              "      <td>0.000000</td>\n",
              "      <td>0.000000</td>\n",
              "      <td>0.00000</td>\n",
              "      <td>0.000000</td>\n",
              "      <td>0.000000</td>\n",
              "      <td>0.000000</td>\n",
              "      <td>0.000000</td>\n",
              "      <td>0.000000</td>\n",
              "      <td>0.000000</td>\n",
              "      <td>0.000000</td>\n",
              "      <td>0.000000</td>\n",
              "      <td>0.000000</td>\n",
              "      <td>0.000000</td>\n",
              "      <td>0.00000</td>\n",
              "      <td>0.000000</td>\n",
              "      <td>0.000000</td>\n",
              "      <td>0.000000</td>\n",
              "      <td>0.000000</td>\n",
              "      <td>0.00000</td>\n",
              "      <td>0.000000</td>\n",
              "      <td>0.000000</td>\n",
              "      <td>0.000000</td>\n",
              "      <td>0.000000</td>\n",
              "      <td>0.000000</td>\n",
              "    </tr>\n",
              "  </tbody>\n",
              "</table>\n",
              "<p>2416 rows × 1601 columns</p>\n",
              "</div>"
            ],
            "text/plain": [
              "             id      px_1      px_2  ...   px_1598   px_1599   px_1600\n",
              "0     029858_01  0.002718  0.000000  ...  0.000000  0.000000  0.000000\n",
              "1     029858_02  0.000000  0.000000  ...  0.000000  0.000000  0.000000\n",
              "2     029858_03  0.000000  0.000000  ...  0.000000  0.000000  0.000000\n",
              "3     029858_05  0.000000  0.000000  ...  0.000000  0.000000  0.000000\n",
              "4     029858_07  0.000000  0.000000  ...  3.598025  2.254057  1.101455\n",
              "...         ...       ...       ...  ...       ...       ...       ...\n",
              "2411  031287_08  0.000000  0.000000  ...  0.000000  0.000000  0.000000\n",
              "2412  031288_01  0.000000  0.000000  ...  0.000000  0.000000  0.000000\n",
              "2413  031288_02  0.000000  0.000000  ...  0.000000  0.000000  0.000000\n",
              "2414  031288_08  0.000000  0.000000  ...  0.000000  0.000000  0.000000\n",
              "2415  031288_11  0.407657  0.472847  ...  0.000000  0.000000  0.000000\n",
              "\n",
              "[2416 rows x 1601 columns]"
            ]
          },
          "metadata": {
            "tags": []
          },
          "execution_count": 59
        }
      ]
    },
    {
      "cell_type": "code",
      "metadata": {
        "id": "JSKzWW_uT_T_",
        "colab_type": "code",
        "colab": {}
      },
      "source": [
        ""
      ],
      "execution_count": 0,
      "outputs": []
    }
  ]
}