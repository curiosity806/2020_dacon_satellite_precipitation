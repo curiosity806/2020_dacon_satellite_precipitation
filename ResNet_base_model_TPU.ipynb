{
  "nbformat": 4,
  "nbformat_minor": 0,
  "metadata": {
    "colab": {
      "name": "ResNet_base_model_TPU",
      "provenance": [],
      "collapsed_sections": [],
      "machine_shape": "hm",
      "include_colab_link": true
    },
    "kernelspec": {
      "name": "python3",
      "display_name": "Python 3"
    },
    "accelerator": "TPU"
  },
  "cells": [
    {
      "cell_type": "markdown",
      "metadata": {
        "id": "view-in-github",
        "colab_type": "text"
      },
      "source": [
        "<a href=\"https://colab.research.google.com/github/curiosity806/2020_dacon_satellite_precipitation/blob/augment8%2Fresnet-single/ResNet_base_model_TPU.ipynb\" target=\"_parent\"><img src=\"https://colab.research.google.com/assets/colab-badge.svg\" alt=\"Open In Colab\"/></a>"
      ]
    },
    {
      "cell_type": "code",
      "metadata": {
        "id": "oi-MWY4HOblX",
        "colab_type": "code",
        "outputId": "73f13c08-aed7-4e63-8048-33ec263bbf5a",
        "colab": {
          "base_uri": "https://localhost:8080/",
          "height": 125
        }
      },
      "source": [
        "from google.colab import drive\n",
        "drive.mount('/content/drive')"
      ],
      "execution_count": 3,
      "outputs": [
        {
          "output_type": "stream",
          "text": [
            "Go to this URL in a browser: https://accounts.google.com/o/oauth2/auth?client_id=947318989803-6bn6qk8qdgf4n4g3pfee6491hc0brc4i.apps.googleusercontent.com&redirect_uri=urn%3aietf%3awg%3aoauth%3a2.0%3aoob&response_type=code&scope=email%20https%3a%2f%2fwww.googleapis.com%2fauth%2fdocs.test%20https%3a%2f%2fwww.googleapis.com%2fauth%2fdrive%20https%3a%2f%2fwww.googleapis.com%2fauth%2fdrive.photos.readonly%20https%3a%2f%2fwww.googleapis.com%2fauth%2fpeopleapi.readonly\n",
            "\n",
            "Enter your authorization code:\n",
            "··········\n",
            "Mounted at /content/drive\n"
          ],
          "name": "stdout"
        }
      ]
    },
    {
      "cell_type": "code",
      "metadata": {
        "id": "_pj84NcY6oGu",
        "colab_type": "code",
        "colab": {}
      },
      "source": [
        "!cp '/content/drive/My Drive/2020 Kaggle Study/data/Copy of train.npy' train.npy"
      ],
      "execution_count": 0,
      "outputs": []
    },
    {
      "cell_type": "code",
      "metadata": {
        "id": "GmamJLo67sjf",
        "colab_type": "code",
        "colab": {}
      },
      "source": [
        ""
      ],
      "execution_count": 0,
      "outputs": []
    },
    {
      "cell_type": "code",
      "metadata": {
        "id": "h6La-zpczGzY",
        "colab_type": "code",
        "outputId": "611891c8-6707-47b9-a883-9a22cdf12f66",
        "colab": {
          "base_uri": "https://localhost:8080/",
          "height": 72
        }
      },
      "source": [
        "import glob\n",
        "import pandas as pd\n",
        "import numpy as np\n",
        "import matplotlib.pylab as plt\n",
        "import seaborn as sns\n",
        "from tqdm import tqdm\n",
        "import matplotlib.pyplot as plt\n",
        "import tensorflow as tf\n",
        "import os\n",
        "import random\n",
        "from tensorflow.keras.layers import Dense, Conv2D, Dropout, Conv2DTranspose, MaxPooling2D, BatchNormalization, Activation, concatenate, Input, GlobalAveragePooling2D\n",
        "from tensorflow.keras import Model\n",
        "import warnings\n",
        "import gc\n",
        "import matplotlib.pyplot as plt\n",
        "import matplotlib.animation as animation\n",
        "from scipy import stats\n",
        "warnings.filterwarnings(\"ignore\")\n",
        "# style 설정\n",
        "plt.style.use('dark_background')\n",
        "plt.style.use('seaborn-colorblind')\n",
        "\n",
        "# 재생산성을 위해 시드 고정\n",
        "np.random.seed(7)\n",
        "random.seed(7)\n",
        "tf.random.set_seed(7)"
      ],
      "execution_count": 1,
      "outputs": [
        {
          "output_type": "stream",
          "text": [
            "/usr/local/lib/python3.6/dist-packages/statsmodels/tools/_testing.py:19: FutureWarning: pandas.util.testing is deprecated. Use the functions in the public API at pandas.testing instead.\n",
            "  import pandas.util.testing as tm\n"
          ],
          "name": "stderr"
        }
      ]
    },
    {
      "cell_type": "markdown",
      "metadata": {
        "id": "0pUOc4bq-IrZ",
        "colab_type": "text"
      },
      "source": [
        "## 데이터 받아오기"
      ]
    },
    {
      "cell_type": "code",
      "metadata": {
        "id": "36olRM2r6rBE",
        "colab_type": "code",
        "colab": {}
      },
      "source": [
        "#train = np.load('train.npy')\n",
        "train = np.load('train.npy')"
      ],
      "execution_count": 0,
      "outputs": []
    },
    {
      "cell_type": "code",
      "metadata": {
        "id": "ohvb1O7oRto2",
        "colab_type": "code",
        "colab": {
          "base_uri": "https://localhost:8080/",
          "height": 34
        },
        "outputId": "95115962-55b4-4e72-96f4-7e148d49e9aa"
      },
      "source": [
        "train.shape"
      ],
      "execution_count": 3,
      "outputs": [
        {
          "output_type": "execute_result",
          "data": {
            "text/plain": [
              "(76345, 40, 40, 15)"
            ]
          },
          "metadata": {
            "tags": []
          },
          "execution_count": 3
        }
      ]
    },
    {
      "cell_type": "markdown",
      "metadata": {
        "id": "ARExxyqONfIK",
        "colab_type": "text"
      },
      "source": [
        "#모델 만들기"
      ]
    },
    {
      "cell_type": "code",
      "metadata": {
        "id": "dz008iV85Oi3",
        "colab_type": "code",
        "colab": {}
      },
      "source": [
        "def create_model():\n",
        "    inputs=Input((40, 40, 10))\n",
        "    \n",
        "    conv0=Conv2D(256, kernel_size=1, strides=1, padding='same', activation='relu')(inputs)\n",
        "    conv0=Dropout(0.5)(conv0)\n",
        "    \n",
        "    bn=BatchNormalization()(conv0)\n",
        "    conv=Conv2D(128, kernel_size=2, strides=1, padding='same', activation='relu')(bn)\n",
        "    conv=Dropout(0.5)(conv)\n",
        "    concat=concatenate([conv0, conv], axis=3)\n",
        "    \n",
        "    bn=BatchNormalization()(concat)\n",
        "    conv=Conv2D(64, kernel_size=3, strides=1, padding='same', activation='relu')(bn)\n",
        "    conv=Dropout(0.5)(conv)\n",
        "    concat=concatenate([concat, conv], axis=3)\n",
        "\n",
        "    for i in range(5):\n",
        "        bn=BatchNormalization()(concat)\n",
        "        conv=Conv2D(32, kernel_size=3, strides=1, padding='same', activation='relu')(bn)\n",
        "        conv=Dropout(0.5)(conv)\n",
        "        concat=concatenate([concat, conv], axis=3)\n",
        "    \n",
        "    bn=BatchNormalization()(concat)\n",
        "    outputs=Conv2D(1, kernel_size=1, strides=1, padding='same', activation='relu')(bn)\n",
        "    \n",
        "    model=Model(inputs=inputs, outputs=outputs)\n",
        "    \n",
        "    return model"
      ],
      "execution_count": 0,
      "outputs": []
    },
    {
      "cell_type": "code",
      "metadata": {
        "id": "i_NhbS4s09p_",
        "colab_type": "code",
        "colab": {}
      },
      "source": [
        "from sklearn.metrics import f1_score\n",
        "\n",
        "def mae(y_true, y_pred) :\n",
        "    y_true, y_pred = np.array(y_true), np.array(y_pred)\n",
        "    y_true = y_true.reshape(1, -1)[0]\n",
        "    y_pred = y_pred.reshape(1, -1)[0]\n",
        "    over_threshold = y_true >= 0.1\n",
        "    return np.mean(np.abs(y_true[over_threshold] - y_pred[over_threshold]))\n",
        "\n",
        "def fscore(y_true, y_pred):\n",
        "    y_true, y_pred = np.array(y_true), np.array(y_pred)\n",
        "    y_true = y_true.reshape(1, -1)[0]\n",
        "    y_pred = y_pred.reshape(1, -1)[0]\n",
        "    remove_NAs = y_true >= 0\n",
        "    y_true = np.where(y_true[remove_NAs] >= 0.1, 1, 0)\n",
        "    y_pred = np.where(y_pred[remove_NAs] >= 0.1, 1, 0)\n",
        "    return(f1_score(y_true, y_pred))\n",
        "\n",
        "def maeOverFscore(y_true, y_pred):\n",
        "    return mae(y_true, y_pred) / (fscore(y_true, y_pred) + 1e-07)\n",
        "\n",
        "def fscore_keras(y_true, y_pred):\n",
        "    score = tf.py_function(func=fscore, inp=[y_true, y_pred], Tout=tf.float32, name='fscore_keras')\n",
        "    return score\n",
        "\n",
        "def maeOverFscore_keras(y_true, y_pred):\n",
        "    score = tf.py_function(func=maeOverFscore, inp=[y_true, y_pred], Tout=tf.float32,  name='custom_mse') \n",
        "    return score"
      ],
      "execution_count": 0,
      "outputs": []
    },
    {
      "cell_type": "markdown",
      "metadata": {
        "colab_type": "text",
        "id": "nWrybUnXIts7"
      },
      "source": [
        "## 데이터 제네레이터 만들기"
      ]
    },
    {
      "cell_type": "code",
      "metadata": {
        "id": "pIss9e7SHdze",
        "colab_type": "code",
        "colab": {}
      },
      "source": [
        "from sklearn.model_selection import train_test_split\n",
        "train, val = train_test_split(train, test_size=0.025, random_state=7777)\n",
        "train = np.concatenate((train[:, :, :, :10], train[:, :, :, -1:]), axis=3)  \n",
        "def preprocess(data):\n",
        "    # Normalize sensor data\n",
        "    #data[:,:,:,:9] = scaler.transform(data[:,:,:,:9].reshape(-1, 9)).reshape(-1, 40, 40, 9)\n",
        "\n",
        "    # Land type\n",
        "    land_type_data = data[:,:,:,9]\n",
        "    data[:,:,:,9] = np.where(land_type_data//100 == 2, 0.7,\n",
        "                             np.where(land_type_data//100 == 3, 0.3,\n",
        "                                      land_type_data//100))\n",
        "    return data\n",
        "# -9999를 포함한 이미지, 강수인 지역이 300픽셀 미만인 이미지 제거\n",
        "# land type이 ocean이 아닌 이미지 살리기\n",
        "is_valid = (train[:,:,:,-1].reshape(-1, 1600) >= 0.1).sum(axis=1) >= 300\n",
        "is_valid = is_valid | ((train[:,:,:,9].reshape(-1, 1600) >= 100).sum(axis=1) >= 300)\n",
        "is_valid = is_valid & ((train[:,:,:,-1].reshape(-1, 1600) < 0).sum(axis=1) == 0)\n",
        "train = train[is_valid]  # (-1, 40, 40, 15)\n",
        "train.shape\n",
        "train = preprocess(train)\n",
        "val = preprocess(val)"
      ],
      "execution_count": 0,
      "outputs": []
    },
    {
      "cell_type": "code",
      "metadata": {
        "id": "mSD50xCMQ6yM",
        "colab_type": "code",
        "colab": {}
      },
      "source": [
        "import tensorflow as tf, tensorflow.keras.backend as K\n",
        "import math\n",
        "\n",
        "def get_mat():\n",
        "    # returns 3x3 transformmatrix which transforms indicies\n",
        "    # CONVERT DEGREES TO RADIANS\n",
        "    rotation = tf.random.uniform([1], minval=0, maxval=4, dtype=tf.dtypes.int32, seed=None, name=None) / 2 * math.pi\n",
        "\n",
        "    # ROTATION MATRIX\n",
        "    rotation = tf.random.uniform([1], minval=0, maxval=4, dtype=tf.dtypes.int32, seed=None, name=None)\n",
        "    rotation = tf.cast(rotation, 'float32')\n",
        "    rotation = rotation * math.pi / 2.\n",
        "    c1 = tf.math.cos(rotation)\n",
        "    s1 = tf.math.sin(rotation)\n",
        "    one = tf.constant([1],dtype='float32')\n",
        "    zero = tf.constant([0],dtype='float32')\n",
        "    rotation_matrix = tf.reshape( tf.concat([c1,s1,zero, -s1,c1,zero, zero,zero,one],axis=0),[3,3] )\n",
        "\n",
        "    # TRANSPOSE MATRIX \n",
        "    de_t = tf.random.uniform([1], minval = 0, maxval = 2, dtype = tf.int32)\n",
        "    de_t = tf.cast(de_t, 'float32')\n",
        "    forty = tf.constant([40],dtype='float32')\n",
        "    transpose_matrix = tf.reshape( tf.concat([1 - de_t, -de_t, forty*de_t, -de_t, 1 - de_t, forty*de_t, zero, zero, zero], axis = 0),[3,3])\n",
        "    \n",
        "    return rotation_matrix#K.dot(rotation_matrix, transpose_matrix)\n",
        "\n",
        "def transform(train_x,train_y):\n",
        "    # input image - is one image of size [dim,dim,3] not a batch of [b,dim,dim,3]\n",
        "    # output - image randomly rotated, sheared, zoomed, and shifted\n",
        "    DIM = 40\n",
        "\n",
        "    # GET TRANSFORMATION MATRIX\n",
        "    m = get_mat() \n",
        "\n",
        "    x = tf.repeat( tf.range(DIM//2,-DIM//2,-1), DIM )\n",
        "    y = tf.tile( tf.range(-DIM//2,DIM//2),[DIM] )\n",
        "    z = tf.ones([DIM*DIM],dtype='int32')\n",
        "    idx = tf.stack( [x,y,z] )\n",
        "    \n",
        "    # ROTATE DESTINATION PIXELS ONTO ORIGIN PIXELS\n",
        "    idx2 = K.dot(m,tf.cast(idx,dtype='float32'))\n",
        "    idx2 = K.cast(idx2,dtype='int32')\n",
        "    idx2 = K.clip(idx2,-DIM//2+1,DIM//2)\n",
        "    \n",
        "    # FIND ORIGIN PIXEL VALUES           \n",
        "    idx3 = tf.stack( [DIM//2-idx2[0,], DIM//2-1+idx2[1,]] )\n",
        "\n",
        "    train_x_img = tf.gather_nd(train_x,tf.transpose(idx3))\n",
        "    train_y_img = tf.gather_nd(train_y,tf.transpose(idx3))\n",
        "\n",
        "    return tf.reshape(train_x_img,[DIM,DIM,10]),tf.reshape(train_y_img,[DIM,DIM,1])\n",
        "\n",
        "def get_training_dataset(dataset,batch_size = None):\n",
        "    dataset = dataset.with_options(tf.data.Options())\n",
        "    dataset = dataset.map(transform, num_parallel_calls=AUTO)\n",
        "    dataset = dataset.repeat() # the training dataset must repeat for several epochs\n",
        "    dataset = dataset.shuffle(2048)\n",
        "    dataset = dataset.batch(batch_size)\n",
        "    dataset = dataset.prefetch(AUTO) # prefetch next batch while training (autotune prefetch buffer size)\n",
        "    return dataset\n",
        "\n",
        "def get_validation_dataset(dataset,batch_size = None):\n",
        "    dataset = dataset.batch(batch_size)\n",
        "    dataset = dataset.cache()\n",
        "    dataset = dataset.prefetch(AUTO) # prefetch next batch while training (autotune prefetch buffer size)\n",
        "    return dataset"
      ],
      "execution_count": 0,
      "outputs": []
    },
    {
      "cell_type": "code",
      "metadata": {
        "id": "_ATgxUBheqYr",
        "colab_type": "code",
        "colab": {}
      },
      "source": [
        " model = tf.keras.models.load_model('/content/model_trainonly_4.h5')"
      ],
      "execution_count": 0,
      "outputs": []
    },
    {
      "cell_type": "code",
      "metadata": {
        "id": "uZPN2JA6h4ym",
        "colab_type": "code",
        "outputId": "b31ace90-72f1-4af7-c68a-553ded43a08e",
        "colab": {
          "base_uri": "https://localhost:8080/",
          "height": 34
        }
      },
      "source": [
        "maeOverFscore(model.predict(train[3000:6000,:,:,:-1]),train[3000:6000,:,:,-1])"
      ],
      "execution_count": 0,
      "outputs": [
        {
          "output_type": "execute_result",
          "data": {
            "text/plain": [
              "5.742136346415955"
            ]
          },
          "metadata": {
            "tags": []
          },
          "execution_count": 27
        }
      ]
    },
    {
      "cell_type": "code",
      "metadata": {
        "id": "MdNjMuxwO6HY",
        "colab_type": "code",
        "outputId": "345f066e-1271-42e2-d58a-fc9c184dd7a8",
        "colab": {
          "base_uri": "https://localhost:8080/",
          "height": 479
        }
      },
      "source": [
        "x_train =train[:1000,:,:,:-1]\n",
        "y_train = train[:1000,:,:,-1].reshape(-1,40,40,1)\n",
        "\n",
        "train_batches = tf.data.Dataset.from_tensor_slices((x_train, y_train))\n",
        "train_batches = get_training_dataset(train_batches, batch_size = 8)\n",
        "\n",
        "n = 0 \n",
        "for (img_x,label) in train_batches:\n",
        "    plt.figure(figsize=(15,int(15*2/4)))\n",
        "    print(img_x.shape)\n",
        "    if n == 1:\n",
        "        for j in range(8):\n",
        "            plt.subplot(4,4,j+1)\n",
        "            plt.axis('off')\n",
        "            plt.imshow(img_x[j,:,:,4])\n",
        "    if n == 2:\n",
        "        for j in range(8):\n",
        "            plt.subplot(4,4,j+1+8)\n",
        "            plt.axis('off')\n",
        "            plt.imshow(img_x[j,:,:,4])\n",
        "    if n == 2:\n",
        "        break\n",
        "    n = n+1"
      ],
      "execution_count": 27,
      "outputs": [
        {
          "output_type": "stream",
          "text": [
            "(8, 40, 40, 10)\n",
            "(8, 40, 40, 10)\n",
            "(8, 40, 40, 10)\n"
          ],
          "name": "stdout"
        },
        {
          "output_type": "display_data",
          "data": {
            "text/plain": [
              "<Figure size 1080x504 with 0 Axes>"
            ]
          },
          "metadata": {
            "tags": []
          }
        },
        {
          "output_type": "display_data",
          "data": {
            "image/png": "[encoded data removed]",
            "text/plain": [
              "<Figure size 1080x504 with 8 Axes>"
            ]
          },
          "metadata": {
            "tags": [],
            "needs_background": "dark"
          }
        },
        {
          "output_type": "display_data",
          "data": {
            "image/png": "[encoded data removed]",
            "text/plain": [
              "<Figure size 1080x504 with 8 Axes>"
            ]
          },
          "metadata": {
            "tags": [],
            "needs_background": "dark"
          }
        }
      ]
    },
    {
      "cell_type": "code",
      "metadata": {
        "id": "pXrECir1V2xy",
        "colab_type": "code",
        "colab": {}
      },
      "source": [
        ""
      ],
      "execution_count": 0,
      "outputs": []
    },
    {
      "cell_type": "code",
      "metadata": {
        "id": "gknyF63eVKPm",
        "colab_type": "code",
        "colab": {}
      },
      "source": [
        "import pandas as pd\n",
        "import numpy as np\n",
        "import random\n",
        "import sys\n",
        "import gc\n",
        "from sklearn.model_selection import train_test_split\n",
        "from sklearn.preprocessing import StandardScaler\n",
        "import tensorflow as tf\n",
        "from tensorflow.keras.layers import Conv2D, Conv2DTranspose, Dropout, MaxPooling2D, BatchNormalization, concatenate, Input\n",
        "from tensorflow.keras import Model\n",
        "\n",
        "test = np.load('/content/drive/My Drive/2020 Kaggle Study/data/test.npy')  # float64\n",
        "gmi_preci = np.load('/content/drive/My Drive/2020 Kaggle Study/data/gmi_preci/near2.npy')  # float32\n",
        "train[:, :, :, -1] = gmi_preci.reshape(-1, 40, 40)\n",
        "train, val = train_test_split(train, test_size=0.025, random_state=7777)"
      ],
      "execution_count": 0,
      "outputs": []
    },
    {
      "cell_type": "code",
      "metadata": {
        "id": "giq54aLlVKNY",
        "colab_type": "code",
        "colab": {
          "base_uri": "https://localhost:8080/",
          "height": 34
        },
        "outputId": "6def0eb0-3058-4de7-e742-b46e31236b01"
      },
      "source": [
        "scaler = StandardScaler()\n",
        "scaler.fit(train[:,:,:,:9].reshape(-1, 9))"
      ],
      "execution_count": 6,
      "outputs": [
        {
          "output_type": "execute_result",
          "data": {
            "text/plain": [
              "StandardScaler(copy=True, with_mean=True, with_std=True)"
            ]
          },
          "metadata": {
            "tags": []
          },
          "execution_count": 6
        }
      ]
    },
    {
      "cell_type": "code",
      "metadata": {
        "id": "v3yDJdL4VKLH",
        "colab_type": "code",
        "colab": {}
      },
      "source": [
        "def preprocess(data):\n",
        "    # Normalize sensor data\n",
        "    data[:,:,:,:9] = scaler.transform(data[:,:,:,:9].reshape(-1, 9)).reshape(-1, 40, 40, 9)\n",
        "\n",
        "    # Land type\n",
        "    land_type_data = data[:,:,:,9]\n",
        "    data[:,:,:,9] = np.where(land_type_data//100 == 2, 0.7,\n",
        "                             np.where(land_type_data//100 == 3, 0.3,\n",
        "                                      land_type_data//100))\n",
        "    return data"
      ],
      "execution_count": 0,
      "outputs": []
    },
    {
      "cell_type": "code",
      "metadata": {
        "id": "XKYnRoHWVKJQ",
        "colab_type": "code",
        "colab": {}
      },
      "source": [
        "is_valid = (train[:,:,:,-1].reshape(-1, 1600) < 0).sum(axis=1) == 0\n",
        "is_valid = is_valid & ((train[:,:,:,-1].reshape(-1, 1600) >= 0.1).sum(axis=1) >= 50)\n",
        "train = train[is_valid]  # (-1, 40, 40, 15)"
      ],
      "execution_count": 0,
      "outputs": []
    },
    {
      "cell_type": "code",
      "metadata": {
        "id": "jqfZho93VKHF",
        "colab_type": "code",
        "colab": {}
      },
      "source": [
        "train = preprocess(train)\n",
        "val = preprocess(val)"
      ],
      "execution_count": 0,
      "outputs": []
    },
    {
      "cell_type": "code",
      "metadata": {
        "id": "uSCP-RNmWNSL",
        "colab_type": "code",
        "colab": {}
      },
      "source": [
        "\n",
        "from sklearn.metrics import f1_score\n",
        "\n",
        "def mae(y_true, y_pred) :\n",
        "    y_true, y_pred = np.array(y_true), np.array(y_pred)\n",
        "    y_true = y_true.reshape(1, -1)[0]\n",
        "    y_pred = y_pred.reshape(1, -1)[0]\n",
        "    over_threshold = y_true >= 0.1\n",
        "    return np.mean(np.abs(y_true[over_threshold] - y_pred[over_threshold]))\n",
        "\n",
        "def fscore(y_true, y_pred):\n",
        "    y_true, y_pred = np.array(y_true), np.array(y_pred)\n",
        "    y_true = y_true.reshape(1, -1)[0]\n",
        "    y_pred = y_pred.reshape(1, -1)[0]\n",
        "    remove_NAs = y_true >= 0\n",
        "    y_true = np.where(y_true[remove_NAs] >= 0.1, 1, 0)\n",
        "    y_pred = np.where(y_pred[remove_NAs] >= 0.1, 1, 0)\n",
        "    return(f1_score(y_true, y_pred))\n",
        "\n",
        "def maeOverFscore(y_true, y_pred):\n",
        "    return mae(y_true, y_pred) / (fscore(y_true, y_pred) + 1e-07)\n",
        "\n",
        "def fscore_keras(y_true, y_pred):\n",
        "    score = tf.py_function(func=fscore, inp=[y_true, y_pred], Tout=tf.float32, name='fscore_keras')\n",
        "    return score\n",
        "\n",
        "def maeOverFscore_keras(y_true, y_pred):\n",
        "    score = tf.py_function(func=maeOverFscore, inp=[y_true, y_pred], Tout=tf.float32,  name='custom_mse') \n",
        "    return score\n",
        "def create_model():\n",
        "    inputs=Input((40, 40, 10))\n",
        "    \n",
        "    bn=BatchNormalization()(inputs)\n",
        "    conv0=Conv2D(256, kernel_size=1, strides=1, padding='same', activation='relu')(bn)\n",
        "    \n",
        "    bn=BatchNormalization()(conv0)\n",
        "    conv=Conv2D(128, kernel_size=2, strides=1, padding='same', activation='relu')(bn)\n",
        "    concat=concatenate([conv0, conv], axis=3)\n",
        "    \n",
        "    bn=BatchNormalization()(concat)\n",
        "    conv=Conv2D(64, kernel_size=3, strides=1, padding='same', activation='relu')(bn)\n",
        "    concat=concatenate([concat, conv], axis=3)\n",
        "\n",
        "    for i in range(5):\n",
        "        bn=BatchNormalization()(concat)\n",
        "        conv=Conv2D(32, kernel_size=3, strides=1, padding='same', activation='relu')(bn)\n",
        "        concat=concatenate([concat, conv], axis=3)\n",
        "    \n",
        "    bn=BatchNormalization()(concat)\n",
        "    outputs=Conv2D(1, kernel_size=1, strides=1, padding='same', activation='relu')(bn)\n",
        "    \n",
        "    model=Model(inputs=inputs, outputs=outputs)\n",
        "    \n",
        "    return model"
      ],
      "execution_count": 0,
      "outputs": []
    },
    {
      "cell_type": "code",
      "metadata": {
        "id": "O7WSmds7cOGW",
        "colab_type": "code",
        "colab": {}
      },
      "source": [
        "import warnings\n",
        "warnings.filterwarnings('ignore')"
      ],
      "execution_count": 0,
      "outputs": []
    },
    {
      "cell_type": "code",
      "metadata": {
        "id": "Rfo_NG0nt1SR",
        "colab_type": "code",
        "colab": {}
      },
      "source": [
        "def custom_mae(y_true, y_pred):\n",
        "    y_error = y_pred - y_true\n",
        "    bool_idx = tf.less_equal(0.1,y_true)\n",
        "    len_mae = tf.reduce_sum(tf.cast(bool_idx, tf.float32))\n",
        "    socre = tf.math.abs(y_error)\n",
        "    mae = tf.keras.backend.switch(bool_idx, socre, 0)\n",
        "    return tf.divide(tf.math.reduce_sum(mae), len_mae)"
      ],
      "execution_count": 0,
      "outputs": []
    },
    {
      "cell_type": "code",
      "metadata": {
        "id": "wOSVIK5Gt3Go",
        "colab_type": "code",
        "colab": {
          "base_uri": "https://localhost:8080/",
          "height": 34
        },
        "outputId": "52ceca2a-97f5-4026-abab-d62eb76c7eb5"
      },
      "source": [
        "tf.less_equal(y_true, 0.1)"
      ],
      "execution_count": 43,
      "outputs": [
        {
          "output_type": "execute_result",
          "data": {
            "text/plain": [
              "<tf.Tensor: shape=(4,), dtype=bool, numpy=array([False, False, False, False])>"
            ]
          },
          "metadata": {
            "tags": []
          },
          "execution_count": 43
        }
      ]
    },
    {
      "cell_type": "code",
      "metadata": {
        "id": "ZzUdx1Ett3EP",
        "colab_type": "code",
        "colab": {}
      },
      "source": [
        "y_true = tf.convert_to_tensor([0.2,0.5,0.7,0.5])\n",
        "y_pred = tf.convert_to_tensor([0.2,0.3,0.4,0.5])"
      ],
      "execution_count": 0,
      "outputs": []
    },
    {
      "cell_type": "code",
      "metadata": {
        "id": "IfVk2oGruQ9y",
        "colab_type": "code",
        "colab": {
          "base_uri": "https://localhost:8080/",
          "height": 34
        },
        "outputId": "e908dc91-cef9-4fa3-b6c6-1d8edf181a55"
      },
      "source": [
        "### tensor로 score matric 구현\n",
        "\n",
        "def f1_metric(y_true, y_pred):\n",
        "    true_positives = K.sum(K.round(K.clip(y_true * y_pred, 0, 1)))\n",
        "    possible_positives = K.sum(K.round(K.clip(y_true, 0, 1)))\n",
        "    predicted_positives = K.sum(K.round(K.clip(y_pred, 0, 1)))\n",
        "    precision = true_positives / (predicted_positives + K.epsilon())\n",
        "    recall = true_positives / (possible_positives + K.epsilon())\n",
        "    f1_val = 2*(precision*recall)/(precision+recall+K.epsilon())\n",
        "    return f1_val\n",
        "\n",
        "\n",
        "def custom_mae(y_true, y_pred):\n",
        "    y_error = y_pred - y_true\n",
        "    bool_idx = tf.less_equal(0.1,y_true)\n",
        "    len_mae = tf.reduce_sum(tf.cast(bool_idx, tf.float32))\n",
        "    socre = tf.math.abs(y_error)\n",
        "    mae = tf.keras.backend.switch(bool_idx, socre, 0)\n",
        "    return tf.divide(tf.math.reduce_sum(mae), len_mae)\n",
        "\n",
        "\n",
        "def maeOverFscore(y_true, y_pred):\n",
        "    f1_score = f1_metric(y_true, y_pred) + 1e-07\n",
        "    return tf.divide(custom_mae(y_true, y_pred), f1_score)"
      ],
      "execution_count": 45,
      "outputs": [
        {
          "output_type": "execute_result",
          "data": {
            "text/plain": [
              "<tf.Tensor: shape=(), dtype=float32, numpy=0.12499999>"
            ]
          },
          "metadata": {
            "tags": []
          },
          "execution_count": 45
        }
      ]
    },
    {
      "cell_type": "code",
      "metadata": {
        "id": "6iKnoynYWNP6",
        "colab_type": "code",
        "colab": {
          "base_uri": "https://localhost:8080/",
          "height": 1000
        },
        "outputId": "b66acd7f-0aa3-4c12-ffe3-34e95a41c20e"
      },
      "source": [
        "import tensorflow as tf\n",
        "import os\n",
        "import tensorflow_datasets as tfds\n",
        "from sklearn.model_selection import KFold\n",
        "AUTOTUNE = tf.data.experimental.AUTOTUNE\n",
        "AUTO = tf.data.experimental.AUTOTUNE\n",
        "\n",
        "k_fold = KFold(n_splits=5, shuffle=True, random_state=7777)\n",
        "\n",
        "\n",
        "model_number = 0\n",
        "histories = []\n",
        "for train_idx, val_idx in k_fold.split(train):\n",
        "    print(f'Fold{model_number + 1}')\n",
        "    x_val, y_val = train[val_idx, :, :, :10], train[val_idx, :, :, -1]\n",
        "    models = []\n",
        "    ### TPU 할당 및 초기화-------------------\n",
        "    resolver = tf.distribute.cluster_resolver.TPUClusterResolver(tpu='grpc://' + os.environ['COLAB_TPU_ADDR'])\n",
        "    tf.config.experimental_connect_to_cluster(resolver)\n",
        "    # This is the TPU initialization code that has to be at the beginning.\n",
        "    tf.tpu.experimental.initialize_tpu_system(resolver)\n",
        "    strategy = tf.distribute.experimental.TPUStrategy(resolver)\n",
        "    ### 모델 생성 및 compile-------------------\n",
        "    with strategy.scope():\n",
        "        model = create_model()\n",
        "        model.compile(optimizer = 'adam',loss = 'mae',\n",
        "        metrics=[maeOverFscore, f1_metric, custom_mae]\n",
        "        )\n",
        "    ### 콜백 생성-------------------\n",
        "    callbacks_list = [\n",
        "        tf.keras.callbacks.ReduceLROnPlateau(\n",
        "            monitor='val_loss',\n",
        "            patience=3,\n",
        "            factor=0.8\n",
        "        ),\n",
        "\n",
        "        tf.keras.callbacks.ModelCheckpoint(\n",
        "            filepath = f'model_{model_number}.h5',\n",
        "            monitor='val_maeOverFscore',\n",
        "            save_best_only=True\n",
        "        )\n",
        "    ]\n",
        "    # batch_dataset 만들기------------------\n",
        "    batch_size = 64\n",
        "    #train_batch\n",
        "    train_dataset = tf.data.Dataset.from_tensor_slices((train[train_idx, :, :, :10],\n",
        "                                                        train[train_idx, :, :, -1]))\n",
        "    train_dataset = get_training_dataset(train_dataset,\n",
        "                                         batch_size = batch_size)\n",
        "    #validation_batch\n",
        "    validation_dataset = tf.data.Dataset.from_tensor_slices((train[val_idx, :, :, :10],\n",
        "                                        train[val_idx, :, :, -1]))\n",
        "    \n",
        "    validation_dataset = get_validation_dataset(validation_dataset,\n",
        "                                                batch_size = batch_size)\n",
        "    ### model.fit-------------------\n",
        "    history = model.fit(train_dataset, epochs=50,\n",
        "            #batch_size=batch_size,\n",
        "            steps_per_epoch = len(train[train_idx, :, :, :10])*8 // batch_size,\n",
        "            validation_data=validation_dataset,\n",
        "            callbacks=callbacks_list)\n",
        "    \n",
        "    histories.append(history)\n",
        "    \n",
        "    model_number = model_number + 1\n",
        "    ### model append -------------------"
      ],
      "execution_count": 56,
      "outputs": [
        {
          "output_type": "stream",
          "text": [
            "Fold1\n",
            "WARNING:tensorflow:TPU system grpc://10.23.190.170:8470 has already been initialized. Reinitializing the TPU can cause previously created variables on TPU to be lost.\n"
          ],
          "name": "stdout"
        },
        {
          "output_type": "stream",
          "text": [
            "WARNING:tensorflow:TPU system grpc://10.23.190.170:8470 has already been initialized. Reinitializing the TPU can cause previously created variables on TPU to be lost.\n"
          ],
          "name": "stderr"
        },
        {
          "output_type": "stream",
          "text": [
            "INFO:tensorflow:Initializing the TPU system: grpc://10.23.190.170:8470\n"
          ],
          "name": "stdout"
        },
        {
          "output_type": "stream",
          "text": [
            "INFO:tensorflow:Initializing the TPU system: grpc://10.23.190.170:8470\n"
          ],
          "name": "stderr"
        },
        {
          "output_type": "stream",
          "text": [
            "INFO:tensorflow:Clearing out eager caches\n"
          ],
          "name": "stdout"
        },
        {
          "output_type": "stream",
          "text": [
            "INFO:tensorflow:Clearing out eager caches\n"
          ],
          "name": "stderr"
        },
        {
          "output_type": "stream",
          "text": [
            "INFO:tensorflow:Finished initializing TPU system.\n"
          ],
          "name": "stdout"
        },
        {
          "output_type": "stream",
          "text": [
            "INFO:tensorflow:Finished initializing TPU system.\n"
          ],
          "name": "stderr"
        },
        {
          "output_type": "stream",
          "text": [
            "INFO:tensorflow:Found TPU system:\n"
          ],
          "name": "stdout"
        },
        {
          "output_type": "stream",
          "text": [
            "INFO:tensorflow:Found TPU system:\n"
          ],
          "name": "stderr"
        },
        {
          "output_type": "stream",
          "text": [
            "INFO:tensorflow:*** Num TPU Cores: 8\n"
          ],
          "name": "stdout"
        },
        {
          "output_type": "stream",
          "text": [
            "INFO:tensorflow:*** Num TPU Cores: 8\n"
          ],
          "name": "stderr"
        },
        {
          "output_type": "stream",
          "text": [
            "INFO:tensorflow:*** Num TPU Workers: 1\n"
          ],
          "name": "stdout"
        },
        {
          "output_type": "stream",
          "text": [
            "INFO:tensorflow:*** Num TPU Workers: 1\n"
          ],
          "name": "stderr"
        },
        {
          "output_type": "stream",
          "text": [
            "INFO:tensorflow:*** Num TPU Cores Per Worker: 8\n"
          ],
          "name": "stdout"
        },
        {
          "output_type": "stream",
          "text": [
            "INFO:tensorflow:*** Num TPU Cores Per Worker: 8\n"
          ],
          "name": "stderr"
        },
        {
          "output_type": "stream",
          "text": [
            "INFO:tensorflow:*** Available Device: _DeviceAttributes(/job:localhost/replica:0/task:0/device:CPU:0, CPU, 0, 0)\n"
          ],
          "name": "stdout"
        },
        {
          "output_type": "stream",
          "text": [
            "INFO:tensorflow:*** Available Device: _DeviceAttributes(/job:localhost/replica:0/task:0/device:CPU:0, CPU, 0, 0)\n"
          ],
          "name": "stderr"
        },
        {
          "output_type": "stream",
          "text": [
            "INFO:tensorflow:*** Available Device: _DeviceAttributes(/job:localhost/replica:0/task:0/device:XLA_CPU:0, XLA_CPU, 0, 0)\n"
          ],
          "name": "stdout"
        },
        {
          "output_type": "stream",
          "text": [
            "INFO:tensorflow:*** Available Device: _DeviceAttributes(/job:localhost/replica:0/task:0/device:XLA_CPU:0, XLA_CPU, 0, 0)\n"
          ],
          "name": "stderr"
        },
        {
          "output_type": "stream",
          "text": [
            "INFO:tensorflow:*** Available Device: _DeviceAttributes(/job:worker/replica:0/task:0/device:CPU:0, CPU, 0, 0)\n"
          ],
          "name": "stdout"
        },
        {
          "output_type": "stream",
          "text": [
            "INFO:tensorflow:*** Available Device: _DeviceAttributes(/job:worker/replica:0/task:0/device:CPU:0, CPU, 0, 0)\n"
          ],
          "name": "stderr"
        },
        {
          "output_type": "stream",
          "text": [
            "INFO:tensorflow:*** Available Device: _DeviceAttributes(/job:worker/replica:0/task:0/device:TPU:0, TPU, 0, 0)\n"
          ],
          "name": "stdout"
        },
        {
          "output_type": "stream",
          "text": [
            "INFO:tensorflow:*** Available Device: _DeviceAttributes(/job:worker/replica:0/task:0/device:TPU:0, TPU, 0, 0)\n"
          ],
          "name": "stderr"
        },
        {
          "output_type": "stream",
          "text": [
            "INFO:tensorflow:*** Available Device: _DeviceAttributes(/job:worker/replica:0/task:0/device:TPU:1, TPU, 0, 0)\n"
          ],
          "name": "stdout"
        },
        {
          "output_type": "stream",
          "text": [
            "INFO:tensorflow:*** Available Device: _DeviceAttributes(/job:worker/replica:0/task:0/device:TPU:1, TPU, 0, 0)\n"
          ],
          "name": "stderr"
        },
        {
          "output_type": "stream",
          "text": [
            "INFO:tensorflow:*** Available Device: _DeviceAttributes(/job:worker/replica:0/task:0/device:TPU:2, TPU, 0, 0)\n"
          ],
          "name": "stdout"
        },
        {
          "output_type": "stream",
          "text": [
            "INFO:tensorflow:*** Available Device: _DeviceAttributes(/job:worker/replica:0/task:0/device:TPU:2, TPU, 0, 0)\n"
          ],
          "name": "stderr"
        },
        {
          "output_type": "stream",
          "text": [
            "INFO:tensorflow:*** Available Device: _DeviceAttributes(/job:worker/replica:0/task:0/device:TPU:3, TPU, 0, 0)\n"
          ],
          "name": "stdout"
        },
        {
          "output_type": "stream",
          "text": [
            "INFO:tensorflow:*** Available Device: _DeviceAttributes(/job:worker/replica:0/task:0/device:TPU:3, TPU, 0, 0)\n"
          ],
          "name": "stderr"
        },
        {
          "output_type": "stream",
          "text": [
            "INFO:tensorflow:*** Available Device: _DeviceAttributes(/job:worker/replica:0/task:0/device:TPU:4, TPU, 0, 0)\n"
          ],
          "name": "stdout"
        },
        {
          "output_type": "stream",
          "text": [
            "INFO:tensorflow:*** Available Device: _DeviceAttributes(/job:worker/replica:0/task:0/device:TPU:4, TPU, 0, 0)\n"
          ],
          "name": "stderr"
        },
        {
          "output_type": "stream",
          "text": [
            "INFO:tensorflow:*** Available Device: _DeviceAttributes(/job:worker/replica:0/task:0/device:TPU:5, TPU, 0, 0)\n"
          ],
          "name": "stdout"
        },
        {
          "output_type": "stream",
          "text": [
            "INFO:tensorflow:*** Available Device: _DeviceAttributes(/job:worker/replica:0/task:0/device:TPU:5, TPU, 0, 0)\n"
          ],
          "name": "stderr"
        },
        {
          "output_type": "stream",
          "text": [
            "INFO:tensorflow:*** Available Device: _DeviceAttributes(/job:worker/replica:0/task:0/device:TPU:6, TPU, 0, 0)\n"
          ],
          "name": "stdout"
        },
        {
          "output_type": "stream",
          "text": [
            "INFO:tensorflow:*** Available Device: _DeviceAttributes(/job:worker/replica:0/task:0/device:TPU:6, TPU, 0, 0)\n"
          ],
          "name": "stderr"
        },
        {
          "output_type": "stream",
          "text": [
            "INFO:tensorflow:*** Available Device: _DeviceAttributes(/job:worker/replica:0/task:0/device:TPU:7, TPU, 0, 0)\n"
          ],
          "name": "stdout"
        },
        {
          "output_type": "stream",
          "text": [
            "INFO:tensorflow:*** Available Device: _DeviceAttributes(/job:worker/replica:0/task:0/device:TPU:7, TPU, 0, 0)\n"
          ],
          "name": "stderr"
        },
        {
          "output_type": "stream",
          "text": [
            "INFO:tensorflow:*** Available Device: _DeviceAttributes(/job:worker/replica:0/task:0/device:TPU_SYSTEM:0, TPU_SYSTEM, 0, 0)\n"
          ],
          "name": "stdout"
        },
        {
          "output_type": "stream",
          "text": [
            "INFO:tensorflow:*** Available Device: _DeviceAttributes(/job:worker/replica:0/task:0/device:TPU_SYSTEM:0, TPU_SYSTEM, 0, 0)\n"
          ],
          "name": "stderr"
        },
        {
          "output_type": "stream",
          "text": [
            "INFO:tensorflow:*** Available Device: _DeviceAttributes(/job:worker/replica:0/task:0/device:XLA_CPU:0, XLA_CPU, 0, 0)\n"
          ],
          "name": "stdout"
        },
        {
          "output_type": "stream",
          "text": [
            "INFO:tensorflow:*** Available Device: _DeviceAttributes(/job:worker/replica:0/task:0/device:XLA_CPU:0, XLA_CPU, 0, 0)\n"
          ],
          "name": "stderr"
        },
        {
          "output_type": "stream",
          "text": [
            "Epoch 1/50\n",
            "3219/3219 [==============================] - 139s 43ms/step - f1_metric: 0.6854 - maeOverFscore: 1.8844 - custom_mae: 1.2948 - loss: 0.2209 - val_f1_metric: 0.6998 - val_maeOverFscore: 1.7665 - val_custom_mae: 1.2449 - val_loss: 0.2125 - lr: 0.0010\n",
            "Epoch 2/50\n",
            "3219/3219 [==============================] - 132s 41ms/step - f1_metric: 0.7023 - maeOverFscore: 1.7110 - custom_mae: 1.2146 - loss: 0.2050 - val_f1_metric: 0.6996 - val_maeOverFscore: 1.7276 - val_custom_mae: 1.2191 - val_loss: 0.2078 - lr: 0.0010\n",
            "Epoch 3/50\n",
            "3219/3219 [==============================] - 132s 41ms/step - f1_metric: 0.7075 - maeOverFscore: 1.6594 - custom_mae: 1.1877 - loss: 0.2005 - val_f1_metric: 0.6997 - val_maeOverFscore: 1.7537 - val_custom_mae: 1.2402 - val_loss: 0.2101 - lr: 0.0010\n",
            "Epoch 4/50\n",
            "3219/3219 [==============================] - 133s 41ms/step - f1_metric: 0.7119 - maeOverFscore: 1.6227 - custom_mae: 1.1691 - loss: 0.1975 - val_f1_metric: 0.6993 - val_maeOverFscore: 1.6978 - val_custom_mae: 1.1987 - val_loss: 0.2041 - lr: 0.0010\n",
            "Epoch 5/50\n",
            "3219/3219 [==============================] - 132s 41ms/step - f1_metric: 0.7135 - maeOverFscore: 1.6011 - custom_mae: 1.1566 - loss: 0.1953 - val_f1_metric: 0.7085 - val_maeOverFscore: 1.6900 - val_custom_mae: 1.2133 - val_loss: 0.2069 - lr: 0.0010\n",
            "Epoch 6/50\n",
            "3219/3219 [==============================] - 133s 41ms/step - f1_metric: 0.7157 - maeOverFscore: 1.5833 - custom_mae: 1.1473 - loss: 0.1936 - val_f1_metric: 0.7114 - val_maeOverFscore: 1.6057 - val_custom_mae: 1.1556 - val_loss: 0.2003 - lr: 0.0010\n",
            "Epoch 7/50\n",
            "3219/3219 [==============================] - 132s 41ms/step - f1_metric: 0.7170 - maeOverFscore: 1.5692 - custom_mae: 1.1396 - loss: 0.1924 - val_f1_metric: 0.7242 - val_maeOverFscore: 1.5845 - val_custom_mae: 1.1633 - val_loss: 0.2013 - lr: 0.0010\n",
            "Epoch 8/50\n",
            "3219/3219 [==============================] - 132s 41ms/step - f1_metric: 0.7181 - maeOverFscore: 1.5608 - custom_mae: 1.1352 - loss: 0.1915 - val_f1_metric: 0.7145 - val_maeOverFscore: 1.6136 - val_custom_mae: 1.1684 - val_loss: 0.2009 - lr: 0.0010\n",
            "Epoch 9/50\n",
            "3219/3219 [==============================] - 132s 41ms/step - f1_metric: 0.7188 - maeOverFscore: 1.5496 - custom_mae: 1.1283 - loss: 0.1906 - val_f1_metric: 0.7165 - val_maeOverFscore: 1.6115 - val_custom_mae: 1.1690 - val_loss: 0.2018 - lr: 0.0010\n",
            "Epoch 10/50\n",
            "3219/3219 [==============================] - 133s 41ms/step - f1_metric: 0.7201 - maeOverFscore: 1.5354 - custom_mae: 1.1199 - loss: 0.1892 - val_f1_metric: 0.7083 - val_maeOverFscore: 1.6869 - val_custom_mae: 1.2112 - val_loss: 0.2063 - lr: 8.0000e-04\n",
            "Epoch 11/50\n",
            "3219/3219 [==============================] - 133s 41ms/step - f1_metric: 0.7205 - maeOverFscore: 1.5308 - custom_mae: 1.1172 - loss: 0.1886 - val_f1_metric: 0.7207 - val_maeOverFscore: 1.5812 - val_custom_mae: 1.1556 - val_loss: 0.2004 - lr: 8.0000e-04\n",
            "Epoch 12/50\n",
            "3219/3219 [==============================] - 132s 41ms/step - f1_metric: 0.7208 - maeOverFscore: 1.5289 - custom_mae: 1.1162 - loss: 0.1882 - val_f1_metric: 0.7145 - val_maeOverFscore: 1.5833 - val_custom_mae: 1.1461 - val_loss: 0.2046 - lr: 8.0000e-04\n",
            "Epoch 13/50\n",
            "3219/3219 [==============================] - 134s 42ms/step - f1_metric: 0.7219 - maeOverFscore: 1.5187 - custom_mae: 1.1106 - loss: 0.1874 - val_f1_metric: 0.7203 - val_maeOverFscore: 1.5653 - val_custom_mae: 1.1436 - val_loss: 0.2002 - lr: 6.4000e-04\n",
            "Epoch 14/50\n",
            "3219/3219 [==============================] - 132s 41ms/step - f1_metric: 0.7223 - maeOverFscore: 1.5141 - custom_mae: 1.1078 - loss: 0.1869 - val_f1_metric: 0.7155 - val_maeOverFscore: 1.6041 - val_custom_mae: 1.1632 - val_loss: 0.2040 - lr: 6.4000e-04\n",
            "Epoch 15/50\n",
            "3219/3219 [==============================] - 132s 41ms/step - f1_metric: 0.7226 - maeOverFscore: 1.5122 - custom_mae: 1.1066 - loss: 0.1866 - val_f1_metric: 0.7199 - val_maeOverFscore: 1.5801 - val_custom_mae: 1.1535 - val_loss: 0.1995 - lr: 6.4000e-04\n",
            "Epoch 16/50\n",
            "3219/3219 [==============================] - 131s 41ms/step - f1_metric: 0.7228 - maeOverFscore: 1.5064 - custom_mae: 1.1030 - loss: 0.1861 - val_f1_metric: 0.7176 - val_maeOverFscore: 1.5981 - val_custom_mae: 1.1641 - val_loss: 0.2043 - lr: 6.4000e-04\n",
            "Epoch 17/50\n",
            "3219/3219 [==============================] - 132s 41ms/step - f1_metric: 0.7230 - maeOverFscore: 1.5058 - custom_mae: 1.1026 - loss: 0.1861 - val_f1_metric: 0.7203 - val_maeOverFscore: 1.5721 - val_custom_mae: 1.1490 - val_loss: 0.1999 - lr: 6.4000e-04\n",
            "Epoch 18/50\n",
            "3219/3219 [==============================] - 132s 41ms/step - f1_metric: 0.7234 - maeOverFscore: 1.5028 - custom_mae: 1.1011 - loss: 0.1856 - val_f1_metric: 0.7162 - val_maeOverFscore: 1.5954 - val_custom_mae: 1.1579 - val_loss: 0.1998 - lr: 6.4000e-04\n",
            "Epoch 19/50\n",
            "3219/3219 [==============================] - 131s 41ms/step - f1_metric: 0.7241 - maeOverFscore: 1.4959 - custom_mae: 1.0968 - loss: 0.1850 - val_f1_metric: 0.7198 - val_maeOverFscore: 1.5733 - val_custom_mae: 1.1488 - val_loss: 0.1992 - lr: 5.1200e-04\n",
            "Epoch 20/50\n",
            "3219/3219 [==============================] - 132s 41ms/step - f1_metric: 0.7241 - maeOverFscore: 1.4922 - custom_mae: 1.0939 - loss: 0.1845 - val_f1_metric: 0.7194 - val_maeOverFscore: 1.5759 - val_custom_mae: 1.1495 - val_loss: 0.1980 - lr: 5.1200e-04\n",
            "Epoch 21/50\n",
            "3219/3219 [==============================] - 132s 41ms/step - f1_metric: 0.7242 - maeOverFscore: 1.4921 - custom_mae: 1.0946 - loss: 0.1845 - val_f1_metric: 0.7108 - val_maeOverFscore: 1.6262 - val_custom_mae: 1.1725 - val_loss: 0.2054 - lr: 5.1200e-04\n",
            "Epoch 22/50\n",
            "3219/3219 [==============================] - 132s 41ms/step - f1_metric: 0.7239 - maeOverFscore: 1.4885 - custom_mae: 1.0912 - loss: 0.1840 - val_f1_metric: 0.7173 - val_maeOverFscore: 1.5815 - val_custom_mae: 1.1508 - val_loss: 0.1991 - lr: 5.1200e-04\n",
            "Epoch 23/50\n",
            "3219/3219 [==============================] - 132s 41ms/step - f1_metric: 0.7241 - maeOverFscore: 1.4873 - custom_mae: 1.0905 - loss: 0.1840 - val_f1_metric: 0.7199 - val_maeOverFscore: 1.5623 - val_custom_mae: 1.1408 - val_loss: 0.1973 - lr: 5.1200e-04\n",
            "Epoch 24/50\n",
            "3219/3219 [==============================] - 132s 41ms/step - f1_metric: 0.7248 - maeOverFscore: 1.4857 - custom_mae: 1.0903 - loss: 0.1837 - val_f1_metric: 0.7188 - val_maeOverFscore: 1.5701 - val_custom_mae: 1.1435 - val_loss: 0.1988 - lr: 5.1200e-04\n",
            "Epoch 25/50\n",
            "3219/3219 [==============================] - 131s 41ms/step - f1_metric: 0.7244 - maeOverFscore: 1.4830 - custom_mae: 1.0878 - loss: 0.1836 - val_f1_metric: 0.7148 - val_maeOverFscore: 1.5800 - val_custom_mae: 1.1457 - val_loss: 0.2024 - lr: 5.1200e-04\n",
            "Epoch 26/50\n",
            "3219/3219 [==============================] - 132s 41ms/step - f1_metric: 0.7248 - maeOverFscore: 1.4808 - custom_mae: 1.0869 - loss: 0.1834 - val_f1_metric: 0.7222 - val_maeOverFscore: 1.5476 - val_custom_mae: 1.1332 - val_loss: 0.1981 - lr: 5.1200e-04\n",
            "Epoch 27/50\n",
            "3219/3219 [==============================] - 132s 41ms/step - f1_metric: 0.7248 - maeOverFscore: 1.4782 - custom_mae: 1.0849 - loss: 0.1827 - val_f1_metric: 0.7195 - val_maeOverFscore: 1.5617 - val_custom_mae: 1.1396 - val_loss: 0.1980 - lr: 4.0960e-04\n",
            "Epoch 28/50\n",
            "3219/3219 [==============================] - 132s 41ms/step - f1_metric: 0.7252 - maeOverFscore: 1.4742 - custom_mae: 1.0830 - loss: 0.1825 - val_f1_metric: 0.7239 - val_maeOverFscore: 1.5487 - val_custom_mae: 1.1360 - val_loss: 0.1965 - lr: 4.0960e-04\n",
            "Epoch 29/50\n",
            "3219/3219 [==============================] - 131s 41ms/step - f1_metric: 0.7249 - maeOverFscore: 1.4727 - custom_mae: 1.0814 - loss: 0.1824 - val_f1_metric: 0.7206 - val_maeOverFscore: 1.5519 - val_custom_mae: 1.1338 - val_loss: 0.1998 - lr: 4.0960e-04\n",
            "Epoch 30/50\n",
            "3219/3219 [==============================] - 131s 41ms/step - f1_metric: 0.7249 - maeOverFscore: 1.4730 - custom_mae: 1.0812 - loss: 0.1823 - val_f1_metric: 0.7242 - val_maeOverFscore: 1.5440 - val_custom_mae: 1.1339 - val_loss: 0.1950 - lr: 4.0960e-04\n",
            "Epoch 31/50\n",
            "3219/3219 [==============================] - 131s 41ms/step - f1_metric: 0.7254 - maeOverFscore: 1.4723 - custom_mae: 1.0814 - loss: 0.1822 - val_f1_metric: 0.7173 - val_maeOverFscore: 1.5607 - val_custom_mae: 1.1353 - val_loss: 0.1988 - lr: 4.0960e-04\n",
            "Epoch 32/50\n",
            "3219/3219 [==============================] - 132s 41ms/step - f1_metric: 0.7254 - maeOverFscore: 1.4692 - custom_mae: 1.0788 - loss: 0.1819 - val_f1_metric: 0.7179 - val_maeOverFscore: 1.5668 - val_custom_mae: 1.1403 - val_loss: 0.1984 - lr: 4.0960e-04\n",
            "Epoch 33/50\n",
            "3219/3219 [==============================] - 132s 41ms/step - f1_metric: 0.7256 - maeOverFscore: 1.4694 - custom_mae: 1.0797 - loss: 0.1818 - val_f1_metric: 0.7192 - val_maeOverFscore: 1.5577 - val_custom_mae: 1.1354 - val_loss: 0.1993 - lr: 4.0960e-04\n",
            "Epoch 34/50\n",
            "3219/3219 [==============================] - 132s 41ms/step - f1_metric: 0.7257 - maeOverFscore: 1.4643 - custom_mae: 1.0761 - loss: 0.1814 - val_f1_metric: 0.7224 - val_maeOverFscore: 1.5378 - val_custom_mae: 1.1268 - val_loss: 0.1973 - lr: 3.2768e-04\n",
            "Epoch 35/50\n",
            "3219/3219 [==============================] - 133s 41ms/step - f1_metric: 0.7255 - maeOverFscore: 1.4631 - custom_mae: 1.0750 - loss: 0.1812 - val_f1_metric: 0.7241 - val_maeOverFscore: 1.5370 - val_custom_mae: 1.1291 - val_loss: 0.1984 - lr: 3.2768e-04\n",
            "Epoch 36/50\n",
            "3219/3219 [==============================] - 133s 41ms/step - f1_metric: 0.7257 - maeOverFscore: 1.4612 - custom_mae: 1.0740 - loss: 0.1809 - val_f1_metric: 0.7155 - val_maeOverFscore: 1.5798 - val_custom_mae: 1.1458 - val_loss: 0.2005 - lr: 3.2768e-04\n",
            "Epoch 37/50\n",
            "3219/3219 [==============================] - 132s 41ms/step - f1_metric: 0.7258 - maeOverFscore: 1.4568 - custom_mae: 1.0709 - loss: 0.1805 - val_f1_metric: 0.7220 - val_maeOverFscore: 1.5533 - val_custom_mae: 1.1374 - val_loss: 0.1991 - lr: 2.6214e-04\n",
            "Epoch 38/50\n",
            "3219/3219 [==============================] - 132s 41ms/step - f1_metric: 0.7265 - maeOverFscore: 1.4594 - custom_mae: 1.0731 - loss: 0.1806 - val_f1_metric: 0.7203 - val_maeOverFscore: 1.5472 - val_custom_mae: 1.1304 - val_loss: 0.1953 - lr: 2.6214e-04\n",
            "Epoch 39/50\n",
            "3219/3219 [==============================] - 133s 41ms/step - f1_metric: 0.7263 - maeOverFscore: 1.4558 - custom_mae: 1.0708 - loss: 0.1803 - val_f1_metric: 0.7175 - val_maeOverFscore: 1.5576 - val_custom_mae: 1.1324 - val_loss: 0.1994 - lr: 2.6214e-04\n",
            "Epoch 40/50\n",
            "3219/3219 [==============================] - 132s 41ms/step - f1_metric: 0.7261 - maeOverFscore: 1.4532 - custom_mae: 1.0681 - loss: 0.1799 - val_f1_metric: 0.7182 - val_maeOverFscore: 1.5770 - val_custom_mae: 1.1493 - val_loss: 0.2024 - lr: 2.0972e-04\n",
            "Epoch 41/50\n",
            "3219/3219 [==============================] - 132s 41ms/step - f1_metric: 0.7263 - maeOverFscore: 1.4506 - custom_mae: 1.0667 - loss: 0.1800 - val_f1_metric: 0.7206 - val_maeOverFscore: 1.5616 - val_custom_mae: 1.1417 - val_loss: 0.1997 - lr: 2.0972e-04\n",
            "Epoch 42/50\n",
            "3219/3219 [==============================] - 132s 41ms/step - f1_metric: 0.7261 - maeOverFscore: 1.4506 - custom_mae: 1.0665 - loss: 0.1798 - val_f1_metric: 0.7232 - val_maeOverFscore: 1.5310 - val_custom_mae: 1.1226 - val_loss: 0.1955 - lr: 2.0972e-04\n",
            "Epoch 43/50\n",
            "3219/3219 [==============================] - 131s 41ms/step - f1_metric: 0.7265 - maeOverFscore: 1.4486 - custom_mae: 1.0654 - loss: 0.1795 - val_f1_metric: 0.7225 - val_maeOverFscore: 1.5418 - val_custom_mae: 1.1300 - val_loss: 0.1964 - lr: 1.6777e-04\n",
            "Epoch 44/50\n",
            "3219/3219 [==============================] - 132s 41ms/step - f1_metric: 0.7263 - maeOverFscore: 1.4459 - custom_mae: 1.0632 - loss: 0.1793 - val_f1_metric: 0.7212 - val_maeOverFscore: 1.5453 - val_custom_mae: 1.1299 - val_loss: 0.1974 - lr: 1.6777e-04\n",
            "Epoch 45/50\n",
            "3219/3219 [==============================] - 132s 41ms/step - f1_metric: 0.7266 - maeOverFscore: 1.4483 - custom_mae: 1.0655 - loss: 0.1793 - val_f1_metric: 0.7213 - val_maeOverFscore: 1.5413 - val_custom_mae: 1.1277 - val_loss: 0.1982 - lr: 1.6777e-04\n",
            "Epoch 46/50\n",
            "3219/3219 [==============================] - 132s 41ms/step - f1_metric: 0.7267 - maeOverFscore: 1.4433 - custom_mae: 1.0616 - loss: 0.1790 - val_f1_metric: 0.7190 - val_maeOverFscore: 1.5590 - val_custom_mae: 1.1371 - val_loss: 0.1989 - lr: 1.3422e-04\n",
            "Epoch 47/50\n",
            "3219/3219 [==============================] - 132s 41ms/step - f1_metric: 0.7266 - maeOverFscore: 1.4432 - custom_mae: 1.0615 - loss: 0.1789 - val_f1_metric: 0.7225 - val_maeOverFscore: 1.5395 - val_custom_mae: 1.1283 - val_loss: 0.1968 - lr: 1.3422e-04\n",
            "Epoch 48/50\n",
            "3219/3219 [==============================] - 131s 41ms/step - f1_metric: 0.7267 - maeOverFscore: 1.4441 - custom_mae: 1.0623 - loss: 0.1788 - val_f1_metric: 0.7213 - val_maeOverFscore: 1.5496 - val_custom_mae: 1.1338 - val_loss: 0.1991 - lr: 1.3422e-04\n",
            "Epoch 49/50\n",
            "3219/3219 [==============================] - 132s 41ms/step - f1_metric: 0.7268 - maeOverFscore: 1.4405 - custom_mae: 1.0600 - loss: 0.1787 - val_f1_metric: 0.7210 - val_maeOverFscore: 1.5518 - val_custom_mae: 1.1344 - val_loss: 0.1983 - lr: 1.0737e-04\n",
            "Epoch 50/50\n",
            "3219/3219 [==============================] - 132s 41ms/step - f1_metric: 0.7266 - maeOverFscore: 1.4404 - custom_mae: 1.0597 - loss: 0.1785 - val_f1_metric: 0.7216 - val_maeOverFscore: 1.5496 - val_custom_mae: 1.1344 - val_loss: 0.1983 - lr: 1.0737e-04\n",
            "Fold1\n",
            "WARNING:tensorflow:TPU system grpc://10.23.190.170:8470 has already been initialized. Reinitializing the TPU can cause previously created variables on TPU to be lost.\n"
          ],
          "name": "stdout"
        },
        {
          "output_type": "stream",
          "text": [
            "WARNING:tensorflow:TPU system grpc://10.23.190.170:8470 has already been initialized. Reinitializing the TPU can cause previously created variables on TPU to be lost.\n"
          ],
          "name": "stderr"
        },
        {
          "output_type": "stream",
          "text": [
            "INFO:tensorflow:Initializing the TPU system: grpc://10.23.190.170:8470\n"
          ],
          "name": "stdout"
        },
        {
          "output_type": "stream",
          "text": [
            "INFO:tensorflow:Initializing the TPU system: grpc://10.23.190.170:8470\n"
          ],
          "name": "stderr"
        },
        {
          "output_type": "stream",
          "text": [
            "INFO:tensorflow:Clearing out eager caches\n"
          ],
          "name": "stdout"
        },
        {
          "output_type": "stream",
          "text": [
            "INFO:tensorflow:Clearing out eager caches\n"
          ],
          "name": "stderr"
        },
        {
          "output_type": "stream",
          "text": [
            "INFO:tensorflow:Finished initializing TPU system.\n"
          ],
          "name": "stdout"
        },
        {
          "output_type": "stream",
          "text": [
            "INFO:tensorflow:Finished initializing TPU system.\n"
          ],
          "name": "stderr"
        },
        {
          "output_type": "stream",
          "text": [
            "INFO:tensorflow:Found TPU system:\n"
          ],
          "name": "stdout"
        },
        {
          "output_type": "stream",
          "text": [
            "INFO:tensorflow:Found TPU system:\n"
          ],
          "name": "stderr"
        },
        {
          "output_type": "stream",
          "text": [
            "INFO:tensorflow:*** Num TPU Cores: 8\n"
          ],
          "name": "stdout"
        },
        {
          "output_type": "stream",
          "text": [
            "INFO:tensorflow:*** Num TPU Cores: 8\n"
          ],
          "name": "stderr"
        },
        {
          "output_type": "stream",
          "text": [
            "INFO:tensorflow:*** Num TPU Workers: 1\n"
          ],
          "name": "stdout"
        },
        {
          "output_type": "stream",
          "text": [
            "INFO:tensorflow:*** Num TPU Workers: 1\n"
          ],
          "name": "stderr"
        },
        {
          "output_type": "stream",
          "text": [
            "INFO:tensorflow:*** Num TPU Cores Per Worker: 8\n"
          ],
          "name": "stdout"
        },
        {
          "output_type": "stream",
          "text": [
            "INFO:tensorflow:*** Num TPU Cores Per Worker: 8\n"
          ],
          "name": "stderr"
        },
        {
          "output_type": "stream",
          "text": [
            "INFO:tensorflow:*** Available Device: _DeviceAttributes(/job:localhost/replica:0/task:0/device:CPU:0, CPU, 0, 0)\n"
          ],
          "name": "stdout"
        },
        {
          "output_type": "stream",
          "text": [
            "INFO:tensorflow:*** Available Device: _DeviceAttributes(/job:localhost/replica:0/task:0/device:CPU:0, CPU, 0, 0)\n"
          ],
          "name": "stderr"
        },
        {
          "output_type": "stream",
          "text": [
            "INFO:tensorflow:*** Available Device: _DeviceAttributes(/job:localhost/replica:0/task:0/device:XLA_CPU:0, XLA_CPU, 0, 0)\n"
          ],
          "name": "stdout"
        },
        {
          "output_type": "stream",
          "text": [
            "INFO:tensorflow:*** Available Device: _DeviceAttributes(/job:localhost/replica:0/task:0/device:XLA_CPU:0, XLA_CPU, 0, 0)\n"
          ],
          "name": "stderr"
        },
        {
          "output_type": "stream",
          "text": [
            "INFO:tensorflow:*** Available Device: _DeviceAttributes(/job:worker/replica:0/task:0/device:CPU:0, CPU, 0, 0)\n"
          ],
          "name": "stdout"
        },
        {
          "output_type": "stream",
          "text": [
            "INFO:tensorflow:*** Available Device: _DeviceAttributes(/job:worker/replica:0/task:0/device:CPU:0, CPU, 0, 0)\n"
          ],
          "name": "stderr"
        },
        {
          "output_type": "stream",
          "text": [
            "INFO:tensorflow:*** Available Device: _DeviceAttributes(/job:worker/replica:0/task:0/device:TPU:0, TPU, 0, 0)\n"
          ],
          "name": "stdout"
        },
        {
          "output_type": "stream",
          "text": [
            "INFO:tensorflow:*** Available Device: _DeviceAttributes(/job:worker/replica:0/task:0/device:TPU:0, TPU, 0, 0)\n"
          ],
          "name": "stderr"
        },
        {
          "output_type": "stream",
          "text": [
            "INFO:tensorflow:*** Available Device: _DeviceAttributes(/job:worker/replica:0/task:0/device:TPU:1, TPU, 0, 0)\n"
          ],
          "name": "stdout"
        },
        {
          "output_type": "stream",
          "text": [
            "INFO:tensorflow:*** Available Device: _DeviceAttributes(/job:worker/replica:0/task:0/device:TPU:1, TPU, 0, 0)\n"
          ],
          "name": "stderr"
        },
        {
          "output_type": "stream",
          "text": [
            "INFO:tensorflow:*** Available Device: _DeviceAttributes(/job:worker/replica:0/task:0/device:TPU:2, TPU, 0, 0)\n"
          ],
          "name": "stdout"
        },
        {
          "output_type": "stream",
          "text": [
            "INFO:tensorflow:*** Available Device: _DeviceAttributes(/job:worker/replica:0/task:0/device:TPU:2, TPU, 0, 0)\n"
          ],
          "name": "stderr"
        },
        {
          "output_type": "stream",
          "text": [
            "INFO:tensorflow:*** Available Device: _DeviceAttributes(/job:worker/replica:0/task:0/device:TPU:3, TPU, 0, 0)\n"
          ],
          "name": "stdout"
        },
        {
          "output_type": "stream",
          "text": [
            "INFO:tensorflow:*** Available Device: _DeviceAttributes(/job:worker/replica:0/task:0/device:TPU:3, TPU, 0, 0)\n"
          ],
          "name": "stderr"
        },
        {
          "output_type": "stream",
          "text": [
            "INFO:tensorflow:*** Available Device: _DeviceAttributes(/job:worker/replica:0/task:0/device:TPU:4, TPU, 0, 0)\n"
          ],
          "name": "stdout"
        },
        {
          "output_type": "stream",
          "text": [
            "INFO:tensorflow:*** Available Device: _DeviceAttributes(/job:worker/replica:0/task:0/device:TPU:4, TPU, 0, 0)\n"
          ],
          "name": "stderr"
        },
        {
          "output_type": "stream",
          "text": [
            "INFO:tensorflow:*** Available Device: _DeviceAttributes(/job:worker/replica:0/task:0/device:TPU:5, TPU, 0, 0)\n"
          ],
          "name": "stdout"
        },
        {
          "output_type": "stream",
          "text": [
            "INFO:tensorflow:*** Available Device: _DeviceAttributes(/job:worker/replica:0/task:0/device:TPU:5, TPU, 0, 0)\n"
          ],
          "name": "stderr"
        },
        {
          "output_type": "stream",
          "text": [
            "INFO:tensorflow:*** Available Device: _DeviceAttributes(/job:worker/replica:0/task:0/device:TPU:6, TPU, 0, 0)\n"
          ],
          "name": "stdout"
        },
        {
          "output_type": "stream",
          "text": [
            "INFO:tensorflow:*** Available Device: _DeviceAttributes(/job:worker/replica:0/task:0/device:TPU:6, TPU, 0, 0)\n"
          ],
          "name": "stderr"
        },
        {
          "output_type": "stream",
          "text": [
            "INFO:tensorflow:*** Available Device: _DeviceAttributes(/job:worker/replica:0/task:0/device:TPU:7, TPU, 0, 0)\n"
          ],
          "name": "stdout"
        },
        {
          "output_type": "stream",
          "text": [
            "INFO:tensorflow:*** Available Device: _DeviceAttributes(/job:worker/replica:0/task:0/device:TPU:7, TPU, 0, 0)\n"
          ],
          "name": "stderr"
        },
        {
          "output_type": "stream",
          "text": [
            "INFO:tensorflow:*** Available Device: _DeviceAttributes(/job:worker/replica:0/task:0/device:TPU_SYSTEM:0, TPU_SYSTEM, 0, 0)\n"
          ],
          "name": "stdout"
        },
        {
          "output_type": "stream",
          "text": [
            "INFO:tensorflow:*** Available Device: _DeviceAttributes(/job:worker/replica:0/task:0/device:TPU_SYSTEM:0, TPU_SYSTEM, 0, 0)\n"
          ],
          "name": "stderr"
        },
        {
          "output_type": "stream",
          "text": [
            "INFO:tensorflow:*** Available Device: _DeviceAttributes(/job:worker/replica:0/task:0/device:XLA_CPU:0, XLA_CPU, 0, 0)\n"
          ],
          "name": "stdout"
        },
        {
          "output_type": "stream",
          "text": [
            "INFO:tensorflow:*** Available Device: _DeviceAttributes(/job:worker/replica:0/task:0/device:XLA_CPU:0, XLA_CPU, 0, 0)\n"
          ],
          "name": "stderr"
        },
        {
          "output_type": "stream",
          "text": [
            "Epoch 1/50\n",
            "3219/3219 [==============================] - 143s 44ms/step - f1_metric: 0.6853 - maeOverFscore: 1.8942 - custom_mae: 1.2952 - loss: 0.2219 - val_f1_metric: 0.6948 - val_maeOverFscore: 1.7628 - val_custom_mae: 1.2373 - val_loss: 0.2099 - lr: 0.0010\n",
            "Epoch 2/50\n",
            "3219/3219 [==============================] - 132s 41ms/step - f1_metric: 0.7041 - maeOverFscore: 1.7021 - custom_mae: 1.2102 - loss: 0.2048 - val_f1_metric: 0.6980 - val_maeOverFscore: 1.8084 - val_custom_mae: 1.2780 - val_loss: 0.2150 - lr: 0.0010\n",
            "Epoch 3/50\n",
            "3219/3219 [==============================] - 133s 41ms/step - f1_metric: 0.7096 - maeOverFscore: 1.6517 - custom_mae: 1.1852 - loss: 0.2003 - val_f1_metric: 0.7011 - val_maeOverFscore: 1.7248 - val_custom_mae: 1.2239 - val_loss: 0.2060 - lr: 0.0010\n",
            "Epoch 4/50\n",
            "3219/3219 [==============================] - 133s 41ms/step - f1_metric: 0.7126 - maeOverFscore: 1.6199 - custom_mae: 1.1677 - loss: 0.1974 - val_f1_metric: 0.7057 - val_maeOverFscore: 1.7199 - val_custom_mae: 1.2294 - val_loss: 0.2080 - lr: 0.0010\n",
            "Epoch 5/50\n",
            "3219/3219 [==============================] - 133s 41ms/step - f1_metric: 0.7149 - maeOverFscore: 1.5962 - custom_mae: 1.1547 - loss: 0.1954 - val_f1_metric: 0.7156 - val_maeOverFscore: 1.6486 - val_custom_mae: 1.1956 - val_loss: 0.2034 - lr: 0.0010\n",
            "Epoch 6/50\n",
            "3219/3219 [==============================] - 132s 41ms/step - f1_metric: 0.7170 - maeOverFscore: 1.5830 - custom_mae: 1.1483 - loss: 0.1938 - val_f1_metric: 0.7114 - val_maeOverFscore: 1.6775 - val_custom_mae: 1.2105 - val_loss: 0.2051 - lr: 0.0010\n",
            "Epoch 7/50\n",
            "3219/3219 [==============================] - 132s 41ms/step - f1_metric: 0.7183 - maeOverFscore: 1.5691 - custom_mae: 1.1405 - loss: 0.1930 - val_f1_metric: 0.7078 - val_maeOverFscore: 1.7083 - val_custom_mae: 1.2277 - val_loss: 0.2088 - lr: 0.0010\n",
            "Epoch 8/50\n",
            "3219/3219 [==============================] - 133s 41ms/step - f1_metric: 0.7191 - maeOverFscore: 1.5575 - custom_mae: 1.1338 - loss: 0.1916 - val_f1_metric: 0.7153 - val_maeOverFscore: 1.6372 - val_custom_mae: 1.1855 - val_loss: 0.2058 - lr: 0.0010\n",
            "Epoch 9/50\n",
            "3219/3219 [==============================] - 132s 41ms/step - f1_metric: 0.7212 - maeOverFscore: 1.5436 - custom_mae: 1.1267 - loss: 0.1901 - val_f1_metric: 0.7153 - val_maeOverFscore: 1.6226 - val_custom_mae: 1.1771 - val_loss: 0.2001 - lr: 8.0000e-04\n",
            "Epoch 10/50\n",
            "3219/3219 [==============================] - 133s 41ms/step - f1_metric: 0.7218 - maeOverFscore: 1.5376 - custom_mae: 1.1233 - loss: 0.1896 - val_f1_metric: 0.7205 - val_maeOverFscore: 1.5754 - val_custom_mae: 1.1528 - val_loss: 0.1996 - lr: 8.0000e-04\n",
            "Epoch 11/50\n",
            "3219/3219 [==============================] - 132s 41ms/step - f1_metric: 0.7216 - maeOverFscore: 1.5305 - custom_mae: 1.1181 - loss: 0.1891 - val_f1_metric: 0.7108 - val_maeOverFscore: 1.6360 - val_custom_mae: 1.1799 - val_loss: 0.2066 - lr: 8.0000e-04\n",
            "Epoch 12/50\n",
            "3219/3219 [==============================] - 133s 41ms/step - f1_metric: 0.7227 - maeOverFscore: 1.5257 - custom_mae: 1.1160 - loss: 0.1886 - val_f1_metric: 0.7223 - val_maeOverFscore: 1.6048 - val_custom_mae: 1.1770 - val_loss: 0.2028 - lr: 8.0000e-04\n",
            "Epoch 13/50\n",
            "3219/3219 [==============================] - 132s 41ms/step - f1_metric: 0.7225 - maeOverFscore: 1.5198 - custom_mae: 1.1112 - loss: 0.1880 - val_f1_metric: 0.7157 - val_maeOverFscore: 1.6142 - val_custom_mae: 1.1724 - val_loss: 0.2025 - lr: 8.0000e-04\n",
            "Epoch 14/50\n",
            "3219/3219 [==============================] - 133s 41ms/step - f1_metric: 0.7240 - maeOverFscore: 1.5142 - custom_mae: 1.1093 - loss: 0.1872 - val_f1_metric: 0.7156 - val_maeOverFscore: 1.6131 - val_custom_mae: 1.1718 - val_loss: 0.2011 - lr: 6.4000e-04\n",
            "Epoch 15/50\n",
            "3219/3219 [==============================] - 132s 41ms/step - f1_metric: 0.7241 - maeOverFscore: 1.5079 - custom_mae: 1.1056 - loss: 0.1867 - val_f1_metric: 0.7135 - val_maeOverFscore: 1.6095 - val_custom_mae: 1.1649 - val_loss: 0.2056 - lr: 6.4000e-04\n",
            "Epoch 16/50\n",
            "3219/3219 [==============================] - 132s 41ms/step - f1_metric: 0.7245 - maeOverFscore: 1.5081 - custom_mae: 1.1059 - loss: 0.1865 - val_f1_metric: 0.7221 - val_maeOverFscore: 1.5718 - val_custom_mae: 1.1518 - val_loss: 0.1966 - lr: 6.4000e-04\n",
            "Epoch 17/50\n",
            "3219/3219 [==============================] - 132s 41ms/step - f1_metric: 0.7244 - maeOverFscore: 1.5018 - custom_mae: 1.1012 - loss: 0.1860 - val_f1_metric: 0.7196 - val_maeOverFscore: 1.5747 - val_custom_mae: 1.1501 - val_loss: 0.1966 - lr: 6.4000e-04\n",
            "Epoch 18/50\n",
            "3219/3219 [==============================] - 132s 41ms/step - f1_metric: 0.7245 - maeOverFscore: 1.4994 - custom_mae: 1.0996 - loss: 0.1858 - val_f1_metric: 0.7164 - val_maeOverFscore: 1.5824 - val_custom_mae: 1.1507 - val_loss: 0.1987 - lr: 6.4000e-04\n",
            "Epoch 19/50\n",
            "3219/3219 [==============================] - 134s 41ms/step - f1_metric: 0.7248 - maeOverFscore: 1.4989 - custom_mae: 1.0995 - loss: 0.1857 - val_f1_metric: 0.7219 - val_maeOverFscore: 1.5798 - val_custom_mae: 1.1574 - val_loss: 0.1985 - lr: 6.4000e-04\n",
            "Epoch 20/50\n",
            "3219/3219 [==============================] - 132s 41ms/step - f1_metric: 0.7250 - maeOverFscore: 1.4895 - custom_mae: 1.0932 - loss: 0.1847 - val_f1_metric: 0.7230 - val_maeOverFscore: 1.5597 - val_custom_mae: 1.1458 - val_loss: 0.1982 - lr: 5.1200e-04\n",
            "Epoch 21/50\n",
            "3219/3219 [==============================] - 133s 41ms/step - f1_metric: 0.7256 - maeOverFscore: 1.4896 - custom_mae: 1.0938 - loss: 0.1846 - val_f1_metric: 0.7232 - val_maeOverFscore: 1.5548 - val_custom_mae: 1.1421 - val_loss: 0.1966 - lr: 5.1200e-04\n",
            "Epoch 22/50\n",
            "3219/3219 [==============================] - 132s 41ms/step - f1_metric: 0.7257 - maeOverFscore: 1.4864 - custom_mae: 1.0917 - loss: 0.1842 - val_f1_metric: 0.7211 - val_maeOverFscore: 1.5579 - val_custom_mae: 1.1396 - val_loss: 0.1964 - lr: 5.1200e-04\n",
            "Epoch 23/50\n",
            "3219/3219 [==============================] - 132s 41ms/step - f1_metric: 0.7257 - maeOverFscore: 1.4854 - custom_mae: 1.0912 - loss: 0.1841 - val_f1_metric: 0.7166 - val_maeOverFscore: 1.5816 - val_custom_mae: 1.1504 - val_loss: 0.2020 - lr: 5.1200e-04\n",
            "Epoch 24/50\n",
            "3219/3219 [==============================] - 132s 41ms/step - f1_metric: 0.7255 - maeOverFscore: 1.4800 - custom_mae: 1.0869 - loss: 0.1837 - val_f1_metric: 0.7170 - val_maeOverFscore: 1.5811 - val_custom_mae: 1.1505 - val_loss: 0.1984 - lr: 5.1200e-04\n",
            "Epoch 25/50\n",
            "3219/3219 [==============================] - 131s 41ms/step - f1_metric: 0.7260 - maeOverFscore: 1.4798 - custom_mae: 1.0871 - loss: 0.1836 - val_f1_metric: 0.7211 - val_maeOverFscore: 1.5952 - val_custom_mae: 1.1688 - val_loss: 0.2002 - lr: 5.1200e-04\n",
            "Epoch 26/50\n",
            "3219/3219 [==============================] - 132s 41ms/step - f1_metric: 0.7262 - maeOverFscore: 1.4740 - custom_mae: 1.0835 - loss: 0.1830 - val_f1_metric: 0.7198 - val_maeOverFscore: 1.5563 - val_custom_mae: 1.1362 - val_loss: 0.1975 - lr: 4.0960e-04\n",
            "Epoch 27/50\n",
            "3219/3219 [==============================] - 131s 41ms/step - f1_metric: 0.7264 - maeOverFscore: 1.4737 - custom_mae: 1.0838 - loss: 0.1829 - val_f1_metric: 0.7160 - val_maeOverFscore: 1.5713 - val_custom_mae: 1.1419 - val_loss: 0.1993 - lr: 4.0960e-04\n",
            "Epoch 28/50\n",
            "2417/3219 [=====================>........] - ETA: 31s - f1_metric: 0.7262 - maeOverFscore: 1.4731 - custom_mae: 1.0826 - loss: 0.1826"
          ],
          "name": "stdout"
        },
        {
          "output_type": "error",
          "ename": "KeyboardInterrupt",
          "evalue": "ignored",
          "traceback": [
            "\u001b[0;31m---------------------------------------------------------------------------\u001b[0m",
            "\u001b[0;31mKeyboardInterrupt\u001b[0m                         Traceback (most recent call last)",
            "\u001b[0;32m<ipython-input-56-7529dbd895b1>\u001b[0m in \u001b[0;36m<module>\u001b[0;34m()\u001b[0m\n\u001b[1;32m     59\u001b[0m             \u001b[0msteps_per_epoch\u001b[0m \u001b[0;34m=\u001b[0m \u001b[0mlen\u001b[0m\u001b[0;34m(\u001b[0m\u001b[0mtrain\u001b[0m\u001b[0;34m[\u001b[0m\u001b[0mtrain_idx\u001b[0m\u001b[0;34m,\u001b[0m \u001b[0;34m:\u001b[0m\u001b[0;34m,\u001b[0m \u001b[0;34m:\u001b[0m\u001b[0;34m,\u001b[0m \u001b[0;34m:\u001b[0m\u001b[0;36m10\u001b[0m\u001b[0;34m]\u001b[0m\u001b[0;34m)\u001b[0m\u001b[0;34m*\u001b[0m\u001b[0;36m8\u001b[0m \u001b[0;34m//\u001b[0m \u001b[0mbatch_size\u001b[0m\u001b[0;34m,\u001b[0m\u001b[0;34m\u001b[0m\u001b[0;34m\u001b[0m\u001b[0m\n\u001b[1;32m     60\u001b[0m             \u001b[0mvalidation_data\u001b[0m\u001b[0;34m=\u001b[0m\u001b[0mvalidation_dataset\u001b[0m\u001b[0;34m,\u001b[0m\u001b[0;34m\u001b[0m\u001b[0;34m\u001b[0m\u001b[0m\n\u001b[0;32m---> 61\u001b[0;31m             callbacks=callbacks_list)\n\u001b[0m\u001b[1;32m     62\u001b[0m \u001b[0;34m\u001b[0m\u001b[0m\n\u001b[1;32m     63\u001b[0m     \u001b[0mhistories\u001b[0m\u001b[0;34m.\u001b[0m\u001b[0mappend\u001b[0m\u001b[0;34m(\u001b[0m\u001b[0mhistory\u001b[0m\u001b[0;34m)\u001b[0m\u001b[0;34m\u001b[0m\u001b[0;34m\u001b[0m\u001b[0m\n",
            "\u001b[0;32m/usr/local/lib/python3.6/dist-packages/tensorflow/python/keras/engine/training.py\u001b[0m in \u001b[0;36m_method_wrapper\u001b[0;34m(self, *args, **kwargs)\u001b[0m\n\u001b[1;32m     64\u001b[0m   \u001b[0;32mdef\u001b[0m \u001b[0m_method_wrapper\u001b[0m\u001b[0;34m(\u001b[0m\u001b[0mself\u001b[0m\u001b[0;34m,\u001b[0m \u001b[0;34m*\u001b[0m\u001b[0margs\u001b[0m\u001b[0;34m,\u001b[0m \u001b[0;34m**\u001b[0m\u001b[0mkwargs\u001b[0m\u001b[0;34m)\u001b[0m\u001b[0;34m:\u001b[0m\u001b[0;34m\u001b[0m\u001b[0;34m\u001b[0m\u001b[0m\n\u001b[1;32m     65\u001b[0m     \u001b[0;32mif\u001b[0m \u001b[0;32mnot\u001b[0m \u001b[0mself\u001b[0m\u001b[0;34m.\u001b[0m\u001b[0m_in_multi_worker_mode\u001b[0m\u001b[0;34m(\u001b[0m\u001b[0;34m)\u001b[0m\u001b[0;34m:\u001b[0m  \u001b[0;31m# pylint: disable=protected-access\u001b[0m\u001b[0;34m\u001b[0m\u001b[0;34m\u001b[0m\u001b[0m\n\u001b[0;32m---> 66\u001b[0;31m       \u001b[0;32mreturn\u001b[0m \u001b[0mmethod\u001b[0m\u001b[0;34m(\u001b[0m\u001b[0mself\u001b[0m\u001b[0;34m,\u001b[0m \u001b[0;34m*\u001b[0m\u001b[0margs\u001b[0m\u001b[0;34m,\u001b[0m \u001b[0;34m**\u001b[0m\u001b[0mkwargs\u001b[0m\u001b[0;34m)\u001b[0m\u001b[0;34m\u001b[0m\u001b[0;34m\u001b[0m\u001b[0m\n\u001b[0m\u001b[1;32m     67\u001b[0m \u001b[0;34m\u001b[0m\u001b[0m\n\u001b[1;32m     68\u001b[0m     \u001b[0;31m# Running inside `run_distribute_coordinator` already.\u001b[0m\u001b[0;34m\u001b[0m\u001b[0;34m\u001b[0m\u001b[0;34m\u001b[0m\u001b[0m\n",
            "\u001b[0;32m/usr/local/lib/python3.6/dist-packages/tensorflow/python/keras/engine/training.py\u001b[0m in \u001b[0;36mfit\u001b[0;34m(self, x, y, batch_size, epochs, verbose, callbacks, validation_split, validation_data, shuffle, class_weight, sample_weight, initial_epoch, steps_per_epoch, validation_steps, validation_batch_size, validation_freq, max_queue_size, workers, use_multiprocessing)\u001b[0m\n\u001b[1;32m    853\u001b[0m                 \u001b[0mcontext\u001b[0m\u001b[0;34m.\u001b[0m\u001b[0masync_wait\u001b[0m\u001b[0;34m(\u001b[0m\u001b[0;34m)\u001b[0m\u001b[0;34m\u001b[0m\u001b[0;34m\u001b[0m\u001b[0m\n\u001b[1;32m    854\u001b[0m               \u001b[0mlogs\u001b[0m \u001b[0;34m=\u001b[0m \u001b[0mtmp_logs\u001b[0m  \u001b[0;31m# No error, now safe to assign to logs.\u001b[0m\u001b[0;34m\u001b[0m\u001b[0;34m\u001b[0m\u001b[0m\n\u001b[0;32m--> 855\u001b[0;31m               \u001b[0mcallbacks\u001b[0m\u001b[0;34m.\u001b[0m\u001b[0mon_train_batch_end\u001b[0m\u001b[0;34m(\u001b[0m\u001b[0mstep\u001b[0m\u001b[0;34m,\u001b[0m \u001b[0mlogs\u001b[0m\u001b[0;34m)\u001b[0m\u001b[0;34m\u001b[0m\u001b[0;34m\u001b[0m\u001b[0m\n\u001b[0m\u001b[1;32m    856\u001b[0m         \u001b[0mepoch_logs\u001b[0m \u001b[0;34m=\u001b[0m \u001b[0mcopy\u001b[0m\u001b[0;34m.\u001b[0m\u001b[0mcopy\u001b[0m\u001b[0;34m(\u001b[0m\u001b[0mlogs\u001b[0m\u001b[0;34m)\u001b[0m\u001b[0;34m\u001b[0m\u001b[0;34m\u001b[0m\u001b[0m\n\u001b[1;32m    857\u001b[0m \u001b[0;34m\u001b[0m\u001b[0m\n",
            "\u001b[0;32m/usr/local/lib/python3.6/dist-packages/tensorflow/python/keras/callbacks.py\u001b[0m in \u001b[0;36mon_train_batch_end\u001b[0;34m(self, batch, logs)\u001b[0m\n\u001b[1;32m    387\u001b[0m     \"\"\"\n\u001b[1;32m    388\u001b[0m     \u001b[0;32mif\u001b[0m \u001b[0mself\u001b[0m\u001b[0;34m.\u001b[0m\u001b[0m_should_call_train_batch_hooks\u001b[0m\u001b[0;34m:\u001b[0m\u001b[0;34m\u001b[0m\u001b[0;34m\u001b[0m\u001b[0m\n\u001b[0;32m--> 389\u001b[0;31m       \u001b[0mlogs\u001b[0m \u001b[0;34m=\u001b[0m \u001b[0mself\u001b[0m\u001b[0;34m.\u001b[0m\u001b[0m_process_logs\u001b[0m\u001b[0;34m(\u001b[0m\u001b[0mlogs\u001b[0m\u001b[0;34m)\u001b[0m\u001b[0;34m\u001b[0m\u001b[0;34m\u001b[0m\u001b[0m\n\u001b[0m\u001b[1;32m    390\u001b[0m       \u001b[0mself\u001b[0m\u001b[0;34m.\u001b[0m\u001b[0m_call_batch_hook\u001b[0m\u001b[0;34m(\u001b[0m\u001b[0mModeKeys\u001b[0m\u001b[0;34m.\u001b[0m\u001b[0mTRAIN\u001b[0m\u001b[0;34m,\u001b[0m \u001b[0;34m'end'\u001b[0m\u001b[0;34m,\u001b[0m \u001b[0mbatch\u001b[0m\u001b[0;34m,\u001b[0m \u001b[0mlogs\u001b[0m\u001b[0;34m=\u001b[0m\u001b[0mlogs\u001b[0m\u001b[0;34m)\u001b[0m\u001b[0;34m\u001b[0m\u001b[0;34m\u001b[0m\u001b[0m\n\u001b[1;32m    391\u001b[0m \u001b[0;34m\u001b[0m\u001b[0m\n",
            "\u001b[0;32m/usr/local/lib/python3.6/dist-packages/tensorflow/python/keras/callbacks.py\u001b[0m in \u001b[0;36m_process_logs\u001b[0;34m(self, logs)\u001b[0m\n\u001b[1;32m    263\u001b[0m     \u001b[0;34m\"\"\"Turns tensors into numpy arrays or Python scalars.\"\"\"\u001b[0m\u001b[0;34m\u001b[0m\u001b[0;34m\u001b[0m\u001b[0m\n\u001b[1;32m    264\u001b[0m     \u001b[0;32mif\u001b[0m \u001b[0mlogs\u001b[0m\u001b[0;34m:\u001b[0m\u001b[0;34m\u001b[0m\u001b[0;34m\u001b[0m\u001b[0m\n\u001b[0;32m--> 265\u001b[0;31m       \u001b[0;32mreturn\u001b[0m \u001b[0mtf_utils\u001b[0m\u001b[0;34m.\u001b[0m\u001b[0mto_numpy_or_python_type\u001b[0m\u001b[0;34m(\u001b[0m\u001b[0mlogs\u001b[0m\u001b[0;34m)\u001b[0m\u001b[0;34m\u001b[0m\u001b[0;34m\u001b[0m\u001b[0m\n\u001b[0m\u001b[1;32m    266\u001b[0m     \u001b[0;32mreturn\u001b[0m \u001b[0;34m{\u001b[0m\u001b[0;34m}\u001b[0m\u001b[0;34m\u001b[0m\u001b[0;34m\u001b[0m\u001b[0m\n\u001b[1;32m    267\u001b[0m \u001b[0;34m\u001b[0m\u001b[0m\n",
            "\u001b[0;32m/usr/local/lib/python3.6/dist-packages/tensorflow/python/keras/utils/tf_utils.py\u001b[0m in \u001b[0;36mto_numpy_or_python_type\u001b[0;34m(tensors)\u001b[0m\n\u001b[1;32m    521\u001b[0m     \u001b[0;32mreturn\u001b[0m \u001b[0mt\u001b[0m  \u001b[0;31m# Don't turn ragged or sparse tensors to NumPy.\u001b[0m\u001b[0;34m\u001b[0m\u001b[0;34m\u001b[0m\u001b[0m\n\u001b[1;32m    522\u001b[0m \u001b[0;34m\u001b[0m\u001b[0m\n\u001b[0;32m--> 523\u001b[0;31m   \u001b[0;32mreturn\u001b[0m \u001b[0mnest\u001b[0m\u001b[0;34m.\u001b[0m\u001b[0mmap_structure\u001b[0m\u001b[0;34m(\u001b[0m\u001b[0m_to_single_numpy_or_python_type\u001b[0m\u001b[0;34m,\u001b[0m \u001b[0mtensors\u001b[0m\u001b[0;34m)\u001b[0m\u001b[0;34m\u001b[0m\u001b[0;34m\u001b[0m\u001b[0m\n\u001b[0m\u001b[1;32m    524\u001b[0m \u001b[0;34m\u001b[0m\u001b[0m\n",
            "\u001b[0;32m/usr/local/lib/python3.6/dist-packages/tensorflow/python/util/nest.py\u001b[0m in \u001b[0;36mmap_structure\u001b[0;34m(func, *structure, **kwargs)\u001b[0m\n\u001b[1;32m    615\u001b[0m \u001b[0;34m\u001b[0m\u001b[0m\n\u001b[1;32m    616\u001b[0m   return pack_sequence_as(\n\u001b[0;32m--> 617\u001b[0;31m       \u001b[0mstructure\u001b[0m\u001b[0;34m[\u001b[0m\u001b[0;36m0\u001b[0m\u001b[0;34m]\u001b[0m\u001b[0;34m,\u001b[0m \u001b[0;34m[\u001b[0m\u001b[0mfunc\u001b[0m\u001b[0;34m(\u001b[0m\u001b[0;34m*\u001b[0m\u001b[0mx\u001b[0m\u001b[0;34m)\u001b[0m \u001b[0;32mfor\u001b[0m \u001b[0mx\u001b[0m \u001b[0;32min\u001b[0m \u001b[0mentries\u001b[0m\u001b[0;34m]\u001b[0m\u001b[0;34m,\u001b[0m\u001b[0;34m\u001b[0m\u001b[0;34m\u001b[0m\u001b[0m\n\u001b[0m\u001b[1;32m    618\u001b[0m       expand_composites=expand_composites)\n\u001b[1;32m    619\u001b[0m \u001b[0;34m\u001b[0m\u001b[0m\n",
            "\u001b[0;32m/usr/local/lib/python3.6/dist-packages/tensorflow/python/util/nest.py\u001b[0m in \u001b[0;36m<listcomp>\u001b[0;34m(.0)\u001b[0m\n\u001b[1;32m    615\u001b[0m \u001b[0;34m\u001b[0m\u001b[0m\n\u001b[1;32m    616\u001b[0m   return pack_sequence_as(\n\u001b[0;32m--> 617\u001b[0;31m       \u001b[0mstructure\u001b[0m\u001b[0;34m[\u001b[0m\u001b[0;36m0\u001b[0m\u001b[0;34m]\u001b[0m\u001b[0;34m,\u001b[0m \u001b[0;34m[\u001b[0m\u001b[0mfunc\u001b[0m\u001b[0;34m(\u001b[0m\u001b[0;34m*\u001b[0m\u001b[0mx\u001b[0m\u001b[0;34m)\u001b[0m \u001b[0;32mfor\u001b[0m \u001b[0mx\u001b[0m \u001b[0;32min\u001b[0m \u001b[0mentries\u001b[0m\u001b[0;34m]\u001b[0m\u001b[0;34m,\u001b[0m\u001b[0;34m\u001b[0m\u001b[0;34m\u001b[0m\u001b[0m\n\u001b[0m\u001b[1;32m    618\u001b[0m       expand_composites=expand_composites)\n\u001b[1;32m    619\u001b[0m \u001b[0;34m\u001b[0m\u001b[0m\n",
            "\u001b[0;32m/usr/local/lib/python3.6/dist-packages/tensorflow/python/keras/utils/tf_utils.py\u001b[0m in \u001b[0;36m_to_single_numpy_or_python_type\u001b[0;34m(t)\u001b[0m\n\u001b[1;32m    517\u001b[0m   \u001b[0;32mdef\u001b[0m \u001b[0m_to_single_numpy_or_python_type\u001b[0m\u001b[0;34m(\u001b[0m\u001b[0mt\u001b[0m\u001b[0;34m)\u001b[0m\u001b[0;34m:\u001b[0m\u001b[0;34m\u001b[0m\u001b[0;34m\u001b[0m\u001b[0m\n\u001b[1;32m    518\u001b[0m     \u001b[0;32mif\u001b[0m \u001b[0misinstance\u001b[0m\u001b[0;34m(\u001b[0m\u001b[0mt\u001b[0m\u001b[0;34m,\u001b[0m \u001b[0mops\u001b[0m\u001b[0;34m.\u001b[0m\u001b[0mTensor\u001b[0m\u001b[0;34m)\u001b[0m\u001b[0;34m:\u001b[0m\u001b[0;34m\u001b[0m\u001b[0;34m\u001b[0m\u001b[0m\n\u001b[0;32m--> 519\u001b[0;31m       \u001b[0mx\u001b[0m \u001b[0;34m=\u001b[0m \u001b[0mt\u001b[0m\u001b[0;34m.\u001b[0m\u001b[0mnumpy\u001b[0m\u001b[0;34m(\u001b[0m\u001b[0;34m)\u001b[0m\u001b[0;34m\u001b[0m\u001b[0;34m\u001b[0m\u001b[0m\n\u001b[0m\u001b[1;32m    520\u001b[0m       \u001b[0;32mreturn\u001b[0m \u001b[0mx\u001b[0m\u001b[0;34m.\u001b[0m\u001b[0mitem\u001b[0m\u001b[0;34m(\u001b[0m\u001b[0;34m)\u001b[0m \u001b[0;32mif\u001b[0m \u001b[0mnp\u001b[0m\u001b[0;34m.\u001b[0m\u001b[0mndim\u001b[0m\u001b[0;34m(\u001b[0m\u001b[0mx\u001b[0m\u001b[0;34m)\u001b[0m \u001b[0;34m==\u001b[0m \u001b[0;36m0\u001b[0m \u001b[0;32melse\u001b[0m \u001b[0mx\u001b[0m\u001b[0;34m\u001b[0m\u001b[0;34m\u001b[0m\u001b[0m\n\u001b[1;32m    521\u001b[0m     \u001b[0;32mreturn\u001b[0m \u001b[0mt\u001b[0m  \u001b[0;31m# Don't turn ragged or sparse tensors to NumPy.\u001b[0m\u001b[0;34m\u001b[0m\u001b[0;34m\u001b[0m\u001b[0m\n",
            "\u001b[0;32m/usr/local/lib/python3.6/dist-packages/tensorflow/python/framework/ops.py\u001b[0m in \u001b[0;36mnumpy\u001b[0;34m(self)\u001b[0m\n\u001b[1;32m    959\u001b[0m     \"\"\"\n\u001b[1;32m    960\u001b[0m     \u001b[0;31m# TODO(slebedev): Consider avoiding a copy for non-CPU or remote tensors.\u001b[0m\u001b[0;34m\u001b[0m\u001b[0;34m\u001b[0m\u001b[0;34m\u001b[0m\u001b[0m\n\u001b[0;32m--> 961\u001b[0;31m     \u001b[0mmaybe_arr\u001b[0m \u001b[0;34m=\u001b[0m \u001b[0mself\u001b[0m\u001b[0;34m.\u001b[0m\u001b[0m_numpy\u001b[0m\u001b[0;34m(\u001b[0m\u001b[0;34m)\u001b[0m  \u001b[0;31m# pylint: disable=protected-access\u001b[0m\u001b[0;34m\u001b[0m\u001b[0;34m\u001b[0m\u001b[0m\n\u001b[0m\u001b[1;32m    962\u001b[0m     \u001b[0;32mreturn\u001b[0m \u001b[0mmaybe_arr\u001b[0m\u001b[0;34m.\u001b[0m\u001b[0mcopy\u001b[0m\u001b[0;34m(\u001b[0m\u001b[0;34m)\u001b[0m \u001b[0;32mif\u001b[0m \u001b[0misinstance\u001b[0m\u001b[0;34m(\u001b[0m\u001b[0mmaybe_arr\u001b[0m\u001b[0;34m,\u001b[0m \u001b[0mnp\u001b[0m\u001b[0;34m.\u001b[0m\u001b[0mndarray\u001b[0m\u001b[0;34m)\u001b[0m \u001b[0;32melse\u001b[0m \u001b[0mmaybe_arr\u001b[0m\u001b[0;34m\u001b[0m\u001b[0;34m\u001b[0m\u001b[0m\n\u001b[1;32m    963\u001b[0m \u001b[0;34m\u001b[0m\u001b[0m\n",
            "\u001b[0;32m/usr/local/lib/python3.6/dist-packages/tensorflow/python/framework/ops.py\u001b[0m in \u001b[0;36m_numpy\u001b[0;34m(self)\u001b[0m\n\u001b[1;32m    925\u001b[0m     \u001b[0;31m# pylint: disable=protected-access\u001b[0m\u001b[0;34m\u001b[0m\u001b[0;34m\u001b[0m\u001b[0;34m\u001b[0m\u001b[0m\n\u001b[1;32m    926\u001b[0m     \u001b[0;32mtry\u001b[0m\u001b[0;34m:\u001b[0m\u001b[0;34m\u001b[0m\u001b[0;34m\u001b[0m\u001b[0m\n\u001b[0;32m--> 927\u001b[0;31m       \u001b[0;32mreturn\u001b[0m \u001b[0mself\u001b[0m\u001b[0;34m.\u001b[0m\u001b[0m_numpy_internal\u001b[0m\u001b[0;34m(\u001b[0m\u001b[0;34m)\u001b[0m\u001b[0;34m\u001b[0m\u001b[0;34m\u001b[0m\u001b[0m\n\u001b[0m\u001b[1;32m    928\u001b[0m     \u001b[0;32mexcept\u001b[0m \u001b[0mcore\u001b[0m\u001b[0;34m.\u001b[0m\u001b[0m_NotOkStatusException\u001b[0m \u001b[0;32mas\u001b[0m \u001b[0me\u001b[0m\u001b[0;34m:\u001b[0m\u001b[0;34m\u001b[0m\u001b[0;34m\u001b[0m\u001b[0m\n\u001b[1;32m    929\u001b[0m       \u001b[0msix\u001b[0m\u001b[0;34m.\u001b[0m\u001b[0mraise_from\u001b[0m\u001b[0;34m(\u001b[0m\u001b[0mcore\u001b[0m\u001b[0;34m.\u001b[0m\u001b[0m_status_to_exception\u001b[0m\u001b[0;34m(\u001b[0m\u001b[0me\u001b[0m\u001b[0;34m.\u001b[0m\u001b[0mcode\u001b[0m\u001b[0;34m,\u001b[0m \u001b[0me\u001b[0m\u001b[0;34m.\u001b[0m\u001b[0mmessage\u001b[0m\u001b[0;34m)\u001b[0m\u001b[0;34m,\u001b[0m \u001b[0;32mNone\u001b[0m\u001b[0;34m)\u001b[0m\u001b[0;34m\u001b[0m\u001b[0;34m\u001b[0m\u001b[0m\n",
            "\u001b[0;31mKeyboardInterrupt\u001b[0m: "
          ]
        }
      ]
    }
  ]
}