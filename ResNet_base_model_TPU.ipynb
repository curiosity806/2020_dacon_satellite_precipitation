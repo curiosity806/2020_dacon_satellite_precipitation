{
  "nbformat": 4,
  "nbformat_minor": 0,
  "metadata": {
    "colab": {
      "name": "ResNet_base_model_TPU",
      "provenance": [],
      "collapsed_sections": [],
      "machine_shape": "hm",
      "include_colab_link": true
    },
    "kernelspec": {
      "name": "python3",
      "display_name": "Python 3"
    },
    "accelerator": "TPU"
  },
  "cells": [
    {
      "cell_type": "markdown",
      "metadata": {
        "id": "view-in-github",
        "colab_type": "text"
      },
      "source": [
        "<a href=\"https://colab.research.google.com/github/curiosity806/2020_dacon_satellite_precipitation/blob/augment8%2Fresnet-single/ResNet_base_model_TPU.ipynb\" target=\"_parent\"><img src=\"https://colab.research.google.com/assets/colab-badge.svg\" alt=\"Open In Colab\"/></a>"
      ]
    },
    {
      "cell_type": "code",
      "metadata": {
        "id": "oi-MWY4HOblX",
        "colab_type": "code",
        "outputId": "5144b6aa-cd34-4d57-a891-e003b57ec6c7",
        "colab": {
          "base_uri": "https://localhost:8080/",
          "height": 107
        }
      },
      "source": [
        "from google.colab import drive\n",
        "drive.mount('/content/drive')"
      ],
      "execution_count": 0,
      "outputs": [
        {
          "output_type": "stream",
          "text": [
            "Go to this URL in a browser: https://accounts.google.com/o/oauth2/auth?client_id=947318989803-6bn6qk8qdgf4n4g3pfee6491hc0brc4i.apps.googleusercontent.com&redirect_uri=urn%3aietf%3awg%3aoauth%3a2.0%3aoob&response_type=code&scope=email%20https%3a%2f%2fwww.googleapis.com%2fauth%2fdocs.test%20https%3a%2f%2fwww.googleapis.com%2fauth%2fdrive%20https%3a%2f%2fwww.googleapis.com%2fauth%2fdrive.photos.readonly%20https%3a%2f%2fwww.googleapis.com%2fauth%2fpeopleapi.readonly\n",
            "\n",
            "Enter your authorization code:\n",
            "··········\n"
          ],
          "name": "stdout"
        }
      ]
    },
    {
      "cell_type": "code",
      "metadata": {
        "id": "_pj84NcY6oGu",
        "colab_type": "code",
        "colab": {}
      },
      "source": [
        "!cp '/content/drive/My Drive/2020 Kaggle Study/data/Copy of train.npy' train.npy"
      ],
      "execution_count": 0,
      "outputs": []
    },
    {
      "cell_type": "code",
      "metadata": {
        "id": "GmamJLo67sjf",
        "colab_type": "code",
        "colab": {}
      },
      "source": [
        ""
      ],
      "execution_count": 0,
      "outputs": []
    },
    {
      "cell_type": "code",
      "metadata": {
        "id": "h6La-zpczGzY",
        "colab_type": "code",
        "outputId": "bc7d0366-ef9e-4cde-8ef0-183e4b7ecad2",
        "colab": {
          "base_uri": "https://localhost:8080/",
          "height": 72
        }
      },
      "source": [
        "import glob\n",
        "import pandas as pd\n",
        "import numpy as np\n",
        "import matplotlib.pylab as plt\n",
        "import seaborn as sns\n",
        "from tqdm import tqdm\n",
        "import matplotlib.pyplot as plt\n",
        "import tensorflow as tf\n",
        "import os\n",
        "import random\n",
        "from tensorflow.keras.layers import Dense, Conv2D, Dropout, Conv2DTranspose, MaxPooling2D, BatchNormalization, Activation, concatenate, Input, GlobalAveragePooling2D\n",
        "from tensorflow.keras import Model\n",
        "import warnings\n",
        "import gc\n",
        "import matplotlib.pyplot as plt\n",
        "import matplotlib.animation as animation\n",
        "from scipy import stats\n",
        "warnings.filterwarnings(\"ignore\")\n",
        "# style 설정\n",
        "plt.style.use('dark_background')\n",
        "plt.style.use('seaborn-colorblind')\n",
        "\n",
        "# 재생산성을 위해 시드 고정\n",
        "np.random.seed(7)\n",
        "random.seed(7)\n",
        "tf.random.set_seed(7)\n",
        "\n",
        "\n",
        "import tensorflow as tf\n",
        "import os\n",
        "import tensorflow_datasets as tfds\n",
        "from sklearn.model_selection import KFold\n",
        "import pickle\n",
        "AUTOTUNE = tf.data.experimental.AUTOTUNE\n",
        "AUTO = tf.data.experimental.AUTOTUNE"
      ],
      "execution_count": 2,
      "outputs": [
        {
          "output_type": "stream",
          "text": [
            "/usr/local/lib/python3.6/dist-packages/statsmodels/tools/_testing.py:19: FutureWarning: pandas.util.testing is deprecated. Use the functions in the public API at pandas.testing instead.\n",
            "  import pandas.util.testing as tm\n"
          ],
          "name": "stderr"
        }
      ]
    },
    {
      "cell_type": "markdown",
      "metadata": {
        "id": "0pUOc4bq-IrZ",
        "colab_type": "text"
      },
      "source": [
        "## 데이터 받아오기"
      ]
    },
    {
      "cell_type": "code",
      "metadata": {
        "id": "36olRM2r6rBE",
        "colab_type": "code",
        "colab": {}
      },
      "source": [
        "#train = np.load('train.npy')\n",
        "train = np.load('train.npy')"
      ],
      "execution_count": 0,
      "outputs": []
    },
    {
      "cell_type": "code",
      "metadata": {
        "id": "ohvb1O7oRto2",
        "colab_type": "code",
        "outputId": "c860e2e9-78ac-4040-c593-3f64801b59f7",
        "colab": {
          "base_uri": "https://localhost:8080/",
          "height": 34
        }
      },
      "source": [
        "train.shape"
      ],
      "execution_count": 56,
      "outputs": [
        {
          "output_type": "execute_result",
          "data": {
            "text/plain": [
              "(76345, 40, 40, 15)"
            ]
          },
          "metadata": {
            "tags": []
          },
          "execution_count": 56
        }
      ]
    },
    {
      "cell_type": "code",
      "metadata": {
        "id": "mJ2EnNuMyY7z",
        "colab_type": "code",
        "outputId": "0c6254a5-f1dc-4b78-bc78-b41272808b77",
        "colab": {
          "base_uri": "https://localhost:8080/",
          "height": 34
        }
      },
      "source": [
        "def preprocess(data):\n",
        "    land_type_data = data[:,:,:,9]\n",
        "    data[:,:,:,9] = np.where(land_type_data//100 == 2, 0.7,\n",
        "                             np.where(land_type_data//100 == 3, 0.3,\n",
        "                                      land_type_data//100))\n",
        "    return data\n",
        "\n",
        "\n",
        "is_valid = (train[:,:,:,-1].reshape(-1, 1600) < 0).sum(axis=1) == 0\n",
        "is_valid = is_valid & ((train[:,:,:,-1].reshape(-1, 1600) >= 0.1).sum(axis=1) >= 50)\n",
        "train = train[is_valid]  # (-1, 40, 40, 15)\n",
        "train = preprocess(train)\n",
        "train.shape"
      ],
      "execution_count": 57,
      "outputs": [
        {
          "output_type": "execute_result",
          "data": {
            "text/plain": [
              "(30662, 40, 40, 15)"
            ]
          },
          "metadata": {
            "tags": []
          },
          "execution_count": 57
        }
      ]
    },
    {
      "cell_type": "markdown",
      "metadata": {
        "id": "ARExxyqONfIK",
        "colab_type": "text"
      },
      "source": [
        "#모델 만들기"
      ]
    },
    {
      "cell_type": "code",
      "metadata": {
        "id": "dz008iV85Oi3",
        "colab_type": "code",
        "colab": {}
      },
      "source": [
        "def create_model():\n",
        "    inputs=Input((40, 40, 10))\n",
        "    \n",
        "    conv0=Conv2D(256, kernel_size=1, strides=1, padding='same', activation='relu')(inputs)\n",
        "    conv0=Dropout(0.5)(conv0)\n",
        "    \n",
        "    bn=BatchNormalization()(conv0)\n",
        "    conv=Conv2D(128, kernel_size=2, strides=1, padding='same', activation='relu')(bn)\n",
        "    conv=Dropout(0.5)(conv)\n",
        "    concat=concatenate([conv0, conv], axis=3)\n",
        "    \n",
        "    bn=BatchNormalization()(concat)\n",
        "    conv=Conv2D(64, kernel_size=3, strides=1, padding='same', activation='relu')(bn)\n",
        "    conv=Dropout(0.5)(conv)\n",
        "    concat=concatenate([concat, conv], axis=3)\n",
        "\n",
        "    for i in range(5):\n",
        "        bn=BatchNormalization()(concat)\n",
        "        conv=Conv2D(32, kernel_size=3, strides=1, padding='same', activation='relu')(bn)\n",
        "        conv=Dropout(0.5)(conv)\n",
        "        concat=concatenate([concat, conv], axis=3)\n",
        "    \n",
        "    bn=BatchNormalization()(concat)\n",
        "    outputs=Conv2D(1, kernel_size=1, strides=1, padding='same', activation='relu')(bn)\n",
        "    \n",
        "    model=Model(inputs=inputs, outputs=outputs)\n",
        "    \n",
        "    return model"
      ],
      "execution_count": 0,
      "outputs": []
    },
    {
      "cell_type": "code",
      "metadata": {
        "id": "i_NhbS4s09p_",
        "colab_type": "code",
        "colab": {}
      },
      "source": [
        "from sklearn.metrics import f1_score\n",
        "\n",
        "def mae(y_true, y_pred) :\n",
        "    y_true, y_pred = np.array(y_true), np.array(y_pred)\n",
        "    y_true = y_true.reshape(1, -1)[0]\n",
        "    y_pred = y_pred.reshape(1, -1)[0]\n",
        "    over_threshold = y_true >= 0.1\n",
        "    return np.mean(np.abs(y_true[over_threshold] - y_pred[over_threshold]))\n",
        "\n",
        "def fscore(y_true, y_pred):\n",
        "    y_true, y_pred = np.array(y_true), np.array(y_pred)\n",
        "    y_true = y_true.reshape(1, -1)[0]\n",
        "    y_pred = y_pred.reshape(1, -1)[0]\n",
        "    remove_NAs = y_true >= 0\n",
        "    y_true = np.where(y_true[remove_NAs] >= 0.1, 1, 0)\n",
        "    y_pred = np.where(y_pred[remove_NAs] >= 0.1, 1, 0)\n",
        "    return(f1_score(y_true, y_pred))\n",
        "\n",
        "def maeOverFscore(y_true, y_pred):\n",
        "    return mae(y_true, y_pred) / (fscore(y_true, y_pred) + 1e-07)\n",
        "\n",
        "def fscore_keras(y_true, y_pred):\n",
        "    score = tf.py_function(func=fscore, inp=[y_true, y_pred], Tout=tf.float32, name='fscore_keras')\n",
        "    return score\n",
        "\n",
        "def maeOverFscore_keras(y_true, y_pred):\n",
        "    score = tf.py_function(func=maeOverFscore, inp=[y_true, y_pred], Tout=tf.float32,  name='custom_mse') \n",
        "    return score"
      ],
      "execution_count": 0,
      "outputs": []
    },
    {
      "cell_type": "markdown",
      "metadata": {
        "colab_type": "text",
        "id": "nWrybUnXIts7"
      },
      "source": [
        "## 데이터 제네레이터 만들기"
      ]
    },
    {
      "cell_type": "code",
      "metadata": {
        "id": "KIZ4mjSuwIFz",
        "colab_type": "code",
        "outputId": "b6385ab9-c90f-4b38-ae91-e97f6a05c66d",
        "colab": {
          "base_uri": "https://localhost:8080/",
          "height": 34
        }
      },
      "source": [
        "train.shape"
      ],
      "execution_count": 0,
      "outputs": [
        {
          "output_type": "execute_result",
          "data": {
            "text/plain": [
              "(30662, 40, 40, 15)"
            ]
          },
          "metadata": {
            "tags": []
          },
          "execution_count": 7
        }
      ]
    },
    {
      "cell_type": "code",
      "metadata": {
        "id": "mSD50xCMQ6yM",
        "colab_type": "code",
        "colab": {}
      },
      "source": [
        "import tensorflow as tf, tensorflow.keras.backend as K\n",
        "import math\n",
        "\n",
        "def get_mat():\n",
        "    # returns 3x3 transformmatrix which transforms indicies\n",
        "    # CONVERT DEGREES TO RADIANS\n",
        "    rotation = tf.random.uniform([1], minval=0, maxval=4, dtype=tf.dtypes.int32, seed=None, name=None) / 2 * math.pi\n",
        "\n",
        "    # ROTATION MATRIX\n",
        "    rotation = tf.random.uniform([1], minval=0, maxval=4, dtype=tf.dtypes.int32, seed=None, name=None)\n",
        "    rotation = tf.cast(rotation, 'float32')\n",
        "    rotation = rotation * math.pi / 2.\n",
        "    c1 = tf.math.cos(rotation)\n",
        "    s1 = tf.math.sin(rotation)\n",
        "    one = tf.constant([1],dtype='float32')\n",
        "    zero = tf.constant([0],dtype='float32')\n",
        "    rotation_matrix = tf.reshape( tf.concat([c1,s1,zero, -s1,c1,zero, zero,zero,one],axis=0),[3,3] )\n",
        "\n",
        "    # TRANSPOSE MATRIX \n",
        "    de_t = tf.random.uniform([1], minval = 0, maxval = 2, dtype = tf.int32)\n",
        "    de_t = tf.cast(de_t, 'float32')\n",
        "    forty = tf.constant([40],dtype='float32')\n",
        "    transpose_matrix = tf.reshape( tf.concat([1 - de_t, -de_t, de_t, -de_t, 1 - de_t, de_t, zero, zero, one], axis = 0),[3,3])   \n",
        "    return K.dot(rotation_matrix, transpose_matrix)\n",
        "\n",
        "def transform(train_x,train_y):\n",
        "    # input image - is one image of size [dim,dim,3] not a batch of [b,dim,dim,3]\n",
        "    # output - image randomly rotated, sheared, zoomed, and shifted\n",
        "    DIM = 40\n",
        "    # GET TRANSFORMATION MATRIX\n",
        "    m = get_mat()\n",
        "    x = tf.repeat( tf.range(DIM//2,-DIM//2,-1), DIM)\n",
        "    y = tf.tile( tf.range(-DIM//2,DIM//2),[DIM])\n",
        "    z = tf.ones([DIM*DIM],dtype='int32')\n",
        "    idx = tf.stack( [x,y,z] )\n",
        "    \n",
        "    # ROTATE DESTINATION PIXELS ONTO ORIGIN PIXELS\n",
        "    idx2 = K.dot(m,tf.cast(idx,dtype='float32'))\n",
        "    idx2 = K.cast(idx2,dtype='int32')\n",
        "    idx2 = K.clip(idx2,-DIM//2+1,DIM//2)\n",
        "    \n",
        "    # FIND ORIGIN PIXEL VALUES           \n",
        "    idx3 = tf.stack( [DIM//2-idx2[0,], DIM//2-1+idx2[1,]])\n",
        "    train_x_img = tf.gather_nd(train_x,tf.transpose(idx3))\n",
        "    train_y_img = tf.gather_nd(train_y,tf.transpose(idx3))\n",
        "\n",
        "    return tf.reshape(train_x_img,[DIM,DIM,10]),tf.reshape(train_y_img,[DIM,DIM,1])\n",
        "\n",
        "def get_training_dataset(dataset,batch_size = None):\n",
        "    dataset = dataset.with_options(tf.data.Options())\n",
        "    dataset = dataset.map(transform, num_parallel_calls=AUTO)\n",
        "    dataset = dataset.repeat() # the training dataset must repeat for several epochs\n",
        "    dataset = dataset.shuffle(2048)\n",
        "    dataset = dataset.batch(batch_size)\n",
        "    dataset = dataset.prefetch(AUTO) # prefetch next batch while training (autotune prefetch buffer size)\n",
        "    return dataset\n",
        "\n",
        "def get_validation_dataset(dataset,batch_size = None):\n",
        "    dataset = dataset.batch(batch_size)\n",
        "    dataset = dataset.cache()\n",
        "    dataset = dataset.prefetch(AUTO) # prefetch next batch while training (autotune prefetch buffer size)\n",
        "    return dataset"
      ],
      "execution_count": 0,
      "outputs": []
    },
    {
      "cell_type": "code",
      "metadata": {
        "id": "gwcl-Pf5lju9",
        "colab_type": "code",
        "outputId": "c18b7ef1-9b78-41fb-cccb-1ada89f501ca",
        "colab": {
          "base_uri": "https://localhost:8080/",
          "height": 87
        }
      },
      "source": [
        "zero = tf.constant([0],dtype='float32')\n",
        "one = tf.constant([1],dtype='float32')\n",
        "\n",
        "de_t = tf.random.uniform([1], minval = 0, maxval = 2, dtype = tf.int32)\n",
        "de_t = tf.cast(de_t, 'float32')\n",
        "forty = tf.constant([40],dtype='float32')\n",
        "tf.reshape( tf.concat([1 - de_t, -de_t, de_t, -de_t, 1 - de_t, de_t, zero, zero, one-de_t], axis = 0),[3,3])\n"
      ],
      "execution_count": 121,
      "outputs": [
        {
          "output_type": "execute_result",
          "data": {
            "text/plain": [
              "<tf.Tensor: shape=(3, 3), dtype=float32, numpy=\n",
              "array([[ 0., -1.,  1.],\n",
              "       [-1.,  0.,  1.],\n",
              "       [ 0.,  0.,  0.]], dtype=float32)>"
            ]
          },
          "metadata": {
            "tags": []
          },
          "execution_count": 121
        }
      ]
    },
    {
      "cell_type": "code",
      "metadata": {
        "id": "MdNjMuxwO6HY",
        "colab_type": "code",
        "outputId": "54358c70-4324-42f3-f2d3-342f34ed4937",
        "colab": {
          "base_uri": "https://localhost:8080/",
          "height": 479
        }
      },
      "source": [
        "x_train =train[:1000,:,:,:10]\n",
        "y_train = train[:1000,:,:,-1].reshape(-1,40,40,1)\n",
        "\n",
        "train_batches = tf.data.Dataset.from_tensor_slices((x_train, y_train))\n",
        "train_batches = get_training_dataset(train_batches, batch_size = 8)\n",
        "\n",
        "n = 0 \n",
        "for (img_x,label) in train_batches:\n",
        "    plt.figure(figsize=(15,int(15*2/4)))\n",
        "    print(img_x.shape)\n",
        "    if n == 1:\n",
        "        for j in range(8):\n",
        "            plt.subplot(4,4,j+1)\n",
        "            plt.axis('off')\n",
        "            plt.imshow(img_x[j,:,:,4])\n",
        "    if n == 2:\n",
        "        for j in range(8):\n",
        "            plt.subplot(4,4,j+1+8)\n",
        "            plt.axis('off')\n",
        "            plt.imshow(img_x[j,:,:,4])\n",
        "    if n == 2:\n",
        "        break\n",
        "    n = n+1"
      ],
      "execution_count": 123,
      "outputs": [
        {
          "output_type": "stream",
          "text": [
            "(8, 40, 40, 10)\n",
            "(8, 40, 40, 10)\n",
            "(8, 40, 40, 10)\n"
          ],
          "name": "stdout"
        },
        {
          "output_type": "display_data",
          "data": {
            "text/plain": [
              "<Figure size 1080x504 with 0 Axes>"
            ]
          },
          "metadata": {
            "tags": []
          }
        },
        {
          "output_type": "display_data",
          "data": {
            "image/png": "[encoded data removed]",
            "text/plain": [
              "<Figure size 1080x504 with 8 Axes>"
            ]
          },
          "metadata": {
            "tags": []
          }
        },
        {
          "output_type": "display_data",
          "data": {
            "image/png": "[encoded data removed]",
            "text/plain": [
              "<Figure size 1080x504 with 8 Axes>"
            ]
          },
          "metadata": {
            "tags": []
          }
        }
      ]
    },
    {
      "cell_type": "code",
      "metadata": {
        "id": "uSCP-RNmWNSL",
        "colab_type": "code",
        "colab": {}
      },
      "source": [
        "\n",
        "from sklearn.metrics import f1_score\n",
        "\n",
        "def mae(y_true, y_pred) :\n",
        "    y_true, y_pred = np.array(y_true), np.array(y_pred)\n",
        "    y_true = y_true.reshape(1, -1)[0]\n",
        "    y_pred = y_pred.reshape(1, -1)[0]\n",
        "    over_threshold = y_true >= 0.1\n",
        "    return np.mean(np.abs(y_true[over_threshold] - y_pred[over_threshold]))\n",
        "\n",
        "def fscore(y_true, y_pred):\n",
        "    y_true, y_pred = np.array(y_true), np.array(y_pred)\n",
        "    y_true = y_true.reshape(1, -1)[0]\n",
        "    y_pred = y_pred.reshape(1, -1)[0]\n",
        "    remove_NAs = y_true >= 0\n",
        "    y_true = np.where(y_true[remove_NAs] >= 0.1, 1, 0)\n",
        "    y_pred = np.where(y_pred[remove_NAs] >= 0.1, 1, 0)\n",
        "    return(f1_score(y_true, y_pred))\n",
        "\n",
        "def maeOverFscore(y_true, y_pred):\n",
        "    return mae(y_true, y_pred) / (fscore(y_true, y_pred) + 1e-07)\n",
        "\n",
        "def fscore_keras(y_true, y_pred):\n",
        "    score = tf.py_function(func=fscore, inp=[y_true, y_pred], Tout=tf.float32, name='fscore_keras')\n",
        "    return score\n",
        "\n",
        "def maeOverFscore_keras(y_true, y_pred):\n",
        "    score = tf.py_function(func=maeOverFscore, inp=[y_true, y_pred], Tout=tf.float32,  name='custom_mse') \n",
        "    return score\n",
        "def create_model():\n",
        "    inputs=Input((40, 40, 10))\n",
        "    \n",
        "    bn=BatchNormalization()(inputs)\n",
        "    conv0=Conv2D(256, kernel_size=1, strides=1, padding='same', activation='relu')(bn)\n",
        "    \n",
        "    bn=BatchNormalization()(conv0)\n",
        "    conv=Conv2D(128, kernel_size=2, strides=1, padding='same', activation='relu')(bn)\n",
        "    concat=concatenate([conv0, conv], axis=3)\n",
        "    \n",
        "    bn=BatchNormalization()(concat)\n",
        "    conv=Conv2D(64, kernel_size=3, strides=1, padding='same', activation='relu')(bn)\n",
        "    concat=concatenate([concat, conv], axis=3)\n",
        "\n",
        "    for i in range(5):\n",
        "        bn=BatchNormalization()(concat)\n",
        "        conv=Conv2D(32, kernel_size=3, strides=1, padding='same', activation='relu')(bn)\n",
        "        concat=concatenate([concat, conv], axis=3)\n",
        "    \n",
        "    bn=BatchNormalization()(concat)\n",
        "    outputs=Conv2D(1, kernel_size=1, strides=1, padding='same', activation='relu')(bn)\n",
        "    \n",
        "    model=Model(inputs=inputs, outputs=outputs)\n",
        "    \n",
        "    return model"
      ],
      "execution_count": 0,
      "outputs": []
    },
    {
      "cell_type": "code",
      "metadata": {
        "id": "O7WSmds7cOGW",
        "colab_type": "code",
        "colab": {}
      },
      "source": [
        "import warnings\n",
        "warnings.filterwarnings('ignore')"
      ],
      "execution_count": 0,
      "outputs": []
    },
    {
      "cell_type": "code",
      "metadata": {
        "id": "IfVk2oGruQ9y",
        "colab_type": "code",
        "colab": {}
      },
      "source": [
        "### tensor로 score matric 구현\n",
        "\n",
        "def f1_metric(y_true, y_pred):\n",
        "    true_positives = K.sum(K.round(K.clip(y_true * y_pred, 0, 1)))\n",
        "    possible_positives = K.sum(K.round(K.clip(y_true, 0, 1)))\n",
        "    predicted_positives = K.sum(K.round(K.clip(y_pred, 0, 1)))\n",
        "    precision = true_positives / (predicted_positives + K.epsilon())\n",
        "    recall = true_positives / (possible_positives + K.epsilon())\n",
        "    f1_val = 2*(precision*recall)/(precision+recall+K.epsilon())\n",
        "    return f1_val\n",
        "\n",
        "\n",
        "def custom_mae(y_true, y_pred):\n",
        "    y_error = y_pred - y_true\n",
        "    bool_idx = tf.less_equal(0.1,y_true)\n",
        "    len_mae = tf.reduce_sum(tf.cast(bool_idx, tf.float32))\n",
        "    socre = tf.math.abs(y_error)\n",
        "    mae = tf.keras.backend.switch(bool_idx, socre, 0)\n",
        "    return tf.divide(tf.math.reduce_sum(mae), len_mae)\n",
        "\n",
        "def custum_f1score(y_true, y_pred):\n",
        "    bool_true = tf.less_equal(0.1,y_true)\n",
        "    y_true = tf.where(bool_true, 1., 0.)\n",
        "    bool_pred = tf.less_equal(0.1,y_pred)\n",
        "    y_pred = tf.where(bool_pred, 1., 0.)\n",
        "    return(f1_metric(y_true, y_pred))\n",
        "\n",
        "\n",
        "def maeOverFscore(y_true, y_pred):\n",
        "    f1_score = custum_f1score(y_true, y_pred) + 1e-07\n",
        "    return tf.divide(custom_mae(y_true, y_pred), f1_score)"
      ],
      "execution_count": 0,
      "outputs": []
    },
    {
      "cell_type": "code",
      "metadata": {
        "id": "6iKnoynYWNP6",
        "colab_type": "code",
        "outputId": "365cdf81-25d5-4da8-c067-87bdf9575a62",
        "colab": {
          "base_uri": "https://localhost:8080/",
          "height": 1000
        }
      },
      "source": [
        "k_fold = KFold(n_splits=5, shuffle=True, random_state=7777)\n",
        "\n",
        "model_number = 0\n",
        "histories = []\n",
        "for train_idx, val_idx in k_fold.split(train):\n",
        "    print(f'Fold{model_number + 1}')\n",
        "    #x_val, y_val = train[val_idx, :, :, :10], train[val_idx, :, :, -1]\n",
        "    models = []\n",
        "    ### TPU 할당 및 초기화-------------------\n",
        "    resolver = tf.distribute.cluster_resolver.TPUClusterResolver(tpu='grpc://' + os.environ['COLAB_TPU_ADDR'])\n",
        "    tf.config.experimental_connect_to_cluster(resolver)\n",
        "    # This is the TPU initialization code that has to be at the beginning.\n",
        "    tf.tpu.experimental.initialize_tpu_system(resolver)\n",
        "    strategy = tf.distribute.experimental.TPUStrategy(resolver)\n",
        "    ### 모델 생성 및 compile-------------------\n",
        "    with strategy.scope():\n",
        "        model = create_model()\n",
        "        model.compile(optimizer = 'adam',loss = 'mae',\n",
        "        metrics=[maeOverFscore, custum_f1score, custom_mae]\n",
        "        )\n",
        "    ### 콜백 생성-------------------\n",
        "    callbacks_list = [\n",
        "        tf.keras.callbacks.ReduceLROnPlateau(\n",
        "            monitor='val_loss',\n",
        "            patience=3,\n",
        "            factor=0.9\n",
        "        ),\n",
        "\n",
        "        tf.keras.callbacks.ModelCheckpoint(\n",
        "            filepath = f'/content/drive/My Drive/2020 Kaggle Study/deagwon/resnet_augment8/restnet_model_{model_number}.h5',\n",
        "            monitor='val_maeOverFscore',\n",
        "            save_best_only=True\n",
        "        )\n",
        "    ]\n",
        "    # batch_dataset 만들기------------------\n",
        "    batch_size = 64\n",
        "    #train_batch\n",
        "    train_dataset = tf.data.Dataset.from_tensor_slices((train[train_idx, :, :, :10],\n",
        "                                                        train[train_idx, :, :, -1]))\n",
        "    train_dataset = get_training_dataset(train_dataset,\n",
        "                                         batch_size = batch_size)\n",
        "    #validation_batch\n",
        "    validation_dataset = tf.data.Dataset.from_tensor_slices((train[val_idx, :, :, :10],\n",
        "                                        train[val_idx, :, :, -1]))\n",
        "    \n",
        "    validation_dataset = get_validation_dataset(validation_dataset,\n",
        "                                                batch_size = batch_size)\n",
        "    ### model.fit-------------------\n",
        "    history = model.fit(train_dataset, epochs=50,\n",
        "            steps_per_epoch = len(train[train_idx, :, :, :10]) * 8 // batch_size,\n",
        "            validation_data=validation_dataset,\n",
        "            callbacks=callbacks_list\n",
        "            )\n",
        "    \n",
        "    with open(f'/content/drive/My Drive/2020 Kaggle Study/deagwon/resnet_augment8/histtory_{model_number}', 'wb') as file_pi:\n",
        "            pickle.dump(history.history, file_pi)\n",
        "\n",
        "    model_number = model_number + 1\n",
        "    ### model append -------------------"
      ],
      "execution_count": 0,
      "outputs": [
        {
          "output_type": "stream",
          "text": [
            "Fold1\n",
            "WARNING:tensorflow:TPU system grpc://10.12.160.90:8470 has already been initialized. Reinitializing the TPU can cause previously created variables on TPU to be lost.\n"
          ],
          "name": "stdout"
        },
        {
          "output_type": "stream",
          "text": [
            "WARNING:tensorflow:TPU system grpc://10.12.160.90:8470 has already been initialized. Reinitializing the TPU can cause previously created variables on TPU to be lost.\n"
          ],
          "name": "stderr"
        },
        {
          "output_type": "stream",
          "text": [
            "INFO:tensorflow:Initializing the TPU system: grpc://10.12.160.90:8470\n"
          ],
          "name": "stdout"
        },
        {
          "output_type": "stream",
          "text": [
            "INFO:tensorflow:Initializing the TPU system: grpc://10.12.160.90:8470\n"
          ],
          "name": "stderr"
        },
        {
          "output_type": "stream",
          "text": [
            "INFO:tensorflow:Clearing out eager caches\n"
          ],
          "name": "stdout"
        },
        {
          "output_type": "stream",
          "text": [
            "INFO:tensorflow:Clearing out eager caches\n"
          ],
          "name": "stderr"
        },
        {
          "output_type": "stream",
          "text": [
            "INFO:tensorflow:Finished initializing TPU system.\n"
          ],
          "name": "stdout"
        },
        {
          "output_type": "stream",
          "text": [
            "INFO:tensorflow:Finished initializing TPU system.\n"
          ],
          "name": "stderr"
        },
        {
          "output_type": "stream",
          "text": [
            "INFO:tensorflow:Found TPU system:\n"
          ],
          "name": "stdout"
        },
        {
          "output_type": "stream",
          "text": [
            "INFO:tensorflow:Found TPU system:\n"
          ],
          "name": "stderr"
        },
        {
          "output_type": "stream",
          "text": [
            "INFO:tensorflow:*** Num TPU Cores: 8\n"
          ],
          "name": "stdout"
        },
        {
          "output_type": "stream",
          "text": [
            "INFO:tensorflow:*** Num TPU Cores: 8\n"
          ],
          "name": "stderr"
        },
        {
          "output_type": "stream",
          "text": [
            "INFO:tensorflow:*** Num TPU Workers: 1\n"
          ],
          "name": "stdout"
        },
        {
          "output_type": "stream",
          "text": [
            "INFO:tensorflow:*** Num TPU Workers: 1\n"
          ],
          "name": "stderr"
        },
        {
          "output_type": "stream",
          "text": [
            "INFO:tensorflow:*** Num TPU Cores Per Worker: 8\n"
          ],
          "name": "stdout"
        },
        {
          "output_type": "stream",
          "text": [
            "INFO:tensorflow:*** Num TPU Cores Per Worker: 8\n"
          ],
          "name": "stderr"
        },
        {
          "output_type": "stream",
          "text": [
            "INFO:tensorflow:*** Available Device: _DeviceAttributes(/job:localhost/replica:0/task:0/device:CPU:0, CPU, 0, 0)\n"
          ],
          "name": "stdout"
        },
        {
          "output_type": "stream",
          "text": [
            "INFO:tensorflow:*** Available Device: _DeviceAttributes(/job:localhost/replica:0/task:0/device:CPU:0, CPU, 0, 0)\n"
          ],
          "name": "stderr"
        },
        {
          "output_type": "stream",
          "text": [
            "INFO:tensorflow:*** Available Device: _DeviceAttributes(/job:localhost/replica:0/task:0/device:XLA_CPU:0, XLA_CPU, 0, 0)\n"
          ],
          "name": "stdout"
        },
        {
          "output_type": "stream",
          "text": [
            "INFO:tensorflow:*** Available Device: _DeviceAttributes(/job:localhost/replica:0/task:0/device:XLA_CPU:0, XLA_CPU, 0, 0)\n"
          ],
          "name": "stderr"
        },
        {
          "output_type": "stream",
          "text": [
            "INFO:tensorflow:*** Available Device: _DeviceAttributes(/job:worker/replica:0/task:0/device:CPU:0, CPU, 0, 0)\n"
          ],
          "name": "stdout"
        },
        {
          "output_type": "stream",
          "text": [
            "INFO:tensorflow:*** Available Device: _DeviceAttributes(/job:worker/replica:0/task:0/device:CPU:0, CPU, 0, 0)\n"
          ],
          "name": "stderr"
        },
        {
          "output_type": "stream",
          "text": [
            "INFO:tensorflow:*** Available Device: _DeviceAttributes(/job:worker/replica:0/task:0/device:TPU:0, TPU, 0, 0)\n"
          ],
          "name": "stdout"
        },
        {
          "output_type": "stream",
          "text": [
            "INFO:tensorflow:*** Available Device: _DeviceAttributes(/job:worker/replica:0/task:0/device:TPU:0, TPU, 0, 0)\n"
          ],
          "name": "stderr"
        },
        {
          "output_type": "stream",
          "text": [
            "INFO:tensorflow:*** Available Device: _DeviceAttributes(/job:worker/replica:0/task:0/device:TPU:1, TPU, 0, 0)\n"
          ],
          "name": "stdout"
        },
        {
          "output_type": "stream",
          "text": [
            "INFO:tensorflow:*** Available Device: _DeviceAttributes(/job:worker/replica:0/task:0/device:TPU:1, TPU, 0, 0)\n"
          ],
          "name": "stderr"
        },
        {
          "output_type": "stream",
          "text": [
            "INFO:tensorflow:*** Available Device: _DeviceAttributes(/job:worker/replica:0/task:0/device:TPU:2, TPU, 0, 0)\n"
          ],
          "name": "stdout"
        },
        {
          "output_type": "stream",
          "text": [
            "INFO:tensorflow:*** Available Device: _DeviceAttributes(/job:worker/replica:0/task:0/device:TPU:2, TPU, 0, 0)\n"
          ],
          "name": "stderr"
        },
        {
          "output_type": "stream",
          "text": [
            "INFO:tensorflow:*** Available Device: _DeviceAttributes(/job:worker/replica:0/task:0/device:TPU:3, TPU, 0, 0)\n"
          ],
          "name": "stdout"
        },
        {
          "output_type": "stream",
          "text": [
            "INFO:tensorflow:*** Available Device: _DeviceAttributes(/job:worker/replica:0/task:0/device:TPU:3, TPU, 0, 0)\n"
          ],
          "name": "stderr"
        },
        {
          "output_type": "stream",
          "text": [
            "INFO:tensorflow:*** Available Device: _DeviceAttributes(/job:worker/replica:0/task:0/device:TPU:4, TPU, 0, 0)\n"
          ],
          "name": "stdout"
        },
        {
          "output_type": "stream",
          "text": [
            "INFO:tensorflow:*** Available Device: _DeviceAttributes(/job:worker/replica:0/task:0/device:TPU:4, TPU, 0, 0)\n"
          ],
          "name": "stderr"
        },
        {
          "output_type": "stream",
          "text": [
            "INFO:tensorflow:*** Available Device: _DeviceAttributes(/job:worker/replica:0/task:0/device:TPU:5, TPU, 0, 0)\n"
          ],
          "name": "stdout"
        },
        {
          "output_type": "stream",
          "text": [
            "INFO:tensorflow:*** Available Device: _DeviceAttributes(/job:worker/replica:0/task:0/device:TPU:5, TPU, 0, 0)\n"
          ],
          "name": "stderr"
        },
        {
          "output_type": "stream",
          "text": [
            "INFO:tensorflow:*** Available Device: _DeviceAttributes(/job:worker/replica:0/task:0/device:TPU:6, TPU, 0, 0)\n"
          ],
          "name": "stdout"
        },
        {
          "output_type": "stream",
          "text": [
            "INFO:tensorflow:*** Available Device: _DeviceAttributes(/job:worker/replica:0/task:0/device:TPU:6, TPU, 0, 0)\n"
          ],
          "name": "stderr"
        },
        {
          "output_type": "stream",
          "text": [
            "INFO:tensorflow:*** Available Device: _DeviceAttributes(/job:worker/replica:0/task:0/device:TPU:7, TPU, 0, 0)\n"
          ],
          "name": "stdout"
        },
        {
          "output_type": "stream",
          "text": [
            "INFO:tensorflow:*** Available Device: _DeviceAttributes(/job:worker/replica:0/task:0/device:TPU:7, TPU, 0, 0)\n"
          ],
          "name": "stderr"
        },
        {
          "output_type": "stream",
          "text": [
            "INFO:tensorflow:*** Available Device: _DeviceAttributes(/job:worker/replica:0/task:0/device:TPU_SYSTEM:0, TPU_SYSTEM, 0, 0)\n"
          ],
          "name": "stdout"
        },
        {
          "output_type": "stream",
          "text": [
            "INFO:tensorflow:*** Available Device: _DeviceAttributes(/job:worker/replica:0/task:0/device:TPU_SYSTEM:0, TPU_SYSTEM, 0, 0)\n"
          ],
          "name": "stderr"
        },
        {
          "output_type": "stream",
          "text": [
            "INFO:tensorflow:*** Available Device: _DeviceAttributes(/job:worker/replica:0/task:0/device:XLA_CPU:0, XLA_CPU, 0, 0)\n"
          ],
          "name": "stdout"
        },
        {
          "output_type": "stream",
          "text": [
            "INFO:tensorflow:*** Available Device: _DeviceAttributes(/job:worker/replica:0/task:0/device:XLA_CPU:0, XLA_CPU, 0, 0)\n"
          ],
          "name": "stderr"
        },
        {
          "output_type": "stream",
          "text": [
            "Epoch 1/50\n",
            "3066/3066 [==============================] - 136s 44ms/step - maeOverFscore: 2.1085 - loss: 0.2461 - custum_f1score: 0.6957 - custom_mae: 1.4488 - val_maeOverFscore: 1.9231 - val_loss: 0.2305 - val_custum_f1score: 0.7318 - val_custom_mae: 1.4091 - lr: 0.0010\n",
            "Epoch 2/50\n",
            "3066/3066 [==============================] - 127s 41ms/step - maeOverFscore: 1.8643 - loss: 0.2282 - custum_f1score: 0.7307 - custom_mae: 1.3651 - val_maeOverFscore: 1.8682 - val_loss: 0.2251 - val_custum_f1score: 0.7358 - val_custom_mae: 1.3755 - lr: 0.0010\n",
            "Epoch 3/50\n",
            "3066/3066 [==============================] - 126s 41ms/step - maeOverFscore: 1.7950 - loss: 0.2239 - custum_f1score: 0.7443 - custom_mae: 1.3396 - val_maeOverFscore: 1.8862 - val_loss: 0.2285 - val_custum_f1score: 0.7333 - val_custom_mae: 1.3791 - lr: 0.0010\n",
            "Epoch 4/50\n",
            "3066/3066 [==============================] - 131s 43ms/step - maeOverFscore: 1.7467 - loss: 0.2209 - custum_f1score: 0.7542 - custom_mae: 1.3220 - val_maeOverFscore: 1.8556 - val_loss: 0.2220 - val_custum_f1score: 0.7343 - val_custom_mae: 1.3614 - lr: 0.0010\n",
            "Epoch 5/50\n",
            "3066/3066 [==============================] - 127s 41ms/step - maeOverFscore: 1.7196 - loss: 0.2188 - custum_f1score: 0.7593 - custom_mae: 1.3101 - val_maeOverFscore: 1.8188 - val_loss: 0.2236 - val_custum_f1score: 0.7466 - val_custom_mae: 1.3588 - lr: 0.0010\n",
            "Epoch 6/50\n",
            "3066/3066 [==============================] - 127s 41ms/step - maeOverFscore: 1.7000 - loss: 0.2177 - custum_f1score: 0.7632 - custom_mae: 1.3019 - val_maeOverFscore: 1.7300 - val_loss: 0.2217 - val_custum_f1score: 0.7708 - val_custom_mae: 1.3399 - lr: 0.0010\n",
            "Epoch 7/50\n",
            "3066/3066 [==============================] - 125s 41ms/step - maeOverFscore: 1.6858 - loss: 0.2165 - custum_f1score: 0.7655 - custom_mae: 1.2950 - val_maeOverFscore: 1.7915 - val_loss: 0.2275 - val_custum_f1score: 0.7663 - val_custom_mae: 1.3780 - lr: 0.0010\n",
            "Epoch 8/50\n",
            "3066/3066 [==============================] - 126s 41ms/step - maeOverFscore: 1.6681 - loss: 0.2156 - custum_f1score: 0.7691 - custom_mae: 1.2880 - val_maeOverFscore: 1.7469 - val_loss: 0.2218 - val_custum_f1score: 0.7687 - val_custom_mae: 1.3465 - lr: 0.0010\n",
            "Epoch 9/50\n",
            "3066/3066 [==============================] - 126s 41ms/step - maeOverFscore: 1.6586 - loss: 0.2148 - custum_f1score: 0.7705 - custom_mae: 1.2829 - val_maeOverFscore: 1.8083 - val_loss: 0.2248 - val_custum_f1score: 0.7410 - val_custom_mae: 1.3407 - lr: 0.0010\n",
            "Epoch 10/50\n",
            "3066/3066 [==============================] - 128s 42ms/step - maeOverFscore: 1.6463 - loss: 0.2137 - custum_f1score: 0.7732 - custom_mae: 1.2775 - val_maeOverFscore: 1.7206 - val_loss: 0.2207 - val_custum_f1score: 0.7637 - val_custom_mae: 1.3175 - lr: 9.0000e-04\n",
            "Epoch 11/50\n",
            "3066/3066 [==============================] - 126s 41ms/step - maeOverFscore: 1.6450 - loss: 0.2134 - custum_f1score: 0.7743 - custom_mae: 1.2783 - val_maeOverFscore: 1.7904 - val_loss: 0.2277 - val_custum_f1score: 0.7421 - val_custom_mae: 1.3289 - lr: 9.0000e-04\n",
            "Epoch 12/50\n",
            "3066/3066 [==============================] - 126s 41ms/step - maeOverFscore: 1.6333 - loss: 0.2126 - custum_f1score: 0.7753 - custom_mae: 1.2710 - val_maeOverFscore: 1.7359 - val_loss: 0.2259 - val_custum_f1score: 0.7692 - val_custom_mae: 1.3410 - lr: 9.0000e-04\n",
            "Epoch 13/50\n",
            "3066/3066 [==============================] - 128s 42ms/step - maeOverFscore: 1.6307 - loss: 0.2125 - custum_f1score: 0.7765 - custom_mae: 1.2704 - val_maeOverFscore: 1.7193 - val_loss: 0.2183 - val_custum_f1score: 0.7683 - val_custom_mae: 1.3249 - lr: 9.0000e-04\n",
            "Epoch 14/50\n",
            "3066/3066 [==============================] - 127s 41ms/step - maeOverFscore: 1.6266 - loss: 0.2119 - custum_f1score: 0.7771 - custom_mae: 1.2686 - val_maeOverFscore: 1.6743 - val_loss: 0.2145 - val_custum_f1score: 0.7769 - val_custom_mae: 1.3049 - lr: 9.0000e-04\n",
            "Epoch 15/50\n",
            "3066/3066 [==============================] - 127s 41ms/step - maeOverFscore: 1.6213 - loss: 0.2116 - custum_f1score: 0.7779 - custom_mae: 1.2658 - val_maeOverFscore: 1.6917 - val_loss: 0.2141 - val_custum_f1score: 0.7715 - val_custom_mae: 1.3078 - lr: 9.0000e-04\n",
            "Epoch 16/50\n",
            "3066/3066 [==============================] - 126s 41ms/step - maeOverFscore: 1.6186 - loss: 0.2113 - custum_f1score: 0.7787 - custom_mae: 1.2647 - val_maeOverFscore: 1.6908 - val_loss: 0.2162 - val_custum_f1score: 0.7760 - val_custom_mae: 1.3160 - lr: 9.0000e-04\n",
            "Epoch 17/50\n",
            "3066/3066 [==============================] - 125s 41ms/step - maeOverFscore: 1.6173 - loss: 0.2112 - custum_f1score: 0.7785 - custom_mae: 1.2634 - val_maeOverFscore: 1.6953 - val_loss: 0.2157 - val_custum_f1score: 0.7732 - val_custom_mae: 1.3144 - lr: 9.0000e-04\n",
            "Epoch 18/50\n",
            "3066/3066 [==============================] - 126s 41ms/step - maeOverFscore: 1.6138 - loss: 0.2108 - custum_f1score: 0.7798 - custom_mae: 1.2622 - val_maeOverFscore: 1.7306 - val_loss: 0.2231 - val_custum_f1score: 0.7580 - val_custom_mae: 1.3142 - lr: 9.0000e-04\n",
            "Epoch 19/50\n",
            "3066/3066 [==============================] - 128s 42ms/step - maeOverFscore: 1.6066 - loss: 0.2102 - custum_f1score: 0.7809 - custom_mae: 1.2589 - val_maeOverFscore: 1.6659 - val_loss: 0.2154 - val_custum_f1score: 0.7773 - val_custom_mae: 1.2995 - lr: 8.1000e-04\n",
            "Epoch 20/50\n",
            "3066/3066 [==============================] - 127s 41ms/step - maeOverFscore: 1.6016 - loss: 0.2097 - custum_f1score: 0.7811 - custom_mae: 1.2551 - val_maeOverFscore: 1.7168 - val_loss: 0.2205 - val_custum_f1score: 0.7652 - val_custom_mae: 1.3172 - lr: 8.1000e-04\n",
            "Epoch 21/50\n",
            "3066/3066 [==============================] - 128s 42ms/step - maeOverFscore: 1.5999 - loss: 0.2097 - custum_f1score: 0.7815 - custom_mae: 1.2547 - val_maeOverFscore: 1.6612 - val_loss: 0.2168 - val_custum_f1score: 0.7779 - val_custom_mae: 1.2958 - lr: 8.1000e-04\n",
            "Epoch 22/50\n",
            "3066/3066 [==============================] - 127s 41ms/step - maeOverFscore: 1.5928 - loss: 0.2092 - custum_f1score: 0.7826 - custom_mae: 1.2509 - val_maeOverFscore: 1.6629 - val_loss: 0.2165 - val_custum_f1score: 0.7775 - val_custom_mae: 1.2987 - lr: 7.2900e-04\n",
            "Epoch 23/50\n",
            "3066/3066 [==============================] - 127s 41ms/step - maeOverFscore: 1.5920 - loss: 0.2090 - custum_f1score: 0.7827 - custom_mae: 1.2504 - val_maeOverFscore: 1.7187 - val_loss: 0.2223 - val_custum_f1score: 0.7653 - val_custom_mae: 1.3186 - lr: 7.2900e-04\n",
            "Epoch 24/50\n",
            "3066/3066 [==============================] - 128s 42ms/step - maeOverFscore: 1.5920 - loss: 0.2089 - custum_f1score: 0.7833 - custom_mae: 1.2510 - val_maeOverFscore: 1.6743 - val_loss: 0.2158 - val_custum_f1score: 0.7757 - val_custom_mae: 1.3028 - lr: 7.2900e-04\n",
            "Epoch 25/50\n",
            "3066/3066 [==============================] - 126s 41ms/step - maeOverFscore: 1.5864 - loss: 0.2082 - custum_f1score: 0.7840 - custom_mae: 1.2480 - val_maeOverFscore: 1.6617 - val_loss: 0.2163 - val_custum_f1score: 0.7819 - val_custom_mae: 1.3040 - lr: 6.5610e-04\n",
            "Epoch 26/50\n",
            "3066/3066 [==============================] - 127s 41ms/step - maeOverFscore: 1.5831 - loss: 0.2081 - custum_f1score: 0.7845 - custom_mae: 1.2460 - val_maeOverFscore: 1.6798 - val_loss: 0.2175 - val_custum_f1score: 0.7767 - val_custom_mae: 1.3089 - lr: 6.5610e-04\n",
            "Epoch 27/50\n",
            "3066/3066 [==============================] - 127s 41ms/step - maeOverFscore: 1.5835 - loss: 0.2081 - custum_f1score: 0.7846 - custom_mae: 1.2461 - val_maeOverFscore: 1.6621 - val_loss: 0.2155 - val_custum_f1score: 0.7801 - val_custom_mae: 1.3016 - lr: 6.5610e-04\n",
            "Epoch 28/50\n",
            "3066/3066 [==============================] - 128s 42ms/step - maeOverFscore: 1.5804 - loss: 0.2075 - custum_f1score: 0.7853 - custom_mae: 1.2450 - val_maeOverFscore: 1.6643 - val_loss: 0.2177 - val_custum_f1score: 0.7804 - val_custom_mae: 1.3043 - lr: 5.9049e-04\n",
            "Epoch 29/50\n",
            "3066/3066 [==============================] - 129s 42ms/step - maeOverFscore: 1.5766 - loss: 0.2075 - custum_f1score: 0.7853 - custom_mae: 1.2424 - val_maeOverFscore: 1.6294 - val_loss: 0.2136 - val_custum_f1score: 0.7838 - val_custom_mae: 1.2828 - lr: 5.9049e-04\n",
            "Epoch 30/50\n",
            "3066/3066 [==============================] - 127s 41ms/step - maeOverFscore: 1.5751 - loss: 0.2074 - custum_f1score: 0.7851 - custom_mae: 1.2409 - val_maeOverFscore: 1.6714 - val_loss: 0.2181 - val_custum_f1score: 0.7745 - val_custom_mae: 1.2985 - lr: 5.9049e-04\n",
            "Epoch 31/50\n",
            "3066/3066 [==============================] - 127s 41ms/step - maeOverFscore: 1.5736 - loss: 0.2072 - custum_f1score: 0.7856 - custom_mae: 1.2408 - val_maeOverFscore: 1.6290 - val_loss: 0.2130 - val_custum_f1score: 0.7859 - val_custom_mae: 1.2852 - lr: 5.9049e-04\n",
            "Epoch 32/50\n",
            "3066/3066 [==============================] - 127s 41ms/step - maeOverFscore: 1.5719 - loss: 0.2071 - custum_f1score: 0.7859 - custom_mae: 1.2393 - val_maeOverFscore: 1.6350 - val_loss: 0.2145 - val_custum_f1score: 0.7839 - val_custom_mae: 1.2868 - lr: 5.9049e-04\n",
            "Epoch 33/50\n",
            "3066/3066 [==============================] - 127s 41ms/step - maeOverFscore: 1.5725 - loss: 0.2069 - custum_f1score: 0.7860 - custom_mae: 1.2399 - val_maeOverFscore: 1.6436 - val_loss: 0.2151 - val_custum_f1score: 0.7778 - val_custom_mae: 1.2837 - lr: 5.9049e-04\n",
            "Epoch 34/50\n",
            "3066/3066 [==============================] - 126s 41ms/step - maeOverFscore: 1.5722 - loss: 0.2068 - custum_f1score: 0.7863 - custom_mae: 1.2401 - val_maeOverFscore: 1.6541 - val_loss: 0.2161 - val_custum_f1score: 0.7805 - val_custom_mae: 1.2957 - lr: 5.9049e-04\n",
            "Epoch 35/50\n",
            "3066/3066 [==============================] - 128s 42ms/step - maeOverFscore: 1.5686 - loss: 0.2065 - custum_f1score: 0.7865 - custom_mae: 1.2376 - val_maeOverFscore: 1.6389 - val_loss: 0.2210 - val_custum_f1score: 0.7858 - val_custom_mae: 1.2935 - lr: 5.3144e-04\n",
            "Epoch 36/50\n",
            "3066/3066 [==============================] - 126s 41ms/step - maeOverFscore: 1.5694 - loss: 0.2066 - custum_f1score: 0.7869 - custom_mae: 1.2388 - val_maeOverFscore: 1.6426 - val_loss: 0.2198 - val_custum_f1score: 0.7834 - val_custom_mae: 1.2925 - lr: 5.3144e-04\n",
            "Epoch 37/50\n",
            "3066/3066 [==============================] - 127s 42ms/step - maeOverFscore: 1.5651 - loss: 0.2062 - custum_f1score: 0.7866 - custom_mae: 1.2355 - val_maeOverFscore: 1.6679 - val_loss: 0.2305 - val_custum_f1score: 0.7828 - val_custom_mae: 1.3110 - lr: 5.3144e-04\n",
            "Epoch 38/50\n",
            "3066/3066 [==============================] - 127s 41ms/step - maeOverFscore: 1.5647 - loss: 0.2060 - custum_f1score: 0.7872 - custom_mae: 1.2355 - val_maeOverFscore: 1.6319 - val_loss: 0.2164 - val_custum_f1score: 0.7846 - val_custom_mae: 1.2853 - lr: 4.7830e-04\n",
            "Epoch 39/50\n",
            "3066/3066 [==============================] - 128s 42ms/step - maeOverFscore: 1.5629 - loss: 0.2060 - custum_f1score: 0.7873 - custom_mae: 1.2343 - val_maeOverFscore: 1.6235 - val_loss: 0.2136 - val_custum_f1score: 0.7880 - val_custom_mae: 1.2850 - lr: 4.7830e-04\n",
            "Epoch 40/50\n",
            "3066/3066 [==============================] - 126s 41ms/step - maeOverFscore: 1.5589 - loss: 0.2057 - custum_f1score: 0.7874 - custom_mae: 1.2317 - val_maeOverFscore: 1.6471 - val_loss: 0.2191 - val_custum_f1score: 0.7839 - val_custom_mae: 1.2970 - lr: 4.7830e-04\n",
            "Epoch 41/50\n",
            "3066/3066 [==============================] - 127s 41ms/step - maeOverFscore: 1.5595 - loss: 0.2057 - custum_f1score: 0.7872 - custom_mae: 1.2315 - val_maeOverFscore: 1.6483 - val_loss: 0.2308 - val_custum_f1score: 0.7819 - val_custom_mae: 1.2938 - lr: 4.3047e-04\n",
            "Epoch 42/50\n",
            "3066/3066 [==============================] - 128s 42ms/step - maeOverFscore: 1.5558 - loss: 0.2055 - custum_f1score: 0.7884 - custom_mae: 1.2306 - val_maeOverFscore: 1.6486 - val_loss: 0.2210 - val_custum_f1score: 0.7850 - val_custom_mae: 1.2999 - lr: 4.3047e-04\n",
            "Epoch 43/50\n",
            "3066/3066 [==============================] - 127s 41ms/step - maeOverFscore: 1.5553 - loss: 0.2052 - custum_f1score: 0.7880 - custom_mae: 1.2294 - val_maeOverFscore: 1.6407 - val_loss: 0.2151 - val_custum_f1score: 0.7843 - val_custom_mae: 1.2920 - lr: 4.3047e-04\n",
            "Epoch 44/50\n",
            "3066/3066 [==============================] - 127s 41ms/step - maeOverFscore: 1.5586 - loss: 0.2052 - custum_f1score: 0.7884 - custom_mae: 1.2321 - val_maeOverFscore: 1.6349 - val_loss: 0.2161 - val_custum_f1score: 0.7830 - val_custom_mae: 1.2853 - lr: 3.8742e-04\n",
            "Epoch 45/50\n",
            "3066/3066 [==============================] - 127s 41ms/step - maeOverFscore: 1.5530 - loss: 0.2051 - custum_f1score: 0.7883 - custom_mae: 1.2279 - val_maeOverFscore: 1.6640 - val_loss: 0.2190 - val_custum_f1score: 0.7828 - val_custom_mae: 1.3084 - lr: 3.8742e-04\n",
            "Epoch 46/50\n",
            "3066/3066 [==============================] - 126s 41ms/step - maeOverFscore: 1.5533 - loss: 0.2049 - custum_f1score: 0.7886 - custom_mae: 1.2287 - val_maeOverFscore: 1.6551 - val_loss: 0.2181 - val_custum_f1score: 0.7829 - val_custom_mae: 1.3023 - lr: 3.8742e-04\n",
            "Epoch 47/50\n",
            "3066/3066 [==============================] - 127s 41ms/step - maeOverFscore: 1.5516 - loss: 0.2047 - custum_f1score: 0.7887 - custom_mae: 1.2274 - val_maeOverFscore: 1.6534 - val_loss: 0.2199 - val_custum_f1score: 0.7814 - val_custom_mae: 1.2970 - lr: 3.4868e-04\n",
            "Epoch 48/50\n",
            "3066/3066 [==============================] - 126s 41ms/step - maeOverFscore: 1.5510 - loss: 0.2046 - custum_f1score: 0.7888 - custom_mae: 1.2271 - val_maeOverFscore: 1.6828 - val_loss: 0.2236 - val_custum_f1score: 0.7713 - val_custom_mae: 1.3018 - lr: 3.4868e-04\n",
            "Epoch 49/50\n",
            "3066/3066 [==============================] - 126s 41ms/step - maeOverFscore: 1.5489 - loss: 0.2046 - custum_f1score: 0.7889 - custom_mae: 1.2258 - val_maeOverFscore: 1.6313 - val_loss: 0.2147 - val_custum_f1score: 0.7848 - val_custom_mae: 1.2851 - lr: 3.4868e-04\n",
            "Epoch 50/50\n",
            "3066/3066 [==============================] - 128s 42ms/step - maeOverFscore: 1.5467 - loss: 0.2045 - custum_f1score: 0.7893 - custom_mae: 1.2245 - val_maeOverFscore: 1.6333 - val_loss: 0.2148 - val_custum_f1score: 0.7869 - val_custom_mae: 1.2909 - lr: 3.1381e-04\n",
            "Fold2\n",
            "WARNING:tensorflow:TPU system grpc://10.12.160.90:8470 has already been initialized. Reinitializing the TPU can cause previously created variables on TPU to be lost.\n"
          ],
          "name": "stdout"
        },
        {
          "output_type": "stream",
          "text": [
            "WARNING:tensorflow:TPU system grpc://10.12.160.90:8470 has already been initialized. Reinitializing the TPU can cause previously created variables on TPU to be lost.\n"
          ],
          "name": "stderr"
        },
        {
          "output_type": "stream",
          "text": [
            "INFO:tensorflow:Initializing the TPU system: grpc://10.12.160.90:8470\n"
          ],
          "name": "stdout"
        },
        {
          "output_type": "stream",
          "text": [
            "INFO:tensorflow:Initializing the TPU system: grpc://10.12.160.90:8470\n"
          ],
          "name": "stderr"
        },
        {
          "output_type": "stream",
          "text": [
            "INFO:tensorflow:Clearing out eager caches\n"
          ],
          "name": "stdout"
        },
        {
          "output_type": "stream",
          "text": [
            "INFO:tensorflow:Clearing out eager caches\n"
          ],
          "name": "stderr"
        },
        {
          "output_type": "stream",
          "text": [
            "INFO:tensorflow:Finished initializing TPU system.\n"
          ],
          "name": "stdout"
        },
        {
          "output_type": "stream",
          "text": [
            "INFO:tensorflow:Finished initializing TPU system.\n"
          ],
          "name": "stderr"
        },
        {
          "output_type": "stream",
          "text": [
            "INFO:tensorflow:Found TPU system:\n"
          ],
          "name": "stdout"
        },
        {
          "output_type": "stream",
          "text": [
            "INFO:tensorflow:Found TPU system:\n"
          ],
          "name": "stderr"
        },
        {
          "output_type": "stream",
          "text": [
            "INFO:tensorflow:*** Num TPU Cores: 8\n"
          ],
          "name": "stdout"
        },
        {
          "output_type": "stream",
          "text": [
            "INFO:tensorflow:*** Num TPU Cores: 8\n"
          ],
          "name": "stderr"
        },
        {
          "output_type": "stream",
          "text": [
            "INFO:tensorflow:*** Num TPU Workers: 1\n"
          ],
          "name": "stdout"
        },
        {
          "output_type": "stream",
          "text": [
            "INFO:tensorflow:*** Num TPU Workers: 1\n"
          ],
          "name": "stderr"
        },
        {
          "output_type": "stream",
          "text": [
            "INFO:tensorflow:*** Num TPU Cores Per Worker: 8\n"
          ],
          "name": "stdout"
        },
        {
          "output_type": "stream",
          "text": [
            "INFO:tensorflow:*** Num TPU Cores Per Worker: 8\n"
          ],
          "name": "stderr"
        },
        {
          "output_type": "stream",
          "text": [
            "INFO:tensorflow:*** Available Device: _DeviceAttributes(/job:localhost/replica:0/task:0/device:CPU:0, CPU, 0, 0)\n"
          ],
          "name": "stdout"
        },
        {
          "output_type": "stream",
          "text": [
            "INFO:tensorflow:*** Available Device: _DeviceAttributes(/job:localhost/replica:0/task:0/device:CPU:0, CPU, 0, 0)\n"
          ],
          "name": "stderr"
        },
        {
          "output_type": "stream",
          "text": [
            "INFO:tensorflow:*** Available Device: _DeviceAttributes(/job:localhost/replica:0/task:0/device:XLA_CPU:0, XLA_CPU, 0, 0)\n"
          ],
          "name": "stdout"
        },
        {
          "output_type": "stream",
          "text": [
            "INFO:tensorflow:*** Available Device: _DeviceAttributes(/job:localhost/replica:0/task:0/device:XLA_CPU:0, XLA_CPU, 0, 0)\n"
          ],
          "name": "stderr"
        },
        {
          "output_type": "stream",
          "text": [
            "INFO:tensorflow:*** Available Device: _DeviceAttributes(/job:worker/replica:0/task:0/device:CPU:0, CPU, 0, 0)\n"
          ],
          "name": "stdout"
        },
        {
          "output_type": "stream",
          "text": [
            "INFO:tensorflow:*** Available Device: _DeviceAttributes(/job:worker/replica:0/task:0/device:CPU:0, CPU, 0, 0)\n"
          ],
          "name": "stderr"
        },
        {
          "output_type": "stream",
          "text": [
            "INFO:tensorflow:*** Available Device: _DeviceAttributes(/job:worker/replica:0/task:0/device:TPU:0, TPU, 0, 0)\n"
          ],
          "name": "stdout"
        },
        {
          "output_type": "stream",
          "text": [
            "INFO:tensorflow:*** Available Device: _DeviceAttributes(/job:worker/replica:0/task:0/device:TPU:0, TPU, 0, 0)\n"
          ],
          "name": "stderr"
        },
        {
          "output_type": "stream",
          "text": [
            "INFO:tensorflow:*** Available Device: _DeviceAttributes(/job:worker/replica:0/task:0/device:TPU:1, TPU, 0, 0)\n"
          ],
          "name": "stdout"
        },
        {
          "output_type": "stream",
          "text": [
            "INFO:tensorflow:*** Available Device: _DeviceAttributes(/job:worker/replica:0/task:0/device:TPU:1, TPU, 0, 0)\n"
          ],
          "name": "stderr"
        },
        {
          "output_type": "stream",
          "text": [
            "INFO:tensorflow:*** Available Device: _DeviceAttributes(/job:worker/replica:0/task:0/device:TPU:2, TPU, 0, 0)\n"
          ],
          "name": "stdout"
        },
        {
          "output_type": "stream",
          "text": [
            "INFO:tensorflow:*** Available Device: _DeviceAttributes(/job:worker/replica:0/task:0/device:TPU:2, TPU, 0, 0)\n"
          ],
          "name": "stderr"
        },
        {
          "output_type": "stream",
          "text": [
            "INFO:tensorflow:*** Available Device: _DeviceAttributes(/job:worker/replica:0/task:0/device:TPU:3, TPU, 0, 0)\n"
          ],
          "name": "stdout"
        },
        {
          "output_type": "stream",
          "text": [
            "INFO:tensorflow:*** Available Device: _DeviceAttributes(/job:worker/replica:0/task:0/device:TPU:3, TPU, 0, 0)\n"
          ],
          "name": "stderr"
        },
        {
          "output_type": "stream",
          "text": [
            "INFO:tensorflow:*** Available Device: _DeviceAttributes(/job:worker/replica:0/task:0/device:TPU:4, TPU, 0, 0)\n"
          ],
          "name": "stdout"
        },
        {
          "output_type": "stream",
          "text": [
            "INFO:tensorflow:*** Available Device: _DeviceAttributes(/job:worker/replica:0/task:0/device:TPU:4, TPU, 0, 0)\n"
          ],
          "name": "stderr"
        },
        {
          "output_type": "stream",
          "text": [
            "INFO:tensorflow:*** Available Device: _DeviceAttributes(/job:worker/replica:0/task:0/device:TPU:5, TPU, 0, 0)\n"
          ],
          "name": "stdout"
        },
        {
          "output_type": "stream",
          "text": [
            "INFO:tensorflow:*** Available Device: _DeviceAttributes(/job:worker/replica:0/task:0/device:TPU:5, TPU, 0, 0)\n"
          ],
          "name": "stderr"
        },
        {
          "output_type": "stream",
          "text": [
            "INFO:tensorflow:*** Available Device: _DeviceAttributes(/job:worker/replica:0/task:0/device:TPU:6, TPU, 0, 0)\n"
          ],
          "name": "stdout"
        },
        {
          "output_type": "stream",
          "text": [
            "INFO:tensorflow:*** Available Device: _DeviceAttributes(/job:worker/replica:0/task:0/device:TPU:6, TPU, 0, 0)\n"
          ],
          "name": "stderr"
        },
        {
          "output_type": "stream",
          "text": [
            "INFO:tensorflow:*** Available Device: _DeviceAttributes(/job:worker/replica:0/task:0/device:TPU:7, TPU, 0, 0)\n"
          ],
          "name": "stdout"
        },
        {
          "output_type": "stream",
          "text": [
            "INFO:tensorflow:*** Available Device: _DeviceAttributes(/job:worker/replica:0/task:0/device:TPU:7, TPU, 0, 0)\n"
          ],
          "name": "stderr"
        },
        {
          "output_type": "stream",
          "text": [
            "INFO:tensorflow:*** Available Device: _DeviceAttributes(/job:worker/replica:0/task:0/device:TPU_SYSTEM:0, TPU_SYSTEM, 0, 0)\n"
          ],
          "name": "stdout"
        },
        {
          "output_type": "stream",
          "text": [
            "INFO:tensorflow:*** Available Device: _DeviceAttributes(/job:worker/replica:0/task:0/device:TPU_SYSTEM:0, TPU_SYSTEM, 0, 0)\n"
          ],
          "name": "stderr"
        },
        {
          "output_type": "stream",
          "text": [
            "INFO:tensorflow:*** Available Device: _DeviceAttributes(/job:worker/replica:0/task:0/device:XLA_CPU:0, XLA_CPU, 0, 0)\n"
          ],
          "name": "stdout"
        },
        {
          "output_type": "stream",
          "text": [
            "INFO:tensorflow:*** Available Device: _DeviceAttributes(/job:worker/replica:0/task:0/device:XLA_CPU:0, XLA_CPU, 0, 0)\n"
          ],
          "name": "stderr"
        },
        {
          "output_type": "stream",
          "text": [
            "Epoch 1/50\n",
            "3066/3066 [==============================] - 136s 44ms/step - maeOverFscore: 2.1304 - loss: 0.2483 - custum_f1score: 0.6959 - custom_mae: 1.4622 - val_maeOverFscore: 2.0285 - val_loss: 0.2283 - val_custum_f1score: 0.6858 - val_custom_mae: 1.3921 - lr: 0.0010\n",
            "Epoch 2/50\n",
            "3066/3066 [==============================] - 128s 42ms/step - maeOverFscore: 1.8828 - loss: 0.2302 - custum_f1score: 0.7307 - custom_mae: 1.3774 - val_maeOverFscore: 1.9482 - val_loss: 0.2322 - val_custum_f1score: 0.7138 - val_custom_mae: 1.3973 - lr: 0.0010\n",
            "Epoch 3/50\n",
            "3066/3066 [==============================] - 128s 42ms/step - maeOverFscore: 1.8092 - loss: 0.2253 - custum_f1score: 0.7433 - custom_mae: 1.3475 - val_maeOverFscore: 1.8549 - val_loss: 0.2205 - val_custum_f1score: 0.7155 - val_custom_mae: 1.3379 - lr: 0.0010\n",
            "Epoch 4/50\n",
            "3066/3066 [==============================] - 128s 42ms/step - maeOverFscore: 1.7629 - loss: 0.2227 - custum_f1score: 0.7528 - custom_mae: 1.3312 - val_maeOverFscore: 1.8147 - val_loss: 0.2260 - val_custum_f1score: 0.7291 - val_custom_mae: 1.3344 - lr: 0.0010\n",
            "Epoch 5/50\n",
            "3066/3066 [==============================] - 128s 42ms/step - maeOverFscore: 1.7304 - loss: 0.2202 - custum_f1score: 0.7600 - custom_mae: 1.3188 - val_maeOverFscore: 1.7844 - val_loss: 0.2205 - val_custum_f1score: 0.7383 - val_custom_mae: 1.3238 - lr: 0.0010\n",
            "Epoch 6/50\n",
            "3066/3066 [==============================] - 129s 42ms/step - maeOverFscore: 1.7079 - loss: 0.2189 - custum_f1score: 0.7636 - custom_mae: 1.3083 - val_maeOverFscore: 1.7237 - val_loss: 0.2167 - val_custum_f1score: 0.7471 - val_custom_mae: 1.2951 - lr: 0.0010\n",
            "Epoch 7/50\n",
            "3066/3066 [==============================] - 127s 42ms/step - maeOverFscore: 1.6932 - loss: 0.2177 - custum_f1score: 0.7669 - custom_mae: 1.3028 - val_maeOverFscore: 1.7250 - val_loss: 0.2199 - val_custum_f1score: 0.7566 - val_custom_mae: 1.3153 - lr: 0.0010\n",
            "Epoch 8/50\n",
            "3066/3066 [==============================] - 129s 42ms/step - maeOverFscore: 1.6775 - loss: 0.2168 - custum_f1score: 0.7696 - custom_mae: 1.2953 - val_maeOverFscore: 1.6631 - val_loss: 0.2148 - val_custum_f1score: 0.7597 - val_custom_mae: 1.2724 - lr: 0.0010\n",
            "Epoch 9/50\n",
            "3066/3066 [==============================] - 127s 42ms/step - maeOverFscore: 1.6672 - loss: 0.2160 - custum_f1score: 0.7725 - custom_mae: 1.2921 - val_maeOverFscore: 1.6892 - val_loss: 0.2179 - val_custum_f1score: 0.7655 - val_custom_mae: 1.3025 - lr: 0.0010\n",
            "Epoch 10/50\n",
            "3066/3066 [==============================] - 127s 42ms/step - maeOverFscore: 1.6576 - loss: 0.2151 - custum_f1score: 0.7729 - custom_mae: 1.2855 - val_maeOverFscore: 1.6827 - val_loss: 0.2188 - val_custum_f1score: 0.7666 - val_custom_mae: 1.3007 - lr: 0.0010\n",
            "Epoch 11/50\n",
            "3066/3066 [==============================] - 128s 42ms/step - maeOverFscore: 1.6534 - loss: 0.2148 - custum_f1score: 0.7750 - custom_mae: 1.2855 - val_maeOverFscore: 1.6978 - val_loss: 0.2191 - val_custum_f1score: 0.7651 - val_custom_mae: 1.3105 - lr: 0.0010\n",
            "Epoch 12/50\n",
            "3066/3066 [==============================] - 128s 42ms/step - maeOverFscore: 1.6417 - loss: 0.2137 - custum_f1score: 0.7768 - custom_mae: 1.2792 - val_maeOverFscore: 1.6669 - val_loss: 0.2190 - val_custum_f1score: 0.7550 - val_custom_mae: 1.2672 - lr: 9.0000e-04\n",
            "Epoch 13/50\n",
            "3066/3066 [==============================] - 129s 42ms/step - maeOverFscore: 1.6356 - loss: 0.2134 - custum_f1score: 0.7778 - custom_mae: 1.2765 - val_maeOverFscore: 1.6423 - val_loss: 0.2145 - val_custum_f1score: 0.7621 - val_custom_mae: 1.2617 - lr: 9.0000e-04\n",
            "Epoch 14/50\n",
            "3066/3066 [==============================] - 128s 42ms/step - maeOverFscore: 1.6314 - loss: 0.2130 - custum_f1score: 0.7787 - custom_mae: 1.2745 - val_maeOverFscore: 1.6713 - val_loss: 0.2160 - val_custum_f1score: 0.7655 - val_custom_mae: 1.2885 - lr: 9.0000e-04\n",
            "Epoch 15/50\n",
            "3066/3066 [==============================] - 129s 42ms/step - maeOverFscore: 1.6290 - loss: 0.2125 - custum_f1score: 0.7789 - custom_mae: 1.2726 - val_maeOverFscore: 1.6387 - val_loss: 0.2164 - val_custum_f1score: 0.7754 - val_custom_mae: 1.2823 - lr: 9.0000e-04\n",
            "Epoch 16/50\n",
            "3066/3066 [==============================] - 129s 42ms/step - maeOverFscore: 1.6234 - loss: 0.2122 - custum_f1score: 0.7802 - custom_mae: 1.2706 - val_maeOverFscore: 1.6106 - val_loss: 0.2115 - val_custum_f1score: 0.7758 - val_custom_mae: 1.2594 - lr: 9.0000e-04\n",
            "Epoch 17/50\n",
            "3066/3066 [==============================] - 127s 41ms/step - maeOverFscore: 1.6210 - loss: 0.2120 - custum_f1score: 0.7803 - custom_mae: 1.2691 - val_maeOverFscore: 1.6785 - val_loss: 0.2162 - val_custum_f1score: 0.7635 - val_custom_mae: 1.2940 - lr: 9.0000e-04\n",
            "Epoch 18/50\n",
            "3066/3066 [==============================] - 131s 43ms/step - maeOverFscore: 1.6148 - loss: 0.2117 - custum_f1score: 0.7816 - custom_mae: 1.2662 - val_maeOverFscore: 1.6262 - val_loss: 0.2114 - val_custum_f1score: 0.7711 - val_custom_mae: 1.2639 - lr: 9.0000e-04\n",
            "Epoch 19/50\n",
            "3066/3066 [==============================] - 128s 42ms/step - maeOverFscore: 1.6143 - loss: 0.2114 - custum_f1score: 0.7815 - custom_mae: 1.2652 - val_maeOverFscore: 1.6347 - val_loss: 0.2165 - val_custum_f1score: 0.7714 - val_custom_mae: 1.2716 - lr: 9.0000e-04\n",
            "Epoch 20/50\n",
            "3066/3066 [==============================] - 129s 42ms/step - maeOverFscore: 1.6091 - loss: 0.2110 - custum_f1score: 0.7823 - custom_mae: 1.2627 - val_maeOverFscore: 1.5901 - val_loss: 0.2094 - val_custum_f1score: 0.7768 - val_custom_mae: 1.2447 - lr: 9.0000e-04\n",
            "Epoch 21/50\n",
            "3066/3066 [==============================] - 129s 42ms/step - maeOverFscore: 1.6079 - loss: 0.2109 - custum_f1score: 0.7825 - custom_mae: 1.2620 - val_maeOverFscore: 1.5951 - val_loss: 0.2123 - val_custum_f1score: 0.7758 - val_custom_mae: 1.2473 - lr: 9.0000e-04\n",
            "Epoch 22/50\n",
            "3066/3066 [==============================] - 127s 41ms/step - maeOverFscore: 1.6063 - loss: 0.2107 - custum_f1score: 0.7828 - custom_mae: 1.2611 - val_maeOverFscore: 1.6466 - val_loss: 0.2153 - val_custum_f1score: 0.7708 - val_custom_mae: 1.2800 - lr: 9.0000e-04\n",
            "Epoch 23/50\n",
            "3066/3066 [==============================] - 129s 42ms/step - maeOverFscore: 1.6033 - loss: 0.2104 - custum_f1score: 0.7830 - custom_mae: 1.2590 - val_maeOverFscore: 1.6382 - val_loss: 0.2110 - val_custum_f1score: 0.7686 - val_custom_mae: 1.2683 - lr: 9.0000e-04\n",
            "Epoch 24/50\n",
            "3066/3066 [==============================] - 126s 41ms/step - maeOverFscore: 1.5977 - loss: 0.2100 - custum_f1score: 0.7841 - custom_mae: 1.2565 - val_maeOverFscore: 1.5916 - val_loss: 0.2118 - val_custum_f1score: 0.7757 - val_custom_mae: 1.2450 - lr: 8.1000e-04\n",
            "Epoch 25/50\n",
            "3066/3066 [==============================] - 129s 42ms/step - maeOverFscore: 1.5956 - loss: 0.2097 - custum_f1score: 0.7841 - custom_mae: 1.2550 - val_maeOverFscore: 1.6378 - val_loss: 0.2119 - val_custum_f1score: 0.7690 - val_custom_mae: 1.2704 - lr: 8.1000e-04\n",
            "Epoch 26/50\n",
            "3066/3066 [==============================] - 129s 42ms/step - maeOverFscore: 1.5956 - loss: 0.2096 - custum_f1score: 0.7848 - custom_mae: 1.2561 - val_maeOverFscore: 1.5916 - val_loss: 0.2101 - val_custum_f1score: 0.7737 - val_custom_mae: 1.2403 - lr: 8.1000e-04\n",
            "Epoch 27/50\n",
            "3066/3066 [==============================] - 128s 42ms/step - maeOverFscore: 1.5908 - loss: 0.2091 - custum_f1score: 0.7848 - custom_mae: 1.2522 - val_maeOverFscore: 1.5984 - val_loss: 0.2113 - val_custum_f1score: 0.7741 - val_custom_mae: 1.2474 - lr: 7.2900e-04\n",
            "Epoch 28/50\n",
            "3066/3066 [==============================] - 127s 41ms/step - maeOverFscore: 1.5900 - loss: 0.2091 - custum_f1score: 0.7852 - custom_mae: 1.2521 - val_maeOverFscore: 1.6202 - val_loss: 0.2106 - val_custum_f1score: 0.7716 - val_custom_mae: 1.2602 - lr: 7.2900e-04\n",
            "Epoch 29/50\n",
            "3066/3066 [==============================] - 127s 41ms/step - maeOverFscore: 1.5852 - loss: 0.2088 - custum_f1score: 0.7860 - custom_mae: 1.2499 - val_maeOverFscore: 1.5991 - val_loss: 0.2099 - val_custum_f1score: 0.7749 - val_custom_mae: 1.2494 - lr: 7.2900e-04\n",
            "Epoch 30/50\n",
            "3066/3066 [==============================] - 128s 42ms/step - maeOverFscore: 1.5821 - loss: 0.2085 - custum_f1score: 0.7866 - custom_mae: 1.2482 - val_maeOverFscore: 1.6193 - val_loss: 0.2096 - val_custum_f1score: 0.7699 - val_custom_mae: 1.2557 - lr: 6.5610e-04\n",
            "Epoch 31/50\n",
            "3066/3066 [==============================] - 129s 42ms/step - maeOverFscore: 1.5810 - loss: 0.2084 - custum_f1score: 0.7864 - custom_mae: 1.2469 - val_maeOverFscore: 1.6363 - val_loss: 0.2155 - val_custum_f1score: 0.7657 - val_custom_mae: 1.2617 - lr: 6.5610e-04\n",
            "Epoch 32/50\n",
            "3066/3066 [==============================] - 128s 42ms/step - maeOverFscore: 1.5810 - loss: 0.2081 - custum_f1score: 0.7864 - custom_mae: 1.2471 - val_maeOverFscore: 1.5981 - val_loss: 0.2119 - val_custum_f1score: 0.7776 - val_custom_mae: 1.2531 - lr: 6.5610e-04\n",
            "Epoch 33/50\n",
            "3066/3066 [==============================] - 129s 42ms/step - maeOverFscore: 1.5761 - loss: 0.2079 - custum_f1score: 0.7872 - custom_mae: 1.2444 - val_maeOverFscore: 1.5799 - val_loss: 0.2087 - val_custum_f1score: 0.7802 - val_custom_mae: 1.2423 - lr: 5.9049e-04\n",
            "Epoch 34/50\n",
            "3066/3066 [==============================] - 128s 42ms/step - maeOverFscore: 1.5768 - loss: 0.2079 - custum_f1score: 0.7874 - custom_mae: 1.2451 - val_maeOverFscore: 1.5913 - val_loss: 0.2123 - val_custum_f1score: 0.7773 - val_custom_mae: 1.2475 - lr: 5.9049e-04\n",
            "Epoch 35/50\n",
            "3066/3066 [==============================] - 128s 42ms/step - maeOverFscore: 1.5738 - loss: 0.2075 - custum_f1score: 0.7875 - custom_mae: 1.2431 - val_maeOverFscore: 1.5914 - val_loss: 0.2096 - val_custum_f1score: 0.7766 - val_custom_mae: 1.2453 - lr: 5.9049e-04\n",
            "Epoch 36/50\n",
            "3066/3066 [==============================] - 128s 42ms/step - maeOverFscore: 1.5744 - loss: 0.2076 - custum_f1score: 0.7877 - custom_mae: 1.2437 - val_maeOverFscore: 1.6463 - val_loss: 0.2154 - val_custum_f1score: 0.7674 - val_custom_mae: 1.2742 - lr: 5.9049e-04\n",
            "Epoch 37/50\n",
            "3066/3066 [==============================] - 129s 42ms/step - maeOverFscore: 1.5709 - loss: 0.2071 - custum_f1score: 0.7881 - custom_mae: 1.2417 - val_maeOverFscore: 1.5779 - val_loss: 0.2105 - val_custum_f1score: 0.7789 - val_custom_mae: 1.2396 - lr: 5.3144e-04\n",
            "Epoch 38/50\n",
            "3066/3066 [==============================] - 127s 41ms/step - maeOverFscore: 1.5697 - loss: 0.2071 - custum_f1score: 0.7879 - custom_mae: 1.2401 - val_maeOverFscore: 1.6035 - val_loss: 0.2147 - val_custum_f1score: 0.7767 - val_custom_mae: 1.2557 - lr: 5.3144e-04\n",
            "Epoch 39/50\n",
            "3066/3066 [==============================] - 128s 42ms/step - maeOverFscore: 1.5690 - loss: 0.2069 - custum_f1score: 0.7882 - custom_mae: 1.2402 - val_maeOverFscore: 1.5772 - val_loss: 0.2082 - val_custum_f1score: 0.7792 - val_custom_mae: 1.2386 - lr: 5.3144e-04\n",
            "Epoch 40/50\n",
            "3066/3066 [==============================] - 128s 42ms/step - maeOverFscore: 1.5669 - loss: 0.2071 - custum_f1score: 0.7881 - custom_mae: 1.2384 - val_maeOverFscore: 1.6278 - val_loss: 0.2156 - val_custum_f1score: 0.7714 - val_custom_mae: 1.2657 - lr: 5.3144e-04\n",
            "Epoch 41/50\n",
            "3066/3066 [==============================] - 127s 42ms/step - maeOverFscore: 1.5670 - loss: 0.2066 - custum_f1score: 0.7884 - custom_mae: 1.2390 - val_maeOverFscore: 1.6034 - val_loss: 0.2111 - val_custum_f1score: 0.7767 - val_custom_mae: 1.2557 - lr: 5.3144e-04\n",
            "Epoch 42/50\n",
            "3066/3066 [==============================] - 129s 42ms/step - maeOverFscore: 1.5652 - loss: 0.2066 - custum_f1score: 0.7888 - custom_mae: 1.2383 - val_maeOverFscore: 1.5821 - val_loss: 0.2091 - val_custum_f1score: 0.7754 - val_custom_mae: 1.2371 - lr: 5.3144e-04\n",
            "Epoch 43/50\n",
            "3066/3066 [==============================] - 128s 42ms/step - maeOverFscore: 1.5626 - loss: 0.2063 - custum_f1score: 0.7887 - custom_mae: 1.2363 - val_maeOverFscore: 1.5948 - val_loss: 0.2129 - val_custum_f1score: 0.7783 - val_custom_mae: 1.2515 - lr: 4.7830e-04\n",
            "Epoch 44/50\n",
            "3066/3066 [==============================] - 129s 42ms/step - maeOverFscore: 1.5625 - loss: 0.2062 - custum_f1score: 0.7889 - custom_mae: 1.2362 - val_maeOverFscore: 1.5949 - val_loss: 0.2121 - val_custum_f1score: 0.7771 - val_custom_mae: 1.2500 - lr: 4.7830e-04\n",
            "Epoch 45/50\n",
            "3066/3066 [==============================] - 130s 42ms/step - maeOverFscore: 1.5614 - loss: 0.2063 - custum_f1score: 0.7891 - custom_mae: 1.2356 - val_maeOverFscore: 1.5966 - val_loss: 0.2129 - val_custum_f1score: 0.7783 - val_custom_mae: 1.2536 - lr: 4.7830e-04\n",
            "Epoch 46/50\n",
            "3066/3066 [==============================] - 128s 42ms/step - maeOverFscore: 1.5572 - loss: 0.2059 - custum_f1score: 0.7894 - custom_mae: 1.2330 - val_maeOverFscore: 1.5858 - val_loss: 0.2120 - val_custum_f1score: 0.7752 - val_custom_mae: 1.2390 - lr: 4.3047e-04\n",
            "Epoch 47/50\n",
            "3066/3066 [==============================] - 128s 42ms/step - maeOverFscore: 1.5571 - loss: 0.2058 - custum_f1score: 0.7896 - custom_mae: 1.2327 - val_maeOverFscore: 1.5946 - val_loss: 0.2094 - val_custum_f1score: 0.7772 - val_custom_mae: 1.2493 - lr: 4.3047e-04\n",
            "Epoch 48/50\n",
            "3066/3066 [==============================] - 127s 41ms/step - maeOverFscore: 1.5559 - loss: 0.2057 - custum_f1score: 0.7895 - custom_mae: 1.2320 - val_maeOverFscore: 1.5911 - val_loss: 0.2102 - val_custum_f1score: 0.7808 - val_custom_mae: 1.2528 - lr: 4.3047e-04\n",
            "Epoch 49/50\n",
            "3066/3066 [==============================] - 128s 42ms/step - maeOverFscore: 1.5552 - loss: 0.2056 - custum_f1score: 0.7896 - custom_mae: 1.2314 - val_maeOverFscore: 1.5891 - val_loss: 0.2112 - val_custum_f1score: 0.7808 - val_custom_mae: 1.2513 - lr: 3.8742e-04\n",
            "Epoch 50/50\n",
            "3066/3066 [==============================] - 128s 42ms/step - maeOverFscore: 1.5554 - loss: 0.2055 - custum_f1score: 0.7899 - custom_mae: 1.2319 - val_maeOverFscore: 1.5780 - val_loss: 0.2085 - val_custum_f1score: 0.7802 - val_custom_mae: 1.2412 - lr: 3.8742e-04\n",
            "Fold3\n",
            "WARNING:tensorflow:TPU system grpc://10.12.160.90:8470 has already been initialized. Reinitializing the TPU can cause previously created variables on TPU to be lost.\n"
          ],
          "name": "stdout"
        },
        {
          "output_type": "stream",
          "text": [
            "WARNING:tensorflow:TPU system grpc://10.12.160.90:8470 has already been initialized. Reinitializing the TPU can cause previously created variables on TPU to be lost.\n"
          ],
          "name": "stderr"
        },
        {
          "output_type": "stream",
          "text": [
            "INFO:tensorflow:Initializing the TPU system: grpc://10.12.160.90:8470\n"
          ],
          "name": "stdout"
        },
        {
          "output_type": "stream",
          "text": [
            "INFO:tensorflow:Initializing the TPU system: grpc://10.12.160.90:8470\n"
          ],
          "name": "stderr"
        },
        {
          "output_type": "stream",
          "text": [
            "INFO:tensorflow:Clearing out eager caches\n"
          ],
          "name": "stdout"
        },
        {
          "output_type": "stream",
          "text": [
            "INFO:tensorflow:Clearing out eager caches\n"
          ],
          "name": "stderr"
        },
        {
          "output_type": "stream",
          "text": [
            "INFO:tensorflow:Finished initializing TPU system.\n"
          ],
          "name": "stdout"
        },
        {
          "output_type": "stream",
          "text": [
            "INFO:tensorflow:Finished initializing TPU system.\n"
          ],
          "name": "stderr"
        },
        {
          "output_type": "stream",
          "text": [
            "INFO:tensorflow:Found TPU system:\n"
          ],
          "name": "stdout"
        },
        {
          "output_type": "stream",
          "text": [
            "INFO:tensorflow:Found TPU system:\n"
          ],
          "name": "stderr"
        },
        {
          "output_type": "stream",
          "text": [
            "INFO:tensorflow:*** Num TPU Cores: 8\n"
          ],
          "name": "stdout"
        },
        {
          "output_type": "stream",
          "text": [
            "INFO:tensorflow:*** Num TPU Cores: 8\n"
          ],
          "name": "stderr"
        },
        {
          "output_type": "stream",
          "text": [
            "INFO:tensorflow:*** Num TPU Workers: 1\n"
          ],
          "name": "stdout"
        },
        {
          "output_type": "stream",
          "text": [
            "INFO:tensorflow:*** Num TPU Workers: 1\n"
          ],
          "name": "stderr"
        },
        {
          "output_type": "stream",
          "text": [
            "INFO:tensorflow:*** Num TPU Cores Per Worker: 8\n"
          ],
          "name": "stdout"
        },
        {
          "output_type": "stream",
          "text": [
            "INFO:tensorflow:*** Num TPU Cores Per Worker: 8\n"
          ],
          "name": "stderr"
        },
        {
          "output_type": "stream",
          "text": [
            "INFO:tensorflow:*** Available Device: _DeviceAttributes(/job:localhost/replica:0/task:0/device:CPU:0, CPU, 0, 0)\n"
          ],
          "name": "stdout"
        },
        {
          "output_type": "stream",
          "text": [
            "INFO:tensorflow:*** Available Device: _DeviceAttributes(/job:localhost/replica:0/task:0/device:CPU:0, CPU, 0, 0)\n"
          ],
          "name": "stderr"
        },
        {
          "output_type": "stream",
          "text": [
            "INFO:tensorflow:*** Available Device: _DeviceAttributes(/job:localhost/replica:0/task:0/device:XLA_CPU:0, XLA_CPU, 0, 0)\n"
          ],
          "name": "stdout"
        },
        {
          "output_type": "stream",
          "text": [
            "INFO:tensorflow:*** Available Device: _DeviceAttributes(/job:localhost/replica:0/task:0/device:XLA_CPU:0, XLA_CPU, 0, 0)\n"
          ],
          "name": "stderr"
        },
        {
          "output_type": "stream",
          "text": [
            "INFO:tensorflow:*** Available Device: _DeviceAttributes(/job:worker/replica:0/task:0/device:CPU:0, CPU, 0, 0)\n"
          ],
          "name": "stdout"
        },
        {
          "output_type": "stream",
          "text": [
            "INFO:tensorflow:*** Available Device: _DeviceAttributes(/job:worker/replica:0/task:0/device:CPU:0, CPU, 0, 0)\n"
          ],
          "name": "stderr"
        },
        {
          "output_type": "stream",
          "text": [
            "INFO:tensorflow:*** Available Device: _DeviceAttributes(/job:worker/replica:0/task:0/device:TPU:0, TPU, 0, 0)\n"
          ],
          "name": "stdout"
        },
        {
          "output_type": "stream",
          "text": [
            "INFO:tensorflow:*** Available Device: _DeviceAttributes(/job:worker/replica:0/task:0/device:TPU:0, TPU, 0, 0)\n"
          ],
          "name": "stderr"
        },
        {
          "output_type": "stream",
          "text": [
            "INFO:tensorflow:*** Available Device: _DeviceAttributes(/job:worker/replica:0/task:0/device:TPU:1, TPU, 0, 0)\n"
          ],
          "name": "stdout"
        },
        {
          "output_type": "stream",
          "text": [
            "INFO:tensorflow:*** Available Device: _DeviceAttributes(/job:worker/replica:0/task:0/device:TPU:1, TPU, 0, 0)\n"
          ],
          "name": "stderr"
        },
        {
          "output_type": "stream",
          "text": [
            "INFO:tensorflow:*** Available Device: _DeviceAttributes(/job:worker/replica:0/task:0/device:TPU:2, TPU, 0, 0)\n"
          ],
          "name": "stdout"
        },
        {
          "output_type": "stream",
          "text": [
            "INFO:tensorflow:*** Available Device: _DeviceAttributes(/job:worker/replica:0/task:0/device:TPU:2, TPU, 0, 0)\n"
          ],
          "name": "stderr"
        },
        {
          "output_type": "stream",
          "text": [
            "INFO:tensorflow:*** Available Device: _DeviceAttributes(/job:worker/replica:0/task:0/device:TPU:3, TPU, 0, 0)\n"
          ],
          "name": "stdout"
        },
        {
          "output_type": "stream",
          "text": [
            "INFO:tensorflow:*** Available Device: _DeviceAttributes(/job:worker/replica:0/task:0/device:TPU:3, TPU, 0, 0)\n"
          ],
          "name": "stderr"
        },
        {
          "output_type": "stream",
          "text": [
            "INFO:tensorflow:*** Available Device: _DeviceAttributes(/job:worker/replica:0/task:0/device:TPU:4, TPU, 0, 0)\n"
          ],
          "name": "stdout"
        },
        {
          "output_type": "stream",
          "text": [
            "INFO:tensorflow:*** Available Device: _DeviceAttributes(/job:worker/replica:0/task:0/device:TPU:4, TPU, 0, 0)\n"
          ],
          "name": "stderr"
        },
        {
          "output_type": "stream",
          "text": [
            "INFO:tensorflow:*** Available Device: _DeviceAttributes(/job:worker/replica:0/task:0/device:TPU:5, TPU, 0, 0)\n"
          ],
          "name": "stdout"
        },
        {
          "output_type": "stream",
          "text": [
            "INFO:tensorflow:*** Available Device: _DeviceAttributes(/job:worker/replica:0/task:0/device:TPU:5, TPU, 0, 0)\n"
          ],
          "name": "stderr"
        },
        {
          "output_type": "stream",
          "text": [
            "INFO:tensorflow:*** Available Device: _DeviceAttributes(/job:worker/replica:0/task:0/device:TPU:6, TPU, 0, 0)\n"
          ],
          "name": "stdout"
        },
        {
          "output_type": "stream",
          "text": [
            "INFO:tensorflow:*** Available Device: _DeviceAttributes(/job:worker/replica:0/task:0/device:TPU:6, TPU, 0, 0)\n"
          ],
          "name": "stderr"
        },
        {
          "output_type": "stream",
          "text": [
            "INFO:tensorflow:*** Available Device: _DeviceAttributes(/job:worker/replica:0/task:0/device:TPU:7, TPU, 0, 0)\n"
          ],
          "name": "stdout"
        },
        {
          "output_type": "stream",
          "text": [
            "INFO:tensorflow:*** Available Device: _DeviceAttributes(/job:worker/replica:0/task:0/device:TPU:7, TPU, 0, 0)\n"
          ],
          "name": "stderr"
        },
        {
          "output_type": "stream",
          "text": [
            "INFO:tensorflow:*** Available Device: _DeviceAttributes(/job:worker/replica:0/task:0/device:TPU_SYSTEM:0, TPU_SYSTEM, 0, 0)\n"
          ],
          "name": "stdout"
        },
        {
          "output_type": "stream",
          "text": [
            "INFO:tensorflow:*** Available Device: _DeviceAttributes(/job:worker/replica:0/task:0/device:TPU_SYSTEM:0, TPU_SYSTEM, 0, 0)\n"
          ],
          "name": "stderr"
        },
        {
          "output_type": "stream",
          "text": [
            "INFO:tensorflow:*** Available Device: _DeviceAttributes(/job:worker/replica:0/task:0/device:XLA_CPU:0, XLA_CPU, 0, 0)\n"
          ],
          "name": "stdout"
        },
        {
          "output_type": "stream",
          "text": [
            "INFO:tensorflow:*** Available Device: _DeviceAttributes(/job:worker/replica:0/task:0/device:XLA_CPU:0, XLA_CPU, 0, 0)\n"
          ],
          "name": "stderr"
        },
        {
          "output_type": "stream",
          "text": [
            "Epoch 1/50\n",
            "3066/3066 [==============================] - 135s 44ms/step - maeOverFscore: 2.1041 - loss: 0.2431 - custum_f1score: 0.6939 - custom_mae: 1.4492 - val_maeOverFscore: 1.9458 - val_loss: 0.2303 - val_custum_f1score: 0.7173 - val_custom_mae: 1.3884 - lr: 0.0010\n",
            "Epoch 2/50\n",
            "3066/3066 [==============================] - 128s 42ms/step - maeOverFscore: 1.8694 - loss: 0.2279 - custum_f1score: 0.7297 - custom_mae: 1.3671 - val_maeOverFscore: 1.9419 - val_loss: 0.2328 - val_custum_f1score: 0.7258 - val_custom_mae: 1.3973 - lr: 0.0010\n",
            "Epoch 3/50\n",
            "3066/3066 [==============================] - 129s 42ms/step - maeOverFscore: 1.7980 - loss: 0.2238 - custum_f1score: 0.7446 - custom_mae: 1.3431 - val_maeOverFscore: 1.7966 - val_loss: 0.2301 - val_custum_f1score: 0.7445 - val_custom_mae: 1.3373 - lr: 0.0010\n",
            "Epoch 4/50\n",
            "3066/3066 [==============================] - 128s 42ms/step - maeOverFscore: 1.7550 - loss: 0.2209 - custum_f1score: 0.7525 - custom_mae: 1.3251 - val_maeOverFscore: 1.8263 - val_loss: 0.2227 - val_custum_f1score: 0.7364 - val_custom_mae: 1.3425 - lr: 0.0010\n",
            "Epoch 5/50\n",
            "3066/3066 [==============================] - 129s 42ms/step - maeOverFscore: 1.7241 - loss: 0.2189 - custum_f1score: 0.7587 - custom_mae: 1.3131 - val_maeOverFscore: 1.7249 - val_loss: 0.2268 - val_custum_f1score: 0.7586 - val_custom_mae: 1.3128 - lr: 0.0010\n",
            "Epoch 6/50\n",
            "3066/3066 [==============================] - 128s 42ms/step - maeOverFscore: 1.7064 - loss: 0.2177 - custum_f1score: 0.7624 - custom_mae: 1.3059 - val_maeOverFscore: 2.0865 - val_loss: 0.2418 - val_custum_f1score: 0.7123 - val_custom_mae: 1.4646 - lr: 0.0010\n",
            "Epoch 7/50\n",
            "3066/3066 [==============================] - 128s 42ms/step - maeOverFscore: 1.6921 - loss: 0.2161 - custum_f1score: 0.7651 - custom_mae: 1.2991 - val_maeOverFscore: 1.6896 - val_loss: 0.2228 - val_custum_f1score: 0.7676 - val_custom_mae: 1.3002 - lr: 0.0010\n",
            "Epoch 8/50\n",
            "3066/3066 [==============================] - 128s 42ms/step - maeOverFscore: 1.6715 - loss: 0.2150 - custum_f1score: 0.7683 - custom_mae: 1.2892 - val_maeOverFscore: 1.7115 - val_loss: 0.2206 - val_custum_f1score: 0.7696 - val_custom_mae: 1.3204 - lr: 9.0000e-04\n",
            "Epoch 9/50\n",
            "3066/3066 [==============================] - 128s 42ms/step - maeOverFscore: 1.6634 - loss: 0.2143 - custum_f1score: 0.7709 - custom_mae: 1.2870 - val_maeOverFscore: 1.7054 - val_loss: 0.2228 - val_custum_f1score: 0.7673 - val_custom_mae: 1.3126 - lr: 9.0000e-04\n",
            "Epoch 10/50\n",
            "3066/3066 [==============================] - 129s 42ms/step - maeOverFscore: 1.6553 - loss: 0.2137 - custum_f1score: 0.7725 - custom_mae: 1.2834 - val_maeOverFscore: 1.7315 - val_loss: 0.2332 - val_custum_f1score: 0.7667 - val_custom_mae: 1.3301 - lr: 9.0000e-04\n",
            "Epoch 11/50\n",
            "3066/3066 [==============================] - 128s 42ms/step - maeOverFscore: 1.6486 - loss: 0.2131 - custum_f1score: 0.7733 - custom_mae: 1.2793 - val_maeOverFscore: 1.7073 - val_loss: 0.2227 - val_custum_f1score: 0.7686 - val_custom_mae: 1.3154 - lr: 9.0000e-04\n",
            "Epoch 12/50\n",
            "3066/3066 [==============================] - 128s 42ms/step - maeOverFscore: 1.6394 - loss: 0.2123 - custum_f1score: 0.7749 - custom_mae: 1.2747 - val_maeOverFscore: 1.8849 - val_loss: 0.2439 - val_custum_f1score: 0.7169 - val_custom_mae: 1.3401 - lr: 8.1000e-04\n",
            "Epoch 13/50\n",
            "3066/3066 [==============================] - 128s 42ms/step - maeOverFscore: 1.6318 - loss: 0.2119 - custum_f1score: 0.7761 - custom_mae: 1.2711 - val_maeOverFscore: 1.6855 - val_loss: 0.2186 - val_custum_f1score: 0.7693 - val_custom_mae: 1.3011 - lr: 8.1000e-04\n",
            "Epoch 14/50\n",
            "3066/3066 [==============================] - 129s 42ms/step - maeOverFscore: 1.6303 - loss: 0.2113 - custum_f1score: 0.7769 - custom_mae: 1.2708 - val_maeOverFscore: 1.6783 - val_loss: 0.2223 - val_custum_f1score: 0.7630 - val_custom_mae: 1.2825 - lr: 8.1000e-04\n",
            "Epoch 15/50\n",
            "3066/3066 [==============================] - 129s 42ms/step - maeOverFscore: 1.6248 - loss: 0.2112 - custum_f1score: 0.7777 - custom_mae: 1.2683 - val_maeOverFscore: 1.6408 - val_loss: 0.2200 - val_custum_f1score: 0.7763 - val_custom_mae: 1.2782 - lr: 8.1000e-04\n",
            "Epoch 16/50\n",
            "3066/3066 [==============================] - 128s 42ms/step - maeOverFscore: 1.6199 - loss: 0.2106 - custum_f1score: 0.7782 - custom_mae: 1.2653 - val_maeOverFscore: 1.7243 - val_loss: 0.2249 - val_custum_f1score: 0.7507 - val_custom_mae: 1.2957 - lr: 8.1000e-04\n",
            "Epoch 17/50\n",
            "3066/3066 [==============================] - 127s 42ms/step - maeOverFscore: 1.6149 - loss: 0.2105 - custum_f1score: 0.7796 - custom_mae: 1.2636 - val_maeOverFscore: 1.7635 - val_loss: 0.2207 - val_custum_f1score: 0.7565 - val_custom_mae: 1.3348 - lr: 7.2900e-04\n",
            "Epoch 18/50\n",
            "3066/3066 [==============================] - 127s 42ms/step - maeOverFscore: 1.6137 - loss: 0.2101 - custum_f1score: 0.7797 - custom_mae: 1.2625 - val_maeOverFscore: 1.6741 - val_loss: 0.2212 - val_custum_f1score: 0.7625 - val_custom_mae: 1.2786 - lr: 7.2900e-04\n",
            "Epoch 19/50\n",
            "3066/3066 [==============================] - 128s 42ms/step - maeOverFscore: 1.6094 - loss: 0.2096 - custum_f1score: 0.7804 - custom_mae: 1.2600 - val_maeOverFscore: 1.6522 - val_loss: 0.2180 - val_custum_f1score: 0.7739 - val_custom_mae: 1.2817 - lr: 7.2900e-04\n",
            "Epoch 20/50\n",
            "3066/3066 [==============================] - 128s 42ms/step - maeOverFscore: 1.6068 - loss: 0.2095 - custum_f1score: 0.7808 - custom_mae: 1.2589 - val_maeOverFscore: 1.6463 - val_loss: 0.2185 - val_custum_f1score: 0.7748 - val_custom_mae: 1.2783 - lr: 7.2900e-04\n",
            "Epoch 21/50\n",
            "3066/3066 [==============================] - 128s 42ms/step - maeOverFscore: 1.6037 - loss: 0.2093 - custum_f1score: 0.7808 - custom_mae: 1.2567 - val_maeOverFscore: 1.6455 - val_loss: 0.2153 - val_custum_f1score: 0.7732 - val_custom_mae: 1.2749 - lr: 7.2900e-04\n",
            "Epoch 22/50\n",
            "3066/3066 [==============================] - 127s 41ms/step - maeOverFscore: 1.5998 - loss: 0.2092 - custum_f1score: 0.7812 - custom_mae: 1.2545 - val_maeOverFscore: 1.7045 - val_loss: 0.2220 - val_custum_f1score: 0.7709 - val_custom_mae: 1.3188 - lr: 7.2900e-04\n",
            "Epoch 23/50\n",
            "3066/3066 [==============================] - 128s 42ms/step - maeOverFscore: 1.6015 - loss: 0.2089 - custum_f1score: 0.7820 - custom_mae: 1.2565 - val_maeOverFscore: 1.6649 - val_loss: 0.2190 - val_custum_f1score: 0.7734 - val_custom_mae: 1.2903 - lr: 7.2900e-04\n",
            "Epoch 24/50\n",
            "3066/3066 [==============================] - 127s 41ms/step - maeOverFscore: 1.5975 - loss: 0.2086 - custum_f1score: 0.7819 - custom_mae: 1.2535 - val_maeOverFscore: 1.6528 - val_loss: 0.2165 - val_custum_f1score: 0.7793 - val_custom_mae: 1.2906 - lr: 7.2900e-04\n",
            "Epoch 25/50\n",
            "3066/3066 [==============================] - 153s 50ms/step - maeOverFscore: 1.5931 - loss: 0.2082 - custum_f1score: 0.7829 - custom_mae: 1.2516 - val_maeOverFscore: 1.6541 - val_loss: 0.2149 - val_custum_f1score: 0.7774 - val_custom_mae: 1.2896 - lr: 6.5610e-04\n",
            "Epoch 26/50\n",
            "3066/3066 [==============================] - 128s 42ms/step - maeOverFscore: 1.5925 - loss: 0.2082 - custum_f1score: 0.7833 - custom_mae: 1.2518 - val_maeOverFscore: 1.6369 - val_loss: 0.2163 - val_custum_f1score: 0.7798 - val_custom_mae: 1.2801 - lr: 6.5610e-04\n",
            "Epoch 27/50\n",
            "3066/3066 [==============================] - 128s 42ms/step - maeOverFscore: 1.5883 - loss: 0.2078 - custum_f1score: 0.7834 - custom_mae: 1.2485 - val_maeOverFscore: 1.6707 - val_loss: 0.2171 - val_custum_f1score: 0.7784 - val_custom_mae: 1.3035 - lr: 6.5610e-04\n",
            "Epoch 28/50\n",
            "3066/3066 [==============================] - 127s 41ms/step - maeOverFscore: 1.5884 - loss: 0.2078 - custum_f1score: 0.7836 - custom_mae: 1.2488 - val_maeOverFscore: 1.7065 - val_loss: 0.2221 - val_custum_f1score: 0.7614 - val_custom_mae: 1.3015 - lr: 6.5610e-04\n",
            "Epoch 29/50\n",
            "3066/3066 [==============================] - 129s 42ms/step - maeOverFscore: 1.5841 - loss: 0.2074 - custum_f1score: 0.7845 - custom_mae: 1.2468 - val_maeOverFscore: 1.6271 - val_loss: 0.2156 - val_custum_f1score: 0.7810 - val_custom_mae: 1.2745 - lr: 5.9049e-04\n",
            "Epoch 30/50\n",
            "3066/3066 [==============================] - 129s 42ms/step - maeOverFscore: 1.5827 - loss: 0.2072 - custum_f1score: 0.7846 - custom_mae: 1.2458 - val_maeOverFscore: 1.6224 - val_loss: 0.2141 - val_custum_f1score: 0.7840 - val_custom_mae: 1.2758 - lr: 5.9049e-04\n",
            "Epoch 31/50\n",
            "3066/3066 [==============================] - 129s 42ms/step - maeOverFscore: 1.5786 - loss: 0.2070 - custum_f1score: 0.7847 - custom_mae: 1.2431 - val_maeOverFscore: 1.6423 - val_loss: 0.2158 - val_custum_f1score: 0.7822 - val_custom_mae: 1.2887 - lr: 5.9049e-04\n",
            "Epoch 32/50\n",
            "3066/3066 [==============================] - 128s 42ms/step - maeOverFscore: 1.5798 - loss: 0.2068 - custum_f1score: 0.7849 - custom_mae: 1.2440 - val_maeOverFscore: 1.6230 - val_loss: 0.2148 - val_custum_f1score: 0.7725 - val_custom_mae: 1.2561 - lr: 5.9049e-04\n",
            "Epoch 33/50\n",
            "3066/3066 [==============================] - 128s 42ms/step - maeOverFscore: 1.5795 - loss: 0.2069 - custum_f1score: 0.7848 - custom_mae: 1.2435 - val_maeOverFscore: 1.6832 - val_loss: 0.2225 - val_custum_f1score: 0.7595 - val_custom_mae: 1.2818 - lr: 5.9049e-04\n",
            "Epoch 34/50\n",
            "3066/3066 [==============================] - 127s 41ms/step - maeOverFscore: 1.5732 - loss: 0.2064 - custum_f1score: 0.7857 - custom_mae: 1.2403 - val_maeOverFscore: 1.6295 - val_loss: 0.2120 - val_custum_f1score: 0.7788 - val_custom_mae: 1.2716 - lr: 5.3144e-04\n",
            "Epoch 35/50\n",
            "3066/3066 [==============================] - 128s 42ms/step - maeOverFscore: 1.5749 - loss: 0.2064 - custum_f1score: 0.7857 - custom_mae: 1.2413 - val_maeOverFscore: 1.6525 - val_loss: 0.2185 - val_custum_f1score: 0.7725 - val_custom_mae: 1.2807 - lr: 5.3144e-04\n",
            "Epoch 36/50\n",
            "3066/3066 [==============================] - 128s 42ms/step - maeOverFscore: 1.5723 - loss: 0.2061 - custum_f1score: 0.7858 - custom_mae: 1.2396 - val_maeOverFscore: 1.6344 - val_loss: 0.2143 - val_custum_f1score: 0.7786 - val_custom_mae: 1.2754 - lr: 5.3144e-04\n",
            "Epoch 37/50\n",
            "3066/3066 [==============================] - 129s 42ms/step - maeOverFscore: 1.5721 - loss: 0.2061 - custum_f1score: 0.7858 - custom_mae: 1.2394 - val_maeOverFscore: 1.5871 - val_loss: 0.2099 - val_custum_f1score: 0.7861 - val_custom_mae: 1.2503 - lr: 5.3144e-04\n",
            "Epoch 38/50\n",
            "3066/3066 [==============================] - 128s 42ms/step - maeOverFscore: 1.5694 - loss: 0.2059 - custum_f1score: 0.7858 - custom_mae: 1.2376 - val_maeOverFscore: 1.6360 - val_loss: 0.2162 - val_custum_f1score: 0.7836 - val_custom_mae: 1.2853 - lr: 5.3144e-04\n",
            "Epoch 39/50\n",
            "3066/3066 [==============================] - 128s 42ms/step - maeOverFscore: 1.5732 - loss: 0.2060 - custum_f1score: 0.7862 - custom_mae: 1.2407 - val_maeOverFscore: 1.6147 - val_loss: 0.2149 - val_custum_f1score: 0.7803 - val_custom_mae: 1.2638 - lr: 5.3144e-04\n",
            "Epoch 40/50\n",
            "3066/3066 [==============================] - 128s 42ms/step - maeOverFscore: 1.5701 - loss: 0.2058 - custum_f1score: 0.7861 - custom_mae: 1.2383 - val_maeOverFscore: 1.6945 - val_loss: 0.2238 - val_custum_f1score: 0.7561 - val_custom_mae: 1.2810 - lr: 5.3144e-04\n",
            "Epoch 41/50\n",
            "3066/3066 [==============================] - 127s 41ms/step - maeOverFscore: 1.5620 - loss: 0.2054 - custum_f1score: 0.7868 - custom_mae: 1.2330 - val_maeOverFscore: 1.6284 - val_loss: 0.2115 - val_custum_f1score: 0.7789 - val_custom_mae: 1.2707 - lr: 4.7830e-04\n",
            "Epoch 42/50\n",
            "3066/3066 [==============================] - 128s 42ms/step - maeOverFscore: 1.5648 - loss: 0.2053 - custum_f1score: 0.7869 - custom_mae: 1.2349 - val_maeOverFscore: 1.6077 - val_loss: 0.2128 - val_custum_f1score: 0.7859 - val_custom_mae: 1.2671 - lr: 4.7830e-04\n",
            "Epoch 43/50\n",
            "3066/3066 [==============================] - 127s 41ms/step - maeOverFscore: 1.5614 - loss: 0.2054 - custum_f1score: 0.7871 - custom_mae: 1.2333 - val_maeOverFscore: 1.6055 - val_loss: 0.2143 - val_custum_f1score: 0.7878 - val_custom_mae: 1.2694 - lr: 4.7830e-04\n",
            "Epoch 44/50\n",
            "3066/3066 [==============================] - 127s 42ms/step - maeOverFscore: 1.5612 - loss: 0.2048 - custum_f1score: 0.7873 - custom_mae: 1.2330 - val_maeOverFscore: 1.6367 - val_loss: 0.2163 - val_custum_f1score: 0.7736 - val_custom_mae: 1.2685 - lr: 4.3047e-04\n",
            "Epoch 45/50\n",
            "3066/3066 [==============================] - 128s 42ms/step - maeOverFscore: 1.5609 - loss: 0.2051 - custum_f1score: 0.7874 - custom_mae: 1.2331 - val_maeOverFscore: 1.6586 - val_loss: 0.2160 - val_custum_f1score: 0.7776 - val_custom_mae: 1.2930 - lr: 4.3047e-04\n",
            "Epoch 46/50\n",
            "3066/3066 [==============================] - 126s 41ms/step - maeOverFscore: 1.5608 - loss: 0.2050 - custum_f1score: 0.7874 - custom_mae: 1.2327 - val_maeOverFscore: 1.6084 - val_loss: 0.2106 - val_custum_f1score: 0.7836 - val_custom_mae: 1.2635 - lr: 4.3047e-04\n",
            "Epoch 47/50\n",
            "3066/3066 [==============================] - 129s 42ms/step - maeOverFscore: 1.5576 - loss: 0.2046 - custum_f1score: 0.7879 - custom_mae: 1.2310 - val_maeOverFscore: 1.6107 - val_loss: 0.2137 - val_custum_f1score: 0.7828 - val_custom_mae: 1.2640 - lr: 3.8742e-04\n",
            "Epoch 48/50\n",
            "3066/3066 [==============================] - 127s 41ms/step - maeOverFscore: 1.5574 - loss: 0.2046 - custum_f1score: 0.7879 - custom_mae: 1.2309 - val_maeOverFscore: 1.6233 - val_loss: 0.2148 - val_custum_f1score: 0.7837 - val_custom_mae: 1.2755 - lr: 3.8742e-04\n",
            "Epoch 49/50\n",
            "3066/3066 [==============================] - 127s 42ms/step - maeOverFscore: 1.5555 - loss: 0.2047 - custum_f1score: 0.7882 - custom_mae: 1.2301 - val_maeOverFscore: 1.6069 - val_loss: 0.2124 - val_custum_f1score: 0.7850 - val_custom_mae: 1.2657 - lr: 3.8742e-04\n",
            "Epoch 50/50\n",
            "3066/3066 [==============================] - 128s 42ms/step - maeOverFscore: 1.5522 - loss: 0.2043 - custum_f1score: 0.7886 - custom_mae: 1.2283 - val_maeOverFscore: 1.6177 - val_loss: 0.2144 - val_custum_f1score: 0.7796 - val_custom_mae: 1.2643 - lr: 3.4868e-04\n",
            "Fold4\n",
            "WARNING:tensorflow:TPU system grpc://10.12.160.90:8470 has already been initialized. Reinitializing the TPU can cause previously created variables on TPU to be lost.\n"
          ],
          "name": "stdout"
        },
        {
          "output_type": "stream",
          "text": [
            "WARNING:tensorflow:TPU system grpc://10.12.160.90:8470 has already been initialized. Reinitializing the TPU can cause previously created variables on TPU to be lost.\n"
          ],
          "name": "stderr"
        },
        {
          "output_type": "stream",
          "text": [
            "INFO:tensorflow:Initializing the TPU system: grpc://10.12.160.90:8470\n"
          ],
          "name": "stdout"
        },
        {
          "output_type": "stream",
          "text": [
            "INFO:tensorflow:Initializing the TPU system: grpc://10.12.160.90:8470\n"
          ],
          "name": "stderr"
        },
        {
          "output_type": "stream",
          "text": [
            "INFO:tensorflow:Clearing out eager caches\n"
          ],
          "name": "stdout"
        },
        {
          "output_type": "stream",
          "text": [
            "INFO:tensorflow:Clearing out eager caches\n"
          ],
          "name": "stderr"
        },
        {
          "output_type": "stream",
          "text": [
            "INFO:tensorflow:Finished initializing TPU system.\n"
          ],
          "name": "stdout"
        },
        {
          "output_type": "stream",
          "text": [
            "INFO:tensorflow:Finished initializing TPU system.\n"
          ],
          "name": "stderr"
        },
        {
          "output_type": "stream",
          "text": [
            "INFO:tensorflow:Found TPU system:\n"
          ],
          "name": "stdout"
        },
        {
          "output_type": "stream",
          "text": [
            "INFO:tensorflow:Found TPU system:\n"
          ],
          "name": "stderr"
        },
        {
          "output_type": "stream",
          "text": [
            "INFO:tensorflow:*** Num TPU Cores: 8\n"
          ],
          "name": "stdout"
        },
        {
          "output_type": "stream",
          "text": [
            "INFO:tensorflow:*** Num TPU Cores: 8\n"
          ],
          "name": "stderr"
        },
        {
          "output_type": "stream",
          "text": [
            "INFO:tensorflow:*** Num TPU Workers: 1\n"
          ],
          "name": "stdout"
        },
        {
          "output_type": "stream",
          "text": [
            "INFO:tensorflow:*** Num TPU Workers: 1\n"
          ],
          "name": "stderr"
        },
        {
          "output_type": "stream",
          "text": [
            "INFO:tensorflow:*** Num TPU Cores Per Worker: 8\n"
          ],
          "name": "stdout"
        },
        {
          "output_type": "stream",
          "text": [
            "INFO:tensorflow:*** Num TPU Cores Per Worker: 8\n"
          ],
          "name": "stderr"
        },
        {
          "output_type": "stream",
          "text": [
            "INFO:tensorflow:*** Available Device: _DeviceAttributes(/job:localhost/replica:0/task:0/device:CPU:0, CPU, 0, 0)\n"
          ],
          "name": "stdout"
        },
        {
          "output_type": "stream",
          "text": [
            "INFO:tensorflow:*** Available Device: _DeviceAttributes(/job:localhost/replica:0/task:0/device:CPU:0, CPU, 0, 0)\n"
          ],
          "name": "stderr"
        },
        {
          "output_type": "stream",
          "text": [
            "INFO:tensorflow:*** Available Device: _DeviceAttributes(/job:localhost/replica:0/task:0/device:XLA_CPU:0, XLA_CPU, 0, 0)\n"
          ],
          "name": "stdout"
        },
        {
          "output_type": "stream",
          "text": [
            "INFO:tensorflow:*** Available Device: _DeviceAttributes(/job:localhost/replica:0/task:0/device:XLA_CPU:0, XLA_CPU, 0, 0)\n"
          ],
          "name": "stderr"
        },
        {
          "output_type": "stream",
          "text": [
            "INFO:tensorflow:*** Available Device: _DeviceAttributes(/job:worker/replica:0/task:0/device:CPU:0, CPU, 0, 0)\n"
          ],
          "name": "stdout"
        },
        {
          "output_type": "stream",
          "text": [
            "INFO:tensorflow:*** Available Device: _DeviceAttributes(/job:worker/replica:0/task:0/device:CPU:0, CPU, 0, 0)\n"
          ],
          "name": "stderr"
        },
        {
          "output_type": "stream",
          "text": [
            "INFO:tensorflow:*** Available Device: _DeviceAttributes(/job:worker/replica:0/task:0/device:TPU:0, TPU, 0, 0)\n"
          ],
          "name": "stdout"
        },
        {
          "output_type": "stream",
          "text": [
            "INFO:tensorflow:*** Available Device: _DeviceAttributes(/job:worker/replica:0/task:0/device:TPU:0, TPU, 0, 0)\n"
          ],
          "name": "stderr"
        },
        {
          "output_type": "stream",
          "text": [
            "INFO:tensorflow:*** Available Device: _DeviceAttributes(/job:worker/replica:0/task:0/device:TPU:1, TPU, 0, 0)\n"
          ],
          "name": "stdout"
        },
        {
          "output_type": "stream",
          "text": [
            "INFO:tensorflow:*** Available Device: _DeviceAttributes(/job:worker/replica:0/task:0/device:TPU:1, TPU, 0, 0)\n"
          ],
          "name": "stderr"
        },
        {
          "output_type": "stream",
          "text": [
            "INFO:tensorflow:*** Available Device: _DeviceAttributes(/job:worker/replica:0/task:0/device:TPU:2, TPU, 0, 0)\n"
          ],
          "name": "stdout"
        },
        {
          "output_type": "stream",
          "text": [
            "INFO:tensorflow:*** Available Device: _DeviceAttributes(/job:worker/replica:0/task:0/device:TPU:2, TPU, 0, 0)\n"
          ],
          "name": "stderr"
        },
        {
          "output_type": "stream",
          "text": [
            "INFO:tensorflow:*** Available Device: _DeviceAttributes(/job:worker/replica:0/task:0/device:TPU:3, TPU, 0, 0)\n"
          ],
          "name": "stdout"
        },
        {
          "output_type": "stream",
          "text": [
            "INFO:tensorflow:*** Available Device: _DeviceAttributes(/job:worker/replica:0/task:0/device:TPU:3, TPU, 0, 0)\n"
          ],
          "name": "stderr"
        },
        {
          "output_type": "stream",
          "text": [
            "INFO:tensorflow:*** Available Device: _DeviceAttributes(/job:worker/replica:0/task:0/device:TPU:4, TPU, 0, 0)\n"
          ],
          "name": "stdout"
        },
        {
          "output_type": "stream",
          "text": [
            "INFO:tensorflow:*** Available Device: _DeviceAttributes(/job:worker/replica:0/task:0/device:TPU:4, TPU, 0, 0)\n"
          ],
          "name": "stderr"
        },
        {
          "output_type": "stream",
          "text": [
            "INFO:tensorflow:*** Available Device: _DeviceAttributes(/job:worker/replica:0/task:0/device:TPU:5, TPU, 0, 0)\n"
          ],
          "name": "stdout"
        },
        {
          "output_type": "stream",
          "text": [
            "INFO:tensorflow:*** Available Device: _DeviceAttributes(/job:worker/replica:0/task:0/device:TPU:5, TPU, 0, 0)\n"
          ],
          "name": "stderr"
        },
        {
          "output_type": "stream",
          "text": [
            "INFO:tensorflow:*** Available Device: _DeviceAttributes(/job:worker/replica:0/task:0/device:TPU:6, TPU, 0, 0)\n"
          ],
          "name": "stdout"
        },
        {
          "output_type": "stream",
          "text": [
            "INFO:tensorflow:*** Available Device: _DeviceAttributes(/job:worker/replica:0/task:0/device:TPU:6, TPU, 0, 0)\n"
          ],
          "name": "stderr"
        },
        {
          "output_type": "stream",
          "text": [
            "INFO:tensorflow:*** Available Device: _DeviceAttributes(/job:worker/replica:0/task:0/device:TPU:7, TPU, 0, 0)\n"
          ],
          "name": "stdout"
        },
        {
          "output_type": "stream",
          "text": [
            "INFO:tensorflow:*** Available Device: _DeviceAttributes(/job:worker/replica:0/task:0/device:TPU:7, TPU, 0, 0)\n"
          ],
          "name": "stderr"
        },
        {
          "output_type": "stream",
          "text": [
            "INFO:tensorflow:*** Available Device: _DeviceAttributes(/job:worker/replica:0/task:0/device:TPU_SYSTEM:0, TPU_SYSTEM, 0, 0)\n"
          ],
          "name": "stdout"
        },
        {
          "output_type": "stream",
          "text": [
            "INFO:tensorflow:*** Available Device: _DeviceAttributes(/job:worker/replica:0/task:0/device:TPU_SYSTEM:0, TPU_SYSTEM, 0, 0)\n"
          ],
          "name": "stderr"
        },
        {
          "output_type": "stream",
          "text": [
            "INFO:tensorflow:*** Available Device: _DeviceAttributes(/job:worker/replica:0/task:0/device:XLA_CPU:0, XLA_CPU, 0, 0)\n"
          ],
          "name": "stdout"
        },
        {
          "output_type": "stream",
          "text": [
            "INFO:tensorflow:*** Available Device: _DeviceAttributes(/job:worker/replica:0/task:0/device:XLA_CPU:0, XLA_CPU, 0, 0)\n"
          ],
          "name": "stderr"
        },
        {
          "output_type": "stream",
          "text": [
            "Epoch 1/50\n",
            "3066/3066 [==============================] - 135s 44ms/step - maeOverFscore: 2.1166 - loss: 0.2432 - custum_f1score: 0.6900 - custom_mae: 1.4500 - val_maeOverFscore: 2.0505 - val_loss: 0.2416 - val_custum_f1score: 0.7015 - val_custom_mae: 1.4333 - lr: 0.0010\n",
            "Epoch 2/50\n",
            "3066/3066 [==============================] - 129s 42ms/step - maeOverFscore: 1.8607 - loss: 0.2261 - custum_f1score: 0.7303 - custom_mae: 1.3618 - val_maeOverFscore: 1.9007 - val_loss: 0.2400 - val_custum_f1score: 0.7284 - val_custom_mae: 1.3879 - lr: 0.0010\n",
            "Epoch 3/50\n",
            "3066/3066 [==============================] - 129s 42ms/step - maeOverFscore: 1.7925 - loss: 0.2219 - custum_f1score: 0.7431 - custom_mae: 1.3370 - val_maeOverFscore: 1.8631 - val_loss: 0.2375 - val_custum_f1score: 0.7444 - val_custom_mae: 1.3888 - lr: 0.0010\n",
            "Epoch 4/50\n",
            "3066/3066 [==============================] - 129s 42ms/step - maeOverFscore: 1.7466 - loss: 0.2188 - custum_f1score: 0.7524 - custom_mae: 1.3187 - val_maeOverFscore: 1.8181 - val_loss: 0.2287 - val_custum_f1score: 0.7421 - val_custom_mae: 1.3523 - lr: 0.0010\n",
            "Epoch 5/50\n",
            "3066/3066 [==============================] - 128s 42ms/step - maeOverFscore: 1.7224 - loss: 0.2172 - custum_f1score: 0.7580 - custom_mae: 1.3100 - val_maeOverFscore: 1.7762 - val_loss: 0.2308 - val_custum_f1score: 0.7564 - val_custom_mae: 1.3481 - lr: 0.0010\n",
            "Epoch 6/50\n",
            "3066/3066 [==============================] - 129s 42ms/step - maeOverFscore: 1.7017 - loss: 0.2157 - custum_f1score: 0.7611 - custom_mae: 1.2997 - val_maeOverFscore: 1.8262 - val_loss: 0.2313 - val_custum_f1score: 0.7489 - val_custom_mae: 1.3705 - lr: 0.0010\n",
            "Epoch 7/50\n",
            "3066/3066 [==============================] - 129s 42ms/step - maeOverFscore: 1.6818 - loss: 0.2143 - custum_f1score: 0.7650 - custom_mae: 1.2914 - val_maeOverFscore: 1.6771 - val_loss: 0.2257 - val_custum_f1score: 0.7771 - val_custom_mae: 1.3089 - lr: 0.0010\n",
            "Epoch 8/50\n",
            "3066/3066 [==============================] - 128s 42ms/step - maeOverFscore: 1.6722 - loss: 0.2138 - custum_f1score: 0.7672 - custom_mae: 1.2875 - val_maeOverFscore: 1.7310 - val_loss: 0.2285 - val_custum_f1score: 0.7724 - val_custom_mae: 1.3427 - lr: 0.0010\n",
            "Epoch 9/50\n",
            "3066/3066 [==============================] - 128s 42ms/step - maeOverFscore: 1.6627 - loss: 0.2130 - custum_f1score: 0.7687 - custom_mae: 1.2829 - val_maeOverFscore: 1.7186 - val_loss: 0.2283 - val_custum_f1score: 0.7745 - val_custom_mae: 1.3376 - lr: 0.0010\n",
            "Epoch 10/50\n",
            "3066/3066 [==============================] - 128s 42ms/step - maeOverFscore: 1.6533 - loss: 0.2122 - custum_f1score: 0.7707 - custom_mae: 1.2785 - val_maeOverFscore: 1.7528 - val_loss: 0.2295 - val_custum_f1score: 0.7596 - val_custom_mae: 1.3379 - lr: 0.0010\n",
            "Epoch 11/50\n",
            "3066/3066 [==============================] - 128s 42ms/step - maeOverFscore: 1.6450 - loss: 0.2117 - custum_f1score: 0.7727 - custom_mae: 1.2756 - val_maeOverFscore: 1.7572 - val_loss: 0.2299 - val_custum_f1score: 0.7655 - val_custom_mae: 1.3500 - lr: 9.0000e-04\n",
            "Epoch 12/50\n",
            "3066/3066 [==============================] - 127s 42ms/step - maeOverFscore: 1.6358 - loss: 0.2109 - custum_f1score: 0.7739 - custom_mae: 1.2707 - val_maeOverFscore: 1.7592 - val_loss: 0.2265 - val_custum_f1score: 0.7620 - val_custom_mae: 1.3433 - lr: 9.0000e-04\n",
            "Epoch 13/50\n",
            "3066/3066 [==============================] - 128s 42ms/step - maeOverFscore: 1.6321 - loss: 0.2104 - custum_f1score: 0.7753 - custom_mae: 1.2698 - val_maeOverFscore: 1.6671 - val_loss: 0.2244 - val_custum_f1score: 0.7819 - val_custom_mae: 1.3089 - lr: 9.0000e-04\n",
            "Epoch 14/50\n",
            "3066/3066 [==============================] - 128s 42ms/step - maeOverFscore: 1.6245 - loss: 0.2098 - custum_f1score: 0.7763 - custom_mae: 1.2656 - val_maeOverFscore: 1.6820 - val_loss: 0.2235 - val_custum_f1score: 0.7778 - val_custom_mae: 1.3129 - lr: 9.0000e-04\n",
            "Epoch 15/50\n",
            "3066/3066 [==============================] - 129s 42ms/step - maeOverFscore: 1.6212 - loss: 0.2096 - custum_f1score: 0.7770 - custom_mae: 1.2642 - val_maeOverFscore: 1.6569 - val_loss: 0.2255 - val_custum_f1score: 0.7822 - val_custom_mae: 1.3034 - lr: 9.0000e-04\n",
            "Epoch 16/50\n",
            "3066/3066 [==============================] - 127s 41ms/step - maeOverFscore: 1.6163 - loss: 0.2092 - custum_f1score: 0.7775 - custom_mae: 1.2610 - val_maeOverFscore: 1.7430 - val_loss: 0.2292 - val_custum_f1score: 0.7676 - val_custom_mae: 1.3446 - lr: 9.0000e-04\n",
            "Epoch 17/50\n",
            "3066/3066 [==============================] - 130s 42ms/step - maeOverFscore: 1.6147 - loss: 0.2090 - custum_f1score: 0.7778 - custom_mae: 1.2603 - val_maeOverFscore: 1.6688 - val_loss: 0.2262 - val_custum_f1score: 0.7804 - val_custom_mae: 1.3090 - lr: 9.0000e-04\n",
            "Epoch 18/50\n",
            "3066/3066 [==============================] - 127s 41ms/step - maeOverFscore: 1.6062 - loss: 0.2083 - custum_f1score: 0.7792 - custom_mae: 1.2559 - val_maeOverFscore: 1.6876 - val_loss: 0.2277 - val_custum_f1score: 0.7707 - val_custom_mae: 1.3071 - lr: 8.1000e-04\n",
            "Epoch 19/50\n",
            "3066/3066 [==============================] - 127s 42ms/step - maeOverFscore: 1.6046 - loss: 0.2084 - custum_f1score: 0.7797 - custom_mae: 1.2558 - val_maeOverFscore: 1.6749 - val_loss: 0.2241 - val_custum_f1score: 0.7799 - val_custom_mae: 1.3126 - lr: 8.1000e-04\n",
            "Epoch 20/50\n",
            "3066/3066 [==============================] - 127s 41ms/step - maeOverFscore: 1.6009 - loss: 0.2076 - custum_f1score: 0.7804 - custom_mae: 1.2534 - val_maeOverFscore: 1.6421 - val_loss: 0.2214 - val_custum_f1score: 0.7840 - val_custom_mae: 1.2931 - lr: 8.1000e-04\n",
            "Epoch 21/50\n",
            "3066/3066 [==============================] - 128s 42ms/step - maeOverFscore: 1.5982 - loss: 0.2079 - custum_f1score: 0.7807 - custom_mae: 1.2524 - val_maeOverFscore: 1.6324 - val_loss: 0.2209 - val_custum_f1score: 0.7845 - val_custom_mae: 1.2858 - lr: 8.1000e-04\n",
            "Epoch 22/50\n",
            "3066/3066 [==============================] - 128s 42ms/step - maeOverFscore: 1.5970 - loss: 0.2076 - custum_f1score: 0.7813 - custom_mae: 1.2520 - val_maeOverFscore: 1.8963 - val_loss: 0.2598 - val_custum_f1score: 0.7218 - val_custom_mae: 1.3594 - lr: 8.1000e-04\n",
            "Epoch 23/50\n",
            "3066/3066 [==============================] - 128s 42ms/step - maeOverFscore: 1.5947 - loss: 0.2073 - custum_f1score: 0.7813 - custom_mae: 1.2502 - val_maeOverFscore: 1.6679 - val_loss: 0.2253 - val_custum_f1score: 0.7849 - val_custom_mae: 1.3144 - lr: 8.1000e-04\n",
            "Epoch 24/50\n",
            "3066/3066 [==============================] - 128s 42ms/step - maeOverFscore: 1.5938 - loss: 0.2070 - custum_f1score: 0.7816 - custom_mae: 1.2501 - val_maeOverFscore: 1.6510 - val_loss: 0.2254 - val_custum_f1score: 0.7814 - val_custom_mae: 1.2959 - lr: 8.1000e-04\n",
            "Epoch 25/50\n",
            "3066/3066 [==============================] - 126s 41ms/step - maeOverFscore: 1.5871 - loss: 0.2067 - custum_f1score: 0.7827 - custom_mae: 1.2464 - val_maeOverFscore: 1.6661 - val_loss: 0.2284 - val_custum_f1score: 0.7773 - val_custom_mae: 1.3028 - lr: 7.2900e-04\n",
            "Epoch 26/50\n",
            "3066/3066 [==============================] - 129s 42ms/step - maeOverFscore: 1.5862 - loss: 0.2065 - custum_f1score: 0.7828 - custom_mae: 1.2458 - val_maeOverFscore: 1.6517 - val_loss: 0.2270 - val_custum_f1score: 0.7782 - val_custom_mae: 1.2919 - lr: 7.2900e-04\n",
            "Epoch 27/50\n",
            "3066/3066 [==============================] - 128s 42ms/step - maeOverFscore: 1.5849 - loss: 0.2063 - custum_f1score: 0.7830 - custom_mae: 1.2449 - val_maeOverFscore: 1.7155 - val_loss: 0.2327 - val_custum_f1score: 0.7656 - val_custom_mae: 1.3183 - lr: 7.2900e-04\n",
            "Epoch 28/50\n",
            "3066/3066 [==============================] - 129s 42ms/step - maeOverFscore: 1.5811 - loss: 0.2061 - custum_f1score: 0.7838 - custom_mae: 1.2434 - val_maeOverFscore: 1.6227 - val_loss: 0.2219 - val_custum_f1score: 0.7867 - val_custom_mae: 1.2833 - lr: 6.5610e-04\n",
            "Epoch 29/50\n",
            "3066/3066 [==============================] - 128s 42ms/step - maeOverFscore: 1.5765 - loss: 0.2057 - custum_f1score: 0.7840 - custom_mae: 1.2403 - val_maeOverFscore: 1.6909 - val_loss: 0.2269 - val_custum_f1score: 0.7719 - val_custom_mae: 1.3118 - lr: 6.5610e-04\n",
            "Epoch 30/50\n",
            "3066/3066 [==============================] - 129s 42ms/step - maeOverFscore: 1.5774 - loss: 0.2057 - custum_f1score: 0.7846 - custom_mae: 1.2417 - val_maeOverFscore: 1.6168 - val_loss: 0.2224 - val_custum_f1score: 0.7898 - val_custom_mae: 1.2835 - lr: 6.5610e-04\n",
            "Epoch 31/50\n",
            "3066/3066 [==============================] - 127s 41ms/step - maeOverFscore: 1.5742 - loss: 0.2053 - custum_f1score: 0.7849 - custom_mae: 1.2394 - val_maeOverFscore: 1.6384 - val_loss: 0.2263 - val_custum_f1score: 0.7797 - val_custom_mae: 1.2843 - lr: 5.9049e-04\n",
            "Epoch 32/50\n",
            "3066/3066 [==============================] - 128s 42ms/step - maeOverFscore: 1.5717 - loss: 0.2053 - custum_f1score: 0.7852 - custom_mae: 1.2380 - val_maeOverFscore: 1.6743 - val_loss: 0.2290 - val_custum_f1score: 0.7811 - val_custom_mae: 1.3153 - lr: 5.9049e-04\n",
            "Epoch 33/50\n",
            "3066/3066 [==============================] - 128s 42ms/step - maeOverFscore: 1.5722 - loss: 0.2050 - custum_f1score: 0.7850 - custom_mae: 1.2381 - val_maeOverFscore: 1.6823 - val_loss: 0.2290 - val_custum_f1score: 0.7777 - val_custom_mae: 1.3158 - lr: 5.9049e-04\n",
            "Epoch 34/50\n",
            "3066/3066 [==============================] - 128s 42ms/step - maeOverFscore: 1.5688 - loss: 0.2048 - custum_f1score: 0.7857 - custom_mae: 1.2366 - val_maeOverFscore: 1.6345 - val_loss: 0.2245 - val_custum_f1score: 0.7835 - val_custom_mae: 1.2874 - lr: 5.3144e-04\n",
            "Epoch 35/50\n",
            "3066/3066 [==============================] - 128s 42ms/step - maeOverFscore: 1.5687 - loss: 0.2047 - custum_f1score: 0.7854 - custom_mae: 1.2359 - val_maeOverFscore: 1.7103 - val_loss: 0.2371 - val_custum_f1score: 0.7537 - val_custom_mae: 1.2913 - lr: 5.3144e-04\n",
            "Epoch 36/50\n",
            "3066/3066 [==============================] - 129s 42ms/step - maeOverFscore: 1.5657 - loss: 0.2046 - custum_f1score: 0.7861 - custom_mae: 1.2348 - val_maeOverFscore: 1.6596 - val_loss: 0.2290 - val_custum_f1score: 0.7749 - val_custom_mae: 1.2926 - lr: 5.3144e-04\n",
            "Epoch 37/50\n",
            "3066/3066 [==============================] - 128s 42ms/step - maeOverFscore: 1.5645 - loss: 0.2041 - custum_f1score: 0.7863 - custom_mae: 1.2339 - val_maeOverFscore: 1.6802 - val_loss: 0.2331 - val_custum_f1score: 0.7705 - val_custom_mae: 1.3007 - lr: 4.7830e-04\n",
            "Epoch 38/50\n",
            "1843/3066 [=================>............] - ETA: 50s - maeOverFscore: 1.5603 - loss: 0.2040 - custum_f1score: 0.7865 - custom_mae: 1.2308"
          ],
          "name": "stdout"
        }
      ]
    },
    {
      "cell_type": "code",
      "metadata": {
        "id": "ee3iF6S6uCaD",
        "colab_type": "code",
        "colab": {
          "base_uri": "https://localhost:8080/",
          "height": 239
        },
        "outputId": "795bfda5-bebe-4100-9ddf-e8a144afc605"
      },
      "source": [
        "#read history and model\n",
        "histories = []\n",
        "models = []\n",
        "for i in range(3):\n",
        "    i = i+1\n",
        "    history= pickle.load(open(f'/content/drive/My Drive/2020 Kaggle Study/deagwon/resnet_augment8/histtory_{i}', 'rb'))\n",
        "    model = tf.keras.models.load_model(f'/content/drive/My Drive/2020 Kaggle Study/deagwon/resnet_augment8/restnet_model_{i}.h5', compile = False)\n",
        "    histories.append(history)\n",
        "    models.append(model)"
      ],
      "execution_count": 4,
      "outputs": [
        {
          "output_type": "error",
          "ename": "FileNotFoundError",
          "evalue": "ignored",
          "traceback": [
            "\u001b[0;31m---------------------------------------------------------------------------\u001b[0m",
            "\u001b[0;31mFileNotFoundError\u001b[0m                         Traceback (most recent call last)",
            "\u001b[0;32m<ipython-input-4-99ff78d6af11>\u001b[0m in \u001b[0;36m<module>\u001b[0;34m()\u001b[0m\n\u001b[1;32m      4\u001b[0m \u001b[0;32mfor\u001b[0m \u001b[0mi\u001b[0m \u001b[0;32min\u001b[0m \u001b[0mrange\u001b[0m\u001b[0;34m(\u001b[0m\u001b[0;36m3\u001b[0m\u001b[0;34m)\u001b[0m\u001b[0;34m:\u001b[0m\u001b[0;34m\u001b[0m\u001b[0;34m\u001b[0m\u001b[0m\n\u001b[1;32m      5\u001b[0m     \u001b[0mi\u001b[0m \u001b[0;34m=\u001b[0m \u001b[0mi\u001b[0m\u001b[0;34m+\u001b[0m\u001b[0;36m1\u001b[0m\u001b[0;34m\u001b[0m\u001b[0;34m\u001b[0m\u001b[0m\n\u001b[0;32m----> 6\u001b[0;31m     \u001b[0mhistory\u001b[0m\u001b[0;34m=\u001b[0m \u001b[0mpickle\u001b[0m\u001b[0;34m.\u001b[0m\u001b[0mload\u001b[0m\u001b[0;34m(\u001b[0m\u001b[0mopen\u001b[0m\u001b[0;34m(\u001b[0m\u001b[0;34mf'/content/drive/My Drive/2020 Kaggle Study/deagwon/resnet_augment8/histtory_{i}'\u001b[0m\u001b[0;34m,\u001b[0m \u001b[0;34m'rb'\u001b[0m\u001b[0;34m)\u001b[0m\u001b[0;34m)\u001b[0m\u001b[0;34m\u001b[0m\u001b[0;34m\u001b[0m\u001b[0m\n\u001b[0m\u001b[1;32m      7\u001b[0m     \u001b[0mmodel\u001b[0m \u001b[0;34m=\u001b[0m \u001b[0mtf\u001b[0m\u001b[0;34m.\u001b[0m\u001b[0mkeras\u001b[0m\u001b[0;34m.\u001b[0m\u001b[0mmodels\u001b[0m\u001b[0;34m.\u001b[0m\u001b[0mload_model\u001b[0m\u001b[0;34m(\u001b[0m\u001b[0;34mf'/content/drive/My Drive/2020 Kaggle Study/deagwon/resnet_augment8/restnet_model_{i}.h5'\u001b[0m\u001b[0;34m,\u001b[0m \u001b[0mcompile\u001b[0m \u001b[0;34m=\u001b[0m \u001b[0;32mFalse\u001b[0m\u001b[0;34m)\u001b[0m\u001b[0;34m\u001b[0m\u001b[0;34m\u001b[0m\u001b[0m\n\u001b[1;32m      8\u001b[0m     \u001b[0mhistories\u001b[0m\u001b[0;34m.\u001b[0m\u001b[0mappend\u001b[0m\u001b[0;34m(\u001b[0m\u001b[0mhistory\u001b[0m\u001b[0;34m)\u001b[0m\u001b[0;34m\u001b[0m\u001b[0;34m\u001b[0m\u001b[0m\n",
            "\u001b[0;31mFileNotFoundError\u001b[0m: [Errno 2] No such file or directory: '/content/drive/My Drive/2020 Kaggle Study/deagwon/resnet_augment8/histtory_1'"
          ]
        }
      ]
    },
    {
      "cell_type": "code",
      "metadata": {
        "id": "XDxXKBV2HEnb",
        "colab_type": "code",
        "outputId": "aabd1b4e-6382-4004-be70-89a8c77b9ce7",
        "colab": {
          "base_uri": "https://localhost:8080/",
          "height": 208
        }
      },
      "source": [
        "#maeOverFscore\n",
        "print('maeOverFscore')\n",
        "plt.figure(figsize = (20,3))\n",
        "for i in range(5):\n",
        "    plt.subplot(1,5,i+1)\n",
        "    plt.plot(histories[i]['val_maeOverFscore'])\n",
        "    plt.plot(histories[i]['maeOverFscore'])\n",
        "    plt.ylim([1.6,2.3])\n",
        "plt.show()"
      ],
      "execution_count": 0,
      "outputs": [
        {
          "output_type": "display_data",
          "data": {
            "image/png": "[encoded data removed]",
            "text/plain": [
              "<Figure size 1440x216 with 5 Axes>"
            ]
          },
          "metadata": {
            "tags": [],
            "needs_background": "dark"
          }
        }
      ]
    },
    {
      "cell_type": "code",
      "metadata": {
        "id": "c0o9gld-HK3x",
        "colab_type": "code",
        "outputId": "d2848278-8e41-44e5-dae7-884f75c83bba",
        "colab": {
          "base_uri": "https://localhost:8080/",
          "height": 207
        }
      },
      "source": [
        "# loss\n",
        "print('loss')\n",
        "plt.figure(figsize = (20,3))\n",
        "for i in range(5):\n",
        "    plt.subplot(1,5,i+1)\n",
        "    plt.plot(histories[i]['val_loss'])\n",
        "    plt.plot(histories[i]['loss'])\n",
        "    plt.ylim([0.20,0.25])\n",
        "plt.show()"
      ],
      "execution_count": 0,
      "outputs": [
        {
          "output_type": "display_data",
          "data": {
            "image/png": "[encoded data removed]",
            "text/plain": [
              "<Figure size 1440x216 with 5 Axes>"
            ]
          },
          "metadata": {
            "tags": [],
            "needs_background": "dark"
          }
        }
      ]
    },
    {
      "cell_type": "code",
      "metadata": {
        "id": "1-O452jsIXJj",
        "colab_type": "code",
        "outputId": "162dd2c3-b80e-445b-a5e5-4bac2b62c2d9",
        "colab": {
          "base_uri": "https://localhost:8080/",
          "height": 203
        }
      },
      "source": [
        "# custom_mae\n",
        "print('custom_mae')\n",
        "plt.figure(figsize = (20,3))\n",
        "for i in range(5):\n",
        "    min_ndex = np.argmin(histories[i]['val_custom_mae'])\n",
        "    plt.subplot(1,5,i+1)\n",
        "    plt.plot(histories[i]['val_custom_mae'])\n",
        "    plt.plot(histories[i]['custom_mae'])\n",
        "    plt.vlines(min_ndex, ymin = 1.20,ymax=1.50, colors = 'yellow')\n",
        "    plt.ylim([1.20,1.47])\n",
        "plt.show()"
      ],
      "execution_count": 0,
      "outputs": [
        {
          "output_type": "display_data",
          "data": {
            "image/png": "[encoded data removed]",
            "text/plain": [
              "<Figure size 1440x216 with 5 Axes>"
            ]
          },
          "metadata": {
            "tags": [],
            "needs_background": "dark"
          }
        }
      ]
    },
    {
      "cell_type": "code",
      "metadata": {
        "id": "C04J3KeSIRIA",
        "colab_type": "code",
        "outputId": "df230baf-3bdf-4c1e-d348-228bc5c6f59c",
        "colab": {
          "base_uri": "https://localhost:8080/",
          "height": 207
        }
      },
      "source": [
        "# f1_metric\n",
        "print('f1_metric')\n",
        "plt.figure(figsize = (20,3))\n",
        "for i in range(5):\n",
        "    plt.subplot(1,5,i+1)\n",
        "    plt.plot(histories[i]['val_f1_metric'])\n",
        "    plt.plot(histories[i]['f1_metric'])\n",
        "    plt.ylim([0.65,0.73])\n",
        "plt.show()"
      ],
      "execution_count": 0,
      "outputs": [
        {
          "output_type": "display_data",
          "data": {
            "image/png": "[encoded data removed]",
            "text/plain": [
              "<Figure size 1440x216 with 5 Axes>"
            ]
          },
          "metadata": {
            "tags": [],
            "needs_background": "dark"
          }
        }
      ]
    },
    {
      "cell_type": "markdown",
      "metadata": {
        "id": "9lKtvCDNLgSB",
        "colab_type": "text"
      },
      "source": [
        "## submission"
      ]
    },
    {
      "cell_type": "code",
      "metadata": {
        "id": "mWGWDEa6Jw8I",
        "colab_type": "code",
        "outputId": "4981fe56-dbfd-4006-ba07-84ff4ea085e2",
        "colab": {
          "base_uri": "https://localhost:8080/",
          "height": 34
        }
      },
      "source": [
        "test = np.load('/content/drive/My Drive/2020 Kaggle Study/data/test.npy')\n",
        "test = preprocess(test)\n",
        "test.shape"
      ],
      "execution_count": 0,
      "outputs": [
        {
          "output_type": "execute_result",
          "data": {
            "text/plain": [
              "(2416, 40, 40, 14)"
            ]
          },
          "metadata": {
            "tags": []
          },
          "execution_count": 18
        }
      ]
    },
    {
      "cell_type": "code",
      "metadata": {
        "id": "uAWshnkhJV3Z",
        "colab_type": "code",
        "colab": {}
      },
      "source": [
        "# 5개 모델 앙상블 예측 평균 내기\n",
        "preds = []\n",
        "for model in models:\n",
        "    model.compile(optimizer = 'adam',loss = 'mae',  metrics=[maeOverFscore, f1_metric, custom_mae])\n",
        "    preds.append(model.predict(test[:,:,:,:10]))\n",
        "pred = sum(preds)/len(preds)"
      ],
      "execution_count": 0,
      "outputs": []
    },
    {
      "cell_type": "code",
      "metadata": {
        "id": "vtcZvpFzLJAN",
        "colab_type": "code",
        "outputId": "bf912315-cb29-4ca9-b92a-c79ec25cef39",
        "colab": {
          "base_uri": "https://localhost:8080/",
          "height": 422
        }
      },
      "source": [
        "submission = pd.read_csv('/content/drive/My Drive/2020 Kaggle Study/data/sample_submission.csv')\n",
        "submission.iloc[:,1:] = pred.reshape(-1,1600)\n",
        "submission.to_csv('submission.csv', index = False)\n",
        "submission"
      ],
      "execution_count": 0,
      "outputs": [
        {
          "output_type": "execute_result",
          "data": {
            "text/html": [
              "<div>\n",
              "<style scoped>\n",
              "    .dataframe tbody tr th:only-of-type {\n",
              "        vertical-align: middle;\n",
              "    }\n",
              "\n",
              "    .dataframe tbody tr th {\n",
              "        vertical-align: top;\n",
              "    }\n",
              "\n",
              "    .dataframe thead th {\n",
              "        text-align: right;\n",
              "    }\n",
              "</style>\n",
              "<table border=\"1\" class=\"dataframe\">\n",
              "  <thead>\n",
              "    <tr style=\"text-align: right;\">\n",
              "      <th></th>\n",
              "      <th>id</th>\n",
              "      <th>px_1</th>\n",
              "      <th>px_2</th>\n",
              "      <th>px_3</th>\n",
              "      <th>px_4</th>\n",
              "      <th>px_5</th>\n",
              "      <th>px_6</th>\n",
              "      <th>px_7</th>\n",
              "      <th>px_8</th>\n",
              "      <th>px_9</th>\n",
              "      <th>px_10</th>\n",
              "      <th>px_11</th>\n",
              "      <th>px_12</th>\n",
              "      <th>px_13</th>\n",
              "      <th>px_14</th>\n",
              "      <th>px_15</th>\n",
              "      <th>px_16</th>\n",
              "      <th>px_17</th>\n",
              "      <th>px_18</th>\n",
              "      <th>px_19</th>\n",
              "      <th>px_20</th>\n",
              "      <th>px_21</th>\n",
              "      <th>px_22</th>\n",
              "      <th>px_23</th>\n",
              "      <th>px_24</th>\n",
              "      <th>px_25</th>\n",
              "      <th>px_26</th>\n",
              "      <th>px_27</th>\n",
              "      <th>px_28</th>\n",
              "      <th>px_29</th>\n",
              "      <th>px_30</th>\n",
              "      <th>px_31</th>\n",
              "      <th>px_32</th>\n",
              "      <th>px_33</th>\n",
              "      <th>px_34</th>\n",
              "      <th>px_35</th>\n",
              "      <th>px_36</th>\n",
              "      <th>px_37</th>\n",
              "      <th>px_38</th>\n",
              "      <th>px_39</th>\n",
              "      <th>...</th>\n",
              "      <th>px_1561</th>\n",
              "      <th>px_1562</th>\n",
              "      <th>px_1563</th>\n",
              "      <th>px_1564</th>\n",
              "      <th>px_1565</th>\n",
              "      <th>px_1566</th>\n",
              "      <th>px_1567</th>\n",
              "      <th>px_1568</th>\n",
              "      <th>px_1569</th>\n",
              "      <th>px_1570</th>\n",
              "      <th>px_1571</th>\n",
              "      <th>px_1572</th>\n",
              "      <th>px_1573</th>\n",
              "      <th>px_1574</th>\n",
              "      <th>px_1575</th>\n",
              "      <th>px_1576</th>\n",
              "      <th>px_1577</th>\n",
              "      <th>px_1578</th>\n",
              "      <th>px_1579</th>\n",
              "      <th>px_1580</th>\n",
              "      <th>px_1581</th>\n",
              "      <th>px_1582</th>\n",
              "      <th>px_1583</th>\n",
              "      <th>px_1584</th>\n",
              "      <th>px_1585</th>\n",
              "      <th>px_1586</th>\n",
              "      <th>px_1587</th>\n",
              "      <th>px_1588</th>\n",
              "      <th>px_1589</th>\n",
              "      <th>px_1590</th>\n",
              "      <th>px_1591</th>\n",
              "      <th>px_1592</th>\n",
              "      <th>px_1593</th>\n",
              "      <th>px_1594</th>\n",
              "      <th>px_1595</th>\n",
              "      <th>px_1596</th>\n",
              "      <th>px_1597</th>\n",
              "      <th>px_1598</th>\n",
              "      <th>px_1599</th>\n",
              "      <th>px_1600</th>\n",
              "    </tr>\n",
              "  </thead>\n",
              "  <tbody>\n",
              "    <tr>\n",
              "      <th>0</th>\n",
              "      <td>029858_01</td>\n",
              "      <td>0.011216</td>\n",
              "      <td>0.000000</td>\n",
              "      <td>0.000000</td>\n",
              "      <td>0.000000</td>\n",
              "      <td>0.000000</td>\n",
              "      <td>0.000000</td>\n",
              "      <td>0.000000</td>\n",
              "      <td>0.0</td>\n",
              "      <td>0.0</td>\n",
              "      <td>0.0</td>\n",
              "      <td>0.024766</td>\n",
              "      <td>0.751328</td>\n",
              "      <td>0.00339</td>\n",
              "      <td>0.0</td>\n",
              "      <td>0.000000</td>\n",
              "      <td>0.0000</td>\n",
              "      <td>0.000000</td>\n",
              "      <td>0.000000</td>\n",
              "      <td>0.000000</td>\n",
              "      <td>0.000000</td>\n",
              "      <td>0.0</td>\n",
              "      <td>0.0</td>\n",
              "      <td>0.0</td>\n",
              "      <td>0.0</td>\n",
              "      <td>0.0</td>\n",
              "      <td>0.000000</td>\n",
              "      <td>0.000000</td>\n",
              "      <td>0.0</td>\n",
              "      <td>0.0</td>\n",
              "      <td>0.0</td>\n",
              "      <td>0.0</td>\n",
              "      <td>0.0</td>\n",
              "      <td>0.0</td>\n",
              "      <td>0.0</td>\n",
              "      <td>0.0</td>\n",
              "      <td>0.0</td>\n",
              "      <td>0.0</td>\n",
              "      <td>0.000000</td>\n",
              "      <td>0.000000</td>\n",
              "      <td>...</td>\n",
              "      <td>0.000000</td>\n",
              "      <td>0.00000</td>\n",
              "      <td>0.000000</td>\n",
              "      <td>0.000000</td>\n",
              "      <td>0.000000</td>\n",
              "      <td>0.000000</td>\n",
              "      <td>0.000000</td>\n",
              "      <td>0.00000</td>\n",
              "      <td>0.000000</td>\n",
              "      <td>0.000000</td>\n",
              "      <td>0.000000</td>\n",
              "      <td>0.000000</td>\n",
              "      <td>0.000000</td>\n",
              "      <td>0.000000</td>\n",
              "      <td>0.000000</td>\n",
              "      <td>0.000000</td>\n",
              "      <td>0.000000</td>\n",
              "      <td>0.000000</td>\n",
              "      <td>0.000000</td>\n",
              "      <td>0.000000</td>\n",
              "      <td>0.000000</td>\n",
              "      <td>0.000000</td>\n",
              "      <td>0.00000</td>\n",
              "      <td>0.000000</td>\n",
              "      <td>0.000000</td>\n",
              "      <td>0.00000</td>\n",
              "      <td>0.000000</td>\n",
              "      <td>0.000000</td>\n",
              "      <td>0.000000</td>\n",
              "      <td>0.00000</td>\n",
              "      <td>0.000000</td>\n",
              "      <td>0.000000</td>\n",
              "      <td>0.000000</td>\n",
              "      <td>0.000000</td>\n",
              "      <td>0.00000</td>\n",
              "      <td>0.000000</td>\n",
              "      <td>0.000000</td>\n",
              "      <td>0.000000</td>\n",
              "      <td>0.000000</td>\n",
              "      <td>0.00000</td>\n",
              "    </tr>\n",
              "    <tr>\n",
              "      <th>1</th>\n",
              "      <td>029858_02</td>\n",
              "      <td>0.000000</td>\n",
              "      <td>0.000000</td>\n",
              "      <td>0.000000</td>\n",
              "      <td>0.000000</td>\n",
              "      <td>0.000000</td>\n",
              "      <td>0.000000</td>\n",
              "      <td>0.000000</td>\n",
              "      <td>0.0</td>\n",
              "      <td>0.0</td>\n",
              "      <td>0.0</td>\n",
              "      <td>0.000000</td>\n",
              "      <td>0.000000</td>\n",
              "      <td>0.00000</td>\n",
              "      <td>0.0</td>\n",
              "      <td>0.000000</td>\n",
              "      <td>0.0000</td>\n",
              "      <td>0.000000</td>\n",
              "      <td>0.000000</td>\n",
              "      <td>0.000000</td>\n",
              "      <td>0.000000</td>\n",
              "      <td>0.0</td>\n",
              "      <td>0.0</td>\n",
              "      <td>0.0</td>\n",
              "      <td>0.0</td>\n",
              "      <td>0.0</td>\n",
              "      <td>0.000000</td>\n",
              "      <td>0.000000</td>\n",
              "      <td>0.0</td>\n",
              "      <td>0.0</td>\n",
              "      <td>0.0</td>\n",
              "      <td>0.0</td>\n",
              "      <td>0.0</td>\n",
              "      <td>0.0</td>\n",
              "      <td>0.0</td>\n",
              "      <td>0.0</td>\n",
              "      <td>0.0</td>\n",
              "      <td>0.0</td>\n",
              "      <td>0.000000</td>\n",
              "      <td>0.000000</td>\n",
              "      <td>...</td>\n",
              "      <td>0.000000</td>\n",
              "      <td>0.00000</td>\n",
              "      <td>0.000000</td>\n",
              "      <td>0.000000</td>\n",
              "      <td>0.000000</td>\n",
              "      <td>0.000000</td>\n",
              "      <td>0.000000</td>\n",
              "      <td>0.00000</td>\n",
              "      <td>0.000000</td>\n",
              "      <td>0.000000</td>\n",
              "      <td>0.000000</td>\n",
              "      <td>0.136175</td>\n",
              "      <td>0.000000</td>\n",
              "      <td>0.000000</td>\n",
              "      <td>0.000000</td>\n",
              "      <td>0.000000</td>\n",
              "      <td>0.000000</td>\n",
              "      <td>0.000000</td>\n",
              "      <td>0.000000</td>\n",
              "      <td>0.000000</td>\n",
              "      <td>0.000000</td>\n",
              "      <td>0.000000</td>\n",
              "      <td>0.00000</td>\n",
              "      <td>0.000000</td>\n",
              "      <td>0.000000</td>\n",
              "      <td>0.00000</td>\n",
              "      <td>0.000000</td>\n",
              "      <td>0.000000</td>\n",
              "      <td>0.000000</td>\n",
              "      <td>0.00000</td>\n",
              "      <td>0.000000</td>\n",
              "      <td>0.000000</td>\n",
              "      <td>0.000000</td>\n",
              "      <td>0.000000</td>\n",
              "      <td>0.00000</td>\n",
              "      <td>0.000000</td>\n",
              "      <td>0.000000</td>\n",
              "      <td>0.000000</td>\n",
              "      <td>0.000000</td>\n",
              "      <td>0.00000</td>\n",
              "    </tr>\n",
              "    <tr>\n",
              "      <th>2</th>\n",
              "      <td>029858_03</td>\n",
              "      <td>0.000000</td>\n",
              "      <td>0.000000</td>\n",
              "      <td>0.000000</td>\n",
              "      <td>0.000000</td>\n",
              "      <td>0.000000</td>\n",
              "      <td>0.000000</td>\n",
              "      <td>0.000000</td>\n",
              "      <td>0.0</td>\n",
              "      <td>0.0</td>\n",
              "      <td>0.0</td>\n",
              "      <td>0.000000</td>\n",
              "      <td>0.000000</td>\n",
              "      <td>0.00000</td>\n",
              "      <td>0.0</td>\n",
              "      <td>0.000000</td>\n",
              "      <td>0.0000</td>\n",
              "      <td>0.000000</td>\n",
              "      <td>0.000000</td>\n",
              "      <td>0.000000</td>\n",
              "      <td>0.000000</td>\n",
              "      <td>0.0</td>\n",
              "      <td>0.0</td>\n",
              "      <td>0.0</td>\n",
              "      <td>0.0</td>\n",
              "      <td>0.0</td>\n",
              "      <td>0.420303</td>\n",
              "      <td>0.000000</td>\n",
              "      <td>0.0</td>\n",
              "      <td>0.0</td>\n",
              "      <td>0.0</td>\n",
              "      <td>0.0</td>\n",
              "      <td>0.0</td>\n",
              "      <td>0.0</td>\n",
              "      <td>0.0</td>\n",
              "      <td>0.0</td>\n",
              "      <td>0.0</td>\n",
              "      <td>0.0</td>\n",
              "      <td>0.000000</td>\n",
              "      <td>0.000000</td>\n",
              "      <td>...</td>\n",
              "      <td>0.000000</td>\n",
              "      <td>0.00000</td>\n",
              "      <td>0.000000</td>\n",
              "      <td>0.000000</td>\n",
              "      <td>0.000000</td>\n",
              "      <td>0.000000</td>\n",
              "      <td>0.000000</td>\n",
              "      <td>0.00000</td>\n",
              "      <td>0.000000</td>\n",
              "      <td>0.000000</td>\n",
              "      <td>0.000000</td>\n",
              "      <td>0.000000</td>\n",
              "      <td>0.000000</td>\n",
              "      <td>0.000000</td>\n",
              "      <td>0.000000</td>\n",
              "      <td>0.000000</td>\n",
              "      <td>0.000000</td>\n",
              "      <td>0.000000</td>\n",
              "      <td>0.000000</td>\n",
              "      <td>0.000000</td>\n",
              "      <td>0.000000</td>\n",
              "      <td>0.000000</td>\n",
              "      <td>0.00000</td>\n",
              "      <td>0.000000</td>\n",
              "      <td>0.000000</td>\n",
              "      <td>0.00000</td>\n",
              "      <td>0.000000</td>\n",
              "      <td>0.000000</td>\n",
              "      <td>0.000000</td>\n",
              "      <td>0.00000</td>\n",
              "      <td>0.000000</td>\n",
              "      <td>0.000000</td>\n",
              "      <td>0.000000</td>\n",
              "      <td>0.000000</td>\n",
              "      <td>0.00000</td>\n",
              "      <td>0.000000</td>\n",
              "      <td>0.000000</td>\n",
              "      <td>0.000000</td>\n",
              "      <td>0.000000</td>\n",
              "      <td>0.00000</td>\n",
              "    </tr>\n",
              "    <tr>\n",
              "      <th>3</th>\n",
              "      <td>029858_05</td>\n",
              "      <td>0.000000</td>\n",
              "      <td>0.000000</td>\n",
              "      <td>0.000000</td>\n",
              "      <td>0.000000</td>\n",
              "      <td>0.000000</td>\n",
              "      <td>0.000000</td>\n",
              "      <td>0.000000</td>\n",
              "      <td>0.0</td>\n",
              "      <td>0.0</td>\n",
              "      <td>0.0</td>\n",
              "      <td>0.000000</td>\n",
              "      <td>0.000000</td>\n",
              "      <td>0.00000</td>\n",
              "      <td>0.0</td>\n",
              "      <td>0.000000</td>\n",
              "      <td>0.0000</td>\n",
              "      <td>0.000000</td>\n",
              "      <td>0.000000</td>\n",
              "      <td>0.000000</td>\n",
              "      <td>0.000000</td>\n",
              "      <td>0.0</td>\n",
              "      <td>0.0</td>\n",
              "      <td>0.0</td>\n",
              "      <td>0.0</td>\n",
              "      <td>0.0</td>\n",
              "      <td>0.000000</td>\n",
              "      <td>0.000000</td>\n",
              "      <td>0.0</td>\n",
              "      <td>0.0</td>\n",
              "      <td>0.0</td>\n",
              "      <td>0.0</td>\n",
              "      <td>0.0</td>\n",
              "      <td>0.0</td>\n",
              "      <td>0.0</td>\n",
              "      <td>0.0</td>\n",
              "      <td>0.0</td>\n",
              "      <td>0.0</td>\n",
              "      <td>0.993811</td>\n",
              "      <td>1.125023</td>\n",
              "      <td>...</td>\n",
              "      <td>0.000000</td>\n",
              "      <td>0.00000</td>\n",
              "      <td>0.000000</td>\n",
              "      <td>0.000000</td>\n",
              "      <td>0.000000</td>\n",
              "      <td>0.000000</td>\n",
              "      <td>0.000000</td>\n",
              "      <td>0.00000</td>\n",
              "      <td>0.334730</td>\n",
              "      <td>2.106717</td>\n",
              "      <td>5.883943</td>\n",
              "      <td>1.500862</td>\n",
              "      <td>0.000000</td>\n",
              "      <td>0.000000</td>\n",
              "      <td>0.000000</td>\n",
              "      <td>0.000000</td>\n",
              "      <td>0.000000</td>\n",
              "      <td>0.000000</td>\n",
              "      <td>0.000000</td>\n",
              "      <td>0.000000</td>\n",
              "      <td>0.000000</td>\n",
              "      <td>0.000000</td>\n",
              "      <td>0.00000</td>\n",
              "      <td>0.000000</td>\n",
              "      <td>0.000000</td>\n",
              "      <td>0.00000</td>\n",
              "      <td>0.000000</td>\n",
              "      <td>0.000000</td>\n",
              "      <td>0.000000</td>\n",
              "      <td>0.00000</td>\n",
              "      <td>0.000000</td>\n",
              "      <td>0.000000</td>\n",
              "      <td>0.000000</td>\n",
              "      <td>0.000000</td>\n",
              "      <td>0.00000</td>\n",
              "      <td>0.000000</td>\n",
              "      <td>0.000000</td>\n",
              "      <td>0.000000</td>\n",
              "      <td>0.000000</td>\n",
              "      <td>0.00000</td>\n",
              "    </tr>\n",
              "    <tr>\n",
              "      <th>4</th>\n",
              "      <td>029858_07</td>\n",
              "      <td>0.000000</td>\n",
              "      <td>0.000000</td>\n",
              "      <td>0.000000</td>\n",
              "      <td>0.000000</td>\n",
              "      <td>0.000000</td>\n",
              "      <td>0.000000</td>\n",
              "      <td>0.000000</td>\n",
              "      <td>0.0</td>\n",
              "      <td>0.0</td>\n",
              "      <td>0.0</td>\n",
              "      <td>0.000000</td>\n",
              "      <td>0.000000</td>\n",
              "      <td>0.00000</td>\n",
              "      <td>0.0</td>\n",
              "      <td>0.000000</td>\n",
              "      <td>0.0000</td>\n",
              "      <td>0.000000</td>\n",
              "      <td>0.000000</td>\n",
              "      <td>0.000000</td>\n",
              "      <td>0.000000</td>\n",
              "      <td>0.0</td>\n",
              "      <td>0.0</td>\n",
              "      <td>0.0</td>\n",
              "      <td>0.0</td>\n",
              "      <td>0.0</td>\n",
              "      <td>0.000000</td>\n",
              "      <td>0.000000</td>\n",
              "      <td>0.0</td>\n",
              "      <td>0.0</td>\n",
              "      <td>0.0</td>\n",
              "      <td>0.0</td>\n",
              "      <td>0.0</td>\n",
              "      <td>0.0</td>\n",
              "      <td>0.0</td>\n",
              "      <td>0.0</td>\n",
              "      <td>0.0</td>\n",
              "      <td>0.0</td>\n",
              "      <td>0.000000</td>\n",
              "      <td>0.000000</td>\n",
              "      <td>...</td>\n",
              "      <td>0.862609</td>\n",
              "      <td>0.96589</td>\n",
              "      <td>1.148732</td>\n",
              "      <td>2.081965</td>\n",
              "      <td>2.995235</td>\n",
              "      <td>2.969595</td>\n",
              "      <td>1.800625</td>\n",
              "      <td>0.88655</td>\n",
              "      <td>0.726014</td>\n",
              "      <td>1.360684</td>\n",
              "      <td>2.361010</td>\n",
              "      <td>4.525452</td>\n",
              "      <td>4.637113</td>\n",
              "      <td>3.575653</td>\n",
              "      <td>5.874806</td>\n",
              "      <td>9.083761</td>\n",
              "      <td>11.954782</td>\n",
              "      <td>14.805521</td>\n",
              "      <td>12.083727</td>\n",
              "      <td>10.755697</td>\n",
              "      <td>6.835498</td>\n",
              "      <td>5.045813</td>\n",
              "      <td>7.73668</td>\n",
              "      <td>11.693479</td>\n",
              "      <td>5.451712</td>\n",
              "      <td>1.30602</td>\n",
              "      <td>0.392692</td>\n",
              "      <td>0.264137</td>\n",
              "      <td>0.321593</td>\n",
              "      <td>0.71928</td>\n",
              "      <td>1.354828</td>\n",
              "      <td>1.946476</td>\n",
              "      <td>1.397042</td>\n",
              "      <td>0.823059</td>\n",
              "      <td>0.76108</td>\n",
              "      <td>1.507544</td>\n",
              "      <td>3.541018</td>\n",
              "      <td>3.348232</td>\n",
              "      <td>2.239128</td>\n",
              "      <td>1.07867</td>\n",
              "    </tr>\n",
              "    <tr>\n",
              "      <th>...</th>\n",
              "      <td>...</td>\n",
              "      <td>...</td>\n",
              "      <td>...</td>\n",
              "      <td>...</td>\n",
              "      <td>...</td>\n",
              "      <td>...</td>\n",
              "      <td>...</td>\n",
              "      <td>...</td>\n",
              "      <td>...</td>\n",
              "      <td>...</td>\n",
              "      <td>...</td>\n",
              "      <td>...</td>\n",
              "      <td>...</td>\n",
              "      <td>...</td>\n",
              "      <td>...</td>\n",
              "      <td>...</td>\n",
              "      <td>...</td>\n",
              "      <td>...</td>\n",
              "      <td>...</td>\n",
              "      <td>...</td>\n",
              "      <td>...</td>\n",
              "      <td>...</td>\n",
              "      <td>...</td>\n",
              "      <td>...</td>\n",
              "      <td>...</td>\n",
              "      <td>...</td>\n",
              "      <td>...</td>\n",
              "      <td>...</td>\n",
              "      <td>...</td>\n",
              "      <td>...</td>\n",
              "      <td>...</td>\n",
              "      <td>...</td>\n",
              "      <td>...</td>\n",
              "      <td>...</td>\n",
              "      <td>...</td>\n",
              "      <td>...</td>\n",
              "      <td>...</td>\n",
              "      <td>...</td>\n",
              "      <td>...</td>\n",
              "      <td>...</td>\n",
              "      <td>...</td>\n",
              "      <td>...</td>\n",
              "      <td>...</td>\n",
              "      <td>...</td>\n",
              "      <td>...</td>\n",
              "      <td>...</td>\n",
              "      <td>...</td>\n",
              "      <td>...</td>\n",
              "      <td>...</td>\n",
              "      <td>...</td>\n",
              "      <td>...</td>\n",
              "      <td>...</td>\n",
              "      <td>...</td>\n",
              "      <td>...</td>\n",
              "      <td>...</td>\n",
              "      <td>...</td>\n",
              "      <td>...</td>\n",
              "      <td>...</td>\n",
              "      <td>...</td>\n",
              "      <td>...</td>\n",
              "      <td>...</td>\n",
              "      <td>...</td>\n",
              "      <td>...</td>\n",
              "      <td>...</td>\n",
              "      <td>...</td>\n",
              "      <td>...</td>\n",
              "      <td>...</td>\n",
              "      <td>...</td>\n",
              "      <td>...</td>\n",
              "      <td>...</td>\n",
              "      <td>...</td>\n",
              "      <td>...</td>\n",
              "      <td>...</td>\n",
              "      <td>...</td>\n",
              "      <td>...</td>\n",
              "      <td>...</td>\n",
              "      <td>...</td>\n",
              "      <td>...</td>\n",
              "      <td>...</td>\n",
              "      <td>...</td>\n",
              "      <td>...</td>\n",
              "    </tr>\n",
              "    <tr>\n",
              "      <th>2411</th>\n",
              "      <td>031287_08</td>\n",
              "      <td>0.000000</td>\n",
              "      <td>0.000000</td>\n",
              "      <td>0.000000</td>\n",
              "      <td>0.000000</td>\n",
              "      <td>0.000000</td>\n",
              "      <td>0.000000</td>\n",
              "      <td>0.000000</td>\n",
              "      <td>0.0</td>\n",
              "      <td>0.0</td>\n",
              "      <td>0.0</td>\n",
              "      <td>0.000000</td>\n",
              "      <td>0.000000</td>\n",
              "      <td>0.00000</td>\n",
              "      <td>0.0</td>\n",
              "      <td>0.000000</td>\n",
              "      <td>0.0000</td>\n",
              "      <td>0.000000</td>\n",
              "      <td>0.000000</td>\n",
              "      <td>0.000000</td>\n",
              "      <td>0.000000</td>\n",
              "      <td>0.0</td>\n",
              "      <td>0.0</td>\n",
              "      <td>0.0</td>\n",
              "      <td>0.0</td>\n",
              "      <td>0.0</td>\n",
              "      <td>0.000000</td>\n",
              "      <td>0.000000</td>\n",
              "      <td>0.0</td>\n",
              "      <td>0.0</td>\n",
              "      <td>0.0</td>\n",
              "      <td>0.0</td>\n",
              "      <td>0.0</td>\n",
              "      <td>0.0</td>\n",
              "      <td>0.0</td>\n",
              "      <td>0.0</td>\n",
              "      <td>0.0</td>\n",
              "      <td>0.0</td>\n",
              "      <td>0.000000</td>\n",
              "      <td>0.000000</td>\n",
              "      <td>...</td>\n",
              "      <td>0.000000</td>\n",
              "      <td>0.00000</td>\n",
              "      <td>0.000000</td>\n",
              "      <td>0.000000</td>\n",
              "      <td>0.000000</td>\n",
              "      <td>0.000000</td>\n",
              "      <td>0.000000</td>\n",
              "      <td>0.00000</td>\n",
              "      <td>0.000000</td>\n",
              "      <td>0.000000</td>\n",
              "      <td>0.000000</td>\n",
              "      <td>0.000000</td>\n",
              "      <td>0.000000</td>\n",
              "      <td>0.000000</td>\n",
              "      <td>0.000000</td>\n",
              "      <td>0.000000</td>\n",
              "      <td>0.000000</td>\n",
              "      <td>0.000000</td>\n",
              "      <td>0.000000</td>\n",
              "      <td>0.000000</td>\n",
              "      <td>0.000000</td>\n",
              "      <td>0.000000</td>\n",
              "      <td>0.00000</td>\n",
              "      <td>0.000000</td>\n",
              "      <td>0.000000</td>\n",
              "      <td>0.00000</td>\n",
              "      <td>0.000000</td>\n",
              "      <td>0.000000</td>\n",
              "      <td>0.000000</td>\n",
              "      <td>0.00000</td>\n",
              "      <td>0.000000</td>\n",
              "      <td>0.000000</td>\n",
              "      <td>0.000000</td>\n",
              "      <td>0.000000</td>\n",
              "      <td>0.00000</td>\n",
              "      <td>0.000000</td>\n",
              "      <td>0.000000</td>\n",
              "      <td>0.000000</td>\n",
              "      <td>0.000000</td>\n",
              "      <td>0.00000</td>\n",
              "    </tr>\n",
              "    <tr>\n",
              "      <th>2412</th>\n",
              "      <td>031288_01</td>\n",
              "      <td>0.000000</td>\n",
              "      <td>0.000000</td>\n",
              "      <td>0.000000</td>\n",
              "      <td>0.000000</td>\n",
              "      <td>0.000000</td>\n",
              "      <td>0.000000</td>\n",
              "      <td>0.000000</td>\n",
              "      <td>0.0</td>\n",
              "      <td>0.0</td>\n",
              "      <td>0.0</td>\n",
              "      <td>0.000000</td>\n",
              "      <td>0.000000</td>\n",
              "      <td>0.00000</td>\n",
              "      <td>0.0</td>\n",
              "      <td>0.013663</td>\n",
              "      <td>0.0144</td>\n",
              "      <td>0.093437</td>\n",
              "      <td>0.071944</td>\n",
              "      <td>0.091657</td>\n",
              "      <td>0.035617</td>\n",
              "      <td>0.0</td>\n",
              "      <td>0.0</td>\n",
              "      <td>0.0</td>\n",
              "      <td>0.0</td>\n",
              "      <td>0.0</td>\n",
              "      <td>0.002778</td>\n",
              "      <td>0.006063</td>\n",
              "      <td>0.0</td>\n",
              "      <td>0.0</td>\n",
              "      <td>0.0</td>\n",
              "      <td>0.0</td>\n",
              "      <td>0.0</td>\n",
              "      <td>0.0</td>\n",
              "      <td>0.0</td>\n",
              "      <td>0.0</td>\n",
              "      <td>0.0</td>\n",
              "      <td>0.0</td>\n",
              "      <td>0.000000</td>\n",
              "      <td>0.000000</td>\n",
              "      <td>...</td>\n",
              "      <td>0.000000</td>\n",
              "      <td>0.00000</td>\n",
              "      <td>0.000000</td>\n",
              "      <td>0.000000</td>\n",
              "      <td>0.000000</td>\n",
              "      <td>0.000000</td>\n",
              "      <td>0.000000</td>\n",
              "      <td>0.00000</td>\n",
              "      <td>0.000000</td>\n",
              "      <td>0.000000</td>\n",
              "      <td>0.000000</td>\n",
              "      <td>0.000000</td>\n",
              "      <td>0.000000</td>\n",
              "      <td>0.000000</td>\n",
              "      <td>0.000000</td>\n",
              "      <td>0.000000</td>\n",
              "      <td>0.000000</td>\n",
              "      <td>0.000000</td>\n",
              "      <td>0.000000</td>\n",
              "      <td>0.000000</td>\n",
              "      <td>0.000000</td>\n",
              "      <td>0.000000</td>\n",
              "      <td>0.00000</td>\n",
              "      <td>0.000000</td>\n",
              "      <td>0.000000</td>\n",
              "      <td>0.00000</td>\n",
              "      <td>0.000000</td>\n",
              "      <td>0.000000</td>\n",
              "      <td>0.000000</td>\n",
              "      <td>0.00000</td>\n",
              "      <td>0.000000</td>\n",
              "      <td>0.000000</td>\n",
              "      <td>0.000000</td>\n",
              "      <td>0.000000</td>\n",
              "      <td>0.00000</td>\n",
              "      <td>0.000000</td>\n",
              "      <td>0.000000</td>\n",
              "      <td>0.000000</td>\n",
              "      <td>0.000000</td>\n",
              "      <td>0.00000</td>\n",
              "    </tr>\n",
              "    <tr>\n",
              "      <th>2413</th>\n",
              "      <td>031288_02</td>\n",
              "      <td>0.000000</td>\n",
              "      <td>0.000000</td>\n",
              "      <td>0.000000</td>\n",
              "      <td>0.000000</td>\n",
              "      <td>0.000000</td>\n",
              "      <td>0.000000</td>\n",
              "      <td>0.000000</td>\n",
              "      <td>0.0</td>\n",
              "      <td>0.0</td>\n",
              "      <td>0.0</td>\n",
              "      <td>0.000000</td>\n",
              "      <td>0.000000</td>\n",
              "      <td>0.00000</td>\n",
              "      <td>0.0</td>\n",
              "      <td>0.000000</td>\n",
              "      <td>0.0000</td>\n",
              "      <td>0.000000</td>\n",
              "      <td>0.000000</td>\n",
              "      <td>0.000000</td>\n",
              "      <td>0.000000</td>\n",
              "      <td>0.0</td>\n",
              "      <td>0.0</td>\n",
              "      <td>0.0</td>\n",
              "      <td>0.0</td>\n",
              "      <td>0.0</td>\n",
              "      <td>0.000000</td>\n",
              "      <td>0.000000</td>\n",
              "      <td>0.0</td>\n",
              "      <td>0.0</td>\n",
              "      <td>0.0</td>\n",
              "      <td>0.0</td>\n",
              "      <td>0.0</td>\n",
              "      <td>0.0</td>\n",
              "      <td>0.0</td>\n",
              "      <td>0.0</td>\n",
              "      <td>0.0</td>\n",
              "      <td>0.0</td>\n",
              "      <td>0.000000</td>\n",
              "      <td>0.000000</td>\n",
              "      <td>...</td>\n",
              "      <td>0.000000</td>\n",
              "      <td>0.00000</td>\n",
              "      <td>0.000000</td>\n",
              "      <td>0.000000</td>\n",
              "      <td>0.000000</td>\n",
              "      <td>0.000000</td>\n",
              "      <td>0.000000</td>\n",
              "      <td>0.00000</td>\n",
              "      <td>0.000000</td>\n",
              "      <td>0.000000</td>\n",
              "      <td>0.000000</td>\n",
              "      <td>0.000000</td>\n",
              "      <td>0.000000</td>\n",
              "      <td>0.000000</td>\n",
              "      <td>0.000000</td>\n",
              "      <td>0.000000</td>\n",
              "      <td>0.000000</td>\n",
              "      <td>0.000000</td>\n",
              "      <td>0.000000</td>\n",
              "      <td>0.000000</td>\n",
              "      <td>0.000000</td>\n",
              "      <td>0.000000</td>\n",
              "      <td>0.00000</td>\n",
              "      <td>0.000000</td>\n",
              "      <td>0.000000</td>\n",
              "      <td>0.00000</td>\n",
              "      <td>0.000000</td>\n",
              "      <td>0.000000</td>\n",
              "      <td>0.000000</td>\n",
              "      <td>0.00000</td>\n",
              "      <td>0.000000</td>\n",
              "      <td>0.000000</td>\n",
              "      <td>0.000000</td>\n",
              "      <td>0.000000</td>\n",
              "      <td>0.00000</td>\n",
              "      <td>0.000000</td>\n",
              "      <td>0.000000</td>\n",
              "      <td>0.004756</td>\n",
              "      <td>0.000000</td>\n",
              "      <td>0.00000</td>\n",
              "    </tr>\n",
              "    <tr>\n",
              "      <th>2414</th>\n",
              "      <td>031288_08</td>\n",
              "      <td>0.000000</td>\n",
              "      <td>0.000000</td>\n",
              "      <td>0.000000</td>\n",
              "      <td>0.000000</td>\n",
              "      <td>0.000000</td>\n",
              "      <td>0.000000</td>\n",
              "      <td>0.000000</td>\n",
              "      <td>0.0</td>\n",
              "      <td>0.0</td>\n",
              "      <td>0.0</td>\n",
              "      <td>0.000000</td>\n",
              "      <td>0.000000</td>\n",
              "      <td>0.00000</td>\n",
              "      <td>0.0</td>\n",
              "      <td>0.000000</td>\n",
              "      <td>0.0000</td>\n",
              "      <td>0.000000</td>\n",
              "      <td>0.000000</td>\n",
              "      <td>0.000000</td>\n",
              "      <td>0.000000</td>\n",
              "      <td>0.0</td>\n",
              "      <td>0.0</td>\n",
              "      <td>0.0</td>\n",
              "      <td>0.0</td>\n",
              "      <td>0.0</td>\n",
              "      <td>0.000000</td>\n",
              "      <td>0.000000</td>\n",
              "      <td>0.0</td>\n",
              "      <td>0.0</td>\n",
              "      <td>0.0</td>\n",
              "      <td>0.0</td>\n",
              "      <td>0.0</td>\n",
              "      <td>0.0</td>\n",
              "      <td>0.0</td>\n",
              "      <td>0.0</td>\n",
              "      <td>0.0</td>\n",
              "      <td>0.0</td>\n",
              "      <td>0.000000</td>\n",
              "      <td>0.000000</td>\n",
              "      <td>...</td>\n",
              "      <td>0.000000</td>\n",
              "      <td>0.00000</td>\n",
              "      <td>0.000000</td>\n",
              "      <td>0.000000</td>\n",
              "      <td>0.000000</td>\n",
              "      <td>0.000000</td>\n",
              "      <td>0.000000</td>\n",
              "      <td>0.00000</td>\n",
              "      <td>0.000000</td>\n",
              "      <td>0.000000</td>\n",
              "      <td>0.000000</td>\n",
              "      <td>0.000000</td>\n",
              "      <td>0.000000</td>\n",
              "      <td>0.000000</td>\n",
              "      <td>0.000000</td>\n",
              "      <td>0.000000</td>\n",
              "      <td>0.000000</td>\n",
              "      <td>0.000000</td>\n",
              "      <td>0.000000</td>\n",
              "      <td>0.000000</td>\n",
              "      <td>0.000000</td>\n",
              "      <td>0.000000</td>\n",
              "      <td>0.00000</td>\n",
              "      <td>0.000000</td>\n",
              "      <td>0.000000</td>\n",
              "      <td>0.00000</td>\n",
              "      <td>0.000000</td>\n",
              "      <td>0.000000</td>\n",
              "      <td>0.000000</td>\n",
              "      <td>0.00000</td>\n",
              "      <td>0.000000</td>\n",
              "      <td>0.000000</td>\n",
              "      <td>0.000000</td>\n",
              "      <td>0.000000</td>\n",
              "      <td>0.00000</td>\n",
              "      <td>0.000000</td>\n",
              "      <td>0.000000</td>\n",
              "      <td>0.000000</td>\n",
              "      <td>0.000000</td>\n",
              "      <td>0.00000</td>\n",
              "    </tr>\n",
              "    <tr>\n",
              "      <th>2415</th>\n",
              "      <td>031288_11</td>\n",
              "      <td>0.441548</td>\n",
              "      <td>0.512089</td>\n",
              "      <td>0.547188</td>\n",
              "      <td>0.367616</td>\n",
              "      <td>0.393902</td>\n",
              "      <td>0.514083</td>\n",
              "      <td>0.162753</td>\n",
              "      <td>0.0</td>\n",
              "      <td>0.0</td>\n",
              "      <td>0.0</td>\n",
              "      <td>0.000000</td>\n",
              "      <td>0.000000</td>\n",
              "      <td>0.00000</td>\n",
              "      <td>0.0</td>\n",
              "      <td>0.000000</td>\n",
              "      <td>0.0000</td>\n",
              "      <td>0.000000</td>\n",
              "      <td>0.000000</td>\n",
              "      <td>0.000000</td>\n",
              "      <td>0.000000</td>\n",
              "      <td>0.0</td>\n",
              "      <td>0.0</td>\n",
              "      <td>0.0</td>\n",
              "      <td>0.0</td>\n",
              "      <td>0.0</td>\n",
              "      <td>0.000000</td>\n",
              "      <td>0.000000</td>\n",
              "      <td>0.0</td>\n",
              "      <td>0.0</td>\n",
              "      <td>0.0</td>\n",
              "      <td>0.0</td>\n",
              "      <td>0.0</td>\n",
              "      <td>0.0</td>\n",
              "      <td>0.0</td>\n",
              "      <td>0.0</td>\n",
              "      <td>0.0</td>\n",
              "      <td>0.0</td>\n",
              "      <td>0.005445</td>\n",
              "      <td>0.033142</td>\n",
              "      <td>...</td>\n",
              "      <td>0.000000</td>\n",
              "      <td>0.00000</td>\n",
              "      <td>0.000000</td>\n",
              "      <td>0.000000</td>\n",
              "      <td>0.000000</td>\n",
              "      <td>0.000000</td>\n",
              "      <td>0.000000</td>\n",
              "      <td>0.00000</td>\n",
              "      <td>0.000000</td>\n",
              "      <td>0.000000</td>\n",
              "      <td>0.000000</td>\n",
              "      <td>0.000000</td>\n",
              "      <td>0.000000</td>\n",
              "      <td>0.000000</td>\n",
              "      <td>0.000000</td>\n",
              "      <td>0.000000</td>\n",
              "      <td>0.000000</td>\n",
              "      <td>0.000000</td>\n",
              "      <td>0.000000</td>\n",
              "      <td>0.000000</td>\n",
              "      <td>0.000000</td>\n",
              "      <td>0.000000</td>\n",
              "      <td>0.00000</td>\n",
              "      <td>0.000000</td>\n",
              "      <td>0.000000</td>\n",
              "      <td>0.00000</td>\n",
              "      <td>0.000000</td>\n",
              "      <td>0.000000</td>\n",
              "      <td>0.000000</td>\n",
              "      <td>0.00000</td>\n",
              "      <td>0.000000</td>\n",
              "      <td>0.000000</td>\n",
              "      <td>0.000000</td>\n",
              "      <td>0.000000</td>\n",
              "      <td>0.00000</td>\n",
              "      <td>0.000000</td>\n",
              "      <td>0.000000</td>\n",
              "      <td>0.000000</td>\n",
              "      <td>0.000000</td>\n",
              "      <td>0.00000</td>\n",
              "    </tr>\n",
              "  </tbody>\n",
              "</table>\n",
              "<p>2416 rows × 1601 columns</p>\n",
              "</div>"
            ],
            "text/plain": [
              "             id      px_1      px_2  ...   px_1598   px_1599  px_1600\n",
              "0     029858_01  0.011216  0.000000  ...  0.000000  0.000000  0.00000\n",
              "1     029858_02  0.000000  0.000000  ...  0.000000  0.000000  0.00000\n",
              "2     029858_03  0.000000  0.000000  ...  0.000000  0.000000  0.00000\n",
              "3     029858_05  0.000000  0.000000  ...  0.000000  0.000000  0.00000\n",
              "4     029858_07  0.000000  0.000000  ...  3.348232  2.239128  1.07867\n",
              "...         ...       ...       ...  ...       ...       ...      ...\n",
              "2411  031287_08  0.000000  0.000000  ...  0.000000  0.000000  0.00000\n",
              "2412  031288_01  0.000000  0.000000  ...  0.000000  0.000000  0.00000\n",
              "2413  031288_02  0.000000  0.000000  ...  0.004756  0.000000  0.00000\n",
              "2414  031288_08  0.000000  0.000000  ...  0.000000  0.000000  0.00000\n",
              "2415  031288_11  0.441548  0.512089  ...  0.000000  0.000000  0.00000\n",
              "\n",
              "[2416 rows x 1601 columns]"
            ]
          },
          "metadata": {
            "tags": []
          },
          "execution_count": 26
        }
      ]
    },
    {
      "cell_type": "code",
      "metadata": {
        "id": "JSKzWW_uT_T_",
        "colab_type": "code",
        "colab": {}
      },
      "source": [
        ""
      ],
      "execution_count": 0,
      "outputs": []
    }
  ]
}