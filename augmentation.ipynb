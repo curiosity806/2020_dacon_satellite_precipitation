{
  "nbformat": 4,
  "nbformat_minor": 0,
  "metadata": {
    "colab": {
      "name": "augmentation",
      "provenance": [],
      "machine_shape": "hm",
      "authorship_tag": "ABX9TyMGsih8if/gmOOm14I6vOau",
      "include_colab_link": true
    },
    "kernelspec": {
      "name": "python3",
      "display_name": "Python 3"
    }
  },
  "cells": [
    {
      "cell_type": "markdown",
      "metadata": {
        "id": "view-in-github",
        "colab_type": "text"
      },
      "source": [
        "<a href=\"https://colab.research.google.com/github/curiosity806/2020_dacon_satellite_precipitation/blob/rotation-flip%2Fbaseline/augmentation.ipynb\" target=\"_parent\"><img src=\"https://colab.research.google.com/assets/colab-badge.svg\" alt=\"Open In Colab\"/></a>"
      ]
    },
    {
      "cell_type": "code",
      "metadata": {
        "id": "80Kdr1RKl7sr",
        "colab_type": "code",
        "outputId": "2af680ef-a549-40f4-9dc1-052cb1c9c9ca",
        "colab": {
          "base_uri": "https://localhost:8080/",
          "height": 121
        }
      },
      "source": [
        "from google.colab import drive\n",
        "drive.mount('/content/drive')"
      ],
      "execution_count": 0,
      "outputs": [
        {
          "output_type": "stream",
          "text": [
            "Go to this URL in a browser: https://accounts.google.com/o/oauth2/auth?client_id=947318989803-6bn6qk8qdgf4n4g3pfee6491hc0brc4i.apps.googleusercontent.com&redirect_uri=urn%3aietf%3awg%3aoauth%3a2.0%3aoob&response_type=code&scope=email%20https%3a%2f%2fwww.googleapis.com%2fauth%2fdocs.test%20https%3a%2f%2fwww.googleapis.com%2fauth%2fdrive%20https%3a%2f%2fwww.googleapis.com%2fauth%2fdrive.photos.readonly%20https%3a%2f%2fwww.googleapis.com%2fauth%2fpeopleapi.readonly\n",
            "\n",
            "Enter your authorization code:\n",
            "··········\n",
            "Mounted at /content/drive\n"
          ],
          "name": "stdout"
        }
      ]
    },
    {
      "cell_type": "code",
      "metadata": {
        "id": "DqjrWKqCnqap",
        "colab_type": "code",
        "colab": {}
      },
      "source": [
        "import numpy as np\n",
        "import matplotlib.pyplot as plt"
      ],
      "execution_count": 0,
      "outputs": []
    },
    {
      "cell_type": "code",
      "metadata": {
        "id": "QB-4U-ugmRND",
        "colab_type": "code",
        "colab": {}
      },
      "source": [
        "import os.path\n",
        "\n",
        "if not os.path.isfile('train.npy'):\n",
        "    !cp '/content/drive/My Drive/2020 Kaggle Study/data/train.npy' train.npy\n",
        "\n",
        "train = np.load('train.npy')  # float32"
      ],
      "execution_count": 0,
      "outputs": []
    },
    {
      "cell_type": "code",
      "metadata": {
        "id": "aJlFQW8nmwk4",
        "colab_type": "code",
        "colab": {}
      },
      "source": [
        "def r(a, n=1):\n",
        "    return np.rot90(a, n, (1, 2))\n",
        "\n",
        "def f_ud(a):\n",
        "    return np.flip(a, 1)\n",
        "\n",
        "def f_lr(a):\n",
        "    return np.flip(a, 2)\n",
        "\n",
        "def t(a):\n",
        "    return np.transpose(a, (0, 2, 1, 3))"
      ],
      "execution_count": 0,
      "outputs": []
    },
    {
      "cell_type": "code",
      "metadata": {
        "id": "DewNNfuXkgR_",
        "colab_type": "code",
        "colab": {}
      },
      "source": [
        "abcd = train\n",
        "acbd = r(f_lr(train))\n",
        "badc = f_lr(train)\n",
        "bdac = r(train)\n",
        "cadb = r(train, 3)\n",
        "cdab = f_ud(train)\n",
        "dbca = t(r(train, 2))\n",
        "dcba = r(train, 2)"
      ],
      "execution_count": 0,
      "outputs": []
    },
    {
      "cell_type": "code",
      "metadata": {
        "id": "TZt3fL5omymA",
        "colab_type": "code",
        "colab": {}
      },
      "source": [
        "file_path = '/content/drive/My Drive/2020 Kaggle Study/data/rotation_flip/train{}.npy'\n",
        "\n",
        "abcd.save(file_path.format(0))\n",
        "acbd.save(file_path.format(1))\n",
        "badc.save(file_path.format(2))\n",
        "bdac.save(file_path.format(3))\n",
        "cadb.save(file_path.format(4))\n",
        "cdab.save(file_path.format(5))\n",
        "dbca.save(file_path.format(6))\n",
        "dcba.save(file_path.format(7))"
      ],
      "execution_count": 0,
      "outputs": []
    },
    {
      "cell_type": "code",
      "metadata": {
        "id": "QM-C73Ya9Hey",
        "colab_type": "code",
        "colab": {}
      },
      "source": [
        "abcd_acbd = np.concatenate((abcd, acbd), 0)"
      ],
      "execution_count": 0,
      "outputs": []
    },
    {
      "cell_type": "code",
      "metadata": {
        "id": "pFmaogbamkWU",
        "colab_type": "code",
        "outputId": "c9f3cd5d-43a2-49f3-db7f-9fb4c65da861",
        "colab": {
          "base_uri": "https://localhost:8080/",
          "height": 267
        }
      },
      "source": [
        "a = train[0, :, :, 5]\n",
        "plt.imshow(a)\n",
        "plt.show()"
      ],
      "execution_count": 0,
      "outputs": [
        {
          "output_type": "display_data",
          "data": {
            "image/png": "[encoded data removed]",
            "text/plain": [
              "<Figure size 432x288 with 1 Axes>"
            ]
          },
          "metadata": {
            "tags": [],
            "needs_background": "light"
          }
        }
      ]
    },
    {
      "cell_type": "code",
      "metadata": {
        "id": "5DoLs0_k77eA",
        "colab_type": "code",
        "outputId": "6537e2d3-f818-4029-9fca-6948675a884d",
        "colab": {
          "base_uri": "https://localhost:8080/",
          "height": 267
        }
      },
      "source": [
        "a = np.transpose(train, (0, 2, 1, 3))[0, :, :, 5]  # transpose\n",
        "plt.imshow(a)\n",
        "plt.show()"
      ],
      "execution_count": 0,
      "outputs": [
        {
          "output_type": "display_data",
          "data": {
            "image/png": "[encoded data removed]",
            "text/plain": [
              "<Figure size 432x288 with 1 Axes>"
            ]
          },
          "metadata": {
            "tags": [],
            "needs_background": "light"
          }
        }
      ]
    },
    {
      "cell_type": "code",
      "metadata": {
        "id": "UzuOoDX3pacy",
        "colab_type": "code",
        "outputId": "399c2a90-91ba-4458-f419-7ba6506185ef",
        "colab": {
          "base_uri": "https://localhost:8080/",
          "height": 267
        }
      },
      "source": [
        "plt.imshow(np.rot90(train, 1, (1, 2))[0, :, :, 0])  # 왼쪽 90도\n",
        "plt.show()"
      ],
      "execution_count": 0,
      "outputs": [
        {
          "output_type": "display_data",
          "data": {
            "image/png": "[encoded data removed]",
            "text/plain": [
              "<Figure size 432x288 with 1 Axes>"
            ]
          },
          "metadata": {
            "tags": [],
            "needs_background": "light"
          }
        }
      ]
    },
    {
      "cell_type": "code",
      "metadata": {
        "id": "ovEzgaYppCfR",
        "colab_type": "code",
        "outputId": "d62791ef-ad3f-4bc7-9a60-d898a9e1a8f7",
        "colab": {
          "base_uri": "https://localhost:8080/",
          "height": 235
        }
      },
      "source": [
        "np.flip(train, 2)[0, :, :, 0]  # left-right flip"
      ],
      "execution_count": 0,
      "outputs": [
        {
          "output_type": "execute_result",
          "data": {
            "text/plain": [
              "array([[173.28308, 173.87192, 173.03848, ..., 173.59732, 174.91165,\n",
              "        174.67711],\n",
              "       [173.17508, 174.55893, 173.30397, ..., 174.28555, 174.80511,\n",
              "        173.48848],\n",
              "       [173.22388, 173.15103, 173.05702, ..., 173.06757, 172.76883,\n",
              "        173.3006 ],\n",
              "       ...,\n",
              "       [175.14757, 175.50208, 175.40817, ..., 174.41496, 174.67131,\n",
              "        174.22482],\n",
              "       [174.75473, 176.35051, 175.38191, ..., 174.10208, 174.43561,\n",
              "        174.01556],\n",
              "       [175.48964, 174.91643, 175.51073, ..., 175.17825, 174.10754,\n",
              "        174.40747]], dtype=float32)"
            ]
          },
          "metadata": {
            "tags": []
          },
          "execution_count": 7
        }
      ]
    },
    {
      "cell_type": "code",
      "metadata": {
        "id": "Vjc2KjjopT6L",
        "colab_type": "code",
        "outputId": "658fc270-22f7-46b3-abca-b5d663398405",
        "colab": {
          "base_uri": "https://localhost:8080/",
          "height": 235
        }
      },
      "source": [
        "np.flip(train, 1)[0, :, :, 0]  # up-down flip"
      ],
      "execution_count": 0,
      "outputs": [
        {
          "output_type": "execute_result",
          "data": {
            "text/plain": [
              "array([[174.40747, 174.10754, 175.17825, ..., 175.51073, 174.91643,\n",
              "        175.48964],\n",
              "       [174.01556, 174.43561, 174.10208, ..., 175.38191, 176.35051,\n",
              "        174.75473],\n",
              "       [174.22482, 174.67131, 174.41496, ..., 175.40817, 175.50208,\n",
              "        175.14757],\n",
              "       ...,\n",
              "       [173.3006 , 172.76883, 173.06757, ..., 173.05702, 173.15103,\n",
              "        173.22388],\n",
              "       [173.48848, 174.80511, 174.28555, ..., 173.30397, 174.55893,\n",
              "        173.17508],\n",
              "       [174.67711, 174.91165, 173.59732, ..., 173.03848, 173.87192,\n",
              "        173.28308]], dtype=float32)"
            ]
          },
          "metadata": {
            "tags": []
          },
          "execution_count": 8
        }
      ]
    },
    {
      "cell_type": "code",
      "metadata": {
        "id": "HL4ngkR_DUWc",
        "colab_type": "code",
        "outputId": "3c8e2c9d-7911-482d-964c-f8f90f33d364",
        "colab": {
          "base_uri": "https://localhost:8080/",
          "height": 50
        }
      },
      "source": [
        "a = np.array([[1, 2], [3, 4]])\n",
        "a"
      ],
      "execution_count": 0,
      "outputs": [
        {
          "output_type": "execute_result",
          "data": {
            "text/plain": [
              "array([[1, 2],\n",
              "       [3, 4]])"
            ]
          },
          "metadata": {
            "tags": []
          },
          "execution_count": 40
        }
      ]
    },
    {
      "cell_type": "code",
      "metadata": {
        "id": "bnujKsN1HUG1",
        "colab_type": "code",
        "outputId": "7b72f7d4-fd35-4003-9028-d00391fafe68",
        "colab": {
          "base_uri": "https://localhost:8080/",
          "height": 50
        }
      },
      "source": [
        "f_lr(a)"
      ],
      "execution_count": 0,
      "outputs": [
        {
          "output_type": "execute_result",
          "data": {
            "text/plain": [
              "array([[2, 1],\n",
              "       [4, 3]])"
            ]
          },
          "metadata": {
            "tags": []
          },
          "execution_count": 46
        }
      ]
    },
    {
      "cell_type": "code",
      "metadata": {
        "id": "t-imQhduDbSF",
        "colab_type": "code",
        "colab": {}
      },
      "source": [
        "def r(a):\n",
        "    return np.rot90(a, 1, (0, 1))\n",
        "\n",
        "def f_lr(a):\n",
        "    return np.fliplr(a)\n",
        "\n",
        "def f_up(a):\n",
        "    return np.flipud(a)\n",
        "\n",
        "def t(a):\n",
        "    return a.transpose()\n",
        "\n",
        "def u(a):\n",
        "    return r(f_lr(a))"
      ],
      "execution_count": 0,
      "outputs": []
    },
    {
      "cell_type": "code",
      "metadata": {
        "id": "t6zA0bQNEJqr",
        "colab_type": "code",
        "outputId": "222a3979-f4a7-445b-9c1c-b9d8abfeb3a1",
        "colab": {
          "base_uri": "https://localhost:8080/",
          "height": 34
        }
      },
      "source": [
        "cnt = 0\n",
        "arr = {}\n",
        "\n",
        "for i in range(3):\n",
        "    b = a\n",
        "\n",
        "    for ii in range(i):\n",
        "        b = r(b)\n",
        "\n",
        "    for j in range(2):\n",
        "        for jj in range(j):\n",
        "            b = f_lr(b)\n",
        "\n",
        "        for k in range(2):\n",
        "            for kk in range(k):\n",
        "                b = f_up(a)\n",
        "\n",
        "            for l in range(2):\n",
        "                for ll in range(l):\n",
        "                    b = t(b)\n",
        "\n",
        "                for m in range(2):\n",
        "                    for mm in range(m):\n",
        "                        b = u(b)\n",
        "\n",
        "                    # print(i, j, k, l, m)\n",
        "                    # print(b)\n",
        "                    arr[i, j, k, l, m] = b\n",
        "                    cnt += 1\n",
        "\n",
        "cnt\n",
        "# np.array_equal(a, b)"
      ],
      "execution_count": 0,
      "outputs": [
        {
          "output_type": "execute_result",
          "data": {
            "text/plain": [
              "48"
            ]
          },
          "metadata": {
            "tags": []
          },
          "execution_count": 53
        }
      ]
    },
    {
      "cell_type": "code",
      "metadata": {
        "id": "sV-jM5CsIbn-",
        "colab_type": "code",
        "outputId": "ba777d73-8eb4-4f42-aa62-93040cc0b006",
        "colab": {
          "base_uri": "https://localhost:8080/",
          "height": 420
        }
      },
      "source": [
        "arr2 = {}\n",
        "\n",
        "for i, j, k, l, m in arr:\n",
        "    check = False\n",
        "    for ii, jj, kk, ll, mm in arr2:\n",
        "        if np.array_equal(arr[i, j, k, l, m], arr2[ii, jj, kk, ll, mm]):\n",
        "            check = True\n",
        "    if not check:\n",
        "        arr2[i, j, k, l, m] = arr[i, j, k, l, m]\n",
        "        print(i, j, k, l, m)\n",
        "        print(arr[i, j, k, l, m])"
      ],
      "execution_count": 0,
      "outputs": [
        {
          "output_type": "stream",
          "text": [
            "0 0 0 0 0\n",
            "[[1 2]\n",
            " [3 4]]\n",
            "0 0 0 0 1\n",
            "[[1 3]\n",
            " [2 4]]\n",
            "0 0 1 0 0\n",
            "[[3 4]\n",
            " [1 2]]\n",
            "0 0 1 0 1\n",
            "[[3 1]\n",
            " [4 2]]\n",
            "1 0 0 0 0\n",
            "[[2 4]\n",
            " [1 3]]\n",
            "1 0 0 0 1\n",
            "[[2 1]\n",
            " [4 3]]\n",
            "2 0 0 0 0\n",
            "[[4 3]\n",
            " [2 1]]\n",
            "2 0 0 0 1\n",
            "[[4 2]\n",
            " [3 1]]\n"
          ],
          "name": "stdout"
        }
      ]
    }
  ]
}